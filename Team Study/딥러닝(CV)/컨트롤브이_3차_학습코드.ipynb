{
 "cells": [
  {
   "cell_type": "markdown",
   "metadata": {},
   "source": [
    "## forward-propagating a single neuron"
   ]
  },
  {
   "cell_type": "code",
   "execution_count": 34,
   "metadata": {},
   "outputs": [],
   "source": [
    "import numpy as np"
   ]
  },
  {
   "cell_type": "code",
   "execution_count": 35,
   "metadata": {},
   "outputs": [],
   "source": [
    "class Neuron(object):\n",
    "  # ...\n",
    "  def forward(self, inputs):\n",
    "    \"\"\" assume inputs and weights are 1-D numpy arrays and bias is a number \"\"\"\n",
    "    cell_body_sum = np.sum(inputs * self.weights) + self.bias # 선형결합\n",
    "    firing_rate = 1.0 / (1.0 + math.exp(-cell_body_sum)) # 시그모이드 활성화 함수\n",
    "    return firing_rate"
   ]
  },
  {
   "cell_type": "markdown",
   "metadata": {},
   "source": [
    "### Example feed-forward computation"
   ]
  },
  {
   "cell_type": "code",
   "execution_count": null,
   "metadata": {},
   "outputs": [],
   "source": [
    "W = np.random.randn(10, 3072) * 0.0001 # generate random parameters"
   ]
  },
  {
   "cell_type": "code",
   "execution_count": null,
   "metadata": {},
   "outputs": [],
   "source": [
    "# forward-pass of a 3-layer neural network:\n",
    "f = lambda x: 1.0/(1.0 + np.exp(-x)) # activation function (use sigmoid)\n",
    "x = np.random.randn(3, 1) # random input vector of three numbers (3x1)\n",
    "h1 = f(np.dot(W1, x) + b1) # calculate first hidden layer activations (4x1)\n",
    "h2 = f(np.dot(W2, h1) + b2) # calculate second hidden layer activations (4x1)\n",
    "out = np.dot(W3, h2) + b3 # output neuron (1x1)"
   ]
  },
  {
   "cell_type": "markdown",
   "metadata": {},
   "source": [
    "# Fully-Connected Neural Nets\n",
    "In this exercise we will implement fully-connected networks using a modular approach. For each layer we will implement a `forward` and a `backward` function. The `forward` function will receive inputs, weights, and other parameters and will return both an output and a `cache` object storing data needed for the backward pass, like this:\n",
    "\n",
    "```python\n",
    "def layer_forward(x, w):\n",
    "  \"\"\" Receive inputs x and weights w \"\"\"\n",
    "  # Do some computations ...\n",
    "  z = # ... some intermediate value\n",
    "  # Do some more computations ...\n",
    "  out = # the output\n",
    "   \n",
    "  cache = (x, w, z, out) # Values we need to compute gradients\n",
    "   \n",
    "  return out, cache\n",
    "```\n",
    "\n",
    "The backward pass will receive upstream derivatives and the `cache` object, and will return gradients with respect to the inputs and weights, like this:\n",
    "\n",
    "```python\n",
    "def layer_backward(dout, cache):\n",
    "  \"\"\"\n",
    "  Receive dout (derivative of loss with respect to outputs) and cache,\n",
    "  and compute derivative with respect to inputs.\n",
    "  \"\"\"\n",
    "  # Unpack cache values\n",
    "  x, w, z, out = cache\n",
    "  \n",
    "  # Use values in cache to compute derivatives\n",
    "  dx = # Derivative of loss with respect to x\n",
    "  dw = # Derivative of loss with respect to w\n",
    "  \n",
    "  return dx, dw\n",
    "```\n",
    "\n",
    "After implementing a bunch of layers this way, we will be able to easily combine them to build classifiers with different architectures.\n",
    "  "
   ]
  },
  {
   "cell_type": "code",
   "execution_count": null,
   "metadata": {},
   "outputs": [],
   "source": [
    "# As usual, a bit of setup\n",
    "from __future__ import print_function\n",
    "import time\n",
    "import numpy as np\n",
    "import matplotlib.pyplot as plt\n",
    "from cs231n.classifiers.fc_net import *\n",
    "from cs231n.data_utils import get_CIFAR10_data\n",
    "from cs231n.gradient_check import eval_numerical_gradient, eval_numerical_gradient_array\n",
    "from cs231n.solver import Solver\n",
    "\n",
    "%matplotlib inline\n",
    "plt.rcParams['figure.figsize'] = (10.0, 8.0) # set default size of plots\n",
    "plt.rcParams['image.interpolation'] = 'nearest'\n",
    "plt.rcParams['image.cmap'] = 'gray'\n",
    "\n",
    "# for auto-reloading external modules\n",
    "# see http://stackoverflow.com/questions/1907993/autoreload-of-modules-in-ipython\n",
    "%load_ext autoreload\n",
    "%autoreload 2\n",
    "\n",
    "def rel_error(x, y):\n",
    "  \"\"\" returns relative error \"\"\"\n",
    "  return np.max(np.abs(x - y) / (np.maximum(1e-8, np.abs(x) + np.abs(y))))"
   ]
  },
  {
   "cell_type": "code",
   "execution_count": null,
   "metadata": {},
   "outputs": [
    {
     "name": "stdout",
     "output_type": "stream",
     "text": [
      "('X_train: ', (49000, 3, 32, 32))\n",
      "('y_train: ', (49000,))\n",
      "('X_val: ', (1000, 3, 32, 32))\n",
      "('y_val: ', (1000,))\n",
      "('X_test: ', (1000, 3, 32, 32))\n",
      "('y_test: ', (1000,))\n"
     ]
    }
   ],
   "source": [
    "# Load the (preprocessed) CIFAR10 data.\n",
    "\n",
    "data = get_CIFAR10_data()\n",
    "for k, v in list(data.items()):\n",
    "  print(('%s: ' % k, v.shape))"
   ]
  },
  {
   "cell_type": "markdown",
   "metadata": {},
   "source": [
    "# Affine layer: forward\n",
    "Open the file `cs231n/layers.py` and implement the `affine_forward` function.\n",
    "\n",
    "Once you are done you can test your implementaion by running the following:"
   ]
  },
  {
   "cell_type": "code",
   "execution_count": null,
   "metadata": {},
   "outputs": [],
   "source": [
    "def affine_forward(x, w, b):\n",
    "\n",
    "    out = None\n",
    "\n",
    "    # *****START OF YOUR CODE (DO NOT DELETE/MODIFY THIS LINE)*****\n",
    "\n",
    "    num_train = x.shape[0] # 배치크기, 학습에 사용되는 데이터 샘플의 개수\n",
    "    out = np.dot(np.reshape(x, [num_train,-1]), w) + b # out = xW+b, 선형변환\n",
    "\n",
    "    # *****END OF YOUR CODE (DO NOT DELETE/MODIFY THIS LINE)*****\n",
    "\n",
    "    cache = (x, w, b) # backward에서 사용할 수 있도록 변수들 저장\n",
    "    return out, cache\n"
   ]
  },
  {
   "cell_type": "code",
   "execution_count": null,
   "metadata": {},
   "outputs": [
    {
     "name": "stdout",
     "output_type": "stream",
     "text": [
      "Testing affine_forward function:\n",
      "difference:  9.769849468192957e-10\n"
     ]
    }
   ],
   "source": [
    "# Test the affine_forward function\n",
    "\n",
    "num_inputs = 2 # 배치 크기. 즉, 입력 샘플의 개수는 2개\n",
    "input_shape = (4, 5, 6) # 각 입력 샘플의 차원. 입력 데이터는 4x5x6 크기를 가진 텐서(tensor)로, 총 120개의 요소(픽셀 등)를 포함하는 배열\n",
    "output_dim = 3 # 출력 차원의 크기. affine_forward 함수가 각 입력 샘플을 3개의 출력 값으로 변환함을 의미\n",
    "\n",
    "\n",
    "input_size = num_inputs * np.prod(input_shape) # 전체 입력 데이터의 크기\n",
    "weight_size = output_dim * np.prod(input_shape) # 가중치 행렬의 크기 계산, 3 * 120 = 360\n",
    "\n",
    "\n",
    "x = np.linspace(-0.1, 0.5, num=input_size).reshape(num_inputs, *input_shape) # -0.1부터 0.5까지의 값을 input_size만큼(240개) 생성한 후, 입력 샘플 크기에 맞게 (2, 4, 5, 6)으로 변형\n",
    "w = np.linspace(-0.2, 0.3, num=weight_size).reshape(np.prod(input_shape), output_dim) # -0.2부터 0.3까지의 값을 weight_size만큼(360개) 생성한 후, 이를 (120, 3) 크기의 가중치 행렬로 변환\n",
    "b = np.linspace(-0.3, 0.1, num=output_dim) # -0.3부터 0.1까지의 값을 output_dim만큼(3개) 생성하여 편향으로 사용\n",
    "\n",
    "\n",
    "out, _ = affine_forward(x, w, b) # cache는 역전파에서 사용할 수 있는 값이지만, 이 테스트에서는 사용되지 않으므로 _로 처리\n",
    "correct_out = np.array([[ 1.49834967,  1.70660132,  1.91485297],\n",
    "                        [ 3.25553199,  3.5141327,   3.77273342]])\n",
    "# affine_forward 함수가 제대로 구현되었다면 correct_out값과 out의 값이 거의 일치해야 함\n",
    "\n",
    "\n",
    "# Compare your output with ours. The error should be around e-9 or less.\n",
    "print('Testing affine_forward function:')\n",
    "print('difference: ', rel_error(out, correct_out))"
   ]
  },
  {
   "cell_type": "markdown",
   "metadata": {},
   "source": [
    "# Affine layer: backward\n",
    "Now implement the `affine_backward` function and test your implementation using numeric gradient checking."
   ]
  },
  {
   "cell_type": "code",
   "execution_count": null,
   "metadata": {},
   "outputs": [],
   "source": [
    "def affine_backward(dout, cache):\n",
    "\n",
    "    x, w, b = cache\n",
    "    dx, dw, db = None, None, None\n",
    "\n",
    "    # *****START OF YOUR CODE (DO NOT DELETE/MODIFY THIS LINE)*****\n",
    "\n",
    "    dx = np.reshape(np.dot(dout, w.T), x.shape) # dout에 W를 내적\n",
    "    dw = np.dot(np.reshape(x,[x.shape[0],-1]).T,dout) # X를 곱해주고 (곱셈 함수의 역전파는 switch)\n",
    "    db = np.reshape(np.sum(dout,axis=0),b.shape) # dout의 합을 구해주면 gradient를 구할 수 있음\n",
    "\n",
    "    # *****END OF YOUR CODE (DO NOT DELETE/MODIFY THIS LINE)*****\n",
    "\n",
    "    return dx, dw, db"
   ]
  },
  {
   "cell_type": "code",
   "execution_count": null,
   "metadata": {},
   "outputs": [
    {
     "name": "stdout",
     "output_type": "stream",
     "text": [
      "Testing affine_backward function:\n",
      "dx error:  5.399100368651805e-11\n",
      "dw error:  9.904211865398145e-11\n",
      "db error:  2.4122867568119087e-11\n"
     ]
    }
   ],
   "source": [
    "# Test the affine_backward function\n",
    "np.random.seed(231)\n",
    "x = np.random.randn(10, 2, 3)\n",
    "w = np.random.randn(6, 5)\n",
    "b = np.random.randn(5)\n",
    "dout = np.random.randn(10, 5)\n",
    "\n",
    "dx_num = eval_numerical_gradient_array(lambda x: affine_forward(x, w, b)[0], x, dout)\n",
    "dw_num = eval_numerical_gradient_array(lambda w: affine_forward(x, w, b)[0], w, dout)\n",
    "db_num = eval_numerical_gradient_array(lambda b: affine_forward(x, w, b)[0], b, dout)\n",
    "\n",
    "_, cache = affine_forward(x, w, b)\n",
    "dx, dw, db = affine_backward(dout, cache)\n",
    "\n",
    "# The error should be around e-10 or less\n",
    "print('Testing affine_backward function:')\n",
    "print('dx error: ', rel_error(dx_num, dx))\n",
    "print('dw error: ', rel_error(dw_num, dw))\n",
    "print('db error: ', rel_error(db_num, db))"
   ]
  },
  {
   "cell_type": "markdown",
   "metadata": {},
   "source": [
    "# ReLU activation: forward\n",
    "Implement the forward pass for the ReLU activation function in the `relu_forward` function and test your implementation using the following:"
   ]
  },
  {
   "cell_type": "code",
   "execution_count": null,
   "metadata": {},
   "outputs": [],
   "source": [
    "def relu_forward(x):\n",
    "\n",
    "    out = None\n",
    "\n",
    "    # *****START OF YOUR CODE (DO NOT DELETE/MODIFY THIS LINE)*****\n",
    "\n",
    "    zero_mask = x < 0 # True는 해당 요소가 0보다 작음, False는 0 이상임을 의미\n",
    "    out = x * ~zero_mask # ~zero_mask는 zero_mask의 모든 요소를 반전. True는 False로, False는 True로 변환.\n",
    "    # 결과적으로, x와 ~zero_mask를 곱하면 0보다 큰 값은 그대로 유지되고, 0 이하의 값은 0이 됨. 이는 ReLU의 정의와 일치\n",
    "\n",
    "    # *****END OF YOUR CODE (DO NOT DELETE/MODIFY THIS LINE)*****\n",
    "\n",
    "    cache = x\n",
    "    return out, cache"
   ]
  },
  {
   "cell_type": "code",
   "execution_count": null,
   "metadata": {},
   "outputs": [
    {
     "name": "stdout",
     "output_type": "stream",
     "text": [
      "Testing relu_forward function:\n",
      "difference:  4.999999798022158e-08\n"
     ]
    }
   ],
   "source": [
    "# Test the relu_forward function\n",
    "\n",
    "x = np.linspace(-0.5, 0.5, num=12).reshape(3, 4)\n",
    "\n",
    "out, _ = relu_forward(x)\n",
    "correct_out = np.array([[ 0.,          0.,          0.,          0.,        ],\n",
    "                        [ 0.,          0.,          0.04545455,  0.13636364,],\n",
    "                        [ 0.22727273,  0.31818182,  0.40909091,  0.5,       ]])\n",
    "\n",
    "# Compare your output with ours. The error should be on the order of e-8\n",
    "print('Testing relu_forward function:')\n",
    "print('difference: ', rel_error(out, correct_out))"
   ]
  },
  {
   "cell_type": "markdown",
   "metadata": {},
   "source": [
    "# ReLU activation: backward\n",
    "Now implement the backward pass for the ReLU activation function in the `relu_backward` function and test your implementation using numeric gradient checking:"
   ]
  },
  {
   "cell_type": "code",
   "execution_count": null,
   "metadata": {},
   "outputs": [],
   "source": [
    "def relu_backward(dout, cache):\n",
    "\n",
    "    dx, x = None, cache\n",
    "\n",
    "    # *****START OF YOUR CODE (DO NOT DELETE/MODIFY THIS LINE)*****\n",
    "\n",
    "    zero_mask = x < 0\n",
    "    dx = dout * ~zero_mask # ~zero_mask를 통해 0 이하의 입력에 대해 False가 되어 해당 요소에 대한 기울기가 0이 됨, 0보다 큰 입력에 대해서는 dout이 그대로 dx에 저장\n",
    "\n",
    "    # *****END OF YOUR CODE (DO NOT DELETE/MODIFY THIS LINE)*****\n",
    "\n",
    "    return dx"
   ]
  },
  {
   "cell_type": "code",
   "execution_count": null,
   "metadata": {},
   "outputs": [
    {
     "name": "stdout",
     "output_type": "stream",
     "text": [
      "Testing relu_backward function:\n",
      "dx error:  3.2756349136310288e-12\n"
     ]
    }
   ],
   "source": [
    "np.random.seed(231)\n",
    "x = np.random.randn(10, 10)\n",
    "dout = np.random.randn(*x.shape)\n",
    "\n",
    "dx_num = eval_numerical_gradient_array(lambda x: relu_forward(x)[0], x, dout)\n",
    "\n",
    "_, cache = relu_forward(x)\n",
    "dx = relu_backward(dout, cache)\n",
    "\n",
    "# The error should be on the order of e-12\n",
    "print('Testing relu_backward function:')\n",
    "print('dx error: ', rel_error(dx_num, dx))"
   ]
  },
  {
   "cell_type": "markdown",
   "metadata": {},
   "source": [
    "# PCA & Whitening"
   ]
  },
  {
   "cell_type": "code",
   "execution_count": 20,
   "metadata": {},
   "outputs": [],
   "source": [
    "# 예시 데이터 생성\n",
    "N, D = 100, 5  \n",
    "X = np.random.randn(N, D)  # N x D 크기의 랜덤 데이터 행렬 생성"
   ]
  },
  {
   "cell_type": "code",
   "execution_count": 21,
   "metadata": {},
   "outputs": [
    {
     "data": {
      "text/plain": [
       "array([[-0.37579551,  0.21438231, -0.00938143,  1.91190622, -1.59904665],\n",
       "       [-0.81413515, -0.33499853,  0.88300316, -0.90828759, -0.45329856],\n",
       "       [-0.88682066, -0.45989598, -0.88406704,  0.69134597, -1.17360918],\n",
       "       [-0.39437453,  0.63398188, -0.09472117, -0.110321  , -1.08037328],\n",
       "       [-0.33545708, -0.02030953, -0.57185874,  0.48883732, -0.626043  ],\n",
       "       [ 0.72511646, -0.10681713,  0.54287538,  1.23874095, -0.57939359],\n",
       "       [ 0.11438944,  0.76156968,  0.67053267,  1.4965467 ,  0.68408607],\n",
       "       [-0.21634877, -0.94454656,  0.20716888,  0.68032056, -1.03990847],\n",
       "       [-0.16157406, -0.99641093,  1.26984682, -1.53210994, -0.24666169],\n",
       "       [-0.43828195,  1.17967066, -0.39062667,  1.09337007,  0.95231289],\n",
       "       [ 1.38482293,  0.21665398, -0.34255984,  0.37680674,  0.08213549],\n",
       "       [ 0.56681685,  0.31751971,  1.16406782,  1.98016535,  0.69504898],\n",
       "       [-0.07168737,  0.4713925 ,  0.16695312, -1.36831103, -0.10168883],\n",
       "       [ 0.15536564, -0.2253479 , -0.82234975,  2.04901909, -0.51449441],\n",
       "       [-0.67898474, -0.87670921,  0.12962804, -1.57212315,  0.22102938],\n",
       "       [ 1.15648523, -1.87112044,  0.77223884,  0.19353472,  0.6440024 ],\n",
       "       [-0.5589772 , -1.67986855,  1.23959953,  0.49027979, -0.48979319],\n",
       "       [ 1.82334944,  0.86893489, -1.62033635, -0.49844531,  0.56459059],\n",
       "       [ 1.10056217, -0.42320185,  0.16892883, -0.49007198, -0.56231093],\n",
       "       [ 1.58423333,  0.31616931,  0.97860265,  0.26368349,  0.78602078],\n",
       "       [-0.81220209,  0.82472712,  0.25608385, -0.15589749,  0.18913252],\n",
       "       [ 0.31274862, -0.0748892 , -0.06640769,  0.19941289,  0.41905893],\n",
       "       [ 1.25845975, -1.52861791,  1.46890064,  0.12978397, -0.04990335],\n",
       "       [ 0.64636463,  0.44395613, -0.43977512,  2.10809506, -0.53147821],\n",
       "       [ 0.08178548, -0.9405307 ,  1.07466618,  0.67602485,  0.77380814],\n",
       "       [-0.19533217, -1.38283204,  0.21619053, -0.27081307, -1.04200583],\n",
       "       [ 1.8751654 , -0.30390386, -1.85319868, -1.44361527,  2.10225571],\n",
       "       [ 0.81495118,  0.84900638,  1.08884036, -0.35050743, -0.33731996],\n",
       "       [-0.74238763, -0.72060111, -0.1184374 , -1.80673036, -1.27158979],\n",
       "       [-0.2684604 , -1.64114264, -1.09697862, -1.27400153, -0.89916071],\n",
       "       [-0.31691052,  1.11660659, -0.29597068, -0.5052941 ,  1.22272591],\n",
       "       [-1.20387475, -0.63584512, -0.28296562, -1.15413236,  0.22412792],\n",
       "       [-1.62093424,  0.71454836, -1.71473852, -0.1790125 , -0.34284505],\n",
       "       [ 0.34094823,  1.26312498,  1.47717075,  0.78993619, -1.66164209],\n",
       "       [-0.17826112, -1.40500174, -0.76327059,  0.24957212, -0.92364641],\n",
       "       [-0.80612445,  0.41092836,  1.23480654, -0.72160813,  0.96238438],\n",
       "       [ 0.6237317 ,  0.7362954 , -0.67904773,  0.33276158, -0.35708944],\n",
       "       [-0.34382861, -0.98617315,  0.27547496, -0.52119667,  2.45831628],\n",
       "       [ 0.60977879, -1.43857445, -0.48182272,  0.99168174,  0.40293385],\n",
       "       [-0.19015506, -0.3256229 , -0.62200208,  1.28139226, -0.8904046 ],\n",
       "       [-0.05966058,  0.38743679,  1.80457151, -1.12796891,  0.58186187],\n",
       "       [ 0.73386147, -0.03671594, -1.02806992,  1.98355907, -1.20343551],\n",
       "       [ 1.26753344,  1.39350851,  0.53866703,  0.63958497, -1.87235761],\n",
       "       [ 0.5963163 ,  1.66697908, -0.63837929,  0.60716239,  0.81220783],\n",
       "       [-0.73243125,  0.42630198,  1.49879717,  1.71498974,  0.1789375 ],\n",
       "       [ 0.28943963,  0.25824104, -0.2910522 , -0.0789851 , -0.38067999],\n",
       "       [ 0.63488384, -0.24271437,  0.59013314,  0.1266403 , -3.33182094],\n",
       "       [ 0.3278956 , -0.01383694,  1.43513903,  1.26218454,  0.70284914],\n",
       "       [-0.24137373, -0.08985769, -1.34603505, -0.79241738, -0.31289798],\n",
       "       [-1.25298452, -0.7873694 , -0.29352608, -1.27776323, -0.64788343],\n",
       "       [-0.02076832,  0.06822392,  0.5726034 ,  0.42594028, -0.26707422],\n",
       "       [ 0.79606824, -1.22319171,  0.68077917, -0.42586655, -1.370051  ],\n",
       "       [ 0.39033883, -2.27529012, -0.34283809,  0.27114513,  0.52483223],\n",
       "       [-0.19439984,  1.79402366,  0.80074907, -0.143856  , -1.14336371],\n",
       "       [-0.20188622,  0.6280685 , -0.06197477, -0.65868051, -1.09876001],\n",
       "       [-0.87773162, -0.53999609, -0.77343083,  0.11843516, -0.81093151],\n",
       "       [-0.77005179,  1.47634978, -0.25347496, -1.1952369 , -0.8071228 ],\n",
       "       [ 0.09066524,  0.86511601, -0.97185483, -1.20601683, -1.24266775],\n",
       "       [ 1.15808912, -0.27131181,  1.03010718,  1.44463435,  0.82064842],\n",
       "       [ 1.89707693,  0.75761755,  0.83771625, -1.35451437, -0.74960037],\n",
       "       [-0.28987565,  0.12646873, -0.62309673, -0.62104568,  0.48291385],\n",
       "       [-1.20800947,  2.57559101,  3.63754788,  0.95092491,  0.97345033],\n",
       "       [-0.53774128, -0.37056733, -0.86715313, -0.43369915,  0.31021285],\n",
       "       [-0.45420654,  0.28417275,  1.94053109, -0.50219037,  0.63244172],\n",
       "       [-1.15222051,  0.96749173, -0.90639933, -2.33163201, -0.36771331],\n",
       "       [-0.48121875, -0.57633086, -0.8082746 ,  0.90330332,  0.31310873],\n",
       "       [-0.87101765, -0.48370395, -0.91792439,  0.2797988 , -0.64110417],\n",
       "       [-0.54112749,  0.36557286, -1.40789554, -0.67092513,  1.95735117],\n",
       "       [ 0.10029698,  1.66242362,  2.28061806, -1.27690689, -1.02109011],\n",
       "       [-0.97855627,  0.4519785 ,  1.12440131,  0.57345704, -1.16644677],\n",
       "       [-0.17236606, -0.61740278,  0.74517692,  0.07683776, -0.75733326],\n",
       "       [-0.18911544,  0.13041089,  0.21808819,  0.23835674,  0.16370705],\n",
       "       [-1.16090927, -0.71632422, -0.51510923,  0.76870261,  1.19491681],\n",
       "       [ 2.27151748,  2.47892992,  0.74161958,  0.46115241,  1.02218565],\n",
       "       [ 1.09896587, -0.35669287,  1.89510799,  0.42259494, -1.81918196],\n",
       "       [ 0.99335268, -0.60530884, -0.07510282,  1.54336944,  0.32512484],\n",
       "       [ 0.81484874,  0.36458655,  0.2091239 , -2.05733945, -0.26426368],\n",
       "       [-0.27376875,  0.36361962, -0.60715363, -0.43711398,  0.00465701],\n",
       "       [ 0.21993677, -1.55251832, -0.78590141,  0.8520102 ,  0.96412953],\n",
       "       [-0.12741136,  0.1094179 , -1.31654616, -1.18673053, -1.13825164],\n",
       "       [ 1.45432044,  0.00493225, -0.19804197, -0.56115966, -0.20287655],\n",
       "       [-0.90148441,  0.15604568, -0.54452257,  0.33147408,  1.15222773],\n",
       "       [ 1.50102301,  0.02499589, -0.61481413,  2.41832422,  0.669471  ],\n",
       "       [ 0.75740998,  1.93999137, -0.94565871,  1.38052568, -0.01983111],\n",
       "       [ 1.64128284,  0.87352331, -1.07542065,  0.33157132,  1.08440386],\n",
       "       [-0.97528375, -0.12508256, -0.35640407, -0.69694121,  0.70687587],\n",
       "       [ 1.68372367,  0.22602652, -0.19609238,  0.30171023,  0.18054925],\n",
       "       [-0.36755496, -1.43012527,  0.19403924, -0.40922152, -2.40419098],\n",
       "       [ 0.91257039,  1.73385793,  0.93245199, -0.83680017, -1.27758961],\n",
       "       [ 0.07947379, -0.05807435, -2.55790357, -0.09896851,  0.78958925],\n",
       "       [ 0.73035642,  0.68438424, -0.96429027, -0.27835498,  1.14423833],\n",
       "       [ 0.39382571,  1.08826494,  0.31354141,  1.28971732, -2.00343347],\n",
       "       [ 0.45220134, -1.29041186,  0.65737262, -1.77673683,  0.5855746 ],\n",
       "       [ 0.22368464,  0.22944276,  1.8201047 ,  0.42831492,  0.29681386],\n",
       "       [-0.70620244, -0.88403253, -1.5318418 , -0.79384733, -0.96234924],\n",
       "       [-0.73880521, -1.31900479,  1.05983262, -0.46545685, -0.96137878],\n",
       "       [ 1.21160865, -1.53962782, -1.6327455 , -0.66947416,  1.47761095],\n",
       "       [ 1.03464513,  0.37389176, -0.74460257,  1.19187061, -0.78385087],\n",
       "       [-0.48090543, -0.44159958, -1.36096096, -0.59456625, -0.86471518],\n",
       "       [ 1.02854099, -0.62619241,  1.47846746,  0.57799352,  1.39199636]])"
      ]
     },
     "execution_count": 21,
     "metadata": {},
     "output_type": "execute_result"
    }
   ],
   "source": [
    "X"
   ]
  },
  {
   "cell_type": "code",
   "execution_count": 32,
   "metadata": {},
   "outputs": [
    {
     "data": {
      "text/plain": [
       "(100, 5)"
      ]
     },
     "execution_count": 32,
     "metadata": {},
     "output_type": "execute_result"
    }
   ],
   "source": [
    "X.shape # 100개의 데이터 포인트, 5개의 차원"
   ]
  },
  {
   "cell_type": "code",
   "execution_count": 22,
   "metadata": {},
   "outputs": [],
   "source": [
    "X -= np.mean(X, axis = 0) # 데이터 중심 맞추기 -> X의 각 특징(열)에 대해 평균을 계산한 뒤, 각 값을 평균값만큼 빼서 데이터의 중심을 0으로 맞춘다.\n",
    "cov = np.dot(X.T, X) / X.shape[0] # 공분산 행렬 계산 -> 각 특징 간의 상관관계를 나타내는 공분산 행렬을 만든다.\n",
    "# 대각선 요소는 각 특징의 분산을 나타내고, 다른 요소는 각 특징 간의 공분산을 나타낸다."
   ]
  },
  {
   "cell_type": "code",
   "execution_count": 23,
   "metadata": {},
   "outputs": [
    {
     "data": {
      "text/plain": [
       "array([[ 0.72443919,  0.08544153,  0.03290342,  0.17382346,  0.09955928],\n",
       "       [ 0.08544153,  0.93153753,  0.14260838,  0.07578797, -0.00431605],\n",
       "       [ 0.03290342,  0.14260838,  1.09404532,  0.09499977, -0.08559693],\n",
       "       [ 0.17382346,  0.07578797,  0.09499977,  1.03463461,  0.02443017],\n",
       "       [ 0.09955928, -0.00431605, -0.08559693,  0.02443017,  1.00883213]])"
      ]
     },
     "execution_count": 23,
     "metadata": {},
     "output_type": "execute_result"
    }
   ],
   "source": [
    "cov"
   ]
  },
  {
   "cell_type": "markdown",
   "metadata": {},
   "source": [
    "### 공분산이란?\n",
    "- 두 변수의 평균값을 중심으로 퍼져있는 평균적인 거리\n",
    "- 두 변수간의 상관관계를 나타냄\n",
    "- 두 변수가 같은 방향으로 변하면 양수, 다른 방향으로 변하면 음수"
   ]
  },
  {
   "cell_type": "markdown",
   "metadata": {},
   "source": [
    "### 분산이란?\n",
    "- 내가 가진 데이터가 평균값을 중심으로 퍼져있는 평균적인 거리\n",
    "- 단일 변수의 흝어짐 정도\n"
   ]
  },
  {
   "cell_type": "markdown",
   "metadata": {},
   "source": [
    "### 공분산 vs 분산\n",
    "- 분산이 한 변수의 평균값을 중심으로 퍼져있는 평균적인 거리라면,\n",
    "- 공분산은 두 변수의 평균값을 중심으로 퍼져있는 평균적인 거리이다."
   ]
  },
  {
   "cell_type": "code",
   "execution_count": 24,
   "metadata": {},
   "outputs": [
    {
     "data": {
      "image/png": "[encoded data removed]",
      "text/plain": [
       "<IPython.core.display.Image object>"
      ]
     },
     "execution_count": 24,
     "metadata": {},
     "output_type": "execute_result"
    }
   ],
   "source": [
    "from IPython.display import Image\n",
    "Image('image1.png')"
   ]
  },
  {
   "cell_type": "code",
   "execution_count": 25,
   "metadata": {},
   "outputs": [],
   "source": [
    "U, S, V = np.linalg.svd(cov) # 특이값 분해"
   ]
  },
  {
   "cell_type": "code",
   "execution_count": 26,
   "metadata": {},
   "outputs": [
    {
     "data": {
      "text/plain": [
       "array([[-0.26110204, -0.33785022, -0.03526474, -0.07361304, -0.90056675],\n",
       "       [-0.44064806,  0.00439595,  0.36140009, -0.80229708,  0.17753685],\n",
       "       [-0.65877465,  0.41633287,  0.35204812,  0.51796788, -0.02131416],\n",
       "       [-0.54693624, -0.43291006, -0.62520682,  0.09119143,  0.33800916],\n",
       "       [ 0.06731814, -0.72463351,  0.59441141,  0.27256909,  0.20677455]])"
      ]
     },
     "execution_count": 26,
     "metadata": {},
     "output_type": "execute_result"
    }
   ],
   "source": [
    "U # 공분산 행렬의 고유벡터(eigenvector) : 각 차원을 설명하는 방향"
   ]
  },
  {
   "cell_type": "code",
   "execution_count": 27,
   "metadata": {},
   "outputs": [
    {
     "data": {
      "text/plain": [
       "array([1.29009461, 1.11905058, 0.92390964, 0.84016023, 0.62027372])"
      ]
     },
     "execution_count": 27,
     "metadata": {},
     "output_type": "execute_result"
    }
   ],
   "source": [
    "S # 공분산 행렬의 고유값(eigenvalue) : 고유벡터의 방향으로의 데이터 분산 정도"
   ]
  },
  {
   "cell_type": "code",
   "execution_count": 28,
   "metadata": {},
   "outputs": [
    {
     "data": {
      "text/plain": [
       "array([[-0.26110204, -0.44064806, -0.65877465, -0.54693624,  0.06731814],\n",
       "       [-0.33785022,  0.00439595,  0.41633287, -0.43291006, -0.72463351],\n",
       "       [-0.03526474,  0.36140009,  0.35204812, -0.62520682,  0.59441141],\n",
       "       [-0.07361304, -0.80229708,  0.51796788,  0.09119143,  0.27256909],\n",
       "       [-0.90056675,  0.17753685, -0.02131416,  0.33800916,  0.20677455]])"
      ]
     },
     "execution_count": 28,
     "metadata": {},
     "output_type": "execute_result"
    }
   ],
   "source": [
    "V # U와의 대칭 행렬"
   ]
  },
  {
   "cell_type": "markdown",
   "metadata": {},
   "source": [
    "### 고유값, 고유벡터 예시 (by GPT)\n",
    "- 고유벡터는 고유한 진동 방향을 가지는 스프링의 진동 모드와 같습니다.\n",
    "- 스프링에 힘을 가하면 특정 방향으로 진동하게 되는데, 이 때 고유벡터는 그 진동 방향을 나타냅니다.\n",
    "- 고유값은 진동의 크기, 즉 얼마나 진동하는지를 나타냅니다. 고유값이 크면 크게 진동하고, 고유값이 작으면 작게 진동합니다."
   ]
  },
  {
   "cell_type": "code",
   "execution_count": 29,
   "metadata": {},
   "outputs": [
    {
     "data": {
      "text/plain": [
       "array([[-1.05244829e+00,  4.01392551e-01, -1.96209371e+00,\n",
       "        -3.81467552e-01,  8.28548903e-01],\n",
       "       [ 3.35802164e-01,  1.30924251e+00,  6.13230392e-01,\n",
       "         6.08911152e-01,  3.90407441e-01],\n",
       "       [ 6.50529834e-01,  4.27024614e-01, -1.47970074e+00,\n",
       "        -2.51280524e-01,  8.63104200e-01],\n",
       "       [-3.53278690e-02,  8.73578686e-01, -2.67223294e-01,\n",
       "        -8.03982125e-01,  3.45311003e-01],\n",
       "       [ 2.54810302e-01,  6.35445159e-02, -7.78276121e-01,\n",
       "        -3.52050567e-01,  4.82725806e-01],\n",
       "       [-1.12535590e+00, -1.89494873e-01, -8.95616694e-01,\n",
       "         2.97778637e-01, -2.48389160e-01],\n",
       "       [-1.48859238e+00, -9.53361697e-01,  7.45418369e-02,\n",
       "         8.00494535e-02,  8.01457178e-01],\n",
       "       [-1.48192919e-02,  5.60581423e-01, -1.20796357e+00,\n",
       "         6.88860163e-01,  1.73916616e-01],\n",
       "       [ 5.57125873e-01,  1.36724577e+00,  1.00021637e+00,\n",
       "         1.29133155e+00, -4.91068117e-01],\n",
       "       [-5.90890832e-01, -1.22642604e+00,  2.83060083e-01,\n",
       "        -7.28010293e-01,  1.31520579e+00],\n",
       "       [-3.40885296e-01, -8.85816819e-01, -1.81586816e-01,\n",
       "        -3.67219929e-01, -9.20752809e-01],\n",
       "       [-1.99995136e+00, -1.11999899e+00, -2.23989673e-01,\n",
       "         7.05730277e-01,  4.70395958e-01],\n",
       "       [ 5.33601698e-01,  7.08196628e-01,  1.12300450e+00,\n",
       "        -4.09711023e-01, -2.02578411e-01],\n",
       "       [-4.63788325e-01, -9.63719262e-01, -1.86700116e+00,\n",
       "        -1.80746219e-01,  5.60065463e-01],\n",
       "       [ 1.44399253e+00,  7.46286228e-01,  9.63328497e-01,\n",
       "         7.66615941e-01,  1.03630786e-01],\n",
       "       [ 4.23687225e-02, -6.81530565e-01, -8.70306065e-02,\n",
       "         2.03846865e+00, -1.05530519e+00],\n",
       "       [-1.40506318e-01,  7.86579493e-01, -6.52351442e-01,\n",
       "         1.97140902e+00,  3.79438565e-01],\n",
       "       [ 6.10140030e-01, -1.53378378e+00,  4.22834579e-01,\n",
       "        -1.53298461e+00, -1.36872034e+00],\n",
       "       [ 1.09075678e-01,  2.62625509e-01, -6.38255808e-02,\n",
       "         1.77286448e-01, -1.21552501e+00],\n",
       "       [-1.19789590e+00, -8.63793499e-01,  8.01581534e-01,\n",
       "         4.04121246e-01, -1.00351814e+00],\n",
       "       [-1.30997018e-01,  2.61436063e-01,  7.23050352e-01,\n",
       "        -4.02681328e-01,  9.95076032e-01],\n",
       "       [ 5.28558600e-03, -5.77277097e-01,  1.59253709e-01,\n",
       "         1.64299018e-01, -3.21748886e-03],\n",
       "       [-6.05968084e-01,  1.05991844e-01, -9.41958783e-02,\n",
       "         1.92207087e+00, -1.26621238e+00],\n",
       "       [-1.17240126e+00, -9.80650314e-01, -1.55477496e+00,\n",
       "        -5.54951483e-01,  2.45016368e-01],\n",
       "       [-5.41472056e-01, -4.91378169e-01,  1.69154497e-01,\n",
       "         1.60699877e+00,  2.61228256e-01],\n",
       "       [ 6.86947906e-01,  9.68585421e-01, -7.70516534e-01,\n",
       "         9.56314238e-01, -2.44939908e-01],\n",
       "       [ 1.88728414e+00, -2.35846388e+00,  1.42009692e+00,\n",
       "        -3.83520465e-01, -1.62016899e+00],\n",
       "       [-1.04414812e+00,  5.24246322e-01,  7.76356200e-01,\n",
       "        -2.71840510e-01, -6.58360057e-01],\n",
       "       [ 1.58301248e+00,  1.84828104e+00,  1.94099055e-01,\n",
       "         8.93122012e-02, -1.94203473e-01],\n",
       "       [ 2.24324463e+00,  7.76220830e-01, -6.11480869e-01,\n",
       "         4.36212800e-01, -5.06503759e-01],\n",
       "       [ 2.35421991e-01, -7.32172755e-01,  1.44954438e+00,\n",
       "        -7.09398176e-01,  7.08240403e-01],\n",
       "       [ 1.51830660e+00,  5.69705231e-01,  6.64145205e-01,\n",
       "         4.37261615e-01,  7.69811027e-01],\n",
       "       [ 1.40387316e+00,  1.09159412e-01, -2.83834724e-01,\n",
       "        -1.42268323e+00,  1.62802644e+00],\n",
       "       [-2.07158859e+00,  1.31382214e+00, -4.20760035e-01,\n",
       "        -6.25021774e-01, -5.46001134e-02],\n",
       "       [ 1.06085402e+00,  2.43891467e-01, -1.37894230e+00,\n",
       "         5.45230663e-01, -4.30043949e-02],\n",
       "       [-2.33540451e-01,  3.49615754e-01,  1.73116248e+00,\n",
       "         5.94984325e-01,  8.63950959e-01],\n",
       "       [-1.54950020e-01, -4.29143939e-01, -3.18951576e-01,\n",
       "        -1.02612609e+00, -2.41620095e-01],\n",
       "       [ 8.84457605e-01, -1.38287637e+00,  1.63611663e+00,\n",
       "         1.61096144e+00,  5.97094598e-01],\n",
       "       [ 3.67894488e-01, -1.18787081e+00, -9.95219859e-01,\n",
       "         1.08919572e+00, -2.39503264e-01],\n",
       "       [-6.68327943e-02, -1.59304000e-01, -1.56404362e+00,\n",
       "        -1.43549883e-01,  5.11963604e-01],\n",
       "       [-5.96801531e-01,  7.86188417e-01,  1.92480607e+00,\n",
       "         7.13226732e-01, -4.06403019e-02],\n",
       "       [-5.73007616e-01, -7.16414959e-01, -2.26024186e+00,\n",
       "        -6.74979811e-01, -8.76163390e-02],\n",
       "       [-1.68466512e+00,  8.28398414e-01, -7.67964772e-01,\n",
       "        -1.35509692e+00, -9.40291338e-01],\n",
       "       [-6.56051926e-01, -1.36496164e+00,  5.56168017e-01,\n",
       "        -1.40599052e+00,  2.81964033e-01],\n",
       "       [-1.81887044e+00, -5.24218293e-02, -1.62010218e-01,\n",
       "         7.22617456e-01,  1.45628348e+00],\n",
       "       [ 1.10997537e-01,  3.85742896e-02, -9.99343053e-02,\n",
       "        -4.60984813e-01, -1.77761909e-01],\n",
       "       [-6.50085476e-01,  2.33600845e+00, -1.86569226e+00,\n",
       "        -4.13711776e-01, -1.13729483e+00],\n",
       "       [-1.57691689e+00, -6.22711300e-01,  2.13636613e-01,\n",
       "         1.06622303e+00,  3.79883609e-01],\n",
       "       [ 1.49274390e+00,  3.68903410e-02, -9.20898328e-02,\n",
       "        -7.35662301e-01,  3.38256213e-02],\n",
       "       [ 1.61377113e+00,  1.26664391e+00,  1.66359736e-01,\n",
       "         3.08016830e-01,  5.65263479e-01],\n",
       "       [-5.61744529e-01,  2.01201205e-01, -1.01772998e-01,\n",
       "         2.38656861e-01,  2.43618098e-01],\n",
       "       [ 1.14407791e-01,  1.13260260e+00, -6.82279730e-01,\n",
       "         8.92342753e-01, -1.23956331e+00],\n",
       "       [ 1.10462185e+00, -8.35951359e-01, -7.17999015e-01,\n",
       "         1.81615243e+00, -4.11735633e-01],\n",
       "       [-1.17452381e+00,  1.24409299e+00,  4.43736553e-01,\n",
       "        -1.30580353e+00,  3.27724463e-01],\n",
       "       [ 1.94126180e-01,  1.07286786e+00,  6.72886868e-02,\n",
       "        -8.51463249e-01, -1.89378121e-02],\n",
       "       [ 9.48328763e-01,  4.54873720e-01, -8.96252686e-01,\n",
       "        -8.37693395e-02,  7.19683492e-01],\n",
       "       [ 4.07931950e-01,  1.20977447e+00,  8.35287755e-01,\n",
       "        -1.55884146e+00,  5.26358236e-01],\n",
       "       [ 9.02362254e-01,  9.37486126e-01,  7.89773526e-02,\n",
       "        -1.62360721e+00, -4.35683078e-01],\n",
       "       [-1.50525999e+00, -1.23729795e+00, -9.53297200e-02,\n",
       "         1.05063411e+00, -3.18811828e-01],\n",
       "       [-5.99615026e-01,  7.87093836e-01,  9.99407414e-01,\n",
       "        -6.12184031e-01, -2.06837155e+00],\n",
       "       [ 8.93673765e-01, -2.95649781e-01,  6.08206918e-01,\n",
       "        -2.98649820e-01,  3.22980763e-01],\n",
       "       [-3.57935091e+00,  7.63173504e-01,  2.33442338e+00,\n",
       "         2.87945542e-01,  2.12658985e+00],\n",
       "       [ 1.22409562e+00, -2.71661238e-01,  1.31613588e-01,\n",
       "        -3.80350321e-02,  4.90774618e-01],\n",
       "       [-8.76704421e-01,  6.68078678e-01,  1.58808854e+00,\n",
       "         9.66393739e-01,  5.15421145e-01],\n",
       "       [ 1.81319021e+00,  1.23836550e+00,  1.40667467e+00,\n",
       "        -1.44450743e+00,  5.00848901e-01],\n",
       "       [ 5.30158938e-01, -8.48049121e-01, -7.58196255e-01,\n",
       "         2.76097341e-01,  8.54604630e-01],\n",
       "       [ 9.40136244e-01,  1.99776915e-01, -9.26952489e-01,\n",
       "        -1.43264963e-01,  8.16369157e-01],\n",
       "       [ 1.49745817e+00, -1.58328411e+00,  1.33479990e+00,\n",
       "        -4.81150075e-01,  8.96443343e-01],\n",
       "       [-1.54044280e+00,  2.16197479e+00,  1.68784095e+00,\n",
       "        -5.25386650e-01, -3.50274230e-01],\n",
       "       [-9.85501671e-01,  1.34406264e+00, -3.61874284e-01,\n",
       "         5.54020673e-02,  1.02643421e+00],\n",
       "       [-1.75795545e-01,  8.27640702e-01, -3.56612606e-01,\n",
       "         7.23815650e-01,  3.53667829e-02],\n",
       "       [-1.80050063e-01, -1.20197396e-01,  1.75171489e-01,\n",
       "         1.17841132e-01,  4.39492241e-01],\n",
       "       [ 7.09165093e-01, -1.07769423e+00, -7.33023674e-02,\n",
       "         8.18377127e-01,  1.57244795e+00],\n",
       "       [-2.26634975e+00, -1.44176833e+00,  1.49245725e+00,\n",
       "        -1.42201926e+00, -1.11786341e+00],\n",
       "       [-1.64075846e+00,  1.49779049e+00, -7.49738873e-01,\n",
       "         7.58792574e-01, -1.19047087e+00],\n",
       "       [-6.74347019e-01, -1.32691562e+00, -9.55588725e-01,\n",
       "         6.32201811e-01, -2.75284130e-01],\n",
       "       [ 6.87318475e-01,  8.41862292e-01,  1.40213641e+00,\n",
       "        -4.74584794e-01, -1.28733844e+00],\n",
       "       [ 6.41670964e-01, -2.64763228e-02,  2.99681332e-01,\n",
       "        -5.95427989e-01,  3.13517893e-01],\n",
       "       [ 8.34381583e-01, -1.52945742e+00, -7.08797116e-01,\n",
       "         1.19203475e+00,  1.66658162e-01],\n",
       "       [ 1.51585403e+00,  7.80322365e-01, -2.57781329e-01,\n",
       "        -1.14957922e+00, -3.37998462e-01],\n",
       "       [ 1.32880155e-01, -2.37475373e-01,  2.07331943e-01,\n",
       "        -2.90836491e-01, -1.39998311e+00],\n",
       "       [ 5.12659773e-01, -9.53537258e-01,  4.70452110e-01,\n",
       "         3.26378654e-02,  1.33770901e+00],\n",
       "       [-1.18445893e+00, -2.34866242e+00, -1.27804816e+00,\n",
       "        -1.67676135e-02, -2.42124590e-01],\n",
       "       [-1.09497998e+00, -1.27799102e+00, -4.37108829e-01,\n",
       "        -1.95231094e+00,  2.81266965e-01],\n",
       "       [-1.22293851e-01, -1.98138272e+00,  4.12800806e-01,\n",
       "        -1.02363914e+00, -8.27519647e-01],\n",
       "       [ 1.06437717e+00, -8.35918309e-02,  8.15931638e-01,\n",
       "         1.45886350e-01,  9.10548819e-01],\n",
       "       [-4.71849900e-01, -9.64583952e-01, -3.17275281e-02,\n",
       "        -3.00900657e-01, -1.19642457e+00],\n",
       "       [ 7.51348836e-01,  2.06434413e+00, -1.51249774e+00,\n",
       "         6.11550414e-01, -4.26214487e-01],\n",
       "       [-1.15384620e+00,  1.32191771e+00,  7.82769411e-01,\n",
       "        -1.37057870e+00, -9.44640865e-01],\n",
       "       [ 1.88825801e+00, -1.67500923e+00, -2.96771944e-01,\n",
       "        -1.04874898e+00,  2.38712061e-01],\n",
       "       [ 4.63303528e-01, -1.40750506e+00,  8.32589129e-01,\n",
       "        -7.86586415e-01, -2.36905835e-01],\n",
       "       [-1.53813093e+00,  8.42044854e-01, -1.41110397e+00,\n",
       "        -1.13893318e+00, -1.02052898e-02],\n",
       "       [ 1.11972118e+00,  4.06431203e-01,  1.30433254e+00,\n",
       "         1.36931782e+00, -9.93556303e-01],\n",
       "       [-1.48177358e+00,  2.29057025e-01,  7.20748297e-01,\n",
       "         8.91397147e-01,  1.42905091e-01],\n",
       "       [ 2.04353024e+00,  5.84317386e-01, -8.13272771e-01,\n",
       "        -3.37673365e-01,  1.80626595e-01],\n",
       "       [ 3.56839849e-01,  1.52955262e+00, -2.61663051e-01,\n",
       "         1.38631863e+00,  1.88724254e-01],\n",
       "       [ 1.99437482e+00, -1.93042631e+00,  2.19222189e-01,\n",
       "         6.71267548e-01, -1.11417101e+00],\n",
       "       [-5.57968671e-01, -6.59528188e-01, -1.27828619e+00,\n",
       "        -8.37553187e-01, -4.72474506e-01],\n",
       "       [ 1.57475405e+00,  4.24269278e-01, -6.67721312e-01,\n",
       "        -5.75925282e-01,  1.40184630e-01],\n",
       "       [-1.09796630e+00, -1.04726332e+00,  8.20274759e-01,\n",
       "         1.65382801e+00, -4.49498222e-01]])"
      ]
     },
     "execution_count": 29,
     "metadata": {},
     "output_type": "execute_result"
    }
   ],
   "source": [
    "Xrot = np.dot(X, U) # decorrelate - 데이터를 새로운 좌표계로 변환하여 서로 상관관계가 없는 데이터로 만드는 것\n",
    "Xrot"
   ]
  },
  {
   "cell_type": "markdown",
   "metadata": {},
   "source": [
    "- 고유벡터는 각각 데이터의 분산이 가장 큰 방향을 나타내는 벡터이다. 이 벡터들은 서로 직교하기 때문에, 이 벡터들로 구성된 행렬 U는 새로운 좌표계로 변환하는 역할을 한다.\n",
    "- 위의 식은 데이터의 회전으로 이해할 수 있는데, 실제로는 데이터를 고유벡터가 나타내는 방향으로 재정렬하는 과정이다.\n",
    "- 새로 생성된 Xrot는 서로 독립적인 방향을 나타내기 때문에, 이 데이터는 더 이상 서로 상관관계가 없다.\n",
    "\n",
    "-> 데이터의 상관관계를 제거해 다양한 분석이나 모델에 사용할 때 더 효율적으로 처리할 수 있다."
   ]
  },
  {
   "cell_type": "code",
   "execution_count": 30,
   "metadata": {},
   "outputs": [
    {
     "data": {
      "text/plain": [
       "array([[-1.05244829e+00,  4.01392551e-01, -1.96209371e+00,\n",
       "        -3.81467552e-01,  8.28548903e-01],\n",
       "       [ 3.35802164e-01,  1.30924251e+00,  6.13230392e-01,\n",
       "         6.08911152e-01,  3.90407441e-01],\n",
       "       [ 6.50529834e-01,  4.27024614e-01, -1.47970074e+00,\n",
       "        -2.51280524e-01,  8.63104200e-01],\n",
       "       [-3.53278690e-02,  8.73578686e-01, -2.67223294e-01,\n",
       "        -8.03982125e-01,  3.45311003e-01],\n",
       "       [ 2.54810302e-01,  6.35445159e-02, -7.78276121e-01,\n",
       "        -3.52050567e-01,  4.82725806e-01],\n",
       "       [-1.12535590e+00, -1.89494873e-01, -8.95616694e-01,\n",
       "         2.97778637e-01, -2.48389160e-01],\n",
       "       [-1.48859238e+00, -9.53361697e-01,  7.45418369e-02,\n",
       "         8.00494535e-02,  8.01457178e-01],\n",
       "       [-1.48192919e-02,  5.60581423e-01, -1.20796357e+00,\n",
       "         6.88860163e-01,  1.73916616e-01],\n",
       "       [ 5.57125873e-01,  1.36724577e+00,  1.00021637e+00,\n",
       "         1.29133155e+00, -4.91068117e-01],\n",
       "       [-5.90890832e-01, -1.22642604e+00,  2.83060083e-01,\n",
       "        -7.28010293e-01,  1.31520579e+00],\n",
       "       [-3.40885296e-01, -8.85816819e-01, -1.81586816e-01,\n",
       "        -3.67219929e-01, -9.20752809e-01],\n",
       "       [-1.99995136e+00, -1.11999899e+00, -2.23989673e-01,\n",
       "         7.05730277e-01,  4.70395958e-01],\n",
       "       [ 5.33601698e-01,  7.08196628e-01,  1.12300450e+00,\n",
       "        -4.09711023e-01, -2.02578411e-01],\n",
       "       [-4.63788325e-01, -9.63719262e-01, -1.86700116e+00,\n",
       "        -1.80746219e-01,  5.60065463e-01],\n",
       "       [ 1.44399253e+00,  7.46286228e-01,  9.63328497e-01,\n",
       "         7.66615941e-01,  1.03630786e-01],\n",
       "       [ 4.23687225e-02, -6.81530565e-01, -8.70306065e-02,\n",
       "         2.03846865e+00, -1.05530519e+00],\n",
       "       [-1.40506318e-01,  7.86579493e-01, -6.52351442e-01,\n",
       "         1.97140902e+00,  3.79438565e-01],\n",
       "       [ 6.10140030e-01, -1.53378378e+00,  4.22834579e-01,\n",
       "        -1.53298461e+00, -1.36872034e+00],\n",
       "       [ 1.09075678e-01,  2.62625509e-01, -6.38255808e-02,\n",
       "         1.77286448e-01, -1.21552501e+00],\n",
       "       [-1.19789590e+00, -8.63793499e-01,  8.01581534e-01,\n",
       "         4.04121246e-01, -1.00351814e+00],\n",
       "       [-1.30997018e-01,  2.61436063e-01,  7.23050352e-01,\n",
       "        -4.02681328e-01,  9.95076032e-01],\n",
       "       [ 5.28558600e-03, -5.77277097e-01,  1.59253709e-01,\n",
       "         1.64299018e-01, -3.21748886e-03],\n",
       "       [-6.05968084e-01,  1.05991844e-01, -9.41958783e-02,\n",
       "         1.92207087e+00, -1.26621238e+00],\n",
       "       [-1.17240126e+00, -9.80650314e-01, -1.55477496e+00,\n",
       "        -5.54951483e-01,  2.45016368e-01],\n",
       "       [-5.41472056e-01, -4.91378169e-01,  1.69154497e-01,\n",
       "         1.60699877e+00,  2.61228256e-01],\n",
       "       [ 6.86947906e-01,  9.68585421e-01, -7.70516534e-01,\n",
       "         9.56314238e-01, -2.44939908e-01],\n",
       "       [ 1.88728414e+00, -2.35846388e+00,  1.42009692e+00,\n",
       "        -3.83520465e-01, -1.62016899e+00],\n",
       "       [-1.04414812e+00,  5.24246322e-01,  7.76356200e-01,\n",
       "        -2.71840510e-01, -6.58360057e-01],\n",
       "       [ 1.58301248e+00,  1.84828104e+00,  1.94099055e-01,\n",
       "         8.93122012e-02, -1.94203473e-01],\n",
       "       [ 2.24324463e+00,  7.76220830e-01, -6.11480869e-01,\n",
       "         4.36212800e-01, -5.06503759e-01],\n",
       "       [ 2.35421991e-01, -7.32172755e-01,  1.44954438e+00,\n",
       "        -7.09398176e-01,  7.08240403e-01],\n",
       "       [ 1.51830660e+00,  5.69705231e-01,  6.64145205e-01,\n",
       "         4.37261615e-01,  7.69811027e-01],\n",
       "       [ 1.40387316e+00,  1.09159412e-01, -2.83834724e-01,\n",
       "        -1.42268323e+00,  1.62802644e+00],\n",
       "       [-2.07158859e+00,  1.31382214e+00, -4.20760035e-01,\n",
       "        -6.25021774e-01, -5.46001134e-02],\n",
       "       [ 1.06085402e+00,  2.43891467e-01, -1.37894230e+00,\n",
       "         5.45230663e-01, -4.30043949e-02],\n",
       "       [-2.33540451e-01,  3.49615754e-01,  1.73116248e+00,\n",
       "         5.94984325e-01,  8.63950959e-01],\n",
       "       [-1.54950020e-01, -4.29143939e-01, -3.18951576e-01,\n",
       "        -1.02612609e+00, -2.41620095e-01],\n",
       "       [ 8.84457605e-01, -1.38287637e+00,  1.63611663e+00,\n",
       "         1.61096144e+00,  5.97094598e-01],\n",
       "       [ 3.67894488e-01, -1.18787081e+00, -9.95219859e-01,\n",
       "         1.08919572e+00, -2.39503264e-01],\n",
       "       [-6.68327943e-02, -1.59304000e-01, -1.56404362e+00,\n",
       "        -1.43549883e-01,  5.11963604e-01],\n",
       "       [-5.96801531e-01,  7.86188417e-01,  1.92480607e+00,\n",
       "         7.13226732e-01, -4.06403019e-02],\n",
       "       [-5.73007616e-01, -7.16414959e-01, -2.26024186e+00,\n",
       "        -6.74979811e-01, -8.76163390e-02],\n",
       "       [-1.68466512e+00,  8.28398414e-01, -7.67964772e-01,\n",
       "        -1.35509692e+00, -9.40291338e-01],\n",
       "       [-6.56051926e-01, -1.36496164e+00,  5.56168017e-01,\n",
       "        -1.40599052e+00,  2.81964033e-01],\n",
       "       [-1.81887044e+00, -5.24218293e-02, -1.62010218e-01,\n",
       "         7.22617456e-01,  1.45628348e+00],\n",
       "       [ 1.10997537e-01,  3.85742896e-02, -9.99343053e-02,\n",
       "        -4.60984813e-01, -1.77761909e-01],\n",
       "       [-6.50085476e-01,  2.33600845e+00, -1.86569226e+00,\n",
       "        -4.13711776e-01, -1.13729483e+00],\n",
       "       [-1.57691689e+00, -6.22711300e-01,  2.13636613e-01,\n",
       "         1.06622303e+00,  3.79883609e-01],\n",
       "       [ 1.49274390e+00,  3.68903410e-02, -9.20898328e-02,\n",
       "        -7.35662301e-01,  3.38256213e-02],\n",
       "       [ 1.61377113e+00,  1.26664391e+00,  1.66359736e-01,\n",
       "         3.08016830e-01,  5.65263479e-01],\n",
       "       [-5.61744529e-01,  2.01201205e-01, -1.01772998e-01,\n",
       "         2.38656861e-01,  2.43618098e-01],\n",
       "       [ 1.14407791e-01,  1.13260260e+00, -6.82279730e-01,\n",
       "         8.92342753e-01, -1.23956331e+00],\n",
       "       [ 1.10462185e+00, -8.35951359e-01, -7.17999015e-01,\n",
       "         1.81615243e+00, -4.11735633e-01],\n",
       "       [-1.17452381e+00,  1.24409299e+00,  4.43736553e-01,\n",
       "        -1.30580353e+00,  3.27724463e-01],\n",
       "       [ 1.94126180e-01,  1.07286786e+00,  6.72886868e-02,\n",
       "        -8.51463249e-01, -1.89378121e-02],\n",
       "       [ 9.48328763e-01,  4.54873720e-01, -8.96252686e-01,\n",
       "        -8.37693395e-02,  7.19683492e-01],\n",
       "       [ 4.07931950e-01,  1.20977447e+00,  8.35287755e-01,\n",
       "        -1.55884146e+00,  5.26358236e-01],\n",
       "       [ 9.02362254e-01,  9.37486126e-01,  7.89773526e-02,\n",
       "        -1.62360721e+00, -4.35683078e-01],\n",
       "       [-1.50525999e+00, -1.23729795e+00, -9.53297200e-02,\n",
       "         1.05063411e+00, -3.18811828e-01],\n",
       "       [-5.99615026e-01,  7.87093836e-01,  9.99407414e-01,\n",
       "        -6.12184031e-01, -2.06837155e+00],\n",
       "       [ 8.93673765e-01, -2.95649781e-01,  6.08206918e-01,\n",
       "        -2.98649820e-01,  3.22980763e-01],\n",
       "       [-3.57935091e+00,  7.63173504e-01,  2.33442338e+00,\n",
       "         2.87945542e-01,  2.12658985e+00],\n",
       "       [ 1.22409562e+00, -2.71661238e-01,  1.31613588e-01,\n",
       "        -3.80350321e-02,  4.90774618e-01],\n",
       "       [-8.76704421e-01,  6.68078678e-01,  1.58808854e+00,\n",
       "         9.66393739e-01,  5.15421145e-01],\n",
       "       [ 1.81319021e+00,  1.23836550e+00,  1.40667467e+00,\n",
       "        -1.44450743e+00,  5.00848901e-01],\n",
       "       [ 5.30158938e-01, -8.48049121e-01, -7.58196255e-01,\n",
       "         2.76097341e-01,  8.54604630e-01],\n",
       "       [ 9.40136244e-01,  1.99776915e-01, -9.26952489e-01,\n",
       "        -1.43264963e-01,  8.16369157e-01],\n",
       "       [ 1.49745817e+00, -1.58328411e+00,  1.33479990e+00,\n",
       "        -4.81150075e-01,  8.96443343e-01],\n",
       "       [-1.54044280e+00,  2.16197479e+00,  1.68784095e+00,\n",
       "        -5.25386650e-01, -3.50274230e-01],\n",
       "       [-9.85501671e-01,  1.34406264e+00, -3.61874284e-01,\n",
       "         5.54020673e-02,  1.02643421e+00],\n",
       "       [-1.75795545e-01,  8.27640702e-01, -3.56612606e-01,\n",
       "         7.23815650e-01,  3.53667829e-02],\n",
       "       [-1.80050063e-01, -1.20197396e-01,  1.75171489e-01,\n",
       "         1.17841132e-01,  4.39492241e-01],\n",
       "       [ 7.09165093e-01, -1.07769423e+00, -7.33023674e-02,\n",
       "         8.18377127e-01,  1.57244795e+00],\n",
       "       [-2.26634975e+00, -1.44176833e+00,  1.49245725e+00,\n",
       "        -1.42201926e+00, -1.11786341e+00],\n",
       "       [-1.64075846e+00,  1.49779049e+00, -7.49738873e-01,\n",
       "         7.58792574e-01, -1.19047087e+00],\n",
       "       [-6.74347019e-01, -1.32691562e+00, -9.55588725e-01,\n",
       "         6.32201811e-01, -2.75284130e-01],\n",
       "       [ 6.87318475e-01,  8.41862292e-01,  1.40213641e+00,\n",
       "        -4.74584794e-01, -1.28733844e+00],\n",
       "       [ 6.41670964e-01, -2.64763228e-02,  2.99681332e-01,\n",
       "        -5.95427989e-01,  3.13517893e-01],\n",
       "       [ 8.34381583e-01, -1.52945742e+00, -7.08797116e-01,\n",
       "         1.19203475e+00,  1.66658162e-01],\n",
       "       [ 1.51585403e+00,  7.80322365e-01, -2.57781329e-01,\n",
       "        -1.14957922e+00, -3.37998462e-01],\n",
       "       [ 1.32880155e-01, -2.37475373e-01,  2.07331943e-01,\n",
       "        -2.90836491e-01, -1.39998311e+00],\n",
       "       [ 5.12659773e-01, -9.53537258e-01,  4.70452110e-01,\n",
       "         3.26378654e-02,  1.33770901e+00],\n",
       "       [-1.18445893e+00, -2.34866242e+00, -1.27804816e+00,\n",
       "        -1.67676135e-02, -2.42124590e-01],\n",
       "       [-1.09497998e+00, -1.27799102e+00, -4.37108829e-01,\n",
       "        -1.95231094e+00,  2.81266965e-01],\n",
       "       [-1.22293851e-01, -1.98138272e+00,  4.12800806e-01,\n",
       "        -1.02363914e+00, -8.27519647e-01],\n",
       "       [ 1.06437717e+00, -8.35918309e-02,  8.15931638e-01,\n",
       "         1.45886350e-01,  9.10548819e-01],\n",
       "       [-4.71849900e-01, -9.64583952e-01, -3.17275281e-02,\n",
       "        -3.00900657e-01, -1.19642457e+00],\n",
       "       [ 7.51348836e-01,  2.06434413e+00, -1.51249774e+00,\n",
       "         6.11550414e-01, -4.26214487e-01],\n",
       "       [-1.15384620e+00,  1.32191771e+00,  7.82769411e-01,\n",
       "        -1.37057870e+00, -9.44640865e-01],\n",
       "       [ 1.88825801e+00, -1.67500923e+00, -2.96771944e-01,\n",
       "        -1.04874898e+00,  2.38712061e-01],\n",
       "       [ 4.63303528e-01, -1.40750506e+00,  8.32589129e-01,\n",
       "        -7.86586415e-01, -2.36905835e-01],\n",
       "       [-1.53813093e+00,  8.42044854e-01, -1.41110397e+00,\n",
       "        -1.13893318e+00, -1.02052898e-02],\n",
       "       [ 1.11972118e+00,  4.06431203e-01,  1.30433254e+00,\n",
       "         1.36931782e+00, -9.93556303e-01],\n",
       "       [-1.48177358e+00,  2.29057025e-01,  7.20748297e-01,\n",
       "         8.91397147e-01,  1.42905091e-01],\n",
       "       [ 2.04353024e+00,  5.84317386e-01, -8.13272771e-01,\n",
       "        -3.37673365e-01,  1.80626595e-01],\n",
       "       [ 3.56839849e-01,  1.52955262e+00, -2.61663051e-01,\n",
       "         1.38631863e+00,  1.88724254e-01],\n",
       "       [ 1.99437482e+00, -1.93042631e+00,  2.19222189e-01,\n",
       "         6.71267548e-01, -1.11417101e+00],\n",
       "       [-5.57968671e-01, -6.59528188e-01, -1.27828619e+00,\n",
       "        -8.37553187e-01, -4.72474506e-01],\n",
       "       [ 1.57475405e+00,  4.24269278e-01, -6.67721312e-01,\n",
       "        -5.75925282e-01,  1.40184630e-01],\n",
       "       [-1.09796630e+00, -1.04726332e+00,  8.20274759e-01,\n",
       "         1.65382801e+00, -4.49498222e-01]])"
      ]
     },
     "execution_count": 30,
     "metadata": {},
     "output_type": "execute_result"
    }
   ],
   "source": [
    "Xrot_reduced = np.dot(X, U[:, :100]) # PCA - [N x D] -> [N x 100]\n",
    "Xrot_reduced"
   ]
  },
  {
   "cell_type": "markdown",
   "metadata": {},
   "source": [
    "- U[:, :100]는 상위 100개의 고유벡터만을 선택한다. \n",
    "- 고유벡터들은 데이터의 가장 큰 분산을 설명하는 방향을 나타내므로, 이 상위 100개의 고유벡터만을 사용해 데이터를 줄여도 중요한 정보를 대부분 유지할 수 있다.\n",
    "\n",
    "-> PCA를 통해 차원을 줄인 데이터는 학습 시간이 단축되며, 메모리 효율성이 높아지는 등의 이점이 있다."
   ]
  },
  {
   "cell_type": "code",
   "execution_count": 31,
   "metadata": {},
   "outputs": [
    {
     "data": {
      "text/plain": [
       "(100, 3)"
      ]
     },
     "execution_count": 31,
     "metadata": {},
     "output_type": "execute_result"
    }
   ],
   "source": [
    "Xrot_reduced2 = np.dot(X, U[:,:3])  # 상위 3개의 고유벡터만 선택\n",
    "Xrot_reduced2.shape"
   ]
  },
  {
   "cell_type": "code",
   "execution_count": 14,
   "metadata": {},
   "outputs": [
    {
     "data": {
      "text/plain": [
       "array([[ 6.46925595e-01,  5.01113632e-01,  1.45359487e-01,\n",
       "         4.85999533e-01,  5.78582631e-01],\n",
       "       [ 7.47678095e-01, -4.09295891e-01,  3.56988002e-01,\n",
       "        -1.52442249e-01,  9.35259237e-01],\n",
       "       [ 6.05836883e-01, -8.63194712e-01,  1.68972911e+00,\n",
       "        -3.76106390e-01, -1.12030640e+00],\n",
       "       [-3.05673369e-01, -5.07051376e-01,  3.76094274e-02,\n",
       "        -4.16042188e-01, -1.76095713e+00],\n",
       "       [ 9.20137171e-01, -2.60533435e-01,  5.30515624e-01,\n",
       "         1.14460842e+00,  2.29522370e+00],\n",
       "       [-1.83489703e+00,  1.03501150e+00,  5.31748875e-01,\n",
       "         1.47827349e+00,  3.10400795e-01],\n",
       "       [-2.04224177e+00,  3.00710820e-01,  3.62675150e-02,\n",
       "        -1.99440908e+00,  1.01480743e+00],\n",
       "       [-6.09257690e-01, -2.21774087e+00, -1.08226800e+00,\n",
       "         1.87732746e+00, -5.03505807e-01],\n",
       "       [ 5.07682808e-01,  3.81881135e-01, -2.77915881e+00,\n",
       "        -1.08254319e-01, -3.09766733e-01],\n",
       "       [ 8.99350018e-01, -1.46387282e-01, -1.24722168e+00,\n",
       "         9.72146318e-01,  5.41461168e-01],\n",
       "       [-6.14350083e-01,  3.78319196e-01,  8.15580754e-01,\n",
       "        -3.48492083e-01,  1.94123848e+00],\n",
       "       [ 1.31480427e+00, -1.52974450e+00,  1.62331793e+00,\n",
       "         7.39678429e-01, -1.51421049e+00],\n",
       "       [ 7.04489138e-01, -3.89010375e-01,  6.93786694e-01,\n",
       "        -7.31279263e-01, -7.85775257e-01],\n",
       "       [-2.01218634e+00, -2.82646664e-01, -6.71054088e-01,\n",
       "        -1.53161487e+00,  4.20454324e-01],\n",
       "       [ 8.88232448e-01,  1.35334916e+00,  1.28656756e+00,\n",
       "         4.20993977e-01, -9.53627879e-01],\n",
       "       [ 7.44760645e-01,  3.96563737e-01,  2.98306983e-01,\n",
       "         2.30762827e-01,  1.82283504e+00],\n",
       "       [-3.07899396e+00,  1.17103508e+00, -3.76727266e-01,\n",
       "         2.77117132e-01,  1.25565024e+00],\n",
       "       [ 4.89628198e-01,  1.04300662e+00, -9.79979167e-01,\n",
       "        -1.69525346e+00,  6.85695104e-01],\n",
       "       [ 8.62908581e-01, -9.38266094e-02, -7.97288851e-01,\n",
       "        -1.92060731e+00, -4.41988301e-02],\n",
       "       [ 1.60728947e+00,  1.48118602e+00, -5.99674887e-01,\n",
       "        -3.38742643e-01,  1.95079669e-01],\n",
       "       [-9.94884719e-01, -6.54676339e-01,  9.95042770e-02,\n",
       "         8.61713338e-01,  2.95164717e-01],\n",
       "       [ 8.02220313e-01, -1.34882457e+00,  5.04721841e-01,\n",
       "         4.19334574e-01,  1.56183348e+00],\n",
       "       [-3.14849428e-02,  2.01292375e+00,  2.13628584e-01,\n",
       "        -1.31201509e-01,  3.50364466e-01],\n",
       "       [-2.98086730e-01,  1.25122605e+00,  2.17875024e-01,\n",
       "         1.05557788e+00, -3.42937662e-01],\n",
       "       [-1.27664788e+00, -4.06410067e-01, -3.92192888e-01,\n",
       "        -4.62823441e-01,  4.20165528e-02],\n",
       "       [ 3.77876376e-01,  1.84836443e+00, -3.23011659e-01,\n",
       "         1.30228278e+00, -6.77642641e-01],\n",
       "       [ 2.91888965e-01, -9.37032414e-02, -1.43020940e+00,\n",
       "         1.66363933e-01, -4.48691643e-01],\n",
       "       [-2.17822263e+00, -2.17451893e-01,  9.33083320e-02,\n",
       "        -3.98064550e-01, -1.04189011e+00],\n",
       "       [ 7.76357733e-02, -3.13264305e-01,  5.02779890e-01,\n",
       "        -6.52393212e-01, -3.32116832e-01],\n",
       "       [-6.53629985e-01, -2.69992444e-01, -3.09232493e-01,\n",
       "         9.95578701e-01, -2.84749177e+00],\n",
       "       [ 3.11128315e-01,  7.34652248e-01, -8.45875969e-01,\n",
       "        -1.56659194e+00,  4.64202872e-02],\n",
       "       [-2.12551378e-01,  7.38150199e-01, -1.01764769e-01,\n",
       "        -4.35997085e-01, -7.64328988e-01],\n",
       "       [-2.78004295e-01, -1.45201720e+00,  6.78189989e-01,\n",
       "        -1.91538879e+00,  2.11100413e+00],\n",
       "       [ 6.98243850e-01, -8.34172183e-01, -4.65285422e-01,\n",
       "        -1.07068009e+00, -7.47412411e-01],\n",
       "       [-6.71830250e-01,  1.44259217e+00,  4.30286927e-02,\n",
       "         4.72657928e-01, -5.96847941e-01],\n",
       "       [ 8.47681636e-01,  8.33269462e-01,  4.95335681e-01,\n",
       "        -3.23435494e-02, -1.03428946e+00],\n",
       "       [-5.52827733e-01, -2.04848363e+00,  2.58814129e-01,\n",
       "         5.26575685e-01,  6.25485582e-01],\n",
       "       [-1.29009106e-01,  1.27712633e+00, -1.56832151e+00,\n",
       "         2.80030989e-01,  1.18938484e+00],\n",
       "       [ 3.67079390e-01, -1.69574845e-01,  1.91955848e+00,\n",
       "        -4.40250878e-01, -1.48420871e+00],\n",
       "       [-2.40112401e-01,  1.59175704e-01,  1.92546339e+00,\n",
       "        -9.05780246e-01,  3.17222349e-01],\n",
       "       [ 1.36948192e+00, -1.02899072e+00, -1.18510553e+00,\n",
       "        -1.44020370e+00, -9.92104078e-01],\n",
       "       [-1.27156489e+00, -7.04363423e-01, -2.88373119e-01,\n",
       "         6.94193871e-02,  3.66349207e-01],\n",
       "       [ 1.50385235e+00, -3.20385023e-01, -1.75997641e-01,\n",
       "        -8.95908824e-01, -7.72344050e-01],\n",
       "       [-5.43483679e-01, -1.08972057e+00, -2.36597324e-01,\n",
       "        -1.09587453e-01, -3.12753863e-01],\n",
       "       [ 1.57462701e+00, -4.86049793e-02,  4.59003591e-01,\n",
       "        -8.68565506e-01,  3.42396521e-01],\n",
       "       [-6.32104382e-01,  1.29247217e-01, -1.95388032e+00,\n",
       "         1.37918160e+00, -3.53987448e-01],\n",
       "       [ 4.64197222e-01,  1.76724409e+00,  1.02417268e+00,\n",
       "         7.29478835e-02,  7.77870317e-02],\n",
       "       [-3.73849924e-01,  1.90294157e+00, -2.23795262e-01,\n",
       "        -1.17627823e+00, -4.72423497e-01],\n",
       "       [ 1.29907406e+00,  8.29528496e-01,  2.06670172e-01,\n",
       "         4.06464776e-01,  4.99702119e-01],\n",
       "       [ 1.02584239e-01, -9.78582252e-01, -1.68884260e-02,\n",
       "         6.78469171e-01, -5.18469196e-01],\n",
       "       [-2.64803497e-01, -7.05184595e-01,  2.32152633e-02,\n",
       "        -6.13608587e-02,  5.56791345e-01],\n",
       "       [ 1.06538100e+00,  8.43049236e-01, -2.60092271e-01,\n",
       "        -9.53961769e-02, -5.56355775e-01],\n",
       "       [ 4.20544044e-01, -1.06410775e+00,  1.12380821e+00,\n",
       "         4.22778681e-01, -1.38550196e+00],\n",
       "       [-6.37329790e-01,  7.84302226e-02, -9.78490642e-01,\n",
       "        -4.92286867e-01,  2.30986649e-01],\n",
       "       [ 7.13930797e-01,  6.88742126e-01,  1.09084317e+00,\n",
       "        -3.64562200e-01, -5.55427915e-01],\n",
       "       [-6.91862377e-01, -9.86249741e-01, -2.40594606e-01,\n",
       "         1.70571726e-01, -3.20851656e-01],\n",
       "       [-1.40771485e+00,  1.51435776e+00,  2.94473079e+00,\n",
       "         1.98814662e-01,  2.03540146e+00],\n",
       "       [-1.72343590e+00,  6.42338892e-01,  1.17745242e+00,\n",
       "         9.53027713e-01, -6.33538769e-01],\n",
       "       [-1.05124459e-01,  5.26824997e-02,  7.75278578e-01,\n",
       "        -6.82764049e-01,  4.55607467e-01],\n",
       "       [ 1.45637986e+00,  1.83686269e-01,  2.04729891e+00,\n",
       "         2.25380883e+00, -8.57072589e-01],\n",
       "       [-1.21342795e-01, -1.19809971e+00, -1.29499120e-01,\n",
       "        -4.92110277e-01,  6.38517943e-02],\n",
       "       [-1.71593846e+00,  3.68016628e-01,  3.67129060e-01,\n",
       "        -2.27782777e+00, -1.18406279e+00],\n",
       "       [-8.41962460e-01, -1.14017288e+00,  3.22616967e-01,\n",
       "         5.00665695e-01, -1.58186948e+00],\n",
       "       [ 1.53413257e+00,  6.62049166e-01,  2.46539947e-01,\n",
       "        -9.96677778e-01, -2.46751527e-01],\n",
       "       [-1.33155345e+00,  1.45609700e+00, -1.05535427e+00,\n",
       "         1.90564438e+00, -4.16889677e-01],\n",
       "       [-1.54549233e-01, -6.54888185e-01, -5.57664731e-01,\n",
       "         1.94744101e+00, -6.41373621e-01],\n",
       "       [-9.93752005e-03,  2.79836051e+00,  7.24256095e-02,\n",
       "        -5.31872051e-01, -4.67352915e-01],\n",
       "       [-1.04337031e+00, -1.93833337e+00,  1.10157706e+00,\n",
       "        -6.65197591e-01, -3.69707906e-01],\n",
       "       [ 5.78248501e-04, -1.94491377e-01, -2.57883891e-02,\n",
       "        -1.50697729e-01, -2.75771096e-01],\n",
       "       [ 1.27310414e+00, -8.60869017e-01, -1.34908549e+00,\n",
       "         2.01158993e-01, -1.53448653e-01],\n",
       "       [-8.41460101e-01,  5.36255685e-01, -2.38338877e-01,\n",
       "        -1.13945116e+00,  7.65682628e-01],\n",
       "       [ 2.22876397e-01, -4.66504059e-01,  1.63714317e+00,\n",
       "         4.68009756e-01,  9.22297669e-01],\n",
       "       [-6.08866313e-01, -1.10619212e+00, -1.92353739e-01,\n",
       "         5.64155709e-01,  7.72793671e-01],\n",
       "       [ 5.00449257e-02, -9.76321661e-02,  4.18455298e-01,\n",
       "        -2.03973350e+00,  3.12368782e-01],\n",
       "       [-6.53025669e-01,  7.86660698e-01, -1.59783819e+00,\n",
       "         1.82425384e+00,  6.00168743e-01],\n",
       "       [ 6.71092215e-01, -5.86472863e-01, -1.17556026e-01,\n",
       "        -1.70638221e+00, -7.48200910e-02],\n",
       "       [ 9.92165446e-01,  2.91263237e-01, -1.61061872e+00,\n",
       "         5.20773727e-01,  2.47750862e+00],\n",
       "       [-2.02745742e+00,  4.97582830e-01, -7.91027156e-01,\n",
       "        -3.25457183e-01,  6.29609199e-01],\n",
       "       [ 7.86673980e-01, -1.77983196e+00, -3.76498765e-01,\n",
       "         3.70753023e-01,  1.50284623e+00],\n",
       "       [ 8.32933870e-01, -2.12028235e-01, -1.28302326e+00,\n",
       "         2.09689811e+00, -7.13435717e-01],\n",
       "       [ 3.36671006e-01,  2.58860712e-01, -2.13375372e-01,\n",
       "        -9.22459741e-01, -4.00345475e-01],\n",
       "       [ 1.15018234e+00, -9.79462163e-01, -1.56513623e+00,\n",
       "         1.37577336e+00,  5.59541471e-01],\n",
       "       [ 6.89958749e-01,  6.02413897e-01, -6.87234141e-01,\n",
       "        -4.60409795e-01,  4.85987645e-01],\n",
       "       [-3.15294744e-01, -9.80065255e-02, -1.14987113e+00,\n",
       "        -2.50539363e-01,  3.31554892e-01],\n",
       "       [ 3.00936937e-01,  5.87815390e-01,  2.53442814e-01,\n",
       "         1.50830611e+00, -3.61937707e-01],\n",
       "       [-9.62411303e-01, -1.69672614e-01, -2.01283516e-01,\n",
       "         1.31785482e-01, -1.26588783e-01],\n",
       "       [-1.20561595e+00, -1.19148302e+00,  7.55535142e-04,\n",
       "        -1.95083569e-01, -5.35797104e-01],\n",
       "       [-1.49529433e+00, -9.70733026e-01,  1.93911480e-01,\n",
       "         1.17214041e+00, -5.82044073e-01],\n",
       "       [ 5.84370237e-01,  4.55162046e-02, -6.84272880e-01,\n",
       "        -1.41627233e+00, -6.57523403e-01],\n",
       "       [ 1.03204615e+00,  1.78860540e+00,  1.81822184e+00,\n",
       "         1.44203619e+00,  2.23759698e+00],\n",
       "       [ 1.57126781e+00, -8.71690629e-01,  5.52759036e-01,\n",
       "        -1.17723462e+00,  4.26265904e-01],\n",
       "       [ 8.27421212e-01, -1.22826484e-02, -1.98330601e+00,\n",
       "        -5.38138571e-01,  1.00114346e-01],\n",
       "       [ 1.10220493e+00,  6.05966151e-01,  5.32492441e-01,\n",
       "        -3.61082458e-02, -4.04676802e-01],\n",
       "       [-4.96715945e-01, -1.85162896e+00,  5.53659477e-01,\n",
       "         2.94528713e-01,  1.84870019e+00],\n",
       "       [-3.46842565e-01, -1.68719181e+00, -2.81749825e-01,\n",
       "         8.04204499e-02,  1.08064620e+00],\n",
       "       [ 7.61217635e-01, -2.01189822e-01,  1.11867886e+00,\n",
       "         1.12066668e+00,  5.53118391e-01],\n",
       "       [ 1.06851739e+00,  6.17413748e-01, -2.09502095e+00,\n",
       "         5.00447092e-01, -3.39103889e-01],\n",
       "       [-1.24309266e+00,  1.03727427e+00, -1.95454223e-01,\n",
       "        -3.52152288e-01, -2.85307307e+00],\n",
       "       [-1.69055615e-01, -3.85890277e-01,  1.53900998e+00,\n",
       "         1.19193933e+00, -3.40088312e-02],\n",
       "       [ 7.78026262e-01,  1.76881781e-01,  1.31115436e+00,\n",
       "        -4.48271059e-02, -1.30963926e+00]])"
      ]
     },
     "execution_count": 14,
     "metadata": {},
     "output_type": "execute_result"
    }
   ],
   "source": [
    "Xwhite = Xrot / np.sqrt(S + 1e-5) # Whitening: 데이터의 각 차원을 고유값으로 나누어 크기를 정규화하는 과정\n",
    "Xwhite"
   ]
  },
  {
   "cell_type": "code",
   "execution_count": 15,
   "metadata": {},
   "outputs": [
    {
     "data": {
      "text/plain": [
       "(100, 5)"
      ]
     },
     "execution_count": 15,
     "metadata": {},
     "output_type": "execute_result"
    }
   ],
   "source": [
    "Xwhite.shape"
   ]
  }
 ],
 "metadata": {
  "kernelspec": {
   "display_name": "pytorch",
   "language": "python",
   "name": "python3"
  },
  "language_info": {
   "codemirror_mode": {
    "name": "ipython",
    "version": 3
   },
   "file_extension": ".py",
   "mimetype": "text/x-python",
   "name": "python",
   "nbconvert_exporter": "python",
   "pygments_lexer": "ipython3",
   "version": "3.9.18"
  }
 },
 "nbformat": 4,
 "nbformat_minor": 2
}
