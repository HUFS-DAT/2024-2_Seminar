{
  "nbformat": 4,
  "nbformat_minor": 0,
  "metadata": {
    "colab": {
      "provenance": []
    },
    "kernelspec": {
      "name": "python3",
      "display_name": "Python 3"
    },
    "language_info": {
      "name": "python"
    }
  },
  "cells": [
    {
      "cell_type": "markdown",
      "metadata": {
        "tags": [],
        "id": "OTbdBP_bQZPZ"
      },
      "source": [
        "# 머신 러닝 교과서 - 파이토치편"
      ]
    },
    {
      "cell_type": "markdown",
      "metadata": {
        "id": "Bp_C5xwlQZPc"
      },
      "source": [
        "<table align=\"left\"><tr><td>\n",
        "<a href=\"https://colab.research.google.com/github/rickiepark/ml-with-pytorch/blob/main/ch01/ch01.ipynb\" target=\"_parent\"><img src=\"https://colab.research.google.com/assets/colab-badge.svg\" alt=\"코랩에서 실행하기\"/></a>\n",
        "</td></tr></table>"
      ]
    },
    {
      "cell_type": "markdown",
      "metadata": {
        "id": "jIsVKWJJQZPg"
      },
      "source": [
        "# 1장 - 컴퓨터는 데이터에서 배운다"
      ]
    },
    {
      "cell_type": "markdown",
      "metadata": {
        "id": "TnOhnet-QZPh"
      },
      "source": [
        "### 목차"
      ]
    },
    {
      "cell_type": "markdown",
      "metadata": {
        "id": "FIan08U_QZPh"
      },
      "source": [
        "- 데이터를 지식으로 바꾸는 지능적인 시스템 구축\n",
        "- 머신 러닝의 세 가지 종류\n",
        "    - 지도 학습으로 미래 예측\n",
        "        - 분류: 클래스 레이블 예측\n",
        "        - 회귀: 연속적인 출력 값 예측\n",
        "    - 강화 학습으로 반응형 문제 해결\n",
        "    - 비지도 학습으로 숨겨진 구조 발견\n",
        "        - 군집: 서브그룹 찾기\n",
        "        - 차원 축소: 데이터 압축\n",
        "- 기본 용어와 표기법 소개\n",
        "    - 이 책에서 사용하는 표기법과 규칙\n",
        "    - 머신 러닝 용어\n",
        "- 머신 러닝 시스템 구축 로드맵\n",
        "    - 전처리: 데이터 형태 갖추기\n",
        "    - 예측 모델 훈련과 선택\n",
        "    - 모델을 평가하고 본 적 없는 샘플로 예측\n",
        "- 머신 러닝을 위한 파이썬\n",
        "    - 파이썬과 PIP에서 패키지 설치\n",
        "    - 아나콘다 파이썬 배포판과 패키지 관리자 사용\n",
        "    - 과학 컴퓨팅, 데이터 과학, 머신 러닝을 위한 패키지"
      ]
    },
    {
      "cell_type": "code",
      "execution_count": null,
      "metadata": {
        "id": "iB2o7dH_QZPh"
      },
      "outputs": [],
      "source": [
        "from IPython.display import Image"
      ]
    },
    {
      "cell_type": "markdown",
      "metadata": {
        "id": "dLgwkISVQZPh"
      },
      "source": [
        "# 데이터를 지식으로 바꾸는 지능적인 시스템 구축"
      ]
    },
    {
      "cell_type": "markdown",
      "metadata": {
        "id": "JuNJvgSxQZPi"
      },
      "source": [
        "# 머신 러닝의 세 가지 종류\n"
      ]
    },
    {
      "cell_type": "code",
      "execution_count": null,
      "metadata": {
        "id": "Wfs6LmgKQZPi",
        "outputId": "74354810-8f20-4c65-f433-a3067f7ae179",
        "colab": {
          "base_uri": "https://localhost:8080/",
          "height": 354
        }
      },
      "outputs": [
        {
          "output_type": "execute_result",
          "data": {
            "text/html": [
              "<img src=\"https://raw.githubusercontent.com/rickiepark/ml-with-pytorch/main/ch01/figures/01_01.png\" width=\"500\"/>"
            ],
            "text/plain": [
              "<IPython.core.display.Image object>"
            ]
          },
          "metadata": {},
          "execution_count": 4
        }
      ],
      "source": [
        "Image(url='https://raw.githubusercontent.com/rickiepark/ml-with-pytorch/main/ch01/figures/01_01.png', width=500)"
      ]
    },
    {
      "cell_type": "markdown",
      "metadata": {
        "id": "lxi8EXVRQZPi"
      },
      "source": [
        "## 지도 학습으로 미래 예측\n"
      ]
    },
    {
      "cell_type": "code",
      "execution_count": null,
      "metadata": {
        "id": "SMLK6PIbQZPi",
        "outputId": "c43c2add-e989-42a3-836c-710293c3b309",
        "colab": {
          "base_uri": "https://localhost:8080/",
          "height": 324
        }
      },
      "outputs": [
        {
          "output_type": "execute_result",
          "data": {
            "text/html": [
              "<img src=\"https://raw.githubusercontent.com/rickiepark/ml-with-pytorch/main/ch01/figures/01_02.png\" width=\"500\"/>"
            ],
            "text/plain": [
              "<IPython.core.display.Image object>"
            ]
          },
          "metadata": {},
          "execution_count": 5
        }
      ],
      "source": [
        "Image(url='https://raw.githubusercontent.com/rickiepark/ml-with-pytorch/main/ch01/figures/01_02.png', width=500)"
      ]
    },
    {
      "cell_type": "markdown",
      "metadata": {
        "id": "Ajs4VRSGQZPj"
      },
      "source": [
        "### 분류: 클래스 레이블 예측"
      ]
    },
    {
      "cell_type": "code",
      "execution_count": null,
      "metadata": {
        "id": "rSyt2UM1QZPj",
        "outputId": "37a3791e-b87f-49f9-ce97-267b75fa918b",
        "colab": {
          "base_uri": "https://localhost:8080/",
          "height": 334
        }
      },
      "outputs": [
        {
          "output_type": "execute_result",
          "data": {
            "text/html": [
              "<img src=\"https://raw.githubusercontent.com/rickiepark/ml-with-pytorch/main/ch01/figures/01_03.png\" width=\"300\"/>"
            ],
            "text/plain": [
              "<IPython.core.display.Image object>"
            ]
          },
          "metadata": {},
          "execution_count": 6
        }
      ],
      "source": [
        "Image(url='https://raw.githubusercontent.com/rickiepark/ml-with-pytorch/main/ch01/figures/01_03.png', width=300)"
      ]
    },
    {
      "cell_type": "markdown",
      "metadata": {
        "id": "ihCqmShNQZPj"
      },
      "source": [
        "### 회귀: 연속적인 출력 값 예측"
      ]
    },
    {
      "cell_type": "code",
      "execution_count": null,
      "metadata": {
        "id": "o_BTodYsQZPj",
        "outputId": "31d4bd66-5858-4495-8825-aa007453a63f",
        "colab": {
          "base_uri": "https://localhost:8080/",
          "height": 317
        }
      },
      "outputs": [
        {
          "output_type": "execute_result",
          "data": {
            "text/html": [
              "<img src=\"https://raw.githubusercontent.com/rickiepark/ml-with-pytorch/main/ch01/figures/01_04.png\" width=\"300\"/>"
            ],
            "text/plain": [
              "<IPython.core.display.Image object>"
            ]
          },
          "metadata": {},
          "execution_count": 7
        }
      ],
      "source": [
        "Image(url='https://raw.githubusercontent.com/rickiepark/ml-with-pytorch/main/ch01/figures/01_04.png', width=300)"
      ]
    },
    {
      "cell_type": "markdown",
      "metadata": {
        "id": "u2gYx4lAQZPj"
      },
      "source": [
        "## 강화 학습으로 반응형 문제 해결\n"
      ]
    },
    {
      "cell_type": "code",
      "execution_count": null,
      "metadata": {
        "id": "mJocxioYQZPk",
        "outputId": "16300d31-a961-4187-af9a-368c0a34e41c",
        "colab": {
          "base_uri": "https://localhost:8080/",
          "height": 179
        }
      },
      "outputs": [
        {
          "output_type": "execute_result",
          "data": {
            "text/html": [
              "<img src=\"https://raw.githubusercontent.com/rickiepark/ml-with-pytorch/main/ch01/figures/01_05.png\" width=\"300\"/>"
            ],
            "text/plain": [
              "<IPython.core.display.Image object>"
            ]
          },
          "metadata": {},
          "execution_count": 8
        }
      ],
      "source": [
        "Image(url='https://raw.githubusercontent.com/rickiepark/ml-with-pytorch/main/ch01/figures/01_05.png', width=300)"
      ]
    },
    {
      "cell_type": "markdown",
      "metadata": {
        "id": "pH-BkuicQZPk"
      },
      "source": [
        "## 비지도 학습으로 숨겨진 구조 발견\n"
      ]
    },
    {
      "cell_type": "markdown",
      "metadata": {
        "id": "go3FeagHQZPk"
      },
      "source": [
        "### 군집: 서브그룹 찾기\n"
      ]
    },
    {
      "cell_type": "code",
      "execution_count": null,
      "metadata": {
        "id": "cQWy0j1dQZPk",
        "outputId": "cd12dd82-a3b0-4971-e1f4-d92b6011277a",
        "colab": {
          "base_uri": "https://localhost:8080/",
          "height": 305
        }
      },
      "outputs": [
        {
          "output_type": "execute_result",
          "data": {
            "text/html": [
              "<img src=\"https://raw.githubusercontent.com/rickiepark/ml-with-pytorch/main/ch01/figures/01_06.png\" width=\"300\"/>"
            ],
            "text/plain": [
              "<IPython.core.display.Image object>"
            ]
          },
          "metadata": {},
          "execution_count": 9
        }
      ],
      "source": [
        "Image(url='https://raw.githubusercontent.com/rickiepark/ml-with-pytorch/main/ch01/figures/01_06.png', width=300)"
      ]
    },
    {
      "cell_type": "markdown",
      "metadata": {
        "id": "prjmvwCKQZPk"
      },
      "source": [
        "### 차원 축소: 데이터 압축\n"
      ]
    },
    {
      "cell_type": "code",
      "execution_count": null,
      "metadata": {
        "id": "DcYMQhybQZPl",
        "outputId": "42d4f3e9-7139-4d6b-ed9a-9a42fde831d1",
        "colab": {
          "base_uri": "https://localhost:8080/",
          "height": 225
        }
      },
      "outputs": [
        {
          "output_type": "execute_result",
          "data": {
            "text/html": [
              "<img src=\"https://raw.githubusercontent.com/rickiepark/ml-with-pytorch/main/ch01/figures/01_07.png\" width=\"500\"/>"
            ],
            "text/plain": [
              "<IPython.core.display.Image object>"
            ]
          },
          "metadata": {},
          "execution_count": 10
        }
      ],
      "source": [
        "Image(url='https://raw.githubusercontent.com/rickiepark/ml-with-pytorch/main/ch01/figures/01_07.png', width=500)"
      ]
    },
    {
      "cell_type": "markdown",
      "metadata": {
        "id": "MThtHBqfQZPl"
      },
      "source": [
        "# 기본 용어와 표기법 소개"
      ]
    },
    {
      "cell_type": "code",
      "execution_count": null,
      "metadata": {
        "id": "Ph9rKxrFQZPl",
        "outputId": "055d0d0e-af6d-44af-ce74-b95ef3ea9090",
        "colab": {
          "base_uri": "https://localhost:8080/",
          "height": 376
        }
      },
      "outputs": [
        {
          "output_type": "execute_result",
          "data": {
            "text/html": [
              "<img src=\"https://raw.githubusercontent.com/rickiepark/ml-with-pytorch/main/ch01/figures/01_08.png\" width=\"500\"/>"
            ],
            "text/plain": [
              "<IPython.core.display.Image object>"
            ]
          },
          "metadata": {},
          "execution_count": 11
        }
      ],
      "source": [
        "Image(url='https://raw.githubusercontent.com/rickiepark/ml-with-pytorch/main/ch01/figures/01_08.png', width=500)"
      ]
    },
    {
      "cell_type": "markdown",
      "source": [
        "$\\boldsymbol{X} \\in \\mathbb{R}^{150\\times4}$\n",
        "\n",
        "$\\begin{bmatrix}\n",
        "x_1^{(1)} & x_2^{(1)} & x_3^{(1)} & x_4^{(1)} \\\\\n",
        "x_1^{(2)} & x_2^{(2)} & x_3^{(2)} & x_4^{(2)} \\\\\n",
        "\\vdots & \\vdots & \\vdots & \\vdots \\\\\n",
        "x_1^{(150)} & x_2^{(150)} & x_3^{(150)} & x_4^{(150)} \\\\\n",
        "\\end{bmatrix}$\n",
        "\n",
        "벡터 : $\\boldsymbol{x}\\in\\mathbb{R}^{n\\times1}$\n",
        "\n",
        "행렬 : $\\boldsymbol{X}\\in\\mathbb{R}^{n\\times m}$\n",
        "\n",
        "샘플(행 벡터): $\\boldsymbol{x}^{(i)}=\\begin{bmatrix} x_1^{(i)} & x_2^{(i)} & x_3^{(i)} & x_4^{(i)}\\end{bmatrix}$\n",
        "\n",
        "특성(열 벡터): $\\boldsymbol{x}_j=\\begin{bmatrix} x_j^{(1)} \\\\ x_j^{(2)} \\\\ \\vdots \\\\ x_j^{(150)} \\end{bmatrix}$\n",
        "\n",
        "타깃(열 벡터): $\\boldsymbol{y}=\\begin{bmatrix} y^{(1)} \\\\ y^{(2)} \\\\ \\vdots \\\\ y^{(150)} \\end{bmatrix}$ $(y \\in \\text{\\{Setosa, Versicolor, Virginica\\}})$"
      ],
      "metadata": {
        "id": "EoUfnLjmoCLG"
      }
    },
    {
      "cell_type": "markdown",
      "metadata": {
        "id": "pJZTOjJeQZPl"
      },
      "source": [
        "# 머신 러닝 시스템 구축 로드맵\n"
      ]
    },
    {
      "cell_type": "code",
      "execution_count": null,
      "metadata": {
        "id": "IC52R7KCQZPl",
        "outputId": "d6f5c298-2a85-4884-c348-feb2c8a172ac",
        "colab": {
          "base_uri": "https://localhost:8080/",
          "height": 550
        }
      },
      "outputs": [
        {
          "output_type": "execute_result",
          "data": {
            "text/html": [
              "<img src=\"https://raw.githubusercontent.com/rickiepark/ml-with-pytorch/main/ch01/figures/01_09.png\" width=\"700\"/>"
            ],
            "text/plain": [
              "<IPython.core.display.Image object>"
            ]
          },
          "metadata": {},
          "execution_count": 12
        }
      ],
      "source": [
        "Image(url='https://raw.githubusercontent.com/rickiepark/ml-with-pytorch/main/ch01/figures/01_09.png', width=700)"
      ]
    },
    {
      "cell_type": "markdown",
      "metadata": {
        "id": "DMslMu2nQZPm"
      },
      "source": [
        "## 전처리: 데이터 형태 갖추기\n",
        "- 스케일 조정\n",
        "- 차원축소\n",
        "- 훈련데이터셋과 테스트 데이터셋\n"
      ]
    },
    {
      "cell_type": "markdown",
      "metadata": {
        "id": "GCnYSjjXQZPm"
      },
      "source": [
        "## 예측 모델 훈련과 선택\n",
        "- 공짜 점심 없음 : 어떤 모델이 성능이 잘 나올지 알 수가 없다\n",
        "- 분류 지표: 정확도 및 f1 스코어 등등\n",
        "- 교차검증\n"
      ]
    },
    {
      "cell_type": "markdown",
      "metadata": {
        "id": "tp1Bgy3_QZPm"
      },
      "source": [
        "## 모델을 평가하고 본 적 없는 샘플로 예측\n",
        "실전 투입\n",
        "- 일반화 오차(일반화 성능)\n",
        "- 훈련데이터셋에서 사용한 전처리 파라미터로 테스트 데이터셋/실제데이터도 똑같이 변환 후 사용해야함"
      ]
    },
    {
      "cell_type": "markdown",
      "metadata": {
        "id": "f-4P4leFQZPm"
      },
      "source": [
        "# 요약"
      ]
    },
    {
      "cell_type": "markdown",
      "metadata": {
        "id": "OrbmAIqKqAK6"
      },
      "source": [
        "# 2장 - 간단한 분류 알고리즘 훈련"
      ]
    },
    {
      "cell_type": "markdown",
      "metadata": {
        "id": "H6ohB3qhqAK7"
      },
      "source": [
        "### 목차\n",
        "\n",
        "- 인공 뉴런: 초기 머신 러닝의 간단한 역사\n",
        "    - 인공 뉴런의 수학적 정의\n",
        "    - 퍼셉트론 학습 규칙\n",
        "- 파이썬으로 퍼셉트론 학습 알고리즘 구현\n",
        "    - 객체 지향 퍼셉트론 API\n",
        "    - 붓꽃 데이터셋에서 퍼셉트론 훈련\n",
        "- 적응형 선형 뉴런과 학습의 수렴\n",
        "    - 경사 하강법으로 비용 함수 최소화\n",
        "    - 파이썬으로 아달린 구현\n",
        "    - 특성 스케일을 조정하여 경사 하강법 결과 향상\n",
        "    - 대규모 머신 러닝과 확률적 경사 하강법"
      ]
    },
    {
      "cell_type": "code",
      "execution_count": null,
      "metadata": {
        "execution": {
          "iopub.execute_input": "2021-10-23T05:49:14.421678Z",
          "iopub.status.busy": "2021-10-23T05:49:14.420609Z",
          "iopub.status.idle": "2021-10-23T05:49:14.423029Z",
          "shell.execute_reply": "2021-10-23T05:49:14.422347Z"
        },
        "id": "H7hW_HzPqAK8"
      },
      "outputs": [],
      "source": [
        "from IPython.display import Image"
      ]
    },
    {
      "cell_type": "markdown",
      "metadata": {
        "id": "hjRNovxBqAK8"
      },
      "source": [
        "<br>"
      ]
    },
    {
      "cell_type": "markdown",
      "metadata": {
        "id": "Fr9HSqsoqAK9"
      },
      "source": [
        "# 2.1 인공 뉴런: 초기 머신 러닝의 간단한 역사"
      ]
    },
    {
      "cell_type": "code",
      "execution_count": null,
      "metadata": {
        "colab": {
          "base_uri": "https://localhost:8080/",
          "height": 235
        },
        "execution": {
          "iopub.execute_input": "2021-10-23T05:49:14.434031Z",
          "iopub.status.busy": "2021-10-23T05:49:14.431909Z",
          "iopub.status.idle": "2021-10-23T05:49:14.437885Z",
          "shell.execute_reply": "2021-10-23T05:49:14.437327Z"
        },
        "id": "-q5FhqX_qAK9",
        "outputId": "db77b568-f02d-420a-d7ce-f2445f9d6632"
      },
      "outputs": [
        {
          "data": {
            "text/html": [
              "<img src=\"https://git.io/JtIbf\" width=\"500\"/>"
            ],
            "text/plain": [
              "<IPython.core.display.Image object>"
            ]
          },
          "execution_count": 2,
          "metadata": {},
          "output_type": "execute_result"
        }
      ],
      "source": [
        "Image(url='https://git.io/JtIbf', width=500)"
      ]
    },
    {
      "cell_type": "markdown",
      "metadata": {
        "id": "SpLFrQkI-Iwh"
      },
      "source": [
        "- 1943년 워렌 맥컬록(Warren McCulloch)과 월터 피츠(Walter Pitts)가 맥컬록-피츠(MCP) 뉴런 발표\n",
        "- 프랑크 로젠블라트(Frank Rosenblatt)는 MCP 뉴런 모델을 기반으로 퍼셉트론 학습 개념을 발표"
      ]
    },
    {
      "cell_type": "markdown",
      "metadata": {
        "id": "H98ahObaqALK"
      },
      "source": [
        "<br>"
      ]
    },
    {
      "cell_type": "markdown",
      "metadata": {
        "id": "qcS1fpThqAK-"
      },
      "source": [
        "## 2.1.1 인공 뉴런의 수학적 정의"
      ]
    },
    {
      "cell_type": "markdown",
      "metadata": {
        "id": "GT0gjzyV-Iwh"
      },
      "source": [
        "$\\boldsymbol{w}=\\begin{bmatrix} w_1 \\\\ \\vdots \\\\ w_m\\end{bmatrix}$ ,\n",
        "$\\boldsymbol{x}=\\begin{bmatrix} x_1 \\\\ \\vdots \\\\ x_m\\end{bmatrix}$\n",
        "\n",
        "최종 입력(net input) : $z = w_1x_1+w_2x_2+\\cdots+w_mx_m$\n",
        "\n",
        "\n",
        "벡터 점곱(dot product), 행렬 곱셈(matrix multiplication) :\n",
        "$\\begin{bmatrix}1&2&3\\end{bmatrix}\\times\\begin{bmatrix}4\\\\5\\\\6\\end{bmatrix}=1\\times4+2\\times5+3\\times6=32$\n",
        "\n",
        "점곱을 사용한 표현 : $z = w_1x_1+\\cdots+w_mx_m=\\sum_{j=1}^mx_jw_j=\\boldsymbol{w}^T\\boldsymbol{x}$\n",
        "\n",
        "퍼셉트론의 결정 함수 : $\\phi(z)=\\begin{cases}1&z\\ge\\theta\\mbox{ 일 때} \\\\ -1&\\mbox{그 외}\\end{cases}$\n",
        "$\\;\\;\\;\\;\\;$\n",
        "$\\phi(z)=\\begin{cases}1&z-\\theta\\ge0\\mbox{ 일 때} \\\\ -1&\\mbox{그 외}\\end{cases}$\n",
        "\n",
        "$w_0=-\\theta , x_0=1$ 일 때 : $z_{new} = w_0x_0+w_1x_1+\\cdots+w_mx_m=\\sum_{j=0}^mx_jw_j=\\boldsymbol{w}^T\\boldsymbol{x}$"
      ]
    },
    {
      "cell_type": "code",
      "execution_count": null,
      "metadata": {
        "colab": {
          "base_uri": "https://localhost:8080/",
          "height": 301
        },
        "execution": {
          "iopub.execute_input": "2021-10-23T05:49:14.444031Z",
          "iopub.status.busy": "2021-10-23T05:49:14.443018Z",
          "iopub.status.idle": "2021-10-23T05:49:14.446779Z",
          "shell.execute_reply": "2021-10-23T05:49:14.447226Z"
        },
        "id": "m2egC3TBqAK-",
        "outputId": "00775b03-9470-47a2-f222-3ec1f405794e"
      },
      "outputs": [
        {
          "data": {
            "text/html": [
              "<img src=\"https://git.io/JtIbL\" width=\"500\"/>"
            ],
            "text/plain": [
              "<IPython.core.display.Image object>"
            ]
          },
          "execution_count": 3,
          "metadata": {},
          "output_type": "execute_result"
        }
      ],
      "source": [
        "# 퍼셉트론 결정 함수(단위 계단 함수)와 결정 경계\n",
        "Image(url='https://git.io/JtIbL', width=500)"
      ]
    },
    {
      "cell_type": "markdown",
      "metadata": {
        "id": "mAuPvuta-Iwi"
      },
      "source": [
        "<br>"
      ]
    },
    {
      "cell_type": "markdown",
      "metadata": {
        "id": "q4CbGXjyqAK-"
      },
      "source": [
        "## 2.1.2 퍼셉트론 학습 규칙"
      ]
    },
    {
      "cell_type": "markdown",
      "metadata": {
        "id": "y1smPkjyqAK_"
      },
      "source": [
        "$\\Delta w_j = \\eta(y^{(i)}-\\hat{y}^{(i)})x_j^{(i)}$\n",
        "\n",
        "$w_j := w_j + \\Delta w_j$"
      ]
    },
    {
      "cell_type": "markdown",
      "metadata": {
        "id": "XApIteAcqAK_"
      },
      "source": [
        "클래스 레이블을 정확히 예측한 경우 :\n",
        "\n",
        "$y^{(i)}=-1,\\; \\hat{y}^{(i)}=-1, \\qquad \\Delta w_j=\\eta(-1-(-1))x_j^{(i)}=0$\n",
        "\n",
        "$y^{(i)}=1,\\; \\hat{y}^{(i)}=1, \\qquad \\Delta w_j=\\eta(1-1)x_j^{(i)}=0$"
      ]
    },
    {
      "cell_type": "markdown",
      "metadata": {
        "id": "u55ceXR9qAK_"
      },
      "source": [
        "클래스 레이블을 잘못 예측한 경우 :\n",
        "\n",
        "$y^{(i)}=1,\\;\\hat{y}^{(i)}=-1, \\qquad \\Delta w_j=\\eta(1-(-1))x_j^{(i)}=\\eta(2)x_j^{(i)}$\n",
        "\n",
        "$y^{(i)}=-1,\\;\\hat{y}^{(i)}=1, \\qquad \\Delta w_j=\\eta(-1-1)x_j^{(i)}=\\eta(-2)x_j^{(i)}$"
      ]
    },
    {
      "cell_type": "markdown",
      "metadata": {
        "id": "j6jDxcEoqAK_"
      },
      "source": [
        "예를 들어 $\\hat{y}^{(i)}=-1,\\;y^{(i)}=+1,\\;\\eta=1$ 이고, $x_j^{(i)}=0.5$ 일 때 :\n",
        "\n",
        "$\\Delta w_j=(1-(-1))0.5=(2)0.5=1$\n",
        "\n",
        "$x_j^{(i)}=2$ 일 때 :\n",
        "\n",
        "$\\Delta w_j=(1-(-1))2=(2)2=4$"
      ]
    },
    {
      "cell_type": "code",
      "execution_count": null,
      "metadata": {
        "colab": {
          "base_uri": "https://localhost:8080/",
          "height": 192
        },
        "execution": {
          "iopub.execute_input": "2021-10-23T05:49:14.452950Z",
          "iopub.status.busy": "2021-10-23T05:49:14.452160Z",
          "iopub.status.idle": "2021-10-23T05:49:14.455702Z",
          "shell.execute_reply": "2021-10-23T05:49:14.456150Z"
        },
        "id": "QeJHXlU4qAK_",
        "outputId": "27bd81b5-7346-4bcb-97f1-6275545d206a"
      },
      "outputs": [
        {
          "data": {
            "text/html": [
              "<img src=\"https://git.io/JtIbq\" width=\"600\"/>"
            ],
            "text/plain": [
              "<IPython.core.display.Image object>"
            ]
          },
          "execution_count": 4,
          "metadata": {},
          "output_type": "execute_result"
        }
      ],
      "source": [
        "Image(url='https://git.io/JtIbq', width=600)"
      ]
    },
    {
      "cell_type": "code",
      "execution_count": null,
      "metadata": {
        "colab": {
          "base_uri": "https://localhost:8080/",
          "height": 260
        },
        "execution": {
          "iopub.execute_input": "2021-10-23T05:49:14.461662Z",
          "iopub.status.busy": "2021-10-23T05:49:14.460639Z",
          "iopub.status.idle": "2021-10-23T05:49:14.464422Z",
          "shell.execute_reply": "2021-10-23T05:49:14.464881Z"
        },
        "id": "kRRcFM_BqALA",
        "outputId": "7acffa76-3881-4784-e689-f55a331d1581"
      },
      "outputs": [
        {
          "data": {
            "text/html": [
              "<img src=\"https://git.io/JtIbO\" width=\"600\"/>"
            ],
            "text/plain": [
              "<IPython.core.display.Image object>"
            ]
          },
          "execution_count": 5,
          "metadata": {},
          "output_type": "execute_result"
        }
      ],
      "source": [
        "# 퍼셉트론 알고리즘\n",
        "Image(url='https://git.io/JtIbO', width=600)"
      ]
    },
    {
      "cell_type": "markdown",
      "metadata": {
        "id": "7g3fMsmaqALA"
      },
      "source": [
        "<br>"
      ]
    },
    {
      "cell_type": "markdown",
      "metadata": {
        "id": "E813AMpDqALA"
      },
      "source": [
        "# 2.2 파이썬으로 퍼셉트론 학습 알고리즘 구현"
      ]
    },
    {
      "cell_type": "markdown",
      "metadata": {
        "id": "X53-_PH3qALA"
      },
      "source": [
        "## 2.2.1 객체 지향 퍼셉트론 API"
      ]
    },
    {
      "cell_type": "code",
      "execution_count": null,
      "metadata": {
        "execution": {
          "iopub.execute_input": "2021-10-23T05:49:14.476082Z",
          "iopub.status.busy": "2021-10-23T05:49:14.473555Z",
          "iopub.status.idle": "2021-10-23T05:49:14.611511Z",
          "shell.execute_reply": "2021-10-23T05:49:14.612056Z"
        },
        "id": "UYXKL2ixqALA"
      },
      "outputs": [],
      "source": [
        "import numpy as np\n",
        "\n",
        "\n",
        "class Perceptron(object):\n",
        "    \"\"\"퍼셉트론 분류기\n",
        "\n",
        "    매개변수\n",
        "    ------------\n",
        "    eta : float\n",
        "      학습률 (0.0과 1.0 사이)\n",
        "    n_iter : int\n",
        "      훈련 데이터셋 반복 횟수\n",
        "    random_state : int\n",
        "      가중치 무작위 초기화를 위한 난수 생성기 시드\n",
        "\n",
        "    속성\n",
        "    -----------\n",
        "    w_ : 1d-array\n",
        "      학습된 가중치\n",
        "    errors_ : list\n",
        "      에포크마다 누적된 분류 오류\n",
        "\n",
        "    \"\"\"\n",
        "    def __init__(self, eta=0.01, n_iter=50, random_state=1):\n",
        "        self.eta = eta\n",
        "        self.n_iter = n_iter\n",
        "        self.random_state = random_state\n",
        "\n",
        "    def fit(self, X, y):\n",
        "        \"\"\"훈련 데이터 학습\n",
        "\n",
        "        매개변수\n",
        "        ----------\n",
        "        X : array-like, shape = [n_samples, n_features]\n",
        "          n_samples개의 샘플과 n_features개의 특성으로 이루어진 훈련 데이터\n",
        "        y : array-like, shape = [n_samples]\n",
        "          타깃값\n",
        "\n",
        "        반환값\n",
        "        -------\n",
        "        self : object\n",
        "\n",
        "        \"\"\"\n",
        "        rgen = np.random.RandomState(self.random_state)\n",
        "        self.w_ = rgen.normal(loc=0.0, scale=0.01, size=1 + X.shape[1])\n",
        "        self.errors_ = []\n",
        "\n",
        "        for _ in range(self.n_iter):\n",
        "            errors = 0\n",
        "            for xi, target in zip(X, y):\n",
        "                update = self.eta * (target - self.predict(xi))\n",
        "                self.w_[1:] += update * xi\n",
        "                self.w_[0] += update\n",
        "                errors += int(update != 0.0)\n",
        "            self.errors_.append(errors)\n",
        "        return self\n",
        "\n",
        "    def net_input(self, X):\n",
        "        \"\"\"입력 계산\"\"\"\n",
        "        return np.dot(X, self.w_[1:]) + self.w_[0]\n",
        "\n",
        "    def predict(self, X):\n",
        "        \"\"\"단위 계단 함수를 사용하여 클래스 레이블을 반환합니다\"\"\"\n",
        "        return np.where(self.net_input(X) >= 0.0, 1, -1)"
      ]
    },
    {
      "cell_type": "markdown",
      "metadata": {
        "id": "m-VI4sBt-Iwj"
      },
      "source": [
        "$\\boldsymbol{w}^{(1)} = \\boldsymbol{w}^{(0)}+\\mathit\\Delta\\boldsymbol{w}=\\boldsymbol{w}^{(0)}+\\eta(\\boldsymbol{y}-\\boldsymbol{\\hat{y}})\\boldsymbol{x}=\\eta(\\boldsymbol{y}-\\phi(\\boldsymbol{w}^{(0)}\\boldsymbol{x}))\\boldsymbol{x}=\\eta(\\boldsymbol{y}+1)\\boldsymbol{x}$\n",
        "\n",
        "$a\\cdot b =\\vert a\\vert\\vert b\\vert\\text{cos}\\theta$\n",
        "\n",
        "$\\theta=\\text{cos}^{-1}\\dfrac{a\\cdot b}{\\vert a\\vert\\vert b\\vert}$"
      ]
    },
    {
      "cell_type": "code",
      "execution_count": null,
      "metadata": {
        "colab": {
          "base_uri": "https://localhost:8080/"
        },
        "execution": {
          "iopub.execute_input": "2021-10-23T05:49:14.616043Z",
          "iopub.status.busy": "2021-10-23T05:49:14.615368Z",
          "iopub.status.idle": "2021-10-23T05:49:14.620231Z",
          "shell.execute_reply": "2021-10-23T05:49:14.620702Z"
        },
        "id": "Wi9_qzykqALB",
        "outputId": "4bacc9c2-8305-4c54-af4a-026e73987868"
      },
      "outputs": [
        {
          "data": {
            "text/plain": [
              "0.0"
            ]
          },
          "execution_count": 7,
          "metadata": {},
          "output_type": "execute_result"
        }
      ],
      "source": [
        "v1 = np.array([1, 2, 3])\n",
        "v2 = 0.5 * v1\n",
        "np.arccos(v1.dot(v2) / (np.linalg.norm(v1) * np.linalg.norm(v2)))"
      ]
    },
    {
      "cell_type": "markdown",
      "metadata": {
        "id": "PETPUylh-Iwk"
      },
      "source": [
        "<br>"
      ]
    },
    {
      "cell_type": "markdown",
      "metadata": {
        "id": "TXzkl6OdqALB"
      },
      "source": [
        "## 2.2.2 붓꽃 데이터셋에서 퍼셉트론 훈련"
      ]
    },
    {
      "cell_type": "markdown",
      "metadata": {
        "id": "raRwqKBRqALC"
      },
      "source": [
        "### 붓꽃 데이터셋 읽기"
      ]
    },
    {
      "cell_type": "code",
      "execution_count": null,
      "metadata": {
        "colab": {
          "base_uri": "https://localhost:8080/",
          "height": 224
        },
        "execution": {
          "iopub.execute_input": "2021-10-23T05:49:14.624758Z",
          "iopub.status.busy": "2021-10-23T05:49:14.624131Z",
          "iopub.status.idle": "2021-10-23T05:49:15.647834Z",
          "shell.execute_reply": "2021-10-23T05:49:15.647022Z"
        },
        "id": "7fZajroDqALC",
        "outputId": "86e7f24a-e76c-4318-9627-22c5d7b59fe7"
      },
      "outputs": [
        {
          "name": "stdout",
          "output_type": "stream",
          "text": [
            "URL: https://archive.ics.uci.edu/ml/machine-learning-databases/iris/iris.data\n"
          ]
        },
        {
          "data": {
            "text/html": [
              "\n",
              "  <div id=\"df-505023ef-98f6-46e1-b4eb-adb00dd164d5\" class=\"colab-df-container\">\n",
              "    <div>\n",
              "<style scoped>\n",
              "    .dataframe tbody tr th:only-of-type {\n",
              "        vertical-align: middle;\n",
              "    }\n",
              "\n",
              "    .dataframe tbody tr th {\n",
              "        vertical-align: top;\n",
              "    }\n",
              "\n",
              "    .dataframe thead th {\n",
              "        text-align: right;\n",
              "    }\n",
              "</style>\n",
              "<table border=\"1\" class=\"dataframe\">\n",
              "  <thead>\n",
              "    <tr style=\"text-align: right;\">\n",
              "      <th></th>\n",
              "      <th>0</th>\n",
              "      <th>1</th>\n",
              "      <th>2</th>\n",
              "      <th>3</th>\n",
              "      <th>4</th>\n",
              "    </tr>\n",
              "  </thead>\n",
              "  <tbody>\n",
              "    <tr>\n",
              "      <th>145</th>\n",
              "      <td>6.7</td>\n",
              "      <td>3.0</td>\n",
              "      <td>5.2</td>\n",
              "      <td>2.3</td>\n",
              "      <td>Iris-virginica</td>\n",
              "    </tr>\n",
              "    <tr>\n",
              "      <th>146</th>\n",
              "      <td>6.3</td>\n",
              "      <td>2.5</td>\n",
              "      <td>5.0</td>\n",
              "      <td>1.9</td>\n",
              "      <td>Iris-virginica</td>\n",
              "    </tr>\n",
              "    <tr>\n",
              "      <th>147</th>\n",
              "      <td>6.5</td>\n",
              "      <td>3.0</td>\n",
              "      <td>5.2</td>\n",
              "      <td>2.0</td>\n",
              "      <td>Iris-virginica</td>\n",
              "    </tr>\n",
              "    <tr>\n",
              "      <th>148</th>\n",
              "      <td>6.2</td>\n",
              "      <td>3.4</td>\n",
              "      <td>5.4</td>\n",
              "      <td>2.3</td>\n",
              "      <td>Iris-virginica</td>\n",
              "    </tr>\n",
              "    <tr>\n",
              "      <th>149</th>\n",
              "      <td>5.9</td>\n",
              "      <td>3.0</td>\n",
              "      <td>5.1</td>\n",
              "      <td>1.8</td>\n",
              "      <td>Iris-virginica</td>\n",
              "    </tr>\n",
              "  </tbody>\n",
              "</table>\n",
              "</div>\n",
              "    <div class=\"colab-df-buttons\">\n",
              "\n",
              "  <div class=\"colab-df-container\">\n",
              "    <button class=\"colab-df-convert\" onclick=\"convertToInteractive('df-505023ef-98f6-46e1-b4eb-adb00dd164d5')\"\n",
              "            title=\"Convert this dataframe to an interactive table.\"\n",
              "            style=\"display:none;\">\n",
              "\n",
              "  <svg xmlns=\"http://www.w3.org/2000/svg\" height=\"24px\" viewBox=\"0 -960 960 960\">\n",
              "    <path d=\"M120-120v-720h720v720H120Zm60-500h600v-160H180v160Zm220 220h160v-160H400v160Zm0 220h160v-160H400v160ZM180-400h160v-160H180v160Zm440 0h160v-160H620v160ZM180-180h160v-160H180v160Zm440 0h160v-160H620v160Z\"/>\n",
              "  </svg>\n",
              "    </button>\n",
              "\n",
              "  <style>\n",
              "    .colab-df-container {\n",
              "      display:flex;\n",
              "      gap: 12px;\n",
              "    }\n",
              "\n",
              "    .colab-df-convert {\n",
              "      background-color: #E8F0FE;\n",
              "      border: none;\n",
              "      border-radius: 50%;\n",
              "      cursor: pointer;\n",
              "      display: none;\n",
              "      fill: #1967D2;\n",
              "      height: 32px;\n",
              "      padding: 0 0 0 0;\n",
              "      width: 32px;\n",
              "    }\n",
              "\n",
              "    .colab-df-convert:hover {\n",
              "      background-color: #E2EBFA;\n",
              "      box-shadow: 0px 1px 2px rgba(60, 64, 67, 0.3), 0px 1px 3px 1px rgba(60, 64, 67, 0.15);\n",
              "      fill: #174EA6;\n",
              "    }\n",
              "\n",
              "    .colab-df-buttons div {\n",
              "      margin-bottom: 4px;\n",
              "    }\n",
              "\n",
              "    [theme=dark] .colab-df-convert {\n",
              "      background-color: #3B4455;\n",
              "      fill: #D2E3FC;\n",
              "    }\n",
              "\n",
              "    [theme=dark] .colab-df-convert:hover {\n",
              "      background-color: #434B5C;\n",
              "      box-shadow: 0px 1px 3px 1px rgba(0, 0, 0, 0.15);\n",
              "      filter: drop-shadow(0px 1px 2px rgba(0, 0, 0, 0.3));\n",
              "      fill: #FFFFFF;\n",
              "    }\n",
              "  </style>\n",
              "\n",
              "    <script>\n",
              "      const buttonEl =\n",
              "        document.querySelector('#df-505023ef-98f6-46e1-b4eb-adb00dd164d5 button.colab-df-convert');\n",
              "      buttonEl.style.display =\n",
              "        google.colab.kernel.accessAllowed ? 'block' : 'none';\n",
              "\n",
              "      async function convertToInteractive(key) {\n",
              "        const element = document.querySelector('#df-505023ef-98f6-46e1-b4eb-adb00dd164d5');\n",
              "        const dataTable =\n",
              "          await google.colab.kernel.invokeFunction('convertToInteractive',\n",
              "                                                    [key], {});\n",
              "        if (!dataTable) return;\n",
              "\n",
              "        const docLinkHtml = 'Like what you see? Visit the ' +\n",
              "          '<a target=\"_blank\" href=https://colab.research.google.com/notebooks/data_table.ipynb>data table notebook</a>'\n",
              "          + ' to learn more about interactive tables.';\n",
              "        element.innerHTML = '';\n",
              "        dataTable['output_type'] = 'display_data';\n",
              "        await google.colab.output.renderOutput(dataTable, element);\n",
              "        const docLink = document.createElement('div');\n",
              "        docLink.innerHTML = docLinkHtml;\n",
              "        element.appendChild(docLink);\n",
              "      }\n",
              "    </script>\n",
              "  </div>\n",
              "\n",
              "\n",
              "<div id=\"df-d8bd3831-436b-43e5-ad8d-fe155bcf1a50\">\n",
              "  <button class=\"colab-df-quickchart\" onclick=\"quickchart('df-d8bd3831-436b-43e5-ad8d-fe155bcf1a50')\"\n",
              "            title=\"Suggest charts\"\n",
              "            style=\"display:none;\">\n",
              "\n",
              "<svg xmlns=\"http://www.w3.org/2000/svg\" height=\"24px\"viewBox=\"0 0 24 24\"\n",
              "     width=\"24px\">\n",
              "    <g>\n",
              "        <path d=\"M19 3H5c-1.1 0-2 .9-2 2v14c0 1.1.9 2 2 2h14c1.1 0 2-.9 2-2V5c0-1.1-.9-2-2-2zM9 17H7v-7h2v7zm4 0h-2V7h2v10zm4 0h-2v-4h2v4z\"/>\n",
              "    </g>\n",
              "</svg>\n",
              "  </button>\n",
              "\n",
              "<style>\n",
              "  .colab-df-quickchart {\n",
              "      --bg-color: #E8F0FE;\n",
              "      --fill-color: #1967D2;\n",
              "      --hover-bg-color: #E2EBFA;\n",
              "      --hover-fill-color: #174EA6;\n",
              "      --disabled-fill-color: #AAA;\n",
              "      --disabled-bg-color: #DDD;\n",
              "  }\n",
              "\n",
              "  [theme=dark] .colab-df-quickchart {\n",
              "      --bg-color: #3B4455;\n",
              "      --fill-color: #D2E3FC;\n",
              "      --hover-bg-color: #434B5C;\n",
              "      --hover-fill-color: #FFFFFF;\n",
              "      --disabled-bg-color: #3B4455;\n",
              "      --disabled-fill-color: #666;\n",
              "  }\n",
              "\n",
              "  .colab-df-quickchart {\n",
              "    background-color: var(--bg-color);\n",
              "    border: none;\n",
              "    border-radius: 50%;\n",
              "    cursor: pointer;\n",
              "    display: none;\n",
              "    fill: var(--fill-color);\n",
              "    height: 32px;\n",
              "    padding: 0;\n",
              "    width: 32px;\n",
              "  }\n",
              "\n",
              "  .colab-df-quickchart:hover {\n",
              "    background-color: var(--hover-bg-color);\n",
              "    box-shadow: 0 1px 2px rgba(60, 64, 67, 0.3), 0 1px 3px 1px rgba(60, 64, 67, 0.15);\n",
              "    fill: var(--button-hover-fill-color);\n",
              "  }\n",
              "\n",
              "  .colab-df-quickchart-complete:disabled,\n",
              "  .colab-df-quickchart-complete:disabled:hover {\n",
              "    background-color: var(--disabled-bg-color);\n",
              "    fill: var(--disabled-fill-color);\n",
              "    box-shadow: none;\n",
              "  }\n",
              "\n",
              "  .colab-df-spinner {\n",
              "    border: 2px solid var(--fill-color);\n",
              "    border-color: transparent;\n",
              "    border-bottom-color: var(--fill-color);\n",
              "    animation:\n",
              "      spin 1s steps(1) infinite;\n",
              "  }\n",
              "\n",
              "  @keyframes spin {\n",
              "    0% {\n",
              "      border-color: transparent;\n",
              "      border-bottom-color: var(--fill-color);\n",
              "      border-left-color: var(--fill-color);\n",
              "    }\n",
              "    20% {\n",
              "      border-color: transparent;\n",
              "      border-left-color: var(--fill-color);\n",
              "      border-top-color: var(--fill-color);\n",
              "    }\n",
              "    30% {\n",
              "      border-color: transparent;\n",
              "      border-left-color: var(--fill-color);\n",
              "      border-top-color: var(--fill-color);\n",
              "      border-right-color: var(--fill-color);\n",
              "    }\n",
              "    40% {\n",
              "      border-color: transparent;\n",
              "      border-right-color: var(--fill-color);\n",
              "      border-top-color: var(--fill-color);\n",
              "    }\n",
              "    60% {\n",
              "      border-color: transparent;\n",
              "      border-right-color: var(--fill-color);\n",
              "    }\n",
              "    80% {\n",
              "      border-color: transparent;\n",
              "      border-right-color: var(--fill-color);\n",
              "      border-bottom-color: var(--fill-color);\n",
              "    }\n",
              "    90% {\n",
              "      border-color: transparent;\n",
              "      border-bottom-color: var(--fill-color);\n",
              "    }\n",
              "  }\n",
              "</style>\n",
              "\n",
              "  <script>\n",
              "    async function quickchart(key) {\n",
              "      const quickchartButtonEl =\n",
              "        document.querySelector('#' + key + ' button');\n",
              "      quickchartButtonEl.disabled = true;  // To prevent multiple clicks.\n",
              "      quickchartButtonEl.classList.add('colab-df-spinner');\n",
              "      try {\n",
              "        const charts = await google.colab.kernel.invokeFunction(\n",
              "            'suggestCharts', [key], {});\n",
              "      } catch (error) {\n",
              "        console.error('Error during call to suggestCharts:', error);\n",
              "      }\n",
              "      quickchartButtonEl.classList.remove('colab-df-spinner');\n",
              "      quickchartButtonEl.classList.add('colab-df-quickchart-complete');\n",
              "    }\n",
              "    (() => {\n",
              "      let quickchartButtonEl =\n",
              "        document.querySelector('#df-d8bd3831-436b-43e5-ad8d-fe155bcf1a50 button');\n",
              "      quickchartButtonEl.style.display =\n",
              "        google.colab.kernel.accessAllowed ? 'block' : 'none';\n",
              "    })();\n",
              "  </script>\n",
              "</div>\n",
              "    </div>\n",
              "  </div>\n"
            ],
            "text/plain": [
              "       0    1    2    3               4\n",
              "145  6.7  3.0  5.2  2.3  Iris-virginica\n",
              "146  6.3  2.5  5.0  1.9  Iris-virginica\n",
              "147  6.5  3.0  5.2  2.0  Iris-virginica\n",
              "148  6.2  3.4  5.4  2.3  Iris-virginica\n",
              "149  5.9  3.0  5.1  1.8  Iris-virginica"
            ]
          },
          "execution_count": 8,
          "metadata": {},
          "output_type": "execute_result"
        }
      ],
      "source": [
        "import os\n",
        "import pandas as pd\n",
        "\n",
        "\n",
        "s = 'https://archive.ics.uci.edu/ml/machine-learning-databases/iris/iris.data'\n",
        "print('URL:', s)\n",
        "\n",
        "df = pd.read_csv(s, header=None, encoding='utf-8')\n",
        "df.tail()"
      ]
    },
    {
      "cell_type": "markdown",
      "metadata": {
        "id": "Lc6Bt3ogqALD"
      },
      "source": [
        "### 붓꽃 데이터 그래프 그리기"
      ]
    },
    {
      "cell_type": "code",
      "execution_count": null,
      "metadata": {
        "colab": {
          "base_uri": "https://localhost:8080/",
          "height": 449
        },
        "execution": {
          "iopub.execute_input": "2021-10-23T05:49:15.658083Z",
          "iopub.status.busy": "2021-10-23T05:49:15.657338Z",
          "iopub.status.idle": "2021-10-23T05:49:16.078313Z",
          "shell.execute_reply": "2021-10-23T05:49:16.077583Z"
        },
        "id": "XcshxMesqALD",
        "outputId": "305c61c2-6474-4e15-f1bf-aa5f9bcf6e77"
      },
      "outputs": [
        {
          "data": {
            "image/png": "[encoded data removed]",
            "text/plain": [
              "<Figure size 640x480 with 1 Axes>"
            ]
          },
          "metadata": {},
          "output_type": "display_data"
        }
      ],
      "source": [
        "%matplotlib inline\n",
        "import matplotlib.pyplot as plt\n",
        "import numpy as np\n",
        "\n",
        "# setosa와 versicolor를 선택합니다\n",
        "y = df.iloc[0:100, 4].values\n",
        "y = np.where(y == 'Iris-setosa', -1, 1)\n",
        "\n",
        "# 꽃받침 길이와 꽃잎 길이를 추출합니다\n",
        "X = df.iloc[0:100, [0, 2]].values\n",
        "\n",
        "# 산점도를 그립니다, setosa-음성, versicolor-양성\n",
        "plt.scatter(X[:50, 0], X[:50, 1],\n",
        "            color='red', marker='o', label='setosa')\n",
        "plt.scatter(X[50:100, 0], X[50:100, 1],\n",
        "            color='blue', marker='x', label='versicolor')\n",
        "\n",
        "plt.xlabel('sepal length [cm]')\n",
        "plt.ylabel('petal length [cm]')\n",
        "plt.legend(loc='upper left')\n",
        "\n",
        "# plt.savefig('images/02_06.png', dpi=300)\n",
        "plt.show()"
      ]
    },
    {
      "cell_type": "markdown",
      "metadata": {
        "id": "i1Iv80F_qALD"
      },
      "source": [
        "### 퍼셉트론 모델 훈련하기"
      ]
    },
    {
      "cell_type": "code",
      "execution_count": null,
      "metadata": {
        "colab": {
          "base_uri": "https://localhost:8080/",
          "height": 449
        },
        "execution": {
          "iopub.execute_input": "2021-10-23T05:49:16.137478Z",
          "iopub.status.busy": "2021-10-23T05:49:16.083504Z",
          "iopub.status.idle": "2021-10-23T05:49:16.234584Z",
          "shell.execute_reply": "2021-10-23T05:49:16.235431Z"
        },
        "id": "i7rZoVY9qALE",
        "outputId": "c0f1ebeb-db51-49c7-8010-690e974d9daa"
      },
      "outputs": [
        {
          "data": {
            "image/png": "[encoded data removed]",
            "text/plain": [
              "<Figure size 640x480 with 1 Axes>"
            ]
          },
          "metadata": {},
          "output_type": "display_data"
        }
      ],
      "source": [
        "ppn = Perceptron(eta=0.1, n_iter=10)\n",
        "\n",
        "ppn.fit(X, y)\n",
        "\n",
        "plt.plot(range(1, len(ppn.errors_) + 1), ppn.errors_, marker='o')\n",
        "plt.xlabel('Epochs')\n",
        "plt.ylabel('Number of updates')\n",
        "\n",
        "# plt.savefig('images/02_07.png', dpi=300)\n",
        "plt.show()"
      ]
    },
    {
      "cell_type": "markdown",
      "metadata": {
        "id": "uPBaThajqALE"
      },
      "source": [
        "### 결정 경계 그래프 함수"
      ]
    },
    {
      "cell_type": "code",
      "execution_count": null,
      "metadata": {
        "execution": {
          "iopub.execute_input": "2021-10-23T05:49:16.248170Z",
          "iopub.status.busy": "2021-10-23T05:49:16.246966Z",
          "iopub.status.idle": "2021-10-23T05:49:16.249608Z",
          "shell.execute_reply": "2021-10-23T05:49:16.248983Z"
        },
        "id": "RKhIj0ynqALE"
      },
      "outputs": [],
      "source": [
        "from matplotlib.colors import ListedColormap\n",
        "\n",
        "\n",
        "def plot_decision_regions(X, y, classifier, resolution=0.02):\n",
        "\n",
        "    # 마커와 컬러맵을 설정합니다\n",
        "    markers = ('s', 'x', 'o', '^', 'v')\n",
        "    colors = ('red', 'blue', 'lightgreen', 'gray', 'cyan')\n",
        "    cmap = ListedColormap(colors[:len(np.unique(y))])\n",
        "\n",
        "    # 결정 경계를 그립니다\n",
        "    x1_min, x1_max = X[:, 0].min() - 1, X[:, 0].max() + 1  # 꽃받침 길이 최소/최대\n",
        "    x2_min, x2_max = X[:, 1].min() - 1, X[:, 1].max() + 1  # 꽃잎 길이 최소/최대\n",
        "    xx1, xx2 = np.meshgrid(np.arange(x1_min, x1_max, resolution),\n",
        "                           np.arange(x2_min, x2_max, resolution))\n",
        "    Z = classifier.predict(np.array([xx1.ravel(), xx2.ravel()]).T)\n",
        "    Z = Z.reshape(xx1.shape)\n",
        "    plt.contourf(xx1, xx2, Z, alpha=0.3, cmap=cmap)\n",
        "    plt.xlim(xx1.min(), xx1.max())\n",
        "    plt.ylim(xx2.min(), xx2.max())\n",
        "\n",
        "    # 샘플의 산점도를 그립니다\n",
        "    for idx, cl in enumerate(np.unique(y)):\n",
        "        plt.scatter(x=X[y == cl, 0],\n",
        "                    y=X[y == cl, 1],\n",
        "                    alpha=0.8,\n",
        "                    c=colors[idx],\n",
        "                    marker=markers[idx],\n",
        "                    label=cl,\n",
        "                    edgecolor=None if idx==1 else 'black')"
      ]
    },
    {
      "cell_type": "code",
      "execution_count": null,
      "metadata": {
        "colab": {
          "base_uri": "https://localhost:8080/",
          "height": 450
        },
        "execution": {
          "iopub.execute_input": "2021-10-23T05:49:16.255014Z",
          "iopub.status.busy": "2021-10-23T05:49:16.254186Z",
          "iopub.status.idle": "2021-10-23T05:49:16.462238Z",
          "shell.execute_reply": "2021-10-23T05:49:16.462696Z"
        },
        "id": "ux8HGXQSqALE",
        "outputId": "a844ee8a-0b72-4d34-c96c-a9368bfe5535"
      },
      "outputs": [
        {
          "data": {
            "image/png": "[encoded data removed]",
            "text/plain": [
              "<Figure size 640x480 with 1 Axes>"
            ]
          },
          "metadata": {},
          "output_type": "display_data"
        }
      ],
      "source": [
        "plot_decision_regions(X, y, classifier=ppn)\n",
        "plt.xlabel('sepal length [cm]')\n",
        "plt.ylabel('petal length [cm]')\n",
        "plt.legend(loc='upper left')\n",
        "\n",
        "# plt.savefig('images/02_08.png', dpi=300)\n",
        "plt.show()"
      ]
    },
    {
      "cell_type": "markdown",
      "metadata": {
        "id": "WEdYJwaXqALF"
      },
      "source": [
        "<br>"
      ]
    },
    {
      "cell_type": "markdown",
      "metadata": {
        "id": "VwzhuiRWqALF"
      },
      "source": [
        "# 2.3 적응형 선형 뉴런과 학습의 수렴"
      ]
    },
    {
      "cell_type": "code",
      "execution_count": null,
      "metadata": {
        "colab": {
          "base_uri": "https://localhost:8080/",
          "height": 451
        },
        "execution": {
          "iopub.execute_input": "2021-10-23T05:49:16.468172Z",
          "iopub.status.busy": "2021-10-23T05:49:16.467421Z",
          "iopub.status.idle": "2021-10-23T05:49:16.471404Z",
          "shell.execute_reply": "2021-10-23T05:49:16.470761Z"
        },
        "id": "H3SPVRtIqALF",
        "outputId": "ed24d50f-2f48-4090-c8d9-787c427c56c9"
      },
      "outputs": [
        {
          "data": {
            "text/html": [
              "<img src=\"https://git.io/JtIbn\" width=\"600\"/>"
            ],
            "text/plain": [
              "<IPython.core.display.Image object>"
            ]
          },
          "execution_count": 13,
          "metadata": {},
          "output_type": "execute_result"
        }
      ],
      "source": [
        "Image(url='https://git.io/JtIbn', width=600)"
      ]
    },
    {
      "cell_type": "markdown",
      "metadata": {
        "id": "T_QZBd5q-Iwq"
      },
      "source": [
        "아달린의 활성화 함수 : $\\phi(z) = z$"
      ]
    },
    {
      "cell_type": "markdown",
      "metadata": {
        "id": "RqhqlofW-Iwq"
      },
      "source": [
        "<br>"
      ]
    },
    {
      "cell_type": "markdown",
      "metadata": {
        "id": "GhERmxUDqALF"
      },
      "source": [
        "## 2.3.1 경사 하강법으로 비용 함수 최소화"
      ]
    },
    {
      "cell_type": "markdown",
      "metadata": {
        "id": "EqUN1U7m-Iwq"
      },
      "source": [
        "목적 함수 == 비용 함수 == 손실 함수\n",
        "\n",
        "$J(\\boldsymbol{w})=\\dfrac{1}{2}\\sum_i\\left(y^{(i)}-\\phi(z^{(i)})\\right)^2$"
      ]
    },
    {
      "cell_type": "markdown",
      "source": [
        "미분 시 편의를 위해 1/2을 곱함  \n",
        "그래프 대칭성 유지"
      ],
      "metadata": {
        "id": "tyxbEtagF1tW"
      }
    },
    {
      "cell_type": "code",
      "execution_count": null,
      "metadata": {
        "colab": {
          "base_uri": "https://localhost:8080/",
          "height": 276
        },
        "execution": {
          "iopub.execute_input": "2021-10-23T05:49:16.476935Z",
          "iopub.status.busy": "2021-10-23T05:49:16.476018Z",
          "iopub.status.idle": "2021-10-23T05:49:16.479602Z",
          "shell.execute_reply": "2021-10-23T05:49:16.478970Z"
        },
        "id": "tJS1Uk5ZqALF",
        "outputId": "24c2fe8b-fec2-4f7f-a334-a344232bc28e",
        "scrolled": true
      },
      "outputs": [
        {
          "data": {
            "text/html": [
              "<img src=\"https://git.io/JtIbc\" width=\"500\"/>"
            ],
            "text/plain": [
              "<IPython.core.display.Image object>"
            ]
          },
          "execution_count": 14,
          "metadata": {},
          "output_type": "execute_result"
        }
      ],
      "source": [
        "Image(url='https://git.io/JtIbc', width=500)"
      ]
    },
    {
      "cell_type": "markdown",
      "metadata": {
        "id": "3gqRpFrG-Iwr"
      },
      "source": [
        "$\\\n",
        "\\begin{align*}\n",
        "\\dfrac{\\partial J}{\\partial w_j}\\\n",
        "&=\\dfrac{\\partial}{\\partial w_j}\\dfrac{1}{2}\\sum_i\\left(y^{(i)}-\\phi(z^{(i)})\\right)^2 \\\\\n",
        "&=\\dfrac{1}{2}\\dfrac{\\partial}{\\partial w_j}\\sum_i\\left(y^{(i)}-\\phi(z^{(i)})\\right)^2 \\\\\n",
        "&=\\dfrac{1}{2}\\sum_i2\\left(y^{(i)}-\\phi(z^{(i)})\\right)\\dfrac{\\partial}{\\partial w_j}\\left(y^{(i)}-\\phi(z^{(i)})\\right) \\\\\n",
        "&=\\sum_i\\left(y^{(i)}-\\phi(z^{(i)})\\right)\\dfrac{\\partial}{\\partial w_j}\\left(y^{(i)}-\\sum(w_kx_k^{(i)})\\right) \\\\\n",
        "&=\\sum_i\\left(y^{(i)}-\\phi(z^{(i)})\\right)\\left(-x_j^{(i)}\\right) \\\\\n",
        "&=-\\sum_i\\left(y^{(i)}-\\phi(z^{(i)})\\right)x_j^{(i)} \\\\\n",
        "\\end{align*}\n",
        "$\n",
        "\n",
        "$\\mathit\\Delta w_j=-\\eta\\dfrac{\\partial J}{\\partial w_j}=\\eta\\sum_i\\left(y^{(i)}-\\phi(z^{(i)})\\right)x_j^{(i)}$\n",
        "\n",
        "$\\boldsymbol{w} := \\boldsymbol{w} + \\mathit\\Delta \\boldsymbol{w}$"
      ]
    },
    {
      "cell_type": "markdown",
      "metadata": {
        "id": "csOcD18f-Iwr"
      },
      "source": [
        "<br>"
      ]
    },
    {
      "cell_type": "markdown",
      "metadata": {
        "id": "tJ0OEDXpqALG"
      },
      "source": [
        "## 2.3.2 파이썬으로 아달린 구현하기"
      ]
    },
    {
      "cell_type": "code",
      "execution_count": null,
      "metadata": {
        "execution": {
          "iopub.execute_input": "2021-10-23T05:49:16.490203Z",
          "iopub.status.busy": "2021-10-23T05:49:16.488420Z",
          "iopub.status.idle": "2021-10-23T05:49:16.492385Z",
          "shell.execute_reply": "2021-10-23T05:49:16.492812Z"
        },
        "id": "r_X9q8k_qALG"
      },
      "outputs": [],
      "source": [
        "class AdalineGD(object):\n",
        "    \"\"\"적응형 선형 뉴런 분류기\n",
        "\n",
        "    매개변수\n",
        "    ------------\n",
        "    eta : float\n",
        "      학습률 (0.0과 1.0 사이)\n",
        "    n_iter : int\n",
        "      훈련 데이터셋 반복 횟수\n",
        "    random_state : int\n",
        "      가중치 무작위 초기화를 위한 난수 생성기 시드\n",
        "\n",
        "    속성\n",
        "    -----------\n",
        "    w_ : 1d-array\n",
        "      학습된 가중치\n",
        "    cost_ : list\n",
        "      에포크마다 누적된 비용 함수의 제곱합\n",
        "\n",
        "    \"\"\"\n",
        "    def __init__(self, eta=0.01, n_iter=50, random_state=1):\n",
        "        self.eta = eta\n",
        "        self.n_iter = n_iter\n",
        "        self.random_state = random_state\n",
        "\n",
        "    def fit(self, X, y):\n",
        "        \"\"\"훈련 데이터 학습\n",
        "\n",
        "        매개변수\n",
        "        ----------\n",
        "        X : array-like, shape = [n_samples, n_features]\n",
        "          n_samples 개의 샘플과 n_features 개의 특성으로 이루어진 훈련 데이터\n",
        "        y : array-like, shape = [n_samples]\n",
        "          타깃값\n",
        "\n",
        "        반환값\n",
        "        -------\n",
        "        self : object\n",
        "\n",
        "        \"\"\"\n",
        "        rgen = np.random.RandomState(self.random_state)\n",
        "        self.w_ = rgen.normal(loc=0.0, scale=0.01, size=1 + X.shape[1])\n",
        "        self.cost_ = []\n",
        "\n",
        "        for i in range(self.n_iter):\n",
        "            net_input = self.net_input(X)\n",
        "            # 이 코드의 활성화 함수는 항등 함수(identity function)이기 때문에\n",
        "            # 아무런 효과가 없습니다.\n",
        "            # 이 대신 `output = self.net_input(X)`로 바로 쓸 수 있습니다.\n",
        "            # 이 활성화 함수는 개념적인 목적을 위해 만들었습니다.\n",
        "            # (잠시 후에 보게 될) 로지스틱 회귀의 경우 이 함수를 시그모이드 함수로\n",
        "            # 바꾸어 로지스틱 회귀 분류기를 구현합니다.\n",
        "            output = self.activation(net_input)\n",
        "            errors = (y - output)\n",
        "            self.w_[1:] += self.eta * X.T.dot(errors)\n",
        "            self.w_[0] += self.eta * errors.sum()\n",
        "            cost = (errors**2).sum() / 2.0\n",
        "            self.cost_.append(cost)\n",
        "        return self\n",
        "\n",
        "    def net_input(self, X):\n",
        "        \"\"\"최종 입력 계산\"\"\"\n",
        "        return np.dot(X, self.w_[1:]) + self.w_[0]\n",
        "\n",
        "    def activation(self, X):\n",
        "        \"\"\"선형 활성화 계산\"\"\"\n",
        "        return X\n",
        "\n",
        "    def predict(self, X):\n",
        "        \"\"\"단위 계단 함수를 사용하여 클래스 레이블을 반환합니다\"\"\"\n",
        "        return np.where(self.activation(self.net_input(X)) >= 0.0, 1, -1)"
      ]
    },
    {
      "cell_type": "code",
      "execution_count": null,
      "metadata": {
        "colab": {
          "base_uri": "https://localhost:8080/",
          "height": 410
        },
        "execution": {
          "iopub.execute_input": "2021-10-23T05:49:16.536447Z",
          "iopub.status.busy": "2021-10-23T05:49:16.535626Z",
          "iopub.status.idle": "2021-10-23T05:49:16.722476Z",
          "shell.execute_reply": "2021-10-23T05:49:16.722981Z"
        },
        "id": "duwyjN71qALG",
        "outputId": "b328e63d-bb21-42ed-f1ac-d6c06855ca19"
      },
      "outputs": [
        {
          "data": {
            "image/png": "[encoded data removed]",
            "text/plain": [
              "<Figure size 1000x400 with 2 Axes>"
            ]
          },
          "metadata": {},
          "output_type": "display_data"
        }
      ],
      "source": [
        "fig, ax = plt.subplots(nrows=1, ncols=2, figsize=(10, 4))\n",
        "\n",
        "ada1 = AdalineGD(n_iter=10, eta=0.01).fit(X, y)\n",
        "ax[0].plot(range(1, len(ada1.cost_) + 1), np.log10(ada1.cost_), marker='o')\n",
        "ax[0].set_xlabel('Epochs')\n",
        "ax[0].set_ylabel('log(Sum-squared-error)')\n",
        "ax[0].set_title('Adaline - Learning rate 0.01')\n",
        "\n",
        "ada2 = AdalineGD(n_iter=10, eta=0.0001).fit(X, y)\n",
        "ax[1].plot(range(1, len(ada2.cost_) + 1), ada2.cost_, marker='o')\n",
        "ax[1].set_xlabel('Epochs')\n",
        "ax[1].set_ylabel('Sum-squared-error')\n",
        "ax[1].set_title('Adaline - Learning rate 0.0001')\n",
        "\n",
        "# plt.savefig('images/02_11.png', dpi=300)\n",
        "plt.show()"
      ]
    },
    {
      "cell_type": "code",
      "execution_count": null,
      "metadata": {
        "colab": {
          "base_uri": "https://localhost:8080/",
          "height": 261
        },
        "execution": {
          "iopub.execute_input": "2021-10-23T05:49:16.728868Z",
          "iopub.status.busy": "2021-10-23T05:49:16.728186Z",
          "iopub.status.idle": "2021-10-23T05:49:16.732377Z",
          "shell.execute_reply": "2021-10-23T05:49:16.731441Z"
        },
        "id": "4w5q2QKqqALH",
        "outputId": "521781cb-885a-4c25-854b-a7ef6c77b12e"
      },
      "outputs": [
        {
          "data": {
            "text/html": [
              "<img src=\"https://git.io/JtIb4\" width=\"700\"/>"
            ],
            "text/plain": [
              "<IPython.core.display.Image object>"
            ]
          },
          "execution_count": 17,
          "metadata": {},
          "output_type": "execute_result"
        }
      ],
      "source": [
        "Image(url='https://git.io/JtIb4', width=700)"
      ]
    },
    {
      "cell_type": "markdown",
      "metadata": {
        "id": "kq7qlF0A-Iws"
      },
      "source": [
        "<br>"
      ]
    },
    {
      "cell_type": "markdown",
      "metadata": {
        "id": "6u0jOIB3qALH"
      },
      "source": [
        "## 2.3.3 특성 스케일을 조정하여 경사 하강법 결과 향상시키기"
      ]
    },
    {
      "cell_type": "markdown",
      "metadata": {
        "id": "Rw3sByh0-Iws"
      },
      "source": [
        "표준화(standardization) : $\\boldsymbol{x}'_j=\\dfrac{\\boldsymbol{x}_j-\\mu_j}{\\sigma_j}$"
      ]
    },
    {
      "cell_type": "code",
      "execution_count": null,
      "metadata": {
        "colab": {
          "base_uri": "https://localhost:8080/",
          "height": 346
        },
        "execution": {
          "iopub.execute_input": "2021-10-23T05:49:16.739316Z",
          "iopub.status.busy": "2021-10-23T05:49:16.738133Z",
          "iopub.status.idle": "2021-10-23T05:49:16.742617Z",
          "shell.execute_reply": "2021-10-23T05:49:16.743133Z"
        },
        "id": "PZ5nowNeqALI",
        "outputId": "808bb6e9-d3b6-4ed7-e452-9e28f86ee910",
        "scrolled": true
      },
      "outputs": [
        {
          "data": {
            "text/html": [
              "<img src=\"https://git.io/JtIbB\" width=\"700\"/>"
            ],
            "text/plain": [
              "<IPython.core.display.Image object>"
            ]
          },
          "execution_count": 18,
          "metadata": {},
          "output_type": "execute_result"
        }
      ],
      "source": [
        "Image(url='https://git.io/JtIbB', width=700)"
      ]
    },
    {
      "cell_type": "code",
      "execution_count": null,
      "metadata": {
        "execution": {
          "iopub.execute_input": "2021-10-23T05:49:16.750242Z",
          "iopub.status.busy": "2021-10-23T05:49:16.749194Z",
          "iopub.status.idle": "2021-10-23T05:49:16.752265Z",
          "shell.execute_reply": "2021-10-23T05:49:16.751380Z"
        },
        "id": "nEBXmUTkqALI"
      },
      "outputs": [],
      "source": [
        "# 특성을 표준화합니다.\n",
        "X_std = np.copy(X)\n",
        "X_std[:, 0] = (X[:, 0] - X[:, 0].mean()) / X[:, 0].std()\n",
        "X_std[:, 1] = (X[:, 1] - X[:, 1].mean()) / X[:, 1].std()"
      ]
    },
    {
      "cell_type": "code",
      "execution_count": null,
      "metadata": {
        "colab": {
          "base_uri": "https://localhost:8080/",
          "height": 957
        },
        "execution": {
          "iopub.execute_input": "2021-10-23T05:49:16.764833Z",
          "iopub.status.busy": "2021-10-23T05:49:16.759885Z",
          "iopub.status.idle": "2021-10-23T05:49:17.130905Z",
          "shell.execute_reply": "2021-10-23T05:49:17.131810Z"
        },
        "id": "OGiKd5kvqALI",
        "outputId": "3b79faae-8710-4831-ec9d-2d6e59b1198b"
      },
      "outputs": [
        {
          "data": {
            "image/png": "[encoded data removed]",
            "text/plain": [
              "<Figure size 640x480 with 1 Axes>"
            ]
          },
          "metadata": {},
          "output_type": "display_data"
        },
        {
          "data": {
            "image/png": "[encoded data removed]",
            "text/plain": [
              "<Figure size 640x480 with 1 Axes>"
            ]
          },
          "metadata": {},
          "output_type": "display_data"
        }
      ],
      "source": [
        "ada_gd = AdalineGD(n_iter=15, eta=0.01)\n",
        "ada_gd.fit(X_std, y)\n",
        "\n",
        "plot_decision_regions(X_std, y, classifier=ada_gd)\n",
        "plt.title('Adaline - Gradient Descent')\n",
        "plt.xlabel('sepal length [standardized]')\n",
        "plt.ylabel('petal length [standardized]')\n",
        "plt.legend(loc='upper left')\n",
        "plt.tight_layout()\n",
        "# plt.savefig('images/02_14_1.png', dpi=300)\n",
        "plt.show()\n",
        "\n",
        "plt.plot(range(1, len(ada_gd.cost_) + 1), ada_gd.cost_, marker='o')\n",
        "plt.xlabel('Epochs')\n",
        "plt.ylabel('Sum-squared-error')\n",
        "\n",
        "plt.tight_layout()\n",
        "# plt.savefig('images/02_14_2.png', dpi=300)\n",
        "plt.show()"
      ]
    },
    {
      "cell_type": "markdown",
      "metadata": {
        "id": "l9aKnN4fqALJ"
      },
      "source": [
        "<br>"
      ]
    },
    {
      "cell_type": "markdown",
      "metadata": {
        "id": "hj-m4ewrqALJ"
      },
      "source": [
        "## 2.3.4 대규모 머신 러닝과 확률적 경사 하강법"
      ]
    },
    {
      "cell_type": "markdown",
      "metadata": {
        "id": "exqIOEeO-Iws"
      },
      "source": [
        "배치 경사 하강법 : $\\mathit\\Delta \\boldsymbol{w}=\\eta\\sum_i\\left(y^{(i)}-\\phi(z^{(i)})\\right)\\boldsymbol{x}^{(i)}$\n",
        "\n",
        "확률적 경사 하강법 : $\\mathit\\Delta \\boldsymbol{w}=\\eta\\left(y^{(i)}-\\phi(z^{(i)})\\right)\\boldsymbol{x}^{(i)}$"
      ]
    },
    {
      "cell_type": "code",
      "execution_count": null,
      "metadata": {
        "execution": {
          "iopub.execute_input": "2021-10-23T05:49:17.150367Z",
          "iopub.status.busy": "2021-10-23T05:49:17.148625Z",
          "iopub.status.idle": "2021-10-23T05:49:17.151833Z",
          "shell.execute_reply": "2021-10-23T05:49:17.152692Z"
        },
        "id": "Fmyd49AbqALJ"
      },
      "outputs": [],
      "source": [
        "class AdalineSGD(object):\n",
        "    \"\"\"ADAptive LInear NEuron 분류기\n",
        "\n",
        "    Parameters\n",
        "    ------------\n",
        "    eta : float\n",
        "      학습률 (0.0과 1.0 사이)\n",
        "    n_iter : int\n",
        "      훈련 데이터셋 반복 횟수\n",
        "    shuffle : bool (default: True)\n",
        "      True로 설정하면 같은 반복이 되지 않도록 에포크마다 훈련 데이터를 섞습니다\n",
        "    random_state : int\n",
        "      가중치 무작위 초기화를 위한 난수 생성기 시드\n",
        "\n",
        "    Attributes\n",
        "    -----------\n",
        "    w_ : 1d-array\n",
        "      학습된 가중치\n",
        "    cost_ : list\n",
        "      모든 훈련 샘플에 대해 에포크마다 누적된 평균 비용 함수의 제곱합\n",
        "\n",
        "    \"\"\"\n",
        "    def __init__(self, eta=0.01, n_iter=10, shuffle=True, random_state=None):\n",
        "        self.eta = eta\n",
        "        self.n_iter = n_iter\n",
        "        self.w_initialized = False\n",
        "        self.shuffle = shuffle\n",
        "        self.random_state = random_state\n",
        "\n",
        "    def fit(self, X, y):\n",
        "        \"\"\"훈련 데이터 학습\n",
        "\n",
        "        Parameters\n",
        "        ----------\n",
        "        X : {array-like}, shape = [n_samples, n_features]\n",
        "          n_samples 개의 샘플과 n_features 개의 특성으로 이루어진 훈련 데이터\n",
        "        y : array-like, shape = [n_samples]\n",
        "          타깃 벡터\n",
        "\n",
        "        반환값\n",
        "        -------\n",
        "        self : object\n",
        "\n",
        "        \"\"\"\n",
        "        self._initialize_weights(X.shape[1])\n",
        "        self.cost_ = []\n",
        "        for i in range(self.n_iter):\n",
        "            if self.shuffle:\n",
        "                X, y = self._shuffle(X, y)\n",
        "            cost = []\n",
        "            for xi, target in zip(X, y):\n",
        "                cost.append(self._update_weights(xi, target))\n",
        "            avg_cost = sum(cost) / len(y)\n",
        "            self.cost_.append(avg_cost)\n",
        "        return self\n",
        "\n",
        "    def partial_fit(self, X, y):\n",
        "        \"\"\"가중치를 다시 초기화하지 않고 훈련 데이터를 학습합니다\"\"\"\n",
        "        if not self.w_initialized:\n",
        "            self._initialize_weights(X.shape[1])\n",
        "        if y.ravel().shape[0] > 1:\n",
        "            for xi, target in zip(X, y):\n",
        "                self._update_weights(xi, target)\n",
        "        else:\n",
        "            self._update_weights(X, y)\n",
        "        return self\n",
        "\n",
        "    def _shuffle(self, X, y):\n",
        "        \"\"\"훈련 데이터를 섞습니다\"\"\"\n",
        "        r = self.rgen.permutation(len(y))\n",
        "        return X[r], y[r]\n",
        "\n",
        "    def _initialize_weights(self, m):\n",
        "        \"\"\"랜덤한 작은 수로 가중치를 초기화합니다\"\"\"\n",
        "        self.rgen = np.random.RandomState(self.random_state)\n",
        "        self.w_ = self.rgen.normal(loc=0.0, scale=0.01, size=1 + m)\n",
        "        self.w_initialized = True\n",
        "\n",
        "    def _update_weights(self, xi, target):\n",
        "        \"\"\"아달린 학습 규칙을 적용하여 가중치를 업데이트합니다\"\"\"\n",
        "        output = self.activation(self.net_input(xi))\n",
        "        error = (target - output)\n",
        "        self.w_[1:] += self.eta * xi.dot(error)\n",
        "        self.w_[0] += self.eta * error\n",
        "        cost = 0.5 * error**2\n",
        "        return cost\n",
        "\n",
        "    def net_input(self, X):\n",
        "        \"\"\"입력 계산\"\"\"\n",
        "        return np.dot(X, self.w_[1:]) + self.w_[0]\n",
        "\n",
        "    def activation(self, X):\n",
        "        \"\"\"선형 활성화 계산\"\"\"\n",
        "        return X\n",
        "\n",
        "    def predict(self, X):\n",
        "        \"\"\"단위 계단 함수를 사용하여 클래스 레이블을 반환합니다\"\"\"\n",
        "        return np.where(self.activation(self.net_input(X)) >= 0.0, 1, -1)"
      ]
    },
    {
      "cell_type": "code",
      "execution_count": null,
      "metadata": {
        "colab": {
          "base_uri": "https://localhost:8080/",
          "height": 957
        },
        "execution": {
          "iopub.execute_input": "2021-10-23T05:49:17.166778Z",
          "iopub.status.busy": "2021-10-23T05:49:17.163351Z",
          "iopub.status.idle": "2021-10-23T05:49:17.626666Z",
          "shell.execute_reply": "2021-10-23T05:49:17.627707Z"
        },
        "id": "CL_zIPSEqALJ",
        "outputId": "bed5464f-8870-4ef7-a05f-6507cba3024c"
      },
      "outputs": [
        {
          "data": {
            "image/png": "[encoded data removed]",
            "text/plain": [
              "<Figure size 640x480 with 1 Axes>"
            ]
          },
          "metadata": {},
          "output_type": "display_data"
        },
        {
          "data": {
            "image/png": "[encoded data removed]",
            "text/plain": [
              "<Figure size 640x480 with 1 Axes>"
            ]
          },
          "metadata": {},
          "output_type": "display_data"
        }
      ],
      "source": [
        "ada_sgd = AdalineSGD(n_iter=15, eta=0.01, random_state=1)\n",
        "ada_sgd.fit(X_std, y)\n",
        "\n",
        "plot_decision_regions(X_std, y, classifier=ada_sgd)\n",
        "plt.title('Adaline - Stochastic Gradient Descent')\n",
        "plt.xlabel('sepal length [standardized]')\n",
        "plt.ylabel('petal length [standardized]')\n",
        "plt.legend(loc='upper left')\n",
        "\n",
        "plt.tight_layout()\n",
        "# plt.savefig('images/02_15_1.png', dpi=300)\n",
        "plt.show()\n",
        "\n",
        "plt.plot(range(1, len(ada_sgd.cost_) + 1), ada_sgd.cost_, marker='o')\n",
        "plt.xlabel('Epochs')\n",
        "plt.ylabel('Average Cost')\n",
        "\n",
        "plt.tight_layout()\n",
        "# plt.savefig('images/02_15_2.png', dpi=300)\n",
        "plt.show()"
      ]
    },
    {
      "cell_type": "code",
      "execution_count": null,
      "metadata": {
        "colab": {
          "base_uri": "https://localhost:8080/"
        },
        "execution": {
          "iopub.execute_input": "2021-10-23T05:49:17.633926Z",
          "iopub.status.busy": "2021-10-23T05:49:17.632735Z",
          "iopub.status.idle": "2021-10-23T05:49:17.638571Z",
          "shell.execute_reply": "2021-10-23T05:49:17.639385Z"
        },
        "id": "8MIHsvCsqALK",
        "outputId": "4806c8a6-38c7-41a6-f3f5-269f131d0298"
      },
      "outputs": [
        {
          "data": {
            "text/plain": [
              "<__main__.AdalineSGD at 0x79cc186d2f80>"
            ]
          },
          "execution_count": 23,
          "metadata": {},
          "output_type": "execute_result"
        }
      ],
      "source": [
        "ada_sgd.partial_fit(X_std[0, :], y[0])"
      ]
    }
  ]
}