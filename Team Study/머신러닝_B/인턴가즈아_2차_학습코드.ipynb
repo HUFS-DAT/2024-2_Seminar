{
 "cells": [
  {
   "cell_type": "code",
   "execution_count": 1,
   "id": "2f79807b-d531-4821-abd0-25c4a62a3bec",
   "metadata": {},
   "outputs": [
    {
     "name": "stderr",
     "output_type": "stream",
     "text": [
      "/home/dinoboy22/.local/lib/python3.10/site-packages/tqdm/auto.py:21: TqdmWarning: IProgress not found. Please update jupyter and ipywidgets. See https://ipywidgets.readthedocs.io/en/stable/user_install.html\n",
      "  from .autonotebook import tqdm as notebook_tqdm\n"
     ]
    }
   ],
   "source": [
    "#!/usr/bin/env python\n",
    "# coding: utf-8\n",
    "\n",
    "import os\n",
    "import sys\n",
    "sys.path.append('./')\n",
    "sys.path.append('../')\n",
    "\n",
    "import torch\n",
    "import torchvision\n",
    "import torch.nn.functional as F\n",
    "from torchvision import transforms, datasets\n",
    "from torch import nn, optim\n",
    "import matplotlib.pyplot as plt\n",
    "import numpy as np\n",
    "from mpl_toolkits.mplot3d import Axes3D\n",
    "from matplotlib import cm\n",
    "import pandas as pd\n",
    "from torch.utils.data import Dataset\n",
    "from torch.utils.data import DataLoader\n",
    "from sklearn.model_selection import train_test_split\n",
    "from torch.utils.data import TensorDataset"
   ]
  },
  {
   "cell_type": "code",
   "execution_count": 2,
   "id": "86f0434a-763e-4aca-b2a9-5a042f4987e6",
   "metadata": {},
   "outputs": [],
   "source": [
    "EPOCH = 100\n",
    "BATCH_SIZE = 64\n",
    "DEVICE = torch.device(\"cpu\")"
   ]
  },
  {
   "cell_type": "code",
   "execution_count": 3,
   "id": "56ea89d9-2053-499e-aab1-ba01c32a10c3",
   "metadata": {},
   "outputs": [],
   "source": [
    "ROOT_DIR = '.' if os.path.exists('config') else '..' \n",
    "train_csv = os.path.join(ROOT_DIR, 'dataset', 'train.csv')\n",
    "test_csv = os.path.join(ROOT_DIR, 'dataset', 'test.csv')\n",
    "\n",
    "train_df = pd.read_csv(train_csv)\n",
    "test_df = pd.read_csv(test_csv)\n",
    "\n",
    "train_df = train_df.drop(['ID'],axis=1)\n",
    "test_df = test_df.drop(['ID'],axis=1)\n",
    "\n",
    "train_df = train_df.to_numpy()\n",
    "test_df = test_df.to_numpy()\n",
    "\n",
    "trainset = torch.tensor(train_df, dtype=torch.float64)\n",
    "testset = torch.tensor(test_df, dtype=torch.float64)"
   ]
  },
  {
   "cell_type": "code",
   "execution_count": 4,
   "id": "c75fadf4-6f04-463a-b757-c456a076ea5a",
   "metadata": {},
   "outputs": [
    {
     "name": "stdout",
     "output_type": "stream",
     "text": [
      "32094\n",
      "torch.Size([11])\n",
      "tensor([ 1.0040, -2.1228,  1.2432,  0.9364, -0.2562, -1.7881,  0.4648, -0.1479,\n",
      "         0.6228,  0.3236,  0.0766], dtype=torch.float64)\n",
      "tensor([ 1.0040, -2.1228,  1.2432,  0.9364, -0.2562, -1.7881,  0.4648, -0.1479,\n",
      "         0.6228,  0.3236,  0.0766], dtype=torch.float64)\n"
     ]
    }
   ],
   "source": [
    "class MyDataset(Dataset):\n",
    "    # 해당 클래스는 torch.utils.data.Dataset을 상속받습니다.\n",
    "    def __init__(self, data, target):\n",
    "        super().__init__()\n",
    "        # 해당 클래스의 인스턴스를 초기화합니다.\n",
    "        self.data = data\n",
    "        self.target = target\n",
    "\n",
    "    def __len__(self):\n",
    "        # 해당 데이터셋의 총 데이터 수를 리턴합니다.\n",
    "        return len(self.data)\n",
    "    \n",
    "    def __getitem__(self, idx):\n",
    "        # 인덱스 idx에 해당하는 데이터를 가져옵니다.\n",
    "        return self.data[idx], self.target[idx]\n",
    "    \n",
    "\n",
    "if __name__ == \"__main__\":\n",
    "    ROOT_DIR = '.' if os.path.exists('config') else '..' \n",
    "    train_csv = os.path.join(ROOT_DIR, 'dataset', 'train.csv')\n",
    "    test_csv = os.path.join(ROOT_DIR, 'dataset', 'test.csv')\n",
    "    \n",
    "    train_df = pd.read_csv(train_csv)\n",
    "    test_df = pd.read_csv(test_csv)\n",
    "\n",
    "    train_df = train_df.drop(columns=['ID'],axis=1)\n",
    "    test_df = test_df.drop(columns=['ID'],axis=1)\n",
    "\n",
    "    # random_list = [1]\n",
    "    # rand_iter = iter(random_list)\n",
    "    # RANDOM_STATE = next(rand_iter)\n",
    "\n",
    "    X_train, X_valid, y_train, y_valid = train_test_split(train_df.drop(columns=['y']), train_df['y'], test_size=0.2, shuffle=True, random_state=42)\n",
    "    \n",
    "    # train_df = train_df.drop(columns=['y','ID'],axis=1)\n",
    "    # test_df = test_df.drop(columns=['ID'],axis=1)\n",
    "    \n",
    "    X_train = X_train.to_numpy()\n",
    "    X_valid = X_valid.to_numpy()\n",
    "    test_df = test_df.to_numpy()\n",
    "    \n",
    "    trainset = torch.tensor(X_train, dtype=torch.float64)\n",
    "    validset = torch.tensor(X_valid, dtype=torch.float64)\n",
    "    testset = torch.tensor(test_df, dtype=torch.float64)\n",
    "    \n",
    "    train_data = trainset\n",
    "    train_target = trainset\n",
    "    valid_data = validset\n",
    "    valid_target = validset\n",
    "    \n",
    "    train_dataset = MyDataset(train_data, train_target)\n",
    "    valid_dataset = MyDataset(valid_data, valid_target)\n",
    "\n",
    "    train_Data, train_Target = train_dataset[0]\n",
    "\n",
    "    print(len(train_dataset))\n",
    "    print(train_Data.shape)\n",
    "    print(train_Target)\n",
    "    print(train_Data)"
   ]
  },
  {
   "cell_type": "code",
   "execution_count": 5,
   "id": "cca663ed-4600-4763-8a29-fb953afed0d6",
   "metadata": {},
   "outputs": [],
   "source": [
    "train_loader = DataLoader(\n",
    "    dataset = train_dataset,\n",
    "    batch_size = BATCH_SIZE,\n",
    "    shuffle = True,\n",
    "    num_workers = 4\n",
    ")"
   ]
  },
  {
   "cell_type": "code",
   "execution_count": 6,
   "id": "457c607a-b5ae-4aa8-afc5-2fb8176ddf6c",
   "metadata": {},
   "outputs": [],
   "source": [
    "valid_loader = DataLoader(\n",
    "    dataset = valid_dataset,\n",
    "    batch_size = len(valid_dataset),\n",
    "    shuffle = True,\n",
    "    num_workers = 4\n",
    ")"
   ]
  },
  {
   "cell_type": "code",
   "execution_count": 7,
   "id": "79241f33-57c1-4da1-8b2e-e5b9c848a2fe",
   "metadata": {},
   "outputs": [],
   "source": [
    "class Autoencoder(nn.Module):\n",
    "    def __init__(self):\n",
    "        super().__init__()\n",
    "        \n",
    "        self.encoder = nn.Sequential(\n",
    "            nn.Linear(11,8),\n",
    "            nn.BatchNorm1d(num_features=8),\n",
    "            nn.ReLU(),\n",
    "            nn.Linear(8,5),\n",
    "            nn.BatchNorm1d(num_features=5),\n",
    "            nn.ReLU(),\n",
    "            nn.Linear(5,3),\n",
    "        )\n",
    "        self.decoder = nn.Sequential(\n",
    "            nn.Linear(3,5),\n",
    "            nn.BatchNorm1d(num_features=5),\n",
    "            nn.ReLU(),\n",
    "            nn.Linear(5,8),\n",
    "            nn.BatchNorm1d(num_features=8),\n",
    "            nn.ReLU(),\n",
    "            nn.Linear(8,11),\n",
    "        )\n",
    "        \n",
    "    def forward(self,x):\n",
    "        encoded = self.encoder(x)\n",
    "        decoded = self.decoder(encoded)\n",
    "        \n",
    "        return encoded, decoded"
   ]
  },
  {
   "cell_type": "code",
   "execution_count": 8,
   "id": "2a3a3988-ac04-4b6a-83bb-15953fb6abb1",
   "metadata": {},
   "outputs": [],
   "source": [
    "autoencoder = Autoencoder().to(DEVICE)\n",
    "optimizer = torch.optim.Adam(autoencoder.parameters(), lr=0.001)\n",
    "criterion = nn.MSELoss()"
   ]
  },
  {
   "cell_type": "code",
   "execution_count": 9,
   "id": "8ff659ba-6555-4bdc-a33c-8e84cd5320f1",
   "metadata": {},
   "outputs": [],
   "source": [
    "def train(autoencoder, train_loader):\n",
    "    autoencoder.train()\n",
    "    losses = 0\n",
    "    for batch_idx, (features, target) in enumerate(train_loader):\n",
    "        target = target.to(DEVICE)\n",
    "        features = features.float()\n",
    "        logits = autoencoder(features)\n",
    "        # print(type(logits))\n",
    "        # print(logits)\n",
    "        loss = criterion(logits[1],features)\n",
    "        losses = losses + loss\n",
    "        # print(loss)\n",
    "        optimizer.zero_grad()\n",
    "        loss.backward()\n",
    "        optimizer.step()\n",
    "    return losses"
   ]
  },
  {
   "cell_type": "code",
   "execution_count": 10,
   "id": "b84b2c21-b3c5-4dd1-b839-c2d8d8e22681",
   "metadata": {},
   "outputs": [],
   "source": [
    "def valid(autoencoder, valid_loader):\n",
    "    autoencoder.eval()\n",
    "    losses = 0\n",
    "    for batch_idx, (features, target) in enumerate(valid_loader):\n",
    "        target = target.to(DEVICE)\n",
    "        features = features.float()\n",
    "        logits = autoencoder(features)\n",
    "        loss = criterion(logits[1],features)\n",
    "        losses = losses + loss\n",
    "    return losses"
   ]
  },
  {
   "cell_type": "code",
   "execution_count": 11,
   "id": "d5ba70ce-f821-417d-8b27-c30047722a0d",
   "metadata": {},
   "outputs": [],
   "source": [
    "train_losses = []\n",
    "valid_losses = []"
   ]
  },
  {
   "cell_type": "code",
   "execution_count": 12,
   "id": "d503607b-9967-4748-89b2-70a503c96f93",
   "metadata": {},
   "outputs": [],
   "source": [
    "patience = 5  \n",
    "best_val_loss = float('inf')  \n",
    "patience_counter = 0  "
   ]
  },
  {
   "cell_type": "code",
   "execution_count": 13,
   "id": "6939e638-8b7b-4027-9791-58e612596d8d",
   "metadata": {},
   "outputs": [
    {
     "name": "stdout",
     "output_type": "stream",
     "text": [
      "Early stopping at epoch 10\n"
     ]
    }
   ],
   "source": [
    "for epoch in range(1,EPOCH+1):\n",
    "    train_loss = train(autoencoder, train_loader)\n",
    "    # print(f'train loss = {torch.sqrt(train_loss)}')\n",
    "    train_losses.append(train_loss.item())\n",
    "    valid_loss = valid(autoencoder, train_loader)\n",
    "    # print(f'valid loss = {torch.sqrt(valid_loss)}')\n",
    "    valid_losses.append(valid_loss.item())\n",
    "    #Early stopping\n",
    "    if valid_loss < best_val_loss:\n",
    "        best_val_loss = valid_loss\n",
    "        patience_counter = 0  # 검증 손실이 개선되었으므로 patience_counter 초기화\n",
    "    else:\n",
    "        patience_counter += 1  # 검증 손실이 개선되지 않으면 patience_counter 증가\n",
    "\n",
    "    if patience_counter >= patience:\n",
    "        print(f\"Early stopping at epoch {epoch+1}\")\n",
    "        break"
   ]
  },
  {
   "cell_type": "code",
   "execution_count": 14,
   "id": "9ef2f043-6d61-4a83-955a-ad64c17d3207",
   "metadata": {},
   "outputs": [
    {
     "data": {
      "text/plain": [
       "[2.904761791229248,\n",
       " 0.7009668946266174,\n",
       " 0.4494587182998657,\n",
       " 0.3716065287590027,\n",
       " 0.8957671523094177,\n",
       " 0.5411717891693115,\n",
       " 0.4674207270145416,\n",
       " 0.46610227227211,\n",
       " 0.6542373299598694]"
      ]
     },
     "execution_count": 14,
     "metadata": {},
     "output_type": "execute_result"
    }
   ],
   "source": [
    "valid_losses"
   ]
  },
  {
   "cell_type": "code",
   "execution_count": 15,
   "id": "af43cb34-7c8f-4bc3-b06f-98b474045108",
   "metadata": {},
   "outputs": [
    {
     "data": {
      "image/png": "[encoded data removed]",
      "text/plain": [
       "<Figure size 640x480 with 1 Axes>"
      ]
     },
     "metadata": {},
     "output_type": "display_data"
    }
   ],
   "source": [
    "plt.plot(train_losses, label='Train Loss')\n",
    "plt.plot(valid_losses, label='Validation Loss')\n",
    "plt.xlabel('Epoch')\n",
    "plt.ylabel('Loss')\n",
    "plt.legend()\n",
    "plt.title('Train and Validation Loss per Epoch')\n",
    "plt.show()"
   ]
  },
  {
   "cell_type": "code",
   "execution_count": 16,
   "id": "bda3e86c-fa59-4b96-b4b1-494013533893",
   "metadata": {},
   "outputs": [],
   "source": [
    "def check_model_mode(model):\n",
    "    if model.training:\n",
    "        print(\"The model is in training mode.\")\n",
    "    else:\n",
    "        print(\"The model is in evaluation mode.\")"
   ]
  },
  {
   "cell_type": "code",
   "execution_count": 17,
   "id": "ae727c8c-a544-410d-999e-6e55c67b90ac",
   "metadata": {},
   "outputs": [
    {
     "name": "stdout",
     "output_type": "stream",
     "text": [
      "The model is in evaluation mode.\n"
     ]
    }
   ],
   "source": [
    "check_model_mode(autoencoder)"
   ]
  },
  {
   "cell_type": "code",
   "execution_count": 18,
   "id": "2e3a1d23-a4bf-4283-bce6-7524249454d5",
   "metadata": {},
   "outputs": [],
   "source": [
    "testset = testset.float()\n",
    "result = autoencoder(testset)"
   ]
  },
  {
   "cell_type": "code",
   "execution_count": 19,
   "id": "23366fcf-2c08-4e7d-8090-092c0015a7ac",
   "metadata": {},
   "outputs": [],
   "source": [
    "loss_temp = nn.MSELoss()"
   ]
  },
  {
   "cell_type": "code",
   "execution_count": 20,
   "id": "01c330b0-8ae3-4301-901f-209f892d78de",
   "metadata": {},
   "outputs": [
    {
     "name": "stdout",
     "output_type": "stream",
     "text": [
      "tensor(0.0318, grad_fn=<SqrtBackward0>)\n",
      "tensor(0.0532)\n",
      "0번째 feature-----------------------------------------\n",
      "tensor(0.0805, grad_fn=<SqrtBackward0>)\n",
      "tensor(0.4677)\n",
      "1번째 feature-----------------------------------------\n",
      "tensor(0.0310, grad_fn=<SqrtBackward0>)\n",
      "tensor(0.0460)\n",
      "2번째 feature-----------------------------------------\n",
      "tensor(0.0313, grad_fn=<SqrtBackward0>)\n",
      "tensor(0.0512)\n",
      "3번째 feature-----------------------------------------\n",
      "tensor(0.0447, grad_fn=<SqrtBackward0>)\n",
      "tensor(0.0854)\n",
      "4번째 feature-----------------------------------------\n",
      "tensor(0.0435, grad_fn=<SqrtBackward0>)\n",
      "tensor(0.0787)\n",
      "5번째 feature-----------------------------------------\n",
      "tensor(0.0305, grad_fn=<SqrtBackward0>)\n",
      "tensor(0.0266)\n",
      "6번째 feature-----------------------------------------\n",
      "tensor(0.0120, grad_fn=<SqrtBackward0>)\n",
      "tensor(0.0498)\n",
      "7번째 feature-----------------------------------------\n",
      "tensor(0.0241, grad_fn=<SqrtBackward0>)\n",
      "tensor(0.0436)\n",
      "8번째 feature-----------------------------------------\n",
      "tensor(0.0146, grad_fn=<SqrtBackward0>)\n",
      "tensor(0.0581)\n",
      "9번째 feature-----------------------------------------\n",
      "tensor(0.0145, grad_fn=<SqrtBackward0>)\n",
      "tensor(0.0443)\n",
      "10번째 feature-----------------------------------------\n"
     ]
    }
   ],
   "source": [
    "for i in range(11):\n",
    "    x0_output = torch.sqrt(loss_temp(testset[:,i], result[1][:,i]))\n",
    "    print(x0_output)\n",
    "    print(torch.std(testset[:,i]))\n",
    "    print(f'{i}번째 feature-----------------------------------------')\n",
    "    "
   ]
  },
  {
   "cell_type": "code",
   "execution_count": 21,
   "id": "f96ded88-b9bf-435c-8a0e-4b3fb42ea013",
   "metadata": {},
   "outputs": [],
   "source": [
    "encoder_only = autoencoder.encoder"
   ]
  },
  {
   "cell_type": "code",
   "execution_count": 22,
   "id": "4c16ff6b-6724-47e6-860b-7e387e55e02c",
   "metadata": {},
   "outputs": [],
   "source": [
    "class EncoderWithMLP(nn.Module):\n",
    "    def __init__(self, encoder):\n",
    "        super(EncoderWithMLP, self).__init__()\n",
    "        self.encoder = encoder  # 기존 인코더를 사용\n",
    "        self.mlp = nn.Sequential(\n",
    "            nn.Linear(3, 2),\n",
    "            nn.BatchNorm1d(num_features=2),\n",
    "            nn.ReLU(),\n",
    "            nn.Linear(2, 1)   \n",
    "        )\n",
    "    \n",
    "    def forward(self, x):\n",
    "        # 인코더를 통해 잠재 공간으로 압축\n",
    "        encoded = self.encoder(x)\n",
    "        # MLP를 통해 출력\n",
    "        output = self.mlp(encoded)\n",
    "        return output"
   ]
  },
  {
   "cell_type": "code",
   "execution_count": 23,
   "id": "819a2647-edc8-4ec4-a1cd-ab07d9dcd47c",
   "metadata": {},
   "outputs": [],
   "source": [
    "encoder_with_mlp = EncoderWithMLP(encoder_only)"
   ]
  },
  {
   "cell_type": "code",
   "execution_count": 24,
   "id": "1594c365-9268-4d53-ba94-95950ccaed9f",
   "metadata": {},
   "outputs": [
    {
     "data": {
      "text/plain": [
       "False"
      ]
     },
     "execution_count": 24,
     "metadata": {},
     "output_type": "execute_result"
    }
   ],
   "source": [
    "encoder_with_mlp.encoder.training"
   ]
  },
  {
   "cell_type": "code",
   "execution_count": 25,
   "id": "5054477c-df48-43c2-bd08-1c3b277b7d6c",
   "metadata": {},
   "outputs": [
    {
     "data": {
      "text/plain": [
       "True"
      ]
     },
     "execution_count": 25,
     "metadata": {},
     "output_type": "execute_result"
    }
   ],
   "source": [
    "encoder_with_mlp.mlp.training"
   ]
  },
  {
   "cell_type": "code",
   "execution_count": 26,
   "id": "cba857e5-e69f-4776-bff9-aa24457e3cbe",
   "metadata": {},
   "outputs": [],
   "source": [
    "for param in encoder_with_mlp.encoder.parameters():\n",
    "    param.requires_grad = False"
   ]
  },
  {
   "cell_type": "code",
   "execution_count": 27,
   "id": "0b5a6ad0-f735-477f-bc8c-deb038e23190",
   "metadata": {},
   "outputs": [],
   "source": [
    "optimizer = optim.Adam(encoder_with_mlp.mlp.parameters(), lr=0.001)\n",
    "criterion = nn.MSELoss()"
   ]
  },
  {
   "cell_type": "code",
   "execution_count": 28,
   "id": "c4f864db-6122-4dc5-ae5b-7e2af7052891",
   "metadata": {},
   "outputs": [],
   "source": [
    "encoder_mlp_train_df = train_df.drop(columns=['y'],axis=1)\n",
    "encoder_mlp_train_df = encoder_mlp_train_df.to_numpy()\n",
    "encoder_mlp_train_df = torch.tensor(encoder_mlp_train_df, dtype=torch.float64)\n",
    "encoder_mlp_train_df = encoder_mlp_train_df.float()"
   ]
  },
  {
   "cell_type": "code",
   "execution_count": 29,
   "id": "4f0185bc-4d7f-47da-adee-1042701e01a4",
   "metadata": {},
   "outputs": [],
   "source": [
    "y_train = train_df['y'].to_numpy()\n",
    "y_train = torch.tensor(y_train, dtype=torch.float64)\n",
    "y_train = y_train.float()\n",
    "y_train = y_train"
   ]
  },
  {
   "cell_type": "code",
   "execution_count": 30,
   "id": "59b8c255-2e09-4820-9a53-88053f9e6553",
   "metadata": {},
   "outputs": [],
   "source": [
    "encoder_mlp_dataset = TensorDataset(encoder_mlp_train_df, y_train)"
   ]
  },
  {
   "cell_type": "code",
   "execution_count": 31,
   "id": "4cad70ae-19ed-4a52-9ec1-5030aa72a451",
   "metadata": {},
   "outputs": [],
   "source": [
    "batch_size = 64\n",
    "dataloader_final = DataLoader(encoder_mlp_dataset, batch_size=batch_size, shuffle=True)"
   ]
  },
  {
   "cell_type": "code",
   "execution_count": 32,
   "id": "7db2f428-f4f0-4e28-a966-befb32d07080",
   "metadata": {},
   "outputs": [
    {
     "name": "stderr",
     "output_type": "stream",
     "text": [
      "/home/dinoboy22/.local/lib/python3.10/site-packages/torch/nn/modules/loss.py:535: UserWarning: Using a target size (torch.Size([64])) that is different to the input size (torch.Size([64, 1])). This will likely lead to incorrect results due to broadcasting. Please ensure they have the same size.\n",
      "  return F.mse_loss(input, target, reduction=self.reduction)\n",
      "/home/dinoboy22/.local/lib/python3.10/site-packages/torch/nn/modules/loss.py:535: UserWarning: Using a target size (torch.Size([54])) that is different to the input size (torch.Size([54, 1])). This will likely lead to incorrect results due to broadcasting. Please ensure they have the same size.\n",
      "  return F.mse_loss(input, target, reduction=self.reduction)\n"
     ]
    }
   ],
   "source": [
    "losses_mlp = []\n",
    "losses = 0\n",
    "for epoch in range(50):\n",
    "    for batch_idx, (inputs, targets) in enumerate(dataloader_final):\n",
    "        # Forward pass\n",
    "        outputs = encoder_with_mlp(inputs)\n",
    "        loss = criterion(outputs, targets)\n",
    "        losses = losses + loss\n",
    "        optimizer.zero_grad()\n",
    "        loss.backward()\n",
    "        optimizer.step()\n",
    "    # losses = losses/626\n",
    "    losses_mlp.append(losses.item())\n",
    "    losses = 0"
   ]
  },
  {
   "cell_type": "code",
   "execution_count": 33,
   "id": "e50680c9-d4cb-409a-87fe-e3ac687b5da0",
   "metadata": {},
   "outputs": [
    {
     "data": {
      "image/png": "[encoded data removed]",
      "text/plain": [
       "<Figure size 640x480 with 1 Axes>"
      ]
     },
     "metadata": {},
     "output_type": "display_data"
    }
   ],
   "source": [
    "plt.plot(losses_mlp, label='Train Loss')\n",
    "plt.xlabel('Epoch')\n",
    "plt.ylabel('Loss')\n",
    "plt.legend()\n",
    "plt.title('Train Loss per Epoch')\n",
    "plt.show()"
   ]
  },
  {
   "cell_type": "code",
   "execution_count": 34,
   "id": "4657b9c5-2f06-4a3d-988f-a932c894c130",
   "metadata": {},
   "outputs": [
    {
     "data": {
      "text/plain": [
       "EncoderWithMLP(\n",
       "  (encoder): Sequential(\n",
       "    (0): Linear(in_features=11, out_features=8, bias=True)\n",
       "    (1): BatchNorm1d(8, eps=1e-05, momentum=0.1, affine=True, track_running_stats=True)\n",
       "    (2): ReLU()\n",
       "    (3): Linear(in_features=8, out_features=5, bias=True)\n",
       "    (4): BatchNorm1d(5, eps=1e-05, momentum=0.1, affine=True, track_running_stats=True)\n",
       "    (5): ReLU()\n",
       "    (6): Linear(in_features=5, out_features=3, bias=True)\n",
       "  )\n",
       "  (mlp): Sequential(\n",
       "    (0): Linear(in_features=3, out_features=2, bias=True)\n",
       "    (1): BatchNorm1d(2, eps=1e-05, momentum=0.1, affine=True, track_running_stats=True)\n",
       "    (2): ReLU()\n",
       "    (3): Linear(in_features=2, out_features=1, bias=True)\n",
       "  )\n",
       ")"
      ]
     },
     "execution_count": 34,
     "metadata": {},
     "output_type": "execute_result"
    }
   ],
   "source": [
    "encoder_with_mlp.eval()"
   ]
  },
  {
   "cell_type": "code",
   "execution_count": 36,
   "id": "5a7026e7-effa-4852-839b-613c0bc5fdf7",
   "metadata": {},
   "outputs": [],
   "source": [
    "result1 = encoder_with_mlp(encoder_mlp_train_df)"
   ]
  },
  {
   "cell_type": "code",
   "execution_count": 37,
   "id": "8f61488e-90a0-4ab8-ac96-98ce85dd2088",
   "metadata": {},
   "outputs": [
    {
     "data": {
      "text/plain": [
       "tensor([[82.6126],\n",
       "        [82.6130],\n",
       "        [82.6127],\n",
       "        [82.6127],\n",
       "        [82.6127],\n",
       "        [82.6126],\n",
       "        [82.6124],\n",
       "        [82.6130],\n",
       "        [82.6128],\n",
       "        [82.6127]], grad_fn=<SliceBackward0>)"
      ]
     },
     "execution_count": 37,
     "metadata": {},
     "output_type": "execute_result"
    }
   ],
   "source": [
    "result1[:10]"
   ]
  },
  {
   "cell_type": "code",
   "execution_count": 38,
   "id": "fb6a97e0-1841-48c7-b070-8066e321c21f",
   "metadata": {},
   "outputs": [
    {
     "data": {
      "text/plain": [
       "tensor([83.4245, 79.3741, 82.1816, 83.0066, 83.0514, 85.7061, 90.6092, 84.6352,\n",
       "        80.9786, 82.3696])"
      ]
     },
     "execution_count": 38,
     "metadata": {},
     "output_type": "execute_result"
    }
   ],
   "source": [
    "y_train[:10]"
   ]
  },
  {
   "cell_type": "code",
   "execution_count": 39,
   "id": "60817ba6-7337-46f9-bed4-371f7b354d65",
   "metadata": {},
   "outputs": [
    {
     "data": {
      "text/plain": [
       "False"
      ]
     },
     "execution_count": 39,
     "metadata": {},
     "output_type": "execute_result"
    }
   ],
   "source": [
    "encoder_with_mlp.mlp.training"
   ]
  },
  {
   "cell_type": "code",
   "execution_count": 40,
   "id": "b5c07954-f968-4dbe-9f15-02297999eb9d",
   "metadata": {},
   "outputs": [],
   "source": [
    "testset = testset.float()"
   ]
  },
  {
   "cell_type": "code",
   "execution_count": 41,
   "id": "93c6770e-5ba8-424f-b4e9-52f6fa144ef3",
   "metadata": {},
   "outputs": [],
   "source": [
    "test_result = encoder_with_mlp(testset)"
   ]
  },
  {
   "cell_type": "code",
   "execution_count": 42,
   "id": "b2b07f40-1edd-457b-aade-258cf944c43a",
   "metadata": {},
   "outputs": [
    {
     "data": {
      "text/plain": [
       "tensor([[82.6127],\n",
       "        [82.6128],\n",
       "        [82.6124],\n",
       "        [82.6125],\n",
       "        [82.6127],\n",
       "        [82.6127],\n",
       "        [82.6127],\n",
       "        [82.6127],\n",
       "        [82.6124],\n",
       "        [82.6127]], grad_fn=<SliceBackward0>)"
      ]
     },
     "execution_count": 42,
     "metadata": {},
     "output_type": "execute_result"
    }
   ],
   "source": [
    "test_result[:10]"
   ]
  },
  {
   "cell_type": "code",
   "execution_count": 43,
   "id": "e81887c7-f3b0-4eec-8d85-1d51d7e6cffe",
   "metadata": {},
   "outputs": [
    {
     "name": "stdout",
     "output_type": "stream",
     "text": [
      "4986\n"
     ]
    }
   ],
   "source": [
    "test_result_np = test_result.detach().numpy()\n",
    "\n",
    "# NumPy 배열을 pandas DataFrame으로 변환\n",
    "test_result_pd = pd.DataFrame(test_result_np)\n",
    "\n",
    "# 결과 출력\n",
    "print(len(test_result_pd))"
   ]
  },
  {
   "cell_type": "code",
   "execution_count": 44,
   "id": "d7cb37b7-63ff-4816-ac42-797b33bbef8a",
   "metadata": {},
   "outputs": [],
   "source": [
    "sample_submission_csv_path = os.path.join(\n",
    "    ROOT_DIR, \n",
    "    'dataset', \n",
    "    'sample_submission.csv'\n",
    ")\n",
    "\n",
    "submission_csv_path = os.path.join(\n",
    "    ROOT_DIR, \n",
    "    'dataset', \n",
    "    'submission.csv'\n",
    ")\n",
    "\n",
    "submission = pd.read_csv(sample_submission_csv_path)\n",
    "submission['y'] = test_result_pd\n",
    "submission.to_csv(submission_csv_path, index=False)"
   ]
  },
  {
   "cell_type": "code",
   "execution_count": null,
   "id": "3c1d1003-9ac9-4d0b-882f-d78b2acd64bb",
   "metadata": {},
   "outputs": [],
   "source": []
  },
  {
   "cell_type": "code",
   "execution_count": null,
   "id": "1d85e763-6364-4773-aeeb-6125b5ec920f",
   "metadata": {},
   "outputs": [],
   "source": []
  },
  {
   "cell_type": "code",
   "execution_count": null,
   "id": "c9abfe45-a701-4c23-8de5-6b296febe6c0",
   "metadata": {},
   "outputs": [],
   "source": []
  },
  {
   "cell_type": "code",
   "execution_count": null,
   "id": "f8a2dc58-9cbb-4801-b03c-58e7347445c9",
   "metadata": {},
   "outputs": [],
   "source": []
  },
  {
   "cell_type": "code",
   "execution_count": null,
   "id": "3e1b7a60-dd37-4c35-a6e4-fc53b3ea9823",
   "metadata": {},
   "outputs": [],
   "source": []
  },
  {
   "cell_type": "code",
   "execution_count": null,
   "id": "a4fe43e6-0347-4e3b-97dd-0ab4d8f85cf8",
   "metadata": {},
   "outputs": [],
   "source": []
  }
 ],
 "metadata": {
  "kernelspec": {
   "display_name": "Python 3 (ipykernel)",
   "language": "python",
   "name": "python3"
  },
  "language_info": {
   "codemirror_mode": {
    "name": "ipython",
    "version": 3
   },
   "file_extension": ".py",
   "mimetype": "text/x-python",
   "name": "python",
   "nbconvert_exporter": "python",
   "pygments_lexer": "ipython3",
   "version": "3.10.12"
  }
 },
 "nbformat": 4,
 "nbformat_minor": 5
}
