{
 "cells": [
  {
   "cell_type": "markdown",
   "id": "1685d6ba",
   "metadata": {},
   "source": [
    "# 1차 : 프로젝트 주제 선정\n",
    "\n",
    "### 프로젝트 주제 : 식재료 이미지를 통해 레시피 추천"
   ]
  }
 ],
 "metadata": {
  "kernelspec": {
   "display_name": "Python 3 (ipykernel)",
   "language": "python",
   "name": "python3"
  },
  "language_info": {
   "codemirror_mode": {
    "name": "ipython",
    "version": 3
   },
   "file_extension": ".py",
   "mimetype": "text/x-python",
   "name": "python",
   "nbconvert_exporter": "python",
   "pygments_lexer": "ipython3",
   "version": "3.11.5"
  }
 },
 "nbformat": 4,
 "nbformat_minor": 5
}
