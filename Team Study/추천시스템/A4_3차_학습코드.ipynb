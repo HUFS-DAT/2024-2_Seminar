{
 "cells": [
  {
   "cell_type": "code",
   "execution_count": 2,
   "id": "3b9fa8a8-83dc-43ec-b3b2-59a3702a8042",
   "metadata": {},
   "outputs": [],
   "source": [
    "from tqdm import tqdm \n",
    "import os \n",
    "\n",
    "import numpy as np \n",
    "import pandas as pd\n",
    "\n",
    "import scipy.sparse  as sp \n",
    "\n",
    "from sklearn.model_selection import train_test_split \n",
    "\n",
    "import torch \n",
    "from torch import nn, optim \n",
    "from torch.utils.data import Dataset, DataLoader "
   ]
  },
  {
   "cell_type": "code",
   "execution_count": 3,
   "id": "5c0136a9-4193-4944-bb6f-6d897cad3746",
   "metadata": {},
   "outputs": [],
   "source": [
    "class args:\n",
    "    seed = 42\n",
    "    num_layers = 3\n",
    "    batch_size= 512\n",
    "    device = 'cuda' if torch.cuda.is_available() else 'cpu'\n",
    "    SAVE_PATH = 'Parameters'"
   ]
  },
  {
   "cell_type": "code",
   "execution_count": 5,
   "id": "b9060357-3f44-4727-8cf8-70297b700b12",
   "metadata": {},
   "outputs": [],
   "source": [
    "d_set = pd.read_csv('sample.csv', encoding='utf-8-sig')"
   ]
  },
  {
   "cell_type": "code",
   "execution_count": 6,
   "id": "12d5d2ec-11b4-4ed3-8ffb-c94c2438c479",
   "metadata": {},
   "outputs": [],
   "source": [
    "d_train, d_test = train_test_split(d_set, train_size=0.6, random_state=args.seed)\n",
    "d_valid, d_test = train_test_split(d_test, train_size=0.5, random_state=args.seed)"
   ]
  },
  {
   "cell_type": "code",
   "execution_count": 7,
   "id": "53fe73d4-369e-4ed8-905c-1879024f43d5",
   "metadata": {},
   "outputs": [],
   "source": [
    "d_train = d_train.astype({'user_id':'category', 'business_id':'category'})\n",
    "d_valid = d_valid.astype({'user_id':'category', 'business_id':'category'})\n",
    "d_test = d_test.astype({'user_id':'category', 'business_id':'category'})"
   ]
  },
  {
   "cell_type": "code",
   "execution_count": 8,
   "id": "5730ba73-7649-4472-9880-2c0297324220",
   "metadata": {},
   "outputs": [],
   "source": [
    "u_cat = d_train.user_id.cat.categories\n",
    "b_cat = d_train.business_id.cat.categories"
   ]
  },
  {
   "cell_type": "code",
   "execution_count": 9,
   "id": "dd52406c-625a-4531-b210-ffc8b1d0136a",
   "metadata": {},
   "outputs": [],
   "source": [
    "d_valid.user_id = d_valid.user_id.cat.set_categories(u_cat)\n",
    "d_valid.business_id = d_valid.business_id.cat.set_categories(b_cat)\n",
    "\n",
    "d_test.user_id = d_test.user_id.cat.set_categories(u_cat)\n",
    "d_test.business_id = d_test.business_id.cat.set_categories(b_cat)"
   ]
  },
  {
   "cell_type": "code",
   "execution_count": 10,
   "id": "5f630c5f-c02c-41aa-8954-7a239659fb40",
   "metadata": {},
   "outputs": [],
   "source": [
    "d_train.user_id = d_train.user_id.cat.codes\n",
    "d_train.business_id = d_train.business_id.cat.codes \n",
    "\n",
    "d_valid.user_id = d_valid.user_id.cat.codes\n",
    "d_valid.business_id = d_valid.business_id.cat.codes \n",
    "\n",
    "d_test.user_id = d_test.user_id.cat.codes\n",
    "d_test.business_id = d_test.business_id.cat.codes "
   ]
  },
  {
   "cell_type": "code",
   "execution_count": 11,
   "id": "93dd15a9-ab6d-43c4-a11d-2df8c80b4c69",
   "metadata": {},
   "outputs": [],
   "source": [
    "d_train = d_train.dropna()\n",
    "d_valid = d_valid.dropna()\n",
    "d_test = d_test.dropna()\n",
    "\n",
    "d_train.reset_index(drop=True, inplace=True)\n",
    "d_valid.reset_index(drop=True, inplace=True)\n",
    "d_test.reset_index(drop=True, inplace=True)"
   ]
  },
  {
   "cell_type": "code",
   "execution_count": 12,
   "id": "19cad765-22eb-4fe1-8d9f-9eb2808cd03c",
   "metadata": {},
   "outputs": [],
   "source": [
    "d_train = d_train.astype({'user_id': int, 'business_id': int})\n",
    "d_valid = d_valid.astype({'user_id': int, 'business_id': int})\n",
    "d_test = d_test.astype({'user_id': int, 'business_id': int})"
   ]
  },
  {
   "cell_type": "code",
   "execution_count": 13,
   "id": "396518ba-3ede-4fb6-aa14-e3962d9ca6a6",
   "metadata": {},
   "outputs": [],
   "source": [
    "args.num_users = d_train.user_id.max() + 1\n",
    "args.num_items = d_train.business_id.max() + 1\n",
    "args.latent_dim = 64\n",
    "args.num_epochs = 50"
   ]
  },
  {
   "cell_type": "code",
   "execution_count": 14,
   "id": "06c9cecb-9dc8-4caf-9913-a298feee2a80",
   "metadata": {},
   "outputs": [],
   "source": [
    "class GNNLayer(nn.Module):\n",
    "    def __init__(self, in_feats, out_feats):\n",
    "        super(GNNLayer, self).__init__()\n",
    "        self.in_feats = in_feats\n",
    "        self.out_feats = out_feats \n",
    "\n",
    "        self.W1 = nn.Linear(in_feats, out_feats)\n",
    "        self.W2 = nn.Linear(in_feats, out_feats)\n",
    "\n",
    "    def forward(self, L, SelfLoop, feats):\n",
    "        # (L+I)EW_1\n",
    "        sf_L = L + SelfLoop\n",
    "        L = L.cuda()\n",
    "        sf_L = sf_L.cuda()\n",
    "        sf_E = torch.sparse.mm(sf_L, feats)\n",
    "        left_part = self.W1(sf_E) # left part\n",
    "\n",
    "        # EL odot EW_2, odot indicates element-wise product \n",
    "        LE = torch.sparse.mm(L, feats)\n",
    "        E = torch.mul(LE, feats)\n",
    "        right_part = self.W2(E)\n",
    "\n",
    "        return left_part + right_part \n",
    "\n",
    "class NGCF(nn.Module):\n",
    "    def __init__(self, args, matrix):\n",
    "        super(NGCF, self).__init__()\n",
    "        self.num_users = args.num_users \n",
    "        self.num_items = args.num_items \n",
    "        self.latent_dim = args.latent_dim \n",
    "        self.device = args.device\n",
    "\n",
    "        self.user_emb = nn.Embedding(self.num_users, self.latent_dim)\n",
    "        self.item_emb = nn.Embedding(self.num_items, self.latent_dim)\n",
    "\n",
    "        self.num_layers = args.num_layers\n",
    "        self.L = self.LaplacianMatrix(matrix)\n",
    "        self.I = self.SelfLoop(self.num_users + self.num_items)\n",
    "\n",
    "        self.leakyrelu = nn.LeakyReLU()\n",
    "        self.GNNLayers = nn.ModuleList()\n",
    "\n",
    "        for i in range(self.num_layers-1):\n",
    "            self.GNNLayers.append(GNNLayer(self.latent_dim, self.latent_dim))\n",
    "\n",
    "        self.fc_layer = nn.Sequential(\n",
    "            nn.Linear(self.latent_dim * self.num_layers * 2, 64), \n",
    "            nn.ReLU(), \n",
    "            nn.Linear(64, 32), \n",
    "            nn.ReLU(), \n",
    "            nn.Linear(32, 1)\n",
    "        )\n",
    "\n",
    "    def SelfLoop(self, num):\n",
    "        i = torch.LongTensor([[k for k in range(0, num)], [j for j in range(0, num)]])\n",
    "        val = torch.FloatTensor([1]*num)\n",
    "        return torch.sparse.FloatTensor(i, val)\n",
    "\n",
    "    def LaplacianMatrix(self, ratings):\n",
    "        iids = ratings['business_id'] + self.num_users \n",
    "        matrix = sp.coo_matrix((ratings['stars'], (ratings['user_id'], ratings['business_id'])))\n",
    "        \n",
    "        upper_matrix = sp.coo_matrix((ratings['stars'], (ratings['user_id'], iids)))\n",
    "        lower_matrix = matrix.transpose()\n",
    "        lower_matrix.resize((self.num_items, self.num_users + self.num_items))\n",
    "\n",
    "        A = sp.vstack([upper_matrix, lower_matrix])\n",
    "        row_sum = (A > 0).sum(axis=1)\n",
    "        # row_sum = np.array(row_sum).flatten()\n",
    "        diag = list(np.array(row_sum.flatten())[0])\n",
    "        D = np.power(diag, -0.5)\n",
    "        D = sp.diags(D)\n",
    "        L = D * A * D\n",
    "        L = sp.coo_matrix(L)\n",
    "        row = L.row \n",
    "        col = L.col\n",
    "        idx = np.stack([row, col])\n",
    "        idx = torch.LongTensor(idx)\n",
    "        data = torch.FloatTensor(L.data)\n",
    "        SparseL = torch.sparse.FloatTensor(idx, data)\n",
    "        return SparseL \n",
    "\n",
    "    def FeatureMatrix(self):\n",
    "        uids = torch.LongTensor([i for i in range(self.num_users)]).to(self.device)\n",
    "        iids = torch.LongTensor([i for i in range(self.num_items)]).to(self.device)\n",
    "        user_emb = self.user_emb(uids)\n",
    "        item_emb = self.item_emb(iids)\n",
    "        features = torch.cat([user_emb, item_emb], dim=0)\n",
    "        return features\n",
    "\n",
    "    def forward(self, uids, iids):\n",
    "        iids = self.num_users + iids \n",
    "\n",
    "        features = self.FeatureMatrix()\n",
    "        final_emb = features.clone()\n",
    "\n",
    "        for gnn in self.GNNLayers:\n",
    "            features = gnn(self.L, self.I, features)\n",
    "            features = self.leakyrelu(features)\n",
    "            final_emb = torch.concat([final_emb, features],dim=-1)\n",
    "\n",
    "        user_emb = final_emb[uids]\n",
    "        item_emb = final_emb[iids]\n",
    "\n",
    "        inputs = torch.concat([user_emb, item_emb], dim=-1)\n",
    "        outs = self.fc_layer(inputs)\n",
    "        return outs.flatten()"
   ]
  },
  {
   "cell_type": "code",
   "execution_count": 15,
   "id": "45ce1c52-e630-48db-a903-b9d696602f9f",
   "metadata": {},
   "outputs": [],
   "source": [
    "class GraphDataset(Dataset):\n",
    "    def __init__(self, dataframe):\n",
    "        super(Dataset, self).__init__()\n",
    "        \n",
    "        self.uid = list(dataframe['user_id'])\n",
    "        self.iid = list(dataframe['business_id'])\n",
    "        self.ratings = list(dataframe['stars'])\n",
    "    \n",
    "    def __len__(self):\n",
    "        return len(self.uid)\n",
    "    \n",
    "    def __getitem__(self, idx):\n",
    "        uid = self.uid[idx]\n",
    "        iid = self.iid[idx]\n",
    "        rating = self.ratings[idx]\n",
    "        \n",
    "        return (uid, iid, rating)"
   ]
  },
  {
   "cell_type": "code",
   "execution_count": 16,
   "id": "2abda046-644b-4a64-8099-c25c7a17908c",
   "metadata": {},
   "outputs": [],
   "source": [
    "def get_loader(args, dataset, num_workers):\n",
    "    d_set = GraphDataset(dataset)\n",
    "    return DataLoader(d_set, batch_size=args.batch_size, num_workers=num_workers)"
   ]
  },
  {
   "cell_type": "code",
   "execution_count": 17,
   "id": "baf08a1b-d13c-490e-b7f0-c112f60a83af",
   "metadata": {},
   "outputs": [],
   "source": [
    "train_loader = get_loader(args, d_train, 4)\n",
    "valid_loader = get_loader(args, d_valid, 4)\n",
    "test_loader = get_loader(args, d_test, 4)"
   ]
  },
  {
   "cell_type": "code",
   "execution_count": 18,
   "id": "47b91d70-4391-4d89-a459-0913fd2b113b",
   "metadata": {},
   "outputs": [],
   "source": [
    "def graph_evaluate(args, model, test_loader, criterion):\n",
    "    output = []\n",
    "    test_loss = 0\n",
    "\n",
    "    model.eval()\n",
    "    with torch.no_grad():\n",
    "        for batch in tqdm(test_loader, desc='evaluating...'):\n",
    "            batch = tuple(b.to(args.device) for b in batch)\n",
    "            inputs = {'uids':   batch[0], \n",
    "                      'iids':   batch[1]}\n",
    "            gold_y = batch[2].float()\n",
    "            \n",
    "            pred_y = model(**inputs)\n",
    "            output.append(pred_y)\n",
    "            \n",
    "            loss = criterion(pred_y, gold_y)\n",
    "            loss = torch.sqrt(loss)\n",
    "            test_loss += loss.item()\n",
    "    test_loss /= len(test_loader)\n",
    "    return test_loss, output"
   ]
  },
  {
   "cell_type": "code",
   "execution_count": 19,
   "id": "c9722c4f-c129-4d53-bd57-4c249cdb205d",
   "metadata": {},
   "outputs": [],
   "source": [
    "def graph_train(args, model, train_loader, valid_loader, optimizer, criterion):\n",
    "    best_loss = float('inf')\n",
    "    train_losses, valid_losses = [], []\n",
    "    for epoch in range(1, args.num_epochs + 1):\n",
    "        train_loss = 0.0\n",
    "\n",
    "        model.train()\n",
    "        for batch in tqdm(train_loader, desc='training...'):\n",
    "            batch = tuple(b.to(args.device) for b in batch)\n",
    "            inputs = {'uids':   batch[0], \n",
    "                      'iids':   batch[1]}\n",
    "            \n",
    "            gold_y = batch[2].float()\n",
    "            \n",
    "\n",
    "            pred_y = model(**inputs)\n",
    "            \n",
    "            loss = criterion(pred_y, gold_y)\n",
    "            loss = torch.sqrt(loss)\n",
    "            optimizer.zero_grad()\n",
    "            loss.backward()\n",
    "            optimizer.step()\n",
    "            train_loss += loss.item()\n",
    "        train_loss /= len(train_loader)\n",
    "        train_losses.append(train_loss)\n",
    "\n",
    "        valid_loss , outputs = graph_evaluate(args, model, valid_loader, criterion)\n",
    "        valid_losses.append(valid_loss)\n",
    "        \n",
    "\n",
    "        print(f'Epoch: [{epoch}/{args.num_epochs}]')\n",
    "        print(f'Train Loss: {train_loss:.4f}\\tValid Loss: {valid_loss:.4f}')\n",
    "\n",
    "        if best_loss > valid_loss:\n",
    "            best_loss = valid_loss\n",
    "            if not os.path.exists(args.SAVE_PATH):\n",
    "                os.makedirs(args.SAVE_PATH)\n",
    "            torch.save(model.state_dict(), os.path.join(args.SAVE_PATH, f'{model._get_name()}_parameters.pt'))\n",
    "\n",
    "    return {\n",
    "        'train_loss': train_losses, \n",
    "        'valid_loss': valid_losses\n",
    "    }, outputs"
   ]
  },
  {
   "cell_type": "code",
   "execution_count": 20,
   "id": "0fef7fbe-ba94-4f91-9443-ba7806efccca",
   "metadata": {},
   "outputs": [
    {
     "name": "stderr",
     "output_type": "stream",
     "text": [
      "/tmp/ipykernel_47445/2894311324.py:80: UserWarning: torch.sparse.SparseTensor(indices, values, *, device=) is deprecated.  Please use torch.sparse_coo_tensor(indices, values, dtype=, device=). (Triggered internally at /opt/conda/conda-bld/pytorch_1720538455419/work/torch/csrc/utils/tensor_new.cpp:629.)\n",
      "  SparseL = torch.sparse.FloatTensor(idx, data)\n"
     ]
    }
   ],
   "source": [
    "models = NGCF(args, d_train).to(args.device)\n",
    "\n",
    "optimizer = optim.Adam(models.parameters(), lr = 1e-3)\n",
    "criterion = nn.L1Loss()"
   ]
  },
  {
   "cell_type": "code",
   "execution_count": 21,
   "id": "0676ffb4-ca17-4ef4-8260-3f9561a6ad0b",
   "metadata": {},
   "outputs": [
    {
     "name": "stderr",
     "output_type": "stream",
     "text": [
      "training...: 100%|██████████████████████████████| 59/59 [00:00<00:00, 59.52it/s]\n",
      "evaluating...: 100%|████████████████████████████| 20/20 [00:00<00:00, 81.50it/s]\n"
     ]
    },
    {
     "name": "stdout",
     "output_type": "stream",
     "text": [
      "Epoch: [1/50]\n",
      "Train Loss: 1.0926\tValid Loss: 1.0701\n"
     ]
    },
    {
     "name": "stderr",
     "output_type": "stream",
     "text": [
      "training...: 100%|██████████████████████████████| 59/59 [00:00<00:00, 83.96it/s]\n",
      "evaluating...: 100%|████████████████████████████| 20/20 [00:00<00:00, 86.16it/s]\n"
     ]
    },
    {
     "name": "stdout",
     "output_type": "stream",
     "text": [
      "Epoch: [2/50]\n",
      "Train Loss: 0.8418\tValid Loss: 1.0557\n"
     ]
    },
    {
     "name": "stderr",
     "output_type": "stream",
     "text": [
      "training...: 100%|██████████████████████████████| 59/59 [00:00<00:00, 84.88it/s]\n",
      "evaluating...: 100%|████████████████████████████| 20/20 [00:00<00:00, 78.62it/s]\n"
     ]
    },
    {
     "name": "stdout",
     "output_type": "stream",
     "text": [
      "Epoch: [3/50]\n",
      "Train Loss: 0.8143\tValid Loss: 1.0482\n"
     ]
    },
    {
     "name": "stderr",
     "output_type": "stream",
     "text": [
      "training...: 100%|██████████████████████████████| 59/59 [00:00<00:00, 79.43it/s]\n",
      "evaluating...: 100%|████████████████████████████| 20/20 [00:00<00:00, 83.43it/s]\n"
     ]
    },
    {
     "name": "stdout",
     "output_type": "stream",
     "text": [
      "Epoch: [4/50]\n",
      "Train Loss: 0.7985\tValid Loss: 1.0460\n"
     ]
    },
    {
     "name": "stderr",
     "output_type": "stream",
     "text": [
      "training...: 100%|██████████████████████████████| 59/59 [00:00<00:00, 78.77it/s]\n",
      "evaluating...: 100%|████████████████████████████| 20/20 [00:00<00:00, 82.73it/s]\n"
     ]
    },
    {
     "name": "stdout",
     "output_type": "stream",
     "text": [
      "Epoch: [5/50]\n",
      "Train Loss: 0.8075\tValid Loss: 1.0602\n"
     ]
    },
    {
     "name": "stderr",
     "output_type": "stream",
     "text": [
      "training...: 100%|██████████████████████████████| 59/59 [00:00<00:00, 80.99it/s]\n",
      "evaluating...: 100%|████████████████████████████| 20/20 [00:00<00:00, 77.33it/s]\n"
     ]
    },
    {
     "name": "stdout",
     "output_type": "stream",
     "text": [
      "Epoch: [6/50]\n",
      "Train Loss: 0.7807\tValid Loss: 1.0570\n"
     ]
    },
    {
     "name": "stderr",
     "output_type": "stream",
     "text": [
      "training...: 100%|██████████████████████████████| 59/59 [00:00<00:00, 80.55it/s]\n",
      "evaluating...: 100%|████████████████████████████| 20/20 [00:00<00:00, 84.92it/s]\n"
     ]
    },
    {
     "name": "stdout",
     "output_type": "stream",
     "text": [
      "Epoch: [7/50]\n",
      "Train Loss: 0.7616\tValid Loss: 1.0764\n"
     ]
    },
    {
     "name": "stderr",
     "output_type": "stream",
     "text": [
      "training...: 100%|██████████████████████████████| 59/59 [00:00<00:00, 80.16it/s]\n",
      "evaluating...: 100%|████████████████████████████| 20/20 [00:00<00:00, 82.39it/s]\n"
     ]
    },
    {
     "name": "stdout",
     "output_type": "stream",
     "text": [
      "Epoch: [8/50]\n",
      "Train Loss: 0.7675\tValid Loss: 1.2046\n"
     ]
    },
    {
     "name": "stderr",
     "output_type": "stream",
     "text": [
      "training...: 100%|██████████████████████████████| 59/59 [00:00<00:00, 78.53it/s]\n",
      "evaluating...: 100%|████████████████████████████| 20/20 [00:00<00:00, 85.59it/s]\n"
     ]
    },
    {
     "name": "stdout",
     "output_type": "stream",
     "text": [
      "Epoch: [9/50]\n",
      "Train Loss: 0.7593\tValid Loss: 1.1731\n"
     ]
    },
    {
     "name": "stderr",
     "output_type": "stream",
     "text": [
      "training...: 100%|██████████████████████████████| 59/59 [00:00<00:00, 85.33it/s]\n",
      "evaluating...: 100%|████████████████████████████| 20/20 [00:00<00:00, 84.45it/s]\n"
     ]
    },
    {
     "name": "stdout",
     "output_type": "stream",
     "text": [
      "Epoch: [10/50]\n",
      "Train Loss: 0.7319\tValid Loss: 1.1493\n"
     ]
    },
    {
     "name": "stderr",
     "output_type": "stream",
     "text": [
      "training...: 100%|██████████████████████████████| 59/59 [00:00<00:00, 86.46it/s]\n",
      "evaluating...: 100%|████████████████████████████| 20/20 [00:00<00:00, 79.69it/s]\n"
     ]
    },
    {
     "name": "stdout",
     "output_type": "stream",
     "text": [
      "Epoch: [11/50]\n",
      "Train Loss: 0.7247\tValid Loss: 1.1229\n"
     ]
    },
    {
     "name": "stderr",
     "output_type": "stream",
     "text": [
      "training...: 100%|██████████████████████████████| 59/59 [00:00<00:00, 83.33it/s]\n",
      "evaluating...: 100%|████████████████████████████| 20/20 [00:00<00:00, 78.66it/s]\n"
     ]
    },
    {
     "name": "stdout",
     "output_type": "stream",
     "text": [
      "Epoch: [12/50]\n",
      "Train Loss: 0.7282\tValid Loss: 1.1757\n"
     ]
    },
    {
     "name": "stderr",
     "output_type": "stream",
     "text": [
      "training...: 100%|██████████████████████████████| 59/59 [00:00<00:00, 78.05it/s]\n",
      "evaluating...: 100%|████████████████████████████| 20/20 [00:00<00:00, 83.58it/s]\n"
     ]
    },
    {
     "name": "stdout",
     "output_type": "stream",
     "text": [
      "Epoch: [13/50]\n",
      "Train Loss: 0.7052\tValid Loss: 1.1723\n"
     ]
    },
    {
     "name": "stderr",
     "output_type": "stream",
     "text": [
      "training...: 100%|██████████████████████████████| 59/59 [00:00<00:00, 79.97it/s]\n",
      "evaluating...: 100%|████████████████████████████| 20/20 [00:00<00:00, 81.25it/s]\n"
     ]
    },
    {
     "name": "stdout",
     "output_type": "stream",
     "text": [
      "Epoch: [14/50]\n",
      "Train Loss: 0.6810\tValid Loss: 1.1170\n"
     ]
    },
    {
     "name": "stderr",
     "output_type": "stream",
     "text": [
      "training...: 100%|██████████████████████████████| 59/59 [00:00<00:00, 85.51it/s]\n",
      "evaluating...: 100%|████████████████████████████| 20/20 [00:00<00:00, 82.80it/s]\n"
     ]
    },
    {
     "name": "stdout",
     "output_type": "stream",
     "text": [
      "Epoch: [15/50]\n",
      "Train Loss: 0.6911\tValid Loss: 1.1427\n"
     ]
    },
    {
     "name": "stderr",
     "output_type": "stream",
     "text": [
      "training...: 100%|██████████████████████████████| 59/59 [00:00<00:00, 83.35it/s]\n",
      "evaluating...: 100%|████████████████████████████| 20/20 [00:00<00:00, 84.32it/s]\n"
     ]
    },
    {
     "name": "stdout",
     "output_type": "stream",
     "text": [
      "Epoch: [16/50]\n",
      "Train Loss: 0.7035\tValid Loss: 1.2279\n"
     ]
    },
    {
     "name": "stderr",
     "output_type": "stream",
     "text": [
      "training...: 100%|██████████████████████████████| 59/59 [00:00<00:00, 79.74it/s]\n",
      "evaluating...: 100%|████████████████████████████| 20/20 [00:00<00:00, 79.40it/s]\n"
     ]
    },
    {
     "name": "stdout",
     "output_type": "stream",
     "text": [
      "Epoch: [17/50]\n",
      "Train Loss: 0.6760\tValid Loss: 1.2571\n"
     ]
    },
    {
     "name": "stderr",
     "output_type": "stream",
     "text": [
      "training...: 100%|██████████████████████████████| 59/59 [00:00<00:00, 78.06it/s]\n",
      "evaluating...: 100%|████████████████████████████| 20/20 [00:00<00:00, 79.17it/s]\n"
     ]
    },
    {
     "name": "stdout",
     "output_type": "stream",
     "text": [
      "Epoch: [18/50]\n",
      "Train Loss: 0.6573\tValid Loss: 1.1790\n"
     ]
    },
    {
     "name": "stderr",
     "output_type": "stream",
     "text": [
      "training...: 100%|██████████████████████████████| 59/59 [00:00<00:00, 84.12it/s]\n",
      "evaluating...: 100%|████████████████████████████| 20/20 [00:00<00:00, 84.59it/s]\n"
     ]
    },
    {
     "name": "stdout",
     "output_type": "stream",
     "text": [
      "Epoch: [19/50]\n",
      "Train Loss: 0.6622\tValid Loss: 1.1508\n"
     ]
    },
    {
     "name": "stderr",
     "output_type": "stream",
     "text": [
      "training...: 100%|██████████████████████████████| 59/59 [00:00<00:00, 84.75it/s]\n",
      "evaluating...: 100%|████████████████████████████| 20/20 [00:00<00:00, 84.14it/s]\n"
     ]
    },
    {
     "name": "stdout",
     "output_type": "stream",
     "text": [
      "Epoch: [20/50]\n",
      "Train Loss: 0.6309\tValid Loss: 1.1963\n"
     ]
    },
    {
     "name": "stderr",
     "output_type": "stream",
     "text": [
      "training...: 100%|██████████████████████████████| 59/59 [00:00<00:00, 82.22it/s]\n",
      "evaluating...: 100%|████████████████████████████| 20/20 [00:00<00:00, 80.60it/s]\n"
     ]
    },
    {
     "name": "stdout",
     "output_type": "stream",
     "text": [
      "Epoch: [21/50]\n",
      "Train Loss: 0.6339\tValid Loss: 1.2543\n"
     ]
    },
    {
     "name": "stderr",
     "output_type": "stream",
     "text": [
      "training...: 100%|██████████████████████████████| 59/59 [00:00<00:00, 79.57it/s]\n",
      "evaluating...: 100%|████████████████████████████| 20/20 [00:00<00:00, 79.48it/s]\n"
     ]
    },
    {
     "name": "stdout",
     "output_type": "stream",
     "text": [
      "Epoch: [22/50]\n",
      "Train Loss: 0.6376\tValid Loss: 1.2526\n"
     ]
    },
    {
     "name": "stderr",
     "output_type": "stream",
     "text": [
      "training...: 100%|██████████████████████████████| 59/59 [00:00<00:00, 81.93it/s]\n",
      "evaluating...: 100%|████████████████████████████| 20/20 [00:00<00:00, 85.61it/s]\n"
     ]
    },
    {
     "name": "stdout",
     "output_type": "stream",
     "text": [
      "Epoch: [23/50]\n",
      "Train Loss: 0.6382\tValid Loss: 1.2268\n"
     ]
    },
    {
     "name": "stderr",
     "output_type": "stream",
     "text": [
      "training...: 100%|██████████████████████████████| 59/59 [00:00<00:00, 86.12it/s]\n",
      "evaluating...: 100%|████████████████████████████| 20/20 [00:00<00:00, 80.53it/s]\n"
     ]
    },
    {
     "name": "stdout",
     "output_type": "stream",
     "text": [
      "Epoch: [24/50]\n",
      "Train Loss: 0.6878\tValid Loss: 1.1570\n"
     ]
    },
    {
     "name": "stderr",
     "output_type": "stream",
     "text": [
      "training...: 100%|██████████████████████████████| 59/59 [00:00<00:00, 79.98it/s]\n",
      "evaluating...: 100%|████████████████████████████| 20/20 [00:00<00:00, 80.37it/s]\n"
     ]
    },
    {
     "name": "stdout",
     "output_type": "stream",
     "text": [
      "Epoch: [25/50]\n",
      "Train Loss: 0.6492\tValid Loss: 1.1481\n"
     ]
    },
    {
     "name": "stderr",
     "output_type": "stream",
     "text": [
      "training...: 100%|██████████████████████████████| 59/59 [00:00<00:00, 81.13it/s]\n",
      "evaluating...: 100%|████████████████████████████| 20/20 [00:00<00:00, 82.14it/s]\n"
     ]
    },
    {
     "name": "stdout",
     "output_type": "stream",
     "text": [
      "Epoch: [26/50]\n",
      "Train Loss: 0.6088\tValid Loss: 1.1566\n"
     ]
    },
    {
     "name": "stderr",
     "output_type": "stream",
     "text": [
      "training...: 100%|██████████████████████████████| 59/59 [00:00<00:00, 81.62it/s]\n",
      "evaluating...: 100%|████████████████████████████| 20/20 [00:00<00:00, 84.58it/s]\n"
     ]
    },
    {
     "name": "stdout",
     "output_type": "stream",
     "text": [
      "Epoch: [27/50]\n",
      "Train Loss: 0.5493\tValid Loss: 1.1558\n"
     ]
    },
    {
     "name": "stderr",
     "output_type": "stream",
     "text": [
      "training...: 100%|██████████████████████████████| 59/59 [00:00<00:00, 84.87it/s]\n",
      "evaluating...: 100%|████████████████████████████| 20/20 [00:00<00:00, 80.70it/s]\n"
     ]
    },
    {
     "name": "stdout",
     "output_type": "stream",
     "text": [
      "Epoch: [28/50]\n",
      "Train Loss: 0.5245\tValid Loss: 1.1740\n"
     ]
    },
    {
     "name": "stderr",
     "output_type": "stream",
     "text": [
      "training...: 100%|██████████████████████████████| 59/59 [00:00<00:00, 82.58it/s]\n",
      "evaluating...: 100%|████████████████████████████| 20/20 [00:00<00:00, 77.97it/s]\n"
     ]
    },
    {
     "name": "stdout",
     "output_type": "stream",
     "text": [
      "Epoch: [29/50]\n",
      "Train Loss: 0.5102\tValid Loss: 1.1646\n"
     ]
    },
    {
     "name": "stderr",
     "output_type": "stream",
     "text": [
      "training...: 100%|██████████████████████████████| 59/59 [00:00<00:00, 77.72it/s]\n",
      "evaluating...: 100%|████████████████████████████| 20/20 [00:00<00:00, 78.85it/s]\n"
     ]
    },
    {
     "name": "stdout",
     "output_type": "stream",
     "text": [
      "Epoch: [30/50]\n",
      "Train Loss: 0.5218\tValid Loss: 1.1281\n"
     ]
    },
    {
     "name": "stderr",
     "output_type": "stream",
     "text": [
      "training...: 100%|██████████████████████████████| 59/59 [00:00<00:00, 76.81it/s]\n",
      "evaluating...: 100%|████████████████████████████| 20/20 [00:00<00:00, 80.54it/s]\n"
     ]
    },
    {
     "name": "stdout",
     "output_type": "stream",
     "text": [
      "Epoch: [31/50]\n",
      "Train Loss: 0.6130\tValid Loss: 1.2226\n"
     ]
    },
    {
     "name": "stderr",
     "output_type": "stream",
     "text": [
      "training...: 100%|██████████████████████████████| 59/59 [00:00<00:00, 81.09it/s]\n",
      "evaluating...: 100%|████████████████████████████| 20/20 [00:00<00:00, 80.99it/s]\n"
     ]
    },
    {
     "name": "stdout",
     "output_type": "stream",
     "text": [
      "Epoch: [32/50]\n",
      "Train Loss: 0.6360\tValid Loss: 1.2485\n"
     ]
    },
    {
     "name": "stderr",
     "output_type": "stream",
     "text": [
      "training...: 100%|██████████████████████████████| 59/59 [00:00<00:00, 80.13it/s]\n",
      "evaluating...: 100%|████████████████████████████| 20/20 [00:00<00:00, 78.48it/s]\n"
     ]
    },
    {
     "name": "stdout",
     "output_type": "stream",
     "text": [
      "Epoch: [33/50]\n",
      "Train Loss: 0.5828\tValid Loss: 1.2557\n"
     ]
    },
    {
     "name": "stderr",
     "output_type": "stream",
     "text": [
      "training...: 100%|██████████████████████████████| 59/59 [00:00<00:00, 83.72it/s]\n",
      "evaluating...: 100%|████████████████████████████| 20/20 [00:00<00:00, 86.01it/s]\n"
     ]
    },
    {
     "name": "stdout",
     "output_type": "stream",
     "text": [
      "Epoch: [34/50]\n",
      "Train Loss: 0.5291\tValid Loss: 1.2575\n"
     ]
    },
    {
     "name": "stderr",
     "output_type": "stream",
     "text": [
      "training...: 100%|██████████████████████████████| 59/59 [00:00<00:00, 77.56it/s]\n",
      "evaluating...: 100%|████████████████████████████| 20/20 [00:00<00:00, 78.86it/s]\n"
     ]
    },
    {
     "name": "stdout",
     "output_type": "stream",
     "text": [
      "Epoch: [35/50]\n",
      "Train Loss: 0.5005\tValid Loss: 1.2539\n"
     ]
    },
    {
     "name": "stderr",
     "output_type": "stream",
     "text": [
      "training...: 100%|██████████████████████████████| 59/59 [00:00<00:00, 83.33it/s]\n",
      "evaluating...: 100%|████████████████████████████| 20/20 [00:00<00:00, 84.80it/s]\n"
     ]
    },
    {
     "name": "stdout",
     "output_type": "stream",
     "text": [
      "Epoch: [36/50]\n",
      "Train Loss: 0.5281\tValid Loss: 1.2800\n"
     ]
    },
    {
     "name": "stderr",
     "output_type": "stream",
     "text": [
      "training...: 100%|██████████████████████████████| 59/59 [00:00<00:00, 84.86it/s]\n",
      "evaluating...: 100%|████████████████████████████| 20/20 [00:00<00:00, 76.68it/s]\n"
     ]
    },
    {
     "name": "stdout",
     "output_type": "stream",
     "text": [
      "Epoch: [37/50]\n",
      "Train Loss: 0.6069\tValid Loss: 1.1717\n"
     ]
    },
    {
     "name": "stderr",
     "output_type": "stream",
     "text": [
      "training...: 100%|██████████████████████████████| 59/59 [00:00<00:00, 79.88it/s]\n",
      "evaluating...: 100%|████████████████████████████| 20/20 [00:00<00:00, 79.34it/s]\n"
     ]
    },
    {
     "name": "stdout",
     "output_type": "stream",
     "text": [
      "Epoch: [38/50]\n",
      "Train Loss: 0.5828\tValid Loss: 1.1659\n"
     ]
    },
    {
     "name": "stderr",
     "output_type": "stream",
     "text": [
      "training...: 100%|██████████████████████████████| 59/59 [00:00<00:00, 82.63it/s]\n",
      "evaluating...: 100%|████████████████████████████| 20/20 [00:00<00:00, 81.07it/s]\n"
     ]
    },
    {
     "name": "stdout",
     "output_type": "stream",
     "text": [
      "Epoch: [39/50]\n",
      "Train Loss: 0.5180\tValid Loss: 1.1801\n"
     ]
    },
    {
     "name": "stderr",
     "output_type": "stream",
     "text": [
      "training...: 100%|██████████████████████████████| 59/59 [00:00<00:00, 82.62it/s]\n",
      "evaluating...: 100%|████████████████████████████| 20/20 [00:00<00:00, 80.93it/s]\n"
     ]
    },
    {
     "name": "stdout",
     "output_type": "stream",
     "text": [
      "Epoch: [40/50]\n",
      "Train Loss: 0.5027\tValid Loss: 1.1674\n"
     ]
    },
    {
     "name": "stderr",
     "output_type": "stream",
     "text": [
      "training...: 100%|██████████████████████████████| 59/59 [00:00<00:00, 81.39it/s]\n",
      "evaluating...: 100%|████████████████████████████| 20/20 [00:00<00:00, 84.60it/s]\n"
     ]
    },
    {
     "name": "stdout",
     "output_type": "stream",
     "text": [
      "Epoch: [41/50]\n",
      "Train Loss: 0.5738\tValid Loss: 1.2445\n"
     ]
    },
    {
     "name": "stderr",
     "output_type": "stream",
     "text": [
      "training...: 100%|██████████████████████████████| 59/59 [00:00<00:00, 79.04it/s]\n",
      "evaluating...: 100%|████████████████████████████| 20/20 [00:00<00:00, 85.36it/s]\n"
     ]
    },
    {
     "name": "stdout",
     "output_type": "stream",
     "text": [
      "Epoch: [42/50]\n",
      "Train Loss: 0.5466\tValid Loss: 1.2552\n"
     ]
    },
    {
     "name": "stderr",
     "output_type": "stream",
     "text": [
      "training...: 100%|██████████████████████████████| 59/59 [00:00<00:00, 82.13it/s]\n",
      "evaluating...: 100%|████████████████████████████| 20/20 [00:00<00:00, 80.48it/s]\n"
     ]
    },
    {
     "name": "stdout",
     "output_type": "stream",
     "text": [
      "Epoch: [43/50]\n",
      "Train Loss: 0.5489\tValid Loss: 1.1978\n"
     ]
    },
    {
     "name": "stderr",
     "output_type": "stream",
     "text": [
      "training...: 100%|██████████████████████████████| 59/59 [00:00<00:00, 82.54it/s]\n",
      "evaluating...: 100%|████████████████████████████| 20/20 [00:00<00:00, 85.01it/s]\n"
     ]
    },
    {
     "name": "stdout",
     "output_type": "stream",
     "text": [
      "Epoch: [44/50]\n",
      "Train Loss: 0.5261\tValid Loss: 1.1723\n"
     ]
    },
    {
     "name": "stderr",
     "output_type": "stream",
     "text": [
      "training...: 100%|██████████████████████████████| 59/59 [00:00<00:00, 82.88it/s]\n",
      "evaluating...: 100%|████████████████████████████| 20/20 [00:00<00:00, 79.63it/s]\n"
     ]
    },
    {
     "name": "stdout",
     "output_type": "stream",
     "text": [
      "Epoch: [45/50]\n",
      "Train Loss: 0.5122\tValid Loss: 1.1656\n"
     ]
    },
    {
     "name": "stderr",
     "output_type": "stream",
     "text": [
      "training...: 100%|██████████████████████████████| 59/59 [00:00<00:00, 82.15it/s]\n",
      "evaluating...: 100%|████████████████████████████| 20/20 [00:00<00:00, 80.14it/s]\n"
     ]
    },
    {
     "name": "stdout",
     "output_type": "stream",
     "text": [
      "Epoch: [46/50]\n",
      "Train Loss: 0.5483\tValid Loss: 1.1932\n"
     ]
    },
    {
     "name": "stderr",
     "output_type": "stream",
     "text": [
      "training...: 100%|██████████████████████████████| 59/59 [00:00<00:00, 81.15it/s]\n",
      "evaluating...: 100%|████████████████████████████| 20/20 [00:00<00:00, 79.45it/s]\n"
     ]
    },
    {
     "name": "stdout",
     "output_type": "stream",
     "text": [
      "Epoch: [47/50]\n",
      "Train Loss: 0.5206\tValid Loss: 1.2299\n"
     ]
    },
    {
     "name": "stderr",
     "output_type": "stream",
     "text": [
      "training...: 100%|██████████████████████████████| 59/59 [00:00<00:00, 84.49it/s]\n",
      "evaluating...: 100%|████████████████████████████| 20/20 [00:00<00:00, 85.98it/s]\n"
     ]
    },
    {
     "name": "stdout",
     "output_type": "stream",
     "text": [
      "Epoch: [48/50]\n",
      "Train Loss: 0.4480\tValid Loss: 1.2484\n"
     ]
    },
    {
     "name": "stderr",
     "output_type": "stream",
     "text": [
      "training...: 100%|██████████████████████████████| 59/59 [00:00<00:00, 83.90it/s]\n",
      "evaluating...: 100%|████████████████████████████| 20/20 [00:00<00:00, 84.53it/s]\n"
     ]
    },
    {
     "name": "stdout",
     "output_type": "stream",
     "text": [
      "Epoch: [49/50]\n",
      "Train Loss: 0.4484\tValid Loss: 1.2643\n"
     ]
    },
    {
     "name": "stderr",
     "output_type": "stream",
     "text": [
      "training...: 100%|██████████████████████████████| 59/59 [00:00<00:00, 84.97it/s]\n",
      "evaluating...: 100%|████████████████████████████| 20/20 [00:00<00:00, 83.56it/s]"
     ]
    },
    {
     "name": "stdout",
     "output_type": "stream",
     "text": [
      "Epoch: [50/50]\n",
      "Train Loss: 0.5432\tValid Loss: 1.2039\n"
     ]
    },
    {
     "name": "stderr",
     "output_type": "stream",
     "text": [
      "\n"
     ]
    }
   ],
   "source": [
    "results = graph_train(args, models, train_loader, valid_loader, optimizer, criterion)"
   ]
  },
  {
   "cell_type": "code",
   "execution_count": 23,
   "id": "6c3fdb19-a36a-4e10-abe9-23bbb88af89c",
   "metadata": {},
   "outputs": [
    {
     "name": "stderr",
     "output_type": "stream",
     "text": [
      "evaluating...: 100%|████████████████████████████| 20/20 [00:00<00:00, 74.91it/s]\n"
     ]
    }
   ],
   "source": [
    "valid_loss , outputs = graph_evaluate(args, models, test_loader, criterion)"
   ]
  },
  {
   "cell_type": "code",
   "execution_count": 24,
   "id": "eac4f06c-a323-46ff-8890-e3e111f79004",
   "metadata": {},
   "outputs": [
    {
     "name": "stdout",
     "output_type": "stream",
     "text": [
      "1.1982746064662932 [tensor([3.0375, 1.0897, 4.5670, 1.5784, 2.0191, 3.3421, 1.4171, 5.2156, 5.7059,\n",
      "        3.0192, 3.9015, 1.5784, 1.0610, 1.5058, 3.8152, 2.3925, 3.7296, 2.9889,\n",
      "        3.6430, 5.3203, 4.1071, 2.7614, 3.3122, 3.3676, 1.3898, 1.5784, 4.0900,\n",
      "        1.5784, 3.3305, 0.9580, 3.5611, 3.4348, 2.8198, 4.0185, 3.2380, 2.5367,\n",
      "        2.1477, 4.3871, 3.9295, 5.2433, 1.9693, 2.6765, 2.3539, 3.7748, 3.8639,\n",
      "        4.9798, 2.0687, 1.2985, 1.5784, 0.8657, 1.7204, 3.0006, 2.3634, 3.7813,\n",
      "        2.3447, 1.5784, 2.9466, 2.5916, 3.6998, 2.8629, 2.0706, 4.4456, 2.6945,\n",
      "        2.4246, 4.1674, 2.9762, 1.9318, 3.4550, 2.5473, 2.1291, 3.4609, 1.5784,\n",
      "        1.0600, 1.5784, 1.5784, 3.8982, 1.5198, 5.2966, 3.2224, 3.7381, 5.3217,\n",
      "        4.1924, 4.0698, 1.5784, 3.1014, 1.4247, 2.3152, 5.1317, 4.3972, 4.5974,\n",
      "        4.5240, 3.9564, 1.4700, 1.0970, 1.6200, 2.7285, 1.5784, 3.3286, 3.9864,\n",
      "        3.9682, 1.8859, 3.7692, 1.5784, 1.4013, 2.6096, 1.4069, 3.7999, 1.3656,\n",
      "        3.0834, 1.8281, 2.0580, 1.5784, 4.1322, 1.5784, 1.5784, 2.4414, 4.4990,\n",
      "        3.8403, 1.4733, 3.4077, 1.5784, 4.6398, 4.5977, 4.2991, 2.5780, 3.7204,\n",
      "        1.5784, 2.4482, 2.1321, 2.8123, 4.9900, 1.4654, 2.3891, 2.1497, 2.5607,\n",
      "        4.5558, 4.2267, 1.1350, 2.4075, 3.6753, 3.8676, 1.6998, 4.2068, 4.2242,\n",
      "        4.0456, 1.2072, 1.5953, 4.5455, 1.0888, 0.7688, 3.7276, 4.0405, 1.5336,\n",
      "        3.4351, 3.2163, 0.8736, 3.8288, 2.0555, 1.2245, 4.7731, 2.4724, 4.2081,\n",
      "        4.4875, 2.0002, 1.0741, 4.1174, 2.5281, 4.9114, 2.5359, 1.4539, 3.8917,\n",
      "        3.9846, 1.5784, 1.4329, 2.2100, 2.7697, 1.3478, 3.2874, 2.6705, 4.7276,\n",
      "        2.9148, 3.9263, 1.9394, 1.4988, 4.6821, 2.1836, 2.9434, 4.7711, 3.0157,\n",
      "        2.8266, 1.9350, 1.5784, 4.3603, 1.6236, 2.9456, 1.2970, 3.7964, 4.0703,\n",
      "        0.7822, 3.6023, 2.2428, 4.4259, 3.9492, 2.6873, 2.4987, 2.0540, 3.4950,\n",
      "        3.8496, 3.6170, 1.7360, 1.5784, 4.0532, 4.2802, 3.8719, 3.3444, 3.2298,\n",
      "        1.1374, 4.7343, 1.5784, 2.7348, 3.1041, 1.5784, 4.9258, 3.2114, 3.7198,\n",
      "        4.3728, 5.0577, 4.3346, 1.7358, 4.2655, 1.5784, 2.9905, 4.4037, 1.3009,\n",
      "        3.9417, 2.4854, 3.1631, 3.9353, 3.6224, 4.3299, 3.6582, 3.0499, 3.9401,\n",
      "        2.3488, 2.4640, 3.8198, 5.3569, 0.9596, 4.5161, 2.2577, 2.3103, 0.6360,\n",
      "        2.5848, 0.6215, 4.2634, 3.5587, 2.4505, 4.9448, 0.5005, 4.3229, 2.4533,\n",
      "        3.2607, 1.5784, 1.2760, 2.3241, 1.6745, 1.4514, 3.3941, 1.0878, 3.6989,\n",
      "        3.7299, 2.4956, 4.4430, 4.1377, 0.7406, 3.5797, 3.2624, 3.7521, 4.0260,\n",
      "        2.6689, 3.8297, 1.5464, 2.1321, 3.9246, 4.1006, 2.5822, 1.5324, 0.7430,\n",
      "        2.0007, 3.3179, 3.2767, 1.5784, 2.1800, 1.2971, 2.0439, 1.9772, 1.2932,\n",
      "        1.1525, 1.5784, 2.1791, 3.8963, 1.5784, 3.9371, 3.1017, 3.2355, 4.7829,\n",
      "        2.5599, 4.3632, 3.8746, 3.7382, 4.3183, 2.6639, 3.6013, 3.3258, 2.9930,\n",
      "        1.9289, 5.5761, 4.0233, 3.2368, 2.0588, 2.3507, 1.9217, 3.4558, 1.5784,\n",
      "        1.3909, 1.1046, 3.6315, 4.4859, 3.8053, 5.0367, 1.5784, 5.0864, 1.2598,\n",
      "        3.6820, 1.7018, 2.4260, 4.2419, 1.7055, 1.4511, 5.9582, 3.1530, 3.3011,\n",
      "        5.3976, 4.3139, 3.4951, 3.6528, 3.5408, 1.0961, 2.9424, 3.6117, 1.5784,\n",
      "        1.4920, 4.1718, 3.1228, 1.5784, 1.5784, 3.6604, 2.2610, 2.0784, 1.9187,\n",
      "        4.3438, 2.8014, 1.0716, 2.2736, 1.7093, 4.6672, 2.7775, 0.8066, 2.0254,\n",
      "        4.3743, 4.1336, 3.3922, 5.4095, 2.9996, 1.5784, 4.4462, 3.1328, 1.5784,\n",
      "        1.9930, 3.3843, 4.8101, 3.2394, 1.8061, 3.5105, 3.5090, 0.4037, 3.9712,\n",
      "        4.2217, 5.0563, 3.6506, 2.9990, 0.6730, 3.8561, 3.4424, 3.4663, 4.3187,\n",
      "        1.9283, 3.6576, 4.1920, 1.2556, 4.2960, 2.2590, 3.5795, 4.7433, 2.5406,\n",
      "        3.4830, 2.0698, 4.8814, 2.9344, 0.8377, 1.5784, 0.8724, 2.7624, 2.0441,\n",
      "        2.5264, 4.9033, 2.6462, 3.0049, 3.8959, 3.4009, 2.0998, 1.9983, 3.0533,\n",
      "        3.2628, 2.9280, 0.5801, 3.0219, 3.0373, 2.3088, 2.6869, 2.5777, 3.9469,\n",
      "        4.8623, 4.2487, 4.0179, 3.9065, 4.7409, 1.5784, 2.8839, 3.6707, 2.3012,\n",
      "        3.4139, 1.4793, 1.0601, 4.3035, 2.9562, 0.7822, 3.1233, 4.2595, 4.1632,\n",
      "        4.6440, 4.4189, 1.3996, 4.4086, 4.5637, 4.0264, 3.7204, 3.7531, 3.0199,\n",
      "        1.5238, 2.8968, 4.4930, 3.7543, 4.0643, 2.7801, 1.1550, 3.6745, 2.4637,\n",
      "        2.3655, 1.8673, 1.6433, 2.6551, 3.5740, 4.5792, 3.6001, 1.5875, 2.6200,\n",
      "        2.9769, 3.2391, 1.5784, 1.5784, 3.6354, 2.1484, 1.4329, 4.2386, 2.9018,\n",
      "        1.5784, 1.5784, 4.6121, 2.2476, 4.3068, 3.5083, 1.5784, 1.4247, 4.8830,\n",
      "        2.6674, 2.7532, 3.9418, 3.9493, 2.5949, 1.3859, 2.2536, 3.6989, 5.9803,\n",
      "        3.1562, 4.0077, 2.2405, 3.7032, 3.5387, 3.9846, 2.0370, 1.5784],\n",
      "       device='cuda:0'), tensor([ 2.9660,  3.8866,  1.5784,  4.2939,  1.5784,  4.1363,  1.5784,  3.0538,\n",
      "         4.3065,  3.7003,  1.5784,  3.4662,  2.5104,  1.7282,  1.4305,  4.1221,\n",
      "         2.9859,  2.0929,  4.6274,  5.0259,  3.9090,  1.1876,  1.6467,  1.5784,\n",
      "         5.3794,  3.6962,  1.2688,  2.0680,  3.6049,  3.7769,  2.7693,  3.7475,\n",
      "         4.1099,  0.5580,  3.6652,  3.7511,  1.3137,  2.6428,  3.9743,  4.6193,\n",
      "         2.7212,  3.6504,  4.7752,  1.5689,  4.6865,  4.6271,  2.6765,  3.8419,\n",
      "         1.5993,  1.5784,  2.9208,  4.0329,  2.2117,  3.9031,  2.1415,  3.7075,\n",
      "         1.8061,  4.2794,  2.0373,  1.4266,  3.7420,  1.8133,  4.2837,  5.0855,\n",
      "         1.5784,  1.5784,  1.8485,  4.5434,  2.0849,  3.5118,  3.4321,  4.3855,\n",
      "         3.1264,  4.9032,  5.5330,  4.3617,  4.6562,  1.5107,  2.1363,  2.2826,\n",
      "         2.5295,  2.9067,  4.0278,  3.7203,  1.4324,  4.3071,  2.9132,  4.2786,\n",
      "         2.7090,  2.9514,  4.0436,  2.0208,  1.5635,  1.7452,  3.8879,  3.6009,\n",
      "         3.1583,  3.6057,  1.5784,  4.7196,  1.6593,  3.1227,  1.3852,  3.8010,\n",
      "         1.3521,  2.7374,  2.8794,  2.8023,  4.1758,  2.7111,  4.5571,  2.4849,\n",
      "         3.4474,  2.3406,  0.9853,  1.5784,  3.9271,  4.8909,  2.0369,  2.5236,\n",
      "         4.4496,  1.8508,  4.2823,  3.8098,  3.0182,  1.9184,  1.5784,  4.1365,\n",
      "         2.2880,  5.2385,  3.2368,  3.8300,  4.0211,  3.7437,  2.6680,  3.5364,\n",
      "         1.5784,  1.7536,  5.2139,  3.9425,  3.6505,  2.0611,  1.5784,  3.3985,\n",
      "         3.1756,  1.7852,  3.2812,  1.5416,  5.3042,  1.6870,  2.9477,  4.4973,\n",
      "         0.0266,  4.5629,  2.4463,  2.3278,  5.1155,  1.5784,  3.7415,  2.6750,\n",
      "         3.1208,  4.6605,  2.3580,  4.5889,  1.6425,  3.9349,  2.4299,  4.9061,\n",
      "         3.9462,  3.9527,  5.0253,  3.0041,  4.1424,  0.7583,  4.3288,  2.5159,\n",
      "         3.6476,  4.8772,  4.3250,  3.3384,  4.0631,  1.5784,  3.1083,  4.2412,\n",
      "         3.4321,  4.4424,  2.1634,  4.7292,  1.8688,  3.8300,  1.5784,  1.5784,\n",
      "         3.6767,  2.5818,  5.1658,  1.2819,  4.2682,  2.2646,  3.1955,  2.5980,\n",
      "         4.2595,  3.8370,  2.0386,  3.7643,  1.1431,  2.2627,  4.0527,  2.3592,\n",
      "         1.9440,  4.8685,  5.2086,  4.3608,  1.5784,  3.3040,  3.2454,  4.7152,\n",
      "         3.3081,  4.2370,  0.3330,  2.4403,  2.2211,  4.0263,  3.1484,  3.1512,\n",
      "         2.0412,  4.7396,  1.2175,  1.7620,  2.1812,  3.1229,  3.8930,  2.7475,\n",
      "         4.3347,  1.0404,  4.3149,  3.6865,  3.3147,  2.2097,  2.1730,  2.4203,\n",
      "         1.0009,  3.5157,  3.9714,  2.9333,  1.6971,  1.5784,  4.2753,  1.5784,\n",
      "         3.5634,  5.2029,  3.7633,  3.9127,  2.2114,  1.5017,  1.8144,  4.5410,\n",
      "         3.7934,  4.5752,  5.3570,  2.8373,  4.1582,  1.8131,  4.9854,  3.3124,\n",
      "         4.4063,  1.5784,  2.5104,  3.3029,  3.4397,  4.4110,  5.1176,  4.2990,\n",
      "         3.5047,  1.0764,  1.5784,  4.3144,  4.7176,  2.5287,  4.4710,  2.7801,\n",
      "         1.4861,  4.5345,  2.5222,  3.1347,  1.0102,  4.4549,  4.6300,  0.2639,\n",
      "         5.2206,  1.7575,  1.5784,  3.9682,  1.5784,  2.9068,  3.3779,  4.2320,\n",
      "         4.0045,  4.1632,  3.3447,  1.5784,  4.2618,  2.0700,  3.9182,  2.0737,\n",
      "         1.7804,  1.5055,  3.4822,  3.4789,  2.2762,  0.1960,  5.0463,  1.6399,\n",
      "         0.7867,  4.0283,  1.5102,  4.8662,  2.6682,  4.1608,  2.4346,  3.5438,\n",
      "         4.1350,  3.7071,  5.4542,  4.0921,  3.7922,  3.4487,  5.7184,  2.4907,\n",
      "         2.7037,  0.9762,  1.5784,  3.8455,  3.5378,  4.0782,  4.5368, -0.0304,\n",
      "         0.8248,  3.4281,  3.9764,  3.4240,  1.1889,  3.2116,  3.5824,  4.2234,\n",
      "         5.1152,  1.5079,  1.8924,  1.5784,  2.5613,  4.6202,  3.2526,  2.8475,\n",
      "         1.5784,  3.1328,  4.4729,  1.8118,  3.9532,  5.0753,  3.8110,  3.3258,\n",
      "         1.5784,  2.8153,  3.6838,  3.2184,  1.5784,  3.1274,  2.1258,  1.5784,\n",
      "         3.3469,  5.5100,  2.2888,  0.6617,  4.9620,  3.0134,  2.9438,  4.6110,\n",
      "         0.6513,  3.7176,  3.6554,  2.1842,  1.5784,  2.3572,  1.3772,  2.5936,\n",
      "         2.4454,  3.5291,  2.6417,  4.1209,  3.5235,  2.7192,  2.3755,  4.6370,\n",
      "         3.4700,  2.5537,  2.7667,  2.7219,  3.8157,  4.4438,  3.4796,  2.0764,\n",
      "         2.6837,  3.9893,  4.0410,  3.3797,  4.0233,  1.5784,  3.3653,  4.2645,\n",
      "         3.0328,  3.1487,  2.4012,  3.1669,  2.0321,  1.6589,  4.9736,  2.9429,\n",
      "         2.5131,  2.2857,  3.9587,  4.1513,  2.7804,  3.2922,  3.5546,  3.3043,\n",
      "         2.6214,  3.8971,  1.4288,  3.5948,  3.7577,  3.0730,  3.3285,  3.7611,\n",
      "         2.3367,  3.2035,  4.2892,  5.2792,  4.1992,  3.7796,  1.5784,  3.1409,\n",
      "         2.9440,  1.6243,  1.5248,  3.7107,  2.6703,  3.4304,  0.8193,  1.9193,\n",
      "         2.0265,  1.8548,  2.8104,  4.4700,  4.2171,  0.5411,  1.7521,  2.2724,\n",
      "         3.5602,  1.5784,  2.2524,  4.4131,  1.4098,  5.0770,  3.1036,  2.9241,\n",
      "         4.8585,  2.4329,  5.5480,  1.5784,  3.7895,  2.3473,  4.4597,  0.9880,\n",
      "         1.5784,  4.5039,  4.6099,  1.5784,  3.7534,  4.6989,  3.1220,  3.9692,\n",
      "         1.2122,  2.4409,  4.2351,  0.9491,  1.5784,  4.2408,  1.2241,  3.8714,\n",
      "         0.6999,  1.7152,  4.4381,  1.3109,  4.5364,  3.3812,  3.9783,  5.0725,\n",
      "         3.6923,  2.6733,  3.1767,  4.1940,  3.1773,  1.5784,  3.6994,  1.1695,\n",
      "         3.1619,  2.8984,  3.8922,  4.6931,  1.6666,  4.7631,  1.5784,  0.4678],\n",
      "       device='cuda:0'), tensor([ 5.4655,  4.5946,  3.6731,  4.4083,  4.4145,  1.0762,  3.3437,  4.0477,\n",
      "         3.0234,  4.4087,  4.2778,  3.7185,  2.8846,  3.9035,  1.8924,  1.1097,\n",
      "         3.7241,  1.1702,  3.4607,  3.1859,  3.2685,  3.5391,  2.2740,  2.2926,\n",
      "         3.0759,  1.0441,  3.9199,  4.1513,  5.0061,  3.4468,  3.1674,  1.3161,\n",
      "         3.2530,  4.1935,  4.4430,  5.6963,  1.5649,  4.8401,  4.1136,  2.2682,\n",
      "         4.2699,  4.5820,  1.8836,  3.6121,  3.1255,  0.9645,  1.5784,  3.4995,\n",
      "         2.3722,  2.1006,  2.8027,  4.6259,  2.2862,  2.9408,  2.7470,  2.2451,\n",
      "         2.6816,  1.5784,  2.8686,  3.5817,  3.2263,  2.5457,  4.0487,  0.9299,\n",
      "         3.2807,  4.6590,  3.6562,  3.9277,  5.0914,  2.3794,  4.6063,  2.9618,\n",
      "         3.8659,  2.8703,  2.7141,  3.3682,  2.4179,  3.9843,  3.8931,  4.3946,\n",
      "         0.7551,  2.2862,  0.6623,  1.7221,  3.3736,  1.5784,  1.2112,  2.1236,\n",
      "         4.3568,  5.3690,  4.2416,  4.5472,  3.2361,  2.2085,  1.2066,  5.2370,\n",
      "         1.6728,  2.7102,  1.5784,  1.8158,  2.1131,  4.1805,  3.3350,  2.1537,\n",
      "         3.7386,  1.7729,  1.5336,  3.6749,  3.4785,  4.6676,  5.2567,  4.5214,\n",
      "         2.1060,  3.8161,  1.1583,  3.0955,  4.1226,  3.7099,  4.2276,  4.3103,\n",
      "         4.7464,  1.1194,  2.7033,  4.3276,  1.5784,  2.7389,  0.4504,  1.5784,\n",
      "         1.3583,  1.2392,  0.3987,  4.7195,  3.5144,  2.1541,  5.4438,  3.7550,\n",
      "         1.7208,  1.4745,  3.3702,  1.1246,  2.6040,  2.6426,  3.9539,  1.6878,\n",
      "         3.8712,  4.3708,  1.5784,  4.9080,  3.9387,  3.2810,  1.6706,  3.8711,\n",
      "         3.7175,  3.2391,  3.2879,  3.4348,  1.5784,  4.1838,  4.8478,  2.2594,\n",
      "         2.4944,  1.6231,  4.1044,  3.8747,  3.2101,  4.6089,  4.2388,  3.7142,\n",
      "         3.0043,  5.3850,  3.3407,  2.9731,  1.7509,  3.6342,  0.3706,  4.7635,\n",
      "         3.6554,  4.1535,  2.9955,  2.2581,  4.6751,  4.3799,  3.0141,  3.0463,\n",
      "         1.4706,  3.0431,  2.6139,  2.5983,  2.2818,  1.9245,  2.1318,  1.5784,\n",
      "         4.4585,  3.5998,  4.4161,  0.3540,  3.4613,  3.5361,  5.5800,  2.2677,\n",
      "         2.9570,  4.2017,  1.4659,  1.8156,  2.4213,  1.5784,  1.4308,  4.1263,\n",
      "         3.3599,  3.7724,  2.0256,  1.4727,  1.2485,  4.2488,  2.5576,  3.2927,\n",
      "         5.6525,  0.5436,  3.1735,  1.5784,  3.4689,  1.9478,  2.9506,  1.6875,\n",
      "         2.2997,  3.2151,  3.5872,  4.1483,  3.6403,  4.1540,  4.4991,  2.2085,\n",
      "         3.7342,  2.3894,  3.9860,  1.9799,  4.6244,  4.0241,  2.4063,  3.8536,\n",
      "         2.4348,  2.8976,  5.1358,  3.7586,  2.9680,  3.4506,  1.5784,  1.8873,\n",
      "         3.3419,  3.5278,  4.0605,  2.2303,  3.3760,  1.5876,  3.1536,  1.5321,\n",
      "         2.5934,  3.4068,  4.7763,  3.9422,  2.7746,  1.5784,  3.3827,  4.7780,\n",
      "         2.5779,  2.7498,  4.6007,  2.6432,  3.7403,  2.7858,  4.9957,  1.5784,\n",
      "         2.4696,  4.3468,  3.7489,  3.6861,  5.7735,  2.0623,  2.1595,  3.4932,\n",
      "         2.2890,  3.2749,  1.9589,  2.4647,  1.9504,  4.3755,  3.8629,  2.6086,\n",
      "         4.3905,  2.6567,  3.2793,  1.5784,  4.4806,  1.0568,  3.8283,  2.0990,\n",
      "         5.1287,  1.3082,  1.5784,  3.6312,  1.5806,  5.4335,  3.3052,  3.7638,\n",
      "         4.2923,  5.3873,  2.4439,  3.0346,  2.8310,  3.8524,  2.1103,  5.2142,\n",
      "         4.0326,  3.7542,  4.4724,  0.7703,  4.1648,  0.8091,  3.0523,  2.5494,\n",
      "         3.5124,  3.9988,  5.6637,  3.4275,  2.1770,  2.2431,  1.5784,  2.9875,\n",
      "         2.1767,  3.3636,  4.1278,  3.2609, -0.0696,  2.9754,  2.4800,  2.5321,\n",
      "         5.9940,  2.9639,  5.0968,  3.5114,  3.0600,  4.4703,  1.8466,  3.4487,\n",
      "         1.9230,  1.5784,  3.1527,  4.7271,  5.0028,  1.5784,  3.3259,  1.5784,\n",
      "         1.9618,  4.1133,  4.8304,  3.1618,  1.3450,  3.1533,  1.5784,  2.5526,\n",
      "         2.9887,  5.6159,  1.2302,  5.0883,  2.8234,  1.0819,  3.1822,  1.8633,\n",
      "         3.9564,  2.4748,  3.1259,  1.8979,  2.5987,  1.5784,  3.2692,  3.7711,\n",
      "         1.2256,  3.9248,  1.3224,  1.5987,  1.8041,  2.6838,  1.6067,  4.8947,\n",
      "         2.0693,  2.5637,  1.7548,  4.0074,  2.4517,  2.6914,  3.8106,  3.8299,\n",
      "         1.6216,  4.6800,  4.1146,  2.7830,  2.4797,  2.3332,  4.4559,  2.3406,\n",
      "         1.2744,  2.4174,  2.7163,  4.7350,  4.5262,  4.8757,  4.3450,  4.1196,\n",
      "         4.1005,  3.6321,  1.5001,  3.7795,  0.7297,  1.5784,  1.1037,  4.5133,\n",
      "         4.2287,  4.2743,  2.1520,  3.5753,  1.5784,  3.8089,  4.2544,  1.5784,\n",
      "         2.1998,  4.3898,  3.7410,  3.4467,  2.2001,  2.5080,  4.4502,  3.4430,\n",
      "         2.0388,  3.4981,  5.3937,  3.0866,  4.8386,  1.4052,  2.2289,  1.5763,\n",
      "         1.5784,  1.4735,  4.3664,  4.3187,  4.2681,  3.2947,  5.0505,  1.6282,\n",
      "         2.4485,  2.8420,  4.5084,  2.8887,  4.0659,  3.8022,  1.5784,  4.2298,\n",
      "         2.6451,  3.5289,  1.1764,  3.9081,  1.1458,  1.8318,  2.0708,  2.7531,\n",
      "         3.3269,  0.7327,  2.2481,  3.6238,  1.5784,  1.8690,  5.2567,  4.3882,\n",
      "         1.7784,  1.6901,  0.5075,  3.3544,  4.9695,  3.5467,  1.8215,  1.2069,\n",
      "         4.0699,  3.3340,  3.9744,  3.1403,  0.9491,  1.5784,  3.2479,  3.1235,\n",
      "         2.9289,  4.2664,  2.9900,  3.4964,  2.8976,  3.6174,  4.2473,  1.0339,\n",
      "         3.0682,  0.8998,  2.9539,  3.4665,  4.9942,  3.6785,  1.3985,  1.6866,\n",
      "         1.8133,  4.5678,  3.1937,  3.9252,  4.4337,  3.4509,  2.6039,  4.3634],\n",
      "       device='cuda:0'), tensor([ 4.5015e+00,  4.4116e+00,  1.3391e+00,  4.4557e+00,  3.2713e+00,\n",
      "         3.6347e+00,  1.8284e+00,  2.7008e+00,  2.4946e+00,  1.5784e+00,\n",
      "         1.8989e+00,  3.4826e+00,  2.4005e+00,  3.4205e+00,  1.9143e+00,\n",
      "         5.7321e+00,  2.4146e+00,  3.7477e+00,  4.4645e+00,  1.8430e+00,\n",
      "         4.7072e+00,  4.2641e+00,  2.5037e+00,  1.0032e+00,  3.8200e+00,\n",
      "         3.4259e+00,  2.9009e+00,  3.7383e+00,  4.0845e+00,  3.9723e+00,\n",
      "         3.0772e+00,  3.7775e+00,  3.8062e+00,  1.5904e+00,  4.3465e+00,\n",
      "         2.4505e+00,  2.6973e+00,  3.3696e+00,  1.8940e+00,  1.0515e+00,\n",
      "         3.3359e+00,  4.2360e+00,  4.1197e+00,  4.6069e+00,  2.4977e+00,\n",
      "         2.7218e+00,  1.7903e+00,  1.5784e+00,  8.6340e-01,  3.3504e+00,\n",
      "         4.3826e+00,  4.7350e+00,  4.1116e+00,  1.5784e+00,  4.6147e+00,\n",
      "         2.3938e+00,  4.9160e+00,  9.3886e-01,  2.9240e+00,  6.9063e-01,\n",
      "         3.7045e+00,  2.4091e+00,  3.5660e+00,  4.4126e+00,  4.7453e+00,\n",
      "         1.5784e+00,  2.9621e+00,  3.2275e+00,  4.1661e+00, -1.2612e-01,\n",
      "         2.5192e+00,  3.8898e+00,  2.3869e+00,  1.9986e+00,  1.5784e+00,\n",
      "         4.9833e+00,  1.2346e+00,  4.4627e+00,  4.2416e+00,  5.7711e+00,\n",
      "         4.2532e+00,  3.5375e+00,  1.5784e+00,  2.9212e+00,  4.2259e+00,\n",
      "         4.5400e+00,  2.5437e+00,  4.1967e+00,  5.4415e+00,  2.3538e+00,\n",
      "         2.4576e+00,  2.8035e+00,  1.7036e+00,  3.3730e+00,  2.7931e+00,\n",
      "         2.5638e+00,  2.8676e+00,  4.6097e+00,  4.0781e+00,  5.4318e+00,\n",
      "         3.3072e+00,  4.9695e+00,  4.3061e+00,  1.5784e+00,  3.0875e+00,\n",
      "         4.2383e+00,  3.3203e+00,  4.1119e+00,  4.5544e+00,  3.4456e+00,\n",
      "         2.3538e+00,  2.1410e+00,  4.9282e+00,  3.0001e+00,  2.9068e+00,\n",
      "         1.9032e+00,  3.6512e+00,  1.5784e+00,  1.9656e+00,  2.6965e+00,\n",
      "         7.0789e-01,  4.0830e+00,  2.8371e+00,  5.4970e+00,  4.0189e+00,\n",
      "         2.0875e+00,  4.6778e+00,  3.1520e+00,  6.3426e-01,  3.4163e+00,\n",
      "         4.0980e+00,  1.5784e+00,  2.5295e+00,  2.9134e+00,  3.3532e+00,\n",
      "         1.5784e+00,  2.9511e+00,  3.3282e+00,  4.1629e+00,  5.7304e+00,\n",
      "         2.5377e+00,  1.5784e+00,  3.9896e+00,  4.4378e+00,  3.6793e+00,\n",
      "         4.6782e+00,  4.4233e+00,  2.6103e+00,  3.1606e+00,  1.5223e+00,\n",
      "         3.6698e+00,  5.5768e+00,  2.5274e+00,  3.3987e+00,  2.1133e+00,\n",
      "         2.4252e+00,  1.5784e+00,  4.3349e+00,  4.1724e+00,  3.8680e+00,\n",
      "         3.1020e+00,  4.4455e+00,  3.1968e+00,  1.2920e+00,  4.4664e+00,\n",
      "         1.8309e+00,  1.5784e+00,  3.2190e+00,  3.3709e+00,  5.3500e-01,\n",
      "         1.5784e+00,  3.0651e+00,  4.5263e+00,  2.8683e+00,  1.2561e+00,\n",
      "         1.4959e+00,  1.7654e+00,  2.4523e+00,  1.8615e+00,  2.1102e+00,\n",
      "         4.4963e+00,  3.2975e+00,  2.5476e+00,  4.0253e+00,  1.3391e+00,\n",
      "         4.1973e+00,  2.2963e+00,  2.0397e+00,  4.0740e+00,  4.0025e+00,\n",
      "         3.5007e+00,  3.7695e+00,  3.4129e+00,  3.3212e+00,  3.0477e+00,\n",
      "         2.3628e+00,  2.0163e+00,  3.9537e+00,  2.1734e+00,  2.6664e+00,\n",
      "         3.9364e+00,  2.0529e+00,  1.2448e+00,  2.1223e+00,  1.5784e+00,\n",
      "         3.4366e+00,  1.5784e+00,  1.5784e+00,  1.5784e+00,  3.5138e+00,\n",
      "         5.3122e+00,  2.4294e+00,  3.9388e+00,  4.5752e+00,  3.2429e+00,\n",
      "         2.5185e+00,  1.5784e+00,  3.2200e+00,  6.1472e+00,  3.9263e+00,\n",
      "         2.5364e+00,  4.4011e+00,  3.2650e+00,  4.0820e+00,  1.5784e+00,\n",
      "         1.8133e+00,  1.5784e+00,  1.7176e+00,  3.1403e+00,  4.3072e+00,\n",
      "         4.5070e+00,  3.8448e+00,  4.1187e+00,  1.4249e+00,  1.5784e+00,\n",
      "         4.6628e+00,  3.3997e+00,  4.7903e-01,  2.6361e+00,  3.7680e+00,\n",
      "         3.8370e+00,  3.2521e+00,  2.9569e+00,  1.3475e+00,  1.5784e+00,\n",
      "         3.8526e+00,  1.6993e+00,  3.9067e+00,  5.3487e+00,  2.5908e+00,\n",
      "         4.0957e+00,  9.5624e-01,  2.1340e+00,  3.7500e+00,  2.3326e+00,\n",
      "         1.2163e+00,  4.2249e+00,  1.5784e+00,  1.5526e+00,  4.0884e+00,\n",
      "         3.7126e+00,  1.2330e+00,  3.8806e+00,  1.5784e+00,  3.8625e+00,\n",
      "         4.0393e+00,  4.2279e+00,  4.4305e+00,  1.4808e+00,  4.9125e+00,\n",
      "         4.6201e+00,  2.2371e+00,  4.7394e+00,  4.1161e+00,  3.7085e+00,\n",
      "         6.1564e-01,  3.9127e+00,  4.9453e+00,  3.6824e+00,  4.7322e+00,\n",
      "         4.7287e+00,  2.7658e+00,  5.6580e+00,  3.3741e+00,  4.1673e+00,\n",
      "         3.1179e+00,  4.6800e+00,  2.5916e+00,  2.6161e+00,  1.3496e+00,\n",
      "         2.0214e+00,  1.8668e+00,  4.9052e+00,  1.5784e+00,  4.9695e+00,\n",
      "         3.1436e+00,  1.9603e+00,  3.9088e+00,  3.7272e+00,  1.5784e+00,\n",
      "         1.9684e+00,  1.7200e+00,  4.0173e+00,  1.3361e+00,  4.4017e+00,\n",
      "         4.2750e+00,  1.9821e+00,  1.1911e+00,  1.5784e+00,  2.1678e+00,\n",
      "         6.6997e+00,  4.0223e+00,  1.5784e+00,  4.5372e+00,  3.5364e+00,\n",
      "         2.8126e+00,  2.2561e+00,  2.7727e+00,  1.5784e+00,  2.1931e+00,\n",
      "         1.5784e+00,  4.9890e+00,  1.5784e+00,  3.4785e+00,  3.2837e+00,\n",
      "         3.9831e+00,  1.5784e+00,  3.1561e+00,  1.2349e+00,  4.0958e+00,\n",
      "         3.9588e+00,  2.5031e+00,  3.3691e+00,  1.7057e+00,  2.1587e+00,\n",
      "         1.4181e+00,  3.5577e+00,  2.8409e+00,  3.0650e+00,  3.6906e+00,\n",
      "         3.4957e+00,  3.7952e+00,  3.2586e+00,  3.8192e+00,  4.7409e+00,\n",
      "         3.5188e+00,  3.3448e+00,  2.0945e+00,  2.0276e+00,  3.4295e+00,\n",
      "         4.7455e+00,  1.4085e+00,  3.4209e+00,  3.8149e+00,  3.7113e+00,\n",
      "         3.7991e+00,  5.1541e+00,  2.6719e+00,  3.5208e+00,  1.1010e+00,\n",
      "         3.9743e+00,  3.2189e+00,  3.2113e+00,  4.8326e+00,  2.3241e+00,\n",
      "         1.1713e+00,  5.0750e+00,  3.3916e+00,  2.0938e+00,  1.0724e+00,\n",
      "         3.5111e+00,  1.2436e+00,  2.1465e+00,  1.5784e+00,  4.3299e+00,\n",
      "         2.7637e+00,  3.7317e+00,  1.5784e+00,  2.8814e+00,  2.8896e+00,\n",
      "         1.5784e+00,  4.7489e+00,  2.8055e+00,  2.6234e+00,  1.6184e+00,\n",
      "         1.1354e+00,  4.5134e+00,  3.1143e+00,  3.5742e+00,  5.0331e+00,\n",
      "         4.0112e+00,  4.2595e+00,  1.8238e+00,  2.4171e+00,  6.2147e-01,\n",
      "         1.5784e+00,  3.1568e+00,  4.2795e+00,  2.4811e+00,  3.4496e+00,\n",
      "         1.5791e+00,  2.8908e+00,  1.5784e+00,  1.1244e+00,  1.9169e+00,\n",
      "         2.4634e+00,  2.4801e+00,  1.5784e+00,  3.6491e+00,  2.9096e+00,\n",
      "         7.6245e-01,  1.2642e+00,  1.4093e+00,  4.3721e+00,  1.8099e+00,\n",
      "         3.8013e+00,  3.3363e+00,  3.9760e+00,  2.9702e+00,  2.5272e+00,\n",
      "         3.2826e+00,  1.0993e+00,  1.4434e+00,  4.4474e+00,  1.5784e+00,\n",
      "         4.1436e+00,  2.2179e+00,  4.7081e+00,  2.7675e+00,  2.8838e+00,\n",
      "         1.7391e+00,  2.6313e-01,  1.5784e+00,  3.8138e+00,  5.0749e+00,\n",
      "         7.6382e-01,  2.8837e+00, -5.0201e-03,  1.5784e+00,  3.8438e+00,\n",
      "         1.1875e+00,  2.6039e+00,  1.2485e+00,  4.2459e+00,  5.8760e+00,\n",
      "         1.2548e+00,  1.8166e+00,  1.2873e+00,  3.4401e+00,  3.4403e+00,\n",
      "         3.7656e+00,  1.5047e+00,  2.3580e+00,  3.7108e+00,  3.7929e+00,\n",
      "         4.4746e+00,  3.8396e+00,  2.3765e+00,  1.5784e+00,  2.1688e+00,\n",
      "         1.5784e+00,  3.6205e+00,  1.5383e+00,  1.4638e+00,  3.1260e+00,\n",
      "         4.1842e+00,  3.5034e+00,  4.3475e+00,  3.6056e+00,  1.5784e+00,\n",
      "         4.3810e+00,  3.9704e+00,  3.4389e+00,  1.5784e+00,  3.4419e+00,\n",
      "         3.7633e+00,  1.6922e+00,  4.3206e+00,  3.0288e+00,  7.8202e-01,\n",
      "         3.9284e+00,  1.1064e+00,  1.5784e+00,  2.4513e+00,  3.0329e+00,\n",
      "         1.8071e+00,  3.6355e+00,  3.6843e-01,  5.5228e+00,  1.5784e+00,\n",
      "         1.0660e+00,  4.9974e+00,  1.5784e+00,  3.5051e+00,  4.4165e+00,\n",
      "         1.1243e+00,  6.1223e+00,  1.9131e+00,  2.6992e+00,  2.9950e+00,\n",
      "         2.3203e+00,  3.7475e+00,  2.2504e+00,  2.2936e+00,  1.1850e+00,\n",
      "         4.0267e+00,  3.6224e+00,  3.3486e+00,  2.5485e+00,  4.1217e+00,\n",
      "         4.7654e+00,  2.0540e+00], device='cuda:0'), tensor([3.4872, 3.2098, 2.9020, 1.4731, 4.1705, 3.9968, 3.0784, 3.6672, 1.0406,\n",
      "        3.4590, 2.2391, 3.3094, 2.4854, 2.5218, 3.6075, 2.2321, 3.3300, 4.2114,\n",
      "        3.1381, 1.5784, 1.8769, 2.8354, 2.1022, 1.5784, 2.6571, 2.2634, 3.9770,\n",
      "        2.8826, 1.1104, 1.5601, 3.1902, 2.0028, 3.6066, 4.2342, 0.3534, 1.6623,\n",
      "        3.5650, 3.2112, 1.8539, 2.6419, 2.3850, 3.0947, 3.2611, 1.0614, 2.9650,\n",
      "        3.7372, 2.8397, 1.5649, 3.6978, 4.1378, 3.3286, 3.9109, 1.5784, 4.6434,\n",
      "        3.7841, 2.8291, 1.5784, 1.9531, 1.3240, 5.0518, 1.1229, 5.0685, 1.5784,\n",
      "        1.5917, 4.1022, 4.0863, 4.0758, 1.5784, 3.5901, 3.4039, 3.8502, 4.3495,\n",
      "        4.9797, 4.2913, 3.9444, 2.3711, 3.0447, 3.9619, 3.1230, 3.2005, 5.2541,\n",
      "        3.2715, 2.7884, 3.0926, 4.3296, 1.5784, 3.9327, 3.4281, 5.6867, 3.2448,\n",
      "        4.1928, 3.7740, 3.9404, 4.4081, 2.9953, 0.5459, 3.0152, 2.2334, 4.1805,\n",
      "        5.0420, 2.1383, 4.3752, 3.4573, 3.8581, 2.7915, 2.9862, 2.5870, 5.1231,\n",
      "        4.2311, 2.2225, 2.2233, 4.1485, 1.5784, 2.5582, 0.7376, 2.5868, 1.0905,\n",
      "        5.1186, 4.7616, 1.8995, 4.0844, 3.3612, 5.0497, 1.5762, 4.1350, 2.7996,\n",
      "        4.1600, 3.9227, 2.9654, 2.4807, 2.5560, 2.2194, 4.5851, 4.3818, 4.4699,\n",
      "        2.2556, 2.6656, 4.5195, 2.0457, 1.5784, 2.9820, 5.1639, 1.1501, 0.7654,\n",
      "        3.9585, 5.8774, 3.7998, 1.1528, 5.8246, 4.3171, 1.7485, 2.1239, 2.9940,\n",
      "        1.8623, 2.0610, 2.8893, 0.5890, 1.3285, 3.2681, 2.4571, 3.3008, 1.5784,\n",
      "        4.6335, 1.5784, 1.4688, 1.5419, 5.1263, 1.7298, 3.1352, 3.2917, 4.5740,\n",
      "        3.5533, 4.7872, 3.0775, 2.1759, 3.2882, 3.9904, 1.9651, 4.3131, 3.1929,\n",
      "        1.4545, 3.6787, 3.5484, 1.4731, 3.3965, 2.3472, 1.3397, 3.1829, 1.9784,\n",
      "        3.6034, 2.5209, 2.0632, 3.0970, 1.3458, 4.8590, 3.0698, 2.4657, 2.1647,\n",
      "        2.9322, 2.3416, 4.5578, 5.0853, 3.7620, 3.8093, 2.7984, 4.9070, 4.7932,\n",
      "        1.6422, 2.6931, 2.7536, 1.7250, 3.7679, 3.6767, 1.5784, 4.4846, 4.7130,\n",
      "        2.1725, 3.2591, 1.9682, 1.5862, 1.4984, 2.6146, 3.4782, 1.9049, 4.7226,\n",
      "        3.0847, 4.3728, 5.1836, 3.8401, 4.1341, 1.8376, 4.3353, 2.7912, 2.7119,\n",
      "        5.3918, 1.3476, 3.3317, 1.5784, 3.9911, 3.4970, 2.9033, 4.0460, 4.3308,\n",
      "        2.1931, 4.0296, 1.0129, 3.6419, 3.0937, 4.1229, 0.9954, 2.5481, 5.3422,\n",
      "        4.0668, 2.1022, 1.5786, 1.5784, 1.5928, 1.5784, 2.0273, 4.1847, 2.7202,\n",
      "        2.3119, 4.4663, 3.9283, 3.8374, 4.8890, 4.4014, 1.0509, 2.7127, 3.7275,\n",
      "        1.1382, 1.7919, 2.9374, 1.4899, 1.8356, 2.9525, 1.9617, 1.5784, 4.2585,\n",
      "        3.9422, 4.0980, 2.5371, 3.5103, 3.2750, 1.5864, 3.6953, 2.1803, 3.5604,\n",
      "        3.5746, 3.6042, 3.8738, 4.2152, 2.1841, 3.0468, 4.2935, 2.3155, 3.7414,\n",
      "        3.2940, 1.6934, 3.6066, 1.9589, 2.0624, 2.0194, 3.1919, 3.6609, 3.3513,\n",
      "        4.0367, 3.5554, 1.5420, 3.5898, 2.9887, 5.6028, 3.5321, 5.8209, 2.8207,\n",
      "        1.5784, 1.5129, 4.6139, 3.2077, 3.6936, 1.9715, 3.6063, 3.8468, 1.5784,\n",
      "        1.4654, 3.1680, 3.9736, 4.7343, 4.0288, 2.3675, 1.8197, 4.6913, 2.5764,\n",
      "        2.6980, 3.8654, 3.3336, 1.0640, 1.8560, 3.3102, 4.1496, 5.2405, 1.4832,\n",
      "        3.3105, 4.1869, 3.7666, 3.6504, 4.6635, 3.9039, 3.6924, 4.5200, 3.8073,\n",
      "        4.4327, 3.3497, 2.3776, 3.5381, 3.0625, 4.4259, 3.8415, 6.0038, 0.7933,\n",
      "        1.3958, 2.0601, 1.9896, 4.2413, 2.7582, 4.1818, 3.3395, 2.5792, 0.6293,\n",
      "        2.4328, 2.8163, 3.7555, 3.6438, 3.1755, 3.2346, 1.7579, 1.7489, 2.0446,\n",
      "        1.5784, 3.0439, 4.4259, 0.3646, 3.1070, 3.9493, 2.8397, 3.4270, 3.4903,\n",
      "        1.5784, 4.4718, 5.4566, 3.8142, 2.8685, 4.1134, 1.6868, 1.8407, 1.0988,\n",
      "        2.8642, 3.1916, 2.3918, 3.3981, 3.5368, 3.0351, 4.0156, 2.3246, 2.2003,\n",
      "        4.0794, 0.6358, 3.5171, 2.7124, 3.7480, 4.0254, 3.9934, 3.9893, 2.3852,\n",
      "        5.0854, 2.7514, 3.4733, 3.2877, 1.5774, 2.3056, 1.5784, 1.6472, 2.8243,\n",
      "        1.5784, 2.9917, 1.8986, 2.9920, 4.6044, 2.9413, 3.8718, 3.5835, 0.6994,\n",
      "        5.1935, 0.9190, 2.2299, 1.4840, 0.8990, 1.5784, 5.2091, 4.0566, 3.9470,\n",
      "        1.5784, 4.3245, 1.5611, 2.9060, 3.5781, 4.2383, 2.6254, 4.0460, 4.0191,\n",
      "        1.1026, 4.7241, 2.7165, 2.0674, 5.1557, 4.4163, 3.0293, 2.5435, 3.4682,\n",
      "        5.0693, 2.5725, 1.2584, 1.8466, 1.9654, 3.2095, 2.9235, 2.4386, 3.6084,\n",
      "        1.4725, 3.6330, 5.0132, 1.6774, 1.6129, 2.1942, 1.1429, 2.3874, 4.5629,\n",
      "        4.2391, 4.6687, 2.8235, 3.5843, 1.5784, 1.7881, 3.8457, 3.2511, 1.9192,\n",
      "        1.9291, 3.9140, 1.5784, 2.3252, 1.9744, 2.8267, 5.0661, 3.0976, 1.9295,\n",
      "        1.0906, 2.4482, 3.9510, 2.0725, 1.7246, 1.5784, 3.1914, 4.3888, 1.7471,\n",
      "        1.5784, 2.0171, 3.2489, 3.5575, 1.8541, 2.2386, 3.1360, 3.7989],\n",
      "       device='cuda:0'), tensor([1.5784e+00, 2.4724e+00, 2.4251e+00, 8.3077e-01, 2.6057e+00, 3.2304e+00,\n",
      "        3.1774e+00, 1.0552e+00, 3.6261e+00, 3.7624e+00, 1.8774e+00, 1.9868e+00,\n",
      "        2.3332e+00, 3.3544e+00, 3.5055e+00, 3.2814e+00, 4.0281e+00, 5.0263e+00,\n",
      "        4.2805e+00, 4.4871e+00, 5.0811e+00, 1.6878e+00, 5.2499e-01, 3.2603e+00,\n",
      "        3.4039e+00, 9.0501e-01, 3.7244e-01, 3.8917e+00, 2.9639e+00, 1.5784e+00,\n",
      "        4.1648e+00, 3.2548e+00, 1.5784e+00, 4.6579e-03, 3.6607e+00, 5.0181e+00,\n",
      "        1.5784e+00, 3.9781e+00, 3.7847e+00, 1.5784e+00, 4.6224e+00, 3.5907e+00,\n",
      "        1.5784e+00, 2.8580e+00, 3.2559e+00, 1.5784e+00, 3.4358e+00, 4.3630e+00,\n",
      "        3.2107e+00, 4.3121e+00, 4.0078e+00, 2.6355e+00, 3.9791e+00, 3.1583e+00,\n",
      "        2.9795e+00, 2.0670e+00, 4.2480e+00, 2.1563e+00, 1.6228e+00, 2.2820e+00,\n",
      "        3.7098e+00, 5.8857e+00, 1.5327e+00, 4.5314e+00, 1.5784e+00, 4.1872e+00,\n",
      "        4.6275e+00, 5.8181e+00, 3.0754e+00, 4.1742e+00, 1.1375e+00, 2.1442e+00,\n",
      "        1.8859e+00, 3.4436e+00, 1.3993e+00, 5.0421e+00, 2.6538e+00, 4.6931e+00,\n",
      "        1.5784e+00, 3.7357e+00, 4.3838e+00, 3.9594e+00, 3.5890e+00, 3.1450e+00,\n",
      "        6.9408e-01, 2.6296e+00, 3.3443e+00, 1.1111e+00, 3.2691e+00, 2.5740e+00,\n",
      "        4.5202e+00, 1.5292e+00, 3.9892e+00, 3.1593e+00, 4.2745e+00, 2.7115e+00,\n",
      "        2.5473e+00, 1.5784e+00, 4.0527e+00, 4.3872e+00, 4.7320e+00, 1.6277e+00,\n",
      "        3.8719e+00, 4.9583e+00, 2.8078e+00, 3.0474e+00, 9.6124e-01, 2.6338e+00,\n",
      "        1.1563e+00, 3.5890e+00, 4.9761e+00, 1.1866e+00, 3.3230e+00, 3.1491e+00,\n",
      "        3.7580e+00, 1.5784e+00, 2.3029e+00, 2.6582e+00, 1.8449e+00, 4.7961e-01,\n",
      "        5.4322e+00, 3.1166e+00, 1.0276e+00, 2.4334e+00, 3.4433e+00, 4.3450e+00,\n",
      "        1.5784e+00, 5.3203e-01, 3.3798e+00, 3.3103e+00, 3.7562e+00, 1.4920e+00,\n",
      "        1.5784e+00, 3.3363e+00, 2.2586e+00, 2.5627e+00, 4.6096e+00, 3.6021e+00,\n",
      "        1.5784e+00, 1.9379e+00, 1.6164e-01, 1.9185e+00, 1.5784e+00, 1.5784e+00,\n",
      "        4.4421e+00, 4.0626e+00, 4.8040e+00, 3.6172e+00, 1.5784e+00, 2.8874e+00,\n",
      "        1.5784e+00, 5.1731e+00, 2.9736e+00, 3.3930e+00, 1.0622e+00, 4.1470e+00,\n",
      "        5.1847e+00, 1.9572e+00, 2.7458e+00, 3.0195e+00, 1.6728e+00, 4.4168e+00,\n",
      "        3.7879e+00, 5.4246e+00, 1.7011e+00, 4.0795e+00, 2.4830e+00, 2.9828e+00,\n",
      "        7.3147e-01, 3.7142e+00, 1.7859e+00, 2.4346e+00, 4.1201e+00, 3.6188e+00,\n",
      "        3.4735e+00, 3.5629e+00, 3.0048e+00, 4.3708e+00, 3.8007e+00, 3.9496e+00,\n",
      "        4.0453e+00, 4.8472e+00, 4.2976e+00, 3.1496e+00, 3.1882e+00, 4.0062e+00,\n",
      "        2.8869e+00, 1.6507e+00, 3.6187e+00, 2.8330e+00, 8.8541e-01, 4.2672e+00,\n",
      "        4.9425e+00, 2.7370e+00, 1.7340e+00, 3.7823e+00, 1.7829e+00, 3.1782e+00,\n",
      "        2.2239e+00, 1.8713e+00, 4.1614e+00, 3.3409e+00, 9.7279e-01, 4.2783e+00,\n",
      "        3.7294e+00, 3.6505e+00, 4.1933e+00, 2.4213e+00, 2.6280e+00, 2.7127e+00,\n",
      "        3.4470e+00, 2.3421e+00, 2.6551e+00, 2.0766e+00, 4.5434e+00, 4.1346e+00,\n",
      "        3.4177e+00, 2.8394e+00, 2.5013e+00, 1.5784e+00, 4.5873e+00, 4.5663e+00,\n",
      "        2.1325e+00, 1.4242e+00, 2.9956e+00, 4.0538e+00, 2.0979e+00, 3.2357e+00,\n",
      "        3.2649e+00, 2.4075e+00, 4.3946e+00, 4.3320e+00, 3.0444e+00, 4.4853e+00,\n",
      "        1.9659e+00, 3.3786e+00, 1.8901e+00, 3.8050e+00, 3.4700e+00, 2.0129e+00,\n",
      "        4.0377e+00, 2.8901e+00, 4.7092e+00, 1.3336e+00, 1.6676e+00, 4.6227e+00,\n",
      "        4.1863e+00, 3.0432e+00, 1.5784e+00, 3.0212e+00, 4.1929e+00, 3.3900e+00,\n",
      "        5.5144e+00, 5.4657e+00, 2.6392e+00, 3.0392e+00, 3.2037e+00, 1.6002e+00,\n",
      "        4.7520e+00, 4.3061e+00, 3.3842e+00, 2.4079e+00, 2.9639e+00, 2.8977e+00,\n",
      "        4.5371e+00, 3.0664e+00, 1.5784e+00, 1.5784e+00, 4.4989e+00, 4.4036e+00,\n",
      "        3.8924e+00, 4.4953e+00, 3.4115e+00, 1.4836e+00, 3.0263e+00, 1.5784e+00,\n",
      "        1.5184e+00, 3.8007e+00, 1.5784e+00, 2.4839e+00, 1.7830e+00, 3.6549e+00,\n",
      "        2.6144e+00, 2.8263e+00, 1.7924e+00, 1.9728e+00, 4.2089e+00, 3.7885e+00,\n",
      "        1.9277e+00, 3.2736e+00, 5.2757e-01, 3.2931e+00, 1.8240e+00, 4.3964e+00,\n",
      "        3.6117e+00, 2.5476e+00, 2.3287e+00, 4.1372e+00, 1.5974e+00, 3.1612e+00,\n",
      "        2.9875e+00, 4.4754e+00, 3.8390e+00, 4.2451e+00, 2.5100e+00, 5.5107e+00,\n",
      "        3.6681e+00, 4.9053e+00, 4.1645e+00, 1.9853e+00, 4.1302e+00, 3.7585e+00,\n",
      "        1.5148e+00, 5.0925e+00, 1.5784e+00, 3.0902e+00, 3.2611e+00, 3.7599e+00,\n",
      "        4.4499e+00, 1.9428e+00, 1.4121e+00, 2.3765e+00, 3.7159e+00, 4.5155e+00,\n",
      "        1.5816e+00, 2.1257e+00, 5.1876e+00, 3.5697e+00, 1.8198e+00, 3.3545e+00,\n",
      "        3.8478e+00, 3.9886e+00, 6.8993e-01, 3.7483e+00, 4.7308e+00, 3.5402e+00,\n",
      "        4.1613e+00, 1.4839e+00, 1.5784e+00, 5.8138e+00, 2.9978e+00, 4.3624e+00,\n",
      "        3.3428e+00, 3.6988e+00, 4.0436e+00, 1.5784e+00, 4.0886e+00, 5.0841e+00,\n",
      "        3.0091e+00, 4.0329e+00, 4.1890e+00, 2.7742e+00, 4.2979e+00, 2.3523e+00,\n",
      "        4.2446e+00, 1.5784e+00, 4.0688e+00, 3.7138e+00, 3.8624e+00, 1.5781e+00,\n",
      "        2.1788e+00, 1.2477e+00, 4.2264e+00, 4.1055e+00, 3.3513e+00, 4.4489e+00,\n",
      "        3.3576e+00, 1.3345e+00, 3.6535e+00, 3.7228e+00, 2.6446e+00, 3.6075e+00,\n",
      "        4.0818e+00, 3.7734e+00, 2.9504e+00, 3.4520e+00, 3.6073e+00, 5.1613e+00,\n",
      "        2.3348e+00, 4.4398e+00, 2.8843e+00, 4.6757e+00, 3.5020e+00, 3.2676e+00,\n",
      "        3.9985e+00, 4.1991e+00, 3.5642e+00, 2.4437e+00, 4.0896e+00, 4.1885e+00,\n",
      "        3.9346e+00, 3.2814e+00, 3.5338e+00, 8.6154e-01, 1.8548e+00, 3.2379e+00,\n",
      "        4.0051e+00, 3.3105e+00, 1.5784e+00, 3.5146e+00, 4.6477e+00, 4.3482e+00,\n",
      "        6.1645e-01, 1.5784e+00, 5.2852e+00, 1.5784e+00, 4.8366e+00, 2.9815e+00,\n",
      "        3.1915e+00, 4.2300e+00, 1.5784e+00, 1.2499e+00, 2.8252e+00, 3.8695e+00,\n",
      "        5.2531e+00, 1.7556e+00, 1.6533e+00, 1.4357e+00, 1.1488e+00, 2.9873e+00,\n",
      "        4.8760e+00, 2.8390e+00, 2.2227e+00, 4.1882e+00, 5.4918e+00, 3.3266e+00,\n",
      "        5.1868e-01, 2.1122e+00, 2.7743e+00, 4.2464e+00, 2.0883e+00, 3.2052e+00,\n",
      "        2.9960e+00, 2.2787e+00, 2.4684e+00, 3.7498e+00, 2.3778e+00, 2.9590e+00,\n",
      "        2.9315e+00, 2.0048e+00, 2.8431e+00, 3.9139e+00, 3.0497e+00, 7.9133e-01,\n",
      "        3.8053e+00, 5.3331e+00, 4.0572e+00, 4.6899e+00, 2.3273e+00, 2.7040e+00,\n",
      "        2.4932e+00, 2.4167e+00, 2.8879e+00, 2.7006e+00, 2.9068e+00, 1.7378e+00,\n",
      "        4.7575e+00, 2.8934e+00, 4.1569e+00, 3.9957e+00, 1.7993e+00, 1.9589e+00,\n",
      "        1.7993e+00, 2.9780e+00, 2.0191e+00, 4.6756e+00, 1.5784e+00, 1.5784e+00,\n",
      "        3.9179e+00, 1.0002e+00, 2.1413e+00, 1.5784e+00, 3.5068e+00, 4.8267e-01,\n",
      "        3.1360e+00, 3.9325e+00, 5.8094e+00, 3.2227e+00, 1.5520e+00, 3.0824e+00,\n",
      "        3.4873e+00, 1.3587e+00, 9.6808e-01, 1.8792e+00, 4.4673e+00, 3.4766e+00,\n",
      "        2.4999e+00, 2.9613e+00, 3.9925e+00, 3.8981e+00, 1.5304e+00, 2.7743e+00,\n",
      "        1.6057e+00, 3.4603e+00, 1.9035e+00, 3.0910e+00, 8.9486e-01, 3.3073e+00,\n",
      "        3.1194e+00, 1.9673e+00, 2.0529e+00, 2.1444e+00, 1.5784e+00, 3.0149e+00,\n",
      "        3.9630e+00, 5.9815e-01, 2.4694e+00, 2.2371e+00, 1.5784e+00, 3.8648e+00,\n",
      "        4.7031e+00, 2.9281e+00], device='cuda:0'), tensor([ 2.9140,  3.5231,  3.8923,  4.1776,  2.9973,  4.3058,  3.0326,  1.1691,\n",
      "         1.0382,  1.5784,  1.6972,  3.1539,  4.0953,  3.3383,  2.5124,  2.2425,\n",
      "         2.0878,  1.5228,  1.5784,  1.3920,  3.4172,  1.5821,  3.5231,  1.5847,\n",
      "         2.9587,  1.5784,  3.9306,  1.7420,  1.3667,  4.1695,  2.7305,  4.4927,\n",
      "         5.0254,  1.5784,  4.5604,  4.7399,  3.4881,  1.5109,  4.1243,  4.2796,\n",
      "         2.1479,  1.7941,  2.4252,  1.5784,  2.2027,  1.0745,  2.8728,  2.0715,\n",
      "         1.3279,  2.1052,  1.6742,  2.7823,  3.1456,  5.4926,  0.9283,  3.7620,\n",
      "         1.5784,  2.2869,  2.1477,  3.5808,  0.4670,  2.9250,  4.2272,  4.3128,\n",
      "         3.0876,  3.8473,  3.6928,  1.5784,  2.2266,  1.6685,  1.5302,  4.1562,\n",
      "         1.5784,  5.9947,  2.8402,  2.8460,  2.4846,  1.5784,  1.3878,  3.1667,\n",
      "         3.8213,  4.9960,  2.7190,  1.7324,  2.4315,  1.5784,  1.5784,  3.4015,\n",
      "         3.9419,  2.7983,  4.3678,  4.0192,  4.0393,  2.5962,  1.5784,  2.8204,\n",
      "         4.8669,  3.2301,  2.6022,  3.9211,  4.6096,  3.0353,  3.3023,  3.8823,\n",
      "         1.7485,  3.6592,  2.1111,  2.5029,  4.1943,  3.9114,  2.2481,  4.3873,\n",
      "         1.5784,  6.0193,  3.3232,  3.8630,  5.1253,  2.8261,  4.5000,  5.1881,\n",
      "         4.3824,  3.6063,  3.1802,  4.2353,  4.2836,  3.3451,  3.0503,  4.2512,\n",
      "         2.4650,  2.0485,  4.0663,  2.8930,  1.5505,  1.8910,  4.1708,  2.3765,\n",
      "         2.9760,  5.3085,  2.0867,  2.9066,  3.1507,  1.0455,  2.5051,  4.5710,\n",
      "         2.9801,  3.9724,  3.3879,  3.5871,  1.9821,  3.8121,  1.7745,  2.0043,\n",
      "         4.8299,  3.5093,  3.4535,  4.3864,  1.5784,  2.5150,  0.6158,  3.8821,\n",
      "         4.3778,  4.3252,  2.3863,  4.9305,  3.6124,  4.0853,  3.2980,  2.7636,\n",
      "         1.6802,  3.6026,  3.5002,  2.3305,  2.0509,  4.2101,  3.2846,  2.4030,\n",
      "         2.7558,  1.6543,  1.5363,  2.4984,  1.5784,  3.9390,  5.2874,  2.4889,\n",
      "         3.1391,  3.5171,  0.8239,  3.1973,  1.5784,  3.0162,  1.6186,  1.4308,\n",
      "         3.2041,  3.3060,  2.0551,  1.5905,  3.8368,  5.7891,  1.5784,  3.7627,\n",
      "         3.3143,  2.6453,  4.1136,  4.2078,  3.8779,  3.0831,  2.7935,  1.1037,\n",
      "         1.0275,  4.0356,  3.4347,  3.5687,  2.5242,  3.8851,  1.5784,  3.8963,\n",
      "         1.4568,  4.1057,  4.9688,  1.8820,  1.6634,  2.1279,  2.2441,  2.2273,\n",
      "         2.4418,  3.3637,  3.1655,  1.5784,  1.6284,  3.6508,  1.8016,  2.4315,\n",
      "         2.8646,  3.5625,  4.4838,  2.3227,  3.4261,  3.1298,  3.4698,  4.3023,\n",
      "         5.2641,  3.9172,  5.4812,  3.4896,  4.1104,  2.6545,  3.7411,  2.8815,\n",
      "         1.5984,  4.6863,  1.5784,  1.5784,  2.4348,  4.6931,  3.8236,  2.1764,\n",
      "         4.6236,  1.2760,  3.7423,  2.6780,  1.5784,  3.8363,  5.1047,  4.1474,\n",
      "         4.8598,  3.4869,  3.2886,  4.2749,  3.4715,  4.6875,  2.0801,  3.7630,\n",
      "         4.0514,  2.6649,  2.3084,  4.0931,  2.3637,  3.4558,  4.4230,  3.8585,\n",
      "         5.0714,  2.0973,  2.0309,  3.5291,  3.9398,  1.6512,  1.5784,  2.5685,\n",
      "         2.7257,  5.0191,  4.0594,  1.9514,  4.5397,  2.7852,  1.5784,  4.6580,\n",
      "         3.1869,  1.5784,  2.9209,  4.9784,  2.2032,  2.5916,  3.3293,  1.5784,\n",
      "         5.3139,  3.8099,  3.9828,  1.5784,  0.9517,  4.6344,  4.4887,  2.2716,\n",
      "         1.7829,  3.8965,  3.6111,  3.0632,  1.5429,  5.0858,  3.5008,  1.7050,\n",
      "         4.1520,  1.5784,  2.8142,  3.7397,  4.5180,  2.7084,  4.3418,  3.6713,\n",
      "         3.5918,  1.5784,  3.6220,  4.1802,  1.8856,  1.9056,  4.5957,  2.0867,\n",
      "         1.5784,  4.9587,  2.5795,  3.5306,  1.9925,  2.3669,  3.3562,  4.3679,\n",
      "         3.5853,  1.5784,  3.1352,  1.2055,  1.5784,  4.5296,  3.1070,  1.5784,\n",
      "         1.1046,  3.4917,  0.7374,  3.1613,  3.4738,  4.7663,  1.5784,  3.0095,\n",
      "         0.9462, -0.1776,  3.6728,  3.9192,  3.5990,  3.4854,  1.5784,  4.3349,\n",
      "         2.5959,  1.0805,  1.5784,  3.3797,  2.6448,  3.5933,  2.0700,  3.7869,\n",
      "         4.6723,  2.1565,  5.5117,  1.7493,  2.9534,  1.5001,  1.5784,  2.8696,\n",
      "         3.6926,  1.6570,  3.2171,  2.0768,  3.6407,  2.8408,  2.4828,  3.6245,\n",
      "         2.1165,  5.3548,  2.2341,  1.5784,  3.8511,  1.8987,  3.6564,  1.5784,\n",
      "         1.2024,  3.3436,  2.0381,  3.2222,  3.9519,  2.0130,  1.9617,  3.9023,\n",
      "         3.6718,  2.4251,  4.2248,  4.2428,  3.4426,  2.1764,  1.6155,  4.2341,\n",
      "         1.9420,  5.8177,  3.4785,  4.4352,  1.2760,  2.1665,  1.1440,  3.4309,\n",
      "         5.5691,  3.7611,  2.7397,  3.8334,  3.5036,  1.8801,  4.5070,  4.8913,\n",
      "         4.0436,  3.5387,  4.5220,  2.7610,  4.2454,  1.5784,  4.1482,  2.1062,\n",
      "         2.2519,  4.7207,  0.6822,  2.7360,  2.4334,  4.0288,  2.8953,  4.3952,\n",
      "         5.1649,  4.4695,  3.4913,  3.9103,  4.5627,  2.5014,  4.2110,  3.4025,\n",
      "         3.7531, -1.1122,  4.6290,  3.9826,  2.7620,  1.6706,  2.3166,  1.8800,\n",
      "         4.1613,  4.4370,  3.9305,  3.3920,  3.8347,  3.2205,  3.9927,  2.9995,\n",
      "         2.9366,  3.9217,  4.8473,  4.7717,  2.9043,  4.3222,  4.3495,  1.3985,\n",
      "         3.5093,  1.5784,  2.8714,  0.6209,  4.8371,  1.5784,  4.8316,  1.5784,\n",
      "         4.7586,  4.0204,  4.2691,  4.7647,  0.4023,  2.9167,  2.1993,  5.9473,\n",
      "         4.3685,  0.9753,  1.0203,  3.7303,  1.5588,  3.3214,  2.2356,  1.4902,\n",
      "         4.3815,  5.3754,  4.6621,  1.5784,  4.8558,  1.3170,  2.1070,  5.0844],\n",
      "       device='cuda:0'), tensor([4.1134, 2.0958, 4.8714, 0.7834, 0.6759, 2.8757, 2.0939, 3.7574, 3.1881,\n",
      "        2.4028, 2.1841, 1.5784, 1.9724, 3.7603, 1.2464, 3.4148, 3.0474, 2.3067,\n",
      "        4.0876, 4.2969, 3.1827, 4.8221, 2.6545, 5.0683, 2.5214, 1.5784, 1.5784,\n",
      "        2.0209, 3.4726, 3.3036, 2.7976, 2.5218, 5.0751, 1.7869, 1.5784, 4.5563,\n",
      "        4.2782, 4.4145, 1.5784, 2.3626, 3.9170, 4.1297, 3.1238, 3.5105, 1.5784,\n",
      "        2.3794, 1.5784, 1.8050, 3.6525, 5.1538, 3.4039, 3.6589, 1.4802, 1.5784,\n",
      "        3.7775, 4.0881, 3.6842, 4.4490, 3.3296, 3.6166, 3.5279, 1.5784, 3.5016,\n",
      "        2.5708, 2.1735, 2.7228, 3.6731, 3.3982, 1.7213, 4.7207, 4.7734, 4.6590,\n",
      "        5.5376, 4.3818, 2.2833, 1.8645, 3.4113, 5.0661, 2.6741, 2.1911, 4.2013,\n",
      "        1.8977, 3.6338, 4.5287, 2.6914, 2.7225, 4.4232, 1.5784, 4.2408, 2.6168,\n",
      "        1.8349, 3.2883, 3.7118, 6.2755, 3.9089, 3.5742, 4.6108, 1.5784, 3.6808,\n",
      "        1.0368, 4.3441, 5.3897, 2.9214, 4.1377, 3.8185, 3.4540, 2.6063, 3.5291,\n",
      "        4.0694, 1.3660, 2.2574, 1.4431, 4.4496, 2.4255, 2.2686, 1.5784, 3.5499,\n",
      "        3.1154, 1.5784, 3.6792, 1.8061, 4.9208, 1.5784, 4.1102, 1.2905, 4.3871,\n",
      "        2.0707, 3.7815, 4.3608, 0.5821, 2.5342, 1.5784, 4.2196, 2.4264, 4.7356,\n",
      "        4.6797, 3.0624, 1.6503, 1.0054, 3.8042, 4.4379, 2.1452, 3.6553, 2.5852,\n",
      "        2.0189, 2.5952, 1.8343, 4.0999, 2.6993, 1.5420, 3.2617, 1.5784, 1.3065,\n",
      "        1.5784, 1.5784, 3.1255, 2.0129, 1.1658, 4.3321, 2.2594, 3.7483, 3.8204,\n",
      "        4.2247, 1.3098, 1.0901, 3.6452, 1.6765, 1.6024, 1.9440, 4.1502, 1.5784,\n",
      "        3.1300, 2.0540, 4.3395, 1.5902, 4.7645, 1.9580, 3.5838, 4.0477, 2.8725,\n",
      "        4.1948, 1.6848, 1.7211, 1.6826, 1.5784, 4.3840, 1.4061, 4.3652, 1.7881,\n",
      "        1.7726, 3.9335, 4.6536, 3.0232, 1.4809, 1.0805, 3.3163, 1.5784, 1.7120,\n",
      "        4.0450, 2.8362, 4.2874, 1.8455, 1.9320, 1.0844, 3.9078, 3.2161, 1.9682,\n",
      "        4.1472, 3.3539, 5.1328, 1.5784, 4.2599, 3.5939, 4.5727, 4.1403, 2.8916,\n",
      "        1.5520, 3.2227, 2.9764, 4.9498, 3.1982, 1.3440, 3.2307, 3.6900, 0.3901,\n",
      "        4.8249, 1.7082, 4.1101, 4.4531, 0.2861, 1.5784, 1.9311, 3.2770, 3.8676,\n",
      "        4.7945, 1.5364, 2.1520, 1.7796, 2.3713, 1.6534, 2.8583, 2.8195, 1.5784,\n",
      "        4.2636, 3.9491, 2.5503, 2.5696, 3.4947, 1.0623, 5.5179, 3.6238, 4.4783,\n",
      "        2.6545, 2.9580, 3.4376, 3.9232, 3.9968, 3.8216, 3.7408, 3.8239, 2.2988,\n",
      "        2.1428, 2.7366, 1.4997, 3.8088, 1.2182, 1.5784, 1.4733, 3.5738, 4.2808,\n",
      "        1.7948, 2.8262, 1.7311, 2.4416, 2.4754, 4.0107, 4.2119, 1.5784, 1.8056,\n",
      "        4.6471, 4.8971, 4.3648, 1.5784, 3.6725, 4.7132, 2.8841, 3.4786, 1.3602,\n",
      "        2.6610, 2.3743, 3.1876, 2.0763, 3.2668, 5.1478, 1.3284, 5.6164, 1.9693,\n",
      "        3.2580, 1.7743, 1.5784, 2.8420, 2.8541, 5.1321, 1.7661, 4.1209, 4.4666,\n",
      "        3.1819, 1.5784, 3.0503, 4.5680, 1.9106, 4.1166, 1.5784, 4.3982, 1.6564,\n",
      "        2.5877, 3.1479, 2.9997, 3.2739, 0.1017, 3.6448, 4.1646, 1.5784, 3.8255,\n",
      "        1.9770, 1.5784, 1.7796, 2.5047, 2.9604, 4.2705, 4.7326, 4.1610, 4.2638,\n",
      "        4.7918, 3.9985, 2.3299, 5.8318, 1.0207, 2.6854, 5.0668, 1.4423, 4.5302,\n",
      "        1.7021, 3.5391, 2.5059, 3.4252, 1.6772, 2.7154, 2.0984, 0.8891, 3.1445,\n",
      "        1.0959, 1.9376, 1.5784, 3.0435, 3.0867, 2.2764, 4.2925, 4.7802, 4.2357,\n",
      "        3.2834, 3.8050, 1.5784, 2.9179, 3.8935, 1.5784, 2.0941, 5.1719, 4.3468,\n",
      "        2.0427, 4.1798, 2.8361, 3.8865, 2.6238, 3.7945, 2.3052, 1.5654, 3.9689,\n",
      "        4.1055, 2.7485, 2.6208, 3.9295, 1.1962, 3.9394, 2.1186, 0.4663, 4.4616,\n",
      "        3.4281, 4.2525, 1.2334, 3.0773, 2.7051, 1.5784, 3.6332, 2.6331, 3.0090,\n",
      "        0.6822, 4.0649, 3.5013, 3.6724, 2.9569, 1.4719, 3.4815, 1.5240, 1.7202,\n",
      "        3.9749, 3.8361, 4.7526, 1.5784, 4.2998, 2.9998, 0.7634, 3.4808, 2.6759,\n",
      "        4.1360, 2.1714, 3.7655, 2.8443, 2.9189, 3.3582, 3.1260, 3.1260, 1.7811,\n",
      "        2.2102, 4.6578, 3.8147, 4.0293, 3.8830, 3.0045, 3.1449, 3.6133, 4.8438,\n",
      "        4.9367, 3.2043, 1.5784, 3.7202, 3.9691, 2.1477, 2.1944, 2.7119, 3.0181,\n",
      "        4.6033, 5.4877, 3.0909, 1.2366, 3.5564, 2.6349, 4.6575, 6.2424, 0.5942,\n",
      "        4.1237, 2.3478, 4.2841, 4.3770, 0.1214, 1.5784, 1.4402, 4.5393, 3.6916,\n",
      "        3.1891, 2.9404, 1.0285, 2.8393, 1.5784, 3.8084, 4.7349, 2.7044, 4.5735,\n",
      "        2.6008, 2.5200, 3.2688, 2.3449, 3.9908, 1.1497, 1.7937, 2.1993, 3.3382,\n",
      "        5.7426, 2.8041, 3.9785, 4.1331, 2.7637, 1.5784, 4.2635, 4.9674, 4.1341,\n",
      "        1.5784, 2.9856, 1.5784, 1.4271, 3.8898, 2.9943, 3.8176, 2.9751, 4.7472,\n",
      "        3.0677, 1.3804, 3.3142, 2.6931, 5.1626, 1.5784, 3.1422, 4.9735, 1.8118,\n",
      "        1.4780, 2.9324, 4.0255, 1.1727, 4.5501, 3.8150, 1.3654, 3.5464],\n",
      "       device='cuda:0'), tensor([ 2.7716,  2.2091,  3.8428,  0.6417,  4.8599,  2.3513,  4.9110,  3.9980,\n",
      "         2.3111,  4.3561,  3.1288,  4.5414,  4.2963,  2.0965,  2.7418,  2.0982,\n",
      "         2.3056,  2.5596,  3.4863,  1.9237,  3.6472,  2.9427,  4.2493,  1.5420,\n",
      "         3.5149,  2.6377,  3.4674,  0.9577,  4.2294,  2.1090,  0.9520,  4.3301,\n",
      "         4.5749,  3.0087,  5.3050,  3.1643,  4.1639,  2.2528,  1.7828,  0.4233,\n",
      "         4.3595,  3.1381,  1.3694,  3.8624,  2.2701,  3.4789,  3.8905,  1.5784,\n",
      "         2.5859,  1.7063,  3.8714,  2.4706,  5.2161,  2.4044,  1.5844,  3.7943,\n",
      "         2.1412,  3.1052,  4.0597,  5.8830,  1.5047,  3.3789,  1.7270,  2.3185,\n",
      "         0.1867,  2.1542,  3.2790,  4.9938,  2.7294,  1.6430,  1.2404,  4.0057,\n",
      "         4.7787,  5.1866,  1.4051,  4.4027,  1.0450,  1.0687,  3.9246,  3.4756,\n",
      "         3.8708,  3.1153,  1.5784,  5.0328,  2.0740,  4.9877,  1.6399,  3.2230,\n",
      "         4.9356,  0.7959,  1.0246,  4.1079,  2.9244,  1.5784,  2.3193,  1.9722,\n",
      "         2.7933,  0.0654,  1.5784,  4.3691,  1.4882,  3.2005,  3.9762,  5.0027,\n",
      "         2.6048,  3.0628,  1.3430,  4.1533,  2.7217,  4.3018,  3.4155,  0.8284,\n",
      "         2.5602,  1.2808,  2.1275,  3.1963,  2.1595,  4.7468,  1.6959,  0.6209,\n",
      "         4.6624,  1.5514,  4.5953,  1.5784,  4.3793,  3.3637,  3.3799,  4.5276,\n",
      "         3.6235,  2.4078,  4.4262,  3.8469,  0.8787,  1.2499,  2.9067,  1.5784,\n",
      "         1.4545,  0.9891,  3.6679,  2.7210,  3.7736,  3.1055,  5.2095,  3.7420,\n",
      "         2.7453,  3.8430,  2.2179,  0.9271,  3.2337,  1.9368,  2.8409,  2.6115,\n",
      "         4.4635,  1.5784,  1.5784,  2.6077,  4.1248,  1.3982,  4.6892,  3.4355,\n",
      "         3.4074,  3.7453,  2.1954,  2.3964,  2.2958,  3.1159,  4.3492,  3.8133,\n",
      "         1.5938,  1.5784,  3.0976,  3.1445,  3.2494,  3.7215,  4.3476,  4.2849,\n",
      "         3.4899,  3.1844,  3.1845,  3.4053,  3.3432,  2.8079,  1.4175,  3.7974,\n",
      "         3.6328,  0.7645,  1.2473,  4.3565,  1.0262,  2.5242,  3.6159,  1.5784,\n",
      "         3.9749,  1.4983,  1.4729,  3.2773,  2.6388,  4.3533,  1.5784,  5.0454,\n",
      "         3.8332,  4.4465,  2.4979,  0.2194,  4.4047,  4.7292,  1.8832,  4.3309,\n",
      "         2.5225,  5.3451,  1.1224,  1.9682,  3.3744,  2.7020,  1.5784,  3.2121,\n",
      "         3.8738,  3.0098,  1.3439,  6.0038,  3.6009,  3.1296,  0.6819,  4.1962,\n",
      "         3.5304,  3.2995,  1.5784,  3.7686,  4.5986,  4.2473,  2.4078,  3.1979,\n",
      "         3.1801,  6.0167,  3.2179,  2.0557,  1.5784,  3.8131,  1.9331,  3.0854,\n",
      "         1.5784,  1.8571,  3.5463,  2.5804,  3.1779,  1.7509,  3.9490,  2.5747,\n",
      "         2.8783,  5.2095,  2.8575,  1.5784,  1.8683,  3.8054,  2.8103,  2.6733,\n",
      "         2.8618,  4.9763,  2.1088,  1.5784,  2.5069,  3.4786,  3.7043,  2.9596,\n",
      "         3.6564,  4.6424,  2.8736,  2.9570,  2.9693,  1.2264,  4.2103,  2.2454,\n",
      "         1.5784,  3.4075,  3.2012,  4.0706,  4.3848,  1.5784,  4.0808,  1.6584,\n",
      "         5.3429,  4.5513,  4.0023,  6.2008,  4.7013,  2.9540,  4.1012,  2.4718,\n",
      "         4.3759,  3.6533,  4.1327,  3.9616,  0.9823,  4.0594,  3.9047,  3.4916,\n",
      "         2.7448,  4.1969,  2.6230,  3.8885,  3.8506,  1.7306,  4.8516,  3.4988,\n",
      "         1.8597,  5.3272,  4.1230,  2.6054,  1.5784,  3.3458,  3.8873,  2.5029,\n",
      "         3.1097,  1.5713,  1.8249,  4.0095,  3.1064,  0.8813,  1.9348,  3.8431,\n",
      "         3.6229,  0.5263,  4.8516,  4.7369,  1.2951,  3.3352,  1.8410,  4.0077,\n",
      "         1.1633,  2.1976,  3.1515,  1.5784,  2.0301,  2.4311,  3.4506,  3.7999,\n",
      "         4.9083,  2.4960,  3.3213,  2.1972,  2.3849,  3.3928,  1.8386,  4.0212,\n",
      "         2.5605,  2.1767,  4.8076,  4.8729,  1.8158,  4.8033,  2.2862,  1.2122,\n",
      "         0.3439,  3.9612,  3.0772,  3.2557,  3.8332,  4.0232,  1.5826,  5.1827,\n",
      "         5.1467,  4.0158,  1.5784,  1.4184,  1.5784,  3.6628,  1.5784,  1.5784,\n",
      "         2.9532,  4.3811,  1.7716,  4.0469,  1.9626,  5.0320,  1.4074,  1.6755,\n",
      "         0.5752,  3.7397,  3.1163,  2.3737,  4.3303,  2.3294,  3.9554,  2.5344,\n",
      "         1.6418,  3.7886,  3.7649,  1.3406,  2.3896,  3.7844,  3.1699,  1.5784,\n",
      "         2.7360,  3.6707,  0.7645,  1.7948,  1.5784,  4.6371,  1.8164,  4.3631,\n",
      "         3.0739,  3.3470,  1.5128,  1.8130,  3.5004,  4.5710,  2.9926,  4.8578,\n",
      "         2.8817,  3.0821,  4.1200,  1.3328,  3.6068,  0.4969,  3.9243,  3.2474,\n",
      "         4.8541,  1.5784,  1.7009,  1.5784,  1.7485,  5.1958,  2.9588,  3.9429,\n",
      "         2.8820,  4.1358,  2.9494,  1.2760,  2.1803,  4.5090,  3.6410,  1.7912,\n",
      "         4.2572,  2.1856,  3.6116,  3.8480,  1.6073,  4.3773,  2.2732,  2.2759,\n",
      "         2.3527,  1.5784,  2.5966,  1.5784,  3.3870,  3.8636,  1.6602,  1.7213,\n",
      "         2.3603,  1.9611,  0.5261,  3.5312,  2.3506,  3.9538,  1.8859, -0.1158,\n",
      "         1.9040,  4.1826,  2.5159,  3.8173,  4.1423,  3.8590,  2.3674,  1.9227,\n",
      "         3.7748,  3.7628,  3.3801,  3.6772,  3.4648,  3.9678,  1.5784,  4.4951,\n",
      "         3.2583,  1.5784,  2.2568,  4.1425,  3.1803,  1.5784,  1.5784,  4.9127,\n",
      "         1.9119,  2.1908,  4.8025,  1.7229,  2.9217,  4.1163,  4.7423,  4.7468,\n",
      "         1.5784,  1.8847,  1.8010,  2.6269,  2.0684,  3.9841,  5.0904,  1.5784,\n",
      "         3.2171,  3.6240,  5.1405,  2.0377,  0.7710,  4.5887,  5.3218,  4.5727,\n",
      "         2.5088, -0.1959,  1.9366,  2.6457,  2.9771,  5.2521,  3.0735,  4.3062],\n",
      "       device='cuda:0'), tensor([2.6125e+00, 2.5959e+00, 3.6618e+00, 3.0412e+00, 2.7465e+00, 5.8855e-01,\n",
      "        3.5011e+00, 2.2820e+00, 4.5262e+00, 4.1155e+00, 4.3379e+00, 2.6942e+00,\n",
      "        2.6489e+00, 2.9292e+00, 1.2774e+00, 3.4865e+00, 3.9223e+00, 4.6579e-03,\n",
      "        2.9144e+00, 1.8145e+00, 3.0991e+00, 3.3666e+00, 1.3993e+00, 5.1074e+00,\n",
      "        4.9894e+00, 4.5300e+00, 2.2859e+00, 3.7788e+00, 5.4252e+00, 3.1785e+00,\n",
      "        1.5784e+00, 3.9909e+00, 1.5373e+00, 1.4434e+00, 3.3454e-01, 3.4835e+00,\n",
      "        4.5630e+00, 1.2429e+00, 2.2057e+00, 5.1091e+00, 4.5386e+00, 4.2096e+00,\n",
      "        1.5784e+00, 3.7741e+00, 2.1694e+00, 1.1390e+00, 8.4789e-01, 4.6635e+00,\n",
      "        3.8276e+00, 3.9394e+00, 3.0104e+00, 2.2523e+00, 2.8768e+00, 4.3091e+00,\n",
      "        5.2045e+00, 2.2386e+00, 3.1670e+00, 9.5437e-01, 2.2862e+00, 3.3567e+00,\n",
      "        4.7791e+00, 4.5358e+00, 1.4634e+00, 3.3249e+00, 4.1704e+00, 4.1091e+00,\n",
      "        3.5215e+00, 1.4877e+00, 1.7073e+00, 2.2634e+00, 1.1801e+00, 4.6901e+00,\n",
      "        1.5784e+00, 2.2822e+00, 3.5412e+00, 3.8141e+00, 9.3399e-01, 4.4789e+00,\n",
      "        4.0652e+00, 4.6913e+00, 5.5052e+00, 3.7328e+00, 3.7895e+00, 1.4862e+00,\n",
      "        1.5784e+00, 3.0041e+00, 4.1573e+00, 1.2042e+00, 2.7366e+00, 3.4407e+00,\n",
      "        3.3508e+00, 2.5385e+00, 4.2969e+00, 4.8558e+00, 2.4701e+00, 1.5784e+00,\n",
      "        2.3593e+00, 1.2392e+00, 3.8336e+00, 1.5784e+00, 2.0680e+00, 4.2577e+00,\n",
      "        4.0708e+00, 3.6500e+00, 3.0838e+00, 4.6041e+00, 2.1171e+00, 4.2968e+00,\n",
      "        2.0703e+00, 9.7878e-01, 4.3086e+00, 3.9765e+00, 3.5770e+00, 2.2584e+00,\n",
      "        9.3344e-01, 4.5401e+00, 1.5784e+00, 2.0965e+00, 3.1081e+00, 2.2493e+00,\n",
      "        3.1300e+00, 1.7380e+00, 3.1230e+00, 2.6547e+00, 3.9677e+00, 1.9192e+00,\n",
      "        4.4376e+00, 3.4592e+00, 4.1234e+00, 4.4189e+00, 4.3307e+00, 1.5784e+00,\n",
      "        3.5175e+00, 1.6465e+00, 2.0757e+00, 1.8850e+00, 3.8248e+00, 1.9303e+00,\n",
      "        4.2787e+00, 1.5784e+00, 4.0952e+00, 2.8815e+00, 4.4784e+00, 2.7741e+00,\n",
      "        3.8749e+00, 2.0301e+00, 1.6914e+00, 3.4786e+00, 3.8778e+00, 4.1734e+00,\n",
      "        2.4879e+00, 2.5341e+00, 2.9447e+00, 2.6111e+00, 1.5784e+00, 1.5751e+00,\n",
      "        2.9682e+00, 4.1196e+00, 2.4965e+00, 2.6680e+00, 3.8212e+00, 1.3069e+00,\n",
      "        2.2661e+00, 3.1126e+00, 3.4632e+00, 3.6768e+00, 5.0092e+00, 5.4453e+00,\n",
      "        1.6731e+00, 2.7475e+00, 4.6446e+00, 3.6871e+00, 1.5784e+00, 2.2961e+00,\n",
      "        3.2483e+00, 2.1298e+00, 2.8129e+00, 1.0204e+00, 3.2133e+00, 4.5387e+00,\n",
      "        4.7062e+00, 4.7413e+00, 1.4571e+00, 5.2029e+00, 2.4571e+00, 1.5784e+00,\n",
      "        2.5660e+00, 2.8611e+00, 1.5784e+00, 2.6569e+00, 4.4737e+00, 3.5321e+00,\n",
      "        8.7386e-01, 4.8933e+00, 3.7468e+00, 5.1375e+00, 9.0549e-01, 2.8257e+00,\n",
      "        1.5784e+00, 2.2818e+00, 7.5091e-01, 3.8421e+00, 2.5251e+00, 4.3184e+00,\n",
      "        3.8093e+00, 1.2042e+00, 2.9314e+00, 1.5550e+00, 3.6015e+00, 2.3344e+00,\n",
      "        4.0647e+00, 2.8505e+00, 4.4327e+00, 2.8485e+00, 3.7250e-01, 3.3463e+00,\n",
      "        1.1037e+00, 2.8528e+00, 3.1482e+00, 4.6501e+00, 1.9174e+00, 4.2532e+00,\n",
      "        1.7113e+00, 4.6099e+00, 1.2151e+00, 5.4370e+00, 2.8334e+00, 3.9590e+00,\n",
      "        4.1192e+00, 4.2569e+00, 5.1576e+00, 2.8667e+00, 2.6819e+00, 4.8523e+00,\n",
      "        3.2336e+00, 1.1630e+00, 1.8298e+00, 4.0563e+00, 3.5348e+00, 4.3241e+00,\n",
      "        3.6364e+00, 3.5515e+00, 2.9588e+00, 4.6751e+00, 3.9077e+00, 4.3038e+00,\n",
      "        3.1902e+00, 4.5219e+00, 2.9307e+00, 5.6760e+00, 4.2627e+00, 4.3340e+00,\n",
      "        4.0712e+00, 1.3907e+00, 4.8558e+00, 3.4469e+00, 2.0529e+00, 3.4808e+00,\n",
      "        1.5784e+00, 3.1191e+00, 1.4976e+00, 2.8570e+00, 2.7597e+00, 4.2337e+00,\n",
      "        1.7437e+00, 1.9665e+00, 3.9481e+00, 1.6474e+00, 2.3227e+00, 2.8305e+00,\n",
      "        2.7305e+00, 1.7522e+00, 2.2341e+00, 7.7302e-01, 1.9913e+00, 1.5784e+00,\n",
      "        3.5686e+00, 1.6105e+00, 3.9612e+00, 2.4666e+00, 1.4472e+00, 1.5784e+00,\n",
      "        3.9490e+00, 3.4051e+00, 1.5922e+00, 3.8643e+00, 2.6755e+00, 4.4968e+00,\n",
      "        3.7476e+00, 3.0171e+00, 2.3032e+00, 1.5784e+00, 1.4303e+00, 3.9179e+00,\n",
      "        2.1913e+00, 4.0972e+00, 3.7104e+00, 1.9323e+00, 1.5020e+00, 9.9013e-01,\n",
      "        3.7224e+00, 3.2495e+00, 2.9702e+00, 1.5412e+00, 3.7810e+00, 4.1449e+00,\n",
      "        2.8323e+00, 1.3805e+00, 3.2586e+00, 1.5784e+00, 3.2671e+00, 3.1655e+00,\n",
      "        4.5978e+00, 3.3201e+00, 6.5250e-01, 1.9902e+00, 2.8725e+00, 1.5784e+00,\n",
      "        4.1821e+00, 1.5784e+00, 2.7700e+00, 2.9911e+00, 1.5784e+00, 1.5784e+00,\n",
      "        3.2731e+00, 3.6547e+00, 3.1555e+00, 2.5352e+00, 3.7624e+00, 1.7456e+00,\n",
      "        3.6286e+00, 4.8146e+00, 1.7337e+00, 4.2430e+00, 1.5784e+00, 2.2704e+00,\n",
      "        2.4883e+00, 3.2395e+00, 4.6052e+00, 1.5784e+00, 1.5784e+00, 3.5225e+00,\n",
      "        1.9661e+00, 1.4819e+00, 3.5961e+00, 1.5784e+00, 4.2863e+00, 4.0782e+00,\n",
      "        1.4271e+00, 2.8714e+00, 1.2141e+00, 1.5784e+00, 2.7637e+00, 4.7951e+00,\n",
      "        3.3736e+00, 1.5784e+00, 2.7638e+00, 1.4756e+00, 3.0611e+00, 4.3216e+00,\n",
      "        3.8725e+00, 5.9157e+00, 4.0611e+00, 4.3515e+00, 1.5784e+00, 1.5784e+00,\n",
      "        2.0923e+00, 2.9093e+00, 3.1716e+00, 2.8182e+00, 1.6125e+00, 3.1181e+00,\n",
      "        4.2065e+00, 3.5494e+00, 3.9294e+00, 1.1926e+00, 2.6171e+00, 3.4436e+00,\n",
      "        4.1228e+00, 3.5242e+00, 3.8603e+00, 3.7762e+00, 2.8900e+00, 2.8025e+00,\n",
      "        1.5784e+00, 2.0656e+00, 4.6182e+00, 4.0975e+00, 4.4302e+00, 3.0149e+00,\n",
      "        4.3618e+00, 2.3756e+00, 1.5784e+00, 4.7808e+00, 2.1403e+00, 3.8289e+00,\n",
      "        4.8854e+00, 1.4902e+00, 4.3052e+00, 1.9960e+00, 3.5237e+00, 3.4503e+00,\n",
      "        3.5832e+00, 1.7335e+00, 1.5784e+00, 4.2894e+00, 4.1239e+00, 1.9557e+00,\n",
      "        1.1717e+00, 4.8445e+00, 1.1531e+00, 4.5360e+00, 3.6600e+00, 3.5923e+00,\n",
      "        1.7719e+00, 4.7483e+00, 4.1179e+00, 1.5784e+00, 5.4272e+00, 4.3617e+00,\n",
      "        2.4900e+00, 4.3142e+00, 1.8565e+00, 1.9274e+00, 3.9209e+00, 4.2230e+00,\n",
      "        1.7996e+00, 4.8276e+00, 4.2856e+00, 2.3805e+00, 2.2447e+00, 3.0413e+00,\n",
      "        4.9705e+00, 4.1930e+00, 2.7712e+00, 4.7100e+00, 3.8190e+00, 1.7238e+00,\n",
      "        3.4277e+00, 3.4421e+00, 3.5387e+00, 1.5784e+00, 5.0436e+00, 5.0789e+00,\n",
      "        1.1680e+00, 1.3224e+00, 1.1714e+00, 1.2511e+00, 3.1433e+00, 3.9977e+00,\n",
      "        2.0933e+00, 2.7904e+00, 3.4682e+00, 5.1409e+00, 4.5270e+00, 1.5784e+00,\n",
      "        3.1839e+00, 3.1667e+00, 1.5784e+00, 2.0379e+00, 3.9422e+00, 1.2824e+00,\n",
      "        3.6829e+00, 1.8159e+00, 1.5784e+00, 4.0725e+00, 1.5784e+00, 1.6094e+00,\n",
      "        4.2790e+00, 2.4849e+00, 2.9688e+00, 1.8498e+00, 4.2198e+00, 4.3608e+00,\n",
      "        1.5784e+00, 4.0616e+00, 2.0184e+00, 1.5784e+00, 3.4117e+00, 1.1776e+00,\n",
      "        2.7528e+00, 1.3958e+00, 2.0240e+00, 4.5669e+00, 3.0329e+00, 1.5784e+00,\n",
      "        1.3309e+00, 2.7404e+00, 3.7599e+00, 1.2182e+00, 3.6589e+00, 4.4640e+00,\n",
      "        1.8115e+00, 3.1687e+00, 7.3285e-01, 4.3192e+00, 2.9862e+00, 1.5784e+00,\n",
      "        1.6216e+00, 3.0754e+00, 2.7392e+00, 1.5784e+00, 4.0745e+00, 5.0780e+00,\n",
      "        4.2941e+00, 1.4416e+00, 4.8898e+00, 3.3277e+00, 1.3946e+00, 1.8887e+00,\n",
      "        1.0301e+00, 2.0521e+00], device='cuda:0'), tensor([5.1255, 3.2760, 4.9367, 1.5784, 2.2421, 3.4877, 3.3862, 3.0382, 4.1430,\n",
      "        1.2247, 4.2204, 1.8547, 3.3602, 2.1092, 3.0673, 0.8014, 4.6096, 4.4335,\n",
      "        5.1671, 1.5784, 1.5784, 5.1806, 4.0545, 3.7090, 3.2933, 4.2531, 0.8824,\n",
      "        3.9562, 4.0310, 3.4852, 1.5784, 5.0509, 1.0554, 3.8120, 2.2076, 3.8149,\n",
      "        2.2317, 4.5155, 3.1065, 4.4488, 1.6473, 5.1985, 3.4062, 1.5784, 5.4338,\n",
      "        3.7075, 1.5784, 4.7235, 2.7068, 2.4556, 3.8141, 4.5306, 4.4000, 1.6514,\n",
      "        4.1645, 4.0827, 2.8287, 1.7112, 1.9471, 0.9474, 4.4345, 2.7807, 2.3737,\n",
      "        2.7640, 2.0773, 3.9032, 2.4612, 2.1782, 2.5445, 3.0199, 1.8109, 1.7799,\n",
      "        0.3097, 3.1685, 4.2079, 2.5483, 2.8235, 3.1995, 1.4561, 2.6734, 2.4296,\n",
      "        1.2805, 1.9950, 3.3210, 1.5784, 3.2840, 4.1673, 1.7649, 3.2154, 4.4277,\n",
      "        1.5784, 4.0174, 3.6013, 2.6015, 3.2701, 4.2326, 5.2154, 2.9659, 1.5784,\n",
      "        3.4719, 4.6635, 1.8820, 4.5666, 2.5236, 3.7607, 4.1415, 1.5784, 3.9035,\n",
      "        3.2051, 5.2279, 3.6287, 3.3872, 3.7152, 3.9115, 5.3341, 3.8834, 4.2712,\n",
      "        3.5490, 3.4069, 1.5784, 2.1244, 5.0050, 2.5329, 4.4571, 2.8802, 3.3851,\n",
      "        3.5676, 4.4588, 2.0324, 1.6849, 2.9363, 4.2184, 1.1866, 1.9091, 1.5784,\n",
      "        1.8562, 1.1462, 3.6778, 5.1745, 2.3167, 3.3574, 3.9701, 2.5029, 4.3634,\n",
      "        1.7288, 4.0288, 3.4781, 2.7678, 4.2102, 3.9157, 0.5005, 5.5649, 1.5784,\n",
      "        3.8630, 1.5784, 3.7551, 4.7346, 2.0379, 3.9267, 2.3715, 3.6847, 1.1004,\n",
      "        4.5910, 3.5127, 3.0782, 1.7524, 1.5784, 2.4972, 5.0410, 3.9508, 1.5665,\n",
      "        2.0205, 2.7699, 3.7537, 1.5784, 4.4775, 2.7331, 1.5784, 2.7190, 2.2818,\n",
      "        3.9697, 2.2836, 1.7523, 1.5209, 1.1284, 2.3865, 1.6690, 3.6943, 1.5784,\n",
      "        3.1869, 3.0934, 2.7392, 1.3330, 3.2431, 1.6282, 3.4891, 0.9334, 3.2085,\n",
      "        5.1981, 2.1536, 1.5784, 4.3524, 3.6548, 3.5777, 3.1716, 5.4940, 3.0383,\n",
      "        4.1252, 1.5784, 3.6391, 3.6276, 1.5784, 1.0092, 1.5784, 3.0951, 4.7793,\n",
      "        2.5784, 1.1276, 5.0428, 3.7886, 0.6994, 3.1724, 1.5784, 0.4508, 2.8390,\n",
      "        4.1308, 1.5784, 1.5784, 1.5784, 5.0641, 3.4009, 1.5784, 2.6567, 2.3438,\n",
      "        2.9776, 2.1244, 3.6121, 1.4353, 3.4919, 3.6885, 3.8380, 3.4858, 3.2870,\n",
      "        4.6480, 2.8514, 1.1399, 1.7593, 4.4390, 3.6887, 1.6039, 3.6584, 1.6361,\n",
      "        1.9230, 3.7101, 2.9965, 2.9598, 1.5784, 3.4183, 1.7412, 4.2253, 1.5784,\n",
      "        3.8014, 4.0843, 5.4706, 3.0030, 4.5471, 1.3909, 4.8103, 2.6879, 2.3846,\n",
      "        5.2567, 5.7954, 3.5537, 1.5784, 1.4910, 3.0540, 2.8027, 4.3569, 1.5784,\n",
      "        3.2676, 2.3888, 4.0753, 3.0715, 1.5784, 2.5138, 2.4222, 4.1229, 4.1631,\n",
      "        4.2701, 4.1012, 3.9044, 5.6020, 4.5778, 2.7611, 2.4389, 1.5945, 2.6927,\n",
      "        0.5120, 4.3699, 2.3901, 1.5784, 1.5784, 2.9527, 4.2484, 4.2471, 5.0046,\n",
      "        4.5946, 4.0619, 4.6021, 3.2353, 3.7198, 4.3718, 1.5784, 2.4699, 1.5784,\n",
      "        4.0233, 1.5784, 0.3684, 1.5784, 3.2176, 4.6424, 2.7330, 3.4793, 4.1475,\n",
      "        1.5784, 1.5784, 3.9818, 1.7540, 4.1544, 3.4045, 3.1494, 2.2181, 4.6036,\n",
      "        2.0306, 4.3749, 3.0569, 1.6182, 3.1183, 4.3249, 2.2114, 4.0522, 3.1442,\n",
      "        3.4793, 1.0215, 1.6201, 2.8752, 0.5697, 2.4252, 1.7784, 2.8306, 2.1209,\n",
      "        3.9293, 3.3678, 3.1406, 2.3932, 2.3020, 1.5961, 3.8040, 1.0946, 4.1765,\n",
      "        3.7118, 5.5663, 1.9798, 2.9364, 4.9042, 2.6751, 3.7341, 1.5784, 2.3052,\n",
      "        1.5784, 4.0461, 1.5784, 5.6630, 1.7328, 2.7169, 2.8498, 4.3271, 4.0849,\n",
      "        5.8057, 4.2543, 4.8300, 3.3498, 4.5675, 1.7684, 1.5784, 4.0215, 4.1186,\n",
      "        2.3963, 1.5784, 2.9487, 1.1665, 1.5160, 1.4304, 3.4657, 3.0042, 4.7966,\n",
      "        5.2101, 2.9849, 4.0820, 3.2338, 1.2698, 2.7143, 1.5784, 2.1757, 2.7412,\n",
      "        3.0782, 2.9979, 4.0521, 4.3298, 1.5784, 4.6834, 3.3409, 4.6080, 1.9470,\n",
      "        1.3273, 1.5784, 3.0203, 0.7520, 1.5784, 3.3701, 1.5784, 3.3249, 3.1604,\n",
      "        1.5498, 3.4209, 3.7838, 3.0195, 0.2979, 1.5784, 1.3259, 2.1484, 1.5784,\n",
      "        2.2864, 4.9109, 1.8711, 1.5784, 3.9672, 0.4776, 3.5481, 2.2710, 2.8185,\n",
      "        4.1555, 4.2190, 3.5772, 4.0981, 1.3278, 4.5673, 3.6323, 2.9178, 1.5784,\n",
      "        3.1675, 1.5784, 1.9876, 4.0423, 2.3241, 2.9569, 5.9043, 0.8605, 1.5784,\n",
      "        2.2338, 1.5784, 1.5009, 4.0541, 4.5948, 2.1486, 3.0832, 2.9763, 2.7523,\n",
      "        3.3607, 2.3478, 2.5314, 2.0404, 1.0622, 3.9717, 3.6785, 3.4747, 3.5105,\n",
      "        3.5412, 2.8078, 1.5784, 3.0135, 1.3447, 4.7222, 5.2998, 4.3404, 3.3562,\n",
      "        4.9994, 3.1312, 3.0243, 1.7040, 3.3594, 1.5037, 3.7139, 3.3431, 3.1501,\n",
      "        2.0390, 3.8003, 1.5784, 3.2900, 4.6151, 1.9820, 4.4563, 1.5784, 3.6229,\n",
      "        3.3625, 1.5784, 3.1545, 4.8924, 4.6572, 3.4128, 2.6077, 3.4120],\n",
      "       device='cuda:0'), tensor([4.4489, 0.7370, 4.6787, 3.7027, 0.6900, 1.9024, 3.2345, 2.0966, 2.9569,\n",
      "        2.9685, 1.5784, 4.4290, 3.1596, 2.9173, 3.3594, 5.5624, 2.3021, 4.3801,\n",
      "        2.2627, 4.0175, 4.6118, 4.2563, 3.8031, 2.0673, 1.1000, 1.7460, 1.5784,\n",
      "        3.3145, 1.5784, 3.0657, 1.8710, 3.1064, 1.5784, 4.0712, 3.1467, 2.8592,\n",
      "        3.2676, 4.7991, 2.1881, 3.6714, 3.1894, 1.8694, 3.3717, 4.5393, 2.2918,\n",
      "        0.6289, 0.7128, 4.5393, 1.5784, 1.5784, 4.2296, 1.5784, 4.3641, 2.0805,\n",
      "        3.0027, 0.9974, 3.8976, 1.9131, 3.6784, 3.9165, 2.1643, 4.2450, 1.5784,\n",
      "        2.8526, 1.4462, 4.0666, 1.5784, 0.2064, 5.2794, 2.4185, 4.8203, 3.6387,\n",
      "        3.6320, 3.9590, 4.6424, 1.7615, 3.6275, 4.1522, 4.1453, 2.2932, 2.6933,\n",
      "        4.4412, 3.8945, 2.7337, 2.1768, 2.8290, 4.6738, 2.4794, 4.0242, 3.1645,\n",
      "        0.6965, 3.8075, 1.5784, 5.7360, 3.9047, 1.7668, 4.4887, 0.7822, 1.3284,\n",
      "        1.5784, 2.6373, 3.3490, 1.9868, 0.7969, 5.5351, 4.9136, 4.2928, 4.2343,\n",
      "        3.2233, 2.2698, 2.4433, 1.5784, 1.3273, 2.4566, 1.3942, 1.5784, 3.9498,\n",
      "        1.5784, 3.1211, 2.8959, 1.5784, 3.7742, 3.8633, 4.3884, 3.9697, 4.9879,\n",
      "        1.9722, 2.7503, 2.5513, 1.5784, 5.3541, 3.5132, 2.8381, 2.2946, 5.5926,\n",
      "        0.5833, 4.2099, 3.9296, 3.4300, 1.4830, 3.0457, 2.7237, 2.0922, 4.9817,\n",
      "        4.0542, 3.6891, 2.3334, 5.5201, 4.1744, 1.5784, 2.0384, 1.5784, 4.1146,\n",
      "        4.1423, 3.9028, 4.1922, 3.6178, 3.3669, 2.7906, 3.2908, 3.5995, 2.1181,\n",
      "        4.1616, 2.5188, 1.5784, 4.0688, 3.6681, 3.8672, 4.1033, 0.9026, 4.5799,\n",
      "        1.5784, 3.8063, 0.4848, 1.5784, 3.5524, 4.0942, 3.4783, 4.0803, 4.0217,\n",
      "        2.1947, 3.7761, 1.5784, 4.0328, 1.8933, 3.3765, 2.8382, 4.2979, 3.0657,\n",
      "        1.6036, 1.0992, 3.9457, 1.5784, 2.2919, 4.8423, 3.1178, 5.2579, 3.1072,\n",
      "        1.4061, 2.5596, 3.7727, 3.1432, 1.5784, 1.9833, 3.9913, 2.6632, 2.5170,\n",
      "        1.4320, 2.3119, 3.3956, 0.6125, 2.7053, 0.9841, 5.0009, 2.2936, 1.5784,\n",
      "        4.1594, 1.8844, 2.7328, 4.2814, 4.8807, 2.7554, 3.5185, 1.6593, 3.4979,\n",
      "        3.7215, 5.4316, 0.3140, 3.6680, 1.5784, 3.6951, 1.5784, 4.7863, 1.5784,\n",
      "        3.2733, 1.9099, 1.3821, 1.9255, 3.1169, 3.7712, 1.5784, 3.4294, 4.3731,\n",
      "        4.0670, 1.4042, 5.9349, 2.6718, 1.4858, 3.9220, 4.8859, 4.7429, 5.1597,\n",
      "        2.9688, 1.1166, 2.5884, 3.9985, 4.1163, 4.5482, 2.7599, 3.9447, 4.0784,\n",
      "        1.4210, 2.4970, 3.5273, 3.2401, 3.1721, 3.7904, 5.2432, 1.1445, 0.6772,\n",
      "        4.1349, 4.0085, 4.1507, 2.3202, 4.6867, 4.9730, 1.5784, 2.4525, 1.4719,\n",
      "        1.5784, 3.9939, 4.3893, 4.4633, 1.0058, 3.0199, 2.8347, 4.0073, 3.8827,\n",
      "        4.6884, 1.8316, 4.4055, 2.6230, 3.8414, 1.4426, 4.3674, 2.6215, 3.0880,\n",
      "        0.9474, 4.3239, 3.2462, 1.5784, 1.8292, 3.6813, 2.7597, 5.0572, 3.4240,\n",
      "        2.8362, 5.0861, 2.7395, 5.0894, 2.4315, 1.6958, 4.3838, 0.3662, 2.4271,\n",
      "        4.2628, 4.8012, 2.8314, 2.6567, 3.9773, 4.3868, 2.7919, 1.0012, 3.0457,\n",
      "        2.6684, 2.9820, 5.2131, 2.8976, 2.1288, 3.7611, 2.6973, 4.6223, 4.7418,\n",
      "        3.0485, 3.3419, 1.5784, 3.4465, 3.9156, 4.0628, 2.4972, 1.8054, 1.5784,\n",
      "        0.7375, 4.2735, 4.4443, 4.7313, 4.2108, 3.7398, 2.2058, 2.4260, 4.3982,\n",
      "        4.2577, 2.7931, 2.9632, 4.1366, 0.7406, 3.4533, 3.0701, 1.9219, 3.6297,\n",
      "        3.1797, 2.8663, 4.0699, 4.1403, 3.1539, 5.2472, 3.5499, 4.2061, 2.4999,\n",
      "        2.3614, 1.5784, 4.0389, 2.7957, 4.2097, 1.2151, 1.2445, 2.9002, 1.8052,\n",
      "        4.1306, 4.6966, 1.5784, 2.1553, 4.9092, 3.8727, 3.8486, 4.6160, 4.0999,\n",
      "        4.9616, 4.9929, 3.4714, 3.3202, 3.4277, 4.9456, 0.3725, 3.3744, 5.2258,\n",
      "        2.8509, 3.1224, 2.8707, 1.8478, 3.0362, 4.0348, 1.1763, 1.6435, 1.9432,\n",
      "        1.5097, 3.4912, 2.2826, 4.1141, 1.5784, 3.9796, 3.7900, 4.9674, 4.7202,\n",
      "        4.1952, 2.2701, 4.1579, 5.1686, 1.5784, 2.1595, 4.1647, 1.7756, 5.5461,\n",
      "        1.5784, 1.8447, 0.3094, 4.0515, 3.7181, 3.0951, 4.6780, 0.6215, 2.2520,\n",
      "        4.7988, 3.1606, 2.8143, 1.5784, 5.3005, 4.2542, 4.2408, 3.0157, 2.6176,\n",
      "        0.6552, 2.4451, 3.6851, 5.0030, 1.2793, 4.3724, 4.1387, 4.2983, 3.8730,\n",
      "        4.8558, 2.4994, 3.5818, 4.6819, 1.3708, 5.2574, 3.2374, 3.6242, 3.2483,\n",
      "        2.4022, 4.1032, 2.8634, 2.6172, 2.9037, 2.8999, 1.7996, 2.7924, 3.9362,\n",
      "        1.5784, 3.8886, 1.6521, 2.0068, 1.5784, 3.9035, 1.1497, 4.4297, 3.3128,\n",
      "        1.5784, 5.1090, 3.4369, 4.2015, 3.7500, 2.5195, 4.5280, 4.4578, 1.5784,\n",
      "        2.1113, 3.8431, 2.8782, 3.5786, 2.9418, 1.5248, 3.9338, 3.7759, 4.0529,\n",
      "        1.5514, 1.1637, 3.6113, 3.5633, 2.3341, 1.5784, 2.1993, 2.2505, 3.4527,\n",
      "        2.5795, 0.9162, 3.9179, 3.5240, 4.1985, 3.6720, 1.5784, 1.2434],\n",
      "       device='cuda:0'), tensor([4.6466, 2.9946, 4.6249, 1.3804, 3.6823, 4.9482, 3.4013, 1.5784, 2.6265,\n",
      "        4.0668, 4.4421, 0.8196, 2.7292, 4.6854, 2.9564, 4.5691, 1.9017, 5.0449,\n",
      "        3.8154, 1.6658, 3.4939, 1.4725, 5.3176, 2.2043, 3.9473, 3.4128, 3.1444,\n",
      "        3.3834, 3.2883, 1.0324, 3.8174, 2.9697, 5.2308, 2.8615, 1.7161, 4.5150,\n",
      "        3.2504, 4.4151, 1.5626, 3.2015, 3.3305, 1.5784, 1.5784, 3.6951, 3.0723,\n",
      "        4.6333, 4.7404, 1.4949, 1.8081, 2.6057, 1.5558, 3.8390, 1.9896, 1.5784,\n",
      "        3.8267, 1.6845, 3.3571, 3.7456, 2.5729, 3.8940, 1.1228, 3.6064, 2.9655,\n",
      "        3.4109, 4.8240, 1.5148, 1.8281, 4.1602, 2.2621, 2.8194, 4.1538, 3.9838,\n",
      "        3.1409, 2.1976, 1.5784, 3.1174, 4.0735, 2.3387, 2.4293, 2.8725, 2.6386,\n",
      "        3.9607, 4.4132, 3.2519, 1.3878, 1.8706, 2.0977, 1.5784, 3.6088, 3.1737,\n",
      "        1.1282, 4.2719, 2.1402, 1.5784, 3.3550, 0.8157, 0.5813, 4.9541, 4.3432,\n",
      "        3.2335, 2.4290, 0.9602, 1.1034, 3.8282, 4.4124, 4.4506, 3.7648, 4.8019,\n",
      "        3.3785, 4.0627, 4.9161, 5.5919, 2.5966, 1.9261, 1.9391, 1.6752, 2.3041,\n",
      "        1.6996, 1.5784, 3.0507, 1.4623, 1.4306, 2.4730, 3.9388, 1.7840, 4.0283,\n",
      "        1.4908, 4.2882, 3.2750, 3.3604, 4.5608, 4.6686, 4.7328, 1.4829, 4.3585,\n",
      "        1.9772, 4.0188, 2.3694, 1.2534, 3.8865, 1.7744, 1.9481, 3.4791, 3.2792,\n",
      "        2.9235, 2.8803, 3.7793, 3.0399, 3.5048, 2.7349, 2.8402, 1.5784, 2.1836,\n",
      "        3.9375, 0.9275, 1.9448, 1.5784, 1.5224, 2.3236, 3.9671, 4.1161, 3.5179,\n",
      "        2.3293, 3.3617, 2.7490, 4.2072, 3.7945, 1.0360, 2.9085, 1.2157, 4.7207,\n",
      "        4.6017, 0.6571, 3.2685, 3.9421, 4.4464, 4.1657, 1.9038, 5.0763, 2.7592,\n",
      "        2.2134, 1.8070, 4.0369, 3.9068, 3.5055, 4.9122, 1.5784, 3.8920, 1.4735,\n",
      "        2.9556, 3.1259, 3.3472, 3.6739, 4.7324, 1.0479, 3.0040, 3.1732, 1.0911,\n",
      "        1.5784, 0.5825, 1.5784, 1.5784, 1.0435, 4.2882, 2.1894, 3.6947, 1.5784,\n",
      "        5.4962, 4.1806, 4.4820, 2.8079, 4.2294, 1.3976, 1.3878, 1.7600, 4.2760,\n",
      "        1.7447, 2.8551, 1.5784, 1.5784, 4.2427, 3.2306, 1.4135, 4.3818, 4.0473,\n",
      "        3.5525, 3.5232, 2.6401, 3.9276, 1.9162, 2.6446, 4.4106, 2.7886, 3.9096,\n",
      "        1.0553, 3.1464, 0.8452, 1.5635, 4.6137, 4.2679, 1.8148, 2.9639, 0.6097,\n",
      "        1.4306, 0.8452, 4.2339, 0.1366, 3.6071, 1.9138, 3.5635, 3.4911, 1.7291,\n",
      "        1.3001, 2.7564, 3.9788, 3.0880, 1.5784, 1.7968, 1.5784, 3.0035, 4.3203,\n",
      "        4.5131, 1.3762, 4.2869, 3.6136, 4.3068, 2.1763, 2.4988, 3.8276, 2.9569,\n",
      "        3.4353, 3.4488, 2.3278, 3.6910, 1.5784, 3.3405, 1.5784, 3.1666, 2.6276,\n",
      "        4.0327, 5.3300, 1.7456, 3.1184, 3.4700, 3.6837, 4.7963, 4.7179, 4.4188,\n",
      "        0.8403, 4.6737, 1.9111, 2.8361, 1.2404, 2.2918, 0.1285, 4.0912, 1.5784,\n",
      "        4.5003, 2.1934, 2.1703, 2.6070, 1.9986, 1.5784, 0.5942, 0.4362, 2.3303,\n",
      "        3.2437, 2.9213, 2.6619, 5.3626, 3.9915, 2.1786, 4.3466, 4.4440, 1.5784,\n",
      "        2.1562, 4.0473, 2.6115, 1.5784, 1.6851, 2.5623, 4.4505, 1.5015, 3.6433,\n",
      "        3.2717, 3.2940, 3.7734, 1.5784, 5.2211, 3.2775, 5.0853, 2.2640, 1.3146,\n",
      "        4.6486, 3.4486, 4.4327, 3.8748, 2.9067, 1.9392, 5.3718, 3.6464, 3.6554,\n",
      "        4.1286, 1.3891, 1.5784, 1.5713, 5.2852, 2.8356, 2.2797, 4.8275, 2.2970,\n",
      "        1.5784, 0.7375, 4.1254, 1.5991, 2.5220, 4.5894, 1.0386, 4.6220, 5.1282,\n",
      "        3.0498, 4.9680, 4.2020, 1.1659, 3.8942, 4.1335, 3.0369, 4.2551, 4.8683,\n",
      "        2.9257, 3.3405, 1.9541, 4.2654, 4.3989, 3.2103, 1.6455, 2.0965, 1.9224,\n",
      "        3.0777, 5.0160, 2.2961, 3.2527, 1.0455, 1.4042, 1.9334, 5.3601, 0.3365,\n",
      "        3.2968, 1.7842, 2.6044, 4.8578, 3.9656, 3.8370, 2.2647, 1.3027, 2.2520,\n",
      "        1.4308, 2.9868, 3.6547, 2.5835, 1.5784, 1.5784, 2.6732, 2.4090, 2.3217,\n",
      "        5.1041, 2.3188, 3.6989, 4.3492, 1.8479, 4.0990, 4.0480, 4.4270, 2.9213,\n",
      "        1.5784, 1.5784, 4.5813, 3.5137, 1.1140, 5.1037, 1.5784, 3.5064, 3.1095,\n",
      "        3.9080, 3.8434, 1.5345, 0.8816, 1.7882, 4.1447, 1.5784, 4.4920, 2.2455,\n",
      "        1.2233, 2.3341, 3.5425, 4.1911, 1.3878, 4.6493, 3.6899, 3.1925, 4.8290,\n",
      "        1.4655, 1.3512, 2.7480, 3.5602, 1.5784, 3.1275, 2.7539, 3.3645, 3.4656,\n",
      "        3.1217, 2.0966, 2.0598, 3.6063, 3.7480, 4.3382, 3.1539, 1.9093, 2.9769,\n",
      "        4.0189, 2.7498, 0.2997, 3.2685, 2.6366, 1.4275, 2.7194, 2.0952, 5.4654,\n",
      "        4.1709, 5.2897, 4.6109, 1.2794, 3.9357, 3.8835, 1.4511, 3.9970, 2.8899,\n",
      "        2.3626, 2.3901, 1.5784, 2.8938, 2.0116, 2.3729, 1.5784, 2.9828, 3.5129,\n",
      "        4.1403, 4.2895, 6.2276, 4.5031, 2.6594, 2.0814, 2.3057, 3.0055, 1.8409,\n",
      "        3.1047, 1.5784, 1.5784, 2.1134, 1.8458, 5.2493, 2.2084, 4.4935, 2.5965,\n",
      "        1.9267, 3.8607, 0.7977, 1.5784, 1.9589, 3.2126, 0.6791, 1.5617],\n",
      "       device='cuda:0'), tensor([ 1.0788,  3.4942,  3.6572,  0.8777,  2.5109,  3.1882,  1.5784,  4.4419,\n",
      "         0.8118,  2.4508,  2.1653,  3.4136,  3.6547,  3.6713,  1.5784,  4.6358,\n",
      "         2.4296,  1.3123,  4.0425,  3.4218,  1.4301,  4.1514,  3.6855,  3.5170,\n",
      "         4.9957,  5.4614,  1.8000,  1.8058,  3.1263,  3.7724,  3.3061,  2.9721,\n",
      "         1.8093,  5.0742,  1.5163,  2.4986,  2.7257,  2.6223,  1.9756,  1.5784,\n",
      "         1.1258,  1.1382,  4.0657,  2.2033,  5.0215,  2.4446,  3.1449,  4.3370,\n",
      "         2.8589,  3.9225,  1.5784,  3.9125,  3.4028,  1.2598,  4.3829,  1.5784,\n",
      "         2.1455,  3.4039,  1.5784,  4.2619,  3.5035,  2.2371,  3.8868,  3.7763,\n",
      "         1.9095,  2.5531,  3.9551,  3.9341,  4.2940,  1.5784,  1.9833,  3.6450,\n",
      "         3.5971,  3.3588,  1.8236,  2.4476,  3.7854,  2.3418,  4.2260,  3.1183,\n",
      "         4.3920,  2.3174,  2.0444,  1.6269,  1.2581,  4.1733,  2.8981,  1.5784,\n",
      "         2.5544,  3.1431,  3.1248,  1.2122,  2.6303,  2.9781,  1.8759,  4.3765,\n",
      "         1.9138,  4.2928,  2.0152,  4.6552,  2.1763,  1.4487,  3.3429,  4.7292,\n",
      "         3.1741,  3.5261,  2.9451,  4.3194,  3.0638,  2.5041,  4.0609,  1.2864,\n",
      "         0.4678,  2.0574,  4.1579,  4.2171,  4.9292,  3.5972,  3.7716,  2.1374,\n",
      "         2.0896,  2.5296,  2.0043,  3.6982,  3.0997,  5.7758,  2.9433,  1.5784,\n",
      "         1.6930,  4.1228,  4.4370,  3.2829,  3.5429,  5.4523,  5.2137,  3.9968,\n",
      "         2.4277,  3.3404,  4.4168,  2.0067,  1.2591,  1.5784,  2.8987,  5.0464,\n",
      "         4.2863,  4.4718,  4.7601,  2.9508,  1.5784,  4.9711,  4.3986,  2.9472,\n",
      "         5.3124,  2.5300,  1.5784,  3.3532,  2.5825,  4.5159,  3.0946,  2.3899,\n",
      "         3.3770,  4.7150,  4.1406,  3.9372,  3.9311,  3.2866,  2.2828,  4.7061,\n",
      "         2.5882,  1.5784,  3.8319,  2.8762,  1.4952,  1.5784,  1.8255,  4.9829,\n",
      "         0.9728,  4.9178,  3.9169,  1.5784,  2.2790,  4.2864,  4.0471,  4.0048,\n",
      "         1.8123,  1.5784,  3.0556,  3.6484,  4.8234,  3.5162,  3.2266,  3.2295,\n",
      "         3.6732,  2.2520, -0.0301,  1.8555,  4.0345,  3.1891,  2.1538,  2.3350,\n",
      "         1.4910,  4.0679,  4.4006,  3.2445,  4.2838,  3.9473,  4.5862,  3.3592,\n",
      "         3.9828,  2.6209,  4.0422,  3.1970,  2.8682,  1.5784,  3.3989,  4.4080,\n",
      "         0.1796,  3.8991,  4.0625,  3.2888,  1.4458,  3.3744,  4.1623,  2.0769,\n",
      "         3.8546,  3.8635,  3.2651,  5.6779,  1.9391,  4.3784,  2.1636,  1.9636,\n",
      "         3.8819,  4.4535,  3.2436,  1.8131,  1.5784,  3.0607,  2.6423,  2.0531,\n",
      "         0.6293,  3.7835,  3.6768,  1.5784,  3.4304,  1.0910,  1.8118,  3.4743,\n",
      "         2.3405,  4.6434,  4.1986,  3.6172,  4.6814,  4.7988,  2.1836,  3.3111,\n",
      "         3.2900,  2.5669,  4.0580,  4.1922,  1.6323,  1.6956,  1.6050,  2.5220,\n",
      "         2.0952,  4.1034,  0.0715,  1.5784,  4.5726,  3.0507,  4.2471,  4.1906,\n",
      "         3.7491,  1.8255,  2.8875,  1.3661,  2.2212,  1.9961,  2.2173,  4.2892,\n",
      "         2.2936,  2.2911,  1.5784,  3.1746,  3.4589,  3.6621,  3.2764,  1.9748,\n",
      "         2.1629,  5.1234,  5.4817,  1.6033,  3.7150,  2.0868,  2.4637,  1.5784,\n",
      "         1.2955,  2.4972,  3.5518,  1.5784,  5.5188,  2.8844,  3.7431,  1.4405,\n",
      "         1.1988,  2.9428,  4.2330,  2.2818,  3.2171,  2.0156,  3.7382,  4.0496,\n",
      "         0.8251,  4.6748,  1.8351,  3.8324,  2.4590,  1.4316,  1.7549,  2.5369,\n",
      "         5.2533,  4.1833,  1.5784,  4.7729,  3.1458,  1.5784,  4.1639,  3.6585,\n",
      "         0.4508,  4.0982,  5.0527,  4.7051,  3.2056,  4.9625,  3.7031,  2.2274,\n",
      "         3.4063,  5.3172,  4.1515,  4.5697,  3.5340,  4.3314,  3.6948,  1.5784,\n",
      "         3.2368,  4.8801,  1.5784,  1.5784,  1.7856,  1.9651,  4.3524,  3.7290,\n",
      "         4.0677,  5.3178,  3.5821,  2.4959,  4.2343,  3.5224,  2.6048,  1.5784,\n",
      "         3.6618,  4.5829,  4.8306,  1.7755,  5.4154,  2.1824,  2.3621,  3.2395,\n",
      "         1.8564,  3.3505,  2.8801,  1.6275,  3.9976,  1.5536,  3.0332,  3.2860,\n",
      "         3.2757,  2.8853,  1.5866,  4.1870,  1.6878,  4.2826,  1.7557,  2.9958,\n",
      "         4.5150,  3.0978,  3.6761,  2.4684,  4.5072,  1.5784,  2.6220,  4.3971,\n",
      "         1.3440,  0.7599,  3.9138,  3.7397,  2.9299,  3.0732,  2.6764,  1.6377,\n",
      "         3.2158,  4.4227,  3.9220,  2.5649,  4.1626,  1.5250,  3.1126,  2.2637,\n",
      "         3.9060,  1.5784,  0.7822,  4.3651,  3.4379,  2.7308,  3.3226,  4.2290,\n",
      "         2.9339,  1.0745,  1.5784,  0.4404,  4.0947,  3.3937,  1.0397,  3.4850,\n",
      "         5.1274,  4.9793,  3.9062,  3.1274,  4.2553,  1.8905,  1.1246,  1.8846,\n",
      "         3.8079,  3.8748,  2.1556,  2.8564,  1.1781,  4.1252,  2.4551,  3.2527,\n",
      "         0.5992,  2.7360,  1.7072,  2.7502,  1.6166,  3.7986,  1.5784,  3.1352,\n",
      "         4.2962,  3.3316,  1.9352,  1.1573,  1.8829,  3.3353,  2.6009,  3.4130,\n",
      "         3.7498,  4.4939,  3.1998,  1.5784,  1.5784,  4.0788,  1.9830,  4.2196,\n",
      "         1.4021,  3.3071,  3.4686,  2.4576,  2.4830,  1.5784,  2.9958,  5.2174,\n",
      "         1.5784,  3.9388,  3.8420,  4.2191,  0.6741,  1.0989,  4.4025,  4.9337,\n",
      "         4.3859,  1.9882,  3.7543,  4.7664,  2.0535,  0.6663,  5.4132,  3.5801,\n",
      "         2.8859,  2.4306,  0.7434,  3.5195,  1.6039,  3.5307,  2.9047,  3.1101,\n",
      "         3.4890,  1.6200,  3.3892,  1.8635,  2.5986,  3.9062,  4.6087,  3.2114,\n",
      "         3.7163,  3.5545,  2.5940,  1.5784,  3.3313,  3.9081,  3.2692,  3.3356],\n",
      "       device='cuda:0'), tensor([ 4.1172,  1.7256,  3.9161,  3.2465,  3.2854,  1.9320,  2.7788,  2.1699,\n",
      "         2.7144,  2.2836,  1.5784,  2.4706,  4.6471,  1.5318,  3.0663,  4.7760,\n",
      "         1.3142,  1.4329,  1.5784,  2.5340,  1.5784,  1.5820,  2.0121,  5.2029,\n",
      "         4.2389,  3.9142,  2.4650,  3.7698,  1.9426,  0.7924,  3.5057,  2.9122,\n",
      "         2.2923,  3.8296,  2.9207,  3.7786,  2.1046,  4.5061,  2.7416,  2.7699,\n",
      "         1.2606,  3.0516, -0.2426,  1.5784,  5.3517,  0.8907,  2.3879,  4.3268,\n",
      "         5.6558,  0.7645,  3.0785,  1.5225,  1.6171,  2.9364,  1.9719,  4.4339,\n",
      "         1.5784,  3.8472,  2.7475,  2.4972,  1.2828,  4.2712,  5.2473,  3.3362,\n",
      "         2.7610,  5.3286,  1.1628,  2.3005,  2.8912,  4.1109,  1.5327,  1.5784,\n",
      "         3.3170,  2.9675,  2.7951,  3.5697,  2.3852,  3.1343,  1.1010,  4.5263,\n",
      "         3.4436,  3.3372,  4.4354,  3.3550,  1.5784,  0.9508,  0.7613,  2.7522,\n",
      "         2.9806,  2.5054,  1.8683,  3.8692,  3.5038,  1.5784,  2.1403,  1.7078,\n",
      "         1.9347,  3.8118,  1.1389,  2.4362,  3.8752,  2.0736,  4.8566,  3.3292,\n",
      "         1.3971,  4.5697,  3.5636,  4.1361,  5.2839,  3.5254,  3.4151,  5.1944,\n",
      "         2.1425,  2.0057,  3.5813,  3.6957,  4.4691,  1.8469,  1.5928,  4.8991,\n",
      "         2.2335,  4.1771,  3.6540,  1.5784,  4.9785,  3.6111,  5.0907,  4.5489,\n",
      "         1.7053,  3.3864,  2.5187,  2.9263,  2.8708,  4.8821,  3.4968,  4.3548,\n",
      "         3.9949,  1.5784,  3.7306,  3.8827,  1.9320,  5.0380,  3.0473,  4.8296,\n",
      "         4.1033,  1.9812,  1.4472,  2.9938,  3.6933,  2.3826,  1.5784,  3.8327,\n",
      "         3.8964,  1.4026,  2.6644,  3.6381,  2.8420,  1.5784,  4.8849,  1.8495,\n",
      "         3.7554,  1.9872,  3.7017,  2.6700,  5.0232,  2.2673,  2.5503,  2.3018,\n",
      "         4.9583,  2.1257,  2.0907,  2.1542,  3.5431,  2.2594,  1.4505,  2.5701,\n",
      "         6.3141,  2.0797,  4.0233,  2.9108,  4.2368,  1.3044,  4.7117,  3.7500,\n",
      "         5.7254,  4.2165,  4.5967,  1.5001,  3.6430,  0.6079,  5.2247,  2.2824,\n",
      "         3.3750,  3.9382,  3.8415,  3.9632,  1.0854,  1.0389,  2.6252,  2.0447,\n",
      "         4.0019,  3.3100,  1.8464,  1.6878,  1.6156,  3.2458,  3.2756,  4.6215,\n",
      "         2.0135,  1.7148,  2.0941,  3.7211,  2.8854,  4.7199,  4.9410,  2.2032,\n",
      "         1.5784,  2.2656,  3.2059,  3.8678,  1.5111,  0.8198,  3.6431,  4.3082,\n",
      "         4.3335,  1.8187,  4.2546,  2.8507,  0.4299,  4.6881,  5.3096,  3.4647,\n",
      "         2.6746,  0.4909,  4.5246,  2.4000,  2.4430,  1.5784,  4.8390,  0.9557,\n",
      "         2.5295,  2.5300,  4.7218,  1.4578,  3.2384,  3.2511,  2.3541,  3.7099,\n",
      "         2.2632,  4.6417,  1.2698,  3.4809,  1.8395,  2.9427,  2.9404,  4.2929,\n",
      "         3.0058,  4.2678,  1.2720,  1.9799,  4.3313,  3.3481,  4.1907,  2.2100,\n",
      "         0.8370,  2.1127,  3.4271,  4.6376,  2.6074,  3.6222,  1.5784,  3.5602,\n",
      "         3.2487,  0.7645,  3.3315,  2.5010,  4.5016,  3.1746,  5.0585,  5.1041,\n",
      "         3.3923,  2.7438,  5.2647,  4.4968,  4.2718,  3.2453,  1.1729,  2.6489,\n",
      "         2.2523,  5.4221,  1.9203,  3.2053,  4.6451,  2.1071,  4.3059,  2.1202,\n",
      "         2.2740,  2.5612,  4.4530,  2.5458,  5.6892,  2.4969,  4.0918,  1.5784,\n",
      "         3.2231,  1.0781,  1.1424,  3.1533,  2.5582,  4.4041,  2.4884,  1.5784,\n",
      "         5.8270,  5.3061,  4.2460,  1.6367,  1.8644,  3.6084,  4.5350,  1.7612,\n",
      "         2.7014,  3.6297,  4.2855,  1.2873,  4.6607,  1.1691,  3.1028,  3.5656,\n",
      "         4.2383,  2.8107,  4.5123,  2.4509,  2.4701,  1.9924,  4.3628,  5.1633,\n",
      "         1.8320,  2.7901,  1.7375,  3.2076,  3.5315,  2.0035,  4.0712,  3.0654,\n",
      "         3.5964,  3.2053,  2.3352,  1.5784,  2.9918,  3.5399,  3.2753,  3.4578,\n",
      "         3.2747,  5.2233,  3.4039,  0.9637,  1.6878,  1.7422,  5.1942,  1.8504,\n",
      "         1.5784,  3.6080,  2.3873,  4.9636,  1.5751,  2.8704,  2.7884,  4.1992,\n",
      "         5.4224, -0.0465,  1.5850,  4.9294,  4.3057,  4.0946,  4.2408,  1.6024,\n",
      "         4.4172,  3.9680,  2.8770,  3.3546,  3.9140,  5.1715,  2.3093,  2.1785,\n",
      "         4.9537,  1.8145,  2.4076,  1.5784,  5.2263,  1.8198,  5.1851,  4.1644,\n",
      "         5.5962,  1.4207,  2.7119,  2.9347,  2.9128,  2.1340,  4.5515,  1.5784,\n",
      "         1.1535,  3.3355,  4.1424,  2.9965,  3.6957,  2.9426,  3.7717,  5.1829,\n",
      "         1.2899,  4.3810,  3.7449,  3.7901,  3.3323,  1.5784,  2.9368,  3.1371,\n",
      "         2.9760,  4.4035,  4.0225,  2.3602,  1.7868,  3.8971,  2.2386,  3.3799,\n",
      "         1.2011,  0.9782,  2.1095,  1.7007,  3.7531,  3.9496,  1.7386,  3.6006,\n",
      "         2.3823,  4.3420,  3.5361,  1.1732,  1.5299,  3.7580,  3.8042,  4.4214,\n",
      "         1.5784,  3.8044,  0.7114,  3.6374,  2.0965,  2.1454,  2.7565,  5.2051,\n",
      "         2.0116,  4.6393,  3.0311,  4.2366,  5.0026,  2.0966,  2.2221,  3.6027,\n",
      "         1.5784,  4.3061,  3.5369,  4.5084,  3.1970,  1.5784,  2.9666,  4.3100,\n",
      "         2.4590,  2.8686,  4.4362,  3.9757,  4.3569,  3.4886,  2.9302,  3.1389,\n",
      "         3.2414,  4.1372,  1.7288,  1.9403,  1.2731,  4.3745,  5.2924,  2.8496,\n",
      "         1.5784,  4.6927,  0.9223,  3.5214,  4.4084,  3.7248,  3.5606,  3.4169,\n",
      "         3.7073,  4.2463,  2.3815,  1.5784,  1.5784,  2.2880,  4.2466,  3.5712,\n",
      "         1.5784,  3.2980,  3.3728,  3.9452,  4.8028,  3.9165,  0.7713,  4.3536,\n",
      "         3.9544,  4.9675,  3.4581,  5.3479,  3.1950,  1.5784,  4.1493,  2.7744],\n",
      "       device='cuda:0'), tensor([ 1.8663,  1.5784,  3.8327,  2.4603,  5.0625,  3.1352,  3.8251,  4.4349,\n",
      "         5.3868,  1.5784,  3.4354,  2.7939,  1.0741,  1.5397,  2.7295,  1.5784,\n",
      "         5.0092,  3.8569,  3.9986,  4.5464,  1.8685,  2.4861,  1.9632,  3.7920,\n",
      "         3.8182,  3.0416,  2.4297,  0.7763,  2.8764,  1.0551,  3.5438,  4.1376,\n",
      "         2.2753,  4.4634,  3.9522,  3.6395,  2.9499,  4.7793,  1.4386,  1.5784,\n",
      "         2.9353,  3.9184,  3.9951,  2.9341,  1.5373,  1.6964,  3.0097,  1.2868,\n",
      "         2.0154,  3.9404,  2.1730,  4.2251,  2.7380,  3.7071,  4.0278,  3.7326,\n",
      "         4.1755,  4.0206,  4.5774,  2.2658,  3.4094,  3.1194,  2.2873,  3.1198,\n",
      "         2.5026,  2.4690,  1.0906,  3.9740,  3.8134,  2.8256,  3.3842,  3.9075,\n",
      "         3.6199,  2.7687,  3.0327,  1.5863,  1.7406,  0.7376,  2.0050,  3.9619,\n",
      "         3.5795,  2.0919,  3.9468,  4.6417,  4.2725,  1.6437,  2.6236,  3.6352,\n",
      "         3.8812,  3.2226,  1.0639,  4.3246,  3.1072,  3.7752,  1.9956,  3.7186,\n",
      "         1.8995,  3.5577,  2.6545,  4.6734,  2.1788,  2.9429,  2.5150,  0.9832,\n",
      "         2.5964,  4.5136,  1.2066,  2.7928,  5.1076,  1.5784,  2.5835,  4.2864,\n",
      "         4.0648,  1.7852,  2.6234,  4.0521,  3.6822,  4.7581,  3.0213,  0.9974,\n",
      "         4.1012,  3.1337,  2.0706,  2.5213,  2.1917,  4.0311,  1.6258,  5.2921,\n",
      "         3.4875,  2.5124,  1.5771,  3.6605,  3.8111,  4.0233,  3.3268,  2.8635,\n",
      "         3.3878,  4.2196,  2.7558,  5.1283,  1.1886,  5.1766,  3.9069,  2.1060,\n",
      "         3.0538,  2.3081,  1.5677,  1.7455,  3.1694,  1.1161,  2.4047,  1.2798,\n",
      "         4.7265,  3.4319,  3.3232,  1.9518,  3.8494,  4.1130,  1.9518,  3.4039,\n",
      "         4.1218,  0.7419,  1.7312,  4.4624,  2.8555,  3.2587,  1.5784,  3.4551,\n",
      "         1.1030,  4.8578,  4.8005,  4.2838,  4.4195,  4.3160,  3.5918,  3.2088,\n",
      "         3.5589,  4.0217,  1.5784,  2.4212,  2.1100,  2.0621,  4.1158,  4.0502,\n",
      "         4.0426,  3.1500,  3.5667,  1.9200,  1.6197,  1.2990,  3.4419,  3.9035,\n",
      "         4.7358,  2.7158,  3.6048,  4.3782,  3.9242,  3.5454,  5.6256,  1.8076,\n",
      "         1.8364,  3.8194,  2.8180,  1.5784,  3.7867,  2.8745,  4.8145,  2.3670,\n",
      "         3.5015,  3.9235,  1.5579,  3.6470,  4.9420,  1.5784,  3.5038,  3.7904,\n",
      "         3.0449,  4.3871,  2.3918,  1.6349,  1.5465,  4.2408,  2.4794,  4.4286,\n",
      "         1.6030,  3.9051,  4.7680,  0.8410,  1.5784,  2.0137,  3.2353,  1.8920,\n",
      "         2.9653,  2.1828,  5.0126,  2.9174,  3.1337,  0.7956,  1.3479,  2.3811,\n",
      "         1.8947,  4.0317,  1.6216,  1.5784,  3.6829,  2.6508,  3.4419,  1.8953,\n",
      "         1.3455,  1.3689,  0.6733,  3.7297,  2.8936,  4.7538,  4.4154,  3.1030,\n",
      "         4.0383,  1.8208,  6.7959,  1.8005,  1.9569,  2.1383,  3.9798,  4.6458,\n",
      "         1.4412,  5.6874,  2.3446,  4.1449,  1.8638,  1.7591,  4.2552,  3.2273,\n",
      "         1.3864,  4.5535,  1.6851,  3.2875,  0.9869,  3.6722,  4.2382,  3.1062,\n",
      "         5.0045,  2.2349,  4.2679,  4.5254,  2.4544,  2.4471,  2.3824,  1.0942,\n",
      "         2.2114,  3.1091,  4.8202,  2.6243,  5.0965,  2.7807,  4.2408,  4.1205,\n",
      "         4.2177,  2.8976,  4.6883,  3.4277,  1.5177,  2.5789,  2.0638,  3.6712,\n",
      "         3.6387,  5.2567,  4.5845,  1.8971,  2.9742,  1.0339,  3.6165,  1.8870,\n",
      "         2.7939,  4.1944,  2.6952,  3.4657,  4.1648,  3.4517,  5.3702,  1.5784,\n",
      "         3.8147,  4.0295,  4.6705,  3.7442,  3.7819,  2.8984,  3.9645,  1.6556,\n",
      "         3.0950,  2.8826,  1.7157,  1.4398,  3.7615,  2.9574,  2.9025,  1.3724,\n",
      "         2.6329,  4.2501,  3.8695,  2.2562,  4.9300,  2.9890,  1.3786,  2.7392,\n",
      "         3.7108,  2.0496,  2.5800,  3.1863,  3.9614,  2.9426,  3.1286,  2.6337,\n",
      "         4.9833,  1.0644,  5.2005,  3.0096,  2.0795,  2.5772,  4.1305,  4.4633,\n",
      "         3.2944,  2.6802,  0.9896,  3.2400,  5.2162,  4.1032,  4.3593,  4.4029,\n",
      "         0.8709,  3.3421,  5.2128,  5.6780,  1.5784,  4.3129,  0.3713,  3.7529,\n",
      "         3.6572,  3.0349,  5.0867,  3.2674,  3.1508,  4.8089,  4.1562,  1.5784,\n",
      "         3.1834,  5.1329,  3.4179,  1.6321,  4.0819,  2.3884,  4.1649,  2.1494,\n",
      "         1.8167,  3.0928,  2.9303,  1.5784,  1.5784,  2.0186,  2.6564,  3.4733,\n",
      "         1.7938,  4.1472,  3.1510,  3.8240,  3.1255,  1.9813,  3.6949,  2.3953,\n",
      "        -0.2426,  3.8653,  1.4746,  4.0044,  2.3889,  2.3663,  3.2997,  5.1346,\n",
      "         1.1889,  5.5334,  1.6002,  5.1082,  3.2529,  3.3122,  3.6304,  2.0744,\n",
      "         2.9322,  3.6023,  3.7196,  1.5784,  4.3184,  2.6146,  1.8292,  4.1437,\n",
      "         3.3531,  3.0353,  4.1079,  1.1317,  1.2167,  2.9233,  4.5513,  3.9985,\n",
      "         1.5653,  4.8876,  3.0392,  1.9362,  2.6040,  4.7639,  3.8639,  2.8884,\n",
      "         1.6865,  3.6688,  3.6072,  1.9405,  2.9964,  2.9693,  4.8263,  3.7737,\n",
      "         4.9008,  1.5784,  2.8027,  1.3701,  1.5784,  4.5890,  3.5149,  3.5034,\n",
      "         4.5160,  1.5784,  0.6359,  4.5670,  1.6678,  4.5057,  2.2950,  1.5784,\n",
      "         1.4902,  2.5481,  1.5784,  2.2638,  3.0551,  1.5784,  4.8581,  3.9315,\n",
      "         4.0017,  2.4849,  4.0689,  3.3124,  4.2419,  2.7658,  2.2238,  5.7513,\n",
      "         3.2217,  4.0974,  3.7817,  1.9841,  4.6551,  1.4242,  3.7242,  3.2534,\n",
      "         2.9234,  4.1915,  2.9085,  4.2804,  4.9537,  3.4712,  2.4159,  0.0266,\n",
      "         4.9717,  2.8496,  3.6282,  3.1190,  1.6407,  3.5557,  2.6922,  1.6698],\n",
      "       device='cuda:0'), tensor([ 4.0401,  3.9732,  3.4062,  1.8759,  2.7290,  3.1027,  4.3596,  1.5318,\n",
      "         1.5784,  1.9245,  1.5784,  2.2360,  0.8719,  3.5525,  3.2410,  1.5784,\n",
      "         1.3917,  3.2975,  2.6066,  3.2961,  4.5416,  1.5784,  4.4474,  0.4678,\n",
      "         3.3568,  5.2633,  1.7192,  4.1406,  1.7612,  1.4058,  3.2655,  3.9420,\n",
      "         1.7288,  0.9497,  2.9630,  4.2636,  4.2140,  3.7733,  4.6776,  3.2993,\n",
      "         4.3676,  2.3446,  1.5784,  1.5784,  4.3018,  2.1769,  2.9262,  1.5784,\n",
      "         2.8283,  1.1419,  5.3339,  1.9626,  2.9062,  3.7362,  1.5614,  4.4044,\n",
      "         2.6882,  4.3887,  3.7112,  1.9608,  1.6091,  2.7915,  4.6394,  1.2709,\n",
      "         1.4703,  3.4233,  1.5784,  3.0885,  3.0464,  2.8564,  1.5784,  3.1055,\n",
      "         1.5784,  4.8862,  1.8885,  1.6039,  0.9964,  3.2586,  2.9774,  3.9344,\n",
      "         4.8331,  2.6739,  5.2654,  3.8882,  1.1959,  4.4298,  3.8633,  1.6125,\n",
      "         4.0225,  3.3008,  4.8641,  3.4663,  3.3078,  1.4041,  2.8971,  4.9808,\n",
      "         1.4877,  3.3741,  2.0694,  4.1118,  3.0754,  3.3513,  1.9913,  3.4537,\n",
      "         2.8372,  3.5022,  2.7420,  3.4411,  4.4103,  3.9732,  3.1541,  5.0722,\n",
      "         3.0876,  4.2542,  2.3212,  4.6666,  4.7683,  2.9518,  1.5923,  2.3674,\n",
      "         5.2858,  0.5161,  1.5580,  3.9751,  3.4039,  3.0182,  1.5777,  4.2249,\n",
      "         0.8553,  3.5313,  3.7070,  1.1338,  4.1860,  1.4141,  3.1408,  2.0394,\n",
      "         1.5784,  3.9931,  3.3637,  4.5609,  5.2625,  1.4683,  1.5211,  5.1946,\n",
      "         4.9619,  2.2163,  1.6893,  1.5784,  0.8229,  0.7115,  3.7857,  2.1244,\n",
      "         3.2088,  1.7134,  3.4602,  4.8893,  3.3753,  2.2165,  4.9315,  2.3230,\n",
      "         4.2473,  2.0142,  2.1194,  1.7548,  4.0961,  2.6644,  3.9523,  3.6926,\n",
      "         1.8513,  2.4152,  4.8875,  1.4014,  2.5475,  4.0024,  3.1807,  4.8073,\n",
      "         4.2047,  1.2926,  1.3938,  1.4308,  1.5784,  3.7695,  4.5043,  3.1337,\n",
      "         3.3124,  4.3448,  5.8190,  1.8471,  1.5784,  1.3098,  3.9064,  3.5666,\n",
      "         2.1639,  2.1870,  1.1071,  1.8637,  4.3713,  3.6554,  1.5136,  2.2281,\n",
      "         3.8158,  4.0842,  4.8053,  2.5883,  2.3570,  3.9985,  2.3641,  3.4352,\n",
      "         1.8187,  4.3199,  1.8882,  3.2309,  5.5037,  4.8085,  5.0594,  1.3499,\n",
      "         2.4771,  3.3351,  3.2720,  2.6915,  2.7014,  3.8701,  0.6647,  1.5784,\n",
      "         3.9564,  4.1970,  2.0106,  1.5784,  4.1678,  5.9934,  4.1896,  2.0599,\n",
      "         4.0451,  1.5784,  4.1018,  3.9867,  1.5784,  4.8947,  1.4617,  4.3096,\n",
      "         1.5784,  1.8709,  5.2881,  1.5916,  1.3125,  3.6687,  3.9839,  3.3133,\n",
      "         2.0735,  1.9986,  2.7305,  4.4393,  2.5015,  4.9449,  3.3353,  4.0150,\n",
      "         4.5335,  1.5784,  4.7804,  2.3940,  3.0950,  2.9318,  3.5690,  1.6138,\n",
      "         4.3161,  3.2381,  2.3591,  3.0064,  3.5395,  3.2000,  3.5732,  2.7259,\n",
      "         4.7356,  4.0662,  2.9015,  3.4172,  3.6973,  4.0464,  4.1900,  5.4812,\n",
      "         1.1399,  2.4868,  3.4786,  1.3152,  3.7467,  3.2191,  2.3287,  2.1113,\n",
      "         2.8346,  3.1650,  4.2002,  1.5784,  2.8361,  3.3889,  3.9432,  3.4776,\n",
      "         5.0738,  4.2497,  1.6269,  2.0067,  0.4720,  3.9976,  4.3452,  1.5784,\n",
      "         3.7973,  1.5784,  3.6686,  1.7169,  1.5784,  2.3515,  2.1070,  4.1302,\n",
      "         4.1064,  4.1361,  1.5555,  4.7704,  2.4521,  4.3575,  3.7500,  4.5239,\n",
      "         2.2440,  3.5108,  3.7035,  4.9615,  1.5784, -0.0304,  5.2448,  3.5415,\n",
      "         4.8391,  4.2261,  2.9817,  2.3830,  4.1304,  2.0137,  3.4120,  3.9226,\n",
      "         2.9944,  1.4610,  3.9525,  3.2606,  4.2074,  1.5984,  0.9747,  2.6870,\n",
      "         4.8603,  2.1438,  4.7302,  2.5729,  1.5784,  1.7041,  3.8684,  1.8225,\n",
      "         4.4012,  3.0078,  0.6432,  2.4421,  1.5784,  3.3870,  2.2476,  4.3785,\n",
      "         4.3711,  3.4420,  1.7034,  4.3475,  3.5818,  1.9147,  1.1729,  4.6100,\n",
      "         3.9983,  3.1220,  3.7645,  3.9545,  1.5784,  1.8152,  3.1492,  2.8836,\n",
      "         4.1157,  5.0777,  2.2091,  3.8155,  1.5784,  0.9321,  1.5784,  2.5954,\n",
      "         2.4423,  1.2723,  4.0465,  3.9882,  1.9455,  1.9913,  2.9577,  3.1711,\n",
      "         3.0406,  2.9243,  2.6760,  2.0165,  3.5733,  2.5125,  2.1466,  4.6181,\n",
      "         1.5784,  3.4577,  1.5784,  4.0762,  4.7396,  2.9539,  3.9080,  3.3745,\n",
      "         3.2411,  4.1886,  2.8694,  0.6079,  3.1785,  2.3641,  3.8382,  1.6453,\n",
      "         4.8484,  4.4408,  0.9995,  4.2651,  4.9238,  1.5784,  2.7190,  2.1821,\n",
      "         1.6361,  1.5784,  3.5281,  1.9319,  2.0589,  2.8717,  3.1433,  3.4752,\n",
      "         4.3068,  2.2121,  4.1138,  3.9779,  4.5457,  1.0796,  3.6025,  2.8333,\n",
      "         3.5939,  3.8230,  1.5784,  4.2803,  1.5784,  5.1390,  2.1485,  2.7106,\n",
      "         2.6169,  2.3052,  4.3720,  1.6826,  3.2474,  0.6343,  2.5921,  2.3930,\n",
      "         2.2022,  3.6838,  1.9842,  2.4890,  2.4513,  3.6402,  1.5784,  2.3206,\n",
      "         1.0528,  3.2259,  3.5038,  4.0801,  3.2219,  2.9470,  2.7970,  0.6633,\n",
      "         1.6361,  2.4513,  2.9672,  1.4933,  2.8034,  2.8893,  3.6279,  3.9605,\n",
      "         3.7547,  4.8671,  1.0062,  3.9362,  3.9871,  4.3678,  2.1296,  5.1830,\n",
      "         1.7163,  1.1379,  1.4589,  3.0123,  2.8030,  2.7400,  3.4311,  4.8491,\n",
      "         1.5784,  5.2904,  1.8555,  3.6589,  4.7246,  4.7084,  3.3447,  0.0599,\n",
      "         4.6953,  2.8893,  3.4529,  1.8815,  1.3439,  1.9154,  4.4286,  3.7941],\n",
      "       device='cuda:0'), tensor([ 3.2509,  3.1382,  1.7448,  1.5784,  2.2849,  4.9634,  2.7455,  5.6637,\n",
      "         2.6432,  1.9980,  1.5784,  3.3051,  3.3045,  4.8339,  2.6876,  5.1752,\n",
      "         3.5540,  4.8685,  4.4985,  2.2029,  3.1526,  1.8297,  3.0138,  4.1197,\n",
      "         3.3036,  2.7388,  2.3929,  1.3778,  4.2466,  2.7228,  2.6705,  2.5242,\n",
      "         2.2701,  4.9471,  1.3732,  1.5784,  4.9366,  2.9037,  1.6291,  1.7689,\n",
      "         3.1376,  3.8111,  4.5321,  3.1581,  0.9645,  3.9509,  1.8974,  1.5784,\n",
      "         4.0025,  1.5784,  4.9716,  1.6399,  1.8491,  4.3736,  4.3618,  2.4631,\n",
      "         3.8563,  4.0475,  0.9363,  3.7603,  1.5601,  1.0876,  3.7368,  3.6326,\n",
      "         1.5247,  3.3286,  5.3614,  4.2282,  3.2047,  3.6166,  2.3289,  3.7913,\n",
      "         4.2986,  0.4148,  4.1826,  2.3369,  1.5784,  2.1015,  4.2943,  4.4401,\n",
      "         1.0382,  3.9776,  1.3687,  2.4626,  2.9934,  3.8354,  2.7537,  3.5159,\n",
      "         4.5268,  4.0546,  1.5784,  4.3836,  1.5784,  5.2327,  4.2625,  3.2065,\n",
      "         2.5317,  1.5984,  1.5784,  2.0937,  4.4665,  4.5164,  2.8326,  2.2864,\n",
      "         2.8772,  2.3855,  1.5784,  2.0386,  1.5784,  2.4637,  0.8892,  2.7798,\n",
      "         5.2348,  5.4570,  3.6797,  1.7273,  3.9419,  1.5784,  4.5986,  4.1639,\n",
      "         1.7212,  1.0479,  1.6981,  1.8832,  1.5638,  1.5784,  3.4385,  2.8283,\n",
      "         4.3438,  5.0677,  1.5578,  3.6538,  3.8787,  1.5784,  4.1204,  2.5883,\n",
      "         1.5784,  3.9543,  1.3109,  4.3595,  1.8820,  1.9038,  2.2232,  4.9527,\n",
      "         4.0701,  4.4992,  3.4070,  1.4018,  1.6981,  3.6096,  2.1549,  5.3693,\n",
      "         0.7227,  4.5889,  2.0369,  1.6335,  2.9993,  1.4962,  4.0436,  5.3642,\n",
      "         1.5784,  3.5540,  2.9565,  2.9787,  1.9262,  5.2296,  5.0610,  1.5391,\n",
      "         1.4459,  3.7483,  3.2178,  1.9456,  3.3118,  3.5181,  3.8426,  0.8027,\n",
      "         4.3732,  1.5784,  0.5257,  2.2880,  2.7719,  1.7924,  2.9003,  3.0135,\n",
      "         4.5753,  2.7944,  1.7775,  2.3332,  1.7637,  2.9477,  3.6591,  2.7532,\n",
      "         3.2158,  4.6630,  4.2146,  0.7662,  1.5784,  2.6582,  3.2963,  3.8990,\n",
      "         1.6861,  3.8079,  2.4090,  4.9330,  2.3723,  4.4465,  1.3974,  2.8627,\n",
      "         3.1254,  4.2720,  4.2265,  5.4444,  2.2184,  1.9642,  1.0839,  2.7609,\n",
      "         3.6162,  4.5710,  4.0246,  2.6828,  1.7398,  2.7415,  3.4391,  0.6265,\n",
      "         3.0960,  4.5118,  4.4335,  1.7349,  4.2770,  3.9328,  2.8397,  2.9525,\n",
      "         2.3411,  4.4246,  4.7037,  2.3772,  2.0147,  2.3341,  0.4220,  0.7848,\n",
      "         2.3518,  5.2105,  4.2382,  1.9725,  1.3827,  3.4863,  1.1102,  4.0651,\n",
      "         3.1521,  2.4857,  2.2471,  4.9026,  2.2037,  2.4999,  1.5784,  4.2564,\n",
      "         3.4968,  4.3212,  4.3075,  1.0100,  2.4701,  2.9711,  1.8297,  1.5784,\n",
      "         4.1037,  2.2350,  3.5546,  1.5784,  2.8912,  2.6622,  3.6121,  3.8370,\n",
      "         4.2864,  0.9436,  0.9991,  1.5784,  2.9826, -0.0465,  5.3219,  1.5784,\n",
      "         4.7849,  2.5169,  1.4844,  2.0434,  4.7587,  2.2184,  3.2415,  3.8594,\n",
      "         1.6955,  3.9228,  1.5784,  3.7121,  3.2205,  2.9906,  2.1462,  4.5032,\n",
      "         3.5083,  4.3289,  4.1768,  4.4755,  3.9397,  4.7145,  1.7416,  2.8625,\n",
      "         1.8933,  3.2457,  2.3354,  2.2648,  3.7260,  4.1888,  2.1489,  4.7324,\n",
      "         3.4590,  3.3060,  3.0601,  4.1610,  0.8019,  1.5046,  3.2291,  4.2912,\n",
      "         1.5784,  1.9609,  5.1824,  2.2290,  2.3983,  3.8611,  3.5126,  1.2609,\n",
      "         1.8053,  3.1917,  2.8686,  2.7193,  3.0507,  0.9811,  3.9905,  4.0258,\n",
      "         4.5843,  2.4028,  2.7156,  2.1773,  0.9322,  0.9042,  4.1720,  1.5784,\n",
      "         2.3407,  2.1629,  0.6146,  1.5784,  5.4195,  1.9095,  3.5651,  4.1577,\n",
      "         2.0418,  1.3661,  4.8195,  4.5555,  5.1235,  3.6237,  1.5784,  1.8965,\n",
      "         3.2182,  1.5784,  2.4701,  3.2306,  3.3512,  0.6062,  1.7619,  3.1479,\n",
      "         3.8482,  3.2659,  3.2846,  5.5699,  3.8624,  1.0656,  3.8219,  3.8548,\n",
      "         1.5784,  2.0950,  2.9506,  4.2279,  3.4817,  0.5279,  3.7378,  3.1870,\n",
      "         3.6855,  5.7301,  2.9128,  2.8220,  3.7175,  4.7692,  3.4588,  2.3741,\n",
      "         1.0587,  3.5670,  4.1472,  3.9598,  4.5706,  3.1668,  3.7134,  4.8727,\n",
      "         3.4933,  4.0328,  1.5784,  3.7201,  2.1005,  3.5375,  4.4529,  2.1145,\n",
      "         2.7601,  2.6405,  3.1708,  3.2581,  4.9865,  2.4899,  4.0233,  3.9394,\n",
      "         2.3337,  4.0949,  3.6792,  3.2275,  3.5792,  2.5128,  1.8636,  4.1399,\n",
      "         1.5784,  1.5784,  1.5784,  3.8725,  3.4538,  1.5784,  4.0508,  1.5890,\n",
      "         2.1545,  4.1627,  3.5907,  1.0503,  2.6082,  1.8646,  2.7528,  3.1690,\n",
      "         3.9371,  1.5784, -0.2990,  4.0408,  0.5664,  0.8990,  4.9461,  3.4085,\n",
      "         4.6134,  2.7684,  4.1460,  3.1223,  1.6739,  1.5784,  3.8332,  2.1602,\n",
      "         3.0977,  4.1200,  5.0534,  5.0121,  4.3596,  3.0664,  5.1469,  3.5534,\n",
      "         1.7491,  3.7166,  3.9244,  2.8444,  0.7857,  3.8019,  2.1472,  3.3669,\n",
      "         2.8327,  1.7588,  1.5784,  2.1721,  4.4491,  3.0965,  5.5207,  1.5350,\n",
      "         3.0223,  2.5591,  3.6253,  1.3917,  3.1968,  1.0460,  2.7334,  2.3726,\n",
      "         3.2785,  1.5784,  5.3881,  2.3274,  4.2478,  2.0445,  4.1228,  3.9810,\n",
      "         2.8686,  4.1206,  4.0119,  2.4739,  2.8943,  0.7327,  1.5784,  4.1677,\n",
      "         3.5852,  4.4555,  5.0004,  3.0262,  3.0085,  3.2917,  1.5784,  1.5784],\n",
      "       device='cuda:0'), tensor([ 2.9614,  1.5784,  4.1290, -0.1681,  3.5587,  4.9853,  4.1878,  3.2301,\n",
      "         4.1690,  4.4767,  3.6979,  2.4754,  3.6565,  3.6906,  5.1905,  4.4132,\n",
      "         2.6100,  4.9632,  3.3065,  1.3065,  2.2153,  2.9742,  4.8666,  3.4513,\n",
      "         2.9575,  5.3671,  2.0610,  3.6561,  1.7974,  2.8103,  3.9213,  2.0613,\n",
      "         4.8299,  1.8389,  4.0483,  1.4936,  1.0992,  1.8769,  2.2972,  4.9069,\n",
      "         2.3301,  5.2972,  3.0568,  3.3120,  1.6720,  0.1429,  2.1430,  4.1220,\n",
      "         4.0605,  1.5784,  4.1547,  4.5182,  5.1529,  3.6797,  4.6656,  2.8415,\n",
      "         1.5784,  3.8827,  4.0470,  2.9316,  2.6527,  4.4198,  1.9799,  0.8569,\n",
      "         2.7651,  2.4786,  4.1428,  3.7215,  2.6504,  2.2739,  2.4999,  5.0554,\n",
      "         2.7868,  2.2007,  4.2762,  3.0637,  4.4305,  3.2214,  0.8365,  1.7687,\n",
      "         4.4930,  3.8352,  3.2839,  1.5784,  1.9005,  2.0654,  2.4409,  0.8270,\n",
      "         1.3602,  3.4527,  2.1865,  1.9554,  3.1260,  3.6798,  1.4316,  3.4919,\n",
      "         2.2446,  4.3366,  4.8006,  2.1290,  2.5999,  1.5784,  3.2687,  4.2490,\n",
      "         3.6188,  1.4767,  2.0436,  2.2881,  3.9115,  2.9006,  3.6405,  2.8359,\n",
      "         2.9072,  1.9833,  3.3440,  1.9799,  4.0531,  1.5784,  2.9644,  3.3915,\n",
      "         3.6190,  3.8579,  1.2404,  4.9339,  4.2582,  1.2066,  3.0844,  1.5271,\n",
      "         1.5784,  3.8367,  3.3870,  5.0260,  2.5220,  1.5784,  1.5784,  3.8753,\n",
      "         3.1138,  3.9337,  5.0633,  4.1948,  3.6637,  1.5784,  3.3635,  1.8766,\n",
      "         1.3479,  2.1477,  1.5775,  4.1302,  3.0104,  3.1549,  3.5492,  5.1699,\n",
      "         2.2311,  1.5784,  3.0773,  4.0866,  3.3471,  3.5518,  2.7802,  2.9950,\n",
      "         4.0629,  5.0555,  3.9332,  2.2520,  2.2673,  2.1634,  2.5896,  2.3558,\n",
      "         1.5784,  0.8139,  2.3331,  3.2755,  3.5586,  3.3760,  3.9791,  3.8812,\n",
      "         4.5076,  3.1201,  4.6727,  1.5784,  3.7830,  3.7166,  4.2114,  2.9655,\n",
      "         5.6492,  2.7334,  1.9268,  2.4027,  5.0385,  1.5784,  2.6690,  3.8976,\n",
      "         5.1546,  0.9275,  2.3579,  3.6515,  1.5224,  4.5141,  3.0095,  2.9273,\n",
      "         3.1334,  4.5735,  3.4194,  1.5784,  1.0821,  3.1811,  1.2794,  1.4012,\n",
      "         4.2530,  1.9431,  4.1993,  1.7685,  3.5297,  3.9674,  1.5784,  2.0290,\n",
      "         4.5700,  4.8708,  2.2555,  1.4877,  1.8145,  1.6288,  4.1631,  3.8820,\n",
      "         3.9155,  1.5784,  3.6632,  1.9455,  2.5432,  2.1491,  4.6342,  2.0682,\n",
      "         1.5784,  4.3962,  1.7904,  1.5784,  2.2091,  4.5296,  4.2129,  2.3516,\n",
      "         3.2943,  2.3006,  1.6906,  2.5015,  1.5784,  1.5604,  1.2789,  1.5784,\n",
      "         0.4613,  4.4351,  5.2892,  2.8735,  1.5110,  4.3136,  1.5702,  4.2001,\n",
      "         3.4436,  4.6240,  1.3803,  3.4789,  2.3858,  2.1399,  2.7360,  2.0725,\n",
      "         2.6489,  3.4014,  2.2281,  5.0411,  4.8492,  2.2485,  4.5372,  3.4065,\n",
      "         1.5784,  2.5993,  1.5322,  5.0531,  1.7204,  1.6100,  3.8163,  0.5900,\n",
      "         2.4838,  2.6267,  4.9377,  4.0762,  3.8971,  1.5784,  4.0551,  4.5678,\n",
      "         4.7528,  2.8666,  2.6688,  1.5784,  3.3772,  2.7568,  2.3202,  3.7508,\n",
      "         1.5784,  4.4877,  2.7944,  5.1433,  3.7087,  1.0682,  2.8764,  1.1543,\n",
      "         1.5784,  1.5784,  1.2262,  3.9387,  4.0983,  4.1684,  1.5790,  3.4621,\n",
      "         3.4017,  2.4311,  1.1801,  4.9404,  1.6574,  4.1083,  1.5784,  2.8143,\n",
      "         1.2940,  3.5905,  4.4859,  2.2335,  2.4346,  2.1309,  1.5784,  1.8021,\n",
      "         3.0411,  1.7568,  2.2910,  2.3407,  4.9894,  3.4257,  2.6556,  1.7840,\n",
      "         0.4773,  2.5938,  3.0892,  4.0878,  2.7781,  2.9182,  3.3545,  1.2145,\n",
      "         1.8029,  1.2165,  3.9011,  1.3610,  5.0418,  2.5770,  5.3029,  2.1403,\n",
      "         3.6275,  1.1649,  4.2249,  1.0644,  1.6584,  1.2990,  4.9383,  2.4605,\n",
      "         4.6579,  4.0436,  1.4875,  2.6552,  3.2316,  2.8629,  1.3361,  1.0461,\n",
      "         0.1572,  2.2299,  4.5867,  1.5784,  2.5700,  3.4659,  0.6859,  3.8089,\n",
      "         4.5477,  2.5729,  2.9615,  4.6505,  1.4138,  1.6052,  1.6833,  2.1687,\n",
      "         3.4733,  1.6972,  1.4753,  1.5881,  3.0874,  3.6704,  4.5244,  3.8868,\n",
      "         1.5784,  1.5784,  4.6609,  3.5481,  2.6240,  1.5784,  3.0803,  3.1080,\n",
      "         1.9749,  1.5006,  0.5697,  2.3519,  3.4050,  3.2454,  5.0626,  4.8089,\n",
      "         1.1643,  4.0848,  2.9427,  4.1932,  1.5784,  3.6934,  4.0463,  5.0719,\n",
      "         1.4439,  2.8722,  3.7934,  2.0986,  3.5120,  3.8882,  2.7315,  2.8422,\n",
      "         4.7678,  3.7577,  4.1636,  1.6534,  1.9267,  2.9137,  2.5763,  1.5784,\n",
      "         1.5784,  1.5784,  3.8918,  3.7404,  0.8710,  3.0031,  4.0126,  4.2370,\n",
      "         1.7280,  2.2207,  0.9742,  2.4984,  3.6049,  3.9791,  5.2181,  1.4834,\n",
      "         3.3852,  3.6393,  3.9905,  3.1502,  3.2171,  3.5856,  4.4048,  2.2470,\n",
      "         1.7191,  4.9004,  5.4236,  2.4885,  3.2928,  1.5784,  2.9450,  3.4047,\n",
      "         3.2007,  0.7323,  1.6712,  2.2176,  2.1589,  1.1604,  3.5216,  3.3593,\n",
      "         2.8577,  3.7737,  2.4048,  2.1734,  4.1430,  4.8475,  2.5273,  3.5367,\n",
      "         4.2614,  4.2576,  2.5293,  1.7814,  3.0447,  4.1869,  4.4135,  1.9271,\n",
      "         4.0035,  3.5696,  5.6319,  1.6579,  3.0329,  2.6832,  3.4131,  4.1356,\n",
      "         1.1224,  1.8820,  3.2620,  1.1705,  0.8138,  1.5332,  4.7828,  2.9068,\n",
      "         2.5130,  1.2652,  3.9634,  5.5638,  2.6351,  1.2758,  3.9781,  2.5607],\n",
      "       device='cuda:0'), tensor([3.5594, 2.9525, 3.5520, 3.1485, 3.0425, 3.2348, 2.1601, 3.0968, 2.6914,\n",
      "        4.2590, 2.5057, 3.1517, 0.8085, 4.2540, 1.5784, 1.4014, 4.2195, 2.1961,\n",
      "        4.1837, 1.2163, 1.1284, 3.9866, 1.0100, 4.6943, 1.0697, 5.2541, 4.0056,\n",
      "        1.2676, 3.9443, 2.3334, 4.0718, 0.8899, 1.7053, 1.8303, 1.5784, 0.8636,\n",
      "        1.9487, 1.7157, 4.8815, 4.4176, 4.1225, 2.2405, 1.5784, 1.5784, 2.2806,\n",
      "        2.8354, 0.9462, 2.8220, 3.0292, 4.2196, 2.8484, 1.5784, 1.1280, 2.0087,\n",
      "        5.2340, 1.5784, 4.5890, 1.5784, 3.2916, 4.0274, 0.7824, 4.1128, 4.2179,\n",
      "        2.6076, 4.3044, 3.9220, 3.2392, 2.4205, 3.6688, 4.0915, 5.2378, 0.3066,\n",
      "        4.9749, 3.1300, 0.5072, 2.2827, 3.2693, 4.1781, 1.5784, 3.5126, 2.2864,\n",
      "        1.8529, 2.6658, 4.5439, 2.1958, 2.6911, 4.1862, 2.2982, 4.4859, 4.6471,\n",
      "        1.5784, 3.7841, 3.3139, 1.5327, 3.4481, 1.5820, 2.0111, 3.2488, 4.1166,\n",
      "        2.5596, 2.4367, 4.3250, 4.3168, 3.4766, 2.5213, 2.9037, 3.3313, 3.4071,\n",
      "        3.3307, 3.6133, 4.0626, 3.0587, 4.0172, 1.5784, 1.8342, 4.9361, 1.5974,\n",
      "        1.6363, 2.3332, 3.5689, 1.3520, 1.5784, 3.6744, 3.9491, 4.3697, 4.3201,\n",
      "        1.8649, 3.6297, 3.7096, 1.5496, 2.4604, 4.5237, 2.1183, 3.2188, 2.8049,\n",
      "        3.4214, 1.6314, 0.9435, 3.7096, 3.8930, 2.7037, 3.7078, 3.0055, 1.5784,\n",
      "        3.2847, 4.0436, 2.2605, 2.0052, 1.1017, 2.1745, 1.0386, 3.4039, 1.5784,\n",
      "        1.1894, 3.6400, 4.0934, 3.9590, 0.7914, 1.8788, 3.6951, 3.3616, 3.8194,\n",
      "        5.3873, 4.1552, 3.0444, 1.9535, 3.8376, 3.0253, 1.5784, 4.6663, 3.8590,\n",
      "        3.4436, 5.0579, 1.6727, 4.5736, 3.7150, 3.5701, 2.8793, 3.6833, 3.4505,\n",
      "        1.5784, 4.5127, 1.5486, 1.5784, 3.4247, 3.8031, 3.9550, 4.5340, 3.8755,\n",
      "        2.9987, 1.5784, 3.3952, 5.0270, 1.3134, 3.2806, 3.7554, 5.2139, 5.1051,\n",
      "        2.2923, 3.7025, 2.4404, 3.4518, 4.3811, 3.4872, 3.7889, 1.9230, 4.3810,\n",
      "        5.2216, 1.7885, 3.5918, 2.3447, 5.0183, 1.8923, 2.3362, 1.5784, 0.6298,\n",
      "        0.7323, 5.9881, 4.8323, 3.6924, 5.0581, 3.8702, 3.2474, 1.5784, 3.9279,\n",
      "        3.9337, 4.8943, 3.8596, 2.1367, 3.4407, 1.5342, 3.5880, 5.4279, 1.9798,\n",
      "        1.5784, 3.1481, 1.5784, 4.7105, 4.2327, 1.7351, 4.2594, 3.3809, 0.6846,\n",
      "        4.6972, 3.7677, 5.1879, 2.8856, 1.5784, 4.3614, 2.6477, 3.5520, 1.4791,\n",
      "        1.5784, 1.1625, 3.8180, 2.2923, 4.2681, 1.6505, 2.2487, 1.9495, 1.8046,\n",
      "        2.0147, 1.5784, 3.0938, 4.4064, 1.5784, 2.5974, 4.7182, 3.8084, 3.6356,\n",
      "        5.3686, 1.0768], device='cuda:0')]\n"
     ]
    }
   ],
   "source": [
    "print(valid_loss, outputs)"
   ]
  }
 ],
 "metadata": {
  "kernelspec": {
   "display_name": "Python 3 (ipykernel)",
   "language": "python",
   "name": "python3"
  },
  "language_info": {
   "codemirror_mode": {
    "name": "ipython",
    "version": 3
   },
   "file_extension": ".py",
   "mimetype": "text/x-python",
   "name": "python",
   "nbconvert_exporter": "python",
   "pygments_lexer": "ipython3",
   "version": "3.12.4"
  }
 },
 "nbformat": 4,
 "nbformat_minor": 5
}
