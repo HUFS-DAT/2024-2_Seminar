{
 "cells": [
  {
   "cell_type": "markdown",
   "id": "7efd4965",
   "metadata": {},
   "source": [
    "## 1차 과제 - 고객 유지/이탈 자유 분석\n",
    "- 주제: 가입 고객 이탈 데이터를 분석하여 기업에 인사이트 제공\n",
    "- 데이터: Customer Churn Data(train data가 따로 있으나 너무 커서 test data만 사용, 예측 성능 향상을 원한다면 train data 사용해도 무방)\n",
    "https://www.kaggle.com/datasets/muhammadshahidazeem/customer-churn-dataset?select=customer_churn_dataset-training-master.csv\n",
    "- 사용 라이브러리: 자유\n",
    "\n",
    "본 과제는 여러분들의 실력을 확인하고자 출제한 과제로 어떠한 가이드라인도 제공하거나 제약하지 않으며 자유롭게 분석하시면 됩니다.\n",
    "\n",
    "분석이나 예측 어느 쪽이든 상관없으며 몇가지 조건만 유의하여 주시기 바랍니다."
   ]
  },
  {
   "cell_type": "markdown",
   "id": "afecb645",
   "metadata": {},
   "source": [
    "### 조건\n",
    "1. 기본적인 분석 과정은 EDA(데이터 탐색) > 전처리 > 분석(예측) 진행 > 결과 해석 으로 진행되지만 약간의 수정 허용\n",
    "2. EDA 과정에서 최소 2개의 시각화 모형(그래프) 사용\n",
    "3. 분석 및 예측 시 최소 2개의 모형(모델) 사용\n",
    "4. 전처리는 자유롭게 진행하며 추가적인 데이터 사용이 필요하다면 허용"
   ]
  },
  {
   "cell_type": "code",
   "execution_count": 86,
   "id": "be407925",
   "metadata": {},
   "outputs": [],
   "source": [
    "import pandas as pd\n",
    "import numpy as np\n",
    "import matplotlib.pyplot as plt\n",
    "import seaborn as sns\n",
    "import statistics\n",
    "\n",
    "from sklearn.model_selection import train_test_split, cross_val_score, cross_validate\n",
    "from sklearn.linear_model import LogisticRegression\n",
    "from sklearn.ensemble import (RandomForestClassifier)\n",
    "from sklearn.metrics import roc_auc_score, RocCurveDisplay, roc_curve, auc\n",
    "from sklearn.preprocessing import StandardScaler\n",
    "from sklearn.preprocessing import LabelEncoder, OneHotEncoder\n",
    "from sklearn.metrics import roc_curve, classification_report"
   ]
  },
  {
   "cell_type": "code",
   "execution_count": 2,
   "id": "2e55383a-57b6-4bb5-b756-2f7dd30e6750",
   "metadata": {},
   "outputs": [],
   "source": [
    "# 한글 폰트 오류 해결\n",
    "from matplotlib import font_manager, rc\n",
    "font_path = \"C:/Windows/Fonts/malgun.ttf\" \n",
    "# 맑은 폰트\n",
    "\n",
    "font_name = font_manager.FontProperties(fname = font_path).get_name()\n",
    "rc(\"font\", family = font_name)"
   ]
  },
  {
   "cell_type": "markdown",
   "id": "4a069e96-5852-45c0-b0f2-4c815585ddc7",
   "metadata": {},
   "source": [
    "# 데이터 이해과정(EDA)"
   ]
  },
  {
   "cell_type": "code",
   "execution_count": 3,
   "id": "8401814c",
   "metadata": {},
   "outputs": [],
   "source": [
    "df = pd.read_csv(\"./data/customer_churn_dataset.csv\")"
   ]
  },
  {
   "cell_type": "code",
   "execution_count": 4,
   "id": "f701c689",
   "metadata": {},
   "outputs": [
    {
     "data": {
      "text/html": [
       "<div>\n",
       "<style scoped>\n",
       "    .dataframe tbody tr th:only-of-type {\n",
       "        vertical-align: middle;\n",
       "    }\n",
       "\n",
       "    .dataframe tbody tr th {\n",
       "        vertical-align: top;\n",
       "    }\n",
       "\n",
       "    .dataframe thead th {\n",
       "        text-align: right;\n",
       "    }\n",
       "</style>\n",
       "<table border=\"1\" class=\"dataframe\">\n",
       "  <thead>\n",
       "    <tr style=\"text-align: right;\">\n",
       "      <th></th>\n",
       "      <th>CustomerID</th>\n",
       "      <th>Age</th>\n",
       "      <th>Gender</th>\n",
       "      <th>Tenure</th>\n",
       "      <th>Usage Frequency</th>\n",
       "      <th>Support Calls</th>\n",
       "      <th>Payment Delay</th>\n",
       "      <th>Subscription Type</th>\n",
       "      <th>Contract Length</th>\n",
       "      <th>Total Spend</th>\n",
       "      <th>Last Interaction</th>\n",
       "      <th>Churn</th>\n",
       "    </tr>\n",
       "  </thead>\n",
       "  <tbody>\n",
       "    <tr>\n",
       "      <th>0</th>\n",
       "      <td>1</td>\n",
       "      <td>22</td>\n",
       "      <td>Female</td>\n",
       "      <td>25</td>\n",
       "      <td>14</td>\n",
       "      <td>4</td>\n",
       "      <td>27</td>\n",
       "      <td>Basic</td>\n",
       "      <td>Monthly</td>\n",
       "      <td>598</td>\n",
       "      <td>9</td>\n",
       "      <td>1</td>\n",
       "    </tr>\n",
       "    <tr>\n",
       "      <th>1</th>\n",
       "      <td>2</td>\n",
       "      <td>41</td>\n",
       "      <td>Female</td>\n",
       "      <td>28</td>\n",
       "      <td>28</td>\n",
       "      <td>7</td>\n",
       "      <td>13</td>\n",
       "      <td>Standard</td>\n",
       "      <td>Monthly</td>\n",
       "      <td>584</td>\n",
       "      <td>20</td>\n",
       "      <td>0</td>\n",
       "    </tr>\n",
       "    <tr>\n",
       "      <th>2</th>\n",
       "      <td>3</td>\n",
       "      <td>47</td>\n",
       "      <td>Male</td>\n",
       "      <td>27</td>\n",
       "      <td>10</td>\n",
       "      <td>2</td>\n",
       "      <td>29</td>\n",
       "      <td>Premium</td>\n",
       "      <td>Annual</td>\n",
       "      <td>757</td>\n",
       "      <td>21</td>\n",
       "      <td>0</td>\n",
       "    </tr>\n",
       "    <tr>\n",
       "      <th>3</th>\n",
       "      <td>4</td>\n",
       "      <td>35</td>\n",
       "      <td>Male</td>\n",
       "      <td>9</td>\n",
       "      <td>12</td>\n",
       "      <td>5</td>\n",
       "      <td>17</td>\n",
       "      <td>Premium</td>\n",
       "      <td>Quarterly</td>\n",
       "      <td>232</td>\n",
       "      <td>18</td>\n",
       "      <td>0</td>\n",
       "    </tr>\n",
       "    <tr>\n",
       "      <th>4</th>\n",
       "      <td>5</td>\n",
       "      <td>53</td>\n",
       "      <td>Female</td>\n",
       "      <td>58</td>\n",
       "      <td>24</td>\n",
       "      <td>9</td>\n",
       "      <td>2</td>\n",
       "      <td>Standard</td>\n",
       "      <td>Annual</td>\n",
       "      <td>533</td>\n",
       "      <td>18</td>\n",
       "      <td>0</td>\n",
       "    </tr>\n",
       "  </tbody>\n",
       "</table>\n",
       "</div>"
      ],
      "text/plain": [
       "   CustomerID  Age  Gender  Tenure  Usage Frequency  Support Calls  \\\n",
       "0           1   22  Female      25               14              4   \n",
       "1           2   41  Female      28               28              7   \n",
       "2           3   47    Male      27               10              2   \n",
       "3           4   35    Male       9               12              5   \n",
       "4           5   53  Female      58               24              9   \n",
       "\n",
       "   Payment Delay Subscription Type Contract Length  Total Spend  \\\n",
       "0             27             Basic         Monthly          598   \n",
       "1             13          Standard         Monthly          584   \n",
       "2             29           Premium          Annual          757   \n",
       "3             17           Premium       Quarterly          232   \n",
       "4              2          Standard          Annual          533   \n",
       "\n",
       "   Last Interaction  Churn  \n",
       "0                 9      1  \n",
       "1                20      0  \n",
       "2                21      0  \n",
       "3                18      0  \n",
       "4                18      0  "
      ]
     },
     "execution_count": 4,
     "metadata": {},
     "output_type": "execute_result"
    }
   ],
   "source": [
    "df.head()\n",
    "# Tenure: 가입 기간\n",
    "# Last interaction : 최종 전환 이전 고객과의 상호작용"
   ]
  },
  {
   "cell_type": "code",
   "execution_count": 5,
   "id": "7804015d",
   "metadata": {},
   "outputs": [
    {
     "data": {
      "text/plain": [
       "CustomerID            int64\n",
       "Age                   int64\n",
       "Gender               object\n",
       "Tenure                int64\n",
       "Usage Frequency       int64\n",
       "Support Calls         int64\n",
       "Payment Delay         int64\n",
       "Subscription Type    object\n",
       "Contract Length      object\n",
       "Total Spend           int64\n",
       "Last Interaction      int64\n",
       "Churn                 int64\n",
       "dtype: object"
      ]
     },
     "execution_count": 5,
     "metadata": {},
     "output_type": "execute_result"
    }
   ],
   "source": [
    "df.dtypes"
   ]
  },
  {
   "cell_type": "code",
   "execution_count": 6,
   "id": "ea5a2cc6",
   "metadata": {},
   "outputs": [
    {
     "name": "stdout",
     "output_type": "stream",
     "text": [
      "<class 'pandas.core.frame.DataFrame'>\n",
      "RangeIndex: 64374 entries, 0 to 64373\n",
      "Data columns (total 12 columns):\n",
      " #   Column             Non-Null Count  Dtype \n",
      "---  ------             --------------  ----- \n",
      " 0   CustomerID         64374 non-null  int64 \n",
      " 1   Age                64374 non-null  int64 \n",
      " 2   Gender             64374 non-null  object\n",
      " 3   Tenure             64374 non-null  int64 \n",
      " 4   Usage Frequency    64374 non-null  int64 \n",
      " 5   Support Calls      64374 non-null  int64 \n",
      " 6   Payment Delay      64374 non-null  int64 \n",
      " 7   Subscription Type  64374 non-null  object\n",
      " 8   Contract Length    64374 non-null  object\n",
      " 9   Total Spend        64374 non-null  int64 \n",
      " 10  Last Interaction   64374 non-null  int64 \n",
      " 11  Churn              64374 non-null  int64 \n",
      "dtypes: int64(9), object(3)\n",
      "memory usage: 5.9+ MB\n"
     ]
    }
   ],
   "source": [
    "# 결측치 확인\n",
    "df.info()"
   ]
  },
  {
   "cell_type": "code",
   "execution_count": 7,
   "id": "f6f1e342-9bd9-4e0d-b372-44340c42ffe5",
   "metadata": {},
   "outputs": [
    {
     "data": {
      "text/plain": [
       "CustomerID           0\n",
       "Age                  0\n",
       "Gender               0\n",
       "Tenure               0\n",
       "Usage Frequency      0\n",
       "Support Calls        0\n",
       "Payment Delay        0\n",
       "Subscription Type    0\n",
       "Contract Length      0\n",
       "Total Spend          0\n",
       "Last Interaction     0\n",
       "Churn                0\n",
       "dtype: int64"
      ]
     },
     "execution_count": 7,
     "metadata": {},
     "output_type": "execute_result"
    }
   ],
   "source": [
    "df.isnull().sum()"
   ]
  },
  {
   "cell_type": "code",
   "execution_count": 8,
   "id": "e77f88dd-94d1-4e23-be7c-f147dda5aced",
   "metadata": {},
   "outputs": [],
   "source": [
    "# 특정 컬럼 제외하고 값이 0인 것이 있을수도 있으므로 확인 필요\n",
    "check_zero = [\"Age\", \"Tenure\", \"Usage Frequency\", \"Support Calls\", \"Payment Delay\", \"Total Spend\", \"Last Interaction\"]\n",
    "zero = df[check_zero] == 0"
   ]
  },
  {
   "cell_type": "code",
   "execution_count": 9,
   "id": "db6ef7bd-9f97-4580-b011-6498d47c2f0b",
   "metadata": {},
   "outputs": [
    {
     "data": {
      "text/plain": [
       "Age                    0\n",
       "Tenure                 0\n",
       "Usage Frequency        0\n",
       "Support Calls       4967\n",
       "Payment Delay       1594\n",
       "Total Spend            0\n",
       "Last Interaction       0\n",
       "dtype: int64"
      ]
     },
     "execution_count": 9,
     "metadata": {},
     "output_type": "execute_result"
    }
   ],
   "source": [
    "zero.sum()"
   ]
  },
  {
   "cell_type": "markdown",
   "id": "9baec1c3-41c4-40e3-9a3d-eed9e2c77c3a",
   "metadata": {},
   "source": [
    "- 지원 전화 및 결제 지연같은 경우 0값도 당연히 존재\n",
    "- 나머지 나이나 유지 기간 및 비용에서 0은 없음을 확인"
   ]
  },
  {
   "cell_type": "code",
   "execution_count": 10,
   "id": "6f67197e-dd69-4b73-a942-9f9f68796a32",
   "metadata": {},
   "outputs": [
    {
     "data": {
      "text/html": [
       "<div>\n",
       "<style scoped>\n",
       "    .dataframe tbody tr th:only-of-type {\n",
       "        vertical-align: middle;\n",
       "    }\n",
       "\n",
       "    .dataframe tbody tr th {\n",
       "        vertical-align: top;\n",
       "    }\n",
       "\n",
       "    .dataframe thead th {\n",
       "        text-align: right;\n",
       "    }\n",
       "</style>\n",
       "<table border=\"1\" class=\"dataframe\">\n",
       "  <thead>\n",
       "    <tr style=\"text-align: right;\">\n",
       "      <th></th>\n",
       "      <th>CustomerID</th>\n",
       "      <th>Age</th>\n",
       "      <th>Tenure</th>\n",
       "      <th>Usage Frequency</th>\n",
       "      <th>Support Calls</th>\n",
       "      <th>Payment Delay</th>\n",
       "      <th>Total Spend</th>\n",
       "      <th>Last Interaction</th>\n",
       "      <th>Churn</th>\n",
       "    </tr>\n",
       "  </thead>\n",
       "  <tbody>\n",
       "    <tr>\n",
       "      <th>count</th>\n",
       "      <td>64374.000000</td>\n",
       "      <td>64374.000000</td>\n",
       "      <td>64374.000000</td>\n",
       "      <td>64374.000000</td>\n",
       "      <td>64374.000000</td>\n",
       "      <td>64374.000000</td>\n",
       "      <td>64374.000000</td>\n",
       "      <td>64374.000000</td>\n",
       "      <td>64374.000000</td>\n",
       "    </tr>\n",
       "    <tr>\n",
       "      <th>mean</th>\n",
       "      <td>32187.500000</td>\n",
       "      <td>41.970982</td>\n",
       "      <td>31.994827</td>\n",
       "      <td>15.080234</td>\n",
       "      <td>5.400690</td>\n",
       "      <td>17.133952</td>\n",
       "      <td>541.023379</td>\n",
       "      <td>15.498850</td>\n",
       "      <td>0.473685</td>\n",
       "    </tr>\n",
       "    <tr>\n",
       "      <th>std</th>\n",
       "      <td>18583.317451</td>\n",
       "      <td>13.924911</td>\n",
       "      <td>17.098234</td>\n",
       "      <td>8.816470</td>\n",
       "      <td>3.114005</td>\n",
       "      <td>8.852211</td>\n",
       "      <td>260.874809</td>\n",
       "      <td>8.638436</td>\n",
       "      <td>0.499311</td>\n",
       "    </tr>\n",
       "    <tr>\n",
       "      <th>min</th>\n",
       "      <td>1.000000</td>\n",
       "      <td>18.000000</td>\n",
       "      <td>1.000000</td>\n",
       "      <td>1.000000</td>\n",
       "      <td>0.000000</td>\n",
       "      <td>0.000000</td>\n",
       "      <td>100.000000</td>\n",
       "      <td>1.000000</td>\n",
       "      <td>0.000000</td>\n",
       "    </tr>\n",
       "    <tr>\n",
       "      <th>25%</th>\n",
       "      <td>16094.250000</td>\n",
       "      <td>30.000000</td>\n",
       "      <td>18.000000</td>\n",
       "      <td>7.000000</td>\n",
       "      <td>3.000000</td>\n",
       "      <td>10.000000</td>\n",
       "      <td>313.000000</td>\n",
       "      <td>8.000000</td>\n",
       "      <td>0.000000</td>\n",
       "    </tr>\n",
       "    <tr>\n",
       "      <th>50%</th>\n",
       "      <td>32187.500000</td>\n",
       "      <td>42.000000</td>\n",
       "      <td>33.000000</td>\n",
       "      <td>15.000000</td>\n",
       "      <td>6.000000</td>\n",
       "      <td>19.000000</td>\n",
       "      <td>534.000000</td>\n",
       "      <td>15.000000</td>\n",
       "      <td>0.000000</td>\n",
       "    </tr>\n",
       "    <tr>\n",
       "      <th>75%</th>\n",
       "      <td>48280.750000</td>\n",
       "      <td>54.000000</td>\n",
       "      <td>47.000000</td>\n",
       "      <td>23.000000</td>\n",
       "      <td>8.000000</td>\n",
       "      <td>25.000000</td>\n",
       "      <td>768.000000</td>\n",
       "      <td>23.000000</td>\n",
       "      <td>1.000000</td>\n",
       "    </tr>\n",
       "    <tr>\n",
       "      <th>max</th>\n",
       "      <td>64374.000000</td>\n",
       "      <td>65.000000</td>\n",
       "      <td>60.000000</td>\n",
       "      <td>30.000000</td>\n",
       "      <td>10.000000</td>\n",
       "      <td>30.000000</td>\n",
       "      <td>1000.000000</td>\n",
       "      <td>30.000000</td>\n",
       "      <td>1.000000</td>\n",
       "    </tr>\n",
       "  </tbody>\n",
       "</table>\n",
       "</div>"
      ],
      "text/plain": [
       "         CustomerID           Age        Tenure  Usage Frequency  \\\n",
       "count  64374.000000  64374.000000  64374.000000     64374.000000   \n",
       "mean   32187.500000     41.970982     31.994827        15.080234   \n",
       "std    18583.317451     13.924911     17.098234         8.816470   \n",
       "min        1.000000     18.000000      1.000000         1.000000   \n",
       "25%    16094.250000     30.000000     18.000000         7.000000   \n",
       "50%    32187.500000     42.000000     33.000000        15.000000   \n",
       "75%    48280.750000     54.000000     47.000000        23.000000   \n",
       "max    64374.000000     65.000000     60.000000        30.000000   \n",
       "\n",
       "       Support Calls  Payment Delay   Total Spend  Last Interaction  \\\n",
       "count   64374.000000   64374.000000  64374.000000      64374.000000   \n",
       "mean        5.400690      17.133952    541.023379         15.498850   \n",
       "std         3.114005       8.852211    260.874809          8.638436   \n",
       "min         0.000000       0.000000    100.000000          1.000000   \n",
       "25%         3.000000      10.000000    313.000000          8.000000   \n",
       "50%         6.000000      19.000000    534.000000         15.000000   \n",
       "75%         8.000000      25.000000    768.000000         23.000000   \n",
       "max        10.000000      30.000000   1000.000000         30.000000   \n",
       "\n",
       "              Churn  \n",
       "count  64374.000000  \n",
       "mean       0.473685  \n",
       "std        0.499311  \n",
       "min        0.000000  \n",
       "25%        0.000000  \n",
       "50%        0.000000  \n",
       "75%        1.000000  \n",
       "max        1.000000  "
      ]
     },
     "execution_count": 10,
     "metadata": {},
     "output_type": "execute_result"
    }
   ],
   "source": [
    "# 빠르게 churn데이터 확인해 보기\n",
    "df.describe()"
   ]
  },
  {
   "cell_type": "code",
   "execution_count": 11,
   "id": "9f7ef38c-8c09-41a2-9c2b-bfa1e2da5798",
   "metadata": {},
   "outputs": [
    {
     "data": {
      "text/plain": [
       "Subscription Type\n",
       "Standard    21502\n",
       "Basic       21451\n",
       "Premium     21421\n",
       "Name: count, dtype: int64"
      ]
     },
     "execution_count": 11,
     "metadata": {},
     "output_type": "execute_result"
    }
   ],
   "source": [
    "df[\"Subscription Type\"].value_counts()"
   ]
  },
  {
   "cell_type": "code",
   "execution_count": 12,
   "id": "193e0d05-5e11-4b7f-9160-22c8400125c7",
   "metadata": {},
   "outputs": [
    {
     "data": {
      "text/plain": [
       "Contract Length\n",
       "Monthly      22130\n",
       "Annual       21410\n",
       "Quarterly    20834\n",
       "Name: count, dtype: int64"
      ]
     },
     "execution_count": 12,
     "metadata": {},
     "output_type": "execute_result"
    }
   ],
   "source": [
    "df[\"Contract Length\"].value_counts()"
   ]
  },
  {
   "cell_type": "code",
   "execution_count": 13,
   "id": "88cd6f57-3d46-48c7-8ef8-0e85204f5284",
   "metadata": {},
   "outputs": [
    {
     "data": {
      "text/plain": [
       "Churn\n",
       "0    33881\n",
       "1    30493\n",
       "Name: count, dtype: int64"
      ]
     },
     "execution_count": 13,
     "metadata": {},
     "output_type": "execute_result"
    }
   ],
   "source": [
    "df[\"Churn\"].value_counts()"
   ]
  },
  {
   "cell_type": "code",
   "execution_count": 14,
   "id": "bc8732c8-de8e-43f0-a7bf-0ff6f3064261",
   "metadata": {},
   "outputs": [
    {
     "data": {
      "text/plain": [
       "Gender\n",
       "Female    34353\n",
       "Male      30021\n",
       "Name: count, dtype: int64"
      ]
     },
     "execution_count": 14,
     "metadata": {},
     "output_type": "execute_result"
    }
   ],
   "source": [
    "df[\"Gender\"].value_counts()"
   ]
  },
  {
   "cell_type": "code",
   "execution_count": 15,
   "id": "b6a162d6-5cec-426c-90be-10907fc9e562",
   "metadata": {},
   "outputs": [],
   "source": [
    "# Gender, Subscription Type, Contract Length\n",
    "# LabelEncoding 진행하기\n",
    "\n",
    "le = LabelEncoder()"
   ]
  },
  {
   "cell_type": "markdown",
   "id": "04bc0a61-29d6-4f25-9b6b-6955d2d18a39",
   "metadata": {},
   "source": [
    "- 라벨인코딩의 경우 범주형 변수를 숫자 크기로 인해 오해하는 경우가 발생할 수 있음\n",
    "  - 라벨 인코딩으로 로지스틱 회귀를 먼저 진행해 보되, 성능이 떨어진다고 판단되면 원핫인코딩으로 진행할 필요가 있음"
   ]
  },
  {
   "cell_type": "code",
   "execution_count": 16,
   "id": "3b0fa106-edcc-48b3-9eb2-d3e0b3130ee5",
   "metadata": {},
   "outputs": [],
   "source": [
    "df[\"Gender\"] = le.fit_transform(df[\"Gender\"])\n",
    "df[\"Subscription Type\"] = le.fit_transform(df[\"Subscription Type\"])\n",
    "df[\"Contract Length\"] = le.fit_transform(df[\"Contract Length\"])"
   ]
  },
  {
   "cell_type": "code",
   "execution_count": 17,
   "id": "43ae71ba-5727-46d4-b105-853c978a0835",
   "metadata": {},
   "outputs": [
    {
     "data": {
      "text/html": [
       "<div>\n",
       "<style scoped>\n",
       "    .dataframe tbody tr th:only-of-type {\n",
       "        vertical-align: middle;\n",
       "    }\n",
       "\n",
       "    .dataframe tbody tr th {\n",
       "        vertical-align: top;\n",
       "    }\n",
       "\n",
       "    .dataframe thead th {\n",
       "        text-align: right;\n",
       "    }\n",
       "</style>\n",
       "<table border=\"1\" class=\"dataframe\">\n",
       "  <thead>\n",
       "    <tr style=\"text-align: right;\">\n",
       "      <th></th>\n",
       "      <th>CustomerID</th>\n",
       "      <th>Age</th>\n",
       "      <th>Gender</th>\n",
       "      <th>Tenure</th>\n",
       "      <th>Usage Frequency</th>\n",
       "      <th>Support Calls</th>\n",
       "      <th>Payment Delay</th>\n",
       "      <th>Subscription Type</th>\n",
       "      <th>Contract Length</th>\n",
       "      <th>Total Spend</th>\n",
       "      <th>Last Interaction</th>\n",
       "      <th>Churn</th>\n",
       "    </tr>\n",
       "  </thead>\n",
       "  <tbody>\n",
       "    <tr>\n",
       "      <th>0</th>\n",
       "      <td>1</td>\n",
       "      <td>22</td>\n",
       "      <td>0</td>\n",
       "      <td>25</td>\n",
       "      <td>14</td>\n",
       "      <td>4</td>\n",
       "      <td>27</td>\n",
       "      <td>0</td>\n",
       "      <td>1</td>\n",
       "      <td>598</td>\n",
       "      <td>9</td>\n",
       "      <td>1</td>\n",
       "    </tr>\n",
       "    <tr>\n",
       "      <th>1</th>\n",
       "      <td>2</td>\n",
       "      <td>41</td>\n",
       "      <td>0</td>\n",
       "      <td>28</td>\n",
       "      <td>28</td>\n",
       "      <td>7</td>\n",
       "      <td>13</td>\n",
       "      <td>2</td>\n",
       "      <td>1</td>\n",
       "      <td>584</td>\n",
       "      <td>20</td>\n",
       "      <td>0</td>\n",
       "    </tr>\n",
       "    <tr>\n",
       "      <th>2</th>\n",
       "      <td>3</td>\n",
       "      <td>47</td>\n",
       "      <td>1</td>\n",
       "      <td>27</td>\n",
       "      <td>10</td>\n",
       "      <td>2</td>\n",
       "      <td>29</td>\n",
       "      <td>1</td>\n",
       "      <td>0</td>\n",
       "      <td>757</td>\n",
       "      <td>21</td>\n",
       "      <td>0</td>\n",
       "    </tr>\n",
       "    <tr>\n",
       "      <th>3</th>\n",
       "      <td>4</td>\n",
       "      <td>35</td>\n",
       "      <td>1</td>\n",
       "      <td>9</td>\n",
       "      <td>12</td>\n",
       "      <td>5</td>\n",
       "      <td>17</td>\n",
       "      <td>1</td>\n",
       "      <td>2</td>\n",
       "      <td>232</td>\n",
       "      <td>18</td>\n",
       "      <td>0</td>\n",
       "    </tr>\n",
       "    <tr>\n",
       "      <th>4</th>\n",
       "      <td>5</td>\n",
       "      <td>53</td>\n",
       "      <td>0</td>\n",
       "      <td>58</td>\n",
       "      <td>24</td>\n",
       "      <td>9</td>\n",
       "      <td>2</td>\n",
       "      <td>2</td>\n",
       "      <td>0</td>\n",
       "      <td>533</td>\n",
       "      <td>18</td>\n",
       "      <td>0</td>\n",
       "    </tr>\n",
       "  </tbody>\n",
       "</table>\n",
       "</div>"
      ],
      "text/plain": [
       "   CustomerID  Age  Gender  Tenure  Usage Frequency  Support Calls  \\\n",
       "0           1   22       0      25               14              4   \n",
       "1           2   41       0      28               28              7   \n",
       "2           3   47       1      27               10              2   \n",
       "3           4   35       1       9               12              5   \n",
       "4           5   53       0      58               24              9   \n",
       "\n",
       "   Payment Delay  Subscription Type  Contract Length  Total Spend  \\\n",
       "0             27                  0                1          598   \n",
       "1             13                  2                1          584   \n",
       "2             29                  1                0          757   \n",
       "3             17                  1                2          232   \n",
       "4              2                  2                0          533   \n",
       "\n",
       "   Last Interaction  Churn  \n",
       "0                 9      1  \n",
       "1                20      0  \n",
       "2                21      0  \n",
       "3                18      0  \n",
       "4                18      0  "
      ]
     },
     "execution_count": 17,
     "metadata": {},
     "output_type": "execute_result"
    }
   ],
   "source": [
    "df.head()"
   ]
  },
  {
   "cell_type": "markdown",
   "id": "f7f936a8-e13a-45f3-afb7-c4957ed57562",
   "metadata": {},
   "source": [
    "- Gender 컬럼\n",
    "  - 여자는 0\n",
    "  - 남자는 1\n",
    "\n",
    "- Subscription Type 컬럼\n",
    "  - Basic은 0\n",
    "  - Standard는 1\n",
    "  - Premium은 2\n",
    "\n",
    "- Contract Length 컬럼\n",
    "  - Annual은 0\n",
    "  - Monthly는 1\n",
    "  - Quaterly는 2"
   ]
  },
  {
   "cell_type": "markdown",
   "id": "07adf5ff-2adb-4730-b5ef-90969653fad5",
   "metadata": {},
   "source": [
    "## EDA과정 중 데이터 시각화"
   ]
  },
  {
   "cell_type": "code",
   "execution_count": 18,
   "id": "9ddd80ba-77d3-4883-9457-71952fba5941",
   "metadata": {},
   "outputs": [
    {
     "data": {
      "text/html": [
       "<div>\n",
       "<style scoped>\n",
       "    .dataframe tbody tr th:only-of-type {\n",
       "        vertical-align: middle;\n",
       "    }\n",
       "\n",
       "    .dataframe tbody tr th {\n",
       "        vertical-align: top;\n",
       "    }\n",
       "\n",
       "    .dataframe thead th {\n",
       "        text-align: right;\n",
       "    }\n",
       "</style>\n",
       "<table border=\"1\" class=\"dataframe\">\n",
       "  <thead>\n",
       "    <tr style=\"text-align: right;\">\n",
       "      <th></th>\n",
       "      <th>Age</th>\n",
       "      <th>Gender</th>\n",
       "      <th>Tenure</th>\n",
       "      <th>Usage Frequency</th>\n",
       "      <th>Support Calls</th>\n",
       "      <th>Payment Delay</th>\n",
       "      <th>Subscription Type</th>\n",
       "      <th>Contract Length</th>\n",
       "      <th>Total Spend</th>\n",
       "      <th>Last Interaction</th>\n",
       "      <th>Churn</th>\n",
       "    </tr>\n",
       "  </thead>\n",
       "  <tbody>\n",
       "    <tr>\n",
       "      <th>0</th>\n",
       "      <td>22</td>\n",
       "      <td>0</td>\n",
       "      <td>25</td>\n",
       "      <td>14</td>\n",
       "      <td>4</td>\n",
       "      <td>27</td>\n",
       "      <td>0</td>\n",
       "      <td>1</td>\n",
       "      <td>598</td>\n",
       "      <td>9</td>\n",
       "      <td>1</td>\n",
       "    </tr>\n",
       "    <tr>\n",
       "      <th>1</th>\n",
       "      <td>41</td>\n",
       "      <td>0</td>\n",
       "      <td>28</td>\n",
       "      <td>28</td>\n",
       "      <td>7</td>\n",
       "      <td>13</td>\n",
       "      <td>2</td>\n",
       "      <td>1</td>\n",
       "      <td>584</td>\n",
       "      <td>20</td>\n",
       "      <td>0</td>\n",
       "    </tr>\n",
       "    <tr>\n",
       "      <th>2</th>\n",
       "      <td>47</td>\n",
       "      <td>1</td>\n",
       "      <td>27</td>\n",
       "      <td>10</td>\n",
       "      <td>2</td>\n",
       "      <td>29</td>\n",
       "      <td>1</td>\n",
       "      <td>0</td>\n",
       "      <td>757</td>\n",
       "      <td>21</td>\n",
       "      <td>0</td>\n",
       "    </tr>\n",
       "    <tr>\n",
       "      <th>3</th>\n",
       "      <td>35</td>\n",
       "      <td>1</td>\n",
       "      <td>9</td>\n",
       "      <td>12</td>\n",
       "      <td>5</td>\n",
       "      <td>17</td>\n",
       "      <td>1</td>\n",
       "      <td>2</td>\n",
       "      <td>232</td>\n",
       "      <td>18</td>\n",
       "      <td>0</td>\n",
       "    </tr>\n",
       "    <tr>\n",
       "      <th>4</th>\n",
       "      <td>53</td>\n",
       "      <td>0</td>\n",
       "      <td>58</td>\n",
       "      <td>24</td>\n",
       "      <td>9</td>\n",
       "      <td>2</td>\n",
       "      <td>2</td>\n",
       "      <td>0</td>\n",
       "      <td>533</td>\n",
       "      <td>18</td>\n",
       "      <td>0</td>\n",
       "    </tr>\n",
       "  </tbody>\n",
       "</table>\n",
       "</div>"
      ],
      "text/plain": [
       "   Age  Gender  Tenure  Usage Frequency  Support Calls  Payment Delay  \\\n",
       "0   22       0      25               14              4             27   \n",
       "1   41       0      28               28              7             13   \n",
       "2   47       1      27               10              2             29   \n",
       "3   35       1       9               12              5             17   \n",
       "4   53       0      58               24              9              2   \n",
       "\n",
       "   Subscription Type  Contract Length  Total Spend  Last Interaction  Churn  \n",
       "0                  0                1          598                 9      1  \n",
       "1                  2                1          584                20      0  \n",
       "2                  1                0          757                21      0  \n",
       "3                  1                2          232                18      0  \n",
       "4                  2                0          533                18      0  "
      ]
     },
     "execution_count": 18,
     "metadata": {},
     "output_type": "execute_result"
    }
   ],
   "source": [
    "df = df.drop(\"CustomerID\", axis =1)\n",
    "df.head()"
   ]
  },
  {
   "cell_type": "code",
   "execution_count": 53,
   "id": "e0edc758-9349-4afb-86be-d9fc506fd326",
   "metadata": {},
   "outputs": [
    {
     "data": {
      "image/png": "[encoded data removed]",
      "text/plain": [
       "<Figure size 1600x1200 with 11 Axes>"
      ]
     },
     "metadata": {},
     "output_type": "display_data"
    }
   ],
   "source": [
    "# 데이터 시각화 - 히스토그램\n",
    "fig = plt.figure(figsize = (16,12))\n",
    "\n",
    "for i in range(len(df.columns)):\n",
    "    ax = fig.add_subplot(3, 4, i+1)\n",
    "    plt.hist(df[df.columns[i]], bins = 50, color=\"pink\", edgecolor = \"black\", linewidth = 0.14)\n",
    "    ax.set_title(df.columns[i])\n",
    "\n",
    "plt.tight_layout()\n",
    "plt.show()"
   ]
  },
  {
   "cell_type": "code",
   "execution_count": 25,
   "id": "e10b1d62-d80d-49ad-bdf1-7fe4b4d87993",
   "metadata": {},
   "outputs": [
    {
     "data": {
      "text/html": [
       "<div>\n",
       "<style scoped>\n",
       "    .dataframe tbody tr th:only-of-type {\n",
       "        vertical-align: middle;\n",
       "    }\n",
       "\n",
       "    .dataframe tbody tr th {\n",
       "        vertical-align: top;\n",
       "    }\n",
       "\n",
       "    .dataframe thead th {\n",
       "        text-align: right;\n",
       "    }\n",
       "</style>\n",
       "<table border=\"1\" class=\"dataframe\">\n",
       "  <thead>\n",
       "    <tr style=\"text-align: right;\">\n",
       "      <th></th>\n",
       "      <th>Age</th>\n",
       "      <th>Gender</th>\n",
       "      <th>Tenure</th>\n",
       "      <th>Usage Frequency</th>\n",
       "      <th>Support Calls</th>\n",
       "      <th>Payment Delay</th>\n",
       "      <th>Subscription Type</th>\n",
       "      <th>Contract Length</th>\n",
       "      <th>Total Spend</th>\n",
       "      <th>Last Interaction</th>\n",
       "      <th>Churn</th>\n",
       "    </tr>\n",
       "  </thead>\n",
       "  <tbody>\n",
       "    <tr>\n",
       "      <th>Age</th>\n",
       "      <td>1.000000</td>\n",
       "      <td>0.001800</td>\n",
       "      <td>-0.007763</td>\n",
       "      <td>-0.038331</td>\n",
       "      <td>0.005014</td>\n",
       "      <td>-0.016132</td>\n",
       "      <td>0.004472</td>\n",
       "      <td>0.000093</td>\n",
       "      <td>0.006490</td>\n",
       "      <td>-0.000148</td>\n",
       "      <td>0.063457</td>\n",
       "    </tr>\n",
       "    <tr>\n",
       "      <th>Gender</th>\n",
       "      <td>0.001800</td>\n",
       "      <td>1.000000</td>\n",
       "      <td>0.029418</td>\n",
       "      <td>-0.006907</td>\n",
       "      <td>0.035418</td>\n",
       "      <td>-0.058578</td>\n",
       "      <td>0.006374</td>\n",
       "      <td>-0.008933</td>\n",
       "      <td>0.029337</td>\n",
       "      <td>-0.000472</td>\n",
       "      <td>-0.164549</td>\n",
       "    </tr>\n",
       "    <tr>\n",
       "      <th>Tenure</th>\n",
       "      <td>-0.007763</td>\n",
       "      <td>0.029418</td>\n",
       "      <td>1.000000</td>\n",
       "      <td>0.023485</td>\n",
       "      <td>0.060065</td>\n",
       "      <td>0.055963</td>\n",
       "      <td>0.004202</td>\n",
       "      <td>0.000730</td>\n",
       "      <td>0.009474</td>\n",
       "      <td>0.005770</td>\n",
       "      <td>0.195327</td>\n",
       "    </tr>\n",
       "    <tr>\n",
       "      <th>Usage Frequency</th>\n",
       "      <td>-0.038331</td>\n",
       "      <td>-0.006907</td>\n",
       "      <td>0.023485</td>\n",
       "      <td>1.000000</td>\n",
       "      <td>-0.014072</td>\n",
       "      <td>0.031132</td>\n",
       "      <td>-0.000649</td>\n",
       "      <td>0.011288</td>\n",
       "      <td>0.001527</td>\n",
       "      <td>-0.009192</td>\n",
       "      <td>-0.115098</td>\n",
       "    </tr>\n",
       "    <tr>\n",
       "      <th>Support Calls</th>\n",
       "      <td>0.005014</td>\n",
       "      <td>0.035418</td>\n",
       "      <td>0.060065</td>\n",
       "      <td>-0.014072</td>\n",
       "      <td>1.000000</td>\n",
       "      <td>0.064298</td>\n",
       "      <td>-0.003178</td>\n",
       "      <td>-0.003080</td>\n",
       "      <td>0.021750</td>\n",
       "      <td>0.001666</td>\n",
       "      <td>0.304631</td>\n",
       "    </tr>\n",
       "    <tr>\n",
       "      <th>Payment Delay</th>\n",
       "      <td>-0.016132</td>\n",
       "      <td>-0.058578</td>\n",
       "      <td>0.055963</td>\n",
       "      <td>0.031132</td>\n",
       "      <td>0.064298</td>\n",
       "      <td>1.000000</td>\n",
       "      <td>-0.001510</td>\n",
       "      <td>0.001937</td>\n",
       "      <td>-0.031119</td>\n",
       "      <td>-0.008076</td>\n",
       "      <td>0.557386</td>\n",
       "    </tr>\n",
       "    <tr>\n",
       "      <th>Subscription Type</th>\n",
       "      <td>0.004472</td>\n",
       "      <td>0.006374</td>\n",
       "      <td>0.004202</td>\n",
       "      <td>-0.000649</td>\n",
       "      <td>-0.003178</td>\n",
       "      <td>-0.001510</td>\n",
       "      <td>1.000000</td>\n",
       "      <td>-0.000036</td>\n",
       "      <td>-0.003636</td>\n",
       "      <td>-0.002227</td>\n",
       "      <td>-0.007738</td>\n",
       "    </tr>\n",
       "    <tr>\n",
       "      <th>Contract Length</th>\n",
       "      <td>0.000093</td>\n",
       "      <td>-0.008933</td>\n",
       "      <td>0.000730</td>\n",
       "      <td>0.011288</td>\n",
       "      <td>-0.003080</td>\n",
       "      <td>0.001937</td>\n",
       "      <td>-0.000036</td>\n",
       "      <td>1.000000</td>\n",
       "      <td>0.006638</td>\n",
       "      <td>0.003859</td>\n",
       "      <td>-0.017098</td>\n",
       "    </tr>\n",
       "    <tr>\n",
       "      <th>Total Spend</th>\n",
       "      <td>0.006490</td>\n",
       "      <td>0.029337</td>\n",
       "      <td>0.009474</td>\n",
       "      <td>0.001527</td>\n",
       "      <td>0.021750</td>\n",
       "      <td>-0.031119</td>\n",
       "      <td>-0.003636</td>\n",
       "      <td>0.006638</td>\n",
       "      <td>1.000000</td>\n",
       "      <td>-0.007692</td>\n",
       "      <td>-0.078867</td>\n",
       "    </tr>\n",
       "    <tr>\n",
       "      <th>Last Interaction</th>\n",
       "      <td>-0.000148</td>\n",
       "      <td>-0.000472</td>\n",
       "      <td>0.005770</td>\n",
       "      <td>-0.009192</td>\n",
       "      <td>0.001666</td>\n",
       "      <td>-0.008076</td>\n",
       "      <td>-0.002227</td>\n",
       "      <td>0.003859</td>\n",
       "      <td>-0.007692</td>\n",
       "      <td>1.000000</td>\n",
       "      <td>-0.002818</td>\n",
       "    </tr>\n",
       "    <tr>\n",
       "      <th>Churn</th>\n",
       "      <td>0.063457</td>\n",
       "      <td>-0.164549</td>\n",
       "      <td>0.195327</td>\n",
       "      <td>-0.115098</td>\n",
       "      <td>0.304631</td>\n",
       "      <td>0.557386</td>\n",
       "      <td>-0.007738</td>\n",
       "      <td>-0.017098</td>\n",
       "      <td>-0.078867</td>\n",
       "      <td>-0.002818</td>\n",
       "      <td>1.000000</td>\n",
       "    </tr>\n",
       "  </tbody>\n",
       "</table>\n",
       "</div>"
      ],
      "text/plain": [
       "                        Age    Gender    Tenure  Usage Frequency  \\\n",
       "Age                1.000000  0.001800 -0.007763        -0.038331   \n",
       "Gender             0.001800  1.000000  0.029418        -0.006907   \n",
       "Tenure            -0.007763  0.029418  1.000000         0.023485   \n",
       "Usage Frequency   -0.038331 -0.006907  0.023485         1.000000   \n",
       "Support Calls      0.005014  0.035418  0.060065        -0.014072   \n",
       "Payment Delay     -0.016132 -0.058578  0.055963         0.031132   \n",
       "Subscription Type  0.004472  0.006374  0.004202        -0.000649   \n",
       "Contract Length    0.000093 -0.008933  0.000730         0.011288   \n",
       "Total Spend        0.006490  0.029337  0.009474         0.001527   \n",
       "Last Interaction  -0.000148 -0.000472  0.005770        -0.009192   \n",
       "Churn              0.063457 -0.164549  0.195327        -0.115098   \n",
       "\n",
       "                   Support Calls  Payment Delay  Subscription Type  \\\n",
       "Age                     0.005014      -0.016132           0.004472   \n",
       "Gender                  0.035418      -0.058578           0.006374   \n",
       "Tenure                  0.060065       0.055963           0.004202   \n",
       "Usage Frequency        -0.014072       0.031132          -0.000649   \n",
       "Support Calls           1.000000       0.064298          -0.003178   \n",
       "Payment Delay           0.064298       1.000000          -0.001510   \n",
       "Subscription Type      -0.003178      -0.001510           1.000000   \n",
       "Contract Length        -0.003080       0.001937          -0.000036   \n",
       "Total Spend             0.021750      -0.031119          -0.003636   \n",
       "Last Interaction        0.001666      -0.008076          -0.002227   \n",
       "Churn                   0.304631       0.557386          -0.007738   \n",
       "\n",
       "                   Contract Length  Total Spend  Last Interaction     Churn  \n",
       "Age                       0.000093     0.006490         -0.000148  0.063457  \n",
       "Gender                   -0.008933     0.029337         -0.000472 -0.164549  \n",
       "Tenure                    0.000730     0.009474          0.005770  0.195327  \n",
       "Usage Frequency           0.011288     0.001527         -0.009192 -0.115098  \n",
       "Support Calls            -0.003080     0.021750          0.001666  0.304631  \n",
       "Payment Delay             0.001937    -0.031119         -0.008076  0.557386  \n",
       "Subscription Type        -0.000036    -0.003636         -0.002227 -0.007738  \n",
       "Contract Length           1.000000     0.006638          0.003859 -0.017098  \n",
       "Total Spend               0.006638     1.000000         -0.007692 -0.078867  \n",
       "Last Interaction          0.003859    -0.007692          1.000000 -0.002818  \n",
       "Churn                    -0.017098    -0.078867         -0.002818  1.000000  "
      ]
     },
     "execution_count": 25,
     "metadata": {},
     "output_type": "execute_result"
    }
   ],
   "source": [
    "# 각 변수들간의 상관관계 확인하기\n",
    "cor_cols = df.columns[:]\n",
    "df_corr = df[cor_cols].corr()\n",
    "df_corr"
   ]
  },
  {
   "cell_type": "markdown",
   "id": "eddf3939-8fa2-4ce5-9898-a59f639c760b",
   "metadata": {},
   "source": [
    "- 상관계수를 확인한 결과 Payment Delay와 Support Calls 두 컬럼이 Churn 컬럼과 가장 높은 상관관계를 보임\n",
    "- 그 다음 3번째로 양의 상관관계를 보이는 것이 Tenure칼럼으로, 0.195임을 확인\n",
    "  - 라벨 인코딩을 진행한 Gender, Subscription Types, Contract Length는 Churn과 상관성이 보이지 않는다고 판단\n",
    "    - (원핫 인코딩으로 진행해본 결과 역시 상관성이 매우 낮게 나오기에 마찬가지로 생략)\n",
    "- 상관관계가 0.75이상인 변수들이 없으며, 그나마 높은 값의 변수조차도 중복되는 것이 없기에 **다중공선성은 매우 낮다고 판단**"
   ]
  },
  {
   "cell_type": "code",
   "execution_count": 56,
   "id": "cb9795d3-9e58-449a-b265-229bcb0a4004",
   "metadata": {},
   "outputs": [
    {
     "name": "stderr",
     "output_type": "stream",
     "text": [
      "C:\\ProgramData\\anaconda3\\Lib\\site-packages\\IPython\\core\\pylabtools.py:152: UserWarning: Glyph 8722 (\\N{MINUS SIGN}) missing from current font.\n",
      "  fig.canvas.print_figure(bytes_io, **kw)\n"
     ]
    },
    {
     "data": {
      "image/png": "[encoded data removed]",
      "text/plain": [
       "<Figure size 1200x800 with 1 Axes>"
      ]
     },
     "metadata": {},
     "output_type": "display_data"
    }
   ],
   "source": [
    "# 그래프 그려보기\n",
    "plt.figure(figsize=(12,8))\n",
    "\n",
    "df_corr.drop(\"Churn\", inplace = False)[\"Churn\"].plot(kind=\"bar\", \n",
    "                            fontsize=15, \n",
    "                            color=\"pink\",\n",
    "                            edgecolor=\"black\",\n",
    "                            linewidth=0.4,\n",
    "                            rot=45, \n",
    "                            grid=True)\n",
    "\n",
    "plt.title(\"상관계수 그래프\", fontsize=10)\n",
    "plt.xlabel(\"Feature\", fontsize=12)\n",
    "plt.ylabel(\"상관계수\", fontsize=12)\n",
    "plt.xticks(horizontalalignment=\"center\")\n",
    "\n",
    "plt.show()"
   ]
  },
  {
   "cell_type": "markdown",
   "id": "2f6f293a-6763-4070-874c-1ce68bcf7e80",
   "metadata": {},
   "source": [
    "# No1. 로지스틱 회귀분석"
   ]
  },
  {
   "cell_type": "markdown",
   "id": "f9a1b6b7-ba95-413f-a282-9cf06cedfb02",
   "metadata": {},
   "source": [
    "## 상관계수가 -0.1 이하 또는 0.1 이상인 컬럼을 대상으로 진행"
   ]
  },
  {
   "cell_type": "markdown",
   "id": "ada6a00b-806d-44ac-954e-8324525e17b6",
   "metadata": {},
   "source": [
    "- 로지스틱 회귀를 선택한 이유\n",
    "  - 데이터셋이 비교적 단순하 크기 역시 65,000개 정도로 작기 때문\n",
    "  - 변수들 간에 다중공선성(VIF)이 거의 존재하지 않는다고 판단했기 때문\n",
    "    - 상관계수들 중 +-0.75를 넘는 큰 값이 일단 없으며, 상대적으로 서로 상관계수들이 겹치지 않기 때문"
   ]
  },
  {
   "cell_type": "code",
   "execution_count": 57,
   "id": "2b3f1bb2-c3c6-4a43-837e-79bf4c8eb268",
   "metadata": {},
   "outputs": [
    {
     "data": {
      "text/html": [
       "<div>\n",
       "<style scoped>\n",
       "    .dataframe tbody tr th:only-of-type {\n",
       "        vertical-align: middle;\n",
       "    }\n",
       "\n",
       "    .dataframe tbody tr th {\n",
       "        vertical-align: top;\n",
       "    }\n",
       "\n",
       "    .dataframe thead th {\n",
       "        text-align: right;\n",
       "    }\n",
       "</style>\n",
       "<table border=\"1\" class=\"dataframe\">\n",
       "  <thead>\n",
       "    <tr style=\"text-align: right;\">\n",
       "      <th></th>\n",
       "      <th>Age</th>\n",
       "      <th>Gender</th>\n",
       "      <th>Tenure</th>\n",
       "      <th>Usage Frequency</th>\n",
       "      <th>Support Calls</th>\n",
       "      <th>Payment Delay</th>\n",
       "      <th>Subscription Type</th>\n",
       "      <th>Contract Length</th>\n",
       "      <th>Total Spend</th>\n",
       "      <th>Last Interaction</th>\n",
       "      <th>Churn</th>\n",
       "    </tr>\n",
       "  </thead>\n",
       "  <tbody>\n",
       "    <tr>\n",
       "      <th>0</th>\n",
       "      <td>22</td>\n",
       "      <td>0</td>\n",
       "      <td>25</td>\n",
       "      <td>14</td>\n",
       "      <td>4</td>\n",
       "      <td>27</td>\n",
       "      <td>0</td>\n",
       "      <td>1</td>\n",
       "      <td>598</td>\n",
       "      <td>9</td>\n",
       "      <td>1</td>\n",
       "    </tr>\n",
       "    <tr>\n",
       "      <th>1</th>\n",
       "      <td>41</td>\n",
       "      <td>0</td>\n",
       "      <td>28</td>\n",
       "      <td>28</td>\n",
       "      <td>7</td>\n",
       "      <td>13</td>\n",
       "      <td>2</td>\n",
       "      <td>1</td>\n",
       "      <td>584</td>\n",
       "      <td>20</td>\n",
       "      <td>0</td>\n",
       "    </tr>\n",
       "    <tr>\n",
       "      <th>2</th>\n",
       "      <td>47</td>\n",
       "      <td>1</td>\n",
       "      <td>27</td>\n",
       "      <td>10</td>\n",
       "      <td>2</td>\n",
       "      <td>29</td>\n",
       "      <td>1</td>\n",
       "      <td>0</td>\n",
       "      <td>757</td>\n",
       "      <td>21</td>\n",
       "      <td>0</td>\n",
       "    </tr>\n",
       "    <tr>\n",
       "      <th>3</th>\n",
       "      <td>35</td>\n",
       "      <td>1</td>\n",
       "      <td>9</td>\n",
       "      <td>12</td>\n",
       "      <td>5</td>\n",
       "      <td>17</td>\n",
       "      <td>1</td>\n",
       "      <td>2</td>\n",
       "      <td>232</td>\n",
       "      <td>18</td>\n",
       "      <td>0</td>\n",
       "    </tr>\n",
       "    <tr>\n",
       "      <th>4</th>\n",
       "      <td>53</td>\n",
       "      <td>0</td>\n",
       "      <td>58</td>\n",
       "      <td>24</td>\n",
       "      <td>9</td>\n",
       "      <td>2</td>\n",
       "      <td>2</td>\n",
       "      <td>0</td>\n",
       "      <td>533</td>\n",
       "      <td>18</td>\n",
       "      <td>0</td>\n",
       "    </tr>\n",
       "  </tbody>\n",
       "</table>\n",
       "</div>"
      ],
      "text/plain": [
       "   Age  Gender  Tenure  Usage Frequency  Support Calls  Payment Delay  \\\n",
       "0   22       0      25               14              4             27   \n",
       "1   41       0      28               28              7             13   \n",
       "2   47       1      27               10              2             29   \n",
       "3   35       1       9               12              5             17   \n",
       "4   53       0      58               24              9              2   \n",
       "\n",
       "   Subscription Type  Contract Length  Total Spend  Last Interaction  Churn  \n",
       "0                  0                1          598                 9      1  \n",
       "1                  2                1          584                20      0  \n",
       "2                  1                0          757                21      0  \n",
       "3                  1                2          232                18      0  \n",
       "4                  2                0          533                18      0  "
      ]
     },
     "execution_count": 57,
     "metadata": {},
     "output_type": "execute_result"
    }
   ],
   "source": [
    "df.head()"
   ]
  },
  {
   "cell_type": "code",
   "execution_count": 59,
   "id": "0f409cd9-7dac-4432-83f5-cdf22538b13b",
   "metadata": {},
   "outputs": [],
   "source": [
    "x = df[[\"Gender\", \"Tenure\", \"Usage Frequency\", \"Support Calls\", \"Payment Delay\"]]\n",
    "y = df[\"Churn\"]"
   ]
  },
  {
   "cell_type": "code",
   "execution_count": 60,
   "id": "4b2a59e2-ea4c-4556-9f57-533fae865442",
   "metadata": {},
   "outputs": [],
   "source": [
    "x_train, x_test, y_train, y_test = train_test_split(x, y, test_size = 0.25, stratify = y, random_state = 14)"
   ]
  },
  {
   "cell_type": "code",
   "execution_count": 61,
   "id": "f42cb45a-cf08-4a67-89b0-7d32047cb43a",
   "metadata": {},
   "outputs": [
    {
     "data": {
      "text/html": [
       "<style>#sk-container-id-1 {color: black;background-color: white;}#sk-container-id-1 pre{padding: 0;}#sk-container-id-1 div.sk-toggleable {background-color: white;}#sk-container-id-1 label.sk-toggleable__label {cursor: pointer;display: block;width: 100%;margin-bottom: 0;padding: 0.3em;box-sizing: border-box;text-align: center;}#sk-container-id-1 label.sk-toggleable__label-arrow:before {content: \"▸\";float: left;margin-right: 0.25em;color: #696969;}#sk-container-id-1 label.sk-toggleable__label-arrow:hover:before {color: black;}#sk-container-id-1 div.sk-estimator:hover label.sk-toggleable__label-arrow:before {color: black;}#sk-container-id-1 div.sk-toggleable__content {max-height: 0;max-width: 0;overflow: hidden;text-align: left;background-color: #f0f8ff;}#sk-container-id-1 div.sk-toggleable__content pre {margin: 0.2em;color: black;border-radius: 0.25em;background-color: #f0f8ff;}#sk-container-id-1 input.sk-toggleable__control:checked~div.sk-toggleable__content {max-height: 200px;max-width: 100%;overflow: auto;}#sk-container-id-1 input.sk-toggleable__control:checked~label.sk-toggleable__label-arrow:before {content: \"▾\";}#sk-container-id-1 div.sk-estimator input.sk-toggleable__control:checked~label.sk-toggleable__label {background-color: #d4ebff;}#sk-container-id-1 div.sk-label input.sk-toggleable__control:checked~label.sk-toggleable__label {background-color: #d4ebff;}#sk-container-id-1 input.sk-hidden--visually {border: 0;clip: rect(1px 1px 1px 1px);clip: rect(1px, 1px, 1px, 1px);height: 1px;margin: -1px;overflow: hidden;padding: 0;position: absolute;width: 1px;}#sk-container-id-1 div.sk-estimator {font-family: monospace;background-color: #f0f8ff;border: 1px dotted black;border-radius: 0.25em;box-sizing: border-box;margin-bottom: 0.5em;}#sk-container-id-1 div.sk-estimator:hover {background-color: #d4ebff;}#sk-container-id-1 div.sk-parallel-item::after {content: \"\";width: 100%;border-bottom: 1px solid gray;flex-grow: 1;}#sk-container-id-1 div.sk-label:hover label.sk-toggleable__label {background-color: #d4ebff;}#sk-container-id-1 div.sk-serial::before {content: \"\";position: absolute;border-left: 1px solid gray;box-sizing: border-box;top: 0;bottom: 0;left: 50%;z-index: 0;}#sk-container-id-1 div.sk-serial {display: flex;flex-direction: column;align-items: center;background-color: white;padding-right: 0.2em;padding-left: 0.2em;position: relative;}#sk-container-id-1 div.sk-item {position: relative;z-index: 1;}#sk-container-id-1 div.sk-parallel {display: flex;align-items: stretch;justify-content: center;background-color: white;position: relative;}#sk-container-id-1 div.sk-item::before, #sk-container-id-1 div.sk-parallel-item::before {content: \"\";position: absolute;border-left: 1px solid gray;box-sizing: border-box;top: 0;bottom: 0;left: 50%;z-index: -1;}#sk-container-id-1 div.sk-parallel-item {display: flex;flex-direction: column;z-index: 1;position: relative;background-color: white;}#sk-container-id-1 div.sk-parallel-item:first-child::after {align-self: flex-end;width: 50%;}#sk-container-id-1 div.sk-parallel-item:last-child::after {align-self: flex-start;width: 50%;}#sk-container-id-1 div.sk-parallel-item:only-child::after {width: 0;}#sk-container-id-1 div.sk-dashed-wrapped {border: 1px dashed gray;margin: 0 0.4em 0.5em 0.4em;box-sizing: border-box;padding-bottom: 0.4em;background-color: white;}#sk-container-id-1 div.sk-label label {font-family: monospace;font-weight: bold;display: inline-block;line-height: 1.2em;}#sk-container-id-1 div.sk-label-container {text-align: center;}#sk-container-id-1 div.sk-container {/* jupyter's `normalize.less` sets `[hidden] { display: none; }` but bootstrap.min.css set `[hidden] { display: none !important; }` so we also need the `!important` here to be able to override the default hidden behavior on the sphinx rendered scikit-learn.org. See: https://github.com/scikit-learn/scikit-learn/issues/21755 */display: inline-block !important;position: relative;}#sk-container-id-1 div.sk-text-repr-fallback {display: none;}</style><div id=\"sk-container-id-1\" class=\"sk-top-container\"><div class=\"sk-text-repr-fallback\"><pre>LogisticRegression()</pre><b>In a Jupyter environment, please rerun this cell to show the HTML representation or trust the notebook. <br />On GitHub, the HTML representation is unable to render, please try loading this page with nbviewer.org.</b></div><div class=\"sk-container\" hidden><div class=\"sk-item\"><div class=\"sk-estimator sk-toggleable\"><input class=\"sk-toggleable__control sk-hidden--visually\" id=\"sk-estimator-id-1\" type=\"checkbox\" checked><label for=\"sk-estimator-id-1\" class=\"sk-toggleable__label sk-toggleable__label-arrow\">LogisticRegression</label><div class=\"sk-toggleable__content\"><pre>LogisticRegression()</pre></div></div></div></div></div>"
      ],
      "text/plain": [
       "LogisticRegression()"
      ]
     },
     "execution_count": 61,
     "metadata": {},
     "output_type": "execute_result"
    }
   ],
   "source": [
    "# 모델 구축\n",
    "\n",
    "logi_1 = LogisticRegression()\n",
    "logi_1.fit(x_train, y_train)"
   ]
  },
  {
   "cell_type": "code",
   "execution_count": 62,
   "id": "e2f11e9d-d174-4f02-8a3d-39eec153fa44",
   "metadata": {},
   "outputs": [
    {
     "data": {
      "text/plain": [
       "0.8244066111594383"
      ]
     },
     "execution_count": 62,
     "metadata": {},
     "output_type": "execute_result"
    }
   ],
   "source": [
    "logi_1.score(x_test, y_test)"
   ]
  },
  {
   "cell_type": "code",
   "execution_count": 64,
   "id": "f27ffcaf-fb48-492a-9bc8-192890c06a6b",
   "metadata": {},
   "outputs": [
    {
     "data": {
      "text/plain": [
       "array([[0.09285914, 0.90714086],\n",
       "       [0.92317142, 0.07682858],\n",
       "       [0.11485131, 0.88514869],\n",
       "       ...,\n",
       "       [0.02089877, 0.97910123],\n",
       "       [0.77917264, 0.22082736],\n",
       "       [0.15907114, 0.84092886]])"
      ]
     },
     "execution_count": 64,
     "metadata": {},
     "output_type": "execute_result"
    }
   ],
   "source": [
    "logi_1.predict_proba(x_test)"
   ]
  },
  {
   "cell_type": "code",
   "execution_count": 65,
   "id": "802b5a47-db8c-48e7-9ceb-99b7b8fe4e9c",
   "metadata": {},
   "outputs": [
    {
     "name": "stdout",
     "output_type": "stream",
     "text": [
      "roc_auc 점수 :  0.9001101256282035\n"
     ]
    }
   ],
   "source": [
    "# ROC_AUC_SCORE 확인하기\n",
    "proba_1 = logi_1.predict_proba(x_test)[:,1]\n",
    "roc_auc_1 = roc_auc_score(y_test, proba_1)\n",
    "print(\"roc_auc 점수 : \", roc_auc_1)"
   ]
  },
  {
   "cell_type": "code",
   "execution_count": 96,
   "id": "81641019-232d-4259-ba68-879e10853c5a",
   "metadata": {},
   "outputs": [
    {
     "data": {
      "image/png": "[encoded data removed]",
      "text/plain": [
       "<Figure size 640x480 with 1 Axes>"
      ]
     },
     "metadata": {},
     "output_type": "display_data"
    }
   ],
   "source": [
    "# ROC 커브 그려보기\n",
    "\n",
    "fpr, tpr, thresholds = roc_curve(y_test, logi_1.predict_proba(x_test)[:, 1])\n",
    "plt.plot([0,1], [0,1], \"k--\", \"r+\")\n",
    "plt.plot(fpr, tpr, label = \"LogisticRegression\")\n",
    "plt.xlabel(\"FPR\")\n",
    "plt.ylabel(\"TPR\")\n",
    "plt.title(\"로지스틱회귀 ROC 곡선\")\n",
    "plt.show()"
   ]
  },
  {
   "cell_type": "code",
   "execution_count": 70,
   "id": "38bd5050-26ee-4331-a2d2-b38d15718d69",
   "metadata": {},
   "outputs": [
    {
     "name": "stdout",
     "output_type": "stream",
     "text": [
      "교차검증 점수: [0.90116404 0.9016437  0.90277203 0.89909191 0.9018279  0.89470612\n",
      " 0.89681803 0.89650312 0.90101478 0.88997544]\n"
     ]
    }
   ],
   "source": [
    "# 교차검증 실시\n",
    "\n",
    "cross_score = cross_val_score(logi_1, x, y, cv = 10, scoring =\"roc_auc\")\n",
    "print(\"교차검증 점수:\", cross_score)"
   ]
  },
  {
   "cell_type": "markdown",
   "id": "3327b2f7-1994-4825-b8b7-a558336c2d23",
   "metadata": {},
   "source": [
    "- 모델의 성능이 안정적이고 일관됨을 확인\n",
    "  - ROC_AUC가 0.90\n",
    "- 추후 새로운 컬럼이 데이터 양이 많아진다면 다른 기법 XGBoost 혹은 LightGBM을 고려해 볼만함"
   ]
  },
  {
   "cell_type": "markdown",
   "id": "192ae73c-a70b-4d3f-8d6f-0730ed7b9b3f",
   "metadata": {},
   "source": [
    "# RF(랜덤 포레스트)"
   ]
  },
  {
   "cell_type": "markdown",
   "id": "5f7d42fe-afbb-4af2-8e78-a68b79a918ee",
   "metadata": {},
   "source": [
    "- 위에 있던 기존의 분할 데이터 활용"
   ]
  },
  {
   "cell_type": "code",
   "execution_count": 73,
   "id": "36fb0187-9e27-4478-ae6e-d4926ca88f5d",
   "metadata": {},
   "outputs": [],
   "source": [
    "rf = RandomForestClassifier(n_jobs = -1, random_state = 14)"
   ]
  },
  {
   "cell_type": "code",
   "execution_count": 76,
   "id": "b8615587-18bc-4d43-93e8-e841f7bb1aeb",
   "metadata": {},
   "outputs": [],
   "source": [
    "scores = cross_validate(rf, x_train, y_train, return_train_score = True, n_jobs = -1)"
   ]
  },
  {
   "cell_type": "code",
   "execution_count": 78,
   "id": "0b4d460b-18d5-49ad-9dd7-6753a07a516c",
   "metadata": {},
   "outputs": [
    {
     "name": "stdout",
     "output_type": "stream",
     "text": [
      "0.9983688898094449 0.9285832642916322\n"
     ]
    }
   ],
   "source": [
    "print(np.mean(scores[\"train_score\"]), np.mean(scores[\"test_score\"]))"
   ]
  },
  {
   "cell_type": "code",
   "execution_count": 79,
   "id": "33290b94-14e1-4b48-9e15-ad7ab7ce82bc",
   "metadata": {},
   "outputs": [
    {
     "data": {
      "text/html": [
       "<style>#sk-container-id-2 {color: black;background-color: white;}#sk-container-id-2 pre{padding: 0;}#sk-container-id-2 div.sk-toggleable {background-color: white;}#sk-container-id-2 label.sk-toggleable__label {cursor: pointer;display: block;width: 100%;margin-bottom: 0;padding: 0.3em;box-sizing: border-box;text-align: center;}#sk-container-id-2 label.sk-toggleable__label-arrow:before {content: \"▸\";float: left;margin-right: 0.25em;color: #696969;}#sk-container-id-2 label.sk-toggleable__label-arrow:hover:before {color: black;}#sk-container-id-2 div.sk-estimator:hover label.sk-toggleable__label-arrow:before {color: black;}#sk-container-id-2 div.sk-toggleable__content {max-height: 0;max-width: 0;overflow: hidden;text-align: left;background-color: #f0f8ff;}#sk-container-id-2 div.sk-toggleable__content pre {margin: 0.2em;color: black;border-radius: 0.25em;background-color: #f0f8ff;}#sk-container-id-2 input.sk-toggleable__control:checked~div.sk-toggleable__content {max-height: 200px;max-width: 100%;overflow: auto;}#sk-container-id-2 input.sk-toggleable__control:checked~label.sk-toggleable__label-arrow:before {content: \"▾\";}#sk-container-id-2 div.sk-estimator input.sk-toggleable__control:checked~label.sk-toggleable__label {background-color: #d4ebff;}#sk-container-id-2 div.sk-label input.sk-toggleable__control:checked~label.sk-toggleable__label {background-color: #d4ebff;}#sk-container-id-2 input.sk-hidden--visually {border: 0;clip: rect(1px 1px 1px 1px);clip: rect(1px, 1px, 1px, 1px);height: 1px;margin: -1px;overflow: hidden;padding: 0;position: absolute;width: 1px;}#sk-container-id-2 div.sk-estimator {font-family: monospace;background-color: #f0f8ff;border: 1px dotted black;border-radius: 0.25em;box-sizing: border-box;margin-bottom: 0.5em;}#sk-container-id-2 div.sk-estimator:hover {background-color: #d4ebff;}#sk-container-id-2 div.sk-parallel-item::after {content: \"\";width: 100%;border-bottom: 1px solid gray;flex-grow: 1;}#sk-container-id-2 div.sk-label:hover label.sk-toggleable__label {background-color: #d4ebff;}#sk-container-id-2 div.sk-serial::before {content: \"\";position: absolute;border-left: 1px solid gray;box-sizing: border-box;top: 0;bottom: 0;left: 50%;z-index: 0;}#sk-container-id-2 div.sk-serial {display: flex;flex-direction: column;align-items: center;background-color: white;padding-right: 0.2em;padding-left: 0.2em;position: relative;}#sk-container-id-2 div.sk-item {position: relative;z-index: 1;}#sk-container-id-2 div.sk-parallel {display: flex;align-items: stretch;justify-content: center;background-color: white;position: relative;}#sk-container-id-2 div.sk-item::before, #sk-container-id-2 div.sk-parallel-item::before {content: \"\";position: absolute;border-left: 1px solid gray;box-sizing: border-box;top: 0;bottom: 0;left: 50%;z-index: -1;}#sk-container-id-2 div.sk-parallel-item {display: flex;flex-direction: column;z-index: 1;position: relative;background-color: white;}#sk-container-id-2 div.sk-parallel-item:first-child::after {align-self: flex-end;width: 50%;}#sk-container-id-2 div.sk-parallel-item:last-child::after {align-self: flex-start;width: 50%;}#sk-container-id-2 div.sk-parallel-item:only-child::after {width: 0;}#sk-container-id-2 div.sk-dashed-wrapped {border: 1px dashed gray;margin: 0 0.4em 0.5em 0.4em;box-sizing: border-box;padding-bottom: 0.4em;background-color: white;}#sk-container-id-2 div.sk-label label {font-family: monospace;font-weight: bold;display: inline-block;line-height: 1.2em;}#sk-container-id-2 div.sk-label-container {text-align: center;}#sk-container-id-2 div.sk-container {/* jupyter's `normalize.less` sets `[hidden] { display: none; }` but bootstrap.min.css set `[hidden] { display: none !important; }` so we also need the `!important` here to be able to override the default hidden behavior on the sphinx rendered scikit-learn.org. See: https://github.com/scikit-learn/scikit-learn/issues/21755 */display: inline-block !important;position: relative;}#sk-container-id-2 div.sk-text-repr-fallback {display: none;}</style><div id=\"sk-container-id-2\" class=\"sk-top-container\"><div class=\"sk-text-repr-fallback\"><pre>RandomForestClassifier(n_jobs=-1, random_state=14)</pre><b>In a Jupyter environment, please rerun this cell to show the HTML representation or trust the notebook. <br />On GitHub, the HTML representation is unable to render, please try loading this page with nbviewer.org.</b></div><div class=\"sk-container\" hidden><div class=\"sk-item\"><div class=\"sk-estimator sk-toggleable\"><input class=\"sk-toggleable__control sk-hidden--visually\" id=\"sk-estimator-id-2\" type=\"checkbox\" checked><label for=\"sk-estimator-id-2\" class=\"sk-toggleable__label sk-toggleable__label-arrow\">RandomForestClassifier</label><div class=\"sk-toggleable__content\"><pre>RandomForestClassifier(n_jobs=-1, random_state=14)</pre></div></div></div></div></div>"
      ],
      "text/plain": [
       "RandomForestClassifier(n_jobs=-1, random_state=14)"
      ]
     },
     "execution_count": 79,
     "metadata": {},
     "output_type": "execute_result"
    }
   ],
   "source": [
    "rf.fit(x_train, y_train)"
   ]
  },
  {
   "cell_type": "code",
   "execution_count": 81,
   "id": "e422f635-3181-49f7-8966-8b8b51311129",
   "metadata": {},
   "outputs": [
    {
     "name": "stdout",
     "output_type": "stream",
     "text": [
      "[0.08693285 0.16085131 0.11367086 0.17022576 0.46831922]\n"
     ]
    }
   ],
   "source": [
    "print(rf.feature_importances_)"
   ]
  },
  {
   "cell_type": "code",
   "execution_count": 83,
   "id": "e172574b-2dcd-415d-881e-f034910cb921",
   "metadata": {},
   "outputs": [
    {
     "name": "stdout",
     "output_type": "stream",
     "text": [
      "0.9272576636288318\n"
     ]
    }
   ],
   "source": [
    "rf = RandomForestClassifier(oob_score = True, n_jobs = -1, random_state =14)\n",
    "rf.fit(x_train, y_train)\n",
    "print(rf.oob_score_)"
   ]
  },
  {
   "cell_type": "code",
   "execution_count": 85,
   "id": "03d812dc-4107-4a5e-90bc-e2d5df9ae1e6",
   "metadata": {},
   "outputs": [
    {
     "name": "stdout",
     "output_type": "stream",
     "text": [
      "roc_auc 점수 :  0.9837240615027932\n"
     ]
    }
   ],
   "source": [
    "# ROC_AUC_SCORE 확인하기\n",
    "rf_proba = rf.predict_proba(x_test)[:, 1]\n",
    "\n",
    "rf_roc_auc = roc_auc_score(y_test, rf_proba)\n",
    "\n",
    "print(\"roc_auc 점수 : \", rf_roc_auc)"
   ]
  },
  {
   "cell_type": "code",
   "execution_count": 92,
   "id": "ff308257-ba4d-4d8c-9263-ada388e6dc46",
   "metadata": {},
   "outputs": [
    {
     "name": "stdout",
     "output_type": "stream",
     "text": [
      "              precision    recall  f1-score   support\n",
      "\n",
      "           0       0.95      0.91      0.93      8471\n",
      "           1       0.91      0.95      0.93      7623\n",
      "\n",
      "    accuracy                           0.93     16094\n",
      "   macro avg       0.93      0.93      0.93     16094\n",
      "weighted avg       0.93      0.93      0.93     16094\n",
      "\n"
     ]
    }
   ],
   "source": [
    "# Precision, Recall, F1-Score 확인하기\n",
    "rf_prediction = rf.predict(x_test)\n",
    "print(classification_report(y_test, rf_prediction))"
   ]
  },
  {
   "cell_type": "code",
   "execution_count": 93,
   "id": "5d19eb35-4616-47fb-8b6a-a0efb3c97858",
   "metadata": {},
   "outputs": [],
   "source": [
    "# precision: positive라고 예측한 것 중에 얼마나 잘 맞았는지\n",
    "## 0(유지 고객)의 경우 95%가 이탈하지 않았다고 예측\n",
    "## 1(이탈 고객)의 경우 91%가 실제로 이탈했다고 예측\n",
    "\n",
    "# recall: 실제 positive인 것을 얼마나 잘 예측했는지\n",
    "## 0의 경우 실제로 이탈하지 않은 고 중 91%는 정확하게 예측\n",
    "## 1의 경우 실제로 이탈한 고객 중 95%를 정확하게 예측\n",
    "\n",
    "# F1-score: 조화평균"
   ]
  },
  {
   "cell_type": "code",
   "execution_count": 95,
   "id": "fa048576-5c71-454c-a0d6-48382d2bfc60",
   "metadata": {},
   "outputs": [
    {
     "data": {
      "image/png": "[encoded data removed]",
      "text/plain": [
       "<Figure size 640x480 with 1 Axes>"
      ]
     },
     "metadata": {},
     "output_type": "display_data"
    }
   ],
   "source": [
    "# ROC 커브 그려보기\n",
    "\n",
    "fpr, tpr, thresholds = roc_curve(y_test, rf.predict_proba(x_test)[:, 1])\n",
    "plt.plot([0,1], [0,1], \"k--\", \"r+\")\n",
    "plt.plot(fpr, tpr, label = \"RandomForest\")\n",
    "plt.xlabel(\"FPR\")\n",
    "plt.ylabel(\"TPR\")\n",
    "plt.title(\"랜덤포레스트 ROC 곡선\")\n",
    "plt.show()"
   ]
  },
  {
   "cell_type": "code",
   "execution_count": null,
   "id": "93d4d7f4-f027-4be7-b26b-26c7fdc90770",
   "metadata": {},
   "outputs": [],
   "source": []
  },
  {
   "cell_type": "code",
   "execution_count": null,
   "id": "edcc3600-61b4-499e-99f7-408eff454471",
   "metadata": {},
   "outputs": [],
   "source": []
  }
 ],
 "metadata": {
  "kernelspec": {
   "display_name": "Python 3 (ipykernel)",
   "language": "python",
   "name": "python3"
  },
  "language_info": {
   "codemirror_mode": {
    "name": "ipython",
    "version": 3
   },
   "file_extension": ".py",
   "mimetype": "text/x-python",
   "name": "python",
   "nbconvert_exporter": "python",
   "pygments_lexer": "ipython3",
   "version": "3.11.7"
  }
 },
 "nbformat": 4,
 "nbformat_minor": 5
}
