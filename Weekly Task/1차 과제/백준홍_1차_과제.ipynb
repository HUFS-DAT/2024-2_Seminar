{
 "cells": [
  {
   "cell_type": "markdown",
   "id": "7efd4965",
   "metadata": {},
   "source": [
    "## 1차 과제 - 고객 유지/이탈 자유 분석\n",
    "- 주제: 가입 고객 이탈 데이터를 분석하여 기업에 인사이트 제공\n",
    "- 데이터: Customer Churn Data(train data가 따로 있으나 너무 커서 test data만 사용, 예측 성능 향상을 원한다면 train data 사용해도 무방)\n",
    "https://www.kaggle.com/datasets/muhammadshahidazeem/customer-churn-dataset?select=customer_churn_dataset-training-master.csv\n",
    "- 사용 라이브러리: 자유\n",
    "\n",
    "본 과제는 여러분들의 실력을 확인하고자 출제한 과제로 어떠한 가이드라인도 제공하거나 제약하지 않으며 자유롭게 분석하시면 됩니다.\n",
    "\n",
    "분석이나 예측 어느 쪽이든 상관없으며 몇가지 조건만 유의하여 주시기 바랍니다."
   ]
  },
  {
   "cell_type": "markdown",
   "id": "afecb645",
   "metadata": {},
   "source": [
    "### 조건\n",
    "1. 기본적인 분석 과정은 EDA(데이터 탐색) > 전처리 > 분석(예측) 진행 > 결과 해석 으로 진행되지만 약간의 수정 허용\n",
    "2. EDA 과정에서 최소 2개의 시각화 모형(그래프) 사용\n",
    "3. 분석 및 예측 시 최소 2개의 모형(모델) 사용\n",
    "4. 전처리는 자유롭게 진행하며 추가적인 데이터 사용이 필요하다면 허용"
   ]
  },
  {
   "cell_type": "markdown",
   "id": "7414c6e8",
   "metadata": {},
   "source": [
    "### 1. 데이터 불러오기"
   ]
  },
  {
   "cell_type": "code",
   "execution_count": 77,
   "id": "a659bc96",
   "metadata": {},
   "outputs": [],
   "source": [
    "import numpy as np\n",
    "import pandas as pd"
   ]
  },
  {
   "cell_type": "code",
   "execution_count": 78,
   "id": "be407925",
   "metadata": {},
   "outputs": [],
   "source": [
    "RANDOM_STATE = 11\n",
    "\n",
    "data = pd.read_csv(\"customer_churn_dataset-testing-master.csv\")"
   ]
  },
  {
   "cell_type": "code",
   "execution_count": 79,
   "id": "4c6f048a",
   "metadata": {},
   "outputs": [
    {
     "name": "stdout",
     "output_type": "stream",
     "text": [
      "<class 'pandas.core.frame.DataFrame'>\n",
      "RangeIndex: 64374 entries, 0 to 64373\n",
      "Data columns (total 12 columns):\n",
      " #   Column             Non-Null Count  Dtype \n",
      "---  ------             --------------  ----- \n",
      " 0   CustomerID         64374 non-null  int64 \n",
      " 1   Age                64374 non-null  int64 \n",
      " 2   Gender             64374 non-null  object\n",
      " 3   Tenure             64374 non-null  int64 \n",
      " 4   Usage Frequency    64374 non-null  int64 \n",
      " 5   Support Calls      64374 non-null  int64 \n",
      " 6   Payment Delay      64374 non-null  int64 \n",
      " 7   Subscription Type  64374 non-null  object\n",
      " 8   Contract Length    64374 non-null  object\n",
      " 9   Total Spend        64374 non-null  int64 \n",
      " 10  Last Interaction   64374 non-null  int64 \n",
      " 11  Churn              64374 non-null  int64 \n",
      "dtypes: int64(9), object(3)\n",
      "memory usage: 5.9+ MB\n"
     ]
    }
   ],
   "source": [
    "data.info()"
   ]
  },
  {
   "cell_type": "code",
   "execution_count": 80,
   "id": "8401814c",
   "metadata": {},
   "outputs": [
    {
     "data": {
      "text/html": [
       "<div>\n",
       "<style scoped>\n",
       "    .dataframe tbody tr th:only-of-type {\n",
       "        vertical-align: middle;\n",
       "    }\n",
       "\n",
       "    .dataframe tbody tr th {\n",
       "        vertical-align: top;\n",
       "    }\n",
       "\n",
       "    .dataframe thead th {\n",
       "        text-align: right;\n",
       "    }\n",
       "</style>\n",
       "<table border=\"1\" class=\"dataframe\">\n",
       "  <thead>\n",
       "    <tr style=\"text-align: right;\">\n",
       "      <th></th>\n",
       "      <th>CustomerID</th>\n",
       "      <th>Age</th>\n",
       "      <th>Gender</th>\n",
       "      <th>Tenure</th>\n",
       "      <th>Usage Frequency</th>\n",
       "      <th>Support Calls</th>\n",
       "      <th>Payment Delay</th>\n",
       "      <th>Subscription Type</th>\n",
       "      <th>Contract Length</th>\n",
       "      <th>Total Spend</th>\n",
       "      <th>Last Interaction</th>\n",
       "      <th>Churn</th>\n",
       "    </tr>\n",
       "  </thead>\n",
       "  <tbody>\n",
       "    <tr>\n",
       "      <th>64369</th>\n",
       "      <td>64370</td>\n",
       "      <td>45</td>\n",
       "      <td>Female</td>\n",
       "      <td>33</td>\n",
       "      <td>12</td>\n",
       "      <td>6</td>\n",
       "      <td>21</td>\n",
       "      <td>Basic</td>\n",
       "      <td>Quarterly</td>\n",
       "      <td>947</td>\n",
       "      <td>14</td>\n",
       "      <td>1</td>\n",
       "    </tr>\n",
       "    <tr>\n",
       "      <th>64370</th>\n",
       "      <td>64371</td>\n",
       "      <td>37</td>\n",
       "      <td>Male</td>\n",
       "      <td>6</td>\n",
       "      <td>1</td>\n",
       "      <td>5</td>\n",
       "      <td>22</td>\n",
       "      <td>Standard</td>\n",
       "      <td>Annual</td>\n",
       "      <td>923</td>\n",
       "      <td>9</td>\n",
       "      <td>1</td>\n",
       "    </tr>\n",
       "    <tr>\n",
       "      <th>64371</th>\n",
       "      <td>64372</td>\n",
       "      <td>25</td>\n",
       "      <td>Male</td>\n",
       "      <td>39</td>\n",
       "      <td>14</td>\n",
       "      <td>8</td>\n",
       "      <td>30</td>\n",
       "      <td>Premium</td>\n",
       "      <td>Monthly</td>\n",
       "      <td>327</td>\n",
       "      <td>20</td>\n",
       "      <td>1</td>\n",
       "    </tr>\n",
       "    <tr>\n",
       "      <th>64372</th>\n",
       "      <td>64373</td>\n",
       "      <td>50</td>\n",
       "      <td>Female</td>\n",
       "      <td>18</td>\n",
       "      <td>19</td>\n",
       "      <td>7</td>\n",
       "      <td>22</td>\n",
       "      <td>Standard</td>\n",
       "      <td>Monthly</td>\n",
       "      <td>540</td>\n",
       "      <td>13</td>\n",
       "      <td>1</td>\n",
       "    </tr>\n",
       "    <tr>\n",
       "      <th>64373</th>\n",
       "      <td>64374</td>\n",
       "      <td>52</td>\n",
       "      <td>Female</td>\n",
       "      <td>45</td>\n",
       "      <td>15</td>\n",
       "      <td>9</td>\n",
       "      <td>25</td>\n",
       "      <td>Standard</td>\n",
       "      <td>Monthly</td>\n",
       "      <td>696</td>\n",
       "      <td>22</td>\n",
       "      <td>1</td>\n",
       "    </tr>\n",
       "  </tbody>\n",
       "</table>\n",
       "</div>"
      ],
      "text/plain": [
       "       CustomerID  Age  Gender  Tenure  Usage Frequency  Support Calls  \\\n",
       "64369       64370   45  Female      33               12              6   \n",
       "64370       64371   37    Male       6                1              5   \n",
       "64371       64372   25    Male      39               14              8   \n",
       "64372       64373   50  Female      18               19              7   \n",
       "64373       64374   52  Female      45               15              9   \n",
       "\n",
       "       Payment Delay Subscription Type Contract Length  Total Spend  \\\n",
       "64369             21             Basic       Quarterly          947   \n",
       "64370             22          Standard          Annual          923   \n",
       "64371             30           Premium         Monthly          327   \n",
       "64372             22          Standard         Monthly          540   \n",
       "64373             25          Standard         Monthly          696   \n",
       "\n",
       "       Last Interaction  Churn  \n",
       "64369                14      1  \n",
       "64370                 9      1  \n",
       "64371                20      1  \n",
       "64372                13      1  \n",
       "64373                22      1  "
      ]
     },
     "execution_count": 80,
     "metadata": {},
     "output_type": "execute_result"
    }
   ],
   "source": [
    "data.tail()"
   ]
  },
  {
   "cell_type": "code",
   "execution_count": 81,
   "id": "906d3ddc",
   "metadata": {},
   "outputs": [
    {
     "data": {
      "image/png": "[encoded data removed]",
      "text/plain": [
       "<Figure size 640x480 with 1 Axes>"
      ]
     },
     "metadata": {},
     "output_type": "display_data"
    }
   ],
   "source": [
    "import matplotlib.pyplot as plt\n",
    "from matplotlib import font_manager, rc\n",
    "\n",
    "# 한글 폰트 설정\n",
    "font_path = \"C:/Windows/Fonts/malgun.ttf\"  \n",
    "font_name = font_manager.FontProperties(fname=font_path).get_name()\n",
    "rc('font', family=font_name)\n",
    "\n",
    "# 그래프 그리기\n",
    "data['Churn'].value_counts().plot(kind='pie', autopct='%1.1f%%', wedgeprops=dict(width=0.3))\n",
    "plt.title('Churn Rate(타겟변수 비율)')\n",
    "plt.legend(['Churn : 0', 'Churn : 1'])\n",
    "plt.axis('equal')\n",
    "plt.show()"
   ]
  },
  {
   "cell_type": "markdown",
   "id": "d4afc295",
   "metadata": {},
   "source": [
    "### 2. 데이터 탐색"
   ]
  },
  {
   "cell_type": "markdown",
   "id": "95c11081",
   "metadata": {},
   "source": [
    "CustomerID: 고객 식별 번호    \n",
    "Age: 고객의 나이   \n",
    "Gender: 고객의 성별     \n",
    "Tenure: 고객이 서비스를 이용한 기간  \n",
    "Usage Frequency: 서비스 사용 빈도   \n",
    "Support Calls: 고객 지원 센터에 전화한 횟수  \n",
    "Payment Delay: 지불 지연 횟수  \n",
    "Subscription Type: 구독 유형  \n",
    "Contract Length: 계약 기간  \n",
    "Total Spend: 총 지출 금액  \n",
    "Last Interaction: 마지막 상호작용 시점  \n",
    "Churn: 이탈 여부 (0: 이탈 x, 1: 이탈 o)    "
   ]
  },
  {
   "cell_type": "code",
   "execution_count": 82,
   "id": "62722d5a",
   "metadata": {},
   "outputs": [
    {
     "data": {
      "image/png": "[encoded data removed]",
      "text/plain": [
       "<Figure size 640x480 with 1 Axes>"
      ]
     },
     "metadata": {},
     "output_type": "display_data"
    }
   ],
   "source": [
    "import pandas as pd\n",
    "import matplotlib.pyplot as plt\n",
    "\n",
    "# Support Calls에 따른 Churn의 비율 계산\n",
    "churn_distribution = data.groupby(['Support Calls', 'Churn']).size().unstack().fillna(0)\n",
    "churn_ratio = churn_distribution.div(churn_distribution.sum(axis=1), axis=0)\n",
    "\n",
    "# 비율 시각화\n",
    "churn_ratio.plot(kind='bar', stacked=True)\n",
    "plt.title('Support Calls에 따른 Churn의 비율')\n",
    "plt.xlabel('Support Calls')\n",
    "plt.ylabel('Churn 비율')\n",
    "plt.ylim(0, 1)\n",
    "plt.legend(['Churn: 0', 'Churn: 1'])\n",
    "plt.show()"
   ]
  },
  {
   "cell_type": "markdown",
   "id": "fee11af0",
   "metadata": {},
   "source": [
    "Support Calls의 값 4를 기점으로 churn 1 비율이 높아짐"
   ]
  },
  {
   "cell_type": "code",
   "execution_count": 83,
   "id": "88cc69bf",
   "metadata": {},
   "outputs": [
    {
     "data": {
      "image/png": "[encoded data removed]",
      "text/plain": [
       "<Figure size 640x480 with 1 Axes>"
      ]
     },
     "metadata": {},
     "output_type": "display_data"
    }
   ],
   "source": [
    "import pandas as pd\n",
    "import matplotlib.pyplot as plt\n",
    "\n",
    "# Payment Delay에 따른 Churn의 비율 계산\n",
    "churn_distribution = data.groupby(['Payment Delay', 'Churn']).size().unstack().fillna(0)\n",
    "churn_ratio = churn_distribution.div(churn_distribution.sum(axis=1), axis=0)\n",
    "\n",
    "# 비율 시각화\n",
    "churn_ratio.plot(kind='bar', stacked=True)\n",
    "plt.title('Payment Delay에 따른 Churn의 비율')\n",
    "plt.xlabel('Payment Delay')\n",
    "plt.ylabel('Churn 비율')\n",
    "plt.ylim(0, 1)\n",
    "plt.legend(['Churn: 0', 'Churn: 1'])\n",
    "plt.show()"
   ]
  },
  {
   "cell_type": "markdown",
   "id": "a05018b1",
   "metadata": {},
   "source": [
    "Payment Delay의 값 15를 기점으로 churn 1 비율이 높아짐"
   ]
  },
  {
   "cell_type": "code",
   "execution_count": 84,
   "id": "d72b1d4d",
   "metadata": {},
   "outputs": [
    {
     "data": {
      "image/png": "[encoded data removed]",
      "text/plain": [
       "<Figure size 640x480 with 1 Axes>"
      ]
     },
     "metadata": {},
     "output_type": "display_data"
    }
   ],
   "source": [
    "import pandas as pd\n",
    "import matplotlib.pyplot as plt\n",
    "\n",
    "# Usage Frequency에 따른 Churn의 비율 계산\n",
    "churn_distribution = data.groupby(['Usage Frequency', 'Churn']).size().unstack().fillna(0)\n",
    "churn_ratio = churn_distribution.div(churn_distribution.sum(axis=1), axis=0)\n",
    "\n",
    "# 비율 시각화\n",
    "churn_ratio.plot(kind='bar', stacked=True)\n",
    "plt.title('Usage Frequency에 따른 Churn의 비율')\n",
    "plt.xlabel('Usage Frequency')\n",
    "plt.ylabel('Churn 비율')\n",
    "plt.ylim(0, 1)\n",
    "plt.legend(['Churn: 0', 'Churn: 1'])\n",
    "plt.show()"
   ]
  },
  {
   "cell_type": "markdown",
   "id": "a3fee1ac",
   "metadata": {},
   "source": [
    "Usage Frequency의 값 5를 기점으로 churn 1 비율이 낮아짐"
   ]
  },
  {
   "cell_type": "markdown",
   "id": "a3b3ed79",
   "metadata": {},
   "source": [
    "### 3. 데이터 전처리"
   ]
  },
  {
   "cell_type": "markdown",
   "id": "2976d545",
   "metadata": {},
   "source": [
    "파생변수의 추가여부에 따른 차이를 비교를 위한 데이터셋 생성"
   ]
  },
  {
   "cell_type": "code",
   "execution_count": 85,
   "id": "280baf40",
   "metadata": {},
   "outputs": [],
   "source": [
    "# 데이터셋 생성\n",
    "data_plus = data.copy()"
   ]
  },
  {
   "cell_type": "code",
   "execution_count": 86,
   "id": "813e438a",
   "metadata": {},
   "outputs": [],
   "source": [
    "# 파생변수 생성 : 가중치 부여\n",
    "data_plus['Usage Frequency weight'] = data_plus['Usage Frequency'].apply(lambda x: 1 if x <= 5 else 0)\n",
    "data_plus['Support Calls weight'] = data_plus['Support Calls'].apply(lambda x: 0 if x <= 4 else 1)\n",
    "data_plus['Payment Delay weight'] = data_plus['Payment Delay'].apply(lambda x: 0 if x <= 15 else 1)"
   ]
  },
  {
   "cell_type": "code",
   "execution_count": 87,
   "id": "8be1446c",
   "metadata": {},
   "outputs": [
    {
     "name": "stdout",
     "output_type": "stream",
     "text": [
      "<class 'pandas.core.frame.DataFrame'>\n",
      "RangeIndex: 64374 entries, 0 to 64373\n",
      "Data columns (total 12 columns):\n",
      " #   Column             Non-Null Count  Dtype \n",
      "---  ------             --------------  ----- \n",
      " 0   CustomerID         64374 non-null  int64 \n",
      " 1   Age                64374 non-null  int64 \n",
      " 2   Gender             64374 non-null  object\n",
      " 3   Tenure             64374 non-null  int64 \n",
      " 4   Usage Frequency    64374 non-null  int64 \n",
      " 5   Support Calls      64374 non-null  int64 \n",
      " 6   Payment Delay      64374 non-null  int64 \n",
      " 7   Subscription Type  64374 non-null  object\n",
      " 8   Contract Length    64374 non-null  object\n",
      " 9   Total Spend        64374 non-null  int64 \n",
      " 10  Last Interaction   64374 non-null  int64 \n",
      " 11  Churn              64374 non-null  int64 \n",
      "dtypes: int64(9), object(3)\n",
      "memory usage: 5.9+ MB\n"
     ]
    }
   ],
   "source": [
    "data.info()"
   ]
  },
  {
   "cell_type": "code",
   "execution_count": 88,
   "id": "ea7270a5",
   "metadata": {},
   "outputs": [
    {
     "name": "stdout",
     "output_type": "stream",
     "text": [
      "<class 'pandas.core.frame.DataFrame'>\n",
      "RangeIndex: 64374 entries, 0 to 64373\n",
      "Data columns (total 15 columns):\n",
      " #   Column                  Non-Null Count  Dtype \n",
      "---  ------                  --------------  ----- \n",
      " 0   CustomerID              64374 non-null  int64 \n",
      " 1   Age                     64374 non-null  int64 \n",
      " 2   Gender                  64374 non-null  object\n",
      " 3   Tenure                  64374 non-null  int64 \n",
      " 4   Usage Frequency         64374 non-null  int64 \n",
      " 5   Support Calls           64374 non-null  int64 \n",
      " 6   Payment Delay           64374 non-null  int64 \n",
      " 7   Subscription Type       64374 non-null  object\n",
      " 8   Contract Length         64374 non-null  object\n",
      " 9   Total Spend             64374 non-null  int64 \n",
      " 10  Last Interaction        64374 non-null  int64 \n",
      " 11  Churn                   64374 non-null  int64 \n",
      " 12  Usage Frequency weight  64374 non-null  int64 \n",
      " 13  Support Calls weight    64374 non-null  int64 \n",
      " 14  Payment Delay weight    64374 non-null  int64 \n",
      "dtypes: int64(12), object(3)\n",
      "memory usage: 7.4+ MB\n"
     ]
    }
   ],
   "source": [
    "data_plus.info()"
   ]
  },
  {
   "cell_type": "markdown",
   "id": "1c39556e",
   "metadata": {},
   "source": [
    "라벨인코딩"
   ]
  },
  {
   "cell_type": "markdown",
   "id": "253acfed",
   "metadata": {},
   "source": [
    "원본 데이터셋 적용"
   ]
  },
  {
   "cell_type": "code",
   "execution_count": 89,
   "id": "3544b00f",
   "metadata": {},
   "outputs": [
    {
     "name": "stdout",
     "output_type": "stream",
     "text": [
      "<class 'pandas.core.frame.DataFrame'>\n",
      "RangeIndex: 64374 entries, 0 to 64373\n",
      "Data columns (total 12 columns):\n",
      " #   Column             Non-Null Count  Dtype\n",
      "---  ------             --------------  -----\n",
      " 0   CustomerID         64374 non-null  int64\n",
      " 1   Age                64374 non-null  int64\n",
      " 2   Gender             64374 non-null  int32\n",
      " 3   Tenure             64374 non-null  int64\n",
      " 4   Usage Frequency    64374 non-null  int64\n",
      " 5   Support Calls      64374 non-null  int64\n",
      " 6   Payment Delay      64374 non-null  int64\n",
      " 7   Subscription Type  64374 non-null  int32\n",
      " 8   Contract Length    64374 non-null  int32\n",
      " 9   Total Spend        64374 non-null  int64\n",
      " 10  Last Interaction   64374 non-null  int64\n",
      " 11  Churn              64374 non-null  int64\n",
      "dtypes: int32(3), int64(9)\n",
      "memory usage: 5.2 MB\n"
     ]
    }
   ],
   "source": [
    "from sklearn.preprocessing import LabelEncoder\n",
    "\n",
    "# object 타입 변수 식별\n",
    "object_columns = data.select_dtypes(include=['object']).columns\n",
    "\n",
    "# 라벨 인코더 생성\n",
    "label_encoders = {col: LabelEncoder() for col in object_columns}\n",
    "\n",
    "# 각 object 타입 변수에 대해 라벨 인코딩 수행\n",
    "for col, le in label_encoders.items():\n",
    "    data[col] = le.fit_transform(data[col])\n",
    "\n",
    "# 결과 확인\n",
    "data.info()"
   ]
  },
  {
   "cell_type": "markdown",
   "id": "3cb59624",
   "metadata": {},
   "source": [
    "파생변수 추가한 데이터셋 적용"
   ]
  },
  {
   "cell_type": "code",
   "execution_count": 90,
   "id": "da41a94b",
   "metadata": {},
   "outputs": [
    {
     "name": "stdout",
     "output_type": "stream",
     "text": [
      "<class 'pandas.core.frame.DataFrame'>\n",
      "RangeIndex: 64374 entries, 0 to 64373\n",
      "Data columns (total 15 columns):\n",
      " #   Column                  Non-Null Count  Dtype\n",
      "---  ------                  --------------  -----\n",
      " 0   CustomerID              64374 non-null  int64\n",
      " 1   Age                     64374 non-null  int64\n",
      " 2   Gender                  64374 non-null  int32\n",
      " 3   Tenure                  64374 non-null  int64\n",
      " 4   Usage Frequency         64374 non-null  int64\n",
      " 5   Support Calls           64374 non-null  int64\n",
      " 6   Payment Delay           64374 non-null  int64\n",
      " 7   Subscription Type       64374 non-null  int32\n",
      " 8   Contract Length         64374 non-null  int32\n",
      " 9   Total Spend             64374 non-null  int64\n",
      " 10  Last Interaction        64374 non-null  int64\n",
      " 11  Churn                   64374 non-null  int64\n",
      " 12  Usage Frequency weight  64374 non-null  int64\n",
      " 13  Support Calls weight    64374 non-null  int64\n",
      " 14  Payment Delay weight    64374 non-null  int64\n",
      "dtypes: int32(3), int64(12)\n",
      "memory usage: 6.6 MB\n"
     ]
    }
   ],
   "source": [
    "from sklearn.preprocessing import LabelEncoder\n",
    "\n",
    "# object 타입 변수 식별\n",
    "object_columns = data_plus.select_dtypes(include=['object']).columns\n",
    "\n",
    "# 라벨 인코더 생성\n",
    "label_encoders = {col: LabelEncoder() for col in object_columns}\n",
    "\n",
    "# 각 object 타입 변수에 대해 라벨 인코딩 수행\n",
    "for col, le in label_encoders.items():\n",
    "    data_plus[col] = le.fit_transform(data_plus[col])\n",
    "\n",
    "# 결과 확인\n",
    "data_plus.info()"
   ]
  },
  {
   "cell_type": "markdown",
   "id": "194d9ac4",
   "metadata": {},
   "source": [
    "### 4. 분석(예측)"
   ]
  },
  {
   "cell_type": "markdown",
   "id": "d9407219",
   "metadata": {},
   "source": [
    "원본 데이터셋 이용"
   ]
  },
  {
   "cell_type": "code",
   "execution_count": 91,
   "id": "f312d355",
   "metadata": {},
   "outputs": [],
   "source": [
    "import pandas as pd\n",
    "from sklearn.model_selection import train_test_split\n",
    "from sklearn.ensemble import RandomForestClassifier\n",
    "from lightgbm import LGBMClassifier\n",
    "from sklearn.metrics import classification_report, accuracy_score\n",
    "\n",
    "# ID 변수와 target 변수 제외\n",
    "X = data.drop(columns=['CustomerID', 'Churn'])\n",
    "y = data['Churn']\n",
    "\n",
    "# 데이터를 2:8로 분할\n",
    "X_train, X_test, y_train, y_test = train_test_split(X, y, test_size=0.8, random_state=RANDOM_STATE)"
   ]
  },
  {
   "cell_type": "code",
   "execution_count": 92,
   "id": "2def1188",
   "metadata": {},
   "outputs": [
    {
     "name": "stdout",
     "output_type": "stream",
     "text": [
      "Accuracy: 0.9946407766990292\n",
      "Classification Report:\n",
      "               precision    recall  f1-score   support\n",
      "\n",
      "           0       0.99      1.00      0.99     27149\n",
      "           1       1.00      0.99      0.99     24351\n",
      "\n",
      "    accuracy                           0.99     51500\n",
      "   macro avg       0.99      0.99      0.99     51500\n",
      "weighted avg       0.99      0.99      0.99     51500\n",
      "\n"
     ]
    }
   ],
   "source": [
    "# rf 모델 학습\n",
    "rf_model = RandomForestClassifier(random_state=RANDOM_STATE)\n",
    "rf_model.fit(X_train, y_train)\n",
    "\n",
    "# 예측\n",
    "y_pred = rf_model.predict(X_test)\n",
    "\n",
    "# 성능 지표 출력\n",
    "print(\"Accuracy:\", accuracy_score(y_test, y_pred))\n",
    "print(\"Classification Report:\\n\", classification_report(y_test, y_pred))"
   ]
  },
  {
   "cell_type": "code",
   "execution_count": 93,
   "id": "1b5e525f",
   "metadata": {},
   "outputs": [
    {
     "name": "stdout",
     "output_type": "stream",
     "text": [
      "Accuracy: 0.998757281553398\n",
      "Classification Report:\n",
      "               precision    recall  f1-score   support\n",
      "\n",
      "           0       1.00      1.00      1.00     27149\n",
      "           1       1.00      1.00      1.00     24351\n",
      "\n",
      "    accuracy                           1.00     51500\n",
      "   macro avg       1.00      1.00      1.00     51500\n",
      "weighted avg       1.00      1.00      1.00     51500\n",
      "\n"
     ]
    }
   ],
   "source": [
    "# lgbm 모델 학습\n",
    "lgbm_model = LGBMClassifier(random_state=RANDOM_STATE, verbose=-1)\n",
    "lgbm_model.fit(X_train, y_train)\n",
    "\n",
    "# 예측\n",
    "y_pred = lgbm_model.predict(X_test)\n",
    "\n",
    "# 성능 지표 출력\n",
    "print(\"Accuracy:\", accuracy_score(y_test, y_pred))\n",
    "print(\"Classification Report:\\n\", classification_report(y_test, y_pred))"
   ]
  },
  {
   "cell_type": "markdown",
   "id": "dd4e1521",
   "metadata": {},
   "source": [
    "파생변수 추가한 데이터셋 이용"
   ]
  },
  {
   "cell_type": "code",
   "execution_count": 94,
   "id": "e379bdbe",
   "metadata": {},
   "outputs": [],
   "source": [
    "import pandas as pd\n",
    "from sklearn.model_selection import train_test_split\n",
    "from sklearn.ensemble import RandomForestClassifier\n",
    "from lightgbm import LGBMClassifier\n",
    "from sklearn.metrics import classification_report, accuracy_score\n",
    "\n",
    "# ID 변수와 target 변수 제외\n",
    "X = data_plus.drop(columns=['CustomerID', 'Churn'])\n",
    "y = data_plus['Churn']\n",
    "\n",
    "# 데이터를 2:8로 분할\n",
    "X_train, X_test, y_train, y_test = train_test_split(X, y, test_size=0.8, random_state=RANDOM_STATE)"
   ]
  },
  {
   "cell_type": "code",
   "execution_count": 95,
   "id": "91af98db",
   "metadata": {},
   "outputs": [
    {
     "name": "stdout",
     "output_type": "stream",
     "text": [
      "Accuracy: 0.9925825242718447\n",
      "Classification Report:\n",
      "               precision    recall  f1-score   support\n",
      "\n",
      "           0       0.99      0.99      0.99     27149\n",
      "           1       0.99      0.99      0.99     24351\n",
      "\n",
      "    accuracy                           0.99     51500\n",
      "   macro avg       0.99      0.99      0.99     51500\n",
      "weighted avg       0.99      0.99      0.99     51500\n",
      "\n"
     ]
    }
   ],
   "source": [
    "# rf 모델 학습\n",
    "rf_model = RandomForestClassifier(random_state=RANDOM_STATE)\n",
    "rf_model.fit(X_train, y_train)\n",
    "\n",
    "# 예측\n",
    "y_pred = rf_model.predict(X_test)\n",
    "\n",
    "# 성능 지표 출력\n",
    "print(\"Accuracy:\", accuracy_score(y_test, y_pred))\n",
    "print(\"Classification Report:\\n\", classification_report(y_test, y_pred))"
   ]
  },
  {
   "cell_type": "code",
   "execution_count": 96,
   "id": "0ed2814b",
   "metadata": {},
   "outputs": [
    {
     "name": "stdout",
     "output_type": "stream",
     "text": [
      "Accuracy: 0.9988349514563106\n",
      "Classification Report:\n",
      "               precision    recall  f1-score   support\n",
      "\n",
      "           0       1.00      1.00      1.00     27149\n",
      "           1       1.00      1.00      1.00     24351\n",
      "\n",
      "    accuracy                           1.00     51500\n",
      "   macro avg       1.00      1.00      1.00     51500\n",
      "weighted avg       1.00      1.00      1.00     51500\n",
      "\n"
     ]
    }
   ],
   "source": [
    "# lgbm 모델 학습\n",
    "lgbm_model = LGBMClassifier(random_state=RANDOM_STATE, verbose=-1)\n",
    "lgbm_model.fit(X_train, y_train)\n",
    "\n",
    "# 예측\n",
    "y_pred = lgbm_model.predict(X_test)\n",
    "\n",
    "# 성능 지표 출력\n",
    "print(\"Accuracy:\", accuracy_score(y_test, y_pred))\n",
    "print(\"Classification Report:\\n\", classification_report(y_test, y_pred))"
   ]
  },
  {
   "cell_type": "markdown",
   "id": "e889eb3d",
   "metadata": {},
   "source": [
    "랜덤포레스트,lightGBM 2가지 모델에 대해서 다른 데이터셋으로 2번씩 학습을 진행하여  \n",
    "성능비교를 하였을때 크게 차이나는 부분은 없음  "
   ]
  },
  {
   "cell_type": "markdown",
   "id": "cc1d0cc7",
   "metadata": {},
   "source": [
    "### 5. 결과 해석"
   ]
  },
  {
   "cell_type": "markdown",
   "id": "078e95d1",
   "metadata": {},
   "source": [
    "아래의 3가지 변수에 대해서   \n",
    "\n",
    "- Usage Frequency: 서비스 사용 빈도   \n",
    "- Support Calls: 고객 지원 센터에 전화한 횟수  \n",
    "- Payment Delay: 지불 지연 횟수 \n",
    "\n",
    "가중치를 부여하는 파생변수를 생성하였을때 큰 성능차이를 보이지는 않았지만  \n",
    "EDA 과정에서 특정구간을 벗어나면 고객이탈 비율이 급변하는 구간이 발생  \n",
    "\n",
    "이러한 점을 이용해 기업은 Usage Frequency, Support Calls, Payment Delay 의 일정 기준에 따라  \n",
    "고객 이탈을 예측할수 있고 또한 방지하는 솔루션을 고안해 낼수있다.  "
   ]
  },
  {
   "cell_type": "markdown",
   "id": "a7519336",
   "metadata": {},
   "source": [
    "."
   ]
  }
 ],
 "metadata": {
  "kernelspec": {
   "display_name": "Python 3 (ipykernel)",
   "language": "python",
   "name": "python3"
  },
  "language_info": {
   "codemirror_mode": {
    "name": "ipython",
    "version": 3
   },
   "file_extension": ".py",
   "mimetype": "text/x-python",
   "name": "python",
   "nbconvert_exporter": "python",
   "pygments_lexer": "ipython3",
   "version": "3.7.8"
  }
 },
 "nbformat": 4,
 "nbformat_minor": 5
}
