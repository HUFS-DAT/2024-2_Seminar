{
 "cells": [
  {
   "cell_type": "markdown",
   "id": "7efd4965",
   "metadata": {},
   "source": [
    "## 1차 과제 - 고객 유지/이탈 자유 분석\n",
    "- 주제: 가입 고객 이탈 데이터를 분석하여 기업에 인사이트 제공\n",
    "- 데이터: Customer Churn Data(train data가 따로 있으나 너무 커서 test data만 사용, 예측 성능 향상을 원한다면 train data 사용해도 무방)\n",
    "https://www.kaggle.com/datasets/muhammadshahidazeem/customer-churn-dataset?select=customer_churn_dataset-training-master.csv\n",
    "- 사용 라이브러리: 자유\n",
    "\n",
    "본 과제는 여러분들의 실력을 확인하고자 출제한 과제로 어떠한 가이드라인도 제공하거나 제약하지 않으며 자유롭게 분석하시면 됩니다.\n",
    "\n",
    "분석이나 예측 어느 쪽이든 상관없으며 몇가지 조건만 유의하여 주시기 바랍니다."
   ]
  },
  {
   "cell_type": "markdown",
   "id": "afecb645",
   "metadata": {},
   "source": [
    "### 조건\n",
    "1. 기본적인 분석 과정은 EDA(데이터 탐색) > 전처리 > 분석(예측) 진행 > 결과 해석 으로 진행되지만 약간의 수정 허용\n",
    "2. EDA 과정에서 최소 2개의 시각화 모형(그래프) 사용\n",
    "3. 분석 및 예측 시 최소 2개의 모형(모델) 사용\n",
    "4. 전처리는 자유롭게 진행하며 추가적인 데이터 사용이 필요하다면 허용"
   ]
  },
  {
   "cell_type": "code",
   "execution_count": 39,
   "id": "88947d7f",
   "metadata": {},
   "outputs": [],
   "source": [
    "import pandas as pd\n",
    "import matplotlib.pyplot as plt\n",
    "\n",
    "from sklearn.model_selection import train_test_split\n",
    "\n",
    "from sklearn.linear_model import LogisticRegression\n",
    "from sklearn.ensemble import RandomForestClassifier\n",
    "from sklearn.metrics import accuracy_score, roc_auc_score\n",
    "\n",
    "import warnings\n",
    "warnings.filterwarnings('ignore')"
   ]
  },
  {
   "cell_type": "code",
   "execution_count": 27,
   "id": "be407925",
   "metadata": {},
   "outputs": [
    {
     "data": {
      "text/html": [
       "<div>\n",
       "<style scoped>\n",
       "    .dataframe tbody tr th:only-of-type {\n",
       "        vertical-align: middle;\n",
       "    }\n",
       "\n",
       "    .dataframe tbody tr th {\n",
       "        vertical-align: top;\n",
       "    }\n",
       "\n",
       "    .dataframe thead th {\n",
       "        text-align: right;\n",
       "    }\n",
       "</style>\n",
       "<table border=\"1\" class=\"dataframe\">\n",
       "  <thead>\n",
       "    <tr style=\"text-align: right;\">\n",
       "      <th></th>\n",
       "      <th>CustomerID</th>\n",
       "      <th>Age</th>\n",
       "      <th>Gender</th>\n",
       "      <th>Tenure</th>\n",
       "      <th>Usage Frequency</th>\n",
       "      <th>Support Calls</th>\n",
       "      <th>Payment Delay</th>\n",
       "      <th>Subscription Type</th>\n",
       "      <th>Contract Length</th>\n",
       "      <th>Total Spend</th>\n",
       "      <th>Last Interaction</th>\n",
       "      <th>Churn</th>\n",
       "    </tr>\n",
       "  </thead>\n",
       "  <tbody>\n",
       "    <tr>\n",
       "      <th>0</th>\n",
       "      <td>1</td>\n",
       "      <td>22</td>\n",
       "      <td>Female</td>\n",
       "      <td>25</td>\n",
       "      <td>14</td>\n",
       "      <td>4</td>\n",
       "      <td>27</td>\n",
       "      <td>Basic</td>\n",
       "      <td>Monthly</td>\n",
       "      <td>598</td>\n",
       "      <td>9</td>\n",
       "      <td>1</td>\n",
       "    </tr>\n",
       "    <tr>\n",
       "      <th>1</th>\n",
       "      <td>2</td>\n",
       "      <td>41</td>\n",
       "      <td>Female</td>\n",
       "      <td>28</td>\n",
       "      <td>28</td>\n",
       "      <td>7</td>\n",
       "      <td>13</td>\n",
       "      <td>Standard</td>\n",
       "      <td>Monthly</td>\n",
       "      <td>584</td>\n",
       "      <td>20</td>\n",
       "      <td>0</td>\n",
       "    </tr>\n",
       "    <tr>\n",
       "      <th>2</th>\n",
       "      <td>3</td>\n",
       "      <td>47</td>\n",
       "      <td>Male</td>\n",
       "      <td>27</td>\n",
       "      <td>10</td>\n",
       "      <td>2</td>\n",
       "      <td>29</td>\n",
       "      <td>Premium</td>\n",
       "      <td>Annual</td>\n",
       "      <td>757</td>\n",
       "      <td>21</td>\n",
       "      <td>0</td>\n",
       "    </tr>\n",
       "    <tr>\n",
       "      <th>3</th>\n",
       "      <td>4</td>\n",
       "      <td>35</td>\n",
       "      <td>Male</td>\n",
       "      <td>9</td>\n",
       "      <td>12</td>\n",
       "      <td>5</td>\n",
       "      <td>17</td>\n",
       "      <td>Premium</td>\n",
       "      <td>Quarterly</td>\n",
       "      <td>232</td>\n",
       "      <td>18</td>\n",
       "      <td>0</td>\n",
       "    </tr>\n",
       "    <tr>\n",
       "      <th>4</th>\n",
       "      <td>5</td>\n",
       "      <td>53</td>\n",
       "      <td>Female</td>\n",
       "      <td>58</td>\n",
       "      <td>24</td>\n",
       "      <td>9</td>\n",
       "      <td>2</td>\n",
       "      <td>Standard</td>\n",
       "      <td>Annual</td>\n",
       "      <td>533</td>\n",
       "      <td>18</td>\n",
       "      <td>0</td>\n",
       "    </tr>\n",
       "  </tbody>\n",
       "</table>\n",
       "</div>"
      ],
      "text/plain": [
       "   CustomerID  Age  Gender  Tenure  Usage Frequency  Support Calls  \\\n",
       "0           1   22  Female      25               14              4   \n",
       "1           2   41  Female      28               28              7   \n",
       "2           3   47    Male      27               10              2   \n",
       "3           4   35    Male       9               12              5   \n",
       "4           5   53  Female      58               24              9   \n",
       "\n",
       "   Payment Delay Subscription Type Contract Length  Total Spend  \\\n",
       "0             27             Basic         Monthly          598   \n",
       "1             13          Standard         Monthly          584   \n",
       "2             29           Premium          Annual          757   \n",
       "3             17           Premium       Quarterly          232   \n",
       "4              2          Standard          Annual          533   \n",
       "\n",
       "   Last Interaction  Churn  \n",
       "0                 9      1  \n",
       "1                20      0  \n",
       "2                21      0  \n",
       "3                18      0  \n",
       "4                18      0  "
      ]
     },
     "execution_count": 27,
     "metadata": {},
     "output_type": "execute_result"
    }
   ],
   "source": [
    "file_path = 'customer_churn_dataset-testing-master.csv'\n",
    "df = pd.read_csv(file_path)\n",
    "df.head()"
   ]
  },
  {
   "cell_type": "code",
   "execution_count": 28,
   "id": "8401814c",
   "metadata": {},
   "outputs": [
    {
     "name": "stdout",
     "output_type": "stream",
     "text": [
      "<class 'pandas.core.frame.DataFrame'>\n",
      "RangeIndex: 64374 entries, 0 to 64373\n",
      "Data columns (total 12 columns):\n",
      " #   Column             Non-Null Count  Dtype \n",
      "---  ------             --------------  ----- \n",
      " 0   CustomerID         64374 non-null  int64 \n",
      " 1   Age                64374 non-null  int64 \n",
      " 2   Gender             64374 non-null  object\n",
      " 3   Tenure             64374 non-null  int64 \n",
      " 4   Usage Frequency    64374 non-null  int64 \n",
      " 5   Support Calls      64374 non-null  int64 \n",
      " 6   Payment Delay      64374 non-null  int64 \n",
      " 7   Subscription Type  64374 non-null  object\n",
      " 8   Contract Length    64374 non-null  object\n",
      " 9   Total Spend        64374 non-null  int64 \n",
      " 10  Last Interaction   64374 non-null  int64 \n",
      " 11  Churn              64374 non-null  int64 \n",
      "dtypes: int64(9), object(3)\n",
      "memory usage: 5.9+ MB\n"
     ]
    }
   ],
   "source": [
    "df.info()"
   ]
  },
  {
   "cell_type": "code",
   "execution_count": 29,
   "id": "f701c689",
   "metadata": {},
   "outputs": [
    {
     "data": {
      "text/plain": [
       "<Figure size 1000x600 with 0 Axes>"
      ]
     },
     "metadata": {},
     "output_type": "display_data"
    },
    {
     "data": {
      "image/png": "[encoded data removed]",
      "text/plain": [
       "<Figure size 640x480 with 1 Axes>"
      ]
     },
     "metadata": {},
     "output_type": "display_data"
    },
    {
     "data": {
      "text/plain": [
       "<Figure size 1000x600 with 0 Axes>"
      ]
     },
     "metadata": {},
     "output_type": "display_data"
    },
    {
     "data": {
      "image/png": "[encoded data removed]",
      "text/plain": [
       "<Figure size 640x480 with 1 Axes>"
      ]
     },
     "metadata": {},
     "output_type": "display_data"
    }
   ],
   "source": [
    "# 시각화를 위한 데이터 준비\n",
    "churn_gender = df.groupby(['Gender', 'Churn']).size().unstack()\n",
    "churn_subscription = df.groupby(['Subscription Type', 'Churn']).size().unstack()\n",
    "\n",
    "# 시각화 1: 성별에 따른 이탈 여부 분포\n",
    "plt.figure(figsize=(10, 6))\n",
    "churn_gender.plot(kind='bar', stacked=True, color=['skyblue', 'salmon'])\n",
    "plt.title('Churn by Gender')\n",
    "plt.ylabel('Count')\n",
    "plt.xticks(rotation=0)\n",
    "plt.show()\n",
    "\n",
    "# 시각화 2: 구독 유형에 따른 이탈 여부 분포\n",
    "plt.figure(figsize=(10, 6))\n",
    "churn_subscription.plot(kind='bar', stacked=True, color=['lightgreen', 'orange'])\n",
    "plt.title('Churn by Subscription Type')\n",
    "plt.ylabel('Count')\n",
    "plt.xticks(rotation=0)\n",
    "plt.show()"
   ]
  },
  {
   "cell_type": "markdown",
   "id": "3010ffae",
   "metadata": {},
   "source": [
    "- 성별에 따른 이탈 여부: 남성과 여성 모두 유사한 비율로 이탈하고 있으며, 이탈 여부에 성별이 큰 영향을 미치지 않는 것으로 보입니다.\n",
    "- 구독 유형에 따른 이탈 여부: 기본 구독(Basic) 고객들이 다른 구독 유형(Standard, Premium)에 비해 이탈률이 높습니다. 반면 프리미엄 구독(Premium) 고객들의 이탈률은 상대적으로 낮은 편입니다."
   ]
  },
  {
   "cell_type": "code",
   "execution_count": 30,
   "id": "0ab5f491",
   "metadata": {},
   "outputs": [],
   "source": [
    "# 범주형 변수 인코딩\n",
    "df['Gender'] = df['Gender'].map({'Male': 1, 'Female': 0})\n",
    "df_encoded = pd.get_dummies(df, columns=['Subscription Type', 'Contract Length'], drop_first=True)"
   ]
  },
  {
   "cell_type": "code",
   "execution_count": 31,
   "id": "05eafb4f",
   "metadata": {},
   "outputs": [],
   "source": [
    "# 이상치 처리: IQR을 사용하여 이상치 제거 (Age, Usage Frequency, Total Spend)\n",
    "Q1 = df_encoded[['Age', 'Usage Frequency', 'Total Spend']].quantile(0.25)\n",
    "Q3 = df_encoded[['Age', 'Usage Frequency', 'Total Spend']].quantile(0.75)\n",
    "IQR = Q3 - Q1\n",
    "\n",
    "# IQR 범위를 벗어난 값 제거\n",
    "df_cleaned = df_encoded[~((df_encoded[['Age', 'Usage Frequency', 'Total Spend']] < (Q1 - 1.5 * IQR)) | \n",
    "                      (df_encoded[['Age', 'Usage Frequency', 'Total Spend']] > (Q3 + 1.5 * IQR))).any(axis=1)]"
   ]
  },
  {
   "cell_type": "code",
   "execution_count": 32,
   "id": "afb75052",
   "metadata": {},
   "outputs": [],
   "source": [
    "# 추가 변수 생성 (월별 지출, 지연 비율)\n",
    "df_cleaned['Monthly Spend'] = df_cleaned['Total Spend'] / (df_cleaned['Tenure'] + 1)\n",
    "df_cleaned['Delay Rate'] = df_cleaned['Payment Delay'] / (df_cleaned['Tenure'] + 1)"
   ]
  },
  {
   "cell_type": "code",
   "execution_count": 33,
   "id": "ea5a2cc6",
   "metadata": {},
   "outputs": [],
   "source": [
    "X = df_cleaned.drop(columns=['CustomerID', 'Churn'])\n",
    "y = df_cleaned['Churn']"
   ]
  },
  {
   "cell_type": "code",
   "execution_count": 34,
   "id": "d1997245",
   "metadata": {},
   "outputs": [],
   "source": [
    "# 데이터 분할\n",
    "X_train, X_test, y_train, y_test = train_test_split(X, y, test_size=0.3, random_state=42)"
   ]
  },
  {
   "cell_type": "code",
   "execution_count": 42,
   "id": "01eabaad",
   "metadata": {},
   "outputs": [],
   "source": [
    "# 모델 1: 로지스틱 회귀\n",
    "lr_model = LogisticRegression()\n",
    "lr_model.fit(X_train, y_train)\n",
    "y_pred_lr = lr_model.predict(X_test)\n",
    "lr_acc = accuracy_score(y_test, y_pred_lr)"
   ]
  },
  {
   "cell_type": "code",
   "execution_count": 43,
   "id": "dfa51466",
   "metadata": {},
   "outputs": [],
   "source": [
    "# 모델 2: 랜덤 포레스트\n",
    "rf_model = RandomForestClassifier()\n",
    "rf_model.fit(X_train, y_train)\n",
    "y_pred_rf = rf_model.predict(X_test)\n",
    "rf_acc = accuracy_score(y_test, y_pred_rf)"
   ]
  },
  {
   "cell_type": "code",
   "execution_count": 44,
   "id": "916172e3",
   "metadata": {},
   "outputs": [
    {
     "name": "stdout",
     "output_type": "stream",
     "text": [
      "로지스틱 회귀의 정확도는 79.8%입니다.\n",
      "랜덤 포레스트의 정확도는 99.7%입니다.\n"
     ]
    }
   ],
   "source": [
    "print(f'로지스틱 회귀의 정확도는 {lr_acc * 100:.1f}%입니다.')\n",
    "print(f'랜덤 포레스트의 정확도는 {rf_acc * 100:.1f}%입니다.')"
   ]
  },
  {
   "cell_type": "markdown",
   "id": "99a49a58",
   "metadata": {},
   "source": [
    "-> 랜덤 포레스트 모델이 더 높은 정확도를 가지고 있다는 것을 알 수 있습니다."
   ]
  }
 ],
 "metadata": {
  "kernelspec": {
   "display_name": "Python 3 (ipykernel)",
   "language": "python",
   "name": "python3"
  },
  "language_info": {
   "codemirror_mode": {
    "name": "ipython",
    "version": 3
   },
   "file_extension": ".py",
   "mimetype": "text/x-python",
   "name": "python",
   "nbconvert_exporter": "python",
   "pygments_lexer": "ipython3",
   "version": "3.11.5"
  }
 },
 "nbformat": 4,
 "nbformat_minor": 5
}
