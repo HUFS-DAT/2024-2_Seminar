{
 "cells": [
  {
   "cell_type": "markdown",
   "id": "277161ad",
   "metadata": {
    "id": "277161ad"
   },
   "source": [
    "## N차 과제 - API Scrapping_Reddit\n",
    "\n",
    "- 주제: API를 활용한 데이터 불러오기 및 분석\n",
    "- 데이터: 커뮤니티 텍스트 데이터(API 활용)\n",
    "- 사용 라이브러리: praw, wordcloud, seaborn, nltk"
   ]
  },
  {
   "cell_type": "markdown",
   "id": "ad025ca0",
   "metadata": {
    "id": "ad025ca0"
   },
   "source": [
    "### 1. 라이브러리 및 API 설정"
   ]
  },
  {
   "cell_type": "markdown",
   "id": "3c55604d",
   "metadata": {
    "id": "3c55604d"
   },
   "source": [
    "1.1 미국 최대 커뮤니티 중 하나인 레딧(Reddit)에서 데이터를 불러오기 위해 praw 라이브러리를 install 해야 합니다."
   ]
  },
  {
   "cell_type": "code",
   "execution_count": 1,
   "id": "89ecfff8",
   "metadata": {
    "id": "89ecfff8",
    "outputId": "c6a65ea5-f9a2-4b9f-c3aa-c0cf2f85e596",
    "scrolled": true
   },
   "outputs": [
    {
     "name": "stdout",
     "output_type": "stream",
     "text": [
      "Requirement already satisfied: praw in c:\\users\\lg\\appdata\\local\\programs\\python\\python36-32\\lib\\site-packages (7.5.0)\n",
      "Requirement already satisfied: websocket-client>=0.54.0 in c:\\users\\lg\\appdata\\local\\programs\\python\\python36-32\\lib\\site-packages (from praw) (1.3.1)\n",
      "Requirement already satisfied: update-checker>=0.18 in c:\\users\\lg\\appdata\\local\\programs\\python\\python36-32\\lib\\site-packages (from praw) (0.18.0)\n",
      "Requirement already satisfied: prawcore<3,>=2.1 in c:\\users\\lg\\appdata\\local\\programs\\python\\python36-32\\lib\\site-packages (from praw) (2.3.0)\n",
      "Requirement already satisfied: requests<3.0,>=2.6.0 in c:\\users\\lg\\appdata\\local\\programs\\python\\python36-32\\lib\\site-packages (from prawcore<3,>=2.1->praw) (2.27.1)\n",
      "Requirement already satisfied: idna<4,>=2.5 in c:\\users\\lg\\appdata\\local\\programs\\python\\python36-32\\lib\\site-packages (from requests<3.0,>=2.6.0->prawcore<3,>=2.1->praw) (3.10)\n",
      "Requirement already satisfied: urllib3<1.27,>=1.21.1 in c:\\users\\lg\\appdata\\local\\programs\\python\\python36-32\\lib\\site-packages (from requests<3.0,>=2.6.0->prawcore<3,>=2.1->praw) (1.26.20)\n",
      "Requirement already satisfied: charset-normalizer~=2.0.0 in c:\\users\\lg\\appdata\\local\\programs\\python\\python36-32\\lib\\site-packages (from requests<3.0,>=2.6.0->prawcore<3,>=2.1->praw) (2.0.12)\n",
      "Requirement already satisfied: certifi>=2017.4.17 in c:\\users\\lg\\appdata\\local\\programs\\python\\python36-32\\lib\\site-packages (from requests<3.0,>=2.6.0->prawcore<3,>=2.1->praw) (2024.8.30)\n"
     ]
    }
   ],
   "source": [
    "!pip install praw"
   ]
  },
  {
   "cell_type": "markdown",
   "id": "d6581612",
   "metadata": {
    "id": "d6581612"
   },
   "source": [
    "1.2 라이브러리 설정"
   ]
  },
  {
   "cell_type": "code",
   "execution_count": 2,
   "id": "dc261f88",
   "metadata": {
    "id": "dc261f88"
   },
   "outputs": [
    {
     "name": "stdout",
     "output_type": "stream",
     "text": [
      "Requirement already satisfied: wordcloud in c:\\users\\lg\\appdata\\local\\programs\\python\\python36-32\\lib\\site-packages (1.9.2)\n",
      "Requirement already satisfied: numpy>=1.6.1 in c:\\users\\lg\\appdata\\local\\programs\\python\\python36-32\\lib\\site-packages (from wordcloud) (1.19.5)\n",
      "Requirement already satisfied: pillow in c:\\users\\lg\\appdata\\local\\programs\\python\\python36-32\\lib\\site-packages (from wordcloud) (8.4.0)\n",
      "Requirement already satisfied: matplotlib in c:\\users\\lg\\appdata\\local\\programs\\python\\python36-32\\lib\\site-packages (from wordcloud) (3.3.4)\n",
      "Requirement already satisfied: cycler>=0.10 in c:\\users\\lg\\appdata\\local\\programs\\python\\python36-32\\lib\\site-packages (from matplotlib->wordcloud) (0.11.0)\n",
      "Requirement already satisfied: pyparsing!=2.0.4,!=2.1.2,!=2.1.6,>=2.0.3 in c:\\users\\lg\\appdata\\local\\programs\\python\\python36-32\\lib\\site-packages (from matplotlib->wordcloud) (3.1.4)\n",
      "Requirement already satisfied: python-dateutil>=2.1 in c:\\users\\lg\\appdata\\local\\programs\\python\\python36-32\\lib\\site-packages (from matplotlib->wordcloud) (2.9.0.post0)\n",
      "Requirement already satisfied: kiwisolver>=1.0.1 in c:\\users\\lg\\appdata\\local\\programs\\python\\python36-32\\lib\\site-packages (from matplotlib->wordcloud) (1.3.1)\n",
      "Requirement already satisfied: six>=1.5 in c:\\users\\lg\\appdata\\local\\programs\\python\\python36-32\\lib\\site-packages (from python-dateutil>=2.1->matplotlib->wordcloud) (1.16.0)\n",
      "Requirement already satisfied: nltk in c:\\users\\lg\\appdata\\local\\programs\\python\\python36-32\\lib\\site-packages (3.6.7)\n",
      "Requirement already satisfied: joblib in c:\\users\\lg\\appdata\\local\\programs\\python\\python36-32\\lib\\site-packages (from nltk) (1.1.1)\n",
      "Requirement already satisfied: click in c:\\users\\lg\\appdata\\local\\programs\\python\\python36-32\\lib\\site-packages (from nltk) (8.0.4)\n",
      "Requirement already satisfied: tqdm in c:\\users\\lg\\appdata\\local\\programs\\python\\python36-32\\lib\\site-packages (from nltk) (4.64.1)\n",
      "Requirement already satisfied: regex>=2021.8.3 in c:\\users\\lg\\appdata\\local\\programs\\python\\python36-32\\lib\\site-packages (from nltk) (2023.8.8)\n",
      "Requirement already satisfied: colorama in c:\\users\\lg\\appdata\\local\\programs\\python\\python36-32\\lib\\site-packages (from click->nltk) (0.4.5)\n",
      "Requirement already satisfied: importlib-metadata in c:\\users\\lg\\appdata\\local\\programs\\python\\python36-32\\lib\\site-packages (from click->nltk) (4.8.3)\n",
      "Requirement already satisfied: importlib-resources in c:\\users\\lg\\appdata\\local\\programs\\python\\python36-32\\lib\\site-packages (from tqdm->nltk) (5.4.0)\n",
      "Requirement already satisfied: typing-extensions>=3.6.4 in c:\\users\\lg\\appdata\\local\\programs\\python\\python36-32\\lib\\site-packages (from importlib-metadata->click->nltk) (4.1.1)\n",
      "Requirement already satisfied: zipp>=0.5 in c:\\users\\lg\\appdata\\local\\programs\\python\\python36-32\\lib\\site-packages (from importlib-metadata->click->nltk) (3.6.0)\n",
      "Requirement already satisfied: pillow in c:\\users\\lg\\appdata\\local\\programs\\python\\python36-32\\lib\\site-packages (8.4.0)\n",
      "Requirement already satisfied: wordcloud in c:\\users\\lg\\appdata\\local\\programs\\python\\python36-32\\lib\\site-packages (1.9.2)\n",
      "Requirement already satisfied: numpy>=1.6.1 in c:\\users\\lg\\appdata\\local\\programs\\python\\python36-32\\lib\\site-packages (from wordcloud) (1.19.5)\n",
      "Requirement already satisfied: matplotlib in c:\\users\\lg\\appdata\\local\\programs\\python\\python36-32\\lib\\site-packages (from wordcloud) (3.3.4)\n",
      "Requirement already satisfied: python-dateutil>=2.1 in c:\\users\\lg\\appdata\\local\\programs\\python\\python36-32\\lib\\site-packages (from matplotlib->wordcloud) (2.9.0.post0)\n",
      "Requirement already satisfied: pyparsing!=2.0.4,!=2.1.2,!=2.1.6,>=2.0.3 in c:\\users\\lg\\appdata\\local\\programs\\python\\python36-32\\lib\\site-packages (from matplotlib->wordcloud) (3.1.4)\n",
      "Requirement already satisfied: cycler>=0.10 in c:\\users\\lg\\appdata\\local\\programs\\python\\python36-32\\lib\\site-packages (from matplotlib->wordcloud) (0.11.0)\n",
      "Requirement already satisfied: kiwisolver>=1.0.1 in c:\\users\\lg\\appdata\\local\\programs\\python\\python36-32\\lib\\site-packages (from matplotlib->wordcloud) (1.3.1)\n",
      "Requirement already satisfied: six>=1.5 in c:\\users\\lg\\appdata\\local\\programs\\python\\python36-32\\lib\\site-packages (from python-dateutil>=2.1->matplotlib->wordcloud) (1.16.0)\n"
     ]
    }
   ],
   "source": [
    "!pip install wordcloud\n",
    "!pip install nltk\n",
    "!pip install --upgrade pillow wordcloud\n",
    "import praw\n",
    "import pandas as pd\n",
    "import matplotlib.pyplot as plt\n",
    "import datetime as dt\n",
    "from wordcloud import WordCloud\n",
    "import seaborn as sns\n",
    "import nltk\n",
    "from nltk.corpus import stopwords\n",
    "from nltk.tokenize import word_tokenize\n",
    "from collections import Counter"
   ]
  },
  {
   "cell_type": "markdown",
   "id": "a81264b9",
   "metadata": {
    "id": "a81264b9"
   },
   "source": [
    "1.3 자연어처리를 위해 사용할 nltk 패키지를 다운로드하겠습니다(NLP 과제가 아니므로 자세히 살펴보지는 않겠습니다).\n",
    "\n",
    "궁금하신 분들을 위해!\n",
    "https://datascienceschool.net/03%20machine%20learning/03.01.01%20NLTK%20%EC%9E%90%EC%97%B0%EC%96%B4%20%EC%B2%98%EB%A6%AC%20%ED%8C%A8%ED%82%A4%EC%A7%80.html"
   ]
  },
  {
   "cell_type": "code",
   "execution_count": 3,
   "id": "a527f0cc",
   "metadata": {
    "id": "a527f0cc",
    "outputId": "d5a1aa61-8150-481c-cc28-8f226453ca44"
   },
   "outputs": [
    {
     "name": "stderr",
     "output_type": "stream",
     "text": [
      "[nltk_data] Downloading package punkt to\n",
      "[nltk_data]     C:\\Users\\LG\\AppData\\Roaming\\nltk_data...\n",
      "[nltk_data]   Package punkt is already up-to-date!\n",
      "[nltk_data] Downloading package stopwords to\n",
      "[nltk_data]     C:\\Users\\LG\\AppData\\Roaming\\nltk_data...\n",
      "[nltk_data]   Package stopwords is already up-to-date!\n"
     ]
    },
    {
     "data": {
      "text/plain": [
       "True"
      ]
     },
     "execution_count": 3,
     "metadata": {},
     "output_type": "execute_result"
    }
   ],
   "source": [
    "nltk.download('punkt')\n",
    "nltk.download('stopwords')"
   ]
  },
  {
   "cell_type": "markdown",
   "id": "c42ca264",
   "metadata": {
    "id": "c42ca264"
   },
   "source": [
    "1.4 API 인증을 받겠습니다. 절차의 경우 추가로 첨부한 자료를 참고해주세요.\n",
    "### **과제를 제출할 때는 본 항목의 API 키들은 모두 지우고 제출해주세요! 공유되면 안 됩니다.**"
   ]
  },
  {
   "cell_type": "code",
   "execution_count": 4,
   "id": "d0deadee",
   "metadata": {
    "id": "d0deadee"
   },
   "outputs": [
    {
     "name": "stderr",
     "output_type": "stream",
     "text": [
      "Version 7.5.0 of praw is outdated. Version 7.7.1 was released Tuesday July 11, 2023.\n"
     ]
    }
   ],
   "source": [
    "#Reddit API 인증\n",
    "reddit = praw.Reddit(\n",
    "    client_id='Dg2PyiFlkR-LCZb3utPMdA',\n",
    "    client_secret='viGweePliBv-Feaan4NIFCZNEYIEFQ',\n",
    "    user_agent='bumbkie'\n",
    ")"
   ]
  },
  {
   "cell_type": "markdown",
   "id": "f0f3cb46",
   "metadata": {
    "id": "f0f3cb46"
   },
   "source": [
    "### 2. 데이터 수집 및 분석"
   ]
  },
  {
   "cell_type": "markdown",
   "id": "246be930",
   "metadata": {
    "id": "246be930"
   },
   "source": [
    "2.1 본격적으로 API를 활용해 데이터를 불러오겠습니다. 먼저 subreddit을 'stocks'로 설정하고 엔비디아 주식에 대한 게시글을 가져오겠습니다."
   ]
  },
  {
   "cell_type": "code",
   "execution_count": 5,
   "id": "da204b2f",
   "metadata": {
    "id": "da204b2f"
   },
   "outputs": [],
   "source": [
    "subreddit_name = 'stocks'\n",
    "search_query = 'NVIDIA OR NVDA'\n",
    "subreddit = reddit.subreddit(subreddit_name)\n",
    "top_posts = subreddit.search(search_query, limit=300, sort='top')"
   ]
  },
  {
   "cell_type": "markdown",
   "id": "fe27b27b",
   "metadata": {
    "id": "fe27b27b"
   },
   "source": [
    "2.2 가져온 데이터를 제목과 내용으로 분리된 데이터프레임으로 변환하세요."
   ]
  },
  {
   "cell_type": "code",
   "execution_count": 6,
   "id": "1e515b81",
   "metadata": {
    "id": "1e515b81"
   },
   "outputs": [],
   "source": [
    "posts_data = []"
   ]
  },
  {
   "cell_type": "code",
   "execution_count": 7,
   "id": "4753306b",
   "metadata": {
    "id": "4753306b"
   },
   "outputs": [],
   "source": [
    "for post in top_posts :\n",
    "    posts_data.append({\n",
    "        'title' : post.title, \n",
    "        'text' : post.selftext  })"
   ]
  },
  {
   "cell_type": "code",
   "execution_count": 8,
   "id": "324f167c",
   "metadata": {
    "id": "324f167c",
    "outputId": "a98ade84-20c7-4be9-e378-f706cb7dcfeb",
    "scrolled": true
   },
   "outputs": [
    {
     "data": {
      "text/html": [
       "<div>\n",
       "<style scoped>\n",
       "    .dataframe tbody tr th:only-of-type {\n",
       "        vertical-align: middle;\n",
       "    }\n",
       "\n",
       "    .dataframe tbody tr th {\n",
       "        vertical-align: top;\n",
       "    }\n",
       "\n",
       "    .dataframe thead th {\n",
       "        text-align: right;\n",
       "    }\n",
       "</style>\n",
       "<table border=\"1\" class=\"dataframe\">\n",
       "  <thead>\n",
       "    <tr style=\"text-align: right;\">\n",
       "      <th></th>\n",
       "      <th>title</th>\n",
       "      <th>text</th>\n",
       "    </tr>\n",
       "  </thead>\n",
       "  <tbody>\n",
       "    <tr>\n",
       "      <th>0</th>\n",
       "      <td>A note to young investors (or new investors)</td>\n",
       "      <td>As the Fed caused a bit of a ripple in the mar...</td>\n",
       "    </tr>\n",
       "    <tr>\n",
       "      <th>1</th>\n",
       "      <td>To all of you who are red this year while the ...</td>\n",
       "      <td>Lately I keep hearing the same old narrative f...</td>\n",
       "    </tr>\n",
       "    <tr>\n",
       "      <th>2</th>\n",
       "      <td>Pelosi's husband buying over $1 million of com...</td>\n",
       "      <td>[Full Article](https://www.msn.com/en-us/tv/ne...</td>\n",
       "    </tr>\n",
       "    <tr>\n",
       "      <th>3</th>\n",
       "      <td>Beware of what AMC shorts are holding!</td>\n",
       "      <td>I understand that most people in this thread i...</td>\n",
       "    </tr>\n",
       "    <tr>\n",
       "      <th>4</th>\n",
       "      <td>Blackberry -- A Dormant Giant</td>\n",
       "      <td>###**Abbreviation Index:**\\n\\nBB -- Blackberry...</td>\n",
       "    </tr>\n",
       "    <tr>\n",
       "      <th>...</th>\n",
       "      <td>...</td>\n",
       "      <td>...</td>\n",
       "    </tr>\n",
       "    <tr>\n",
       "      <th>230</th>\n",
       "      <td>Here is a Market Recap for today Thursday, Nov...</td>\n",
       "      <td>**PsychoMarket Recap - Thursday, November 18, ...</td>\n",
       "    </tr>\n",
       "    <tr>\n",
       "      <th>231</th>\n",
       "      <td>TSMC sales grow 45% in July on strong AI chip ...</td>\n",
       "      <td>(Bloomberg) -- Taiwan Semiconductor Manufactur...</td>\n",
       "    </tr>\n",
       "    <tr>\n",
       "      <th>232</th>\n",
       "      <td>META Still The Cheapest of The Magnificent 7, ...</td>\n",
       "      <td>Quick glance at some of the numbers for META. ...</td>\n",
       "    </tr>\n",
       "    <tr>\n",
       "      <th>233</th>\n",
       "      <td>Made 30% since I started trading 7 months ago ...</td>\n",
       "      <td>Hello folks, \\n\\nI am a 24 year old who starte...</td>\n",
       "    </tr>\n",
       "    <tr>\n",
       "      <th>234</th>\n",
       "      <td>CNBC: Meta’s advertising growth is proof that ...</td>\n",
       "      <td>This is a pretty long article, but I think it ...</td>\n",
       "    </tr>\n",
       "  </tbody>\n",
       "</table>\n",
       "<p>235 rows × 2 columns</p>\n",
       "</div>"
      ],
      "text/plain": [
       "                                                 title  \\\n",
       "0         A note to young investors (or new investors)   \n",
       "1    To all of you who are red this year while the ...   \n",
       "2    Pelosi's husband buying over $1 million of com...   \n",
       "3               Beware of what AMC shorts are holding!   \n",
       "4                        Blackberry -- A Dormant Giant   \n",
       "..                                                 ...   \n",
       "230  Here is a Market Recap for today Thursday, Nov...   \n",
       "231  TSMC sales grow 45% in July on strong AI chip ...   \n",
       "232  META Still The Cheapest of The Magnificent 7, ...   \n",
       "233  Made 30% since I started trading 7 months ago ...   \n",
       "234  CNBC: Meta’s advertising growth is proof that ...   \n",
       "\n",
       "                                                  text  \n",
       "0    As the Fed caused a bit of a ripple in the mar...  \n",
       "1    Lately I keep hearing the same old narrative f...  \n",
       "2    [Full Article](https://www.msn.com/en-us/tv/ne...  \n",
       "3    I understand that most people in this thread i...  \n",
       "4    ###**Abbreviation Index:**\\n\\nBB -- Blackberry...  \n",
       "..                                                 ...  \n",
       "230  **PsychoMarket Recap - Thursday, November 18, ...  \n",
       "231  (Bloomberg) -- Taiwan Semiconductor Manufactur...  \n",
       "232  Quick glance at some of the numbers for META. ...  \n",
       "233  Hello folks, \\n\\nI am a 24 year old who starte...  \n",
       "234  This is a pretty long article, but I think it ...  \n",
       "\n",
       "[235 rows x 2 columns]"
      ]
     },
     "execution_count": 8,
     "metadata": {},
     "output_type": "execute_result"
    }
   ],
   "source": [
    "df = pd.DataFrame(posts_data)\n",
    "df"
   ]
  },
  {
   "cell_type": "markdown",
   "id": "aa0a3c2c",
   "metadata": {
    "id": "aa0a3c2c"
   },
   "source": [
    "2.3 가져온 데이터를 토큰화, 불용어 제거 등 분석에 활용하기 위한 전처리를 진행하세요."
   ]
  },
  {
   "cell_type": "code",
   "execution_count": 9,
   "id": "ef4222ca",
   "metadata": {
    "id": "ef4222ca",
    "scrolled": true
   },
   "outputs": [
    {
     "name": "stderr",
     "output_type": "stream",
     "text": [
      "[nltk_data] Downloading package punkt to\n",
      "[nltk_data]     C:\\Users\\LG\\AppData\\Roaming\\nltk_data...\n",
      "[nltk_data]   Package punkt is already up-to-date!\n",
      "[nltk_data] Downloading package stopwords to\n",
      "[nltk_data]     C:\\Users\\LG\\AppData\\Roaming\\nltk_data...\n",
      "[nltk_data]   Package stopwords is already up-to-date!\n"
     ]
    },
    {
     "data": {
      "text/plain": [
       "True"
      ]
     },
     "execution_count": 9,
     "metadata": {},
     "output_type": "execute_result"
    }
   ],
   "source": [
    "# nltk 데이터 다운로드\n",
    "nltk.download('punkt')  # 토큰화 도구\n",
    "nltk.download('stopwords')  # 불용어 리스트"
   ]
  },
  {
   "cell_type": "code",
   "execution_count": 19,
   "id": "742abafc",
   "metadata": {},
   "outputs": [
    {
     "name": "stdout",
     "output_type": "stream",
     "text": [
      "['sample', 'text', 'preprocessing']\n"
     ]
    }
   ],
   "source": [
    "# 전처리 함수\n",
    "def preprocess_text(text):\n",
    "    # 전처리 로직\n",
    "    # 예를 들어, 소문자 변환 및 불용어 제거 등\n",
    "    words = word_tokenize(text.lower())\n",
    "    stop_words = set(stopwords.words('english'))\n",
    "    filtered_words = [word for word in words if word.isalnum() and word not in stop_words]\n",
    "    return filtered_words\n",
    "\n",
    "# 전처리 함수 실행\n",
    "words = preprocess_text(text)\n",
    "\n",
    "# 결과 출력\n",
    "print(words)"
   ]
  },
  {
   "cell_type": "code",
   "execution_count": 12,
   "id": "006f169a",
   "metadata": {},
   "outputs": [
    {
     "name": "stdout",
     "output_type": "stream",
     "text": [
      "Index(['title', 'text'], dtype='object')\n"
     ]
    }
   ],
   "source": [
    "print(df.columns)"
   ]
  },
  {
   "cell_type": "code",
   "execution_count": 13,
   "id": "8c41820d",
   "metadata": {},
   "outputs": [
    {
     "name": "stdout",
     "output_type": "stream",
     "text": [
      "                                     processed_title  \\\n",
      "0           [note, young, investors, new, investors]   \n",
      "1                              [red, year, p500, 30]   \n",
      "2  [pelosi, husband, buying, 1, million, computer...   \n",
      "3                     [beware, amc, shorts, holding]   \n",
      "4                       [blackberry, dormant, giant]   \n",
      "\n",
      "                                      processed_text  \n",
      "0  [fed, caused, bit, ripple, market, today, cons...  \n",
      "1  [lately, keep, hearing, old, narrative, invest...  \n",
      "2  [full, article, https, paul, pelosi, house, sp...  \n",
      "3  [understand, people, thread, invest, safely, w...  \n",
      "4  [abbreviation, index, bb, blackberry, aws, ama...  \n"
     ]
    }
   ],
   "source": [
    "# 'title'과 'text' 열에 전처리 함수 적용\n",
    "df['processed_title'] = df['title'].apply(preprocess_text)\n",
    "df['processed_text'] = df['text'].apply(preprocess_text)\n",
    "\n",
    "print(df[['processed_title', 'processed_text']].head())"
   ]
  },
  {
   "cell_type": "code",
   "execution_count": 61,
   "id": "3d429209",
   "metadata": {},
   "outputs": [],
   "source": [
    "from matplotlib import font_manager, rc\n",
    "font_path = \"C:/Windows/Fonts/malgun.ttf\"\n",
    "font_name = font_manager.FontProperties(fname = font_path).get_name()\n",
    "rc(\"font\", family = font_name)"
   ]
  },
  {
   "cell_type": "markdown",
   "id": "0bf561f5",
   "metadata": {
    "id": "0bf561f5"
   },
   "source": [
    "2.4 전처리된 데이터를 활용해 어떤 단어가 가장 많이 나왔는지 WordCloud를 통해 확인하세요."
   ]
  },
  {
   "cell_type": "code",
   "execution_count": 64,
   "id": "724f26c9",
   "metadata": {
    "scrolled": true
   },
   "outputs": [
    {
     "ename": "ValueError",
     "evalue": "Only supported for TrueType fonts",
     "output_type": "error",
     "traceback": [
      "\u001b[1;31m---------------------------------------------------------------------------\u001b[0m",
      "\u001b[1;31mValueError\u001b[0m                                Traceback (most recent call last)",
      "\u001b[1;32m<ipython-input-64-9732e43afe47>\u001b[0m in \u001b[0;36m<module>\u001b[1;34m\u001b[0m\n\u001b[0;32m      5\u001b[0m \u001b[0mall_words\u001b[0m \u001b[1;33m=\u001b[0m \u001b[0mdf\u001b[0m\u001b[1;33m[\u001b[0m\u001b[1;34m'processed_title'\u001b[0m\u001b[1;33m]\u001b[0m\u001b[1;33m.\u001b[0m\u001b[0msum\u001b[0m\u001b[1;33m(\u001b[0m\u001b[1;33m)\u001b[0m \u001b[1;33m+\u001b[0m \u001b[0mdf\u001b[0m\u001b[1;33m[\u001b[0m\u001b[1;34m'processed_text'\u001b[0m\u001b[1;33m]\u001b[0m\u001b[1;33m.\u001b[0m\u001b[0msum\u001b[0m\u001b[1;33m(\u001b[0m\u001b[1;33m)\u001b[0m\u001b[1;33m\u001b[0m\u001b[1;33m\u001b[0m\u001b[0m\n\u001b[0;32m      6\u001b[0m \u001b[0mall_words_str\u001b[0m \u001b[1;33m=\u001b[0m \u001b[1;34m' '\u001b[0m\u001b[1;33m.\u001b[0m\u001b[0mjoin\u001b[0m\u001b[1;33m(\u001b[0m\u001b[0mall_words\u001b[0m\u001b[1;33m)\u001b[0m\u001b[1;33m\u001b[0m\u001b[1;33m\u001b[0m\u001b[0m\n\u001b[1;32m----> 7\u001b[1;33m \u001b[0mwordcloud\u001b[0m \u001b[1;33m=\u001b[0m \u001b[0mWordCloud\u001b[0m\u001b[1;33m(\u001b[0m\u001b[0mwidth\u001b[0m\u001b[1;33m=\u001b[0m\u001b[1;36m800\u001b[0m\u001b[1;33m,\u001b[0m \u001b[0mheight\u001b[0m\u001b[1;33m=\u001b[0m\u001b[1;36m400\u001b[0m\u001b[1;33m,\u001b[0m \u001b[0mbackground_color\u001b[0m\u001b[1;33m=\u001b[0m\u001b[1;34m'white'\u001b[0m\u001b[1;33m)\u001b[0m\u001b[1;33m.\u001b[0m\u001b[0mgenerate\u001b[0m\u001b[1;33m(\u001b[0m\u001b[0mall_words_str\u001b[0m\u001b[1;33m)\u001b[0m\u001b[1;33m\u001b[0m\u001b[1;33m\u001b[0m\u001b[0m\n\u001b[0m\u001b[0;32m      8\u001b[0m \u001b[0mplt\u001b[0m\u001b[1;33m.\u001b[0m\u001b[0mfigure\u001b[0m\u001b[1;33m(\u001b[0m\u001b[0mfigsize\u001b[0m\u001b[1;33m=\u001b[0m\u001b[1;33m(\u001b[0m\u001b[1;36m10\u001b[0m\u001b[1;33m,\u001b[0m \u001b[1;36m5\u001b[0m\u001b[1;33m)\u001b[0m\u001b[1;33m)\u001b[0m\u001b[1;33m\u001b[0m\u001b[1;33m\u001b[0m\u001b[0m\n\u001b[0;32m      9\u001b[0m \u001b[0mplt\u001b[0m\u001b[1;33m.\u001b[0m\u001b[0mimshow\u001b[0m\u001b[1;33m(\u001b[0m\u001b[0mwordcloud\u001b[0m\u001b[1;33m,\u001b[0m \u001b[0minterpolation\u001b[0m\u001b[1;33m=\u001b[0m\u001b[1;34m'bilinear'\u001b[0m\u001b[1;33m)\u001b[0m\u001b[1;33m\u001b[0m\u001b[1;33m\u001b[0m\u001b[0m\n",
      "\u001b[1;32mc:\\users\\lg\\appdata\\local\\programs\\python\\python36-32\\lib\\site-packages\\wordcloud\\wordcloud.py\u001b[0m in \u001b[0;36mgenerate\u001b[1;34m(self, text)\u001b[0m\n\u001b[0;32m    637\u001b[0m         \u001b[0mself\u001b[0m\u001b[1;33m\u001b[0m\u001b[1;33m\u001b[0m\u001b[0m\n\u001b[0;32m    638\u001b[0m         \"\"\"\n\u001b[1;32m--> 639\u001b[1;33m         \u001b[1;32mreturn\u001b[0m \u001b[0mself\u001b[0m\u001b[1;33m.\u001b[0m\u001b[0mgenerate_from_text\u001b[0m\u001b[1;33m(\u001b[0m\u001b[0mtext\u001b[0m\u001b[1;33m)\u001b[0m\u001b[1;33m\u001b[0m\u001b[1;33m\u001b[0m\u001b[0m\n\u001b[0m\u001b[0;32m    640\u001b[0m \u001b[1;33m\u001b[0m\u001b[0m\n\u001b[0;32m    641\u001b[0m     \u001b[1;32mdef\u001b[0m \u001b[0m_check_generated\u001b[0m\u001b[1;33m(\u001b[0m\u001b[0mself\u001b[0m\u001b[1;33m)\u001b[0m\u001b[1;33m:\u001b[0m\u001b[1;33m\u001b[0m\u001b[1;33m\u001b[0m\u001b[0m\n",
      "\u001b[1;32mc:\\users\\lg\\appdata\\local\\programs\\python\\python36-32\\lib\\site-packages\\wordcloud\\wordcloud.py\u001b[0m in \u001b[0;36mgenerate_from_text\u001b[1;34m(self, text)\u001b[0m\n\u001b[0;32m    619\u001b[0m         \"\"\"\n\u001b[0;32m    620\u001b[0m         \u001b[0mwords\u001b[0m \u001b[1;33m=\u001b[0m \u001b[0mself\u001b[0m\u001b[1;33m.\u001b[0m\u001b[0mprocess_text\u001b[0m\u001b[1;33m(\u001b[0m\u001b[0mtext\u001b[0m\u001b[1;33m)\u001b[0m\u001b[1;33m\u001b[0m\u001b[1;33m\u001b[0m\u001b[0m\n\u001b[1;32m--> 621\u001b[1;33m         \u001b[0mself\u001b[0m\u001b[1;33m.\u001b[0m\u001b[0mgenerate_from_frequencies\u001b[0m\u001b[1;33m(\u001b[0m\u001b[0mwords\u001b[0m\u001b[1;33m)\u001b[0m\u001b[1;33m\u001b[0m\u001b[1;33m\u001b[0m\u001b[0m\n\u001b[0m\u001b[0;32m    622\u001b[0m         \u001b[1;32mreturn\u001b[0m \u001b[0mself\u001b[0m\u001b[1;33m\u001b[0m\u001b[1;33m\u001b[0m\u001b[0m\n\u001b[0;32m    623\u001b[0m \u001b[1;33m\u001b[0m\u001b[0m\n",
      "\u001b[1;32mc:\\users\\lg\\appdata\\local\\programs\\python\\python36-32\\lib\\site-packages\\wordcloud\\wordcloud.py\u001b[0m in \u001b[0;36mgenerate_from_frequencies\u001b[1;34m(self, frequencies, max_font_size)\u001b[0m\n\u001b[0;32m    452\u001b[0m             \u001b[1;32melse\u001b[0m\u001b[1;33m:\u001b[0m\u001b[1;33m\u001b[0m\u001b[1;33m\u001b[0m\u001b[0m\n\u001b[0;32m    453\u001b[0m                 self.generate_from_frequencies(dict(frequencies[:2]),\n\u001b[1;32m--> 454\u001b[1;33m                                                max_font_size=self.height)\n\u001b[0m\u001b[0;32m    455\u001b[0m                 \u001b[1;31m# find font sizes\u001b[0m\u001b[1;33m\u001b[0m\u001b[1;33m\u001b[0m\u001b[1;33m\u001b[0m\u001b[0m\n\u001b[0;32m    456\u001b[0m                 \u001b[0msizes\u001b[0m \u001b[1;33m=\u001b[0m \u001b[1;33m[\u001b[0m\u001b[0mx\u001b[0m\u001b[1;33m[\u001b[0m\u001b[1;36m1\u001b[0m\u001b[1;33m]\u001b[0m \u001b[1;32mfor\u001b[0m \u001b[0mx\u001b[0m \u001b[1;32min\u001b[0m \u001b[0mself\u001b[0m\u001b[1;33m.\u001b[0m\u001b[0mlayout_\u001b[0m\u001b[1;33m]\u001b[0m\u001b[1;33m\u001b[0m\u001b[1;33m\u001b[0m\u001b[0m\n",
      "\u001b[1;32mc:\\users\\lg\\appdata\\local\\programs\\python\\python36-32\\lib\\site-packages\\wordcloud\\wordcloud.py\u001b[0m in \u001b[0;36mgenerate_from_frequencies\u001b[1;34m(self, frequencies, max_font_size)\u001b[0m\n\u001b[0;32m    506\u001b[0m                     font, orientation=orientation)\n\u001b[0;32m    507\u001b[0m                 \u001b[1;31m# get size of resulting text\u001b[0m\u001b[1;33m\u001b[0m\u001b[1;33m\u001b[0m\u001b[1;33m\u001b[0m\u001b[0m\n\u001b[1;32m--> 508\u001b[1;33m                 \u001b[0mbox_size\u001b[0m \u001b[1;33m=\u001b[0m \u001b[0mdraw\u001b[0m\u001b[1;33m.\u001b[0m\u001b[0mtextbbox\u001b[0m\u001b[1;33m(\u001b[0m\u001b[1;33m(\u001b[0m\u001b[1;36m0\u001b[0m\u001b[1;33m,\u001b[0m \u001b[1;36m0\u001b[0m\u001b[1;33m)\u001b[0m\u001b[1;33m,\u001b[0m \u001b[0mword\u001b[0m\u001b[1;33m,\u001b[0m \u001b[0mfont\u001b[0m\u001b[1;33m=\u001b[0m\u001b[0mtransposed_font\u001b[0m\u001b[1;33m,\u001b[0m \u001b[0manchor\u001b[0m\u001b[1;33m=\u001b[0m\u001b[1;34m\"lt\"\u001b[0m\u001b[1;33m)\u001b[0m\u001b[1;33m\u001b[0m\u001b[1;33m\u001b[0m\u001b[0m\n\u001b[0m\u001b[0;32m    509\u001b[0m                 \u001b[1;31m# find possible places using integral image:\u001b[0m\u001b[1;33m\u001b[0m\u001b[1;33m\u001b[0m\u001b[1;33m\u001b[0m\u001b[0m\n\u001b[0;32m    510\u001b[0m                 result = occupancy.sample_position(box_size[3] + self.margin,\n",
      "\u001b[1;32mc:\\users\\lg\\appdata\\local\\programs\\python\\python36-32\\lib\\site-packages\\PIL\\ImageDraw.py\u001b[0m in \u001b[0;36mtextbbox\u001b[1;34m(self, xy, text, font, anchor, spacing, align, direction, features, language, stroke_width, embedded_color)\u001b[0m\n\u001b[0;32m    649\u001b[0m             \u001b[0mfont\u001b[0m \u001b[1;33m=\u001b[0m \u001b[0mself\u001b[0m\u001b[1;33m.\u001b[0m\u001b[0mgetfont\u001b[0m\u001b[1;33m(\u001b[0m\u001b[1;33m)\u001b[0m\u001b[1;33m\u001b[0m\u001b[1;33m\u001b[0m\u001b[0m\n\u001b[0;32m    650\u001b[0m         \u001b[1;32mif\u001b[0m \u001b[1;32mnot\u001b[0m \u001b[0misinstance\u001b[0m\u001b[1;33m(\u001b[0m\u001b[0mfont\u001b[0m\u001b[1;33m,\u001b[0m \u001b[0mImageFont\u001b[0m\u001b[1;33m.\u001b[0m\u001b[0mFreeTypeFont\u001b[0m\u001b[1;33m)\u001b[0m\u001b[1;33m:\u001b[0m\u001b[1;33m\u001b[0m\u001b[1;33m\u001b[0m\u001b[0m\n\u001b[1;32m--> 651\u001b[1;33m             \u001b[1;32mraise\u001b[0m \u001b[0mValueError\u001b[0m\u001b[1;33m(\u001b[0m\u001b[1;34m\"Only supported for TrueType fonts\"\u001b[0m\u001b[1;33m)\u001b[0m\u001b[1;33m\u001b[0m\u001b[1;33m\u001b[0m\u001b[0m\n\u001b[0m\u001b[0;32m    652\u001b[0m         \u001b[0mmode\u001b[0m \u001b[1;33m=\u001b[0m \u001b[1;34m\"RGBA\"\u001b[0m \u001b[1;32mif\u001b[0m \u001b[0membedded_color\u001b[0m \u001b[1;32melse\u001b[0m \u001b[0mself\u001b[0m\u001b[1;33m.\u001b[0m\u001b[0mfontmode\u001b[0m\u001b[1;33m\u001b[0m\u001b[1;33m\u001b[0m\u001b[0m\n\u001b[0;32m    653\u001b[0m         bbox = font.getbbox(\n",
      "\u001b[1;31mValueError\u001b[0m: Only supported for TrueType fonts"
     ]
    }
   ],
   "source": [
    "#계속 오류가 나는데 이유를 잘 모르겠습니다. . 죄송합니다 ..\n",
    "from wordcloud import WordCloud\n",
    "import matplotlib.pyplot as plt\n",
    "\n",
    "all_words = df['processed_title'].sum() + df['processed_text'].sum()\n",
    "all_words_str = ' '.join(all_words)\n",
    "wordcloud = WordCloud(width=800, height=400, background_color='white').generate(all_words_str)\n",
    "plt.figure(figsize=(10, 5))\n",
    "plt.imshow(wordcloud, interpolation='bilinear')\n",
    "plt.axis('on')\n",
    "plt.show()"
   ]
  },
  {
   "cell_type": "code",
   "execution_count": 28,
   "id": "49eff156",
   "metadata": {},
   "outputs": [
    {
     "name": "stdout",
     "output_type": "stream",
     "text": [
      "True\n"
     ]
    }
   ],
   "source": [
    "print(os.path.exists(font_path))"
   ]
  },
  {
   "cell_type": "markdown",
   "id": "8cea0064",
   "metadata": {
    "id": "8cea0064"
   },
   "source": [
    "2.6 가장 많이 나온 단어에는 어떤 것들이 있는지 barplot을 그려 확인하세요."
   ]
  },
  {
   "cell_type": "code",
   "execution_count": 45,
   "id": "746b48b8",
   "metadata": {
    "id": "746b48b8"
   },
   "outputs": [
    {
     "data": {
      "image/png": "[encoded data removed]",
      "text/plain": [
       "<Figure size 720x432 with 1 Axes>"
      ]
     },
     "metadata": {
      "needs_background": "light"
     },
     "output_type": "display_data"
    }
   ],
   "source": [
    "import seaborn as sns\n",
    "import matplotlib.pyplot as plt\n",
    "from collections import Counter\n",
    "\n",
    "title_words = [word for title in df['processed_title'] for word in title]\n",
    "selftext_words = [word for selftext in df['processed_text'] for word in selftext]\n",
    "all_words = title_words + selftext_words\n",
    "word_freq = Counter(all_words)\n",
    "\n",
    "common_words = word_freq.most_common(20)\n",
    "common_words_df = pd.DataFrame(common_words, columns=['Word', 'Frequency'])\n",
    "\n",
    "plt.figure(figsize=(10, 6))\n",
    "sns.barplot(x='Frequency', y='Word', data=common_words_df, palette='Blues_d')\n",
    "plt.title('Top 20 Most Common Words')\n",
    "plt.xlabel('Frequency')\n",
    "plt.ylabel('Words')\n",
    "plt.show()"
   ]
  },
  {
   "cell_type": "code",
   "execution_count": null,
   "id": "5a10a7b0",
   "metadata": {
    "id": "5a10a7b0",
    "outputId": "05b2d7f3-590a-412f-9884-ad280962892f"
   },
   "outputs": [
    {
     "data": {
      "image/png": "[encoded data removed]",
      "text/plain": [
       "<Figure size 1000x600 with 1 Axes>"
      ]
     },
     "metadata": {},
     "output_type": "display_data"
    }
   ],
   "source": []
  },
  {
   "cell_type": "markdown",
   "id": "d98e9704",
   "metadata": {
    "id": "d98e9704"
   },
   "source": [
    "# **제출 시 API 인증 부분의 id, secret은 모두 지우고 제출해주세요!**"
   ]
  },
  {
   "cell_type": "markdown",
   "id": "f2223dc2",
   "metadata": {
    "id": "f2223dc2"
   },
   "source": [
    "### 3. 자유 분석"
   ]
  },
  {
   "cell_type": "markdown",
   "id": "a7c41513",
   "metadata": {
    "id": "a7c41513"
   },
   "source": [
    "위에서 진행한 분석만으로는 유의미한 인사이트를 도출하기는 어렵습니다. 추가적인 분석을 통해 해당 주식에 대한 평가가 긍정적인지, 또는 어떠한 이슈가 있는지 확인하는 것과 같은 추가적인 분석을 진행해주세요. 게시글이 아닌 리뷰를 가져오는 것도 가능합니다.\n",
    "\n",
    "또한 본 분석에서 사용한 데이터가 아닌 다른 데이터를 활용하거나 또 다른 커뮤니티 혹은 사이트에서 API를 받아와 새로운 주제를 가지고 분석하는 것도 좋습니다:)"
   ]
  },
  {
   "cell_type": "code",
   "execution_count": 51,
   "id": "9e79540d",
   "metadata": {
    "id": "9e79540d"
   },
   "outputs": [
    {
     "name": "stdout",
     "output_type": "stream",
     "text": [
      "Requirement already satisfied: textblob in c:\\users\\lg\\appdata\\local\\programs\\python\\python36-32\\lib\\site-packages (0.17.1)\n",
      "Requirement already satisfied: nltk>=3.1 in c:\\users\\lg\\appdata\\local\\programs\\python\\python36-32\\lib\\site-packages (from textblob) (3.6.7)\n",
      "Requirement already satisfied: click in c:\\users\\lg\\appdata\\local\\programs\\python\\python36-32\\lib\\site-packages (from nltk>=3.1->textblob) (8.0.4)\n",
      "Requirement already satisfied: tqdm in c:\\users\\lg\\appdata\\local\\programs\\python\\python36-32\\lib\\site-packages (from nltk>=3.1->textblob) (4.64.1)\n",
      "Requirement already satisfied: joblib in c:\\users\\lg\\appdata\\local\\programs\\python\\python36-32\\lib\\site-packages (from nltk>=3.1->textblob) (1.1.1)\n",
      "Requirement already satisfied: regex>=2021.8.3 in c:\\users\\lg\\appdata\\local\\programs\\python\\python36-32\\lib\\site-packages (from nltk>=3.1->textblob) (2023.8.8)\n",
      "Requirement already satisfied: colorama in c:\\users\\lg\\appdata\\local\\programs\\python\\python36-32\\lib\\site-packages (from click->nltk>=3.1->textblob) (0.4.5)\n",
      "Requirement already satisfied: importlib-metadata in c:\\users\\lg\\appdata\\local\\programs\\python\\python36-32\\lib\\site-packages (from click->nltk>=3.1->textblob) (4.8.3)\n",
      "Requirement already satisfied: importlib-resources in c:\\users\\lg\\appdata\\local\\programs\\python\\python36-32\\lib\\site-packages (from tqdm->nltk>=3.1->textblob) (5.4.0)\n",
      "Requirement already satisfied: typing-extensions>=3.6.4 in c:\\users\\lg\\appdata\\local\\programs\\python\\python36-32\\lib\\site-packages (from importlib-metadata->click->nltk>=3.1->textblob) (4.1.1)\n",
      "Requirement already satisfied: zipp>=0.5 in c:\\users\\lg\\appdata\\local\\programs\\python\\python36-32\\lib\\site-packages (from importlib-metadata->click->nltk>=3.1->textblob) (3.6.0)\n"
     ]
    },
    {
     "data": {
      "image/png": "[encoded data removed]",
      "text/plain": [
       "<Figure size 720x360 with 1 Axes>"
      ]
     },
     "metadata": {
      "needs_background": "light"
     },
     "output_type": "display_data"
    }
   ],
   "source": [
    "!pip install textblob\n",
    "from textblob import TextBlob\n",
    "import pandas as pd\n",
    "\n",
    "# 감성 분석 함수 정의\n",
    "def get_sentiment(text):\n",
    "    # 텍스트가 리스트일 경우 문자열로 변환\n",
    "    if isinstance(text, list):\n",
    "        text = ' '.join(text)\n",
    "    analysis = TextBlob(text)\n",
    "    return analysis.sentiment.polarity\n",
    "\n",
    "# 데이터프레임에 감성 점수 추가\n",
    "df['sentiment'] = df['processed_text'].apply(get_sentiment)\n",
    "\n",
    "import matplotlib.pyplot as plt\n",
    "\n",
    "plt.figure(figsize=(10, 5))\n",
    "plt.hist(df['sentiment'], bins=30, color='skyblue', edgecolor='black')\n",
    "plt.title('Sentiment Polarity Distribution')\n",
    "plt.xlabel('Sentiment Polarity')\n",
    "plt.ylabel('Frequency')\n",
    "plt.grid(axis='y')\n",
    "plt.show()"
   ]
  }
 ],
 "metadata": {
  "colab": {
   "provenance": []
  },
  "kernelspec": {
   "display_name": "Python 3",
   "language": "python",
   "name": "python3"
  },
  "language_info": {
   "codemirror_mode": {
    "name": "ipython",
    "version": 3
   },
   "file_extension": ".py",
   "mimetype": "text/x-python",
   "name": "python",
   "nbconvert_exporter": "python",
   "pygments_lexer": "ipython3",
   "version": "3.6.8"
  }
 },
 "nbformat": 4,
 "nbformat_minor": 5
}
