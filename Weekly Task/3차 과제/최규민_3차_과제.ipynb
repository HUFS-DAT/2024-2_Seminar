{
  "cells": [
    {
      "cell_type": "markdown",
      "id": "277161ad",
      "metadata": {
        "id": "277161ad"
      },
      "source": [
        "## 3차 과제 - API Scrapping_Reddit\n",
        "\n",
        "- 주제: API를 활용한 데이터 불러오기 및 분석\n",
        "- 데이터: 커뮤니티 텍스트 데이터(API 활용)\n",
        "- 사용 라이브러리: praw, wordcloud, seaborn, nltk"
      ]
    },
    {
      "cell_type": "markdown",
      "id": "ad025ca0",
      "metadata": {
        "id": "ad025ca0"
      },
      "source": [
        "### 1. 라이브러리 및 API 설정"
      ]
    },
    {
      "cell_type": "markdown",
      "id": "3c55604d",
      "metadata": {
        "id": "3c55604d"
      },
      "source": [
        "1.1 미국 최대 커뮤니티 중 하나인 레딧(Reddit)에서 데이터를 불러오기 위해 praw 라이브러리를 install 해야 합니다."
      ]
    },
    {
      "cell_type": "code",
      "execution_count": null,
      "id": "89ecfff8",
      "metadata": {
        "id": "89ecfff8",
        "scrolled": true
      },
      "outputs": [],
      "source": [
        "# %pip install praw"
      ]
    },
    {
      "cell_type": "markdown",
      "id": "d6581612",
      "metadata": {
        "id": "d6581612"
      },
      "source": [
        "1.2 라이브러리 설정"
      ]
    },
    {
      "cell_type": "code",
      "execution_count": null,
      "id": "dc261f88",
      "metadata": {
        "id": "dc261f88"
      },
      "outputs": [],
      "source": [
        "import praw\n",
        "import pandas as pd\n",
        "import matplotlib.pyplot as plt\n",
        "from wordcloud import WordCloud\n",
        "import seaborn as sns\n",
        "import nltk\n",
        "from nltk.corpus import stopwords\n",
        "from nltk.tokenize import word_tokenize\n",
        "from collections import Counter\n",
        "import re"
      ]
    },
    {
      "cell_type": "markdown",
      "id": "a81264b9",
      "metadata": {
        "id": "a81264b9"
      },
      "source": [
        "1.3 자연어처리를 위해 사용할 nltk 패키지를 다운로드하겠습니다(NLP 과제가 아니므로 자세히 살펴보지는 않겠습니다).\n",
        "\n",
        "궁금하신 분들을 위해!\n",
        "https://datascienceschool.net/03%20machine%20learning/03.01.01%20NLTK%20%EC%9E%90%EC%97%B0%EC%96%B4%20%EC%B2%98%EB%A6%AC%20%ED%8C%A8%ED%82%A4%EC%A7%80.html"
      ]
    },
    {
      "cell_type": "code",
      "execution_count": null,
      "id": "a527f0cc",
      "metadata": {
        "id": "a527f0cc"
      },
      "outputs": [],
      "source": [
        "# nltk.download('punkt')\n",
        "# nltk.download('stopwords')"
      ]
    },
    {
      "cell_type": "markdown",
      "id": "c42ca264",
      "metadata": {
        "id": "c42ca264"
      },
      "source": [
        "1.4 API 인증을 받겠습니다. 절차의 경우 추가로 첨부한 자료를 참고해주세요.\n",
        "### **과제를 제출할 때는 본 항목의 API 키들은 모두 지우고 제출해주세요! 공유되면 안 됩니다.**"
      ]
    },
    {
      "cell_type": "code",
      "execution_count": null,
      "id": "d0deadee",
      "metadata": {
        "id": "d0deadee"
      },
      "outputs": [],
      "source": [
        "#Reddit API 인증\n",
        "reddit = praw.Reddit(\n",
        "    client_id='',\n",
        "    client_secret='',\n",
        "    user_agent=''\n",
        ")"
      ]
    },
    {
      "cell_type": "markdown",
      "id": "f0f3cb46",
      "metadata": {
        "id": "f0f3cb46"
      },
      "source": [
        "### 2. 데이터 수집 및 분석"
      ]
    },
    {
      "cell_type": "markdown",
      "id": "246be930",
      "metadata": {
        "id": "246be930"
      },
      "source": [
        "2.1 본격적으로 API를 활용해 데이터를 불러오겠습니다. 먼저 subreddit을 'stocks'로 설정하고 엔비디아 주식에 대한 게시글을 가져오겠습니다."
      ]
    },
    {
      "cell_type": "code",
      "execution_count": null,
      "id": "da204b2f",
      "metadata": {
        "id": "da204b2f"
      },
      "outputs": [],
      "source": [
        "subreddit_name = 'stocks'\n",
        "search_query = 'NVIDIA OR NVDA'\n",
        "subreddit = reddit.subreddit(subreddit_name)\n",
        "top_posts = subreddit.search(search_query, limit=300, sort='top')\n"
      ]
    },
    {
      "cell_type": "markdown",
      "id": "fe27b27b",
      "metadata": {
        "id": "fe27b27b"
      },
      "source": [
        "2.2 가져온 데이터를 제목과 내용으로 분리된 데이터프레임으로 변환하세요."
      ]
    },
    {
      "cell_type": "code",
      "execution_count": null,
      "id": "1e515b81",
      "metadata": {
        "id": "1e515b81"
      },
      "outputs": [],
      "source": [
        "Title = []\n",
        "Text = []\n",
        "count = 0\n",
        "\n",
        "for tp in top_posts:\n",
        "    if count >= 100:\n",
        "        break\n",
        "    Title.append(tp.title)\n",
        "    Text.append(tp.selftext)\n",
        "    count += 1"
      ]
    },
    {
      "cell_type": "code",
      "execution_count": null,
      "id": "4753306b",
      "metadata": {
        "id": "4753306b"
      },
      "outputs": [],
      "source": [
        "df = pd.DataFrame({\n",
        "    'Title': Title,\n",
        "    'Text': Text\n",
        "})"
      ]
    },
    {
      "cell_type": "code",
      "execution_count": null,
      "id": "324f167c",
      "metadata": {
        "id": "324f167c",
        "outputId": "a98ade84-20c7-4be9-e378-f706cb7dcfeb",
        "scrolled": true
      },
      "outputs": [
        {
          "data": {
            "text/html": [
              "<div>\n",
              "<style scoped>\n",
              "    .dataframe tbody tr th:only-of-type {\n",
              "        vertical-align: middle;\n",
              "    }\n",
              "\n",
              "    .dataframe tbody tr th {\n",
              "        vertical-align: top;\n",
              "    }\n",
              "\n",
              "    .dataframe thead th {\n",
              "        text-align: right;\n",
              "    }\n",
              "</style>\n",
              "<table border=\"1\" class=\"dataframe\">\n",
              "  <thead>\n",
              "    <tr style=\"text-align: right;\">\n",
              "      <th></th>\n",
              "      <th>Title</th>\n",
              "      <th>Text</th>\n",
              "    </tr>\n",
              "  </thead>\n",
              "  <tbody>\n",
              "    <tr>\n",
              "      <th>0</th>\n",
              "      <td>A note to young investors (or new investors)</td>\n",
              "      <td>As the Fed caused a bit of a ripple in the mar...</td>\n",
              "    </tr>\n",
              "    <tr>\n",
              "      <th>1</th>\n",
              "      <td>To all of you who are red this year while the ...</td>\n",
              "      <td>Lately I keep hearing the same old narrative f...</td>\n",
              "    </tr>\n",
              "    <tr>\n",
              "      <th>2</th>\n",
              "      <td>Pelosi's husband buying over $1 million of com...</td>\n",
              "      <td>[Full Article](https://www.msn.com/en-us/tv/ne...</td>\n",
              "    </tr>\n",
              "    <tr>\n",
              "      <th>3</th>\n",
              "      <td>Beware of what AMC shorts are holding!</td>\n",
              "      <td>I understand that most people in this thread i...</td>\n",
              "    </tr>\n",
              "    <tr>\n",
              "      <th>4</th>\n",
              "      <td>Blackberry -- A Dormant Giant</td>\n",
              "      <td>###**Abbreviation Index:**\\n\\nBB -- Blackberry...</td>\n",
              "    </tr>\n",
              "    <tr>\n",
              "      <th>...</th>\n",
              "      <td>...</td>\n",
              "      <td>...</td>\n",
              "    </tr>\n",
              "    <tr>\n",
              "      <th>95</th>\n",
              "      <td>Nvidia says it didn’t receive antitrust subpoe...</td>\n",
              "      <td>\\n\\nNvidia on Wednesday denied reports it rece...</td>\n",
              "    </tr>\n",
              "    <tr>\n",
              "      <th>96</th>\n",
              "      <td>Nvdia to stop all product sales to Russia</td>\n",
              "      <td>Nvidia on Friday said it’s halting all product...</td>\n",
              "    </tr>\n",
              "    <tr>\n",
              "      <th>97</th>\n",
              "      <td>Potential big tech stocks shopping list today</td>\n",
              "      <td>The nasdaq is dropping about 2.5% as of right ...</td>\n",
              "    </tr>\n",
              "    <tr>\n",
              "      <th>98</th>\n",
              "      <td>WSJ - S&amp;P 500 ends longest bear market since t...</td>\n",
              "      <td>U.S. stocks rose Thursday, ending the S&amp;P 500’...</td>\n",
              "    </tr>\n",
              "    <tr>\n",
              "      <th>99</th>\n",
              "      <td>Mark Zuckerberg Says Meta Will Own Billions Wo...</td>\n",
              "      <td>https://www.barrons.com/articles/zuckerberg-me...</td>\n",
              "    </tr>\n",
              "  </tbody>\n",
              "</table>\n",
              "<p>100 rows × 2 columns</p>\n",
              "</div>"
            ],
            "text/plain": [
              "                                                Title  \\\n",
              "0        A note to young investors (or new investors)   \n",
              "1   To all of you who are red this year while the ...   \n",
              "2   Pelosi's husband buying over $1 million of com...   \n",
              "3              Beware of what AMC shorts are holding!   \n",
              "4                       Blackberry -- A Dormant Giant   \n",
              "..                                                ...   \n",
              "95  Nvidia says it didn’t receive antitrust subpoe...   \n",
              "96          Nvdia to stop all product sales to Russia   \n",
              "97      Potential big tech stocks shopping list today   \n",
              "98  WSJ - S&P 500 ends longest bear market since t...   \n",
              "99  Mark Zuckerberg Says Meta Will Own Billions Wo...   \n",
              "\n",
              "                                                 Text  \n",
              "0   As the Fed caused a bit of a ripple in the mar...  \n",
              "1   Lately I keep hearing the same old narrative f...  \n",
              "2   [Full Article](https://www.msn.com/en-us/tv/ne...  \n",
              "3   I understand that most people in this thread i...  \n",
              "4   ###**Abbreviation Index:**\\n\\nBB -- Blackberry...  \n",
              "..                                                ...  \n",
              "95  \\n\\nNvidia on Wednesday denied reports it rece...  \n",
              "96  Nvidia on Friday said it’s halting all product...  \n",
              "97  The nasdaq is dropping about 2.5% as of right ...  \n",
              "98  U.S. stocks rose Thursday, ending the S&P 500’...  \n",
              "99  https://www.barrons.com/articles/zuckerberg-me...  \n",
              "\n",
              "[100 rows x 2 columns]"
            ]
          },
          "execution_count": 134,
          "metadata": {},
          "output_type": "execute_result"
        }
      ],
      "source": [
        "df"
      ]
    },
    {
      "cell_type": "markdown",
      "id": "aa0a3c2c",
      "metadata": {
        "id": "aa0a3c2c"
      },
      "source": [
        "2.3 가져온 데이터를 토큰화, 불용어 제거 등 분석에 활용하기 위한 전처리를 진행하세요."
      ]
    },
    {
      "cell_type": "code",
      "execution_count": null,
      "id": "ef4222ca",
      "metadata": {
        "id": "ef4222ca"
      },
      "outputs": [],
      "source": [
        "# 토큰화\n",
        "Token = df['Text'].apply(lambda x: word_tokenize(x.lower())).tolist()\n",
        "\n",
        "# 불용어 제거\n",
        "bull = set(stopwords.words('english'))\n",
        "Token2 = [[word for word in tokens if word not in bull] for tokens in Token]\n",
        "toklist = [word for tokens in Token2 for word in tokens]\n",
        "\n",
        "# 특수문자 제거\n",
        "toklist2 = [re.sub(r'[^a-zA-Z]', '', word) for word in toklist]\n",
        "\n",
        "# 빈 문자열 제거\n",
        "toklist2 = [word for word in toklist2 if word]"
      ]
    },
    {
      "cell_type": "code",
      "execution_count": null,
      "id": "aa2f06b8",
      "metadata": {
        "id": "aa2f06b8"
      },
      "outputs": [],
      "source": [
        "# toklist2"
      ]
    },
    {
      "cell_type": "markdown",
      "id": "0bf561f5",
      "metadata": {
        "id": "0bf561f5"
      },
      "source": [
        "2.4 전처리된 데이터를 활용해 어떤 단어가 가장 많이 나왔는지 WordCloud를 통해 확인하세요."
      ]
    },
    {
      "cell_type": "code",
      "execution_count": null,
      "id": "7b540cea",
      "metadata": {
        "id": "7b540cea"
      },
      "outputs": [],
      "source": [
        "from wordcloud import WordCloud\n",
        "import matplotlib.pyplot as plt\n",
        "\n",
        "word_count = Counter(toklist2)"
      ]
    },
    {
      "cell_type": "code",
      "execution_count": null,
      "id": "075bad0b",
      "metadata": {
        "id": "075bad0b"
      },
      "outputs": [],
      "source": [
        "from wordcloud import WordCloud\n",
        "import matplotlib.pyplot as plt\n",
        "\n",
        "# 전처리된 콘텐츠를 하나의 문자열로 결합\n",
        "all_words = ' '.join(df['Processed_Text'])\n",
        "\n",
        "# WordCloud 생성\n",
        "wordcloud = WordCloud(width=800, height=400, background_color='white').generate(all_words)\n",
        "\n",
        "# WordCloud 시각화\n",
        "plt.figure(figsize=(10, 5))\n",
        "plt.imshow(wordcloud, interpolation='bilinear')\n",
        "plt.axis('off')  # 축 제거\n",
        "plt.show()"
      ]
    },
    {
      "cell_type": "markdown",
      "id": "8cea0064",
      "metadata": {
        "id": "8cea0064"
      },
      "source": [
        "2.6 가장 많이 나온 단어에는 어떤 것들이 있는지 barplot을 그려 확인하세요."
      ]
    },
    {
      "cell_type": "code",
      "execution_count": null,
      "id": "746b48b8",
      "metadata": {
        "id": "746b48b8"
      },
      "outputs": [],
      "source": [
        "top = word_count.most_common(20)\n",
        "word, count = zip(*top)"
      ]
    },
    {
      "cell_type": "code",
      "execution_count": null,
      "id": "3842a5d8",
      "metadata": {
        "id": "3842a5d8",
        "outputId": "a8fdbf40-8b54-42fa-fc4a-5285b3fdc783"
      },
      "outputs": [
        {
          "data": {
            "image/png": "[encoded data removed]",
            "text/plain": [
              "<Figure size 1000x500 with 1 Axes>"
            ]
          },
          "metadata": {},
          "output_type": "display_data"
        }
      ],
      "source": [
        "import seaborn as sns\n",
        "\n",
        "colors = sns.color_palette('pastel', len(word))\n",
        "\n",
        "plt.figure(figsize=(10, 5))\n",
        "plt.barh(word, count, color=colors)\n",
        "plt.gca().invert_yaxis()\n",
        "plt.xlabel('Frequency')\n",
        "plt.ylabel('Word')\n",
        "plt.title('Common Words related to NVIDIA in subreddit: stocks')\n",
        "plt.show()"
      ]
    },
    {
      "cell_type": "markdown",
      "id": "d98e9704",
      "metadata": {
        "id": "d98e9704"
      },
      "source": [
        "# **제출 시 API 인증 부분의 id, secret은 모두 지우고 제출해주세요!**"
      ]
    },
    {
      "cell_type": "markdown",
      "id": "f2223dc2",
      "metadata": {
        "id": "f2223dc2"
      },
      "source": [
        "### 3. 자유 분석"
      ]
    }
  ],
  "metadata": {
    "colab": {
      "provenance": []
    },
    "kernelspec": {
      "display_name": "Python 3 (ipykernel)",
      "language": "python",
      "name": "python3"
    },
    "language_info": {
      "codemirror_mode": {
        "name": "ipython",
        "version": 3
      },
      "file_extension": ".py",
      "mimetype": "text/x-python",
      "name": "python",
      "nbconvert_exporter": "python",
      "pygments_lexer": "ipython3",
      "version": "3.7.8"
    }
  },
  "nbformat": 4,
  "nbformat_minor": 5
}