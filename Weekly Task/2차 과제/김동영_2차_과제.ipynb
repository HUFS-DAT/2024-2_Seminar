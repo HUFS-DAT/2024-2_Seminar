{
  "cells": [
    {
      "cell_type": "markdown",
      "metadata": {
        "id": "fTTwiBy0h0cy"
      },
      "source": [
        "# 0. Importing Modules"
      ]
    },
    {
      "cell_type": "markdown",
      "metadata": {
        "id": "bpLCYHx1h5GD"
      },
      "source": [
        "코드의 기본은 해당 코드를 작성할 때 필요한 module들을 가져오는 것부터 시작됩니다."
      ]
    },
    {
      "cell_type": "code",
      "execution_count": 3,
      "metadata": {
        "id": "nl5GVtbYiDJe"
      },
      "outputs": [],
      "source": [
        "# 과제를 시작하기 전 이 셀을 무조건 실행하세요.\n",
        "import pandas as pd\n",
        "import numpy as np\n",
        "import matplotlib.pyplot as plt\n",
        "import datetime as DT\n",
        "from matplotlib.dates import date2num\n",
        "\n",
        "# 아래에 필요한 것들을 추가로 작성해주세요."
      ]
    },
    {
      "cell_type": "markdown",
      "metadata": {
        "id": "QznyryyEhs0I"
      },
      "source": [
        "# 1.Numpy"
      ]
    },
    {
      "cell_type": "markdown",
      "metadata": {
        "id": "nWzUmN4Bhvtr"
      },
      "source": [
        "## 1.1 Numpy 알아보기"
      ]
    },
    {
      "cell_type": "markdown",
      "metadata": {
        "id": "fgL8h1jSi2Bj"
      },
      "source": [
        "### 1.1.1 numpy에 대한 간단한 설명을 적어주세요."
      ]
    },
    {
      "cell_type": "markdown",
      "metadata": {
        "id": "y2FZEMQzi8pr"
      },
      "source": [
        "numpy는 파이썬에서 과학 계산을 위한 라이브러리이다. 주요 기능으로는 배열을 효율적으로 조작할 수 있는 수학 함수가 포함되어 있고 수학 연산 기능을 제공한다. "
      ]
    },
    {
      "cell_type": "markdown",
      "metadata": {
        "id": "ZCEMeFZyiwKw"
      },
      "source": [
        "### 1.1.2 본인의 numpy version을 출력해주세요"
      ]
    },
    {
      "cell_type": "code",
      "execution_count": 4,
      "metadata": {
        "id": "2UOkCiUdg9EQ"
      },
      "outputs": [
        {
          "name": "stdout",
          "output_type": "stream",
          "text": [
            "1.26.0\n"
          ]
        }
      ],
      "source": [
        "print(np.__version__)"
      ]
    },
    {
      "cell_type": "markdown",
      "metadata": {
        "id": "Gu48TLh0jJU0"
      },
      "source": [
        "##1.2 numpy array\n",
        "* 1.2의 문제들은 모두 코드 한 줄로 적어야 합니다.\n",
        "* '#이곳에 작성'을 지우고 코드를 적어주세요."
      ]
    },
    {
      "cell_type": "markdown",
      "metadata": {
        "id": "MzIW4_JGjbM-"
      },
      "source": [
        "###1.2.1 숫자 0부터 9까지 숫자로 이루어진 numpy array를 하나 만드시오."
      ]
    },
    {
      "cell_type": "code",
      "execution_count": 13,
      "metadata": {
        "id": "ceneOKE5i_0Z"
      },
      "outputs": [
        {
          "name": "stdout",
          "output_type": "stream",
          "text": [
            "[0 1 2 3 4 5 6 7 8 9]\n"
          ]
        }
      ],
      "source": [
        "arr = np.array([0,1,2,3,4,5,6,7,8,9])\n",
        "print(arr)"
      ]
    },
    {
      "cell_type": "markdown",
      "metadata": {
        "id": "z-D_BIbjkOdB"
      },
      "source": [
        "###1.2.2 위의 문제에서 만든 arr의 요소 중 홀수인 수를 모두 10으로 변경하시오."
      ]
    },
    {
      "cell_type": "code",
      "execution_count": 14,
      "metadata": {
        "id": "VN4leFfZkkHw"
      },
      "outputs": [
        {
          "name": "stdout",
          "output_type": "stream",
          "text": [
            "[ 0 10  2 10  4 10  6 10  8 10]\n"
          ]
        }
      ],
      "source": [
        "no_odd = np.where(arr % 2 == 1, 10, arr)\n",
        "\n",
        "print(no_odd)"
      ]
    },
    {
      "cell_type": "markdown",
      "metadata": {
        "id": "41TP4Ym1lC13"
      },
      "source": [
        "###1.2.3 위의 문제에서 만든 arr는 1차원 배열입니다. 이 배열을 2차원 배열로 변경하시오.\n",
        "array([0,1,2,3,4,5,6,7,8,9]) -> array([[0,1,2,3,4],[5,6,7,8,9]])"
      ]
    },
    {
      "cell_type": "code",
      "execution_count": 15,
      "metadata": {
        "id": "02SCthcAlOsy"
      },
      "outputs": [
        {
          "name": "stdout",
          "output_type": "stream",
          "text": [
            "[[0 1 2 3 4]\n",
            " [5 6 7 8 9]]\n"
          ]
        }
      ],
      "source": [
        "arr_2d = arr.reshape(2,5)\n",
        "print(arr_2d)"
      ]
    },
    {
      "cell_type": "markdown",
      "metadata": {
        "id": "woxgg4M3j1S1"
      },
      "source": [
        "###1.2.4 True로 이루어진 3x3 numpy array를 만드시오."
      ]
    },
    {
      "cell_type": "code",
      "execution_count": 16,
      "metadata": {
        "id": "zs5KGgm7j-xS"
      },
      "outputs": [
        {
          "name": "stdout",
          "output_type": "stream",
          "text": [
            "[[ True  True  True]\n",
            " [ True  True  True]\n",
            " [ True  True  True]]\n"
          ]
        }
      ],
      "source": [
        "true_mat = np.array([[True,True, True], [True, True, True], [True, True, True]])\n",
        "print(true_mat)"
      ]
    },
    {
      "cell_type": "markdown",
      "metadata": {
        "id": "W9ytRnhhmmzX"
      },
      "source": [
        "###1.2.5 숫자 0부터 8까지로 이루어진 3x3 numpy array를 만드시오."
      ]
    },
    {
      "cell_type": "code",
      "execution_count": 17,
      "metadata": {
        "id": "8x1DZQjYm7GR"
      },
      "outputs": [
        {
          "name": "stdout",
          "output_type": "stream",
          "text": [
            "[[0 1 2]\n",
            " [3 4 5]\n",
            " [6 7 8]]\n"
          ]
        }
      ],
      "source": [
        "mat = np.array([[0, 1, 2], [3, 4, 5], [6, 7, 8]])\n",
        "print(mat)"
      ]
    },
    {
      "cell_type": "markdown",
      "metadata": {
        "id": "-Mi_2yCNn0AA"
      },
      "source": [
        "###1.2.6 숫자 5부터 10까지의 난수로 이루어진 array를 만드시오."
      ]
    },
    {
      "cell_type": "code",
      "execution_count": 21,
      "metadata": {
        "id": "rQ9SKYmgoNID"
      },
      "outputs": [
        {
          "name": "stdout",
          "output_type": "stream",
          "text": [
            "[ 5  7  8 10  7  5  7  6  9  6]\n"
          ]
        }
      ],
      "source": [
        "rand_arr = np.random.randint(5, 11, size=10)\n",
        "print(rand_arr)"
      ]
    },
    {
      "cell_type": "markdown",
      "metadata": {
        "id": "yjJQzG2bnFMA"
      },
      "source": [
        "###1.2.7 위의 1.2.5번 문제에서 만든 mat의 모든 행들을 역으로 작성하세요.\n",
        "array([0,1,2],[3,4,5],[6,7,8]]) -> array([2,1,0],[5,4,3],[8,7,6]])"
      ]
    },
    {
      "cell_type": "code",
      "execution_count": 22,
      "metadata": {
        "id": "AO1H_YbWwVmX"
      },
      "outputs": [
        {
          "name": "stdout",
          "output_type": "stream",
          "text": [
            "[[2 1 0]\n",
            " [5 4 3]\n",
            " [8 7 6]]\n"
          ]
        }
      ],
      "source": [
        "reverse_mat = np.flip(mat, axis=1) \n",
        "print(reverse_mat)"
      ]
    },
    {
      "cell_type": "markdown",
      "metadata": {
        "id": "LmryYJz3mDMR"
      },
      "source": [
        "## 1.3 numpy를 이용한 data 처리"
      ]
    },
    {
      "cell_type": "markdown",
      "metadata": {
        "id": "hfC_DiJ-nuzZ"
      },
      "source": [
        "###1.3.1 iris_1d는 꽃잎 길이와 종에 대한 data입니다. 해당 데이터의 앞에서 10개의 data만 출력하시오.\n",
        "* iris_1d 변수의 내용을 변경하지 마시오."
      ]
    },
    {
      "cell_type": "code",
      "execution_count": 23,
      "metadata": {
        "collapsed": true,
        "id": "weTAz59uqUjY"
      },
      "outputs": [
        {
          "name": "stderr",
          "output_type": "stream",
          "text": [
            "C:\\Users\\KimDongyoung\\AppData\\Local\\Temp\\ipykernel_2768\\2620360274.py:3: VisibleDeprecationWarning: Reading unicode strings without specifying the encoding argument is deprecated. Set the encoding, use None for the system default.\n",
            "  iris_1d = np.genfromtxt(url, delimiter=',', dtype=None)\n"
          ]
        },
        {
          "data": {
            "text/plain": [
              "array([(6.3, 2.3, 4.4, 1.3, b'Iris-versicolor'),\n",
              "       (6.4, 2.7, 5.3, 1.9, b'Iris-virginica'),\n",
              "       (5.4, 3.7, 1.5, 0.2, b'Iris-setosa'),\n",
              "       (6.1, 3. , 4.6, 1.4, b'Iris-versicolor'),\n",
              "       (5. , 3.3, 1.4, 0.2, b'Iris-setosa'),\n",
              "       (5. , 2. , 3.5, 1. , b'Iris-versicolor'),\n",
              "       (6.3, 2.5, 4.9, 1.5, b'Iris-versicolor'),\n",
              "       (5.8, 2.7, 4.1, 1. , b'Iris-versicolor'),\n",
              "       (5.1, 3.4, 1.5, 0.2, b'Iris-setosa'),\n",
              "       (5.7, 2.8, 4.5, 1.3, b'Iris-versicolor'),\n",
              "       (5.6, 3. , 4.5, 1.5, b'Iris-versicolor'),\n",
              "       (5.8, 2.7, 5.1, 1.9, b'Iris-virginica'),\n",
              "       (5.5, 2.3, 4. , 1.3, b'Iris-versicolor'),\n",
              "       (4.9, 3. , 1.4, 0.2, b'Iris-setosa'),\n",
              "       (5.1, 3.8, 1.5, 0.3, b'Iris-setosa'),\n",
              "       (6.8, 3. , 5.5, 2.1, b'Iris-virginica'),\n",
              "       (6. , 3.4, 4.5, 1.6, b'Iris-versicolor'),\n",
              "       (4.4, 3. , 1.3, 0.2, b'Iris-setosa'),\n",
              "       (5.1, 3.7, 1.5, 0.4, b'Iris-setosa'),\n",
              "       (5. , 3.2, 1.2, 0.2, b'Iris-setosa'),\n",
              "       (7.1, 3. , 5.9, 2.1, b'Iris-virginica'),\n",
              "       (6.4, 2.8, 5.6, 2.2, b'Iris-virginica'),\n",
              "       (6.2, 2.8, 4.8, 1.8, b'Iris-virginica'),\n",
              "       (4.8, 3.4, 1.9, 0.2, b'Iris-setosa'),\n",
              "       (5.9, 3. , 4.2, 1.5, b'Iris-versicolor'),\n",
              "       (4.7, 3.2, 1.3, 0.2, b'Iris-setosa'),\n",
              "       (5.7, 3. , 4.2, 1.2, b'Iris-versicolor'),\n",
              "       (5.5, 2.6, 4.4, 1.2, b'Iris-versicolor'),\n",
              "       (6.8, 2.8, 4.8, 1.4, b'Iris-versicolor'),\n",
              "       (7.7, 3.8, 6.7, 2.2, b'Iris-virginica'),\n",
              "       (6.6, 2.9, 4.6, 1.3, b'Iris-versicolor'),\n",
              "       (6.2, 2.9, 4.3, 1.3, b'Iris-versicolor'),\n",
              "       (7.2, 3. , 5.8, 1.6, b'Iris-virginica'),\n",
              "       (5.8, 2.8, 5.1, 2.4, b'Iris-virginica'),\n",
              "       (6.3, 2.5, 5. , 1.9, b'Iris-virginica'),\n",
              "       (4.6, 3.2, 1.4, 0.2, b'Iris-setosa'),\n",
              "       (6.7, 3.3, 5.7, 2.1, b'Iris-virginica'),\n",
              "       (6.9, 3.2, 5.7, 2.3, b'Iris-virginica'),\n",
              "       (7.7, 2.6, 6.9, 2.3, b'Iris-virginica'),\n",
              "       (6.9, 3.1, 5.1, 2.3, b'Iris-virginica'),\n",
              "       (5. , 3.4, 1.6, 0.4, b'Iris-setosa'),\n",
              "       (5. , 3.5, 1.6, 0.6, b'Iris-setosa'),\n",
              "       (5.2, 2.7, 3.9, 1.4, b'Iris-versicolor'),\n",
              "       (4.5, 2.3, 1.3, 0.3, b'Iris-setosa'),\n",
              "       (6.3, 3.3, 4.7, 1.6, b'Iris-versicolor'),\n",
              "       (5.2, 4.1, 1.5, 0.1, b'Iris-setosa'),\n",
              "       (6.9, 3.1, 4.9, 1.5, b'Iris-versicolor'),\n",
              "       (5.9, 3.2, 4.8, 1.8, b'Iris-versicolor'),\n",
              "       (5.6, 2.8, 4.9, 2. , b'Iris-virginica'),\n",
              "       (6.7, 3.3, 5.7, 2.5, b'Iris-virginica'),\n",
              "       (6.2, 2.2, 4.5, 1.5, b'Iris-versicolor'),\n",
              "       (7.2, 3.6, 6.1, 2.5, b'Iris-virginica'),\n",
              "       (5.5, 2.4, 3.7, 1. , b'Iris-versicolor'),\n",
              "       (6. , 2.9, 4.5, 1.5, b'Iris-versicolor'),\n",
              "       (6.4, 3.2, 4.5, 1.5, b'Iris-versicolor'),\n",
              "       (5.8, 4. , 1.2, 0.2, b'Iris-setosa'),\n",
              "       (5.3, 3.7, 1.5, 0.2, b'Iris-setosa'),\n",
              "       (6.1, 2.9, 4.7, 1.4, b'Iris-versicolor'),\n",
              "       (5.4, 3.4, 1.7, 0.2, b'Iris-setosa'),\n",
              "       (6.4, 3.1, 5.5, 1.8, b'Iris-virginica'),\n",
              "       (4.7, 3.2, 1.6, 0.2, b'Iris-setosa'),\n",
              "       (4.6, 3.1, 1.5, 0.2, b'Iris-setosa'),\n",
              "       (4.9, 2.5, 4.5, 1.7, b'Iris-virginica'),\n",
              "       (5.1, 2.5, 3. , 1.1, b'Iris-versicolor'),\n",
              "       (6.7, 3.1, 5.6, 2.4, b'Iris-virginica'),\n",
              "       (4.9, 3.1, 1.5, 0.1, b'Iris-setosa'),\n",
              "       (6.9, 3.1, 5.4, 2.1, b'Iris-virginica'),\n",
              "       (4.8, 3. , 1.4, 0.3, b'Iris-setosa'),\n",
              "       (5.8, 2.7, 3.9, 1.2, b'Iris-versicolor'),\n",
              "       (6. , 2.7, 5.1, 1.6, b'Iris-versicolor'),\n",
              "       (4.4, 3.2, 1.3, 0.2, b'Iris-setosa'),\n",
              "       (6.8, 3.2, 5.9, 2.3, b'Iris-virginica'),\n",
              "       (7.9, 3.8, 6.4, 2. , b'Iris-virginica'),\n",
              "       (6.5, 3. , 5.5, 1.8, b'Iris-virginica'),\n",
              "       (7.6, 3. , 6.6, 2.1, b'Iris-virginica'),\n",
              "       (6.3, 2.8, 5.1, 1.5, b'Iris-virginica'),\n",
              "       (4.6, 3.4, 1.4, 0.3, b'Iris-setosa'),\n",
              "       (5.7, 2.6, 3.5, 1. , b'Iris-versicolor'),\n",
              "       (6.7, 2.5, 5.8, 1.8, b'Iris-virginica'),\n",
              "       (5.7, 2.8, 4.1, 1.3, b'Iris-versicolor'),\n",
              "       (4.9, 3.1, 1.5, 0.1, b'Iris-setosa'),\n",
              "       (6.4, 2.8, 5.6, 2.1, b'Iris-virginica'),\n",
              "       (7. , 3.2, 4.7, 1.4, b'Iris-versicolor'),\n",
              "       (5.7, 2.9, 4.2, 1.3, b'Iris-versicolor'),\n",
              "       (5. , 3.6, 1.4, 0.2, b'Iris-setosa'),\n",
              "       (5.4, 3.9, 1.7, 0.4, b'Iris-setosa'),\n",
              "       (5.1, 3.8, 1.9, 0.4, b'Iris-setosa'),\n",
              "       (5.4, 3. , 4.5, 1.5, b'Iris-versicolor'),\n",
              "       (7.4, 2.8, 6.1, 1.9, b'Iris-virginica'),\n",
              "       (6.3, 2.9, 5.6, 1.8, b'Iris-virginica'),\n",
              "       (6.6, 3. , 4.4, 1.4, b'Iris-versicolor'),\n",
              "       (5. , 3.4, 1.5, 0.2, b'Iris-setosa'),\n",
              "       (5.1, 3.8, 1.6, 0.2, b'Iris-setosa'),\n",
              "       (5.1, 3.5, 1.4, 0.3, b'Iris-setosa'),\n",
              "       (6.5, 3. , 5.8, 2.2, b'Iris-virginica'),\n",
              "       (5.8, 2.7, 5.1, 1.9, b'Iris-virginica'),\n",
              "       (6.1, 2.8, 4. , 1.3, b'Iris-versicolor'),\n",
              "       (5.5, 2.4, 3.8, 1.1, b'Iris-versicolor'),\n",
              "       (6.5, 3.2, 5.1, 2. , b'Iris-virginica'),\n",
              "       (6.5, 3. , 5.2, 2. , b'Iris-virginica'),\n",
              "       (5.9, 3. , 5.1, 1.8, b'Iris-virginica'),\n",
              "       (6.1, 2.6, 5.6, 1.4, b'Iris-virginica'),\n",
              "       (6.4, 2.9, 4.3, 1.3, b'Iris-versicolor'),\n",
              "       (5.2, 3.4, 1.4, 0.2, b'Iris-setosa'),\n",
              "       (4.8, 3.4, 1.6, 0.2, b'Iris-setosa'),\n",
              "       (5.6, 2.7, 4.2, 1.3, b'Iris-versicolor'),\n",
              "       (5.1, 3.3, 1.7, 0.5, b'Iris-setosa'),\n",
              "       (4.6, 3.6, 1. , 0.2, b'Iris-setosa'),\n",
              "       (6.1, 3. , 4.9, 1.8, b'Iris-virginica'),\n",
              "       (5. , 2.3, 3.3, 1. , b'Iris-versicolor'),\n",
              "       (5.7, 3.8, 1.7, 0.3, b'Iris-setosa'),\n",
              "       (5.2, 3.5, 1.5, 0.2, b'Iris-setosa'),\n",
              "       (5.5, 3.5, 1.3, 0.2, b'Iris-setosa'),\n",
              "       (4.9, 2.4, 3.3, 1. , b'Iris-versicolor'),\n",
              "       (5.4, 3.4, 1.5, 0.4, b'Iris-setosa'),\n",
              "       (6.7, 3.1, 4.4, 1.4, b'Iris-versicolor'),\n",
              "       (4.8, 3. , 1.4, 0.1, b'Iris-setosa'),\n",
              "       (5.5, 2.5, 4. , 1.3, b'Iris-versicolor'),\n",
              "       (6. , 2.2, 5. , 1.5, b'Iris-virginica'),\n",
              "       (4.8, 3.1, 1.6, 0.2, b'Iris-setosa'),\n",
              "       (6.7, 3.1, 4.7, 1.5, b'Iris-versicolor'),\n",
              "       (5.8, 2.6, 4. , 1.2, b'Iris-versicolor'),\n",
              "       (6.2, 3.4, 5.4, 2.3, b'Iris-virginica'),\n",
              "       (5. , 3. , 1.6, 0.2, b'Iris-setosa'),\n",
              "       (6. , 3. , 4.8, 1.8, b'Iris-virginica'),\n",
              "       (4.3, 3. , 1.1, 0.1, b'Iris-setosa'),\n",
              "       (5.6, 2.5, 3.9, 1.1, b'Iris-versicolor'),\n",
              "       (6.7, 3. , 5. , 1.7, b'Iris-versicolor'),\n",
              "       (7.7, 3. , 6.1, 2.3, b'Iris-virginica'),\n",
              "       (6.3, 3.4, 5.6, 2.4, b'Iris-virginica'),\n",
              "       (5.5, 4.2, 1.4, 0.2, b'Iris-setosa'),\n",
              "       (6. , 2.2, 4. , 1. , b'Iris-versicolor'),\n",
              "       (7.7, 2.8, 6.7, 2. , b'Iris-virginica'),\n",
              "       (7.3, 2.9, 6.3, 1.8, b'Iris-virginica'),\n",
              "       (5.6, 3. , 4.1, 1.3, b'Iris-versicolor'),\n",
              "       (6.5, 2.8, 4.6, 1.5, b'Iris-versicolor'),\n",
              "       (6.3, 3.3, 6. , 2.5, b'Iris-virginica'),\n",
              "       (5.4, 3.9, 1.3, 0.4, b'Iris-setosa'),\n",
              "       (6.4, 3.2, 5.3, 2.3, b'Iris-virginica'),\n",
              "       (5. , 3.5, 1.3, 0.3, b'Iris-setosa'),\n",
              "       (5.1, 3.5, 1.4, 0.2, b'Iris-setosa'),\n",
              "       (6.1, 2.8, 4.7, 1.2, b'Iris-versicolor'),\n",
              "       (4.4, 2.9, 1.4, 0.2, b'Iris-setosa'),\n",
              "       (6.7, 3. , 5.2, 2.3, b'Iris-virginica'),\n",
              "       (6.3, 2.7, 4.9, 1.8, b'Iris-virginica'),\n",
              "       (5.7, 2.5, 5. , 2. , b'Iris-virginica'),\n",
              "       (5.6, 2.9, 3.6, 1.3, b'Iris-versicolor'),\n",
              "       (5.7, 4.4, 1.5, 0.4, b'Iris-setosa'),\n",
              "       (7.2, 3.2, 6. , 1.8, b'Iris-virginica'),\n",
              "       (4.9, 3.1, 1.5, 0.1, b'Iris-setosa')],\n",
              "      dtype=[('f0', '<f8'), ('f1', '<f8'), ('f2', '<f8'), ('f3', '<f8'), ('f4', 'S15')])"
            ]
          },
          "execution_count": 23,
          "metadata": {},
          "output_type": "execute_result"
        }
      ],
      "source": [
        "# 해당 셀을 실행하되 수정하지 마세요.\n",
        "url = 'https://archive.ics.uci.edu/ml/machine-learning-databases/iris/iris.data'\n",
        "iris_1d = np.genfromtxt(url, delimiter=',', dtype=None)\n",
        "np.random.seed(10)\n",
        "np.random.shuffle(iris_1d)\n",
        "iris_1d"
      ]
    },
    {
      "cell_type": "code",
      "execution_count": 24,
      "metadata": {
        "id": "63BiG_4drHDc"
      },
      "outputs": [
        {
          "name": "stdout",
          "output_type": "stream",
          "text": [
            "[(6.3, 2.3, 4.4, 1.3, b'Iris-versicolor')\n",
            " (6.4, 2.7, 5.3, 1.9, b'Iris-virginica')\n",
            " (5.4, 3.7, 1.5, 0.2, b'Iris-setosa')\n",
            " (6.1, 3. , 4.6, 1.4, b'Iris-versicolor')\n",
            " (5. , 3.3, 1.4, 0.2, b'Iris-setosa')\n",
            " (5. , 2. , 3.5, 1. , b'Iris-versicolor')\n",
            " (6.3, 2.5, 4.9, 1.5, b'Iris-versicolor')\n",
            " (5.8, 2.7, 4.1, 1. , b'Iris-versicolor')\n",
            " (5.1, 3.4, 1.5, 0.2, b'Iris-setosa')\n",
            " (5.7, 2.8, 4.5, 1.3, b'Iris-versicolor')]\n"
          ]
        }
      ],
      "source": [
        "iris_10 = iris_1d[:10]\n",
        "print(iris_10)"
      ]
    },
    {
      "cell_type": "markdown",
      "metadata": {
        "id": "QTLaq2qYrQGV"
      },
      "source": [
        "###1.3.2 iris data는 4개의 숫자 데이터(꽃잎의 길이)와 1개의 문자 데이터(꽃의 종)로 이루어져 있습니다. 위 문제에서의 iris10 데이터의 종 정보만 출력하시오.\n"
      ]
    },
    {
      "cell_type": "code",
      "execution_count": 27,
      "metadata": {
        "id": "FysATKCQrtTT"
      },
      "outputs": [
        {
          "name": "stdout",
          "output_type": "stream",
          "text": [
            "[b'Iris-versicolor' b'Iris-virginica' b'Iris-setosa' b'Iris-versicolor'\n",
            " b'Iris-setosa' b'Iris-versicolor' b'Iris-versicolor' b'Iris-versicolor'\n",
            " b'Iris-setosa' b'Iris-versicolor']\n"
          ]
        }
      ],
      "source": [
        "species_info = iris_10['f4']\n",
        "print(species_info)"
      ]
    },
    {
      "cell_type": "markdown",
      "metadata": {
        "id": "HapBJ6hprt1J"
      },
      "source": [
        "### 1.3.3 iris_1d data의 앞에서 30개의 data만 추출하여 첫 번째 요소의 길이가 5.0 이하인 것만 출력하시오."
      ]
    },
    {
      "cell_type": "code",
      "execution_count": 31,
      "metadata": {
        "id": "MjOFNMzPnbDG"
      },
      "outputs": [
        {
          "name": "stdout",
          "output_type": "stream",
          "text": [
            "[(5. , 3.3, 1.4, 0.2, b'Iris-setosa')\n",
            " (5. , 2. , 3.5, 1. , b'Iris-versicolor')\n",
            " (4.9, 3. , 1.4, 0.2, b'Iris-setosa') (4.4, 3. , 1.3, 0.2, b'Iris-setosa')\n",
            " (5. , 3.2, 1.2, 0.2, b'Iris-setosa') (4.8, 3.4, 1.9, 0.2, b'Iris-setosa')\n",
            " (4.7, 3.2, 1.3, 0.2, b'Iris-setosa')]\n"
          ]
        }
      ],
      "source": [
        "iris_30 = iris_1d[:30]\n",
        "iris_30_5 = iris_30[iris_30['f0'] <= 5.0]\n",
        "print(iris_30_5)"
      ]
    },
    {
      "cell_type": "markdown",
      "metadata": {
        "id": "HW0TU00uuVt-"
      },
      "source": [
        "### 1.3.4 irids_1d data의 앞에서 15개의 data만 추출하여 첫 번째 요소와 네 번째 요소 간의 상관관계를 출력하시오."
      ]
    },
    {
      "cell_type": "code",
      "execution_count": 33,
      "metadata": {
        "id": "YUq4j3cYqfWZ"
      },
      "outputs": [
        {
          "name": "stdout",
          "output_type": "stream",
          "text": [
            "[[1.         0.79112507]\n",
            " [0.79112507 1.        ]]\n"
          ]
        }
      ],
      "source": [
        "iris_15 = iris_1d[:15]\n",
        "correlation = np.corrcoef(iris_15['f0'], iris_15['f3'])\n",
        "print(correlation)"
      ]
    },
    {
      "cell_type": "markdown",
      "metadata": {
        "id": "E2nyt8FwvSe4"
      },
      "source": [
        "###1.3.5 iris_1d 데이터에서 각 종별로 개수가 몇 개인지 출력하시오."
      ]
    },
    {
      "cell_type": "code",
      "execution_count": 34,
      "metadata": {
        "id": "gwfehAqBwy2f"
      },
      "outputs": [
        {
          "name": "stdout",
          "output_type": "stream",
          "text": [
            "Iris-setosa: 50\n",
            "Iris-versicolor: 50\n",
            "Iris-virginica: 50\n"
          ]
        }
      ],
      "source": [
        "species_counts = np.unique(iris_1d['f4'], return_counts=True)\n",
        "for species, count in zip(species_counts[0], species_counts[1]):\n",
        "  print(f\"{species.decode('utf-8')}: {count}\")"
      ]
    },
    {
      "cell_type": "markdown",
      "metadata": {
        "id": "l0Mpd30cxP6D"
      },
      "source": [
        "###1.3.6 iris_1d 데이터 중 3번째 요소의 길이가 5.0 이상인 data의 index를 모두 출력하시오."
      ]
    },
    {
      "cell_type": "code",
      "execution_count": 38,
      "metadata": {
        "id": "jiSLD4t5xQAA"
      },
      "outputs": [
        {
          "name": "stdout",
          "output_type": "stream",
          "text": [
            "(array([  1,  11,  15,  20,  21,  29,  32,  33,  34,  36,  37,  38,  39,\n",
            "        49,  51,  59,  64,  66,  69,  71,  72,  73,  74,  75,  78,  81,\n",
            "        88,  89,  94,  95,  98,  99, 100, 101, 118, 122, 127, 128, 129,\n",
            "       132, 133, 136, 138, 143, 145, 148], dtype=int64),)\n"
          ]
        }
      ],
      "source": [
        "indices = np.where(iris_1d['f2'] >= 5.0)\n",
        "print(indices)"
      ]
    },
    {
      "cell_type": "markdown",
      "metadata": {
        "id": "1iVtmorcxpEH"
      },
      "source": [
        "##1.4"
      ]
    },
    {
      "cell_type": "markdown",
      "metadata": {
        "id": "LqPCfC2Uxqh8"
      },
      "source": [
        "###1.4.1 0부터 1까지의 랜덤 숫자 100개로 이루어진 array를 하나 만들고 array의 평균, 분산, 표준편차, 중앙값을 출력하시오."
      ]
    },
    {
      "cell_type": "code",
      "execution_count": 48,
      "metadata": {
        "id": "zDZPHcKcyYWa"
      },
      "outputs": [
        {
          "name": "stdout",
          "output_type": "stream",
          "text": [
            "Mean: 0.46591251567225794\n",
            "Variance: 0.09220354189431125\n",
            "Standard Deviation: 0.3036503612616182\n",
            "Median: 0.4280899541383131\n"
          ]
        }
      ],
      "source": [
        "rand_arr = np.random.random((1, 100))[0]\n",
        "\n",
        "mean = np.mean(rand_arr)\n",
        "variance = np.var(rand_arr)\n",
        "std_dev = np.std(rand_arr)\n",
        "median = np.median(rand_arr)\n",
        "\n",
        "print(f\"Mean: {mean}\")\n",
        "print(f\"Variance: {variance}\")\n",
        "print(f\"Standard Deviation: {std_dev}\")\n",
        "print(f\"Median: {median}\")"
      ]
    },
    {
      "cell_type": "markdown",
      "metadata": {
        "id": "tm7n2QVUymf5"
      },
      "source": [
        "###1.4.2 iris_2d 데이터의 첫 번째 열과 3번째 열의 값들 간의 상관계수를 출력하시오. (iris_2d 변수의 내용을 수정하지 마시오.)"
      ]
    },
    {
      "cell_type": "code",
      "execution_count": 49,
      "metadata": {
        "id": "CUAuDxZjyoDD"
      },
      "outputs": [],
      "source": [
        "# 해당 셀을 실행만 하되 수정하지 마세요.\n",
        "url = 'https://archive.ics.uci.edu/ml/machine-learning-databases/iris/iris.data'\n",
        "iris_2d = np.genfromtxt(url, delimiter=',', dtype='float', usecols=[0,1,2,3])"
      ]
    },
    {
      "cell_type": "code",
      "execution_count": 54,
      "metadata": {
        "id": "pwxg8JYGudF7"
      },
      "outputs": [
        {
          "name": "stdout",
          "output_type": "stream",
          "text": [
            "[[1.         0.99997391]\n",
            " [0.99997391 1.        ]]\n"
          ]
        }
      ],
      "source": [
        "correlation = np.corrcoef(iris_2d[0], iris_2d[2])\n",
        "print(correlation)"
      ]
    },
    {
      "cell_type": "markdown",
      "metadata": {
        "id": "6LmSick9u1lZ"
      },
      "source": [
        "###1.4.3 0부터 10까지의 랜덤한 정수 100개로 이루어진 array를 하나 만들고 가장 빈도수가 많은 숫자를 출력하시오. (만약 빈도수가 같은 숫자가 있다면 모두 출력하시오.)"
      ]
    },
    {
      "cell_type": "code",
      "execution_count": 66,
      "metadata": {
        "id": "AIgdPattvkE5"
      },
      "outputs": [
        {
          "name": "stdout",
          "output_type": "stream",
          "text": [
            "[ 3 10]\n"
          ]
        }
      ],
      "source": [
        "rand_arr = np.random.randint(0, 11, 100)\n",
        "counts = np.bincount(rand_arr)\n",
        "most_frequent = np.where(counts == counts.max())[0]\n",
        "print(most_frequent)"
      ]
    },
    {
      "cell_type": "markdown",
      "metadata": {
        "id": "0ZK6nBvhvkbe"
      },
      "source": [
        "### 1.4.4 numpy의 내장 함수를 이용해 현재 시간을 출력하시오. (출력 형식은 자유이고 연,월,일,시,분,초를 모두 출력해야함)"
      ]
    },
    {
      "cell_type": "code",
      "execution_count": 67,
      "metadata": {
        "id": "z2lFpGmCwCxo"
      },
      "outputs": [
        {
          "name": "stdout",
          "output_type": "stream",
          "text": [
            "2024-09-21T07:52:17\n"
          ]
        }
      ],
      "source": [
        "current_time = np.datetime64('now')\n",
        "print(current_time)"
      ]
    },
    {
      "cell_type": "markdown",
      "metadata": {
        "id": "SXD38EHVwDDJ"
      },
      "source": [
        "### 1.4.5 numpy의 내장 함수를 이용해 2024년 9월 1일부터 2024년 9월 20일까지의 날짜들 중 홀수일로만 이루어진 array를 하나 만들고 출력하시오."
      ]
    },
    {
      "cell_type": "code",
      "execution_count": null,
      "metadata": {
        "id": "Y5vn4z2HwViT"
      },
      "outputs": [],
      "source": [
        "# 예시 - 2018년 2월 1일부터 2018년 2월 23일까지\n",
        "\n",
        "# ['2018-02-01' '2018-02-03' '2018-02-05' '2018-02-07' '2018-02-09'\n",
        "#  '2018-02-11' '2018-02-13' '2018-02-15' '2018-02-17' '2018-02-19'\n",
        "#  '2018-02-21' '2018-02-23']"
      ]
    },
    {
      "cell_type": "code",
      "execution_count": 69,
      "metadata": {
        "id": "cHiWgcN_wnfE"
      },
      "outputs": [
        {
          "name": "stdout",
          "output_type": "stream",
          "text": [
            "['2024-09-01' '2024-09-03' '2024-09-05' '2024-09-07' '2024-09-09'\n",
            " '2024-09-11' '2024-09-13' '2024-09-15' '2024-09-17' '2024-09-19']\n"
          ]
        }
      ],
      "source": [
        "dates = np.arange('2024-09-01', '2024-09-20', dtype='datetime64[D]')\n",
        "\n",
        "odd_dates = dates[dates.astype('datetime64[D]').astype(int) % 2 == 1]\n",
        "print(odd_dates)"
      ]
    },
    {
      "cell_type": "markdown",
      "metadata": {
        "id": "DmCz1Xk5wsdR"
      },
      "source": [
        "# 2. Pandas"
      ]
    },
    {
      "cell_type": "markdown",
      "metadata": {
        "id": "qneBbHkYw6mu"
      },
      "source": [
        "## 2.1 Pandas 알아보기"
      ]
    },
    {
      "cell_type": "markdown",
      "metadata": {
        "id": "6tLKPpAQw-NK"
      },
      "source": [
        "### 2.1.1 Pandas에 대한 간단한 설명을 적어주세요."
      ]
    },
    {
      "cell_type": "markdown",
      "metadata": {
        "id": "d5mbaeBqxAzo"
      },
      "source": [
        "판다스(Pandas)는 파이썬 데이터 분석 라이브러리 중 하나로, 데이터 조작, 정제, 분석, 시각화 등을 위한 다양한 기능을 제공한다."
      ]
    },
    {
      "cell_type": "markdown",
      "metadata": {
        "id": "tkMRj-gZxMPE"
      },
      "source": [
        "### 2.1.2 본인의 Pandas version을 출력해주세요."
      ]
    },
    {
      "cell_type": "code",
      "execution_count": 70,
      "metadata": {
        "id": "A2sHDYEbxTCU"
      },
      "outputs": [
        {
          "name": "stdout",
          "output_type": "stream",
          "text": [
            "2.2.2\n"
          ]
        }
      ],
      "source": [
        "print(pd.__version__)"
      ]
    },
    {
      "cell_type": "markdown",
      "metadata": {
        "id": "wCxBkq_7xTeY"
      },
      "source": [
        "## 2.2 pandas 자료구조"
      ]
    },
    {
      "cell_type": "markdown",
      "metadata": {
        "id": "pXpq3hRxf-zE"
      },
      "source": [
        "### 2.2.1 pandas의 series와 numpy array의 차이점을 쓰시오."
      ]
    },
    {
      "cell_type": "markdown",
      "metadata": {
        "id": "77kTWPfpgOd8"
      },
      "source": [
        "1. 기능과 목적\n",
        "\n",
        "pandas.Series: pandas 라이브러리에서 제공하는 일차원 데이터 구조입니다. 데이터와 인덱스가 함께 저장되며, 인덱스를 사용해 데이터를 쉽게 참조할 수 있습니다. 보통 표 형식의 데이터를 다룰 때 사용되며, Series는 DataFrame의 열을 구성하는 기본 단위입니다.\n",
        "\n",
        "numpy.array: numpy 라이브러리에서 제공하는 다차원 배열입니다. 주로 숫자 데이터를 고속으로 처리하고, 선형 대수 및 행렬 연산을 위한 목적으로 사용됩니다. 기본적으로 인덱스는 정수로만 접근할 수 있습니다.\n",
        "\n",
        "2. 인덱싱\n",
        "\n",
        "pandas.Series: 커스텀 인덱스를 지원합니다. 문자열, 날짜 등 다양한 인덱스를 지정할 수 있습니다.\n",
        "\n",
        "numpy.array: 인덱스가 정수로 고정됩니다. 배열의 위치를 기반으로 요소에 접근합니다.\n",
        "\n",
        "3. 데이터 처리 기능\n",
        "\n",
        "pandas.Series: 데이터 처리 기능이 더 강력합니다. 결측치(NaN) 처리가 가능하며, 다양한 통계 및 데이터 조작 메서드를 제공합니다.\n",
        "\n",
        "numpy.array: 빠른 수치 연산과 배열 연산에 최적화되어 있지만, 결측치 처리는 따로 관리해야 합니다.\n",
        "\n",
        "4. 데이터 유형\n",
        "\n",
        "pandas.Series: 다양한 데이터 타입을 한 시리즈에서 지원할 수 있습니다. 예를 들어, 숫자, 문자열, 날짜가 혼합된 데이터를 가질 수 있습니다.\n",
        "\n",
        "numpy.array: 기본적으로 동일한 데이터 타입만 허용합니다. 숫자 배열, 문자열 배열 등으로 구분됩니다."
      ]
    },
    {
      "cell_type": "markdown",
      "metadata": {
        "id": "avbVMmFwxWIL"
      },
      "source": [
        "### 2.2.2  알파벳  a-z로 이루어진 series를 하나 만들고 출력하시오."
      ]
    },
    {
      "cell_type": "code",
      "execution_count": 71,
      "metadata": {
        "id": "B-0d-YLexXvx"
      },
      "outputs": [
        {
          "name": "stdout",
          "output_type": "stream",
          "text": [
            "0     a\n",
            "1     b\n",
            "2     c\n",
            "3     d\n",
            "4     e\n",
            "5     f\n",
            "6     g\n",
            "7     h\n",
            "8     i\n",
            "9     j\n",
            "10    k\n",
            "11    l\n",
            "12    m\n",
            "13    n\n",
            "14    o\n",
            "15    p\n",
            "16    q\n",
            "17    r\n",
            "18    s\n",
            "19    t\n",
            "20    u\n",
            "21    v\n",
            "22    w\n",
            "23    x\n",
            "24    y\n",
            "25    z\n",
            "dtype: object\n"
          ]
        }
      ],
      "source": [
        "alphabet_series = pd.Series(list('abcdefghijklmnopqrstuvwxyz'))\n",
        "print(alphabet_series)"
      ]
    },
    {
      "cell_type": "markdown",
      "metadata": {
        "id": "HRPyX-lNeUV2"
      },
      "source": [
        "### 2.2.3 list1 = [2,4,6,8,10], list2 = [3,6,9,12]일 때 각 리스트를 series1, series2로 바꾼 뒤 series1과 series2를 출력하시오."
      ]
    },
    {
      "cell_type": "code",
      "execution_count": 72,
      "metadata": {
        "id": "qU3gFS6je4Jn"
      },
      "outputs": [
        {
          "name": "stdout",
          "output_type": "stream",
          "text": [
            "0     2\n",
            "1     4\n",
            "2     6\n",
            "3     8\n",
            "4    10\n",
            "dtype: int64\n",
            "0     3\n",
            "1     6\n",
            "2     9\n",
            "3    12\n",
            "dtype: int64\n"
          ]
        }
      ],
      "source": [
        "list1 = [2,4,6,8,10]\n",
        "list2 = [3,6,9,12]\n",
        "\n",
        "series1 = pd.Series(list1)\n",
        "series2 = pd.Series(list2)\n",
        "print(series1)\n",
        "print(series2)"
      ]
    },
    {
      "cell_type": "markdown",
      "metadata": {
        "id": "tpuTwDSLfKw1"
      },
      "source": [
        "### 2.2.4 1부터 5까지의 정수로 이루어진 series와 6부터 10까지의 정수로 이루어진 series를 만들어 각각을 열(column)로 가지는 dataframe을 만들고 출력하시오. (2개의 열을 가지는 dataframe 출력)"
      ]
    },
    {
      "cell_type": "code",
      "execution_count": null,
      "metadata": {
        "id": "w-iXG2bafyBP"
      },
      "outputs": [],
      "source": [
        "# 예시\n",
        "#   0 1\n",
        "# 0 1 6\n",
        "# 1 2 7\n",
        "# 2 3 8\n",
        "# 3 4 9\n",
        "# 4 5 10"
      ]
    },
    {
      "cell_type": "code",
      "execution_count": 77,
      "metadata": {
        "id": "OsaoR9rVhYsT"
      },
      "outputs": [
        {
          "name": "stdout",
          "output_type": "stream",
          "text": [
            "   0   1\n",
            "0  1   6\n",
            "1  2   7\n",
            "2  3   8\n",
            "3  4   9\n",
            "4  5  10\n"
          ]
        }
      ],
      "source": [
        "series1 = pd.Series([1,2,3,4,5])\n",
        "series2 = pd.Series([6,7,8,9,10])\n",
        "df = pd.DataFrame({0: series1, 1: series2})\n",
        "print(df)"
      ]
    },
    {
      "cell_type": "markdown",
      "metadata": {
        "id": "R4dMpq7OgSq-"
      },
      "source": [
        "### 2.2.5 1-3 정수, 4-6 정수, 7-9 정수, 10-12 정수로 이루어진 series를 만들어 각각을 행(row)으로 가지는 dataframe을 만들고 출력하시오. (4개의 행을 가지는 dataframe 출력)"
      ]
    },
    {
      "cell_type": "code",
      "execution_count": null,
      "metadata": {
        "id": "jpUuHIL9g9Mk"
      },
      "outputs": [],
      "source": [
        "# 예시\n",
        "#    0  1  2\n",
        "# 0  1  2  3\n",
        "# 1  4  5  6\n",
        "# 2  7  8  9\n",
        "# 3 10 11 12"
      ]
    },
    {
      "cell_type": "code",
      "execution_count": 78,
      "metadata": {
        "id": "70j2xBz6hpTC"
      },
      "outputs": [
        {
          "name": "stdout",
          "output_type": "stream",
          "text": [
            "    0   1   2\n",
            "0   1   2   3\n",
            "1   4   5   6\n",
            "2   7   8   9\n",
            "3  10  11  12\n"
          ]
        }
      ],
      "source": [
        "series1 = pd.Series([1,2,3])\n",
        "series2 = pd.Series([4,5,6])\n",
        "series3 = pd.Series([7,8,9])\n",
        "series4 = pd.Series([10,11,12])\n",
        "df = pd.DataFrame([series1, series2, series3, series4])\n",
        "print(df)"
      ]
    },
    {
      "cell_type": "markdown",
      "metadata": {
        "id": "kaz1giaAhpvq"
      },
      "source": [
        "### 2.2.6 2.2.5에서 만든 dataframe의 index를 ['one','two','three','four']으로 바꾸고 출력하시오."
      ]
    },
    {
      "cell_type": "code",
      "execution_count": 79,
      "metadata": {
        "id": "cL83fe5Mh9AA"
      },
      "outputs": [
        {
          "name": "stdout",
          "output_type": "stream",
          "text": [
            "        0   1   2\n",
            "one     1   2   3\n",
            "two     4   5   6\n",
            "three   7   8   9\n",
            "four   10  11  12\n"
          ]
        }
      ],
      "source": [
        "df.index = ['one', 'two', 'three', 'four']\n",
        "print(df)"
      ]
    },
    {
      "cell_type": "markdown",
      "metadata": {
        "id": "G9nM6mQ8h9T3"
      },
      "source": [
        "### 2.2.7\n",
        "*  [1, 2, 3, 4, 5, 6, 7, 8, 9, 10]\n",
        "*  [10, 9, 8, 7, 6, 5, 4, 3, 2, 1]\n",
        "\n",
        "위 두 리스트를 series로 변환하고 ***원소별로 더한 값을 새로운 series로 만들어*** 출력하시오. (진한 글씨로 나타낸 부분은 한 줄로 작성)\n",
        "\n"
      ]
    },
    {
      "cell_type": "code",
      "execution_count": null,
      "metadata": {
        "id": "w4wWWipmiPVq"
      },
      "outputs": [],
      "source": [
        "# 실행하지 마시오.\n",
        "s1 = [1,2,3]\n",
        "s2 = [3,2,1]"
      ]
    },
    {
      "cell_type": "code",
      "execution_count": 83,
      "metadata": {
        "id": "cXW9DzbljgPQ"
      },
      "outputs": [
        {
          "name": "stdout",
          "output_type": "stream",
          "text": [
            "0    11\n",
            "1    11\n",
            "2    11\n",
            "3    11\n",
            "4    11\n",
            "5    11\n",
            "6    11\n",
            "7    11\n",
            "8    11\n",
            "9    11\n",
            "dtype: int64\n"
          ]
        }
      ],
      "source": [
        "series1 = pd.Series([1,2,3,4,5,6,7,8,9,10])\n",
        "series2 = pd.Series([10,9,8,7,6,5,4,3,2,1])\n",
        "series3 = series1 + series2\n",
        "print(series3)"
      ]
    },
    {
      "cell_type": "markdown",
      "metadata": {
        "id": "VJHFNzuliwXy"
      },
      "source": [
        "### 2.2.8 numpy의 함수를 이용하여 아래와 같은 출력을 만드시오."
      ]
    },
    {
      "cell_type": "code",
      "execution_count": null,
      "metadata": {
        "id": "tjzgOTrljrUb"
      },
      "outputs": [],
      "source": [
        "# 예시\n",
        "# 2000-01-01     1.0\n",
        "# 2000-01-03    10.0\n",
        "# 2000-01-05     3.0\n",
        "# 2000-01-07     NaN"
      ]
    },
    {
      "cell_type": "code",
      "execution_count": 84,
      "metadata": {
        "id": "FJLTh-tkkKSd"
      },
      "outputs": [
        {
          "name": "stdout",
          "output_type": "stream",
          "text": [
            "2000-01-01     1.0\n",
            "2000-01-03    10.0\n",
            "2000-01-05     3.0\n",
            "2000-01-07     NaN\n",
            "dtype: float64\n"
          ]
        }
      ],
      "source": [
        "dates = np.array(['2000-01-01', '2000-01-03', '2000-01-05', '2000-01-07'], dtype='datetime64[D]')\n",
        "values = np.array([1.0, 10.0, 3.0, np.nan])\n",
        "series = pd.Series(values, index=dates)\n",
        "print(series)"
      ]
    },
    {
      "cell_type": "markdown",
      "metadata": {
        "id": "bPe0FrnYk3l5"
      },
      "source": [
        "## 2.3"
      ]
    },
    {
      "cell_type": "markdown",
      "metadata": {
        "id": "NUGmuVVBkKp-"
      },
      "source": [
        "### 2.3.1 아래 path에 해당하는 경로의 csv 파일을 읽고 그 내용을 cars93 이라는 변수로 저장한 뒤 출력하시오."
      ]
    },
    {
      "cell_type": "markdown",
      "metadata": {
        "id": "rXAdW_aSlpCU"
      },
      "source": [
        "**cars93 변수의 내용을 변경하지 마시오.**"
      ]
    },
    {
      "cell_type": "code",
      "execution_count": 93,
      "metadata": {
        "id": "-Qdi-VHgkVfQ"
      },
      "outputs": [],
      "source": [
        "# 해당 셀을 실행하되 수정하지 마세요.\n",
        "path = 'https://raw.githubusercontent.com/selva86/datasets/master/Cars93_miss.csv'"
      ]
    },
    {
      "cell_type": "code",
      "execution_count": 94,
      "metadata": {
        "id": "JSofka2vky26"
      },
      "outputs": [
        {
          "data": {
            "text/html": [
              "<div>\n",
              "<style scoped>\n",
              "    .dataframe tbody tr th:only-of-type {\n",
              "        vertical-align: middle;\n",
              "    }\n",
              "\n",
              "    .dataframe tbody tr th {\n",
              "        vertical-align: top;\n",
              "    }\n",
              "\n",
              "    .dataframe thead th {\n",
              "        text-align: right;\n",
              "    }\n",
              "</style>\n",
              "<table border=\"1\" class=\"dataframe\">\n",
              "  <thead>\n",
              "    <tr style=\"text-align: right;\">\n",
              "      <th></th>\n",
              "      <th>Manufacturer</th>\n",
              "      <th>Model</th>\n",
              "      <th>Type</th>\n",
              "      <th>Min.Price</th>\n",
              "      <th>Price</th>\n",
              "      <th>Max.Price</th>\n",
              "      <th>MPG.city</th>\n",
              "      <th>MPG.highway</th>\n",
              "      <th>AirBags</th>\n",
              "      <th>DriveTrain</th>\n",
              "      <th>...</th>\n",
              "      <th>Passengers</th>\n",
              "      <th>Length</th>\n",
              "      <th>Wheelbase</th>\n",
              "      <th>Width</th>\n",
              "      <th>Turn.circle</th>\n",
              "      <th>Rear.seat.room</th>\n",
              "      <th>Luggage.room</th>\n",
              "      <th>Weight</th>\n",
              "      <th>Origin</th>\n",
              "      <th>Make</th>\n",
              "    </tr>\n",
              "  </thead>\n",
              "  <tbody>\n",
              "    <tr>\n",
              "      <th>0</th>\n",
              "      <td>Acura</td>\n",
              "      <td>Integra</td>\n",
              "      <td>Small</td>\n",
              "      <td>12.9</td>\n",
              "      <td>15.9</td>\n",
              "      <td>18.8</td>\n",
              "      <td>25.0</td>\n",
              "      <td>31.0</td>\n",
              "      <td>NaN</td>\n",
              "      <td>Front</td>\n",
              "      <td>...</td>\n",
              "      <td>5.0</td>\n",
              "      <td>177.0</td>\n",
              "      <td>102.0</td>\n",
              "      <td>68.0</td>\n",
              "      <td>37.0</td>\n",
              "      <td>26.5</td>\n",
              "      <td>NaN</td>\n",
              "      <td>2705.0</td>\n",
              "      <td>non-USA</td>\n",
              "      <td>Acura Integra</td>\n",
              "    </tr>\n",
              "    <tr>\n",
              "      <th>1</th>\n",
              "      <td>NaN</td>\n",
              "      <td>Legend</td>\n",
              "      <td>Midsize</td>\n",
              "      <td>29.2</td>\n",
              "      <td>33.9</td>\n",
              "      <td>38.7</td>\n",
              "      <td>18.0</td>\n",
              "      <td>25.0</td>\n",
              "      <td>Driver &amp; Passenger</td>\n",
              "      <td>Front</td>\n",
              "      <td>...</td>\n",
              "      <td>5.0</td>\n",
              "      <td>195.0</td>\n",
              "      <td>115.0</td>\n",
              "      <td>71.0</td>\n",
              "      <td>38.0</td>\n",
              "      <td>30.0</td>\n",
              "      <td>15.0</td>\n",
              "      <td>3560.0</td>\n",
              "      <td>non-USA</td>\n",
              "      <td>Acura Legend</td>\n",
              "    </tr>\n",
              "    <tr>\n",
              "      <th>2</th>\n",
              "      <td>Audi</td>\n",
              "      <td>90</td>\n",
              "      <td>Compact</td>\n",
              "      <td>25.9</td>\n",
              "      <td>29.1</td>\n",
              "      <td>32.3</td>\n",
              "      <td>20.0</td>\n",
              "      <td>26.0</td>\n",
              "      <td>Driver only</td>\n",
              "      <td>Front</td>\n",
              "      <td>...</td>\n",
              "      <td>5.0</td>\n",
              "      <td>180.0</td>\n",
              "      <td>102.0</td>\n",
              "      <td>67.0</td>\n",
              "      <td>37.0</td>\n",
              "      <td>28.0</td>\n",
              "      <td>14.0</td>\n",
              "      <td>3375.0</td>\n",
              "      <td>non-USA</td>\n",
              "      <td>Audi 90</td>\n",
              "    </tr>\n",
              "    <tr>\n",
              "      <th>3</th>\n",
              "      <td>Audi</td>\n",
              "      <td>100</td>\n",
              "      <td>Midsize</td>\n",
              "      <td>NaN</td>\n",
              "      <td>37.7</td>\n",
              "      <td>44.6</td>\n",
              "      <td>19.0</td>\n",
              "      <td>26.0</td>\n",
              "      <td>Driver &amp; Passenger</td>\n",
              "      <td>NaN</td>\n",
              "      <td>...</td>\n",
              "      <td>6.0</td>\n",
              "      <td>193.0</td>\n",
              "      <td>106.0</td>\n",
              "      <td>NaN</td>\n",
              "      <td>37.0</td>\n",
              "      <td>31.0</td>\n",
              "      <td>17.0</td>\n",
              "      <td>3405.0</td>\n",
              "      <td>non-USA</td>\n",
              "      <td>Audi 100</td>\n",
              "    </tr>\n",
              "    <tr>\n",
              "      <th>4</th>\n",
              "      <td>BMW</td>\n",
              "      <td>535i</td>\n",
              "      <td>Midsize</td>\n",
              "      <td>NaN</td>\n",
              "      <td>30.0</td>\n",
              "      <td>NaN</td>\n",
              "      <td>22.0</td>\n",
              "      <td>30.0</td>\n",
              "      <td>NaN</td>\n",
              "      <td>Rear</td>\n",
              "      <td>...</td>\n",
              "      <td>4.0</td>\n",
              "      <td>186.0</td>\n",
              "      <td>109.0</td>\n",
              "      <td>69.0</td>\n",
              "      <td>39.0</td>\n",
              "      <td>27.0</td>\n",
              "      <td>13.0</td>\n",
              "      <td>3640.0</td>\n",
              "      <td>non-USA</td>\n",
              "      <td>BMW 535i</td>\n",
              "    </tr>\n",
              "    <tr>\n",
              "      <th>...</th>\n",
              "      <td>...</td>\n",
              "      <td>...</td>\n",
              "      <td>...</td>\n",
              "      <td>...</td>\n",
              "      <td>...</td>\n",
              "      <td>...</td>\n",
              "      <td>...</td>\n",
              "      <td>...</td>\n",
              "      <td>...</td>\n",
              "      <td>...</td>\n",
              "      <td>...</td>\n",
              "      <td>...</td>\n",
              "      <td>...</td>\n",
              "      <td>...</td>\n",
              "      <td>...</td>\n",
              "      <td>...</td>\n",
              "      <td>...</td>\n",
              "      <td>...</td>\n",
              "      <td>...</td>\n",
              "      <td>...</td>\n",
              "      <td>...</td>\n",
              "    </tr>\n",
              "    <tr>\n",
              "      <th>88</th>\n",
              "      <td>Volkswagen</td>\n",
              "      <td>Eurovan</td>\n",
              "      <td>Van</td>\n",
              "      <td>16.6</td>\n",
              "      <td>19.7</td>\n",
              "      <td>22.7</td>\n",
              "      <td>17.0</td>\n",
              "      <td>21.0</td>\n",
              "      <td>NaN</td>\n",
              "      <td>Front</td>\n",
              "      <td>...</td>\n",
              "      <td>7.0</td>\n",
              "      <td>187.0</td>\n",
              "      <td>115.0</td>\n",
              "      <td>72.0</td>\n",
              "      <td>38.0</td>\n",
              "      <td>34.0</td>\n",
              "      <td>NaN</td>\n",
              "      <td>3960.0</td>\n",
              "      <td>NaN</td>\n",
              "      <td>Volkswagen Eurovan</td>\n",
              "    </tr>\n",
              "    <tr>\n",
              "      <th>89</th>\n",
              "      <td>Volkswagen</td>\n",
              "      <td>Passat</td>\n",
              "      <td>Compact</td>\n",
              "      <td>17.6</td>\n",
              "      <td>20.0</td>\n",
              "      <td>22.4</td>\n",
              "      <td>21.0</td>\n",
              "      <td>30.0</td>\n",
              "      <td>NaN</td>\n",
              "      <td>Front</td>\n",
              "      <td>...</td>\n",
              "      <td>5.0</td>\n",
              "      <td>180.0</td>\n",
              "      <td>103.0</td>\n",
              "      <td>67.0</td>\n",
              "      <td>35.0</td>\n",
              "      <td>31.5</td>\n",
              "      <td>14.0</td>\n",
              "      <td>2985.0</td>\n",
              "      <td>non-USA</td>\n",
              "      <td>Volkswagen Passat</td>\n",
              "    </tr>\n",
              "    <tr>\n",
              "      <th>90</th>\n",
              "      <td>Volkswagen</td>\n",
              "      <td>Corrado</td>\n",
              "      <td>Sporty</td>\n",
              "      <td>22.9</td>\n",
              "      <td>23.3</td>\n",
              "      <td>23.7</td>\n",
              "      <td>18.0</td>\n",
              "      <td>25.0</td>\n",
              "      <td>NaN</td>\n",
              "      <td>Front</td>\n",
              "      <td>...</td>\n",
              "      <td>4.0</td>\n",
              "      <td>159.0</td>\n",
              "      <td>97.0</td>\n",
              "      <td>66.0</td>\n",
              "      <td>36.0</td>\n",
              "      <td>26.0</td>\n",
              "      <td>15.0</td>\n",
              "      <td>2810.0</td>\n",
              "      <td>non-USA</td>\n",
              "      <td>Volkswagen Corrado</td>\n",
              "    </tr>\n",
              "    <tr>\n",
              "      <th>91</th>\n",
              "      <td>Volvo</td>\n",
              "      <td>240</td>\n",
              "      <td>Compact</td>\n",
              "      <td>21.8</td>\n",
              "      <td>22.7</td>\n",
              "      <td>23.5</td>\n",
              "      <td>21.0</td>\n",
              "      <td>28.0</td>\n",
              "      <td>Driver only</td>\n",
              "      <td>Rear</td>\n",
              "      <td>...</td>\n",
              "      <td>5.0</td>\n",
              "      <td>190.0</td>\n",
              "      <td>104.0</td>\n",
              "      <td>67.0</td>\n",
              "      <td>37.0</td>\n",
              "      <td>29.5</td>\n",
              "      <td>14.0</td>\n",
              "      <td>2985.0</td>\n",
              "      <td>non-USA</td>\n",
              "      <td>Volvo 240</td>\n",
              "    </tr>\n",
              "    <tr>\n",
              "      <th>92</th>\n",
              "      <td>NaN</td>\n",
              "      <td>850</td>\n",
              "      <td>Midsize</td>\n",
              "      <td>24.8</td>\n",
              "      <td>26.7</td>\n",
              "      <td>28.5</td>\n",
              "      <td>20.0</td>\n",
              "      <td>28.0</td>\n",
              "      <td>Driver &amp; Passenger</td>\n",
              "      <td>Front</td>\n",
              "      <td>...</td>\n",
              "      <td>5.0</td>\n",
              "      <td>184.0</td>\n",
              "      <td>105.0</td>\n",
              "      <td>69.0</td>\n",
              "      <td>38.0</td>\n",
              "      <td>30.0</td>\n",
              "      <td>15.0</td>\n",
              "      <td>3245.0</td>\n",
              "      <td>non-USA</td>\n",
              "      <td>Volvo 850</td>\n",
              "    </tr>\n",
              "  </tbody>\n",
              "</table>\n",
              "<p>93 rows × 27 columns</p>\n",
              "</div>"
            ],
            "text/plain": [
              "   Manufacturer    Model     Type  Min.Price  Price  Max.Price  MPG.city  \\\n",
              "0         Acura  Integra    Small       12.9   15.9       18.8      25.0   \n",
              "1           NaN   Legend  Midsize       29.2   33.9       38.7      18.0   \n",
              "2          Audi       90  Compact       25.9   29.1       32.3      20.0   \n",
              "3          Audi      100  Midsize        NaN   37.7       44.6      19.0   \n",
              "4           BMW     535i  Midsize        NaN   30.0        NaN      22.0   \n",
              "..          ...      ...      ...        ...    ...        ...       ...   \n",
              "88   Volkswagen  Eurovan      Van       16.6   19.7       22.7      17.0   \n",
              "89   Volkswagen   Passat  Compact       17.6   20.0       22.4      21.0   \n",
              "90   Volkswagen  Corrado   Sporty       22.9   23.3       23.7      18.0   \n",
              "91        Volvo      240  Compact       21.8   22.7       23.5      21.0   \n",
              "92          NaN      850  Midsize       24.8   26.7       28.5      20.0   \n",
              "\n",
              "    MPG.highway             AirBags DriveTrain  ... Passengers  Length  \\\n",
              "0          31.0                 NaN      Front  ...        5.0   177.0   \n",
              "1          25.0  Driver & Passenger      Front  ...        5.0   195.0   \n",
              "2          26.0         Driver only      Front  ...        5.0   180.0   \n",
              "3          26.0  Driver & Passenger        NaN  ...        6.0   193.0   \n",
              "4          30.0                 NaN       Rear  ...        4.0   186.0   \n",
              "..          ...                 ...        ...  ...        ...     ...   \n",
              "88         21.0                 NaN      Front  ...        7.0   187.0   \n",
              "89         30.0                 NaN      Front  ...        5.0   180.0   \n",
              "90         25.0                 NaN      Front  ...        4.0   159.0   \n",
              "91         28.0         Driver only       Rear  ...        5.0   190.0   \n",
              "92         28.0  Driver & Passenger      Front  ...        5.0   184.0   \n",
              "\n",
              "    Wheelbase  Width  Turn.circle Rear.seat.room  Luggage.room  Weight  \\\n",
              "0       102.0   68.0         37.0           26.5           NaN  2705.0   \n",
              "1       115.0   71.0         38.0           30.0          15.0  3560.0   \n",
              "2       102.0   67.0         37.0           28.0          14.0  3375.0   \n",
              "3       106.0    NaN         37.0           31.0          17.0  3405.0   \n",
              "4       109.0   69.0         39.0           27.0          13.0  3640.0   \n",
              "..        ...    ...          ...            ...           ...     ...   \n",
              "88      115.0   72.0         38.0           34.0           NaN  3960.0   \n",
              "89      103.0   67.0         35.0           31.5          14.0  2985.0   \n",
              "90       97.0   66.0         36.0           26.0          15.0  2810.0   \n",
              "91      104.0   67.0         37.0           29.5          14.0  2985.0   \n",
              "92      105.0   69.0         38.0           30.0          15.0  3245.0   \n",
              "\n",
              "     Origin                Make  \n",
              "0   non-USA       Acura Integra  \n",
              "1   non-USA        Acura Legend  \n",
              "2   non-USA             Audi 90  \n",
              "3   non-USA            Audi 100  \n",
              "4   non-USA            BMW 535i  \n",
              "..      ...                 ...  \n",
              "88      NaN  Volkswagen Eurovan  \n",
              "89  non-USA   Volkswagen Passat  \n",
              "90  non-USA  Volkswagen Corrado  \n",
              "91  non-USA           Volvo 240  \n",
              "92  non-USA           Volvo 850  \n",
              "\n",
              "[93 rows x 27 columns]"
            ]
          },
          "execution_count": 94,
          "metadata": {},
          "output_type": "execute_result"
        }
      ],
      "source": [
        "cars93 = pd.read_csv(path)\n",
        "\n",
        "cars93"
      ]
    },
    {
      "cell_type": "markdown",
      "metadata": {
        "id": "164qXzTnk1qn"
      },
      "source": [
        "### 2.3.2 위에서 cars93 데이터의 요약을 출력하시오."
      ]
    },
    {
      "cell_type": "code",
      "execution_count": 95,
      "metadata": {
        "id": "NVCdRdHulDkx"
      },
      "outputs": [
        {
          "name": "stdout",
          "output_type": "stream",
          "text": [
            "<class 'pandas.core.frame.DataFrame'>\n",
            "RangeIndex: 93 entries, 0 to 92\n",
            "Data columns (total 27 columns):\n",
            " #   Column              Non-Null Count  Dtype  \n",
            "---  ------              --------------  -----  \n",
            " 0   Manufacturer        89 non-null     object \n",
            " 1   Model               92 non-null     object \n",
            " 2   Type                90 non-null     object \n",
            " 3   Min.Price           86 non-null     float64\n",
            " 4   Price               91 non-null     float64\n",
            " 5   Max.Price           88 non-null     float64\n",
            " 6   MPG.city            84 non-null     float64\n",
            " 7   MPG.highway         91 non-null     float64\n",
            " 8   AirBags             55 non-null     object \n",
            " 9   DriveTrain          86 non-null     object \n",
            " 10  Cylinders           88 non-null     object \n",
            " 11  EngineSize          91 non-null     float64\n",
            " 12  Horsepower          86 non-null     float64\n",
            " 13  RPM                 90 non-null     float64\n",
            " 14  Rev.per.mile        87 non-null     float64\n",
            " 15  Man.trans.avail     88 non-null     object \n",
            " 16  Fuel.tank.capacity  85 non-null     float64\n",
            " 17  Passengers          91 non-null     float64\n",
            " 18  Length              89 non-null     float64\n",
            " 19  Wheelbase           92 non-null     float64\n",
            " 20  Width               87 non-null     float64\n",
            " 21  Turn.circle         88 non-null     float64\n",
            " 22  Rear.seat.room      89 non-null     float64\n",
            " 23  Luggage.room        74 non-null     float64\n",
            " 24  Weight              86 non-null     float64\n",
            " 25  Origin              88 non-null     object \n",
            " 26  Make                90 non-null     object \n",
            "dtypes: float64(18), object(9)\n",
            "memory usage: 19.7+ KB\n"
          ]
        }
      ],
      "source": [
        "cars93.info()"
      ]
    },
    {
      "cell_type": "markdown",
      "metadata": {
        "id": "HAr9zWIUlD9U"
      },
      "source": [
        "### 2.3.3 cars93에서 price가 가장 높은 제품의 manufacturer을 출력하시오."
      ]
    },
    {
      "cell_type": "code",
      "execution_count": 96,
      "metadata": {
        "id": "NZzvFXUhmCrK"
      },
      "outputs": [
        {
          "name": "stdout",
          "output_type": "stream",
          "text": [
            "Mercedes-Benz\n"
          ]
        }
      ],
      "source": [
        "max_price_manufacturer = cars93.loc[cars93['Max.Price'].idxmax(), 'Manufacturer']\n",
        "print(max_price_manufacturer)"
      ]
    },
    {
      "cell_type": "markdown",
      "metadata": {
        "id": "BvLtRyUymCX0"
      },
      "source": [
        "### 2.3.4 cars93에서 'Type'열의 이름을 'CarType'으로 바꾸고 Renamed라는 이름의 변수에 저장한 뒤 출력하시오."
      ]
    },
    {
      "cell_type": "code",
      "execution_count": 98,
      "metadata": {
        "id": "GjnChGMQmfk8"
      },
      "outputs": [
        {
          "data": {
            "text/html": [
              "<div>\n",
              "<style scoped>\n",
              "    .dataframe tbody tr th:only-of-type {\n",
              "        vertical-align: middle;\n",
              "    }\n",
              "\n",
              "    .dataframe tbody tr th {\n",
              "        vertical-align: top;\n",
              "    }\n",
              "\n",
              "    .dataframe thead th {\n",
              "        text-align: right;\n",
              "    }\n",
              "</style>\n",
              "<table border=\"1\" class=\"dataframe\">\n",
              "  <thead>\n",
              "    <tr style=\"text-align: right;\">\n",
              "      <th></th>\n",
              "      <th>Manufacturer</th>\n",
              "      <th>Model</th>\n",
              "      <th>CarType</th>\n",
              "      <th>Min.Price</th>\n",
              "      <th>Price</th>\n",
              "      <th>Max.Price</th>\n",
              "      <th>MPG.city</th>\n",
              "      <th>MPG.highway</th>\n",
              "      <th>AirBags</th>\n",
              "      <th>DriveTrain</th>\n",
              "      <th>...</th>\n",
              "      <th>Passengers</th>\n",
              "      <th>Length</th>\n",
              "      <th>Wheelbase</th>\n",
              "      <th>Width</th>\n",
              "      <th>Turn.circle</th>\n",
              "      <th>Rear.seat.room</th>\n",
              "      <th>Luggage.room</th>\n",
              "      <th>Weight</th>\n",
              "      <th>Origin</th>\n",
              "      <th>Make</th>\n",
              "    </tr>\n",
              "  </thead>\n",
              "  <tbody>\n",
              "    <tr>\n",
              "      <th>0</th>\n",
              "      <td>Acura</td>\n",
              "      <td>Integra</td>\n",
              "      <td>Small</td>\n",
              "      <td>12.9</td>\n",
              "      <td>15.9</td>\n",
              "      <td>18.8</td>\n",
              "      <td>25.0</td>\n",
              "      <td>31.0</td>\n",
              "      <td>NaN</td>\n",
              "      <td>Front</td>\n",
              "      <td>...</td>\n",
              "      <td>5.0</td>\n",
              "      <td>177.0</td>\n",
              "      <td>102.0</td>\n",
              "      <td>68.0</td>\n",
              "      <td>37.0</td>\n",
              "      <td>26.5</td>\n",
              "      <td>NaN</td>\n",
              "      <td>2705.0</td>\n",
              "      <td>non-USA</td>\n",
              "      <td>Acura Integra</td>\n",
              "    </tr>\n",
              "    <tr>\n",
              "      <th>1</th>\n",
              "      <td>NaN</td>\n",
              "      <td>Legend</td>\n",
              "      <td>Midsize</td>\n",
              "      <td>29.2</td>\n",
              "      <td>33.9</td>\n",
              "      <td>38.7</td>\n",
              "      <td>18.0</td>\n",
              "      <td>25.0</td>\n",
              "      <td>Driver &amp; Passenger</td>\n",
              "      <td>Front</td>\n",
              "      <td>...</td>\n",
              "      <td>5.0</td>\n",
              "      <td>195.0</td>\n",
              "      <td>115.0</td>\n",
              "      <td>71.0</td>\n",
              "      <td>38.0</td>\n",
              "      <td>30.0</td>\n",
              "      <td>15.0</td>\n",
              "      <td>3560.0</td>\n",
              "      <td>non-USA</td>\n",
              "      <td>Acura Legend</td>\n",
              "    </tr>\n",
              "    <tr>\n",
              "      <th>2</th>\n",
              "      <td>Audi</td>\n",
              "      <td>90</td>\n",
              "      <td>Compact</td>\n",
              "      <td>25.9</td>\n",
              "      <td>29.1</td>\n",
              "      <td>32.3</td>\n",
              "      <td>20.0</td>\n",
              "      <td>26.0</td>\n",
              "      <td>Driver only</td>\n",
              "      <td>Front</td>\n",
              "      <td>...</td>\n",
              "      <td>5.0</td>\n",
              "      <td>180.0</td>\n",
              "      <td>102.0</td>\n",
              "      <td>67.0</td>\n",
              "      <td>37.0</td>\n",
              "      <td>28.0</td>\n",
              "      <td>14.0</td>\n",
              "      <td>3375.0</td>\n",
              "      <td>non-USA</td>\n",
              "      <td>Audi 90</td>\n",
              "    </tr>\n",
              "    <tr>\n",
              "      <th>3</th>\n",
              "      <td>Audi</td>\n",
              "      <td>100</td>\n",
              "      <td>Midsize</td>\n",
              "      <td>NaN</td>\n",
              "      <td>37.7</td>\n",
              "      <td>44.6</td>\n",
              "      <td>19.0</td>\n",
              "      <td>26.0</td>\n",
              "      <td>Driver &amp; Passenger</td>\n",
              "      <td>NaN</td>\n",
              "      <td>...</td>\n",
              "      <td>6.0</td>\n",
              "      <td>193.0</td>\n",
              "      <td>106.0</td>\n",
              "      <td>NaN</td>\n",
              "      <td>37.0</td>\n",
              "      <td>31.0</td>\n",
              "      <td>17.0</td>\n",
              "      <td>3405.0</td>\n",
              "      <td>non-USA</td>\n",
              "      <td>Audi 100</td>\n",
              "    </tr>\n",
              "    <tr>\n",
              "      <th>4</th>\n",
              "      <td>BMW</td>\n",
              "      <td>535i</td>\n",
              "      <td>Midsize</td>\n",
              "      <td>NaN</td>\n",
              "      <td>30.0</td>\n",
              "      <td>NaN</td>\n",
              "      <td>22.0</td>\n",
              "      <td>30.0</td>\n",
              "      <td>NaN</td>\n",
              "      <td>Rear</td>\n",
              "      <td>...</td>\n",
              "      <td>4.0</td>\n",
              "      <td>186.0</td>\n",
              "      <td>109.0</td>\n",
              "      <td>69.0</td>\n",
              "      <td>39.0</td>\n",
              "      <td>27.0</td>\n",
              "      <td>13.0</td>\n",
              "      <td>3640.0</td>\n",
              "      <td>non-USA</td>\n",
              "      <td>BMW 535i</td>\n",
              "    </tr>\n",
              "    <tr>\n",
              "      <th>...</th>\n",
              "      <td>...</td>\n",
              "      <td>...</td>\n",
              "      <td>...</td>\n",
              "      <td>...</td>\n",
              "      <td>...</td>\n",
              "      <td>...</td>\n",
              "      <td>...</td>\n",
              "      <td>...</td>\n",
              "      <td>...</td>\n",
              "      <td>...</td>\n",
              "      <td>...</td>\n",
              "      <td>...</td>\n",
              "      <td>...</td>\n",
              "      <td>...</td>\n",
              "      <td>...</td>\n",
              "      <td>...</td>\n",
              "      <td>...</td>\n",
              "      <td>...</td>\n",
              "      <td>...</td>\n",
              "      <td>...</td>\n",
              "      <td>...</td>\n",
              "    </tr>\n",
              "    <tr>\n",
              "      <th>88</th>\n",
              "      <td>Volkswagen</td>\n",
              "      <td>Eurovan</td>\n",
              "      <td>Van</td>\n",
              "      <td>16.6</td>\n",
              "      <td>19.7</td>\n",
              "      <td>22.7</td>\n",
              "      <td>17.0</td>\n",
              "      <td>21.0</td>\n",
              "      <td>NaN</td>\n",
              "      <td>Front</td>\n",
              "      <td>...</td>\n",
              "      <td>7.0</td>\n",
              "      <td>187.0</td>\n",
              "      <td>115.0</td>\n",
              "      <td>72.0</td>\n",
              "      <td>38.0</td>\n",
              "      <td>34.0</td>\n",
              "      <td>NaN</td>\n",
              "      <td>3960.0</td>\n",
              "      <td>NaN</td>\n",
              "      <td>Volkswagen Eurovan</td>\n",
              "    </tr>\n",
              "    <tr>\n",
              "      <th>89</th>\n",
              "      <td>Volkswagen</td>\n",
              "      <td>Passat</td>\n",
              "      <td>Compact</td>\n",
              "      <td>17.6</td>\n",
              "      <td>20.0</td>\n",
              "      <td>22.4</td>\n",
              "      <td>21.0</td>\n",
              "      <td>30.0</td>\n",
              "      <td>NaN</td>\n",
              "      <td>Front</td>\n",
              "      <td>...</td>\n",
              "      <td>5.0</td>\n",
              "      <td>180.0</td>\n",
              "      <td>103.0</td>\n",
              "      <td>67.0</td>\n",
              "      <td>35.0</td>\n",
              "      <td>31.5</td>\n",
              "      <td>14.0</td>\n",
              "      <td>2985.0</td>\n",
              "      <td>non-USA</td>\n",
              "      <td>Volkswagen Passat</td>\n",
              "    </tr>\n",
              "    <tr>\n",
              "      <th>90</th>\n",
              "      <td>Volkswagen</td>\n",
              "      <td>Corrado</td>\n",
              "      <td>Sporty</td>\n",
              "      <td>22.9</td>\n",
              "      <td>23.3</td>\n",
              "      <td>23.7</td>\n",
              "      <td>18.0</td>\n",
              "      <td>25.0</td>\n",
              "      <td>NaN</td>\n",
              "      <td>Front</td>\n",
              "      <td>...</td>\n",
              "      <td>4.0</td>\n",
              "      <td>159.0</td>\n",
              "      <td>97.0</td>\n",
              "      <td>66.0</td>\n",
              "      <td>36.0</td>\n",
              "      <td>26.0</td>\n",
              "      <td>15.0</td>\n",
              "      <td>2810.0</td>\n",
              "      <td>non-USA</td>\n",
              "      <td>Volkswagen Corrado</td>\n",
              "    </tr>\n",
              "    <tr>\n",
              "      <th>91</th>\n",
              "      <td>Volvo</td>\n",
              "      <td>240</td>\n",
              "      <td>Compact</td>\n",
              "      <td>21.8</td>\n",
              "      <td>22.7</td>\n",
              "      <td>23.5</td>\n",
              "      <td>21.0</td>\n",
              "      <td>28.0</td>\n",
              "      <td>Driver only</td>\n",
              "      <td>Rear</td>\n",
              "      <td>...</td>\n",
              "      <td>5.0</td>\n",
              "      <td>190.0</td>\n",
              "      <td>104.0</td>\n",
              "      <td>67.0</td>\n",
              "      <td>37.0</td>\n",
              "      <td>29.5</td>\n",
              "      <td>14.0</td>\n",
              "      <td>2985.0</td>\n",
              "      <td>non-USA</td>\n",
              "      <td>Volvo 240</td>\n",
              "    </tr>\n",
              "    <tr>\n",
              "      <th>92</th>\n",
              "      <td>NaN</td>\n",
              "      <td>850</td>\n",
              "      <td>Midsize</td>\n",
              "      <td>24.8</td>\n",
              "      <td>26.7</td>\n",
              "      <td>28.5</td>\n",
              "      <td>20.0</td>\n",
              "      <td>28.0</td>\n",
              "      <td>Driver &amp; Passenger</td>\n",
              "      <td>Front</td>\n",
              "      <td>...</td>\n",
              "      <td>5.0</td>\n",
              "      <td>184.0</td>\n",
              "      <td>105.0</td>\n",
              "      <td>69.0</td>\n",
              "      <td>38.0</td>\n",
              "      <td>30.0</td>\n",
              "      <td>15.0</td>\n",
              "      <td>3245.0</td>\n",
              "      <td>non-USA</td>\n",
              "      <td>Volvo 850</td>\n",
              "    </tr>\n",
              "  </tbody>\n",
              "</table>\n",
              "<p>93 rows × 27 columns</p>\n",
              "</div>"
            ],
            "text/plain": [
              "   Manufacturer    Model  CarType  Min.Price  Price  Max.Price  MPG.city  \\\n",
              "0         Acura  Integra    Small       12.9   15.9       18.8      25.0   \n",
              "1           NaN   Legend  Midsize       29.2   33.9       38.7      18.0   \n",
              "2          Audi       90  Compact       25.9   29.1       32.3      20.0   \n",
              "3          Audi      100  Midsize        NaN   37.7       44.6      19.0   \n",
              "4           BMW     535i  Midsize        NaN   30.0        NaN      22.0   \n",
              "..          ...      ...      ...        ...    ...        ...       ...   \n",
              "88   Volkswagen  Eurovan      Van       16.6   19.7       22.7      17.0   \n",
              "89   Volkswagen   Passat  Compact       17.6   20.0       22.4      21.0   \n",
              "90   Volkswagen  Corrado   Sporty       22.9   23.3       23.7      18.0   \n",
              "91        Volvo      240  Compact       21.8   22.7       23.5      21.0   \n",
              "92          NaN      850  Midsize       24.8   26.7       28.5      20.0   \n",
              "\n",
              "    MPG.highway             AirBags DriveTrain  ... Passengers  Length  \\\n",
              "0          31.0                 NaN      Front  ...        5.0   177.0   \n",
              "1          25.0  Driver & Passenger      Front  ...        5.0   195.0   \n",
              "2          26.0         Driver only      Front  ...        5.0   180.0   \n",
              "3          26.0  Driver & Passenger        NaN  ...        6.0   193.0   \n",
              "4          30.0                 NaN       Rear  ...        4.0   186.0   \n",
              "..          ...                 ...        ...  ...        ...     ...   \n",
              "88         21.0                 NaN      Front  ...        7.0   187.0   \n",
              "89         30.0                 NaN      Front  ...        5.0   180.0   \n",
              "90         25.0                 NaN      Front  ...        4.0   159.0   \n",
              "91         28.0         Driver only       Rear  ...        5.0   190.0   \n",
              "92         28.0  Driver & Passenger      Front  ...        5.0   184.0   \n",
              "\n",
              "    Wheelbase  Width  Turn.circle Rear.seat.room  Luggage.room  Weight  \\\n",
              "0       102.0   68.0         37.0           26.5           NaN  2705.0   \n",
              "1       115.0   71.0         38.0           30.0          15.0  3560.0   \n",
              "2       102.0   67.0         37.0           28.0          14.0  3375.0   \n",
              "3       106.0    NaN         37.0           31.0          17.0  3405.0   \n",
              "4       109.0   69.0         39.0           27.0          13.0  3640.0   \n",
              "..        ...    ...          ...            ...           ...     ...   \n",
              "88      115.0   72.0         38.0           34.0           NaN  3960.0   \n",
              "89      103.0   67.0         35.0           31.5          14.0  2985.0   \n",
              "90       97.0   66.0         36.0           26.0          15.0  2810.0   \n",
              "91      104.0   67.0         37.0           29.5          14.0  2985.0   \n",
              "92      105.0   69.0         38.0           30.0          15.0  3245.0   \n",
              "\n",
              "     Origin                Make  \n",
              "0   non-USA       Acura Integra  \n",
              "1   non-USA        Acura Legend  \n",
              "2   non-USA             Audi 90  \n",
              "3   non-USA            Audi 100  \n",
              "4   non-USA            BMW 535i  \n",
              "..      ...                 ...  \n",
              "88      NaN  Volkswagen Eurovan  \n",
              "89  non-USA   Volkswagen Passat  \n",
              "90  non-USA  Volkswagen Corrado  \n",
              "91  non-USA           Volvo 240  \n",
              "92  non-USA           Volvo 850  \n",
              "\n",
              "[93 rows x 27 columns]"
            ]
          },
          "execution_count": 98,
          "metadata": {},
          "output_type": "execute_result"
        }
      ],
      "source": [
        "# 컬럼명 변경\n",
        "Renamed = cars93.rename(columns={'Type':'CarType'})\n",
        "\n",
        "Renamed"
      ]
    },
    {
      "cell_type": "markdown",
      "metadata": {
        "id": "26wKgIIamgBf"
      },
      "source": [
        "### 2.3.5 Renamed의 모든 열의 내용중 '.'을 '_'으로 바꾼뒤 Renamed를 출력하시오. (반복문 외의 다른 방법을 사용하시오)\n",
        "\n",
        "**예시**\n",
        "\n",
        "* Min.Price -> Min_Price\n",
        "* MPG.city -> MPG_city"
      ]
    },
    {
      "cell_type": "code",
      "execution_count": 99,
      "metadata": {
        "id": "enP9rsgSnWt8"
      },
      "outputs": [
        {
          "data": {
            "text/html": [
              "<div>\n",
              "<style scoped>\n",
              "    .dataframe tbody tr th:only-of-type {\n",
              "        vertical-align: middle;\n",
              "    }\n",
              "\n",
              "    .dataframe tbody tr th {\n",
              "        vertical-align: top;\n",
              "    }\n",
              "\n",
              "    .dataframe thead th {\n",
              "        text-align: right;\n",
              "    }\n",
              "</style>\n",
              "<table border=\"1\" class=\"dataframe\">\n",
              "  <thead>\n",
              "    <tr style=\"text-align: right;\">\n",
              "      <th></th>\n",
              "      <th>Manufacturer</th>\n",
              "      <th>Model</th>\n",
              "      <th>CarType</th>\n",
              "      <th>Min_Price</th>\n",
              "      <th>Price</th>\n",
              "      <th>Max_Price</th>\n",
              "      <th>MPG_city</th>\n",
              "      <th>MPG_highway</th>\n",
              "      <th>AirBags</th>\n",
              "      <th>DriveTrain</th>\n",
              "      <th>...</th>\n",
              "      <th>Passengers</th>\n",
              "      <th>Length</th>\n",
              "      <th>Wheelbase</th>\n",
              "      <th>Width</th>\n",
              "      <th>Turn_circle</th>\n",
              "      <th>Rear_seat_room</th>\n",
              "      <th>Luggage_room</th>\n",
              "      <th>Weight</th>\n",
              "      <th>Origin</th>\n",
              "      <th>Make</th>\n",
              "    </tr>\n",
              "  </thead>\n",
              "  <tbody>\n",
              "    <tr>\n",
              "      <th>0</th>\n",
              "      <td>Acura</td>\n",
              "      <td>Integra</td>\n",
              "      <td>Small</td>\n",
              "      <td>12.9</td>\n",
              "      <td>15.9</td>\n",
              "      <td>18.8</td>\n",
              "      <td>25.0</td>\n",
              "      <td>31.0</td>\n",
              "      <td>NaN</td>\n",
              "      <td>Front</td>\n",
              "      <td>...</td>\n",
              "      <td>5.0</td>\n",
              "      <td>177.0</td>\n",
              "      <td>102.0</td>\n",
              "      <td>68.0</td>\n",
              "      <td>37.0</td>\n",
              "      <td>26.5</td>\n",
              "      <td>NaN</td>\n",
              "      <td>2705.0</td>\n",
              "      <td>non-USA</td>\n",
              "      <td>Acura Integra</td>\n",
              "    </tr>\n",
              "    <tr>\n",
              "      <th>1</th>\n",
              "      <td>NaN</td>\n",
              "      <td>Legend</td>\n",
              "      <td>Midsize</td>\n",
              "      <td>29.2</td>\n",
              "      <td>33.9</td>\n",
              "      <td>38.7</td>\n",
              "      <td>18.0</td>\n",
              "      <td>25.0</td>\n",
              "      <td>Driver &amp; Passenger</td>\n",
              "      <td>Front</td>\n",
              "      <td>...</td>\n",
              "      <td>5.0</td>\n",
              "      <td>195.0</td>\n",
              "      <td>115.0</td>\n",
              "      <td>71.0</td>\n",
              "      <td>38.0</td>\n",
              "      <td>30.0</td>\n",
              "      <td>15.0</td>\n",
              "      <td>3560.0</td>\n",
              "      <td>non-USA</td>\n",
              "      <td>Acura Legend</td>\n",
              "    </tr>\n",
              "    <tr>\n",
              "      <th>2</th>\n",
              "      <td>Audi</td>\n",
              "      <td>90</td>\n",
              "      <td>Compact</td>\n",
              "      <td>25.9</td>\n",
              "      <td>29.1</td>\n",
              "      <td>32.3</td>\n",
              "      <td>20.0</td>\n",
              "      <td>26.0</td>\n",
              "      <td>Driver only</td>\n",
              "      <td>Front</td>\n",
              "      <td>...</td>\n",
              "      <td>5.0</td>\n",
              "      <td>180.0</td>\n",
              "      <td>102.0</td>\n",
              "      <td>67.0</td>\n",
              "      <td>37.0</td>\n",
              "      <td>28.0</td>\n",
              "      <td>14.0</td>\n",
              "      <td>3375.0</td>\n",
              "      <td>non-USA</td>\n",
              "      <td>Audi 90</td>\n",
              "    </tr>\n",
              "    <tr>\n",
              "      <th>3</th>\n",
              "      <td>Audi</td>\n",
              "      <td>100</td>\n",
              "      <td>Midsize</td>\n",
              "      <td>NaN</td>\n",
              "      <td>37.7</td>\n",
              "      <td>44.6</td>\n",
              "      <td>19.0</td>\n",
              "      <td>26.0</td>\n",
              "      <td>Driver &amp; Passenger</td>\n",
              "      <td>NaN</td>\n",
              "      <td>...</td>\n",
              "      <td>6.0</td>\n",
              "      <td>193.0</td>\n",
              "      <td>106.0</td>\n",
              "      <td>NaN</td>\n",
              "      <td>37.0</td>\n",
              "      <td>31.0</td>\n",
              "      <td>17.0</td>\n",
              "      <td>3405.0</td>\n",
              "      <td>non-USA</td>\n",
              "      <td>Audi 100</td>\n",
              "    </tr>\n",
              "    <tr>\n",
              "      <th>4</th>\n",
              "      <td>BMW</td>\n",
              "      <td>535i</td>\n",
              "      <td>Midsize</td>\n",
              "      <td>NaN</td>\n",
              "      <td>30.0</td>\n",
              "      <td>NaN</td>\n",
              "      <td>22.0</td>\n",
              "      <td>30.0</td>\n",
              "      <td>NaN</td>\n",
              "      <td>Rear</td>\n",
              "      <td>...</td>\n",
              "      <td>4.0</td>\n",
              "      <td>186.0</td>\n",
              "      <td>109.0</td>\n",
              "      <td>69.0</td>\n",
              "      <td>39.0</td>\n",
              "      <td>27.0</td>\n",
              "      <td>13.0</td>\n",
              "      <td>3640.0</td>\n",
              "      <td>non-USA</td>\n",
              "      <td>BMW 535i</td>\n",
              "    </tr>\n",
              "    <tr>\n",
              "      <th>...</th>\n",
              "      <td>...</td>\n",
              "      <td>...</td>\n",
              "      <td>...</td>\n",
              "      <td>...</td>\n",
              "      <td>...</td>\n",
              "      <td>...</td>\n",
              "      <td>...</td>\n",
              "      <td>...</td>\n",
              "      <td>...</td>\n",
              "      <td>...</td>\n",
              "      <td>...</td>\n",
              "      <td>...</td>\n",
              "      <td>...</td>\n",
              "      <td>...</td>\n",
              "      <td>...</td>\n",
              "      <td>...</td>\n",
              "      <td>...</td>\n",
              "      <td>...</td>\n",
              "      <td>...</td>\n",
              "      <td>...</td>\n",
              "      <td>...</td>\n",
              "    </tr>\n",
              "    <tr>\n",
              "      <th>88</th>\n",
              "      <td>Volkswagen</td>\n",
              "      <td>Eurovan</td>\n",
              "      <td>Van</td>\n",
              "      <td>16.6</td>\n",
              "      <td>19.7</td>\n",
              "      <td>22.7</td>\n",
              "      <td>17.0</td>\n",
              "      <td>21.0</td>\n",
              "      <td>NaN</td>\n",
              "      <td>Front</td>\n",
              "      <td>...</td>\n",
              "      <td>7.0</td>\n",
              "      <td>187.0</td>\n",
              "      <td>115.0</td>\n",
              "      <td>72.0</td>\n",
              "      <td>38.0</td>\n",
              "      <td>34.0</td>\n",
              "      <td>NaN</td>\n",
              "      <td>3960.0</td>\n",
              "      <td>NaN</td>\n",
              "      <td>Volkswagen Eurovan</td>\n",
              "    </tr>\n",
              "    <tr>\n",
              "      <th>89</th>\n",
              "      <td>Volkswagen</td>\n",
              "      <td>Passat</td>\n",
              "      <td>Compact</td>\n",
              "      <td>17.6</td>\n",
              "      <td>20.0</td>\n",
              "      <td>22.4</td>\n",
              "      <td>21.0</td>\n",
              "      <td>30.0</td>\n",
              "      <td>NaN</td>\n",
              "      <td>Front</td>\n",
              "      <td>...</td>\n",
              "      <td>5.0</td>\n",
              "      <td>180.0</td>\n",
              "      <td>103.0</td>\n",
              "      <td>67.0</td>\n",
              "      <td>35.0</td>\n",
              "      <td>31.5</td>\n",
              "      <td>14.0</td>\n",
              "      <td>2985.0</td>\n",
              "      <td>non-USA</td>\n",
              "      <td>Volkswagen Passat</td>\n",
              "    </tr>\n",
              "    <tr>\n",
              "      <th>90</th>\n",
              "      <td>Volkswagen</td>\n",
              "      <td>Corrado</td>\n",
              "      <td>Sporty</td>\n",
              "      <td>22.9</td>\n",
              "      <td>23.3</td>\n",
              "      <td>23.7</td>\n",
              "      <td>18.0</td>\n",
              "      <td>25.0</td>\n",
              "      <td>NaN</td>\n",
              "      <td>Front</td>\n",
              "      <td>...</td>\n",
              "      <td>4.0</td>\n",
              "      <td>159.0</td>\n",
              "      <td>97.0</td>\n",
              "      <td>66.0</td>\n",
              "      <td>36.0</td>\n",
              "      <td>26.0</td>\n",
              "      <td>15.0</td>\n",
              "      <td>2810.0</td>\n",
              "      <td>non-USA</td>\n",
              "      <td>Volkswagen Corrado</td>\n",
              "    </tr>\n",
              "    <tr>\n",
              "      <th>91</th>\n",
              "      <td>Volvo</td>\n",
              "      <td>240</td>\n",
              "      <td>Compact</td>\n",
              "      <td>21.8</td>\n",
              "      <td>22.7</td>\n",
              "      <td>23.5</td>\n",
              "      <td>21.0</td>\n",
              "      <td>28.0</td>\n",
              "      <td>Driver only</td>\n",
              "      <td>Rear</td>\n",
              "      <td>...</td>\n",
              "      <td>5.0</td>\n",
              "      <td>190.0</td>\n",
              "      <td>104.0</td>\n",
              "      <td>67.0</td>\n",
              "      <td>37.0</td>\n",
              "      <td>29.5</td>\n",
              "      <td>14.0</td>\n",
              "      <td>2985.0</td>\n",
              "      <td>non-USA</td>\n",
              "      <td>Volvo 240</td>\n",
              "    </tr>\n",
              "    <tr>\n",
              "      <th>92</th>\n",
              "      <td>NaN</td>\n",
              "      <td>850</td>\n",
              "      <td>Midsize</td>\n",
              "      <td>24.8</td>\n",
              "      <td>26.7</td>\n",
              "      <td>28.5</td>\n",
              "      <td>20.0</td>\n",
              "      <td>28.0</td>\n",
              "      <td>Driver &amp; Passenger</td>\n",
              "      <td>Front</td>\n",
              "      <td>...</td>\n",
              "      <td>5.0</td>\n",
              "      <td>184.0</td>\n",
              "      <td>105.0</td>\n",
              "      <td>69.0</td>\n",
              "      <td>38.0</td>\n",
              "      <td>30.0</td>\n",
              "      <td>15.0</td>\n",
              "      <td>3245.0</td>\n",
              "      <td>non-USA</td>\n",
              "      <td>Volvo 850</td>\n",
              "    </tr>\n",
              "  </tbody>\n",
              "</table>\n",
              "<p>93 rows × 27 columns</p>\n",
              "</div>"
            ],
            "text/plain": [
              "   Manufacturer    Model  CarType  Min_Price  Price  Max_Price  MPG_city  \\\n",
              "0         Acura  Integra    Small       12.9   15.9       18.8      25.0   \n",
              "1           NaN   Legend  Midsize       29.2   33.9       38.7      18.0   \n",
              "2          Audi       90  Compact       25.9   29.1       32.3      20.0   \n",
              "3          Audi      100  Midsize        NaN   37.7       44.6      19.0   \n",
              "4           BMW     535i  Midsize        NaN   30.0        NaN      22.0   \n",
              "..          ...      ...      ...        ...    ...        ...       ...   \n",
              "88   Volkswagen  Eurovan      Van       16.6   19.7       22.7      17.0   \n",
              "89   Volkswagen   Passat  Compact       17.6   20.0       22.4      21.0   \n",
              "90   Volkswagen  Corrado   Sporty       22.9   23.3       23.7      18.0   \n",
              "91        Volvo      240  Compact       21.8   22.7       23.5      21.0   \n",
              "92          NaN      850  Midsize       24.8   26.7       28.5      20.0   \n",
              "\n",
              "    MPG_highway             AirBags DriveTrain  ... Passengers  Length  \\\n",
              "0          31.0                 NaN      Front  ...        5.0   177.0   \n",
              "1          25.0  Driver & Passenger      Front  ...        5.0   195.0   \n",
              "2          26.0         Driver only      Front  ...        5.0   180.0   \n",
              "3          26.0  Driver & Passenger        NaN  ...        6.0   193.0   \n",
              "4          30.0                 NaN       Rear  ...        4.0   186.0   \n",
              "..          ...                 ...        ...  ...        ...     ...   \n",
              "88         21.0                 NaN      Front  ...        7.0   187.0   \n",
              "89         30.0                 NaN      Front  ...        5.0   180.0   \n",
              "90         25.0                 NaN      Front  ...        4.0   159.0   \n",
              "91         28.0         Driver only       Rear  ...        5.0   190.0   \n",
              "92         28.0  Driver & Passenger      Front  ...        5.0   184.0   \n",
              "\n",
              "    Wheelbase  Width  Turn_circle Rear_seat_room  Luggage_room  Weight  \\\n",
              "0       102.0   68.0         37.0           26.5           NaN  2705.0   \n",
              "1       115.0   71.0         38.0           30.0          15.0  3560.0   \n",
              "2       102.0   67.0         37.0           28.0          14.0  3375.0   \n",
              "3       106.0    NaN         37.0           31.0          17.0  3405.0   \n",
              "4       109.0   69.0         39.0           27.0          13.0  3640.0   \n",
              "..        ...    ...          ...            ...           ...     ...   \n",
              "88      115.0   72.0         38.0           34.0           NaN  3960.0   \n",
              "89      103.0   67.0         35.0           31.5          14.0  2985.0   \n",
              "90       97.0   66.0         36.0           26.0          15.0  2810.0   \n",
              "91      104.0   67.0         37.0           29.5          14.0  2985.0   \n",
              "92      105.0   69.0         38.0           30.0          15.0  3245.0   \n",
              "\n",
              "     Origin                Make  \n",
              "0   non-USA       Acura Integra  \n",
              "1   non-USA        Acura Legend  \n",
              "2   non-USA             Audi 90  \n",
              "3   non-USA            Audi 100  \n",
              "4   non-USA            BMW 535i  \n",
              "..      ...                 ...  \n",
              "88      NaN  Volkswagen Eurovan  \n",
              "89  non-USA   Volkswagen Passat  \n",
              "90  non-USA  Volkswagen Corrado  \n",
              "91  non-USA           Volvo 240  \n",
              "92  non-USA           Volvo 850  \n",
              "\n",
              "[93 rows x 27 columns]"
            ]
          },
          "execution_count": 99,
          "metadata": {},
          "output_type": "execute_result"
        }
      ],
      "source": [
        "Renamed = Renamed.rename(columns=lambda x: x.replace('.', '_'))\n",
        "\n",
        "Renamed"
      ]
    },
    {
      "cell_type": "markdown",
      "metadata": {
        "id": "yV_qYcL2nXSL"
      },
      "source": [
        "### 2.3.6 아래 missing_path는 결측치가 데이터로 해당 경로의 csv 파일을 열어 결측치를 확인하고 그 개수를 출력하시오."
      ]
    },
    {
      "cell_type": "code",
      "execution_count": 101,
      "metadata": {
        "id": "NJOCfjLOoJ5X"
      },
      "outputs": [],
      "source": [
        "# 해당 셀을 실행하되 수정하지 마세요.\n",
        "missing_path = 'https://raw.githubusercontent.com/selva86/datasets/master/Cars93_miss.csv'"
      ]
    },
    {
      "cell_type": "code",
      "execution_count": 103,
      "metadata": {
        "id": "i0Nu9efBoQwI"
      },
      "outputs": [
        {
          "data": {
            "text/plain": [
              "Manufacturer           4\n",
              "Model                  1\n",
              "Type                   3\n",
              "Min.Price              7\n",
              "Price                  2\n",
              "Max.Price              5\n",
              "MPG.city               9\n",
              "MPG.highway            2\n",
              "AirBags               38\n",
              "DriveTrain             7\n",
              "Cylinders              5\n",
              "EngineSize             2\n",
              "Horsepower             7\n",
              "RPM                    3\n",
              "Rev.per.mile           6\n",
              "Man.trans.avail        5\n",
              "Fuel.tank.capacity     8\n",
              "Passengers             2\n",
              "Length                 4\n",
              "Wheelbase              1\n",
              "Width                  6\n",
              "Turn.circle            5\n",
              "Rear.seat.room         4\n",
              "Luggage.room          19\n",
              "Weight                 7\n",
              "Origin                 5\n",
              "Make                   3\n",
              "dtype: int64"
            ]
          },
          "execution_count": 103,
          "metadata": {},
          "output_type": "execute_result"
        }
      ],
      "source": [
        "df = pd.read_csv(missing_path)\n",
        "\n",
        "df.isnull().sum()"
      ]
    },
    {
      "cell_type": "markdown",
      "metadata": {
        "id": "wcNYBAomoRIM"
      },
      "source": [
        "### 2.3.7 위의 데이터 중 결측치가 가장 많은 열을 출력하시오."
      ]
    },
    {
      "cell_type": "code",
      "execution_count": 104,
      "metadata": {
        "id": "x9J0CIsEom3I"
      },
      "outputs": [
        {
          "name": "stdout",
          "output_type": "stream",
          "text": [
            "AirBags\n"
          ]
        }
      ],
      "source": [
        "most_missing_column = df.isnull().sum().idxmax()\n",
        "\n",
        "print(most_missing_column)"
      ]
    },
    {
      "cell_type": "markdown",
      "metadata": {
        "id": "mKZbeCLSonXw"
      },
      "source": [
        "### 2.3.8 정수 1부터 20까지로 이루어진 series를 만들고 4x5 크기의 dataframe으로 변형한 뒤 출력하시오. 그리고 해당 dataframe의 2,3번째 열만 출력하시오."
      ]
    },
    {
      "cell_type": "code",
      "execution_count": 109,
      "metadata": {
        "id": "Aau8l9_IpPuc"
      },
      "outputs": [
        {
          "name": "stdout",
          "output_type": "stream",
          "text": [
            "0     2\n",
            "1     7\n",
            "2    12\n",
            "3    17\n",
            "Name: 1, dtype: int64 0     3\n",
            "1     8\n",
            "2    13\n",
            "3    18\n",
            "Name: 2, dtype: int64\n"
          ]
        }
      ],
      "source": [
        "series = pd.Series([1,2,3,4,5,6,7,8,9,10,11,12,13,14,15,16,17,18,19,20])\n",
        "df = pd.DataFrame(series.values.reshape(4,5))\n",
        "print(df[1], df[2])"
      ]
    },
    {
      "cell_type": "code",
      "execution_count": null,
      "metadata": {},
      "outputs": [],
      "source": []
    },
    {
      "cell_type": "markdown",
      "metadata": {
        "id": "ktfWWNlmpNhp"
      },
      "source": [
        "### 2.3.9 문제 2.3.8에서 만든 dataframe의 열을 알파벳 순으로('a','b','c',...) 열 이름을 변경하고 a열과 c열만 출력하시오."
      ]
    },
    {
      "cell_type": "code",
      "execution_count": 114,
      "metadata": {
        "id": "55Mc0AO-p1jZ"
      },
      "outputs": [
        {
          "data": {
            "text/plain": [
              "(0     1\n",
              " 1     6\n",
              " 2    11\n",
              " 3    16\n",
              " Name: a, dtype: int64,\n",
              " 0     3\n",
              " 1     8\n",
              " 2    13\n",
              " 3    18\n",
              " Name: c, dtype: int64)"
            ]
          },
          "execution_count": 114,
          "metadata": {},
          "output_type": "execute_result"
        }
      ],
      "source": [
        "df = df.rename(columns={0:'a', 1:'b', 2:'c', 3:'d', 4:'e'})\n",
        "\n",
        "df['a'], df['c']"
      ]
    },
    {
      "cell_type": "markdown",
      "metadata": {
        "id": "e60H7kj2lYU1"
      },
      "source": [
        "# 3. Matplotlib"
      ]
    },
    {
      "cell_type": "markdown",
      "metadata": {
        "id": "R2FtupgVqK4W"
      },
      "source": [
        "## 3.1 Matplotlib 알아보기"
      ]
    },
    {
      "cell_type": "markdown",
      "metadata": {
        "id": "4UXv03CrqX9I"
      },
      "source": [
        "###3.1.1 matplotlib의 pyplot libraby에 대한 간단한 설명을 적어주세요."
      ]
    },
    {
      "cell_type": "markdown",
      "metadata": {
        "id": "A7eRXeWrqXcT"
      },
      "source": [
        "matplotlib은 파이썬에서 데이터 시각화를 위한 라이브러리이다."
      ]
    },
    {
      "cell_type": "markdown",
      "metadata": {
        "id": "yc7uMExiqHFA"
      },
      "source": [
        "### 3.1.2 본인의 matplotlib.pyplot의 version을 출력하시오."
      ]
    },
    {
      "cell_type": "code",
      "execution_count": 118,
      "metadata": {
        "id": "uwyuyZ62mdpB"
      },
      "outputs": [
        {
          "name": "stdout",
          "output_type": "stream",
          "text": [
            "3.9.1\n"
          ]
        }
      ],
      "source": [
        "import matplotlib\n",
        "\n",
        "print(matplotlib.__version__)"
      ]
    },
    {
      "cell_type": "markdown",
      "metadata": {
        "id": "sOctvUCKoFYu"
      },
      "source": [
        "## 3.2"
      ]
    },
    {
      "cell_type": "markdown",
      "metadata": {
        "id": "sa158IqHmeUJ"
      },
      "source": [
        "### 3.2.1 아래의 조건에 맞추어 주어진 데이터 X,Y의 값에 대한 꺽은선 그래프를 그리시오.\n",
        "\n",
        "1. x,y축의 이름을 붙이시오.\n",
        "2. 그래프의 제목은 'Line'이라고 붙이시오.\n",
        "3. 그래프의 선 색을 빨간색으로 하시오.\n",
        "4. x축의 눈금은 5단위로 표시하시오."
      ]
    },
    {
      "cell_type": "code",
      "execution_count": 119,
      "metadata": {
        "id": "XUAtW4R0m4x_"
      },
      "outputs": [],
      "source": [
        "# 해당 셀을 실행하되 수정하지 마시오.\n",
        "X = range(1, 50)\n",
        "Y = [value * 3 for value in X]"
      ]
    },
    {
      "cell_type": "code",
      "execution_count": 122,
      "metadata": {
        "id": "-AjfqGQ4m7L3"
      },
      "outputs": [
        {
          "data": {
            "image/png": "[encoded data removed]",
            "text/plain": [
              "<Figure size 640x480 with 1 Axes>"
            ]
          },
          "metadata": {},
          "output_type": "display_data"
        }
      ],
      "source": [
        "#그래프생성\n",
        "plt.plot(X,Y,color='red',linestyle='-',marker='o')\n",
        "\n",
        "#그래프 정보 설정\n",
        "plt.xlim(1, 50) #x축 범위\n",
        "plt.ylim(1, 160) #y축 범위\n",
        "plt.xticks(range(0, 51, 5)) # x축 눈금 5단위로 설정\n",
        "plt.xlabel('X') #x 라벨\n",
        "plt.ylabel('Y') #y 라벨\n",
        "plt.title(\"Line\") #그래프 이름\n",
        "\n",
        "#그래프 출력\n",
        "plt.show()"
      ]
    },
    {
      "cell_type": "markdown",
      "metadata": {
        "id": "AQhGUHMMoC52"
      },
      "source": [
        "### 3.2.2 아래의 조건에 맞추어 주어진 데이터에 대한 꺽은선 그래프를 그리시오.\n",
        "\n",
        "1. 첫 번째 그래프의 선 색은 빨강, 두 번째 선 색은 초록으로 하시오.\n",
        "2. 그래프의 제목은 'Two Lines'로 하시오.\n",
        "3. 선의 굵기를 4로 통일하시오.\n",
        "4. 각 선의 색에 따라 빨강 색은 'line1', 파랑 색은 'line2'임을 나타내는 표시를 그래프에 넣으시오.\n",
        "5. 첫 번째 그래프의 점은 삼각형, 두 번째 그래프의 점은 원형으로 그리시오."
      ]
    },
    {
      "cell_type": "code",
      "execution_count": 123,
      "metadata": {
        "id": "4rBJyK3-oW8A"
      },
      "outputs": [],
      "source": [
        "# 해당 셀의 내용을 수정하지 마시오.\n",
        "# line 1 points\n",
        "x1 = [10,20,30]\n",
        "y1 = [20,40,10]\n",
        "\n",
        "# line 2 points\n",
        "x2 = [10,20,30]\n",
        "y2 = [40,10,30]"
      ]
    },
    {
      "cell_type": "code",
      "execution_count": 125,
      "metadata": {
        "id": "8Fp0uM5aofYG"
      },
      "outputs": [
        {
          "data": {
            "image/png": "[encoded data removed]",
            "text/plain": [
              "<Figure size 640x480 with 1 Axes>"
            ]
          },
          "metadata": {},
          "output_type": "display_data"
        }
      ],
      "source": [
        "#그래프생성\n",
        "plt.plot(x1, y1, color='red', linestyle='-', marker='^', label='line 1')\n",
        "plt.plot(x2, y2, color='blue', linestyle='-', marker='o', label='line 2')\n",
        "plt.legend()\n",
        "\n",
        "#그래프 정보 설정\n",
        "plt.xlim(10, 30) #x축 범위\n",
        "plt.ylim(10, 40) #y축 범위\n",
        "plt.xlabel('X') #x 라벨\n",
        "plt.ylabel('Y') #y 라벨\n",
        "plt.title(\"Two Lines\") #그래프 이름\n",
        "\n",
        "#그래프 출력\n",
        "plt.show()"
      ]
    },
    {
      "cell_type": "markdown",
      "metadata": {
        "id": "fZabRSyfpLY9"
      },
      "source": [
        "### 3.2.3 주어진 데이터에서 x는 프로그래밍 언어, popularity는 프로그래밍의 선호도이다. 프로그래밍 언어에 따른 선호도에 대한 막대그래프를 아래 조건에 맞추어 그리시오.\n",
        "\n",
        "1. X축의 이름은 'Programming Language'로 하시오.\n",
        "2. Y축의 이름은 'Popularity'로 하시오.\n",
        "3. 격자 무늬를 넣으시오.\n",
        "4. 그래프의 제목은 'Popularity of programming language'로 하시오.\n",
        "5. X축의 눈금을 표시하시오.\n",
        "6. 막대그래프는 중간맞춤으로 그리시오."
      ]
    },
    {
      "cell_type": "code",
      "execution_count": 126,
      "metadata": {
        "id": "2OC0AVntpiqq"
      },
      "outputs": [],
      "source": [
        "# 해당 셀을 실행하되 수정하지 마시오.\n",
        "x = ['Java', 'Python', 'PHP', 'JavaScript', 'C#', 'C++']\n",
        "popularity = [22.2, 17.6, 8.8, 8, 7.7, 6.7]"
      ]
    },
    {
      "cell_type": "code",
      "execution_count": 130,
      "metadata": {
        "id": "_m5Unnlguswl"
      },
      "outputs": [
        {
          "data": {
            "image/png": "[encoded data removed]",
            "text/plain": [
              "<Figure size 1000x500 with 1 Axes>"
            ]
          },
          "metadata": {},
          "output_type": "display_data"
        }
      ],
      "source": [
        "#그래프생성\n",
        "plt.figure(figsize = (10, 5))\n",
        "plt.bar(x, popularity)\n",
        "\n",
        "#그래프 정보 설정\n",
        "plt.xlabel('Programming Language') #x 라벨\n",
        "plt.ylabel('Popularity') #y 라벨\n",
        "plt.title(\"Popularity of programming language\") #그래프 이름\n",
        "plt.xticks(ticks=range(len(x)), labels=x, ha='center')\n",
        "plt.grid(True) #격자 표시\n",
        "\n",
        "#그래프 출력\n",
        "plt.show()"
      ]
    },
    {
      "cell_type": "markdown",
      "metadata": {
        "id": "zInWl631r9F5"
      },
      "source": [
        "### 3.2.4 아래 조건에 맞추어 주어진 두 데이터에 대한 꺽은선 그래프 두 개를 한 번에 그리시오.\n",
        "\n",
        "1. data1의 그래프는 왼쪽에 data2의 그래프는 오른쪽에 그리시오.\n",
        "2. data1의 그래프는 실선, data2의 그래프는 점선으로 그리시오.\n",
        "3. 각각의 그래프의 최댓값에 화살표 표시를 넣고 'maximum'임을 표시하시오.\n",
        "4. 각 그래프 별로 'data1', 'data2'라는 제목을 붙이시오.\n"
      ]
    },
    {
      "cell_type": "code",
      "execution_count": 132,
      "metadata": {
        "id": "zJ0UQcjfusHy"
      },
      "outputs": [],
      "source": [
        "# 해당 셀을 실행하되 수정하지 마시오.\n",
        "# data1\n",
        "x1 = [i for i in range(10)] # [0, 1, 2,...,9]\n",
        "y1 = [i*i+3 for i in x1] # [3,4,7,12,19,28,39,52,67,84]\n",
        "\n",
        "# data2\n",
        "x2 = [i for i in range(-5,6)] # [-5, -4, -3,...,5]\n",
        "y2 = [(-1)*i*i+25 for i in x2] # [0,9,16,21,24,25,24,21,16,9,0]"
      ]
    },
    {
      "cell_type": "code",
      "execution_count": 138,
      "metadata": {
        "id": "BtfbYSIbvwC4"
      },
      "outputs": [
        {
          "data": {
            "image/png": "[encoded data removed]",
            "text/plain": [
              "<Figure size 1200x600 with 2 Axes>"
            ]
          },
          "metadata": {},
          "output_type": "display_data"
        }
      ],
      "source": [
        "fig, (ax1, ax2) = plt.subplots(1, 2, figsize=(12, 6)) # 1행 2열로 그래프 생성\n",
        "\n",
        "ax1.plot(x1, y1, linestyle='-', marker='o', color='blue') # linestyle이 -이므로 선 그래프\n",
        "ax1.set_title('data1')\n",
        "# annotate를 이용하여 최대값에 화살표 표시\n",
        "ax1.annotate('maximum', xy=(x1[y1.index(max(y1))], max(y1)), xytext=(x1[y1.index(max(y1))], max(y1)+10), # xy는 화살표의 위치, xytext는 텍스트의 위치 설정\n",
        "       arrowprops=dict(facecolor='black', shrink=0.05)) # arrowprops를 이용하여 화살표의 색상, 크기, 모양 설정\n",
        "\n",
        "ax2.plot(x2, y2, linestyle='--', marker='o', color='red') # linestyle이 --이므로 점선 그래프\n",
        "ax2.set_title('data2')\n",
        "ax2.annotate('maximum', xy=(x2[y2.index(max(y2))], max(y2)), xytext=(x2[y2.index(max(y2))], max(y2)+10),\n",
        "       arrowprops=dict(facecolor='black', shrink=0.05))\n",
        "\n",
        "plt.show()"
      ]
    }
  ],
  "metadata": {
    "colab": {
      "provenance": [],
      "toc_visible": true
    },
    "kernelspec": {
      "display_name": "Python 3",
      "name": "python3"
    },
    "language_info": {
      "codemirror_mode": {
        "name": "ipython",
        "version": 3
      },
      "file_extension": ".py",
      "mimetype": "text/x-python",
      "name": "python",
      "nbconvert_exporter": "python",
      "pygments_lexer": "ipython3",
      "version": "3.12.0"
    }
  },
  "nbformat": 4,
  "nbformat_minor": 0
}
