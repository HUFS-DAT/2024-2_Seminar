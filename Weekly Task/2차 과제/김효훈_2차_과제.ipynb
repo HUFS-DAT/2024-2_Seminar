{
 "cells": [
  {
   "cell_type": "markdown",
   "metadata": {
    "id": "fTTwiBy0h0cy"
   },
   "source": [
    "# 0. Importing Modules"
   ]
  },
  {
   "cell_type": "markdown",
   "metadata": {
    "id": "bpLCYHx1h5GD"
   },
   "source": [
    "코드의 기본은 해당 코드를 작성할 때 필요한 module들을 가져오는 것부터 시작됩니다."
   ]
  },
  {
   "cell_type": "code",
   "execution_count": 12,
   "metadata": {
    "id": "nl5GVtbYiDJe"
   },
   "outputs": [],
   "source": [
    "# 과제를 시작하기 전 이 셀을 무조건 실행하세요.\n",
    "import pandas as pd\n",
    "import numpy as np\n",
    "import matplotlib.pyplot as plt\n",
    "import datetime as dt\n",
    "import matplotlib.dates as mdates\n",
    "\n",
    "# 아래에 필요한 것들을 추가로 작성해주세요."
   ]
  },
  {
   "cell_type": "markdown",
   "metadata": {
    "id": "QznyryyEhs0I"
   },
   "source": [
    "# 1.Numpy"
   ]
  },
  {
   "cell_type": "markdown",
   "metadata": {
    "id": "nWzUmN4Bhvtr"
   },
   "source": [
    "## 1.1 Numpy 알아보기"
   ]
  },
  {
   "cell_type": "markdown",
   "metadata": {
    "id": "fgL8h1jSi2Bj"
   },
   "source": [
    "### 1.1.1 numpy에 대한 간단한 설명을 적어주세요."
   ]
  },
  {
   "cell_type": "code",
   "execution_count": 2,
   "metadata": {
    "id": "y2FZEMQzi8pr"
   },
   "outputs": [],
   "source": [
    "# 다차원 배열로, 배열간 계산이 필요할 때 혹은 복잡한 배열을 구성해야 할 때 사용한다."
   ]
  },
  {
   "cell_type": "markdown",
   "metadata": {
    "id": "ZCEMeFZyiwKw"
   },
   "source": [
    "### 1.1.2 본인의 numpy version을 출력해주세요"
   ]
  },
  {
   "cell_type": "code",
   "execution_count": null,
   "metadata": {
    "id": "2UOkCiUdg9EQ"
   },
   "outputs": [],
   "source": []
  },
  {
   "cell_type": "markdown",
   "metadata": {
    "id": "Gu48TLh0jJU0"
   },
   "source": [
    "##1.2 numpy array\n",
    "* 1.2의 문제들은 모두 코드 한 줄로 적어야 합니다.\n",
    "* '#이곳에 작성'을 지우고 코드를 적어주세요."
   ]
  },
  {
   "cell_type": "markdown",
   "metadata": {
    "id": "MzIW4_JGjbM-"
   },
   "source": [
    "###1.2.1 숫자 0부터 9까지 숫자로 이루어진 numpy array를 하나 만드시오."
   ]
  },
  {
   "cell_type": "code",
   "execution_count": 3,
   "metadata": {
    "id": "ceneOKE5i_0Z"
   },
   "outputs": [
    {
     "name": "stdout",
     "output_type": "stream",
     "text": [
      "[0 1 2 3 4 5 6 7 8 9]\n"
     ]
    }
   ],
   "source": [
    "arr = np.array([0,1,2,3,4,5,6,7,8,9])\n",
    "print(arr)"
   ]
  },
  {
   "cell_type": "markdown",
   "metadata": {
    "id": "z-D_BIbjkOdB"
   },
   "source": [
    "###1.2.2 위의 문제에서 만든 arr의 요소 중 홀수인 수를 모두 10으로 변경하시오."
   ]
  },
  {
   "cell_type": "code",
   "execution_count": 4,
   "metadata": {
    "id": "VN4leFfZkkHw"
   },
   "outputs": [
    {
     "name": "stdout",
     "output_type": "stream",
     "text": [
      "[ 0 10  2 10  4 10  6 10  8 10]\n"
     ]
    }
   ],
   "source": [
    "no_odd = np.where(arr % 2 == 1, 10, arr)\n",
    "print(no_odd)"
   ]
  },
  {
   "cell_type": "markdown",
   "metadata": {
    "id": "41TP4Ym1lC13"
   },
   "source": [
    "###1.2.3 위의 문제에서 만든 arr는 1차원 배열입니다. 이 배열을 2차원 배열로 변경하시오.\n",
    "array([0,1,2,3,4,5,6,7,8,9]) -> array([[0,1,2,3,4],[5,6,7,8,9]])"
   ]
  },
  {
   "cell_type": "code",
   "execution_count": 5,
   "metadata": {
    "id": "02SCthcAlOsy"
   },
   "outputs": [
    {
     "name": "stdout",
     "output_type": "stream",
     "text": [
      "[[0 1 2 3 4]\n",
      " [5 6 7 8 9]]\n"
     ]
    }
   ],
   "source": [
    "arr_2d = arr.reshape(2,5)\n",
    "print(arr_2d)"
   ]
  },
  {
   "cell_type": "markdown",
   "metadata": {
    "id": "woxgg4M3j1S1"
   },
   "source": [
    "###1.2.4 True로 이루어진 3x3 numpy array를 만드시오."
   ]
  },
  {
   "cell_type": "code",
   "execution_count": 6,
   "metadata": {
    "id": "zs5KGgm7j-xS"
   },
   "outputs": [
    {
     "name": "stdout",
     "output_type": "stream",
     "text": [
      "[['True' 'True' 'True']\n",
      " ['True' 'True' 'True']\n",
      " ['True' 'True' 'True']]\n"
     ]
    }
   ],
   "source": [
    "true_mat = np.array([['True','True','True'],['True','True','True'],['True','True','True']])\n",
    "print(true_mat)"
   ]
  },
  {
   "cell_type": "markdown",
   "metadata": {
    "id": "W9ytRnhhmmzX"
   },
   "source": [
    "###1.2.5 숫자 0부터 8까지로 이루어진 3x3 numpy array를 만드시오."
   ]
  },
  {
   "cell_type": "code",
   "execution_count": 7,
   "metadata": {
    "id": "8x1DZQjYm7GR"
   },
   "outputs": [
    {
     "name": "stdout",
     "output_type": "stream",
     "text": [
      "[[0 1 2]\n",
      " [3 4 5]\n",
      " [6 7 8]]\n"
     ]
    }
   ],
   "source": [
    "mat = np.array([[0,1,2], [3,4,5], [6,7,8]])\n",
    "print(mat)"
   ]
  },
  {
   "cell_type": "markdown",
   "metadata": {
    "id": "-Mi_2yCNn0AA"
   },
   "source": [
    "###1.2.6 숫자 5부터 10까지의 난수로 이루어진 array를 만드시오."
   ]
  },
  {
   "cell_type": "code",
   "execution_count": 282,
   "metadata": {
    "id": "rQ9SKYmgoNID"
   },
   "outputs": [
    {
     "name": "stdout",
     "output_type": "stream",
     "text": [
      "[[ 6  9  8]\n",
      " [ 5 10  9]]\n"
     ]
    }
   ],
   "source": [
    "rand_arr = np.random.randint(5,11,(2,3))\n",
    "print(rand_arr)"
   ]
  },
  {
   "cell_type": "markdown",
   "metadata": {
    "id": "yjJQzG2bnFMA"
   },
   "source": [
    "###1.2.7 위의 1.2.5번 문제에서 만든 mat의 모든 행들을 역으로 작성하세요.\n",
    "array([0,1,2],[3,4,5],[6,7,8]]) -> array([2,1,0],[5,4,3],[8,7,6]])"
   ]
  },
  {
   "cell_type": "code",
   "execution_count": null,
   "metadata": {
    "id": "AO1H_YbWwVmX"
   },
   "outputs": [],
   "source": [
    "reverse_mat = np.flip(mat)\n",
    "print(reverse_mat)"
   ]
  },
  {
   "cell_type": "markdown",
   "metadata": {
    "id": "LmryYJz3mDMR"
   },
   "source": [
    "## 1.3 numpy를 이용한 data 처리"
   ]
  },
  {
   "cell_type": "markdown",
   "metadata": {
    "id": "hfC_DiJ-nuzZ"
   },
   "source": [
    "###1.3.1 iris_1d는 꽃잎 길이와 종에 대한 data입니다. 해당 데이터의 앞에서 10개의 data만 출력하시오.\n",
    "* iris_1d 변수의 내용을 변경하지 마시오."
   ]
  },
  {
   "cell_type": "code",
   "execution_count": 296,
   "metadata": {
    "id": "weTAz59uqUjY"
   },
   "outputs": [
    {
     "data": {
      "text/plain": [
       "array([(6.3, 2.3, 4.4, 1.3, 'Iris-versicolor'),\n",
       "       (6.4, 2.7, 5.3, 1.9, 'Iris-virginica'),\n",
       "       (5.4, 3.7, 1.5, 0.2, 'Iris-setosa'),\n",
       "       (6.1, 3. , 4.6, 1.4, 'Iris-versicolor'),\n",
       "       (5. , 3.3, 1.4, 0.2, 'Iris-setosa'),\n",
       "       (5. , 2. , 3.5, 1. , 'Iris-versicolor'),\n",
       "       (6.3, 2.5, 4.9, 1.5, 'Iris-versicolor'),\n",
       "       (5.8, 2.7, 4.1, 1. , 'Iris-versicolor'),\n",
       "       (5.1, 3.4, 1.5, 0.2, 'Iris-setosa'),\n",
       "       (5.7, 2.8, 4.5, 1.3, 'Iris-versicolor'),\n",
       "       (5.6, 3. , 4.5, 1.5, 'Iris-versicolor'),\n",
       "       (5.8, 2.7, 5.1, 1.9, 'Iris-virginica'),\n",
       "       (5.5, 2.3, 4. , 1.3, 'Iris-versicolor'),\n",
       "       (4.9, 3. , 1.4, 0.2, 'Iris-setosa'),\n",
       "       (5.1, 3.8, 1.5, 0.3, 'Iris-setosa'),\n",
       "       (6.8, 3. , 5.5, 2.1, 'Iris-virginica'),\n",
       "       (6. , 3.4, 4.5, 1.6, 'Iris-versicolor'),\n",
       "       (4.4, 3. , 1.3, 0.2, 'Iris-setosa'),\n",
       "       (5.1, 3.7, 1.5, 0.4, 'Iris-setosa'),\n",
       "       (5. , 3.2, 1.2, 0.2, 'Iris-setosa'),\n",
       "       (7.1, 3. , 5.9, 2.1, 'Iris-virginica'),\n",
       "       (6.4, 2.8, 5.6, 2.2, 'Iris-virginica'),\n",
       "       (6.2, 2.8, 4.8, 1.8, 'Iris-virginica'),\n",
       "       (4.8, 3.4, 1.9, 0.2, 'Iris-setosa'),\n",
       "       (5.9, 3. , 4.2, 1.5, 'Iris-versicolor'),\n",
       "       (4.7, 3.2, 1.3, 0.2, 'Iris-setosa'),\n",
       "       (5.7, 3. , 4.2, 1.2, 'Iris-versicolor'),\n",
       "       (5.5, 2.6, 4.4, 1.2, 'Iris-versicolor'),\n",
       "       (6.8, 2.8, 4.8, 1.4, 'Iris-versicolor'),\n",
       "       (7.7, 3.8, 6.7, 2.2, 'Iris-virginica'),\n",
       "       (6.6, 2.9, 4.6, 1.3, 'Iris-versicolor'),\n",
       "       (6.2, 2.9, 4.3, 1.3, 'Iris-versicolor'),\n",
       "       (7.2, 3. , 5.8, 1.6, 'Iris-virginica'),\n",
       "       (5.8, 2.8, 5.1, 2.4, 'Iris-virginica'),\n",
       "       (6.3, 2.5, 5. , 1.9, 'Iris-virginica'),\n",
       "       (4.6, 3.2, 1.4, 0.2, 'Iris-setosa'),\n",
       "       (6.7, 3.3, 5.7, 2.1, 'Iris-virginica'),\n",
       "       (6.9, 3.2, 5.7, 2.3, 'Iris-virginica'),\n",
       "       (7.7, 2.6, 6.9, 2.3, 'Iris-virginica'),\n",
       "       (6.9, 3.1, 5.1, 2.3, 'Iris-virginica'),\n",
       "       (5. , 3.4, 1.6, 0.4, 'Iris-setosa'),\n",
       "       (5. , 3.5, 1.6, 0.6, 'Iris-setosa'),\n",
       "       (5.2, 2.7, 3.9, 1.4, 'Iris-versicolor'),\n",
       "       (4.5, 2.3, 1.3, 0.3, 'Iris-setosa'),\n",
       "       (6.3, 3.3, 4.7, 1.6, 'Iris-versicolor'),\n",
       "       (5.2, 4.1, 1.5, 0.1, 'Iris-setosa'),\n",
       "       (6.9, 3.1, 4.9, 1.5, 'Iris-versicolor'),\n",
       "       (5.9, 3.2, 4.8, 1.8, 'Iris-versicolor'),\n",
       "       (5.6, 2.8, 4.9, 2. , 'Iris-virginica'),\n",
       "       (6.7, 3.3, 5.7, 2.5, 'Iris-virginica'),\n",
       "       (6.2, 2.2, 4.5, 1.5, 'Iris-versicolor'),\n",
       "       (7.2, 3.6, 6.1, 2.5, 'Iris-virginica'),\n",
       "       (5.5, 2.4, 3.7, 1. , 'Iris-versicolor'),\n",
       "       (6. , 2.9, 4.5, 1.5, 'Iris-versicolor'),\n",
       "       (6.4, 3.2, 4.5, 1.5, 'Iris-versicolor'),\n",
       "       (5.8, 4. , 1.2, 0.2, 'Iris-setosa'),\n",
       "       (5.3, 3.7, 1.5, 0.2, 'Iris-setosa'),\n",
       "       (6.1, 2.9, 4.7, 1.4, 'Iris-versicolor'),\n",
       "       (5.4, 3.4, 1.7, 0.2, 'Iris-setosa'),\n",
       "       (6.4, 3.1, 5.5, 1.8, 'Iris-virginica'),\n",
       "       (4.7, 3.2, 1.6, 0.2, 'Iris-setosa'),\n",
       "       (4.6, 3.1, 1.5, 0.2, 'Iris-setosa'),\n",
       "       (4.9, 2.5, 4.5, 1.7, 'Iris-virginica'),\n",
       "       (5.1, 2.5, 3. , 1.1, 'Iris-versicolor'),\n",
       "       (6.7, 3.1, 5.6, 2.4, 'Iris-virginica'),\n",
       "       (4.9, 3.1, 1.5, 0.1, 'Iris-setosa'),\n",
       "       (6.9, 3.1, 5.4, 2.1, 'Iris-virginica'),\n",
       "       (4.8, 3. , 1.4, 0.3, 'Iris-setosa'),\n",
       "       (5.8, 2.7, 3.9, 1.2, 'Iris-versicolor'),\n",
       "       (6. , 2.7, 5.1, 1.6, 'Iris-versicolor'),\n",
       "       (4.4, 3.2, 1.3, 0.2, 'Iris-setosa'),\n",
       "       (6.8, 3.2, 5.9, 2.3, 'Iris-virginica'),\n",
       "       (7.9, 3.8, 6.4, 2. , 'Iris-virginica'),\n",
       "       (6.5, 3. , 5.5, 1.8, 'Iris-virginica'),\n",
       "       (7.6, 3. , 6.6, 2.1, 'Iris-virginica'),\n",
       "       (6.3, 2.8, 5.1, 1.5, 'Iris-virginica'),\n",
       "       (4.6, 3.4, 1.4, 0.3, 'Iris-setosa'),\n",
       "       (5.7, 2.6, 3.5, 1. , 'Iris-versicolor'),\n",
       "       (6.7, 2.5, 5.8, 1.8, 'Iris-virginica'),\n",
       "       (5.7, 2.8, 4.1, 1.3, 'Iris-versicolor'),\n",
       "       (4.9, 3.1, 1.5, 0.1, 'Iris-setosa'),\n",
       "       (6.4, 2.8, 5.6, 2.1, 'Iris-virginica'),\n",
       "       (7. , 3.2, 4.7, 1.4, 'Iris-versicolor'),\n",
       "       (5.7, 2.9, 4.2, 1.3, 'Iris-versicolor'),\n",
       "       (5. , 3.6, 1.4, 0.2, 'Iris-setosa'),\n",
       "       (5.4, 3.9, 1.7, 0.4, 'Iris-setosa'),\n",
       "       (5.1, 3.8, 1.9, 0.4, 'Iris-setosa'),\n",
       "       (5.4, 3. , 4.5, 1.5, 'Iris-versicolor'),\n",
       "       (7.4, 2.8, 6.1, 1.9, 'Iris-virginica'),\n",
       "       (6.3, 2.9, 5.6, 1.8, 'Iris-virginica'),\n",
       "       (6.6, 3. , 4.4, 1.4, 'Iris-versicolor'),\n",
       "       (5. , 3.4, 1.5, 0.2, 'Iris-setosa'),\n",
       "       (5.1, 3.8, 1.6, 0.2, 'Iris-setosa'),\n",
       "       (5.1, 3.5, 1.4, 0.3, 'Iris-setosa'),\n",
       "       (6.5, 3. , 5.8, 2.2, 'Iris-virginica'),\n",
       "       (5.8, 2.7, 5.1, 1.9, 'Iris-virginica'),\n",
       "       (6.1, 2.8, 4. , 1.3, 'Iris-versicolor'),\n",
       "       (5.5, 2.4, 3.8, 1.1, 'Iris-versicolor'),\n",
       "       (6.5, 3.2, 5.1, 2. , 'Iris-virginica'),\n",
       "       (6.5, 3. , 5.2, 2. , 'Iris-virginica'),\n",
       "       (5.9, 3. , 5.1, 1.8, 'Iris-virginica'),\n",
       "       (6.1, 2.6, 5.6, 1.4, 'Iris-virginica'),\n",
       "       (6.4, 2.9, 4.3, 1.3, 'Iris-versicolor'),\n",
       "       (5.2, 3.4, 1.4, 0.2, 'Iris-setosa'),\n",
       "       (4.8, 3.4, 1.6, 0.2, 'Iris-setosa'),\n",
       "       (5.6, 2.7, 4.2, 1.3, 'Iris-versicolor'),\n",
       "       (5.1, 3.3, 1.7, 0.5, 'Iris-setosa'),\n",
       "       (4.6, 3.6, 1. , 0.2, 'Iris-setosa'),\n",
       "       (6.1, 3. , 4.9, 1.8, 'Iris-virginica'),\n",
       "       (5. , 2.3, 3.3, 1. , 'Iris-versicolor'),\n",
       "       (5.7, 3.8, 1.7, 0.3, 'Iris-setosa'),\n",
       "       (5.2, 3.5, 1.5, 0.2, 'Iris-setosa'),\n",
       "       (5.5, 3.5, 1.3, 0.2, 'Iris-setosa'),\n",
       "       (4.9, 2.4, 3.3, 1. , 'Iris-versicolor'),\n",
       "       (5.4, 3.4, 1.5, 0.4, 'Iris-setosa'),\n",
       "       (6.7, 3.1, 4.4, 1.4, 'Iris-versicolor'),\n",
       "       (4.8, 3. , 1.4, 0.1, 'Iris-setosa'),\n",
       "       (5.5, 2.5, 4. , 1.3, 'Iris-versicolor'),\n",
       "       (6. , 2.2, 5. , 1.5, 'Iris-virginica'),\n",
       "       (4.8, 3.1, 1.6, 0.2, 'Iris-setosa'),\n",
       "       (6.7, 3.1, 4.7, 1.5, 'Iris-versicolor'),\n",
       "       (5.8, 2.6, 4. , 1.2, 'Iris-versicolor'),\n",
       "       (6.2, 3.4, 5.4, 2.3, 'Iris-virginica'),\n",
       "       (5. , 3. , 1.6, 0.2, 'Iris-setosa'),\n",
       "       (6. , 3. , 4.8, 1.8, 'Iris-virginica'),\n",
       "       (4.3, 3. , 1.1, 0.1, 'Iris-setosa'),\n",
       "       (5.6, 2.5, 3.9, 1.1, 'Iris-versicolor'),\n",
       "       (6.7, 3. , 5. , 1.7, 'Iris-versicolor'),\n",
       "       (7.7, 3. , 6.1, 2.3, 'Iris-virginica'),\n",
       "       (6.3, 3.4, 5.6, 2.4, 'Iris-virginica'),\n",
       "       (5.5, 4.2, 1.4, 0.2, 'Iris-setosa'),\n",
       "       (6. , 2.2, 4. , 1. , 'Iris-versicolor'),\n",
       "       (7.7, 2.8, 6.7, 2. , 'Iris-virginica'),\n",
       "       (7.3, 2.9, 6.3, 1.8, 'Iris-virginica'),\n",
       "       (5.6, 3. , 4.1, 1.3, 'Iris-versicolor'),\n",
       "       (6.5, 2.8, 4.6, 1.5, 'Iris-versicolor'),\n",
       "       (6.3, 3.3, 6. , 2.5, 'Iris-virginica'),\n",
       "       (5.4, 3.9, 1.3, 0.4, 'Iris-setosa'),\n",
       "       (6.4, 3.2, 5.3, 2.3, 'Iris-virginica'),\n",
       "       (5. , 3.5, 1.3, 0.3, 'Iris-setosa'),\n",
       "       (5.1, 3.5, 1.4, 0.2, 'Iris-setosa'),\n",
       "       (6.1, 2.8, 4.7, 1.2, 'Iris-versicolor'),\n",
       "       (4.4, 2.9, 1.4, 0.2, 'Iris-setosa'),\n",
       "       (6.7, 3. , 5.2, 2.3, 'Iris-virginica'),\n",
       "       (6.3, 2.7, 4.9, 1.8, 'Iris-virginica'),\n",
       "       (5.7, 2.5, 5. , 2. , 'Iris-virginica'),\n",
       "       (5.6, 2.9, 3.6, 1.3, 'Iris-versicolor'),\n",
       "       (5.7, 4.4, 1.5, 0.4, 'Iris-setosa'),\n",
       "       (7.2, 3.2, 6. , 1.8, 'Iris-virginica'),\n",
       "       (4.9, 3.1, 1.5, 0.1, 'Iris-setosa')],\n",
       "      dtype=[('f0', '<f8'), ('f1', '<f8'), ('f2', '<f8'), ('f3', '<f8'), ('f4', '<U15')])"
      ]
     },
     "execution_count": 296,
     "metadata": {},
     "output_type": "execute_result"
    }
   ],
   "source": [
    "# 해당 셀을 실행하되 수정하지 마세요.\n",
    "url = 'https://archive.ics.uci.edu/ml/machine-learning-databases/iris/iris.data'\n",
    "iris_1d = np.genfromtxt(url, delimiter=',', dtype=None)\n",
    "np.random.seed(10)\n",
    "np.random.shuffle(iris_1d)\n",
    "iris_1d"
   ]
  },
  {
   "cell_type": "markdown",
   "metadata": {
    "id": "QTLaq2qYrQGV"
   },
   "source": [
    "###1.3.2 iris data는 4개의 숫자 데이터(꽃잎의 길이)와 1개의 문자 데이터(꽃의 종)로 이루어져 있습니다. 위 문제에서의 iris10 데이터의 종 정보만 출력하시오."
   ]
  },
  {
   "cell_type": "code",
   "execution_count": 303,
   "metadata": {},
   "outputs": [
    {
     "data": {
      "text/plain": [
       "np.str_('Iris-versicolor')"
      ]
     },
     "execution_count": 303,
     "metadata": {},
     "output_type": "execute_result"
    }
   ],
   "source": [
    "iris_1d[9][4]"
   ]
  },
  {
   "cell_type": "markdown",
   "metadata": {
    "id": "HapBJ6hprt1J"
   },
   "source": [
    "### 1.3.3 iris_1d data의 앞에서 30개의 data만 추출하여 첫 번째 요소의 길이가 5.0 이하인 것만 출력하시오."
   ]
  },
  {
   "cell_type": "code",
   "execution_count": 305,
   "metadata": {
    "id": "MjOFNMzPnbDG"
   },
   "outputs": [
    {
     "data": {
      "text/plain": [
       "array([(6.3, 2.3, 4.4, 1.3, 'Iris-versicolor'),\n",
       "       (6.4, 2.7, 5.3, 1.9, 'Iris-virginica'),\n",
       "       (5.4, 3.7, 1.5, 0.2, 'Iris-setosa'),\n",
       "       (6.1, 3. , 4.6, 1.4, 'Iris-versicolor'),\n",
       "       (5. , 3.3, 1.4, 0.2, 'Iris-setosa'),\n",
       "       (5. , 2. , 3.5, 1. , 'Iris-versicolor'),\n",
       "       (6.3, 2.5, 4.9, 1.5, 'Iris-versicolor'),\n",
       "       (5.8, 2.7, 4.1, 1. , 'Iris-versicolor'),\n",
       "       (5.1, 3.4, 1.5, 0.2, 'Iris-setosa'),\n",
       "       (5.7, 2.8, 4.5, 1.3, 'Iris-versicolor'),\n",
       "       (5.6, 3. , 4.5, 1.5, 'Iris-versicolor'),\n",
       "       (5.8, 2.7, 5.1, 1.9, 'Iris-virginica'),\n",
       "       (5.5, 2.3, 4. , 1.3, 'Iris-versicolor'),\n",
       "       (4.9, 3. , 1.4, 0.2, 'Iris-setosa'),\n",
       "       (5.1, 3.8, 1.5, 0.3, 'Iris-setosa'),\n",
       "       (6.8, 3. , 5.5, 2.1, 'Iris-virginica'),\n",
       "       (6. , 3.4, 4.5, 1.6, 'Iris-versicolor'),\n",
       "       (4.4, 3. , 1.3, 0.2, 'Iris-setosa'),\n",
       "       (5.1, 3.7, 1.5, 0.4, 'Iris-setosa'),\n",
       "       (5. , 3.2, 1.2, 0.2, 'Iris-setosa'),\n",
       "       (7.1, 3. , 5.9, 2.1, 'Iris-virginica'),\n",
       "       (6.4, 2.8, 5.6, 2.2, 'Iris-virginica'),\n",
       "       (6.2, 2.8, 4.8, 1.8, 'Iris-virginica'),\n",
       "       (4.8, 3.4, 1.9, 0.2, 'Iris-setosa'),\n",
       "       (5.9, 3. , 4.2, 1.5, 'Iris-versicolor'),\n",
       "       (4.7, 3.2, 1.3, 0.2, 'Iris-setosa'),\n",
       "       (5.7, 3. , 4.2, 1.2, 'Iris-versicolor'),\n",
       "       (5.5, 2.6, 4.4, 1.2, 'Iris-versicolor'),\n",
       "       (6.8, 2.8, 4.8, 1.4, 'Iris-versicolor')],\n",
       "      dtype=[('f0', '<f8'), ('f1', '<f8'), ('f2', '<f8'), ('f3', '<f8'), ('f4', '<U15')])"
      ]
     },
     "execution_count": 305,
     "metadata": {},
     "output_type": "execute_result"
    }
   ],
   "source": [
    "iris_1d_30 = iris_1d[0:29]\n",
    "iris_1d_30"
   ]
  },
  {
   "cell_type": "markdown",
   "metadata": {
    "id": "HW0TU00uuVt-"
   },
   "source": [
    "### 1.3.4 irids_1d data의 앞에서 15개의 data만 추출하여 첫 번째 요소와 네 번째 요소 간의 상관관계를 출력하시오."
   ]
  },
  {
   "cell_type": "code",
   "execution_count": null,
   "metadata": {
    "id": "YUq4j3cYqfWZ"
   },
   "outputs": [],
   "source": []
  },
  {
   "cell_type": "markdown",
   "metadata": {
    "id": "E2nyt8FwvSe4"
   },
   "source": [
    "###1.3.5 iris_1d 데이터에서 각 종별로 개수가 몇 개인지 출력하시오."
   ]
  },
  {
   "cell_type": "code",
   "execution_count": null,
   "metadata": {
    "id": "gwfehAqBwy2f"
   },
   "outputs": [],
   "source": []
  },
  {
   "cell_type": "markdown",
   "metadata": {
    "id": "l0Mpd30cxP6D"
   },
   "source": [
    "###1.3.6 iris_1d 데이터 중 3번째 요소의 길이가 5.0 이상인 data의 index를 모두 출력하시오."
   ]
  },
  {
   "cell_type": "code",
   "execution_count": null,
   "metadata": {
    "id": "jiSLD4t5xQAA"
   },
   "outputs": [],
   "source": []
  },
  {
   "cell_type": "markdown",
   "metadata": {
    "id": "1iVtmorcxpEH"
   },
   "source": [
    "##1.4"
   ]
  },
  {
   "cell_type": "markdown",
   "metadata": {
    "id": "LqPCfC2Uxqh8"
   },
   "source": [
    "###1.4.1 0부터 1까지의 랜덤 숫자 100개로 이루어진 array를 하나 만들고 array의 평균, 분산, 표준편차, 중앙값을 출력하시오."
   ]
  },
  {
   "cell_type": "code",
   "execution_count": 284,
   "metadata": {
    "id": "zDZPHcKcyYWa"
   },
   "outputs": [
    {
     "data": {
      "text/plain": [
       "array([ 2,  0, 60, 96, 16, 73, 68, 50, 71,  2, 39, 14, 14, 16, 32, 97, 52,\n",
       "       18,  5, 35, 15, 30, 61,  4, 16, 65, 54, 19, 35, 27, 99, 64, 35, 74,\n",
       "       98, 48, 14, 91,  1, 65, 83, 22, 88, 73, 29, 29, 97, 41, 34, 47, 91,\n",
       "       72, 17, 80, 68, 34,  9, 73, 66, 15, 66, 83, 38, 49,  4, 26, 77, 77,\n",
       "       91, 16, 60, 98, 34,  6, 49, 71,  8, 31, 10, 25, 54,  9, 24, 85, 16,\n",
       "       63, 22, 94,  7,  3, 96, 28, 18, 81, 72, 39, 96, 35, 33,  4],\n",
       "      dtype=int32)"
      ]
     },
     "execution_count": 284,
     "metadata": {},
     "output_type": "execute_result"
    }
   ],
   "source": [
    "rand = np.random.randint(0, 100,(100))\n",
    "rand"
   ]
  },
  {
   "cell_type": "code",
   "execution_count": 292,
   "metadata": {},
   "outputs": [
    {
     "data": {
      "text/plain": [
       "np.float64(45.41)"
      ]
     },
     "execution_count": 292,
     "metadata": {},
     "output_type": "execute_result"
    }
   ],
   "source": [
    "# 평균\n",
    "np.mean(rand)"
   ]
  },
  {
   "cell_type": "code",
   "execution_count": 293,
   "metadata": {},
   "outputs": [
    {
     "data": {
      "text/plain": [
       "np.float64(928.4019000000002)"
      ]
     },
     "execution_count": 293,
     "metadata": {},
     "output_type": "execute_result"
    }
   ],
   "source": [
    "# 분산\n",
    "np.var(rand)"
   ]
  },
  {
   "cell_type": "code",
   "execution_count": 294,
   "metadata": {},
   "outputs": [
    {
     "data": {
      "text/plain": [
       "np.float64(30.46968821632411)"
      ]
     },
     "execution_count": 294,
     "metadata": {},
     "output_type": "execute_result"
    }
   ],
   "source": [
    "# 표준편차\n",
    "np.std(rand)"
   ]
  },
  {
   "cell_type": "code",
   "execution_count": 295,
   "metadata": {},
   "outputs": [
    {
     "data": {
      "text/plain": [
       "np.float64(38.5)"
      ]
     },
     "execution_count": 295,
     "metadata": {},
     "output_type": "execute_result"
    }
   ],
   "source": [
    "# 중앙값\n",
    "np.median(rand)"
   ]
  },
  {
   "cell_type": "markdown",
   "metadata": {
    "id": "tm7n2QVUymf5"
   },
   "source": [
    "###1.4.2 iris_2d 데이터의 첫 번째 열과 3번째 열의 값들 간의 상관계수를 출력하시오. (iris_2d 변수의 내용을 수정하지 마시오.)"
   ]
  },
  {
   "cell_type": "code",
   "execution_count": 15,
   "metadata": {
    "id": "CUAuDxZjyoDD"
   },
   "outputs": [
    {
     "data": {
      "text/plain": [
       "array([[5.1, 3.5, 1.4, 0.2],\n",
       "       [4.9, 3. , 1.4, 0.2],\n",
       "       [4.7, 3.2, 1.3, 0.2],\n",
       "       [4.6, 3.1, 1.5, 0.2],\n",
       "       [5. , 3.6, 1.4, 0.2],\n",
       "       [5.4, 3.9, 1.7, 0.4],\n",
       "       [4.6, 3.4, 1.4, 0.3],\n",
       "       [5. , 3.4, 1.5, 0.2],\n",
       "       [4.4, 2.9, 1.4, 0.2],\n",
       "       [4.9, 3.1, 1.5, 0.1],\n",
       "       [5.4, 3.7, 1.5, 0.2],\n",
       "       [4.8, 3.4, 1.6, 0.2],\n",
       "       [4.8, 3. , 1.4, 0.1],\n",
       "       [4.3, 3. , 1.1, 0.1],\n",
       "       [5.8, 4. , 1.2, 0.2],\n",
       "       [5.7, 4.4, 1.5, 0.4],\n",
       "       [5.4, 3.9, 1.3, 0.4],\n",
       "       [5.1, 3.5, 1.4, 0.3],\n",
       "       [5.7, 3.8, 1.7, 0.3],\n",
       "       [5.1, 3.8, 1.5, 0.3],\n",
       "       [5.4, 3.4, 1.7, 0.2],\n",
       "       [5.1, 3.7, 1.5, 0.4],\n",
       "       [4.6, 3.6, 1. , 0.2],\n",
       "       [5.1, 3.3, 1.7, 0.5],\n",
       "       [4.8, 3.4, 1.9, 0.2],\n",
       "       [5. , 3. , 1.6, 0.2],\n",
       "       [5. , 3.4, 1.6, 0.4],\n",
       "       [5.2, 3.5, 1.5, 0.2],\n",
       "       [5.2, 3.4, 1.4, 0.2],\n",
       "       [4.7, 3.2, 1.6, 0.2],\n",
       "       [4.8, 3.1, 1.6, 0.2],\n",
       "       [5.4, 3.4, 1.5, 0.4],\n",
       "       [5.2, 4.1, 1.5, 0.1],\n",
       "       [5.5, 4.2, 1.4, 0.2],\n",
       "       [4.9, 3.1, 1.5, 0.1],\n",
       "       [5. , 3.2, 1.2, 0.2],\n",
       "       [5.5, 3.5, 1.3, 0.2],\n",
       "       [4.9, 3.1, 1.5, 0.1],\n",
       "       [4.4, 3. , 1.3, 0.2],\n",
       "       [5.1, 3.4, 1.5, 0.2],\n",
       "       [5. , 3.5, 1.3, 0.3],\n",
       "       [4.5, 2.3, 1.3, 0.3],\n",
       "       [4.4, 3.2, 1.3, 0.2],\n",
       "       [5. , 3.5, 1.6, 0.6],\n",
       "       [5.1, 3.8, 1.9, 0.4],\n",
       "       [4.8, 3. , 1.4, 0.3],\n",
       "       [5.1, 3.8, 1.6, 0.2],\n",
       "       [4.6, 3.2, 1.4, 0.2],\n",
       "       [5.3, 3.7, 1.5, 0.2],\n",
       "       [5. , 3.3, 1.4, 0.2],\n",
       "       [7. , 3.2, 4.7, 1.4],\n",
       "       [6.4, 3.2, 4.5, 1.5],\n",
       "       [6.9, 3.1, 4.9, 1.5],\n",
       "       [5.5, 2.3, 4. , 1.3],\n",
       "       [6.5, 2.8, 4.6, 1.5],\n",
       "       [5.7, 2.8, 4.5, 1.3],\n",
       "       [6.3, 3.3, 4.7, 1.6],\n",
       "       [4.9, 2.4, 3.3, 1. ],\n",
       "       [6.6, 2.9, 4.6, 1.3],\n",
       "       [5.2, 2.7, 3.9, 1.4],\n",
       "       [5. , 2. , 3.5, 1. ],\n",
       "       [5.9, 3. , 4.2, 1.5],\n",
       "       [6. , 2.2, 4. , 1. ],\n",
       "       [6.1, 2.9, 4.7, 1.4],\n",
       "       [5.6, 2.9, 3.6, 1.3],\n",
       "       [6.7, 3.1, 4.4, 1.4],\n",
       "       [5.6, 3. , 4.5, 1.5],\n",
       "       [5.8, 2.7, 4.1, 1. ],\n",
       "       [6.2, 2.2, 4.5, 1.5],\n",
       "       [5.6, 2.5, 3.9, 1.1],\n",
       "       [5.9, 3.2, 4.8, 1.8],\n",
       "       [6.1, 2.8, 4. , 1.3],\n",
       "       [6.3, 2.5, 4.9, 1.5],\n",
       "       [6.1, 2.8, 4.7, 1.2],\n",
       "       [6.4, 2.9, 4.3, 1.3],\n",
       "       [6.6, 3. , 4.4, 1.4],\n",
       "       [6.8, 2.8, 4.8, 1.4],\n",
       "       [6.7, 3. , 5. , 1.7],\n",
       "       [6. , 2.9, 4.5, 1.5],\n",
       "       [5.7, 2.6, 3.5, 1. ],\n",
       "       [5.5, 2.4, 3.8, 1.1],\n",
       "       [5.5, 2.4, 3.7, 1. ],\n",
       "       [5.8, 2.7, 3.9, 1.2],\n",
       "       [6. , 2.7, 5.1, 1.6],\n",
       "       [5.4, 3. , 4.5, 1.5],\n",
       "       [6. , 3.4, 4.5, 1.6],\n",
       "       [6.7, 3.1, 4.7, 1.5],\n",
       "       [6.3, 2.3, 4.4, 1.3],\n",
       "       [5.6, 3. , 4.1, 1.3],\n",
       "       [5.5, 2.5, 4. , 1.3],\n",
       "       [5.5, 2.6, 4.4, 1.2],\n",
       "       [6.1, 3. , 4.6, 1.4],\n",
       "       [5.8, 2.6, 4. , 1.2],\n",
       "       [5. , 2.3, 3.3, 1. ],\n",
       "       [5.6, 2.7, 4.2, 1.3],\n",
       "       [5.7, 3. , 4.2, 1.2],\n",
       "       [5.7, 2.9, 4.2, 1.3],\n",
       "       [6.2, 2.9, 4.3, 1.3],\n",
       "       [5.1, 2.5, 3. , 1.1],\n",
       "       [5.7, 2.8, 4.1, 1.3],\n",
       "       [6.3, 3.3, 6. , 2.5],\n",
       "       [5.8, 2.7, 5.1, 1.9],\n",
       "       [7.1, 3. , 5.9, 2.1],\n",
       "       [6.3, 2.9, 5.6, 1.8],\n",
       "       [6.5, 3. , 5.8, 2.2],\n",
       "       [7.6, 3. , 6.6, 2.1],\n",
       "       [4.9, 2.5, 4.5, 1.7],\n",
       "       [7.3, 2.9, 6.3, 1.8],\n",
       "       [6.7, 2.5, 5.8, 1.8],\n",
       "       [7.2, 3.6, 6.1, 2.5],\n",
       "       [6.5, 3.2, 5.1, 2. ],\n",
       "       [6.4, 2.7, 5.3, 1.9],\n",
       "       [6.8, 3. , 5.5, 2.1],\n",
       "       [5.7, 2.5, 5. , 2. ],\n",
       "       [5.8, 2.8, 5.1, 2.4],\n",
       "       [6.4, 3.2, 5.3, 2.3],\n",
       "       [6.5, 3. , 5.5, 1.8],\n",
       "       [7.7, 3.8, 6.7, 2.2],\n",
       "       [7.7, 2.6, 6.9, 2.3],\n",
       "       [6. , 2.2, 5. , 1.5],\n",
       "       [6.9, 3.2, 5.7, 2.3],\n",
       "       [5.6, 2.8, 4.9, 2. ],\n",
       "       [7.7, 2.8, 6.7, 2. ],\n",
       "       [6.3, 2.7, 4.9, 1.8],\n",
       "       [6.7, 3.3, 5.7, 2.1],\n",
       "       [7.2, 3.2, 6. , 1.8],\n",
       "       [6.2, 2.8, 4.8, 1.8],\n",
       "       [6.1, 3. , 4.9, 1.8],\n",
       "       [6.4, 2.8, 5.6, 2.1],\n",
       "       [7.2, 3. , 5.8, 1.6],\n",
       "       [7.4, 2.8, 6.1, 1.9],\n",
       "       [7.9, 3.8, 6.4, 2. ],\n",
       "       [6.4, 2.8, 5.6, 2.2],\n",
       "       [6.3, 2.8, 5.1, 1.5],\n",
       "       [6.1, 2.6, 5.6, 1.4],\n",
       "       [7.7, 3. , 6.1, 2.3],\n",
       "       [6.3, 3.4, 5.6, 2.4],\n",
       "       [6.4, 3.1, 5.5, 1.8],\n",
       "       [6. , 3. , 4.8, 1.8],\n",
       "       [6.9, 3.1, 5.4, 2.1],\n",
       "       [6.7, 3.1, 5.6, 2.4],\n",
       "       [6.9, 3.1, 5.1, 2.3],\n",
       "       [5.8, 2.7, 5.1, 1.9],\n",
       "       [6.8, 3.2, 5.9, 2.3],\n",
       "       [6.7, 3.3, 5.7, 2.5],\n",
       "       [6.7, 3. , 5.2, 2.3],\n",
       "       [6.3, 2.5, 5. , 1.9],\n",
       "       [6.5, 3. , 5.2, 2. ],\n",
       "       [6.2, 3.4, 5.4, 2.3],\n",
       "       [5.9, 3. , 5.1, 1.8]])"
      ]
     },
     "execution_count": 15,
     "metadata": {},
     "output_type": "execute_result"
    }
   ],
   "source": [
    "# 해당 셀을 실행만 하되 수정하지 마세요.\n",
    "url = 'https://archive.ics.uci.edu/ml/machine-learning-databases/iris/iris.data'\n",
    "iris_2d = np.genfromtxt(url, delimiter=',', dtype='float', usecols=[0,1,2,3])\n",
    "iris_2d"
   ]
  },
  {
   "cell_type": "code",
   "execution_count": 23,
   "metadata": {
    "id": "pwxg8JYGudF7"
   },
   "outputs": [],
   "source": [
    "col_1 = iris_2d[:, 0]\n",
    "col_2 = iris_2d[:, 2]"
   ]
  },
  {
   "cell_type": "code",
   "execution_count": 25,
   "metadata": {},
   "outputs": [
    {
     "data": {
      "text/plain": [
       "array([[1.        , 0.87175416],\n",
       "       [0.87175416, 1.        ]])"
      ]
     },
     "execution_count": 25,
     "metadata": {},
     "output_type": "execute_result"
    }
   ],
   "source": [
    "corr = np.corrcoef(col_1, col_2)\n",
    "corr"
   ]
  },
  {
   "cell_type": "markdown",
   "metadata": {
    "id": "6LmSick9u1lZ"
   },
   "source": [
    "###1.4.3 0부터 10까지의 랜덤한 정수 100개로 이루어진 array를 하나 만들고 가장 빈도수가 많은 숫자를 출력하시오. (만약 빈도수가 같은 숫자가 있다면 모두 출력하시오.)"
   ]
  },
  {
   "cell_type": "code",
   "execution_count": 33,
   "metadata": {
    "id": "AIgdPattvkE5"
   },
   "outputs": [
    {
     "data": {
      "text/plain": [
       "array([5, 1, 2, 6, 9, 7, 6, 4, 6, 4, 6, 6, 4, 3, 4, 7, 3, 3, 1, 0, 7, 6,\n",
       "       5, 4, 4, 9, 0, 4, 2, 4, 4, 0, 9, 1, 1, 4, 1, 0, 6, 5, 8, 8, 5, 3,\n",
       "       8, 0, 7, 8, 9, 6, 0, 4, 7, 0, 2, 8, 2, 8, 2, 0, 7, 0, 2, 3, 8, 3,\n",
       "       0, 3, 1, 5, 2, 1, 0, 6, 1, 2, 4, 7, 9, 2, 0, 2, 2, 4, 6, 2, 9, 8,\n",
       "       9, 9, 1, 3, 5, 0, 5, 8, 7, 0, 8, 8], dtype=int32)"
      ]
     },
     "execution_count": 33,
     "metadata": {},
     "output_type": "execute_result"
    }
   ],
   "source": [
    "random_int = np.random.randint(0, 10, 100)\n",
    "random_int"
   ]
  },
  {
   "cell_type": "markdown",
   "metadata": {
    "id": "0ZK6nBvhvkbe"
   },
   "source": [
    "### 1.4.4 numpy의 내장 함수를 이용해 현재 시간을 출력하시오. (출력 형식은 자유이고 연,월,일,시,분,초를 모두 출력해야함)"
   ]
  },
  {
   "cell_type": "code",
   "execution_count": 13,
   "metadata": {
    "id": "z2lFpGmCwCxo"
   },
   "outputs": [
    {
     "name": "stdout",
     "output_type": "stream",
     "text": [
      "2024-09-24 01:52:41.413356\n"
     ]
    }
   ],
   "source": [
    "now = dt.datetime.now()\n",
    "print(now)"
   ]
  },
  {
   "cell_type": "markdown",
   "metadata": {
    "id": "SXD38EHVwDDJ"
   },
   "source": [
    "### 1.4.5 numpy의 내장 함수를 이용해 2024년 9월 1일부터 2024년 9월 20일까지의 날짜들 중 홀수일로만 이루어진 array를 하나 만들고 출력하시오."
   ]
  },
  {
   "cell_type": "code",
   "execution_count": null,
   "metadata": {
    "id": "Y5vn4z2HwViT"
   },
   "outputs": [],
   "source": [
    "# 예시 - 2018년 2월 1일부터 2018년 2월 23일까지\n",
    "\n",
    "# ['2018-02-01' '2018-02-03' '2018-02-05' '2018-02-07' '2018-02-09'\n",
    "#  '2018-02-11' '2018-02-13' '2018-02-15' '2018-02-17' '2018-02-19'\n",
    "#  '2018-02-21' '2018-02-23']"
   ]
  },
  {
   "cell_type": "code",
   "execution_count": 55,
   "metadata": {
    "id": "cHiWgcN_wnfE"
   },
   "outputs": [
    {
     "data": {
      "text/plain": [
       "array(['2024-09-01', '2024-09-03', '2024-09-05', '2024-09-07',\n",
       "       '2024-09-09', '2024-09-11', '2024-09-13', '2024-09-15',\n",
       "       '2024-09-17', '2024-09-19'], dtype='datetime64[D]')"
      ]
     },
     "execution_count": 55,
     "metadata": {},
     "output_type": "execute_result"
    }
   ],
   "source": [
    "arr_date = np.arange('2024-09-01', '2024-09-20', dtype = 'datetime64[D]')\n",
    "odd_date = arr_date[[0,2,4,6,8,10,12,14,16,18]]\n",
    "\n",
    "odd_date"
   ]
  },
  {
   "cell_type": "markdown",
   "metadata": {
    "id": "DmCz1Xk5wsdR"
   },
   "source": [
    "# 2. Pandas"
   ]
  },
  {
   "cell_type": "markdown",
   "metadata": {
    "id": "qneBbHkYw6mu"
   },
   "source": [
    "## 2.1 Pandas 알아보기"
   ]
  },
  {
   "cell_type": "markdown",
   "metadata": {
    "id": "6tLKPpAQw-NK"
   },
   "source": [
    "### 2.1.1 Pandas에 대한 간단한 설명을 적어주세요."
   ]
  },
  {
   "cell_type": "markdown",
   "metadata": {
    "id": "d5mbaeBqxAzo"
   },
   "source": []
  },
  {
   "cell_type": "markdown",
   "metadata": {
    "id": "tkMRj-gZxMPE"
   },
   "source": [
    "### 2.1.2 본인의 Pandas version을 출력해주세요."
   ]
  },
  {
   "cell_type": "code",
   "execution_count": 34,
   "metadata": {},
   "outputs": [
    {
     "name": "stdout",
     "output_type": "stream",
     "text": [
      "2.2.3\n"
     ]
    }
   ],
   "source": [
    "print(pd.__version__)"
   ]
  },
  {
   "cell_type": "markdown",
   "metadata": {
    "id": "A2sHDYEbxTCU"
   },
   "source": []
  },
  {
   "cell_type": "markdown",
   "metadata": {
    "id": "wCxBkq_7xTeY"
   },
   "source": [
    "## 2.2 pandas 자료구조"
   ]
  },
  {
   "cell_type": "markdown",
   "metadata": {
    "id": "pXpq3hRxf-zE"
   },
   "source": [
    "### 2.2.1 pandas의 series와 numpy array의 차이점을 쓰시오."
   ]
  },
  {
   "cell_type": "markdown",
   "metadata": {
    "id": "77kTWPfpgOd8"
   },
   "source": []
  },
  {
   "cell_type": "markdown",
   "metadata": {
    "id": "avbVMmFwxWIL"
   },
   "source": [
    "### 2.2.2  알파벳  a-z로 이루어진 series를 하나 만들고 출력하시오."
   ]
  },
  {
   "cell_type": "code",
   "execution_count": 57,
   "metadata": {
    "id": "B-0d-YLexXvx"
   },
   "outputs": [
    {
     "data": {
      "text/plain": [
       "(97, 122)"
      ]
     },
     "execution_count": 57,
     "metadata": {},
     "output_type": "execute_result"
    }
   ],
   "source": [
    "# ord()로 유니코드 값 확인\n",
    "ord(\"a\"), ord(\"z\")"
   ]
  },
  {
   "cell_type": "code",
   "execution_count": 58,
   "metadata": {},
   "outputs": [
    {
     "data": {
      "text/plain": [
       "('a', 'z')"
      ]
     },
     "execution_count": 58,
     "metadata": {},
     "output_type": "execute_result"
    }
   ],
   "source": [
    "# chr()로 유니코드를 문자로 반환\n",
    "chr(97), chr(122)"
   ]
  },
  {
   "cell_type": "code",
   "execution_count": 60,
   "metadata": {},
   "outputs": [],
   "source": [
    "chr_list = [chr(i) for i in range(97 , 123)]"
   ]
  },
  {
   "cell_type": "code",
   "execution_count": 61,
   "metadata": {},
   "outputs": [
    {
     "data": {
      "text/plain": [
       "0     a\n",
       "1     b\n",
       "2     c\n",
       "3     d\n",
       "4     e\n",
       "5     f\n",
       "6     g\n",
       "7     h\n",
       "8     i\n",
       "9     j\n",
       "10    k\n",
       "11    l\n",
       "12    m\n",
       "13    n\n",
       "14    o\n",
       "15    p\n",
       "16    q\n",
       "17    r\n",
       "18    s\n",
       "19    t\n",
       "20    u\n",
       "21    v\n",
       "22    w\n",
       "23    x\n",
       "24    y\n",
       "25    z\n",
       "dtype: object"
      ]
     },
     "execution_count": 61,
     "metadata": {},
     "output_type": "execute_result"
    }
   ],
   "source": [
    "chr_series = pd.Series(chr_list)\n",
    "chr_series"
   ]
  },
  {
   "cell_type": "markdown",
   "metadata": {
    "id": "HRPyX-lNeUV2"
   },
   "source": [
    "### 2.2.3 list1 = [2,4,6,8,10], list2 = [3,6,9,12]일 때 각 리스트를 series1, series2로 바꾼 뒤 series1과 series2를 출력하시오."
   ]
  },
  {
   "cell_type": "code",
   "execution_count": 63,
   "metadata": {
    "id": "qU3gFS6je4Jn"
   },
   "outputs": [
    {
     "name": "stdout",
     "output_type": "stream",
     "text": [
      "0     2\n",
      "1     4\n",
      "2     6\n",
      "3     8\n",
      "4    10\n",
      "dtype: int64\n",
      "0     3\n",
      "1     6\n",
      "2     9\n",
      "3    12\n",
      "dtype: int64\n"
     ]
    }
   ],
   "source": [
    "list1 = [2,4,6,8,10]\n",
    "list2 = [3,6,9,12]\n",
    "series1 = pd.Series(list1)\n",
    "series2 = pd.Series(list2)\n",
    "print(series1)\n",
    "print(series2)"
   ]
  },
  {
   "cell_type": "markdown",
   "metadata": {
    "id": "tpuTwDSLfKw1"
   },
   "source": [
    "### 2.2.4 1부터 5까지의 정수로 이루어진 series와 6부터 10까지의 정수로 이루어진 series를 만들어 각각을 열(column)로 가지는 dataframe을 만들고 출력하시오. (2개의 열을 가지는 dataframe 출력)"
   ]
  },
  {
   "cell_type": "code",
   "execution_count": null,
   "metadata": {
    "id": "w-iXG2bafyBP"
   },
   "outputs": [],
   "source": [
    "# 예시\n",
    "#   0 1\n",
    "# 0 1 6\n",
    "# 1 2 7\n",
    "# 2 3 8\n",
    "# 3 4 9\n",
    "# 4 5 10"
   ]
  },
  {
   "cell_type": "code",
   "execution_count": 66,
   "metadata": {
    "id": "OsaoR9rVhYsT"
   },
   "outputs": [],
   "source": [
    "list1 = [1, 2, 3, 4, 5]\n",
    "list2 = [6, 7, 8, 9, 10]"
   ]
  },
  {
   "cell_type": "code",
   "execution_count": 68,
   "metadata": {},
   "outputs": [
    {
     "data": {
      "text/plain": [
       "0    1\n",
       "1    2\n",
       "2    3\n",
       "3    4\n",
       "4    5\n",
       "dtype: int64"
      ]
     },
     "execution_count": 68,
     "metadata": {},
     "output_type": "execute_result"
    }
   ],
   "source": [
    "series_1 = pd.Series(list1)\n",
    "series_2 = pd.Series(list2)\n",
    "\n",
    "series_1"
   ]
  },
  {
   "cell_type": "code",
   "execution_count": 70,
   "metadata": {},
   "outputs": [
    {
     "data": {
      "text/html": [
       "<div>\n",
       "<style scoped>\n",
       "    .dataframe tbody tr th:only-of-type {\n",
       "        vertical-align: middle;\n",
       "    }\n",
       "\n",
       "    .dataframe tbody tr th {\n",
       "        vertical-align: top;\n",
       "    }\n",
       "\n",
       "    .dataframe thead th {\n",
       "        text-align: right;\n",
       "    }\n",
       "</style>\n",
       "<table border=\"1\" class=\"dataframe\">\n",
       "  <thead>\n",
       "    <tr style=\"text-align: right;\">\n",
       "      <th></th>\n",
       "      <th>0</th>\n",
       "      <th>1</th>\n",
       "    </tr>\n",
       "  </thead>\n",
       "  <tbody>\n",
       "    <tr>\n",
       "      <th>0</th>\n",
       "      <td>1</td>\n",
       "      <td>6</td>\n",
       "    </tr>\n",
       "    <tr>\n",
       "      <th>1</th>\n",
       "      <td>2</td>\n",
       "      <td>7</td>\n",
       "    </tr>\n",
       "    <tr>\n",
       "      <th>2</th>\n",
       "      <td>3</td>\n",
       "      <td>8</td>\n",
       "    </tr>\n",
       "    <tr>\n",
       "      <th>3</th>\n",
       "      <td>4</td>\n",
       "      <td>9</td>\n",
       "    </tr>\n",
       "    <tr>\n",
       "      <th>4</th>\n",
       "      <td>5</td>\n",
       "      <td>10</td>\n",
       "    </tr>\n",
       "  </tbody>\n",
       "</table>\n",
       "</div>"
      ],
      "text/plain": [
       "   0   1\n",
       "0  1   6\n",
       "1  2   7\n",
       "2  3   8\n",
       "3  4   9\n",
       "4  5  10"
      ]
     },
     "execution_count": 70,
     "metadata": {},
     "output_type": "execute_result"
    }
   ],
   "source": [
    "all_series = pd.concat([series_1, series_2], axis =1)\n",
    "all_series"
   ]
  },
  {
   "cell_type": "markdown",
   "metadata": {
    "id": "R4dMpq7OgSq-"
   },
   "source": [
    "### 2.2.5 1-3 정수, 4-6 정수, 7-9 정수, 10-12 정수로 이루어진 series를 만들어 각각을 행(row)으로 가지는 dataframe을 만들고 출력하시오. (4개의 행을 가지는 dataframe 출력)"
   ]
  },
  {
   "cell_type": "code",
   "execution_count": null,
   "metadata": {
    "id": "jpUuHIL9g9Mk"
   },
   "outputs": [],
   "source": [
    "# 예시\n",
    "#    0  1  2\n",
    "# 0  1  2  3\n",
    "# 1  4  5  6\n",
    "# 2  7  8  9\n",
    "# 3 10 11 12"
   ]
  },
  {
   "cell_type": "code",
   "execution_count": 76,
   "metadata": {
    "id": "70j2xBz6hpTC"
   },
   "outputs": [],
   "source": [
    "list1 = [1,2,3]\n",
    "list2 = [4,5,6]\n",
    "list3 = [7,8,9]\n",
    "list4 = [10,11,12]"
   ]
  },
  {
   "cell_type": "code",
   "execution_count": 77,
   "metadata": {},
   "outputs": [],
   "source": [
    "series_1 = pd.Series(list1)\n",
    "series_2 = pd.Series(list2)\n",
    "series_3 = pd.Series(list3)\n",
    "series_4 = pd.Series(list4)"
   ]
  },
  {
   "cell_type": "code",
   "execution_count": 84,
   "metadata": {},
   "outputs": [
    {
     "data": {
      "text/html": [
       "<div>\n",
       "<style scoped>\n",
       "    .dataframe tbody tr th:only-of-type {\n",
       "        vertical-align: middle;\n",
       "    }\n",
       "\n",
       "    .dataframe tbody tr th {\n",
       "        vertical-align: top;\n",
       "    }\n",
       "\n",
       "    .dataframe thead th {\n",
       "        text-align: right;\n",
       "    }\n",
       "</style>\n",
       "<table border=\"1\" class=\"dataframe\">\n",
       "  <thead>\n",
       "    <tr style=\"text-align: right;\">\n",
       "      <th></th>\n",
       "      <th>0</th>\n",
       "      <th>1</th>\n",
       "      <th>2</th>\n",
       "    </tr>\n",
       "  </thead>\n",
       "  <tbody>\n",
       "    <tr>\n",
       "      <th>0</th>\n",
       "      <td>1</td>\n",
       "      <td>2</td>\n",
       "      <td>3</td>\n",
       "    </tr>\n",
       "    <tr>\n",
       "      <th>1</th>\n",
       "      <td>4</td>\n",
       "      <td>5</td>\n",
       "      <td>6</td>\n",
       "    </tr>\n",
       "    <tr>\n",
       "      <th>2</th>\n",
       "      <td>7</td>\n",
       "      <td>8</td>\n",
       "      <td>9</td>\n",
       "    </tr>\n",
       "    <tr>\n",
       "      <th>3</th>\n",
       "      <td>10</td>\n",
       "      <td>11</td>\n",
       "      <td>12</td>\n",
       "    </tr>\n",
       "  </tbody>\n",
       "</table>\n",
       "</div>"
      ],
      "text/plain": [
       "    0   1   2\n",
       "0   1   2   3\n",
       "1   4   5   6\n",
       "2   7   8   9\n",
       "3  10  11  12"
      ]
     },
     "execution_count": 84,
     "metadata": {},
     "output_type": "execute_result"
    }
   ],
   "source": [
    "all_df = pd.concat([series_1, series_2, series_3, series_4], axis =1).T\n",
    "all_df"
   ]
  },
  {
   "cell_type": "markdown",
   "metadata": {
    "id": "kaz1giaAhpvq"
   },
   "source": [
    "### 2.2.6 2.2.5에서 만든 dataframe의 index를 ['one','two','three','four']으로 바꾸고 출력하시오."
   ]
  },
  {
   "cell_type": "code",
   "execution_count": 86,
   "metadata": {
    "id": "cL83fe5Mh9AA"
   },
   "outputs": [
    {
     "data": {
      "text/html": [
       "<div>\n",
       "<style scoped>\n",
       "    .dataframe tbody tr th:only-of-type {\n",
       "        vertical-align: middle;\n",
       "    }\n",
       "\n",
       "    .dataframe tbody tr th {\n",
       "        vertical-align: top;\n",
       "    }\n",
       "\n",
       "    .dataframe thead th {\n",
       "        text-align: right;\n",
       "    }\n",
       "</style>\n",
       "<table border=\"1\" class=\"dataframe\">\n",
       "  <thead>\n",
       "    <tr style=\"text-align: right;\">\n",
       "      <th></th>\n",
       "      <th>0</th>\n",
       "      <th>1</th>\n",
       "      <th>2</th>\n",
       "    </tr>\n",
       "  </thead>\n",
       "  <tbody>\n",
       "    <tr>\n",
       "      <th>0</th>\n",
       "      <td>one</td>\n",
       "      <td>two</td>\n",
       "      <td>three</td>\n",
       "    </tr>\n",
       "    <tr>\n",
       "      <th>1</th>\n",
       "      <td>four</td>\n",
       "      <td>5</td>\n",
       "      <td>6</td>\n",
       "    </tr>\n",
       "    <tr>\n",
       "      <th>2</th>\n",
       "      <td>7</td>\n",
       "      <td>8</td>\n",
       "      <td>9</td>\n",
       "    </tr>\n",
       "    <tr>\n",
       "      <th>3</th>\n",
       "      <td>10</td>\n",
       "      <td>11</td>\n",
       "      <td>12</td>\n",
       "    </tr>\n",
       "  </tbody>\n",
       "</table>\n",
       "</div>"
      ],
      "text/plain": [
       "      0    1      2\n",
       "0   one  two  three\n",
       "1  four    5      6\n",
       "2     7    8      9\n",
       "3    10   11     12"
      ]
     },
     "execution_count": 86,
     "metadata": {},
     "output_type": "execute_result"
    }
   ],
   "source": [
    "df = all_df.replace([1,2,3,4],['one','two','three','four'])\n",
    "df"
   ]
  },
  {
   "cell_type": "markdown",
   "metadata": {
    "id": "G9nM6mQ8h9T3"
   },
   "source": [
    "### 2.2.7\n",
    "*  [1, 2, 3, 4, 5, 6, 7, 8, 9, 10]\n",
    "*  [10, 9, 8, 7, 6, 5, 4, 3, 2, 1]\n",
    "\n",
    "위 두 리스트를 series로 변환하고 ***원소별로 더한 값을 새로운 series로 만들어*** 출력하시오. (진한 글씨로 나타낸 부분은 한 줄로 작성)"
   ]
  },
  {
   "cell_type": "code",
   "execution_count": null,
   "metadata": {
    "id": "w4wWWipmiPVq"
   },
   "outputs": [],
   "source": [
    "# 실행하지 마시오.\n",
    "s1 = [1,2,3]\n",
    "s2 = [3,2,1]"
   ]
  },
  {
   "cell_type": "code",
   "execution_count": null,
   "metadata": {},
   "outputs": [],
   "source": [
    "# 문제 자체를 이해하지 못해서 패스"
   ]
  },
  {
   "cell_type": "markdown",
   "metadata": {
    "id": "VJHFNzuliwXy"
   },
   "source": [
    "### 2.2.8 numpy의 함수를 이용하여 아래와 같은 출력을 만드시오."
   ]
  },
  {
   "cell_type": "code",
   "execution_count": null,
   "metadata": {
    "id": "tjzgOTrljrUb"
   },
   "outputs": [],
   "source": [
    "# 예시\n",
    "# 2000-01-01     1.0\n",
    "# 2000-01-03    10.0\n",
    "# 2000-01-05     3.0\n",
    "# 2000-01-07     NaN"
   ]
  },
  {
   "cell_type": "code",
   "execution_count": 96,
   "metadata": {},
   "outputs": [],
   "source": [
    "new_df = pd.DataFrame(\n",
    "    data = {'Date' : ['2000-01-01', '2000-01-03', '2000-01-05', '2000-01-07'],\n",
    "            'Float' : [1.0, 10.0, 3.0, 'NaN']})"
   ]
  },
  {
   "cell_type": "code",
   "execution_count": 97,
   "metadata": {},
   "outputs": [
    {
     "data": {
      "text/html": [
       "<div>\n",
       "<style scoped>\n",
       "    .dataframe tbody tr th:only-of-type {\n",
       "        vertical-align: middle;\n",
       "    }\n",
       "\n",
       "    .dataframe tbody tr th {\n",
       "        vertical-align: top;\n",
       "    }\n",
       "\n",
       "    .dataframe thead th {\n",
       "        text-align: right;\n",
       "    }\n",
       "</style>\n",
       "<table border=\"1\" class=\"dataframe\">\n",
       "  <thead>\n",
       "    <tr style=\"text-align: right;\">\n",
       "      <th></th>\n",
       "      <th>Date</th>\n",
       "      <th>Float</th>\n",
       "    </tr>\n",
       "  </thead>\n",
       "  <tbody>\n",
       "    <tr>\n",
       "      <th>0</th>\n",
       "      <td>2000-01-01</td>\n",
       "      <td>1.0</td>\n",
       "    </tr>\n",
       "    <tr>\n",
       "      <th>1</th>\n",
       "      <td>2000-01-03</td>\n",
       "      <td>10.0</td>\n",
       "    </tr>\n",
       "    <tr>\n",
       "      <th>2</th>\n",
       "      <td>2000-01-05</td>\n",
       "      <td>3.0</td>\n",
       "    </tr>\n",
       "    <tr>\n",
       "      <th>3</th>\n",
       "      <td>2000-01-07</td>\n",
       "      <td>NaN</td>\n",
       "    </tr>\n",
       "  </tbody>\n",
       "</table>\n",
       "</div>"
      ],
      "text/plain": [
       "         Date Float\n",
       "0  2000-01-01   1.0\n",
       "1  2000-01-03  10.0\n",
       "2  2000-01-05   3.0\n",
       "3  2000-01-07   NaN"
      ]
     },
     "execution_count": 97,
     "metadata": {},
     "output_type": "execute_result"
    }
   ],
   "source": [
    "new_df"
   ]
  },
  {
   "cell_type": "markdown",
   "metadata": {
    "id": "bPe0FrnYk3l5"
   },
   "source": [
    "## 2.3"
   ]
  },
  {
   "cell_type": "markdown",
   "metadata": {
    "id": "NUGmuVVBkKp-"
   },
   "source": [
    "### 2.3.1 아래 path에 해당하는 경로의 csv 파일을 읽고 그 내용을 cars93 이라는 변수로 저장한 뒤 출력하시오."
   ]
  },
  {
   "cell_type": "markdown",
   "metadata": {
    "id": "rXAdW_aSlpCU"
   },
   "source": [
    "**cars93 변수의 내용을 변경하지 마시오.**"
   ]
  },
  {
   "cell_type": "code",
   "execution_count": 98,
   "metadata": {
    "id": "-Qdi-VHgkVfQ"
   },
   "outputs": [],
   "source": [
    "# 해당 셀을 실행하되 수정하지 마세요.\n",
    "path = 'https://raw.githubusercontent.com/selva86/datasets/master/Cars93_miss.csv'"
   ]
  },
  {
   "cell_type": "code",
   "execution_count": 101,
   "metadata": {
    "id": "JSofka2vky26"
   },
   "outputs": [],
   "source": [
    "cars93 = pd.read_csv('https://raw.githubusercontent.com/selva86/datasets/master/Cars93_miss.csv')"
   ]
  },
  {
   "cell_type": "code",
   "execution_count": 102,
   "metadata": {},
   "outputs": [
    {
     "data": {
      "text/html": [
       "<div>\n",
       "<style scoped>\n",
       "    .dataframe tbody tr th:only-of-type {\n",
       "        vertical-align: middle;\n",
       "    }\n",
       "\n",
       "    .dataframe tbody tr th {\n",
       "        vertical-align: top;\n",
       "    }\n",
       "\n",
       "    .dataframe thead th {\n",
       "        text-align: right;\n",
       "    }\n",
       "</style>\n",
       "<table border=\"1\" class=\"dataframe\">\n",
       "  <thead>\n",
       "    <tr style=\"text-align: right;\">\n",
       "      <th></th>\n",
       "      <th>Manufacturer</th>\n",
       "      <th>Model</th>\n",
       "      <th>Type</th>\n",
       "      <th>Min.Price</th>\n",
       "      <th>Price</th>\n",
       "      <th>Max.Price</th>\n",
       "      <th>MPG.city</th>\n",
       "      <th>MPG.highway</th>\n",
       "      <th>AirBags</th>\n",
       "      <th>DriveTrain</th>\n",
       "      <th>...</th>\n",
       "      <th>Passengers</th>\n",
       "      <th>Length</th>\n",
       "      <th>Wheelbase</th>\n",
       "      <th>Width</th>\n",
       "      <th>Turn.circle</th>\n",
       "      <th>Rear.seat.room</th>\n",
       "      <th>Luggage.room</th>\n",
       "      <th>Weight</th>\n",
       "      <th>Origin</th>\n",
       "      <th>Make</th>\n",
       "    </tr>\n",
       "  </thead>\n",
       "  <tbody>\n",
       "    <tr>\n",
       "      <th>0</th>\n",
       "      <td>Acura</td>\n",
       "      <td>Integra</td>\n",
       "      <td>Small</td>\n",
       "      <td>12.9</td>\n",
       "      <td>15.9</td>\n",
       "      <td>18.8</td>\n",
       "      <td>25.0</td>\n",
       "      <td>31.0</td>\n",
       "      <td>NaN</td>\n",
       "      <td>Front</td>\n",
       "      <td>...</td>\n",
       "      <td>5.0</td>\n",
       "      <td>177.0</td>\n",
       "      <td>102.0</td>\n",
       "      <td>68.0</td>\n",
       "      <td>37.0</td>\n",
       "      <td>26.5</td>\n",
       "      <td>NaN</td>\n",
       "      <td>2705.0</td>\n",
       "      <td>non-USA</td>\n",
       "      <td>Acura Integra</td>\n",
       "    </tr>\n",
       "    <tr>\n",
       "      <th>1</th>\n",
       "      <td>NaN</td>\n",
       "      <td>Legend</td>\n",
       "      <td>Midsize</td>\n",
       "      <td>29.2</td>\n",
       "      <td>33.9</td>\n",
       "      <td>38.7</td>\n",
       "      <td>18.0</td>\n",
       "      <td>25.0</td>\n",
       "      <td>Driver &amp; Passenger</td>\n",
       "      <td>Front</td>\n",
       "      <td>...</td>\n",
       "      <td>5.0</td>\n",
       "      <td>195.0</td>\n",
       "      <td>115.0</td>\n",
       "      <td>71.0</td>\n",
       "      <td>38.0</td>\n",
       "      <td>30.0</td>\n",
       "      <td>15.0</td>\n",
       "      <td>3560.0</td>\n",
       "      <td>non-USA</td>\n",
       "      <td>Acura Legend</td>\n",
       "    </tr>\n",
       "    <tr>\n",
       "      <th>2</th>\n",
       "      <td>Audi</td>\n",
       "      <td>90</td>\n",
       "      <td>Compact</td>\n",
       "      <td>25.9</td>\n",
       "      <td>29.1</td>\n",
       "      <td>32.3</td>\n",
       "      <td>20.0</td>\n",
       "      <td>26.0</td>\n",
       "      <td>Driver only</td>\n",
       "      <td>Front</td>\n",
       "      <td>...</td>\n",
       "      <td>5.0</td>\n",
       "      <td>180.0</td>\n",
       "      <td>102.0</td>\n",
       "      <td>67.0</td>\n",
       "      <td>37.0</td>\n",
       "      <td>28.0</td>\n",
       "      <td>14.0</td>\n",
       "      <td>3375.0</td>\n",
       "      <td>non-USA</td>\n",
       "      <td>Audi 90</td>\n",
       "    </tr>\n",
       "    <tr>\n",
       "      <th>3</th>\n",
       "      <td>Audi</td>\n",
       "      <td>100</td>\n",
       "      <td>Midsize</td>\n",
       "      <td>NaN</td>\n",
       "      <td>37.7</td>\n",
       "      <td>44.6</td>\n",
       "      <td>19.0</td>\n",
       "      <td>26.0</td>\n",
       "      <td>Driver &amp; Passenger</td>\n",
       "      <td>NaN</td>\n",
       "      <td>...</td>\n",
       "      <td>6.0</td>\n",
       "      <td>193.0</td>\n",
       "      <td>106.0</td>\n",
       "      <td>NaN</td>\n",
       "      <td>37.0</td>\n",
       "      <td>31.0</td>\n",
       "      <td>17.0</td>\n",
       "      <td>3405.0</td>\n",
       "      <td>non-USA</td>\n",
       "      <td>Audi 100</td>\n",
       "    </tr>\n",
       "    <tr>\n",
       "      <th>4</th>\n",
       "      <td>BMW</td>\n",
       "      <td>535i</td>\n",
       "      <td>Midsize</td>\n",
       "      <td>NaN</td>\n",
       "      <td>30.0</td>\n",
       "      <td>NaN</td>\n",
       "      <td>22.0</td>\n",
       "      <td>30.0</td>\n",
       "      <td>NaN</td>\n",
       "      <td>Rear</td>\n",
       "      <td>...</td>\n",
       "      <td>4.0</td>\n",
       "      <td>186.0</td>\n",
       "      <td>109.0</td>\n",
       "      <td>69.0</td>\n",
       "      <td>39.0</td>\n",
       "      <td>27.0</td>\n",
       "      <td>13.0</td>\n",
       "      <td>3640.0</td>\n",
       "      <td>non-USA</td>\n",
       "      <td>BMW 535i</td>\n",
       "    </tr>\n",
       "  </tbody>\n",
       "</table>\n",
       "<p>5 rows × 27 columns</p>\n",
       "</div>"
      ],
      "text/plain": [
       "  Manufacturer    Model     Type  Min.Price  Price  Max.Price  MPG.city  \\\n",
       "0        Acura  Integra    Small       12.9   15.9       18.8      25.0   \n",
       "1          NaN   Legend  Midsize       29.2   33.9       38.7      18.0   \n",
       "2         Audi       90  Compact       25.9   29.1       32.3      20.0   \n",
       "3         Audi      100  Midsize        NaN   37.7       44.6      19.0   \n",
       "4          BMW     535i  Midsize        NaN   30.0        NaN      22.0   \n",
       "\n",
       "   MPG.highway             AirBags DriveTrain  ... Passengers  Length  \\\n",
       "0         31.0                 NaN      Front  ...        5.0   177.0   \n",
       "1         25.0  Driver & Passenger      Front  ...        5.0   195.0   \n",
       "2         26.0         Driver only      Front  ...        5.0   180.0   \n",
       "3         26.0  Driver & Passenger        NaN  ...        6.0   193.0   \n",
       "4         30.0                 NaN       Rear  ...        4.0   186.0   \n",
       "\n",
       "   Wheelbase  Width  Turn.circle Rear.seat.room  Luggage.room  Weight  \\\n",
       "0      102.0   68.0         37.0           26.5           NaN  2705.0   \n",
       "1      115.0   71.0         38.0           30.0          15.0  3560.0   \n",
       "2      102.0   67.0         37.0           28.0          14.0  3375.0   \n",
       "3      106.0    NaN         37.0           31.0          17.0  3405.0   \n",
       "4      109.0   69.0         39.0           27.0          13.0  3640.0   \n",
       "\n",
       "    Origin           Make  \n",
       "0  non-USA  Acura Integra  \n",
       "1  non-USA   Acura Legend  \n",
       "2  non-USA        Audi 90  \n",
       "3  non-USA       Audi 100  \n",
       "4  non-USA       BMW 535i  \n",
       "\n",
       "[5 rows x 27 columns]"
      ]
     },
     "execution_count": 102,
     "metadata": {},
     "output_type": "execute_result"
    }
   ],
   "source": [
    "cars93.head()"
   ]
  },
  {
   "cell_type": "markdown",
   "metadata": {
    "id": "164qXzTnk1qn"
   },
   "source": [
    "### 2.3.2 위에서 cars93 데이터의 요약을 출력하시오."
   ]
  },
  {
   "cell_type": "code",
   "execution_count": 105,
   "metadata": {
    "id": "NVCdRdHulDkx"
   },
   "outputs": [
    {
     "data": {
      "text/html": [
       "<div>\n",
       "<style scoped>\n",
       "    .dataframe tbody tr th:only-of-type {\n",
       "        vertical-align: middle;\n",
       "    }\n",
       "\n",
       "    .dataframe tbody tr th {\n",
       "        vertical-align: top;\n",
       "    }\n",
       "\n",
       "    .dataframe thead th {\n",
       "        text-align: right;\n",
       "    }\n",
       "</style>\n",
       "<table border=\"1\" class=\"dataframe\">\n",
       "  <thead>\n",
       "    <tr style=\"text-align: right;\">\n",
       "      <th></th>\n",
       "      <th>Min.Price</th>\n",
       "      <th>Price</th>\n",
       "      <th>Max.Price</th>\n",
       "      <th>MPG.city</th>\n",
       "      <th>MPG.highway</th>\n",
       "      <th>EngineSize</th>\n",
       "      <th>Horsepower</th>\n",
       "      <th>RPM</th>\n",
       "      <th>Rev.per.mile</th>\n",
       "      <th>Fuel.tank.capacity</th>\n",
       "      <th>Passengers</th>\n",
       "      <th>Length</th>\n",
       "      <th>Wheelbase</th>\n",
       "      <th>Width</th>\n",
       "      <th>Turn.circle</th>\n",
       "      <th>Rear.seat.room</th>\n",
       "      <th>Luggage.room</th>\n",
       "      <th>Weight</th>\n",
       "    </tr>\n",
       "  </thead>\n",
       "  <tbody>\n",
       "    <tr>\n",
       "      <th>count</th>\n",
       "      <td>86.000000</td>\n",
       "      <td>91.000000</td>\n",
       "      <td>88.000000</td>\n",
       "      <td>84.000000</td>\n",
       "      <td>91.000000</td>\n",
       "      <td>91.000000</td>\n",
       "      <td>86.000000</td>\n",
       "      <td>90.000000</td>\n",
       "      <td>87.000000</td>\n",
       "      <td>85.000000</td>\n",
       "      <td>91.000000</td>\n",
       "      <td>89.000000</td>\n",
       "      <td>92.000000</td>\n",
       "      <td>87.000000</td>\n",
       "      <td>88.000000</td>\n",
       "      <td>89.000000</td>\n",
       "      <td>74.000000</td>\n",
       "      <td>86.000000</td>\n",
       "    </tr>\n",
       "    <tr>\n",
       "      <th>mean</th>\n",
       "      <td>17.118605</td>\n",
       "      <td>19.616484</td>\n",
       "      <td>21.459091</td>\n",
       "      <td>22.404762</td>\n",
       "      <td>29.065934</td>\n",
       "      <td>2.658242</td>\n",
       "      <td>144.000000</td>\n",
       "      <td>5276.666667</td>\n",
       "      <td>2355.000000</td>\n",
       "      <td>16.683529</td>\n",
       "      <td>5.076923</td>\n",
       "      <td>182.865169</td>\n",
       "      <td>103.956522</td>\n",
       "      <td>69.448276</td>\n",
       "      <td>38.954545</td>\n",
       "      <td>27.853933</td>\n",
       "      <td>13.986486</td>\n",
       "      <td>3104.593023</td>\n",
       "    </tr>\n",
       "    <tr>\n",
       "      <th>std</th>\n",
       "      <td>8.828290</td>\n",
       "      <td>9.724280</td>\n",
       "      <td>10.696563</td>\n",
       "      <td>5.841520</td>\n",
       "      <td>5.370293</td>\n",
       "      <td>1.045845</td>\n",
       "      <td>53.455204</td>\n",
       "      <td>605.554811</td>\n",
       "      <td>486.916616</td>\n",
       "      <td>3.375748</td>\n",
       "      <td>1.045953</td>\n",
       "      <td>14.792651</td>\n",
       "      <td>6.856317</td>\n",
       "      <td>3.778023</td>\n",
       "      <td>3.304157</td>\n",
       "      <td>3.018129</td>\n",
       "      <td>3.120824</td>\n",
       "      <td>600.129993</td>\n",
       "    </tr>\n",
       "    <tr>\n",
       "      <th>min</th>\n",
       "      <td>6.700000</td>\n",
       "      <td>7.400000</td>\n",
       "      <td>7.900000</td>\n",
       "      <td>15.000000</td>\n",
       "      <td>20.000000</td>\n",
       "      <td>1.000000</td>\n",
       "      <td>55.000000</td>\n",
       "      <td>3800.000000</td>\n",
       "      <td>1320.000000</td>\n",
       "      <td>9.200000</td>\n",
       "      <td>2.000000</td>\n",
       "      <td>141.000000</td>\n",
       "      <td>90.000000</td>\n",
       "      <td>60.000000</td>\n",
       "      <td>32.000000</td>\n",
       "      <td>19.000000</td>\n",
       "      <td>6.000000</td>\n",
       "      <td>1695.000000</td>\n",
       "    </tr>\n",
       "    <tr>\n",
       "      <th>25%</th>\n",
       "      <td>10.825000</td>\n",
       "      <td>12.350000</td>\n",
       "      <td>14.575000</td>\n",
       "      <td>18.000000</td>\n",
       "      <td>26.000000</td>\n",
       "      <td>1.800000</td>\n",
       "      <td>100.750000</td>\n",
       "      <td>4800.000000</td>\n",
       "      <td>2017.500000</td>\n",
       "      <td>14.500000</td>\n",
       "      <td>4.000000</td>\n",
       "      <td>174.000000</td>\n",
       "      <td>98.000000</td>\n",
       "      <td>67.000000</td>\n",
       "      <td>36.000000</td>\n",
       "      <td>26.000000</td>\n",
       "      <td>12.000000</td>\n",
       "      <td>2647.500000</td>\n",
       "    </tr>\n",
       "    <tr>\n",
       "      <th>50%</th>\n",
       "      <td>14.600000</td>\n",
       "      <td>17.700000</td>\n",
       "      <td>19.150000</td>\n",
       "      <td>21.000000</td>\n",
       "      <td>28.000000</td>\n",
       "      <td>2.300000</td>\n",
       "      <td>140.000000</td>\n",
       "      <td>5200.000000</td>\n",
       "      <td>2360.000000</td>\n",
       "      <td>16.500000</td>\n",
       "      <td>5.000000</td>\n",
       "      <td>181.000000</td>\n",
       "      <td>103.000000</td>\n",
       "      <td>69.000000</td>\n",
       "      <td>39.000000</td>\n",
       "      <td>27.500000</td>\n",
       "      <td>14.000000</td>\n",
       "      <td>3085.000000</td>\n",
       "    </tr>\n",
       "    <tr>\n",
       "      <th>75%</th>\n",
       "      <td>20.250000</td>\n",
       "      <td>23.500000</td>\n",
       "      <td>24.825000</td>\n",
       "      <td>25.000000</td>\n",
       "      <td>31.000000</td>\n",
       "      <td>3.250000</td>\n",
       "      <td>170.000000</td>\n",
       "      <td>5787.500000</td>\n",
       "      <td>2565.000000</td>\n",
       "      <td>19.000000</td>\n",
       "      <td>6.000000</td>\n",
       "      <td>192.000000</td>\n",
       "      <td>110.000000</td>\n",
       "      <td>72.000000</td>\n",
       "      <td>42.000000</td>\n",
       "      <td>30.000000</td>\n",
       "      <td>16.000000</td>\n",
       "      <td>3567.500000</td>\n",
       "    </tr>\n",
       "    <tr>\n",
       "      <th>max</th>\n",
       "      <td>45.400000</td>\n",
       "      <td>61.900000</td>\n",
       "      <td>80.000000</td>\n",
       "      <td>46.000000</td>\n",
       "      <td>50.000000</td>\n",
       "      <td>5.700000</td>\n",
       "      <td>300.000000</td>\n",
       "      <td>6500.000000</td>\n",
       "      <td>3755.000000</td>\n",
       "      <td>27.000000</td>\n",
       "      <td>8.000000</td>\n",
       "      <td>219.000000</td>\n",
       "      <td>119.000000</td>\n",
       "      <td>78.000000</td>\n",
       "      <td>45.000000</td>\n",
       "      <td>36.000000</td>\n",
       "      <td>22.000000</td>\n",
       "      <td>4105.000000</td>\n",
       "    </tr>\n",
       "  </tbody>\n",
       "</table>\n",
       "</div>"
      ],
      "text/plain": [
       "       Min.Price      Price  Max.Price   MPG.city  MPG.highway  EngineSize  \\\n",
       "count  86.000000  91.000000  88.000000  84.000000    91.000000   91.000000   \n",
       "mean   17.118605  19.616484  21.459091  22.404762    29.065934    2.658242   \n",
       "std     8.828290   9.724280  10.696563   5.841520     5.370293    1.045845   \n",
       "min     6.700000   7.400000   7.900000  15.000000    20.000000    1.000000   \n",
       "25%    10.825000  12.350000  14.575000  18.000000    26.000000    1.800000   \n",
       "50%    14.600000  17.700000  19.150000  21.000000    28.000000    2.300000   \n",
       "75%    20.250000  23.500000  24.825000  25.000000    31.000000    3.250000   \n",
       "max    45.400000  61.900000  80.000000  46.000000    50.000000    5.700000   \n",
       "\n",
       "       Horsepower          RPM  Rev.per.mile  Fuel.tank.capacity  Passengers  \\\n",
       "count   86.000000    90.000000     87.000000           85.000000   91.000000   \n",
       "mean   144.000000  5276.666667   2355.000000           16.683529    5.076923   \n",
       "std     53.455204   605.554811    486.916616            3.375748    1.045953   \n",
       "min     55.000000  3800.000000   1320.000000            9.200000    2.000000   \n",
       "25%    100.750000  4800.000000   2017.500000           14.500000    4.000000   \n",
       "50%    140.000000  5200.000000   2360.000000           16.500000    5.000000   \n",
       "75%    170.000000  5787.500000   2565.000000           19.000000    6.000000   \n",
       "max    300.000000  6500.000000   3755.000000           27.000000    8.000000   \n",
       "\n",
       "           Length   Wheelbase      Width  Turn.circle  Rear.seat.room  \\\n",
       "count   89.000000   92.000000  87.000000    88.000000       89.000000   \n",
       "mean   182.865169  103.956522  69.448276    38.954545       27.853933   \n",
       "std     14.792651    6.856317   3.778023     3.304157        3.018129   \n",
       "min    141.000000   90.000000  60.000000    32.000000       19.000000   \n",
       "25%    174.000000   98.000000  67.000000    36.000000       26.000000   \n",
       "50%    181.000000  103.000000  69.000000    39.000000       27.500000   \n",
       "75%    192.000000  110.000000  72.000000    42.000000       30.000000   \n",
       "max    219.000000  119.000000  78.000000    45.000000       36.000000   \n",
       "\n",
       "       Luggage.room       Weight  \n",
       "count     74.000000    86.000000  \n",
       "mean      13.986486  3104.593023  \n",
       "std        3.120824   600.129993  \n",
       "min        6.000000  1695.000000  \n",
       "25%       12.000000  2647.500000  \n",
       "50%       14.000000  3085.000000  \n",
       "75%       16.000000  3567.500000  \n",
       "max       22.000000  4105.000000  "
      ]
     },
     "execution_count": 105,
     "metadata": {},
     "output_type": "execute_result"
    }
   ],
   "source": [
    "cars93.describe()"
   ]
  },
  {
   "cell_type": "markdown",
   "metadata": {
    "id": "HAr9zWIUlD9U"
   },
   "source": [
    "### 2.3.3 cars93에서 price가 가장 높은 제품의 manufacturer을 출력하시오."
   ]
  },
  {
   "cell_type": "code",
   "execution_count": 114,
   "metadata": {
    "id": "NZzvFXUhmCrK"
   },
   "outputs": [],
   "source": [
    "highest_price = cars93[cars93['Price'] == 61.9]"
   ]
  },
  {
   "cell_type": "code",
   "execution_count": 115,
   "metadata": {},
   "outputs": [
    {
     "data": {
      "text/html": [
       "<div>\n",
       "<style scoped>\n",
       "    .dataframe tbody tr th:only-of-type {\n",
       "        vertical-align: middle;\n",
       "    }\n",
       "\n",
       "    .dataframe tbody tr th {\n",
       "        vertical-align: top;\n",
       "    }\n",
       "\n",
       "    .dataframe thead th {\n",
       "        text-align: right;\n",
       "    }\n",
       "</style>\n",
       "<table border=\"1\" class=\"dataframe\">\n",
       "  <thead>\n",
       "    <tr style=\"text-align: right;\">\n",
       "      <th></th>\n",
       "      <th>Manufacturer</th>\n",
       "      <th>Model</th>\n",
       "      <th>Type</th>\n",
       "      <th>Min.Price</th>\n",
       "      <th>Price</th>\n",
       "      <th>Max.Price</th>\n",
       "      <th>MPG.city</th>\n",
       "      <th>MPG.highway</th>\n",
       "      <th>AirBags</th>\n",
       "      <th>DriveTrain</th>\n",
       "      <th>...</th>\n",
       "      <th>Passengers</th>\n",
       "      <th>Length</th>\n",
       "      <th>Wheelbase</th>\n",
       "      <th>Width</th>\n",
       "      <th>Turn.circle</th>\n",
       "      <th>Rear.seat.room</th>\n",
       "      <th>Luggage.room</th>\n",
       "      <th>Weight</th>\n",
       "      <th>Origin</th>\n",
       "      <th>Make</th>\n",
       "    </tr>\n",
       "  </thead>\n",
       "  <tbody>\n",
       "    <tr>\n",
       "      <th>58</th>\n",
       "      <td>Mercedes-Benz</td>\n",
       "      <td>300E</td>\n",
       "      <td>Midsize</td>\n",
       "      <td>43.8</td>\n",
       "      <td>61.9</td>\n",
       "      <td>80.0</td>\n",
       "      <td>19.0</td>\n",
       "      <td>25.0</td>\n",
       "      <td>Driver &amp; Passenger</td>\n",
       "      <td>Rear</td>\n",
       "      <td>...</td>\n",
       "      <td>5.0</td>\n",
       "      <td>NaN</td>\n",
       "      <td>110.0</td>\n",
       "      <td>69.0</td>\n",
       "      <td>37.0</td>\n",
       "      <td>NaN</td>\n",
       "      <td>15.0</td>\n",
       "      <td>3525.0</td>\n",
       "      <td>non-USA</td>\n",
       "      <td>Mercedes-Benz 300E</td>\n",
       "    </tr>\n",
       "  </tbody>\n",
       "</table>\n",
       "<p>1 rows × 27 columns</p>\n",
       "</div>"
      ],
      "text/plain": [
       "     Manufacturer Model     Type  Min.Price  Price  Max.Price  MPG.city  \\\n",
       "58  Mercedes-Benz  300E  Midsize       43.8   61.9       80.0      19.0   \n",
       "\n",
       "    MPG.highway             AirBags DriveTrain  ... Passengers  Length  \\\n",
       "58         25.0  Driver & Passenger       Rear  ...        5.0     NaN   \n",
       "\n",
       "    Wheelbase  Width  Turn.circle Rear.seat.room  Luggage.room  Weight  \\\n",
       "58      110.0   69.0         37.0            NaN          15.0  3525.0   \n",
       "\n",
       "     Origin                Make  \n",
       "58  non-USA  Mercedes-Benz 300E  \n",
       "\n",
       "[1 rows x 27 columns]"
      ]
     },
     "execution_count": 115,
     "metadata": {},
     "output_type": "execute_result"
    }
   ],
   "source": [
    "highest_price"
   ]
  },
  {
   "cell_type": "markdown",
   "metadata": {
    "id": "BvLtRyUymCX0"
   },
   "source": [
    "### 2.3.4 cars93에서 'Type'열의 이름을 'CarType'으로 바꾸고 Renamed라는 이름의 변수에 저장한 뒤 출력하시오."
   ]
  },
  {
   "cell_type": "code",
   "execution_count": 155,
   "metadata": {
    "id": "GjnChGMQmfk8"
   },
   "outputs": [],
   "source": [
    "Renamed = cars93.rename(columns={'Type' : 'CarType'})"
   ]
  },
  {
   "cell_type": "markdown",
   "metadata": {
    "id": "26wKgIIamgBf"
   },
   "source": [
    "### 2.3.5 Renamed의 모든 열의 내용중 '.'을 '_'으로 바꾼뒤 Renamed를 출력하시오. (반복문 외의 다른 방법을 사용하시오)\n",
    "\n",
    "**예시**\n",
    "\n",
    "* Min.Price -> Min_Price\n",
    "* MPG.city -> MPG_city"
   ]
  },
  {
   "cell_type": "code",
   "execution_count": 154,
   "metadata": {},
   "outputs": [
    {
     "data": {
      "text/plain": [
       "Index(['Manufacturer', 'Model', 'CarType', 'Min.Price', 'Price', 'Max.Price',\n",
       "       'MPG.city', 'MPG.highway', 'AirBags', 'DriveTrain', 'Cylinders',\n",
       "       'EngineSize', 'Horsepower', 'RPM', 'Rev.per.mile', 'Man.trans.avail',\n",
       "       'Fuel.tank.capacity', 'Passengers', 'Length', 'Wheelbase', 'Width',\n",
       "       'Turn.circle', 'Rear.seat.room', 'Luggage.room', 'Weight', 'Origin',\n",
       "       'Make'],\n",
       "      dtype='object')"
      ]
     },
     "execution_count": 154,
     "metadata": {},
     "output_type": "execute_result"
    }
   ],
   "source": [
    "Renamed.columns"
   ]
  },
  {
   "cell_type": "code",
   "execution_count": 151,
   "metadata": {},
   "outputs": [
    {
     "data": {
      "text/html": [
       "<div>\n",
       "<style scoped>\n",
       "    .dataframe tbody tr th:only-of-type {\n",
       "        vertical-align: middle;\n",
       "    }\n",
       "\n",
       "    .dataframe tbody tr th {\n",
       "        vertical-align: top;\n",
       "    }\n",
       "\n",
       "    .dataframe thead th {\n",
       "        text-align: right;\n",
       "    }\n",
       "</style>\n",
       "<table border=\"1\" class=\"dataframe\">\n",
       "  <thead>\n",
       "    <tr style=\"text-align: right;\">\n",
       "      <th></th>\n",
       "      <th>Min.Price</th>\n",
       "      <th>Max.Price</th>\n",
       "      <th>MPG.city</th>\n",
       "      <th>MPG.highway</th>\n",
       "      <th>Rev.per.mile</th>\n",
       "      <th>Man.trans.avail</th>\n",
       "      <th>Fuel.tank.capacity</th>\n",
       "      <th>Turn.circle</th>\n",
       "      <th>Rear.seat.room</th>\n",
       "      <th>Luggage.room</th>\n",
       "    </tr>\n",
       "  </thead>\n",
       "  <tbody>\n",
       "    <tr>\n",
       "      <th>0</th>\n",
       "      <td>12.9</td>\n",
       "      <td>18.8</td>\n",
       "      <td>25.0</td>\n",
       "      <td>31.0</td>\n",
       "      <td>2890.0</td>\n",
       "      <td>Yes</td>\n",
       "      <td>13.2</td>\n",
       "      <td>37.0</td>\n",
       "      <td>26.5</td>\n",
       "      <td>NaN</td>\n",
       "    </tr>\n",
       "    <tr>\n",
       "      <th>1</th>\n",
       "      <td>29.2</td>\n",
       "      <td>38.7</td>\n",
       "      <td>18.0</td>\n",
       "      <td>25.0</td>\n",
       "      <td>2335.0</td>\n",
       "      <td>Yes</td>\n",
       "      <td>18.0</td>\n",
       "      <td>38.0</td>\n",
       "      <td>30.0</td>\n",
       "      <td>15.0</td>\n",
       "    </tr>\n",
       "    <tr>\n",
       "      <th>2</th>\n",
       "      <td>25.9</td>\n",
       "      <td>32.3</td>\n",
       "      <td>20.0</td>\n",
       "      <td>26.0</td>\n",
       "      <td>2280.0</td>\n",
       "      <td>Yes</td>\n",
       "      <td>16.9</td>\n",
       "      <td>37.0</td>\n",
       "      <td>28.0</td>\n",
       "      <td>14.0</td>\n",
       "    </tr>\n",
       "    <tr>\n",
       "      <th>3</th>\n",
       "      <td>NaN</td>\n",
       "      <td>44.6</td>\n",
       "      <td>19.0</td>\n",
       "      <td>26.0</td>\n",
       "      <td>2535.0</td>\n",
       "      <td>NaN</td>\n",
       "      <td>21.1</td>\n",
       "      <td>37.0</td>\n",
       "      <td>31.0</td>\n",
       "      <td>17.0</td>\n",
       "    </tr>\n",
       "    <tr>\n",
       "      <th>4</th>\n",
       "      <td>NaN</td>\n",
       "      <td>NaN</td>\n",
       "      <td>22.0</td>\n",
       "      <td>30.0</td>\n",
       "      <td>2545.0</td>\n",
       "      <td>Yes</td>\n",
       "      <td>21.1</td>\n",
       "      <td>39.0</td>\n",
       "      <td>27.0</td>\n",
       "      <td>13.0</td>\n",
       "    </tr>\n",
       "    <tr>\n",
       "      <th>...</th>\n",
       "      <td>...</td>\n",
       "      <td>...</td>\n",
       "      <td>...</td>\n",
       "      <td>...</td>\n",
       "      <td>...</td>\n",
       "      <td>...</td>\n",
       "      <td>...</td>\n",
       "      <td>...</td>\n",
       "      <td>...</td>\n",
       "      <td>...</td>\n",
       "    </tr>\n",
       "    <tr>\n",
       "      <th>88</th>\n",
       "      <td>16.6</td>\n",
       "      <td>22.7</td>\n",
       "      <td>17.0</td>\n",
       "      <td>21.0</td>\n",
       "      <td>2915.0</td>\n",
       "      <td>Yes</td>\n",
       "      <td>21.1</td>\n",
       "      <td>38.0</td>\n",
       "      <td>34.0</td>\n",
       "      <td>NaN</td>\n",
       "    </tr>\n",
       "    <tr>\n",
       "      <th>89</th>\n",
       "      <td>17.6</td>\n",
       "      <td>22.4</td>\n",
       "      <td>21.0</td>\n",
       "      <td>30.0</td>\n",
       "      <td>2685.0</td>\n",
       "      <td>Yes</td>\n",
       "      <td>18.5</td>\n",
       "      <td>35.0</td>\n",
       "      <td>31.5</td>\n",
       "      <td>14.0</td>\n",
       "    </tr>\n",
       "    <tr>\n",
       "      <th>90</th>\n",
       "      <td>22.9</td>\n",
       "      <td>23.7</td>\n",
       "      <td>18.0</td>\n",
       "      <td>25.0</td>\n",
       "      <td>2385.0</td>\n",
       "      <td>Yes</td>\n",
       "      <td>18.5</td>\n",
       "      <td>36.0</td>\n",
       "      <td>26.0</td>\n",
       "      <td>15.0</td>\n",
       "    </tr>\n",
       "    <tr>\n",
       "      <th>91</th>\n",
       "      <td>21.8</td>\n",
       "      <td>23.5</td>\n",
       "      <td>21.0</td>\n",
       "      <td>28.0</td>\n",
       "      <td>2215.0</td>\n",
       "      <td>Yes</td>\n",
       "      <td>15.8</td>\n",
       "      <td>37.0</td>\n",
       "      <td>29.5</td>\n",
       "      <td>14.0</td>\n",
       "    </tr>\n",
       "    <tr>\n",
       "      <th>92</th>\n",
       "      <td>24.8</td>\n",
       "      <td>28.5</td>\n",
       "      <td>20.0</td>\n",
       "      <td>28.0</td>\n",
       "      <td>NaN</td>\n",
       "      <td>Yes</td>\n",
       "      <td>19.3</td>\n",
       "      <td>38.0</td>\n",
       "      <td>30.0</td>\n",
       "      <td>15.0</td>\n",
       "    </tr>\n",
       "  </tbody>\n",
       "</table>\n",
       "<p>93 rows × 10 columns</p>\n",
       "</div>"
      ],
      "text/plain": [
       "    Min.Price  Max.Price  MPG.city  MPG.highway  Rev.per.mile Man.trans.avail  \\\n",
       "0        12.9       18.8      25.0         31.0        2890.0             Yes   \n",
       "1        29.2       38.7      18.0         25.0        2335.0             Yes   \n",
       "2        25.9       32.3      20.0         26.0        2280.0             Yes   \n",
       "3         NaN       44.6      19.0         26.0        2535.0             NaN   \n",
       "4         NaN        NaN      22.0         30.0        2545.0             Yes   \n",
       "..        ...        ...       ...          ...           ...             ...   \n",
       "88       16.6       22.7      17.0         21.0        2915.0             Yes   \n",
       "89       17.6       22.4      21.0         30.0        2685.0             Yes   \n",
       "90       22.9       23.7      18.0         25.0        2385.0             Yes   \n",
       "91       21.8       23.5      21.0         28.0        2215.0             Yes   \n",
       "92       24.8       28.5      20.0         28.0           NaN             Yes   \n",
       "\n",
       "    Fuel.tank.capacity  Turn.circle  Rear.seat.room  Luggage.room  \n",
       "0                 13.2         37.0            26.5           NaN  \n",
       "1                 18.0         38.0            30.0          15.0  \n",
       "2                 16.9         37.0            28.0          14.0  \n",
       "3                 21.1         37.0            31.0          17.0  \n",
       "4                 21.1         39.0            27.0          13.0  \n",
       "..                 ...          ...             ...           ...  \n",
       "88                21.1         38.0            34.0           NaN  \n",
       "89                18.5         35.0            31.5          14.0  \n",
       "90                18.5         36.0            26.0          15.0  \n",
       "91                15.8         37.0            29.5          14.0  \n",
       "92                19.3         38.0            30.0          15.0  \n",
       "\n",
       "[93 rows x 10 columns]"
      ]
     },
     "execution_count": 151,
     "metadata": {},
     "output_type": "execute_result"
    }
   ],
   "source": [
    "Renamed.filter(regex = r'\\.')"
   ]
  },
  {
   "cell_type": "code",
   "execution_count": 156,
   "metadata": {},
   "outputs": [
    {
     "data": {
      "text/plain": [
       "Index(['Manufacturer', 'Model', 'CarType', 'Min_Price', 'Price', 'Max_Price',\n",
       "       'MPG_city', 'MPG_highway', 'AirBags', 'DriveTrain', 'Cylinders',\n",
       "       'EngineSize', 'Horsepower', 'RPM', 'Rev_per_mile', 'Man_trans_avail',\n",
       "       'Fuel_tank_capacity', 'Passengers', 'Length', 'Wheelbase', 'Width',\n",
       "       'Turn_circle', 'Rear_seat_room', 'Luggage_room', 'Weight', 'Origin',\n",
       "       'Make'],\n",
       "      dtype='object')"
      ]
     },
     "execution_count": 156,
     "metadata": {},
     "output_type": "execute_result"
    }
   ],
   "source": [
    "Renamed2 = Renamed.columns.str.replace(r'\\.', '_', regex = True)\n",
    "Renamed2"
   ]
  },
  {
   "cell_type": "markdown",
   "metadata": {
    "id": "yV_qYcL2nXSL"
   },
   "source": [
    "### 2.3.6 아래 missing_path는 결측치가 데이터로 해당 경로의 csv 파일을 열어 결측치를 확인하고 그 개수를 출력하시오."
   ]
  },
  {
   "cell_type": "code",
   "execution_count": 157,
   "metadata": {
    "id": "NJOCfjLOoJ5X"
   },
   "outputs": [],
   "source": [
    "# 해당 셀을 실행하되 수정하지 마세요.\n",
    "missing_path = 'https://raw.githubusercontent.com/selva86/datasets/master/Cars93_miss.csv'"
   ]
  },
  {
   "cell_type": "code",
   "execution_count": 162,
   "metadata": {},
   "outputs": [],
   "source": [
    "missing_path = pd.read_csv('https://raw.githubusercontent.com/selva86/datasets/master/Cars93_miss.csv')"
   ]
  },
  {
   "cell_type": "code",
   "execution_count": 163,
   "metadata": {},
   "outputs": [
    {
     "data": {
      "text/html": [
       "<div>\n",
       "<style scoped>\n",
       "    .dataframe tbody tr th:only-of-type {\n",
       "        vertical-align: middle;\n",
       "    }\n",
       "\n",
       "    .dataframe tbody tr th {\n",
       "        vertical-align: top;\n",
       "    }\n",
       "\n",
       "    .dataframe thead th {\n",
       "        text-align: right;\n",
       "    }\n",
       "</style>\n",
       "<table border=\"1\" class=\"dataframe\">\n",
       "  <thead>\n",
       "    <tr style=\"text-align: right;\">\n",
       "      <th></th>\n",
       "      <th>Manufacturer</th>\n",
       "      <th>Model</th>\n",
       "      <th>Type</th>\n",
       "      <th>Min.Price</th>\n",
       "      <th>Price</th>\n",
       "      <th>Max.Price</th>\n",
       "      <th>MPG.city</th>\n",
       "      <th>MPG.highway</th>\n",
       "      <th>AirBags</th>\n",
       "      <th>DriveTrain</th>\n",
       "      <th>...</th>\n",
       "      <th>Passengers</th>\n",
       "      <th>Length</th>\n",
       "      <th>Wheelbase</th>\n",
       "      <th>Width</th>\n",
       "      <th>Turn.circle</th>\n",
       "      <th>Rear.seat.room</th>\n",
       "      <th>Luggage.room</th>\n",
       "      <th>Weight</th>\n",
       "      <th>Origin</th>\n",
       "      <th>Make</th>\n",
       "    </tr>\n",
       "  </thead>\n",
       "  <tbody>\n",
       "    <tr>\n",
       "      <th>0</th>\n",
       "      <td>Acura</td>\n",
       "      <td>Integra</td>\n",
       "      <td>Small</td>\n",
       "      <td>12.9</td>\n",
       "      <td>15.9</td>\n",
       "      <td>18.8</td>\n",
       "      <td>25.0</td>\n",
       "      <td>31.0</td>\n",
       "      <td>NaN</td>\n",
       "      <td>Front</td>\n",
       "      <td>...</td>\n",
       "      <td>5.0</td>\n",
       "      <td>177.0</td>\n",
       "      <td>102.0</td>\n",
       "      <td>68.0</td>\n",
       "      <td>37.0</td>\n",
       "      <td>26.5</td>\n",
       "      <td>NaN</td>\n",
       "      <td>2705.0</td>\n",
       "      <td>non-USA</td>\n",
       "      <td>Acura Integra</td>\n",
       "    </tr>\n",
       "    <tr>\n",
       "      <th>1</th>\n",
       "      <td>NaN</td>\n",
       "      <td>Legend</td>\n",
       "      <td>Midsize</td>\n",
       "      <td>29.2</td>\n",
       "      <td>33.9</td>\n",
       "      <td>38.7</td>\n",
       "      <td>18.0</td>\n",
       "      <td>25.0</td>\n",
       "      <td>Driver &amp; Passenger</td>\n",
       "      <td>Front</td>\n",
       "      <td>...</td>\n",
       "      <td>5.0</td>\n",
       "      <td>195.0</td>\n",
       "      <td>115.0</td>\n",
       "      <td>71.0</td>\n",
       "      <td>38.0</td>\n",
       "      <td>30.0</td>\n",
       "      <td>15.0</td>\n",
       "      <td>3560.0</td>\n",
       "      <td>non-USA</td>\n",
       "      <td>Acura Legend</td>\n",
       "    </tr>\n",
       "    <tr>\n",
       "      <th>2</th>\n",
       "      <td>Audi</td>\n",
       "      <td>90</td>\n",
       "      <td>Compact</td>\n",
       "      <td>25.9</td>\n",
       "      <td>29.1</td>\n",
       "      <td>32.3</td>\n",
       "      <td>20.0</td>\n",
       "      <td>26.0</td>\n",
       "      <td>Driver only</td>\n",
       "      <td>Front</td>\n",
       "      <td>...</td>\n",
       "      <td>5.0</td>\n",
       "      <td>180.0</td>\n",
       "      <td>102.0</td>\n",
       "      <td>67.0</td>\n",
       "      <td>37.0</td>\n",
       "      <td>28.0</td>\n",
       "      <td>14.0</td>\n",
       "      <td>3375.0</td>\n",
       "      <td>non-USA</td>\n",
       "      <td>Audi 90</td>\n",
       "    </tr>\n",
       "    <tr>\n",
       "      <th>3</th>\n",
       "      <td>Audi</td>\n",
       "      <td>100</td>\n",
       "      <td>Midsize</td>\n",
       "      <td>NaN</td>\n",
       "      <td>37.7</td>\n",
       "      <td>44.6</td>\n",
       "      <td>19.0</td>\n",
       "      <td>26.0</td>\n",
       "      <td>Driver &amp; Passenger</td>\n",
       "      <td>NaN</td>\n",
       "      <td>...</td>\n",
       "      <td>6.0</td>\n",
       "      <td>193.0</td>\n",
       "      <td>106.0</td>\n",
       "      <td>NaN</td>\n",
       "      <td>37.0</td>\n",
       "      <td>31.0</td>\n",
       "      <td>17.0</td>\n",
       "      <td>3405.0</td>\n",
       "      <td>non-USA</td>\n",
       "      <td>Audi 100</td>\n",
       "    </tr>\n",
       "    <tr>\n",
       "      <th>4</th>\n",
       "      <td>BMW</td>\n",
       "      <td>535i</td>\n",
       "      <td>Midsize</td>\n",
       "      <td>NaN</td>\n",
       "      <td>30.0</td>\n",
       "      <td>NaN</td>\n",
       "      <td>22.0</td>\n",
       "      <td>30.0</td>\n",
       "      <td>NaN</td>\n",
       "      <td>Rear</td>\n",
       "      <td>...</td>\n",
       "      <td>4.0</td>\n",
       "      <td>186.0</td>\n",
       "      <td>109.0</td>\n",
       "      <td>69.0</td>\n",
       "      <td>39.0</td>\n",
       "      <td>27.0</td>\n",
       "      <td>13.0</td>\n",
       "      <td>3640.0</td>\n",
       "      <td>non-USA</td>\n",
       "      <td>BMW 535i</td>\n",
       "    </tr>\n",
       "  </tbody>\n",
       "</table>\n",
       "<p>5 rows × 27 columns</p>\n",
       "</div>"
      ],
      "text/plain": [
       "  Manufacturer    Model     Type  Min.Price  Price  Max.Price  MPG.city  \\\n",
       "0        Acura  Integra    Small       12.9   15.9       18.8      25.0   \n",
       "1          NaN   Legend  Midsize       29.2   33.9       38.7      18.0   \n",
       "2         Audi       90  Compact       25.9   29.1       32.3      20.0   \n",
       "3         Audi      100  Midsize        NaN   37.7       44.6      19.0   \n",
       "4          BMW     535i  Midsize        NaN   30.0        NaN      22.0   \n",
       "\n",
       "   MPG.highway             AirBags DriveTrain  ... Passengers  Length  \\\n",
       "0         31.0                 NaN      Front  ...        5.0   177.0   \n",
       "1         25.0  Driver & Passenger      Front  ...        5.0   195.0   \n",
       "2         26.0         Driver only      Front  ...        5.0   180.0   \n",
       "3         26.0  Driver & Passenger        NaN  ...        6.0   193.0   \n",
       "4         30.0                 NaN       Rear  ...        4.0   186.0   \n",
       "\n",
       "   Wheelbase  Width  Turn.circle Rear.seat.room  Luggage.room  Weight  \\\n",
       "0      102.0   68.0         37.0           26.5           NaN  2705.0   \n",
       "1      115.0   71.0         38.0           30.0          15.0  3560.0   \n",
       "2      102.0   67.0         37.0           28.0          14.0  3375.0   \n",
       "3      106.0    NaN         37.0           31.0          17.0  3405.0   \n",
       "4      109.0   69.0         39.0           27.0          13.0  3640.0   \n",
       "\n",
       "    Origin           Make  \n",
       "0  non-USA  Acura Integra  \n",
       "1  non-USA   Acura Legend  \n",
       "2  non-USA        Audi 90  \n",
       "3  non-USA       Audi 100  \n",
       "4  non-USA       BMW 535i  \n",
       "\n",
       "[5 rows x 27 columns]"
      ]
     },
     "execution_count": 163,
     "metadata": {},
     "output_type": "execute_result"
    }
   ],
   "source": [
    "missing_path.head()"
   ]
  },
  {
   "cell_type": "code",
   "execution_count": 164,
   "metadata": {
    "id": "i0Nu9efBoQwI"
   },
   "outputs": [
    {
     "data": {
      "text/plain": [
       "Manufacturer           4\n",
       "Model                  1\n",
       "Type                   3\n",
       "Min.Price              7\n",
       "Price                  2\n",
       "Max.Price              5\n",
       "MPG.city               9\n",
       "MPG.highway            2\n",
       "AirBags               38\n",
       "DriveTrain             7\n",
       "Cylinders              5\n",
       "EngineSize             2\n",
       "Horsepower             7\n",
       "RPM                    3\n",
       "Rev.per.mile           6\n",
       "Man.trans.avail        5\n",
       "Fuel.tank.capacity     8\n",
       "Passengers             2\n",
       "Length                 4\n",
       "Wheelbase              1\n",
       "Width                  6\n",
       "Turn.circle            5\n",
       "Rear.seat.room         4\n",
       "Luggage.room          19\n",
       "Weight                 7\n",
       "Origin                 5\n",
       "Make                   3\n",
       "dtype: int64"
      ]
     },
     "execution_count": 164,
     "metadata": {},
     "output_type": "execute_result"
    }
   ],
   "source": [
    "missing_path.isnull().sum()"
   ]
  },
  {
   "cell_type": "markdown",
   "metadata": {
    "id": "wcNYBAomoRIM"
   },
   "source": [
    "### 2.3.7 위의 데이터 중 결측치가 가장 많은 열을 출력하시오."
   ]
  },
  {
   "cell_type": "code",
   "execution_count": 166,
   "metadata": {
    "id": "x9J0CIsEom3I"
   },
   "outputs": [
    {
     "data": {
      "text/plain": [
       "0                    NaN\n",
       "1     Driver & Passenger\n",
       "2            Driver only\n",
       "3     Driver & Passenger\n",
       "4                    NaN\n",
       "             ...        \n",
       "88                   NaN\n",
       "89                   NaN\n",
       "90                   NaN\n",
       "91           Driver only\n",
       "92    Driver & Passenger\n",
       "Name: AirBags, Length: 93, dtype: object"
      ]
     },
     "execution_count": 166,
     "metadata": {},
     "output_type": "execute_result"
    }
   ],
   "source": [
    "missing_path[\"AirBags\"]"
   ]
  },
  {
   "cell_type": "markdown",
   "metadata": {
    "id": "mKZbeCLSonXw"
   },
   "source": [
    "### 2.3.8 정수 1부터 20까지로 이루어진 series를 만들고 4x5 크기의 dataframe으로 변형한 뒤 출력하시오. 그리고 해당 dataframe의 2,3번째 열만 출력하시오."
   ]
  },
  {
   "cell_type": "code",
   "execution_count": 171,
   "metadata": {
    "id": "Aau8l9_IpPuc"
   },
   "outputs": [
    {
     "data": {
      "text/plain": [
       "0      1\n",
       "1      2\n",
       "2      3\n",
       "3      4\n",
       "4      5\n",
       "5      6\n",
       "6      7\n",
       "7      8\n",
       "8      9\n",
       "9     10\n",
       "10    11\n",
       "11    12\n",
       "12    13\n",
       "13    14\n",
       "14    15\n",
       "15    16\n",
       "16    17\n",
       "17    18\n",
       "18    19\n",
       "19    20\n",
       "dtype: int64"
      ]
     },
     "execution_count": 171,
     "metadata": {},
     "output_type": "execute_result"
    }
   ],
   "source": [
    "series = pd.Series([i for i in range(1, 21)])\n",
    "series"
   ]
  },
  {
   "cell_type": "code",
   "execution_count": 176,
   "metadata": {},
   "outputs": [],
   "source": [
    "series_np = series.to_numpy()"
   ]
  },
  {
   "cell_type": "code",
   "execution_count": 180,
   "metadata": {},
   "outputs": [],
   "source": [
    "series_np = series_np.reshape(4,5)"
   ]
  },
  {
   "cell_type": "code",
   "execution_count": 184,
   "metadata": {},
   "outputs": [
    {
     "data": {
      "text/html": [
       "<div>\n",
       "<style scoped>\n",
       "    .dataframe tbody tr th:only-of-type {\n",
       "        vertical-align: middle;\n",
       "    }\n",
       "\n",
       "    .dataframe tbody tr th {\n",
       "        vertical-align: top;\n",
       "    }\n",
       "\n",
       "    .dataframe thead th {\n",
       "        text-align: right;\n",
       "    }\n",
       "</style>\n",
       "<table border=\"1\" class=\"dataframe\">\n",
       "  <thead>\n",
       "    <tr style=\"text-align: right;\">\n",
       "      <th></th>\n",
       "      <th>0</th>\n",
       "      <th>1</th>\n",
       "      <th>2</th>\n",
       "      <th>3</th>\n",
       "      <th>4</th>\n",
       "    </tr>\n",
       "  </thead>\n",
       "  <tbody>\n",
       "    <tr>\n",
       "      <th>0</th>\n",
       "      <td>1</td>\n",
       "      <td>2</td>\n",
       "      <td>3</td>\n",
       "      <td>4</td>\n",
       "      <td>5</td>\n",
       "    </tr>\n",
       "    <tr>\n",
       "      <th>1</th>\n",
       "      <td>6</td>\n",
       "      <td>7</td>\n",
       "      <td>8</td>\n",
       "      <td>9</td>\n",
       "      <td>10</td>\n",
       "    </tr>\n",
       "    <tr>\n",
       "      <th>2</th>\n",
       "      <td>11</td>\n",
       "      <td>12</td>\n",
       "      <td>13</td>\n",
       "      <td>14</td>\n",
       "      <td>15</td>\n",
       "    </tr>\n",
       "    <tr>\n",
       "      <th>3</th>\n",
       "      <td>16</td>\n",
       "      <td>17</td>\n",
       "      <td>18</td>\n",
       "      <td>19</td>\n",
       "      <td>20</td>\n",
       "    </tr>\n",
       "  </tbody>\n",
       "</table>\n",
       "</div>"
      ],
      "text/plain": [
       "    0   1   2   3   4\n",
       "0   1   2   3   4   5\n",
       "1   6   7   8   9  10\n",
       "2  11  12  13  14  15\n",
       "3  16  17  18  19  20"
      ]
     },
     "execution_count": 184,
     "metadata": {},
     "output_type": "execute_result"
    }
   ],
   "source": [
    "series_df = pd.DataFrame(series_np)\n",
    "series_df"
   ]
  },
  {
   "cell_type": "code",
   "execution_count": 189,
   "metadata": {},
   "outputs": [
    {
     "data": {
      "text/html": [
       "<div>\n",
       "<style scoped>\n",
       "    .dataframe tbody tr th:only-of-type {\n",
       "        vertical-align: middle;\n",
       "    }\n",
       "\n",
       "    .dataframe tbody tr th {\n",
       "        vertical-align: top;\n",
       "    }\n",
       "\n",
       "    .dataframe thead th {\n",
       "        text-align: right;\n",
       "    }\n",
       "</style>\n",
       "<table border=\"1\" class=\"dataframe\">\n",
       "  <thead>\n",
       "    <tr style=\"text-align: right;\">\n",
       "      <th></th>\n",
       "      <th>1</th>\n",
       "      <th>2</th>\n",
       "    </tr>\n",
       "  </thead>\n",
       "  <tbody>\n",
       "    <tr>\n",
       "      <th>0</th>\n",
       "      <td>2</td>\n",
       "      <td>3</td>\n",
       "    </tr>\n",
       "    <tr>\n",
       "      <th>1</th>\n",
       "      <td>7</td>\n",
       "      <td>8</td>\n",
       "    </tr>\n",
       "    <tr>\n",
       "      <th>2</th>\n",
       "      <td>12</td>\n",
       "      <td>13</td>\n",
       "    </tr>\n",
       "    <tr>\n",
       "      <th>3</th>\n",
       "      <td>17</td>\n",
       "      <td>18</td>\n",
       "    </tr>\n",
       "  </tbody>\n",
       "</table>\n",
       "</div>"
      ],
      "text/plain": [
       "    1   2\n",
       "0   2   3\n",
       "1   7   8\n",
       "2  12  13\n",
       "3  17  18"
      ]
     },
     "execution_count": 189,
     "metadata": {},
     "output_type": "execute_result"
    }
   ],
   "source": [
    "series_df.iloc[:, 1:3]"
   ]
  },
  {
   "cell_type": "markdown",
   "metadata": {
    "id": "ktfWWNlmpNhp"
   },
   "source": [
    "### 2.3.9 문제 2.3.8에서 만든 dataframe의 열을 알파벳 순으로('a','b','c',...) 열 이름을 변경하고 a열과 c열만 출력하시오."
   ]
  },
  {
   "cell_type": "code",
   "execution_count": 192,
   "metadata": {},
   "outputs": [],
   "source": [
    "series_df_obj = series_df.replace({i : chr(96+i) for i in range(1,21)})"
   ]
  },
  {
   "cell_type": "code",
   "execution_count": 193,
   "metadata": {},
   "outputs": [
    {
     "data": {
      "text/html": [
       "<div>\n",
       "<style scoped>\n",
       "    .dataframe tbody tr th:only-of-type {\n",
       "        vertical-align: middle;\n",
       "    }\n",
       "\n",
       "    .dataframe tbody tr th {\n",
       "        vertical-align: top;\n",
       "    }\n",
       "\n",
       "    .dataframe thead th {\n",
       "        text-align: right;\n",
       "    }\n",
       "</style>\n",
       "<table border=\"1\" class=\"dataframe\">\n",
       "  <thead>\n",
       "    <tr style=\"text-align: right;\">\n",
       "      <th></th>\n",
       "      <th>0</th>\n",
       "      <th>1</th>\n",
       "      <th>2</th>\n",
       "      <th>3</th>\n",
       "      <th>4</th>\n",
       "    </tr>\n",
       "  </thead>\n",
       "  <tbody>\n",
       "    <tr>\n",
       "      <th>0</th>\n",
       "      <td>a</td>\n",
       "      <td>b</td>\n",
       "      <td>c</td>\n",
       "      <td>d</td>\n",
       "      <td>e</td>\n",
       "    </tr>\n",
       "    <tr>\n",
       "      <th>1</th>\n",
       "      <td>f</td>\n",
       "      <td>g</td>\n",
       "      <td>h</td>\n",
       "      <td>i</td>\n",
       "      <td>j</td>\n",
       "    </tr>\n",
       "    <tr>\n",
       "      <th>2</th>\n",
       "      <td>k</td>\n",
       "      <td>l</td>\n",
       "      <td>m</td>\n",
       "      <td>n</td>\n",
       "      <td>o</td>\n",
       "    </tr>\n",
       "    <tr>\n",
       "      <th>3</th>\n",
       "      <td>p</td>\n",
       "      <td>q</td>\n",
       "      <td>r</td>\n",
       "      <td>s</td>\n",
       "      <td>t</td>\n",
       "    </tr>\n",
       "  </tbody>\n",
       "</table>\n",
       "</div>"
      ],
      "text/plain": [
       "   0  1  2  3  4\n",
       "0  a  b  c  d  e\n",
       "1  f  g  h  i  j\n",
       "2  k  l  m  n  o\n",
       "3  p  q  r  s  t"
      ]
     },
     "execution_count": 193,
     "metadata": {},
     "output_type": "execute_result"
    }
   ],
   "source": [
    "series_df_obj"
   ]
  },
  {
   "cell_type": "code",
   "execution_count": 206,
   "metadata": {},
   "outputs": [
    {
     "data": {
      "text/html": [
       "<div>\n",
       "<style scoped>\n",
       "    .dataframe tbody tr th:only-of-type {\n",
       "        vertical-align: middle;\n",
       "    }\n",
       "\n",
       "    .dataframe tbody tr th {\n",
       "        vertical-align: top;\n",
       "    }\n",
       "\n",
       "    .dataframe thead th {\n",
       "        text-align: right;\n",
       "    }\n",
       "</style>\n",
       "<table border=\"1\" class=\"dataframe\">\n",
       "  <thead>\n",
       "    <tr style=\"text-align: right;\">\n",
       "      <th></th>\n",
       "      <th>0</th>\n",
       "      <th>2</th>\n",
       "    </tr>\n",
       "  </thead>\n",
       "  <tbody>\n",
       "    <tr>\n",
       "      <th>0</th>\n",
       "      <td>a</td>\n",
       "      <td>c</td>\n",
       "    </tr>\n",
       "    <tr>\n",
       "      <th>1</th>\n",
       "      <td>f</td>\n",
       "      <td>h</td>\n",
       "    </tr>\n",
       "    <tr>\n",
       "      <th>2</th>\n",
       "      <td>k</td>\n",
       "      <td>m</td>\n",
       "    </tr>\n",
       "    <tr>\n",
       "      <th>3</th>\n",
       "      <td>p</td>\n",
       "      <td>r</td>\n",
       "    </tr>\n",
       "  </tbody>\n",
       "</table>\n",
       "</div>"
      ],
      "text/plain": [
       "   0  2\n",
       "0  a  c\n",
       "1  f  h\n",
       "2  k  m\n",
       "3  p  r"
      ]
     },
     "execution_count": 206,
     "metadata": {},
     "output_type": "execute_result"
    }
   ],
   "source": [
    "series_df_obj.iloc[:,[0,2]]"
   ]
  },
  {
   "cell_type": "markdown",
   "metadata": {
    "id": "e60H7kj2lYU1"
   },
   "source": [
    "# 3. Matplotlib"
   ]
  },
  {
   "cell_type": "markdown",
   "metadata": {
    "id": "R2FtupgVqK4W"
   },
   "source": [
    "## 3.1 Matplotlib 알아보기"
   ]
  },
  {
   "cell_type": "markdown",
   "metadata": {
    "id": "4UXv03CrqX9I"
   },
   "source": [
    "###3.1.1 matplotlib의 pyplot libraby에 대한 간단한 설명을 적어주세요."
   ]
  },
  {
   "cell_type": "code",
   "execution_count": null,
   "metadata": {
    "id": "A7eRXeWrqXcT"
   },
   "outputs": [],
   "source": []
  },
  {
   "cell_type": "markdown",
   "metadata": {
    "id": "yc7uMExiqHFA"
   },
   "source": [
    "### 3.1.2 본인의 matplotlib.pyplot의 version을 출력하시오."
   ]
  },
  {
   "cell_type": "code",
   "execution_count": 212,
   "metadata": {
    "id": "uwyuyZ62mdpB"
   },
   "outputs": [
    {
     "name": "stdout",
     "output_type": "stream",
     "text": [
      "anyio==4.6.0\n",
      "argon2-cffi==23.1.0\n",
      "argon2-cffi-bindings==21.2.0\n",
      "arrow==1.3.0\n",
      "asttokens==2.4.1\n",
      "async-lru==2.0.4\n",
      "attrs==24.2.0\n",
      "babel==2.16.0\n",
      "beautifulsoup4==4.12.3\n",
      "bleach==6.1.0\n",
      "certifi==2024.8.30\n",
      "cffi==1.17.1\n",
      "charset-normalizer==3.3.2\n",
      "colorama==0.4.6\n",
      "comm==0.2.2\n",
      "contourpy==1.3.0\n",
      "cycler==0.12.1\n",
      "DateTime==5.5\n",
      "debugpy==1.8.5\n",
      "decorator==5.1.1\n",
      "defusedxml==0.7.1\n",
      "executing==2.1.0\n",
      "fastjsonschema==2.20.0\n",
      "fonttools==4.53.1\n",
      "fqdn==1.5.1\n",
      "h11==0.14.0\n",
      "httpcore==1.0.5\n",
      "httpx==0.27.2\n",
      "idna==3.10\n",
      "ipykernel==6.29.5\n",
      "ipython==8.27.0\n",
      "ipywidgets==8.1.5\n",
      "isoduration==20.11.0\n",
      "jedi==0.19.1\n",
      "Jinja2==3.1.4\n",
      "json5==0.9.25\n",
      "jsonpointer==3.0.0\n",
      "jsonschema==4.23.0\n",
      "jsonschema-specifications==2023.12.1\n",
      "jupyter==1.1.1\n",
      "jupyter-console==6.6.3\n",
      "jupyter-events==0.10.0\n",
      "jupyter-lsp==2.2.5\n",
      "jupyter_client==8.6.3\n",
      "jupyter_core==5.7.2\n",
      "jupyter_server==2.14.2\n",
      "jupyter_server_terminals==0.5.3\n",
      "jupyterlab==4.2.5\n",
      "jupyterlab_pygments==0.3.0\n",
      "jupyterlab_server==2.27.3\n",
      "jupyterlab_widgets==3.0.13\n",
      "kiwisolver==1.4.7\n",
      "MarkupSafe==2.1.5\n",
      "matplotlib==3.9.2\n",
      "matplotlib-inline==0.1.7\n",
      "mistune==3.0.2\n",
      "nbclient==0.10.0\n",
      "nbconvert==7.16.4\n",
      "nbformat==5.10.4\n",
      "nest-asyncio==1.6.0\n",
      "notebook==7.2.2\n",
      "notebook_shim==0.2.4\n",
      "numpy==2.1.1\n",
      "overrides==7.7.0\n",
      "packaging==24.1\n",
      "pandas==2.2.3\n",
      "pandocfilters==1.5.1\n",
      "parso==0.8.4\n",
      "pillow==10.4.0\n",
      "platformdirs==4.3.6\n",
      "prometheus_client==0.21.0\n",
      "prompt_toolkit==3.0.47\n",
      "psutil==6.0.0\n",
      "pure_eval==0.2.3\n",
      "pycparser==2.22\n",
      "Pygments==2.18.0\n",
      "pyparsing==3.1.4\n",
      "python-dateutil==2.9.0.post0\n",
      "python-json-logger==2.0.7\n",
      "pytz==2024.2\n",
      "pywin32==306\n",
      "pywinpty==2.0.13\n",
      "PyYAML==6.0.2\n",
      "pyzmq==26.2.0\n",
      "referencing==0.35.1\n",
      "requests==2.32.3\n",
      "rfc3339-validator==0.1.4\n",
      "rfc3986-validator==0.1.1\n",
      "rpds-py==0.20.0\n",
      "Send2Trash==1.8.3\n",
      "setuptools==75.1.0\n",
      "six==1.16.0\n",
      "sniffio==1.3.1\n",
      "soupsieve==2.6\n",
      "stack-data==0.6.3\n",
      "terminado==0.18.1\n",
      "tinycss2==1.3.0\n",
      "tornado==6.4.1\n",
      "traitlets==5.14.3\n",
      "types-python-dateutil==2.9.0.20240906\n",
      "tzdata==2024.1\n",
      "uri-template==1.3.0\n",
      "urllib3==2.2.3\n",
      "wcwidth==0.2.13\n",
      "webcolors==24.8.0\n",
      "webencodings==0.5.1\n",
      "websocket-client==1.8.0\n",
      "widgetsnbextension==4.0.13\n",
      "zope.interface==7.0.3\n"
     ]
    }
   ],
   "source": [
    "!pip freeze"
   ]
  },
  {
   "cell_type": "code",
   "execution_count": null,
   "metadata": {},
   "outputs": [],
   "source": [
    "# matplotlib==3.9.2"
   ]
  },
  {
   "cell_type": "markdown",
   "metadata": {
    "id": "sOctvUCKoFYu"
   },
   "source": [
    "## 3.2"
   ]
  },
  {
   "cell_type": "markdown",
   "metadata": {
    "id": "sa158IqHmeUJ"
   },
   "source": [
    "### 3.2.1 아래의 조건에 맞추어 주어진 데이터 X,Y의 값에 대한 꺽은선 그래프를 그리시오.\n",
    "\n",
    "1. x,y축의 이름을 붙이시오.\n",
    "2. 그래프의 제목은 'Line'이라고 붙이시오.\n",
    "3. 그래프의 선 색을 빨간색으로 하시오.\n",
    "4. x축의 눈금은 5단위로 표시하시오."
   ]
  },
  {
   "cell_type": "code",
   "execution_count": 207,
   "metadata": {
    "id": "XUAtW4R0m4x_"
   },
   "outputs": [],
   "source": [
    "# 해당 셀을 실행하되 수정하지 마시오.\n",
    "X = range(1, 50)\n",
    "Y = [value * 3 for value in X]"
   ]
  },
  {
   "cell_type": "code",
   "execution_count": 213,
   "metadata": {
    "id": "-AjfqGQ4m7L3"
   },
   "outputs": [],
   "source": [
    "# 한글 폰트 오류 해결\n",
    "from matplotlib import font_manager, rc\n",
    "font_path = \"C:/Windows/Fonts/malgun.ttf\"\n",
    "font_name = font_manager.FontProperties(fname = font_path).get_name()\n",
    "rc(\"font\", family = font_name)"
   ]
  },
  {
   "cell_type": "code",
   "execution_count": 232,
   "metadata": {},
   "outputs": [
    {
     "data": {
      "image/png": "[encoded data removed]",
      "text/plain": [
       "<Figure size 640x480 with 1 Axes>"
      ]
     },
     "metadata": {},
     "output_type": "display_data"
    }
   ],
   "source": [
    "plt.plot(X, Y, 'r')\n",
    "plt.xticks(np.arange(1,50,5))\n",
    "plt.xlabel(\"x축\")\n",
    "plt.ylabel(\"y축\")\n",
    "plt.title(\"Line\")\n",
    "plt.show()"
   ]
  },
  {
   "cell_type": "markdown",
   "metadata": {
    "id": "AQhGUHMMoC52"
   },
   "source": [
    "### 3.2.2 아래의 조건에 맞추어 주어진 데이터에 대한 꺽은선 그래프를 그리시오.\n",
    "\n",
    "1. 첫 번째 그래프의 선 색은 빨강, 두 번째 선 색은 초록으로 하시오.\n",
    "2. 그래프의 제목은 'Two Lines'로 하시오.\n",
    "3. 선의 굵기를 4로 통일하시오.\n",
    "4. 각 선의 색에 따라 빨강 색은 'line1', 파랑 색은 'line2'임을 나타내는 표시를 그래프에 넣으시오.\n",
    "5. 첫 번째 그래프의 점은 삼각형, 두 번째 그래프의 점은 원형으로 그리시오."
   ]
  },
  {
   "cell_type": "code",
   "execution_count": 228,
   "metadata": {
    "id": "4rBJyK3-oW8A"
   },
   "outputs": [],
   "source": [
    "# 해당 셀의 내용을 수정하지 마시오.\n",
    "# line 1 points\n",
    "x1 = [10,20,30]\n",
    "y1 = [20,40,10]\n",
    "\n",
    "# line 2 points\n",
    "x2 = [10,20,30]\n",
    "y2 = [40,10,30]"
   ]
  },
  {
   "cell_type": "code",
   "execution_count": 247,
   "metadata": {
    "id": "8Fp0uM5aofYG"
   },
   "outputs": [
    {
     "data": {
      "image/png": "[encoded data removed]",
      "text/plain": [
       "<Figure size 640x480 with 1 Axes>"
      ]
     },
     "metadata": {},
     "output_type": "display_data"
    }
   ],
   "source": [
    "plt.plot(x1, y1, \"r\", linewidth=4, marker = \"^\", markersize = 12)\n",
    "plt.plot(x2, y2, \"g\", linewidth=4, marker = \"o\", markersize = 12)\n",
    "plt.xlabel(\"x축\")\n",
    "plt.ylabel(\"y축\")\n",
    "plt.legend([\"line1\", \"line2\"])\n",
    "plt.show()"
   ]
  },
  {
   "cell_type": "markdown",
   "metadata": {
    "id": "fZabRSyfpLY9"
   },
   "source": [
    "### 3.2.3 주어진 데이터에서 x는 프로그래밍 언어, popularity는 프로그래밍의 선호도이다. 프로그래밍 언어에 따른 선호도에 대한 막대그래프를 아래 조건에 맞추어 그리시오.\n",
    "\n",
    "1. X축의 이름은 'Programming Language'로 하시오.\n",
    "2. Y축의 이름은 'Popularity'로 하시오.\n",
    "3. 격자 무늬를 넣으시오.\n",
    "4. 그래프의 제목은 'Popularity of programming language'로 하시오.\n",
    "5. X축의 눈금을 표시하시오.\n",
    "6. 막대그래프는 중간맞춤으로 그리시오."
   ]
  },
  {
   "cell_type": "code",
   "execution_count": 248,
   "metadata": {
    "id": "2OC0AVntpiqq"
   },
   "outputs": [],
   "source": [
    "# 해당 셀을 실행하되 수정하지 마시오.\n",
    "x = ['Java', 'Python', 'PHP', 'JavaScript', 'C#', 'C++']\n",
    "popularity = [22.2, 17.6, 8.8, 8, 7.7, 6.7]"
   ]
  },
  {
   "cell_type": "code",
   "execution_count": 253,
   "metadata": {
    "id": "_m5Unnlguswl"
   },
   "outputs": [
    {
     "data": {
      "image/png": "[encoded data removed]",
      "text/plain": [
       "<Figure size 640x480 with 1 Axes>"
      ]
     },
     "metadata": {},
     "output_type": "display_data"
    }
   ],
   "source": [
    "plt.bar(x, popularity, align = \"center\")\n",
    "plt.grid()\n",
    "plt.xticks(color = \"red\")\n",
    "plt.xlabel(\"Programming Language\")\n",
    "plt.ylabel(\"Popularity\")\n",
    "plt.title(\"Popularity of programming language\")\n",
    "plt.show()"
   ]
  },
  {
   "cell_type": "markdown",
   "metadata": {
    "id": "zInWl631r9F5"
   },
   "source": [
    "### 3.2.4 아래 조건에 맞추어 주어진 두 데이터에 대한 꺽은선 그래프 두 개를 한 번에 그리시오.\n",
    "\n",
    "1. data1의 그래프는 왼쪽에 data2의 그래프는 오른쪽에 그리시오.\n",
    "2. data1의 그래프는 실선, data2의 그래프는 점선으로 그리시오.\n",
    "3. 각각의 그래프의 최댓값에 화살표 표시를 넣고 'maximum'임을 표시하시오.\n",
    "4. 각 그래프 별로 'data1', 'data2'라는 제목을 붙이시오.\n"
   ]
  },
  {
   "cell_type": "code",
   "execution_count": 254,
   "metadata": {
    "id": "zJ0UQcjfusHy"
   },
   "outputs": [],
   "source": [
    "# 해당 셀을 실행하되 수정하지 마시오.\n",
    "# data1\n",
    "x1 = [i for i in range(10)]\n",
    "y1 = [i*i+3 for i in x1]\n",
    "\n",
    "# data2\n",
    "x2 = [i for i in range(-5,6)]\n",
    "y2 = [(-1)*i*i+25 for i in x2]"
   ]
  },
  {
   "cell_type": "code",
   "execution_count": 268,
   "metadata": {
    "id": "BtfbYSIbvwC4"
   },
   "outputs": [
    {
     "data": {
      "image/png": "[encoded data removed]",
      "text/plain": [
       "<Figure size 640x480 with 2 Axes>"
      ]
     },
     "metadata": {},
     "output_type": "display_data"
    }
   ],
   "source": [
    "fig = plt.figure()\n",
    "\n",
    "# data1\n",
    "plt.subplot(1,2,1)\n",
    "plt.plot(x1, y1)\n",
    "plt.annotate(\"maximum\", ha = \"center\", va = \"bottom\", xytext = (6, 70), xy = (9, 84), \n",
    "             arrowprops = { 'facecolor' : 'r', \n",
    "              'edgecolor':'b', \n",
    "              'shrink' : 0.1, \n",
    "              'alpha':0.5})\n",
    "plt.title(\"data1\")\n",
    "\n",
    "# data2\n",
    "plt.subplot(1,2,2)\n",
    "plt.plot(x2, y2, \"--\")\n",
    "plt.title(\"data2\")\n",
    "plt.annotate(\"maximum\", ha = \"center\", va = \"bottom\", xytext = (0.1, 20), xy = (0, 25), \n",
    "             arrowprops = { 'facecolor' : 'r', \n",
    "              'edgecolor':'b', \n",
    "              'shrink' : 0.2, \n",
    "              'alpha':0.5})\n",
    "\n",
    "plt.show()"
   ]
  }
 ],
 "metadata": {
  "colab": {
   "provenance": [],
   "toc_visible": true
  },
  "kernelspec": {
   "display_name": "Python 3 (ipykernel)",
   "language": "python",
   "name": "python3"
  },
  "language_info": {
   "codemirror_mode": {
    "name": "ipython",
    "version": 3
   },
   "file_extension": ".py",
   "mimetype": "text/x-python",
   "name": "python",
   "nbconvert_exporter": "python",
   "pygments_lexer": "ipython3",
   "version": "3.12.6"
  }
 },
 "nbformat": 4,
 "nbformat_minor": 4
}
