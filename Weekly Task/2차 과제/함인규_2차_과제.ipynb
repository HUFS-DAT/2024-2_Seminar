{
  "cells": [
    {
      "cell_type": "markdown",
      "metadata": {
        "id": "fTTwiBy0h0cy"
      },
      "source": [
        "# 0. Importing Modules"
      ]
    },
    {
      "cell_type": "markdown",
      "metadata": {
        "id": "bpLCYHx1h5GD"
      },
      "source": [
        "코드의 기본은 해당 코드를 작성할 때 필요한 module들을 가져오는 것부터 시작됩니다."
      ]
    },
    {
      "cell_type": "code",
      "execution_count": 1,
      "metadata": {
        "id": "nl5GVtbYiDJe"
      },
      "outputs": [
        {
          "name": "stderr",
          "output_type": "stream",
          "text": [
            "C:\\Users\\HamIG\\AppData\\Local\\Temp\\ipykernel_84004\\3094854513.py:2: DeprecationWarning: \n",
            "Pyarrow will become a required dependency of pandas in the next major release of pandas (pandas 3.0),\n",
            "(to allow more performant data types, such as the Arrow string type, and better interoperability with other libraries)\n",
            "but was not found to be installed on your system.\n",
            "If this would cause problems for you,\n",
            "please provide us feedback at https://github.com/pandas-dev/pandas/issues/54466\n",
            "        \n",
            "  import pandas as pd\n"
          ]
        }
      ],
      "source": [
        "# 과제를 시작하기 전 이 셀을 무조건 실행하세요.\n",
        "import pandas as pd\n",
        "import numpy as np\n",
        "import matplotlib.pyplot as plt\n",
        "import datetime as DT\n",
        "from matplotlib.dates import date2num\n",
        "\n",
        "# 아래에 필요한 것들을 추가로 작성해주세요."
      ]
    },
    {
      "cell_type": "markdown",
      "metadata": {
        "id": "QznyryyEhs0I"
      },
      "source": [
        "# 1.Numpy"
      ]
    },
    {
      "cell_type": "markdown",
      "metadata": {
        "id": "nWzUmN4Bhvtr"
      },
      "source": [
        "## 1.1 Numpy 알아보기"
      ]
    },
    {
      "cell_type": "markdown",
      "metadata": {
        "id": "fgL8h1jSi2Bj"
      },
      "source": [
        "### 1.1.1 numpy에 대한 간단한 설명을 적어주세요."
      ]
    },
    {
      "cell_type": "markdown",
      "metadata": {
        "id": "y2FZEMQzi8pr"
      },
      "source": [
        "'Numeric Python’의 줄임말로, 다차원 배열 객체와 배열과 수학적 연산 함수를 제공한다. "
      ]
    },
    {
      "cell_type": "markdown",
      "metadata": {
        "id": "ZCEMeFZyiwKw"
      },
      "source": [
        "### 1.1.2 본인의 numpy version을 출력해주세요"
      ]
    },
    {
      "cell_type": "code",
      "execution_count": 2,
      "metadata": {
        "id": "2UOkCiUdg9EQ"
      },
      "outputs": [
        {
          "name": "stdout",
          "output_type": "stream",
          "text": [
            "1.23.5\n"
          ]
        }
      ],
      "source": [
        "print(np.__version__)"
      ]
    },
    {
      "cell_type": "markdown",
      "metadata": {
        "id": "Gu48TLh0jJU0"
      },
      "source": [
        "##1.2 numpy array\n",
        "* 1.2의 문제들은 모두 코드 한 줄로 적어야 합니다.\n",
        "* '#이곳에 작성'을 지우고 코드를 적어주세요."
      ]
    },
    {
      "cell_type": "markdown",
      "metadata": {
        "id": "MzIW4_JGjbM-"
      },
      "source": [
        "###1.2.1 숫자 0부터 9까지 숫자로 이루어진 numpy array를 하나 만드시오."
      ]
    },
    {
      "cell_type": "code",
      "execution_count": 3,
      "metadata": {
        "id": "ceneOKE5i_0Z"
      },
      "outputs": [
        {
          "name": "stdout",
          "output_type": "stream",
          "text": [
            "[0 1 2 3 4 5 6 7 8 9]\n"
          ]
        }
      ],
      "source": [
        "arr = np.array([0,1,2,3,4,5,6,7,8,9])\n",
        "print(arr)"
      ]
    },
    {
      "cell_type": "markdown",
      "metadata": {
        "id": "z-D_BIbjkOdB"
      },
      "source": [
        "###1.2.2 위의 문제에서 만든 arr의 요소 중 홀수인 수를 모두 10으로 변경하시오."
      ]
    },
    {
      "cell_type": "code",
      "execution_count": 4,
      "metadata": {
        "id": "VN4leFfZkkHw"
      },
      "outputs": [
        {
          "name": "stdout",
          "output_type": "stream",
          "text": [
            "[ 0 10  2 10  4 10  6 10  8 10]\n"
          ]
        }
      ],
      "source": [
        "no_odd = np.where(arr % 2 == 1, 10, arr)\n",
        "print(no_odd)"
      ]
    },
    {
      "cell_type": "markdown",
      "metadata": {
        "id": "41TP4Ym1lC13"
      },
      "source": [
        "###1.2.3 위의 문제에서 만든 arr는 1차원 배열입니다. 이 배열을 2차원 배열로 변경하시오.\n",
        "array([0,1,2,3,4,5,6,7,8,9]) -> array([[0,1,2,3,4],[5,6,7,8,9]])"
      ]
    },
    {
      "cell_type": "code",
      "execution_count": 5,
      "metadata": {
        "id": "02SCthcAlOsy"
      },
      "outputs": [
        {
          "name": "stdout",
          "output_type": "stream",
          "text": [
            "[[0 1 2 3 4]\n",
            " [5 6 7 8 9]]\n"
          ]
        }
      ],
      "source": [
        "arr_2d = arr.reshape(2, 5)\n",
        "print(arr_2d)"
      ]
    },
    {
      "cell_type": "markdown",
      "metadata": {
        "id": "woxgg4M3j1S1"
      },
      "source": [
        "###1.2.4 True로 이루어진 3x3 numpy array를 만드시오."
      ]
    },
    {
      "cell_type": "code",
      "execution_count": 6,
      "metadata": {
        "id": "zs5KGgm7j-xS"
      },
      "outputs": [
        {
          "name": "stdout",
          "output_type": "stream",
          "text": [
            "[[ True  True  True]\n",
            " [ True  True  True]\n",
            " [ True  True  True]]\n"
          ]
        }
      ],
      "source": [
        "true_mat = np.full((3, 3), True)\n",
        "print(true_mat)"
      ]
    },
    {
      "cell_type": "markdown",
      "metadata": {
        "id": "W9ytRnhhmmzX"
      },
      "source": [
        "###1.2.5 숫자 0부터 8까지로 이루어진 3x3 numpy array를 만드시오."
      ]
    },
    {
      "cell_type": "code",
      "execution_count": 7,
      "metadata": {
        "id": "8x1DZQjYm7GR"
      },
      "outputs": [
        {
          "name": "stdout",
          "output_type": "stream",
          "text": [
            "[[0 1 2]\n",
            " [3 4 5]\n",
            " [6 7 8]]\n"
          ]
        }
      ],
      "source": [
        "mat = np.arange(9).reshape(3,3)\n",
        "print(mat)"
      ]
    },
    {
      "cell_type": "markdown",
      "metadata": {
        "id": "-Mi_2yCNn0AA"
      },
      "source": [
        "###1.2.6 숫자 5부터 10까지의 난수로 이루어진 array를 만드시오."
      ]
    },
    {
      "cell_type": "code",
      "execution_count": 8,
      "metadata": {
        "id": "rQ9SKYmgoNID"
      },
      "outputs": [
        {
          "name": "stdout",
          "output_type": "stream",
          "text": [
            "[[8 5]\n",
            " [9 5]]\n"
          ]
        }
      ],
      "source": [
        "rand_arr = np.random.randint(5, 11, (2,2))\n",
        "print(rand_arr)"
      ]
    },
    {
      "cell_type": "markdown",
      "metadata": {
        "id": "yjJQzG2bnFMA"
      },
      "source": [
        "###1.2.7 위의 1.2.5번 문제에서 만든 mat의 모든 행들을 역으로 작성하세요.\n",
        "array([0,1,2],[3,4,5],[6,7,8]]) -> array([2,1,0],[5,4,3],[8,7,6]])"
      ]
    },
    {
      "cell_type": "code",
      "execution_count": 9,
      "metadata": {
        "id": "AO1H_YbWwVmX"
      },
      "outputs": [
        {
          "name": "stdout",
          "output_type": "stream",
          "text": [
            "[[5 8]\n",
            " [5 9]]\n"
          ]
        }
      ],
      "source": [
        "reverse_mat = rand_arr[:, ::-1]\n",
        "print(reverse_mat)"
      ]
    },
    {
      "cell_type": "markdown",
      "metadata": {
        "id": "LmryYJz3mDMR"
      },
      "source": [
        "## 1.3 numpy를 이용한 data 처리"
      ]
    },
    {
      "cell_type": "markdown",
      "metadata": {
        "id": "hfC_DiJ-nuzZ"
      },
      "source": [
        "###1.3.1 iris_1d는 꽃잎 길이와 종에 대한 data입니다. 해당 데이터의 앞에서 10개의 data만 출력하시오.\n",
        "* iris_1d 변수의 내용을 변경하지 마시오."
      ]
    },
    {
      "cell_type": "code",
      "execution_count": 10,
      "metadata": {
        "collapsed": true,
        "id": "weTAz59uqUjY"
      },
      "outputs": [
        {
          "name": "stderr",
          "output_type": "stream",
          "text": [
            "C:\\Users\\HamIG\\AppData\\Local\\Temp\\ipykernel_84004\\2620360274.py:3: VisibleDeprecationWarning: Reading unicode strings without specifying the encoding argument is deprecated. Set the encoding, use None for the system default.\n",
            "  iris_1d = np.genfromtxt(url, delimiter=',', dtype=None)\n"
          ]
        },
        {
          "data": {
            "text/plain": [
              "array([(6.3, 2.3, 4.4, 1.3, b'Iris-versicolor'),\n",
              "       (6.4, 2.7, 5.3, 1.9, b'Iris-virginica'),\n",
              "       (5.4, 3.7, 1.5, 0.2, b'Iris-setosa'),\n",
              "       (6.1, 3. , 4.6, 1.4, b'Iris-versicolor'),\n",
              "       (5. , 3.3, 1.4, 0.2, b'Iris-setosa'),\n",
              "       (5. , 2. , 3.5, 1. , b'Iris-versicolor'),\n",
              "       (6.3, 2.5, 4.9, 1.5, b'Iris-versicolor'),\n",
              "       (5.8, 2.7, 4.1, 1. , b'Iris-versicolor'),\n",
              "       (5.1, 3.4, 1.5, 0.2, b'Iris-setosa'),\n",
              "       (5.7, 2.8, 4.5, 1.3, b'Iris-versicolor'),\n",
              "       (5.6, 3. , 4.5, 1.5, b'Iris-versicolor'),\n",
              "       (5.8, 2.7, 5.1, 1.9, b'Iris-virginica'),\n",
              "       (5.5, 2.3, 4. , 1.3, b'Iris-versicolor'),\n",
              "       (4.9, 3. , 1.4, 0.2, b'Iris-setosa'),\n",
              "       (5.1, 3.8, 1.5, 0.3, b'Iris-setosa'),\n",
              "       (6.8, 3. , 5.5, 2.1, b'Iris-virginica'),\n",
              "       (6. , 3.4, 4.5, 1.6, b'Iris-versicolor'),\n",
              "       (4.4, 3. , 1.3, 0.2, b'Iris-setosa'),\n",
              "       (5.1, 3.7, 1.5, 0.4, b'Iris-setosa'),\n",
              "       (5. , 3.2, 1.2, 0.2, b'Iris-setosa'),\n",
              "       (7.1, 3. , 5.9, 2.1, b'Iris-virginica'),\n",
              "       (6.4, 2.8, 5.6, 2.2, b'Iris-virginica'),\n",
              "       (6.2, 2.8, 4.8, 1.8, b'Iris-virginica'),\n",
              "       (4.8, 3.4, 1.9, 0.2, b'Iris-setosa'),\n",
              "       (5.9, 3. , 4.2, 1.5, b'Iris-versicolor'),\n",
              "       (4.7, 3.2, 1.3, 0.2, b'Iris-setosa'),\n",
              "       (5.7, 3. , 4.2, 1.2, b'Iris-versicolor'),\n",
              "       (5.5, 2.6, 4.4, 1.2, b'Iris-versicolor'),\n",
              "       (6.8, 2.8, 4.8, 1.4, b'Iris-versicolor'),\n",
              "       (7.7, 3.8, 6.7, 2.2, b'Iris-virginica'),\n",
              "       (6.6, 2.9, 4.6, 1.3, b'Iris-versicolor'),\n",
              "       (6.2, 2.9, 4.3, 1.3, b'Iris-versicolor'),\n",
              "       (7.2, 3. , 5.8, 1.6, b'Iris-virginica'),\n",
              "       (5.8, 2.8, 5.1, 2.4, b'Iris-virginica'),\n",
              "       (6.3, 2.5, 5. , 1.9, b'Iris-virginica'),\n",
              "       (4.6, 3.2, 1.4, 0.2, b'Iris-setosa'),\n",
              "       (6.7, 3.3, 5.7, 2.1, b'Iris-virginica'),\n",
              "       (6.9, 3.2, 5.7, 2.3, b'Iris-virginica'),\n",
              "       (7.7, 2.6, 6.9, 2.3, b'Iris-virginica'),\n",
              "       (6.9, 3.1, 5.1, 2.3, b'Iris-virginica'),\n",
              "       (5. , 3.4, 1.6, 0.4, b'Iris-setosa'),\n",
              "       (5. , 3.5, 1.6, 0.6, b'Iris-setosa'),\n",
              "       (5.2, 2.7, 3.9, 1.4, b'Iris-versicolor'),\n",
              "       (4.5, 2.3, 1.3, 0.3, b'Iris-setosa'),\n",
              "       (6.3, 3.3, 4.7, 1.6, b'Iris-versicolor'),\n",
              "       (5.2, 4.1, 1.5, 0.1, b'Iris-setosa'),\n",
              "       (6.9, 3.1, 4.9, 1.5, b'Iris-versicolor'),\n",
              "       (5.9, 3.2, 4.8, 1.8, b'Iris-versicolor'),\n",
              "       (5.6, 2.8, 4.9, 2. , b'Iris-virginica'),\n",
              "       (6.7, 3.3, 5.7, 2.5, b'Iris-virginica'),\n",
              "       (6.2, 2.2, 4.5, 1.5, b'Iris-versicolor'),\n",
              "       (7.2, 3.6, 6.1, 2.5, b'Iris-virginica'),\n",
              "       (5.5, 2.4, 3.7, 1. , b'Iris-versicolor'),\n",
              "       (6. , 2.9, 4.5, 1.5, b'Iris-versicolor'),\n",
              "       (6.4, 3.2, 4.5, 1.5, b'Iris-versicolor'),\n",
              "       (5.8, 4. , 1.2, 0.2, b'Iris-setosa'),\n",
              "       (5.3, 3.7, 1.5, 0.2, b'Iris-setosa'),\n",
              "       (6.1, 2.9, 4.7, 1.4, b'Iris-versicolor'),\n",
              "       (5.4, 3.4, 1.7, 0.2, b'Iris-setosa'),\n",
              "       (6.4, 3.1, 5.5, 1.8, b'Iris-virginica'),\n",
              "       (4.7, 3.2, 1.6, 0.2, b'Iris-setosa'),\n",
              "       (4.6, 3.1, 1.5, 0.2, b'Iris-setosa'),\n",
              "       (4.9, 2.5, 4.5, 1.7, b'Iris-virginica'),\n",
              "       (5.1, 2.5, 3. , 1.1, b'Iris-versicolor'),\n",
              "       (6.7, 3.1, 5.6, 2.4, b'Iris-virginica'),\n",
              "       (4.9, 3.1, 1.5, 0.1, b'Iris-setosa'),\n",
              "       (6.9, 3.1, 5.4, 2.1, b'Iris-virginica'),\n",
              "       (4.8, 3. , 1.4, 0.3, b'Iris-setosa'),\n",
              "       (5.8, 2.7, 3.9, 1.2, b'Iris-versicolor'),\n",
              "       (6. , 2.7, 5.1, 1.6, b'Iris-versicolor'),\n",
              "       (4.4, 3.2, 1.3, 0.2, b'Iris-setosa'),\n",
              "       (6.8, 3.2, 5.9, 2.3, b'Iris-virginica'),\n",
              "       (7.9, 3.8, 6.4, 2. , b'Iris-virginica'),\n",
              "       (6.5, 3. , 5.5, 1.8, b'Iris-virginica'),\n",
              "       (7.6, 3. , 6.6, 2.1, b'Iris-virginica'),\n",
              "       (6.3, 2.8, 5.1, 1.5, b'Iris-virginica'),\n",
              "       (4.6, 3.4, 1.4, 0.3, b'Iris-setosa'),\n",
              "       (5.7, 2.6, 3.5, 1. , b'Iris-versicolor'),\n",
              "       (6.7, 2.5, 5.8, 1.8, b'Iris-virginica'),\n",
              "       (5.7, 2.8, 4.1, 1.3, b'Iris-versicolor'),\n",
              "       (4.9, 3.1, 1.5, 0.1, b'Iris-setosa'),\n",
              "       (6.4, 2.8, 5.6, 2.1, b'Iris-virginica'),\n",
              "       (7. , 3.2, 4.7, 1.4, b'Iris-versicolor'),\n",
              "       (5.7, 2.9, 4.2, 1.3, b'Iris-versicolor'),\n",
              "       (5. , 3.6, 1.4, 0.2, b'Iris-setosa'),\n",
              "       (5.4, 3.9, 1.7, 0.4, b'Iris-setosa'),\n",
              "       (5.1, 3.8, 1.9, 0.4, b'Iris-setosa'),\n",
              "       (5.4, 3. , 4.5, 1.5, b'Iris-versicolor'),\n",
              "       (7.4, 2.8, 6.1, 1.9, b'Iris-virginica'),\n",
              "       (6.3, 2.9, 5.6, 1.8, b'Iris-virginica'),\n",
              "       (6.6, 3. , 4.4, 1.4, b'Iris-versicolor'),\n",
              "       (5. , 3.4, 1.5, 0.2, b'Iris-setosa'),\n",
              "       (5.1, 3.8, 1.6, 0.2, b'Iris-setosa'),\n",
              "       (5.1, 3.5, 1.4, 0.3, b'Iris-setosa'),\n",
              "       (6.5, 3. , 5.8, 2.2, b'Iris-virginica'),\n",
              "       (5.8, 2.7, 5.1, 1.9, b'Iris-virginica'),\n",
              "       (6.1, 2.8, 4. , 1.3, b'Iris-versicolor'),\n",
              "       (5.5, 2.4, 3.8, 1.1, b'Iris-versicolor'),\n",
              "       (6.5, 3.2, 5.1, 2. , b'Iris-virginica'),\n",
              "       (6.5, 3. , 5.2, 2. , b'Iris-virginica'),\n",
              "       (5.9, 3. , 5.1, 1.8, b'Iris-virginica'),\n",
              "       (6.1, 2.6, 5.6, 1.4, b'Iris-virginica'),\n",
              "       (6.4, 2.9, 4.3, 1.3, b'Iris-versicolor'),\n",
              "       (5.2, 3.4, 1.4, 0.2, b'Iris-setosa'),\n",
              "       (4.8, 3.4, 1.6, 0.2, b'Iris-setosa'),\n",
              "       (5.6, 2.7, 4.2, 1.3, b'Iris-versicolor'),\n",
              "       (5.1, 3.3, 1.7, 0.5, b'Iris-setosa'),\n",
              "       (4.6, 3.6, 1. , 0.2, b'Iris-setosa'),\n",
              "       (6.1, 3. , 4.9, 1.8, b'Iris-virginica'),\n",
              "       (5. , 2.3, 3.3, 1. , b'Iris-versicolor'),\n",
              "       (5.7, 3.8, 1.7, 0.3, b'Iris-setosa'),\n",
              "       (5.2, 3.5, 1.5, 0.2, b'Iris-setosa'),\n",
              "       (5.5, 3.5, 1.3, 0.2, b'Iris-setosa'),\n",
              "       (4.9, 2.4, 3.3, 1. , b'Iris-versicolor'),\n",
              "       (5.4, 3.4, 1.5, 0.4, b'Iris-setosa'),\n",
              "       (6.7, 3.1, 4.4, 1.4, b'Iris-versicolor'),\n",
              "       (4.8, 3. , 1.4, 0.1, b'Iris-setosa'),\n",
              "       (5.5, 2.5, 4. , 1.3, b'Iris-versicolor'),\n",
              "       (6. , 2.2, 5. , 1.5, b'Iris-virginica'),\n",
              "       (4.8, 3.1, 1.6, 0.2, b'Iris-setosa'),\n",
              "       (6.7, 3.1, 4.7, 1.5, b'Iris-versicolor'),\n",
              "       (5.8, 2.6, 4. , 1.2, b'Iris-versicolor'),\n",
              "       (6.2, 3.4, 5.4, 2.3, b'Iris-virginica'),\n",
              "       (5. , 3. , 1.6, 0.2, b'Iris-setosa'),\n",
              "       (6. , 3. , 4.8, 1.8, b'Iris-virginica'),\n",
              "       (4.3, 3. , 1.1, 0.1, b'Iris-setosa'),\n",
              "       (5.6, 2.5, 3.9, 1.1, b'Iris-versicolor'),\n",
              "       (6.7, 3. , 5. , 1.7, b'Iris-versicolor'),\n",
              "       (7.7, 3. , 6.1, 2.3, b'Iris-virginica'),\n",
              "       (6.3, 3.4, 5.6, 2.4, b'Iris-virginica'),\n",
              "       (5.5, 4.2, 1.4, 0.2, b'Iris-setosa'),\n",
              "       (6. , 2.2, 4. , 1. , b'Iris-versicolor'),\n",
              "       (7.7, 2.8, 6.7, 2. , b'Iris-virginica'),\n",
              "       (7.3, 2.9, 6.3, 1.8, b'Iris-virginica'),\n",
              "       (5.6, 3. , 4.1, 1.3, b'Iris-versicolor'),\n",
              "       (6.5, 2.8, 4.6, 1.5, b'Iris-versicolor'),\n",
              "       (6.3, 3.3, 6. , 2.5, b'Iris-virginica'),\n",
              "       (5.4, 3.9, 1.3, 0.4, b'Iris-setosa'),\n",
              "       (6.4, 3.2, 5.3, 2.3, b'Iris-virginica'),\n",
              "       (5. , 3.5, 1.3, 0.3, b'Iris-setosa'),\n",
              "       (5.1, 3.5, 1.4, 0.2, b'Iris-setosa'),\n",
              "       (6.1, 2.8, 4.7, 1.2, b'Iris-versicolor'),\n",
              "       (4.4, 2.9, 1.4, 0.2, b'Iris-setosa'),\n",
              "       (6.7, 3. , 5.2, 2.3, b'Iris-virginica'),\n",
              "       (6.3, 2.7, 4.9, 1.8, b'Iris-virginica'),\n",
              "       (5.7, 2.5, 5. , 2. , b'Iris-virginica'),\n",
              "       (5.6, 2.9, 3.6, 1.3, b'Iris-versicolor'),\n",
              "       (5.7, 4.4, 1.5, 0.4, b'Iris-setosa'),\n",
              "       (7.2, 3.2, 6. , 1.8, b'Iris-virginica'),\n",
              "       (4.9, 3.1, 1.5, 0.1, b'Iris-setosa')],\n",
              "      dtype=[('f0', '<f8'), ('f1', '<f8'), ('f2', '<f8'), ('f3', '<f8'), ('f4', 'S15')])"
            ]
          },
          "execution_count": 10,
          "metadata": {},
          "output_type": "execute_result"
        }
      ],
      "source": [
        "# 해당 셀을 실행하되 수정하지 마세요.\n",
        "url = 'https://archive.ics.uci.edu/ml/machine-learning-databases/iris/iris.data'\n",
        "iris_1d = np.genfromtxt(url, delimiter=',', dtype=None)\n",
        "np.random.seed(10)\n",
        "np.random.shuffle(iris_1d)\n",
        "iris_1d"
      ]
    },
    {
      "cell_type": "code",
      "execution_count": 11,
      "metadata": {
        "id": "63BiG_4drHDc"
      },
      "outputs": [
        {
          "data": {
            "text/plain": [
              "array([(6.3, 2.3, 4.4, 1.3, b'Iris-versicolor'),\n",
              "       (6.4, 2.7, 5.3, 1.9, b'Iris-virginica'),\n",
              "       (5.4, 3.7, 1.5, 0.2, b'Iris-setosa'),\n",
              "       (6.1, 3. , 4.6, 1.4, b'Iris-versicolor'),\n",
              "       (5. , 3.3, 1.4, 0.2, b'Iris-setosa'),\n",
              "       (5. , 2. , 3.5, 1. , b'Iris-versicolor'),\n",
              "       (6.3, 2.5, 4.9, 1.5, b'Iris-versicolor'),\n",
              "       (5.8, 2.7, 4.1, 1. , b'Iris-versicolor'),\n",
              "       (5.1, 3.4, 1.5, 0.2, b'Iris-setosa'),\n",
              "       (5.7, 2.8, 4.5, 1.3, b'Iris-versicolor')],\n",
              "      dtype=[('f0', '<f8'), ('f1', '<f8'), ('f2', '<f8'), ('f3', '<f8'), ('f4', 'S15')])"
            ]
          },
          "execution_count": 11,
          "metadata": {},
          "output_type": "execute_result"
        }
      ],
      "source": [
        "iris_1d[:10]"
      ]
    },
    {
      "cell_type": "markdown",
      "metadata": {
        "id": "QTLaq2qYrQGV"
      },
      "source": [
        "###1.3.2 iris data는 4개의 숫자 데이터(꽃잎의 길이)와 1개의 문자 데이터(꽃의 종)로 이루어져 있습니다. 위 문제에서의 iris10 데이터의 종 정보만 출력하시오.\n"
      ]
    },
    {
      "cell_type": "code",
      "execution_count": 12,
      "metadata": {
        "id": "FysATKCQrtTT"
      },
      "outputs": [
        {
          "data": {
            "text/plain": [
              "array([b'Iris-versicolor', b'Iris-virginica', b'Iris-setosa',\n",
              "       b'Iris-versicolor', b'Iris-setosa', b'Iris-versicolor',\n",
              "       b'Iris-versicolor', b'Iris-versicolor', b'Iris-setosa',\n",
              "       b'Iris-versicolor', b'Iris-versicolor', b'Iris-virginica',\n",
              "       b'Iris-versicolor', b'Iris-setosa', b'Iris-setosa',\n",
              "       b'Iris-virginica', b'Iris-versicolor', b'Iris-setosa',\n",
              "       b'Iris-setosa', b'Iris-setosa', b'Iris-virginica',\n",
              "       b'Iris-virginica', b'Iris-virginica', b'Iris-setosa',\n",
              "       b'Iris-versicolor', b'Iris-setosa', b'Iris-versicolor',\n",
              "       b'Iris-versicolor', b'Iris-versicolor', b'Iris-virginica',\n",
              "       b'Iris-versicolor', b'Iris-versicolor', b'Iris-virginica',\n",
              "       b'Iris-virginica', b'Iris-virginica', b'Iris-setosa',\n",
              "       b'Iris-virginica', b'Iris-virginica', b'Iris-virginica',\n",
              "       b'Iris-virginica', b'Iris-setosa', b'Iris-setosa',\n",
              "       b'Iris-versicolor', b'Iris-setosa', b'Iris-versicolor',\n",
              "       b'Iris-setosa', b'Iris-versicolor', b'Iris-versicolor',\n",
              "       b'Iris-virginica', b'Iris-virginica', b'Iris-versicolor',\n",
              "       b'Iris-virginica', b'Iris-versicolor', b'Iris-versicolor',\n",
              "       b'Iris-versicolor', b'Iris-setosa', b'Iris-setosa',\n",
              "       b'Iris-versicolor', b'Iris-setosa', b'Iris-virginica',\n",
              "       b'Iris-setosa', b'Iris-setosa', b'Iris-virginica',\n",
              "       b'Iris-versicolor', b'Iris-virginica', b'Iris-setosa',\n",
              "       b'Iris-virginica', b'Iris-setosa', b'Iris-versicolor',\n",
              "       b'Iris-versicolor', b'Iris-setosa', b'Iris-virginica',\n",
              "       b'Iris-virginica', b'Iris-virginica', b'Iris-virginica',\n",
              "       b'Iris-virginica', b'Iris-setosa', b'Iris-versicolor',\n",
              "       b'Iris-virginica', b'Iris-versicolor', b'Iris-setosa',\n",
              "       b'Iris-virginica', b'Iris-versicolor', b'Iris-versicolor',\n",
              "       b'Iris-setosa', b'Iris-setosa', b'Iris-setosa', b'Iris-versicolor',\n",
              "       b'Iris-virginica', b'Iris-virginica', b'Iris-versicolor',\n",
              "       b'Iris-setosa', b'Iris-setosa', b'Iris-setosa', b'Iris-virginica',\n",
              "       b'Iris-virginica', b'Iris-versicolor', b'Iris-versicolor',\n",
              "       b'Iris-virginica', b'Iris-virginica', b'Iris-virginica',\n",
              "       b'Iris-virginica', b'Iris-versicolor', b'Iris-setosa',\n",
              "       b'Iris-setosa', b'Iris-versicolor', b'Iris-setosa', b'Iris-setosa',\n",
              "       b'Iris-virginica', b'Iris-versicolor', b'Iris-setosa',\n",
              "       b'Iris-setosa', b'Iris-setosa', b'Iris-versicolor', b'Iris-setosa',\n",
              "       b'Iris-versicolor', b'Iris-setosa', b'Iris-versicolor',\n",
              "       b'Iris-virginica', b'Iris-setosa', b'Iris-versicolor',\n",
              "       b'Iris-versicolor', b'Iris-virginica', b'Iris-setosa',\n",
              "       b'Iris-virginica', b'Iris-setosa', b'Iris-versicolor',\n",
              "       b'Iris-versicolor', b'Iris-virginica', b'Iris-virginica',\n",
              "       b'Iris-setosa', b'Iris-versicolor', b'Iris-virginica',\n",
              "       b'Iris-virginica', b'Iris-versicolor', b'Iris-versicolor',\n",
              "       b'Iris-virginica', b'Iris-setosa', b'Iris-virginica',\n",
              "       b'Iris-setosa', b'Iris-setosa', b'Iris-versicolor', b'Iris-setosa',\n",
              "       b'Iris-virginica', b'Iris-virginica', b'Iris-virginica',\n",
              "       b'Iris-versicolor', b'Iris-setosa', b'Iris-virginica',\n",
              "       b'Iris-setosa'], dtype='|S15')"
            ]
          },
          "execution_count": 12,
          "metadata": {},
          "output_type": "execute_result"
        }
      ],
      "source": [
        "iris_1d['f4']"
      ]
    },
    {
      "cell_type": "markdown",
      "metadata": {
        "id": "HapBJ6hprt1J"
      },
      "source": [
        "### 1.3.3 iris_1d data의 앞에서 30개의 data만 추출하여 첫 번째 요소의 길이가 5.0 이하인 것만 출력하시오."
      ]
    },
    {
      "cell_type": "code",
      "execution_count": 14,
      "metadata": {},
      "outputs": [
        {
          "name": "stdout",
          "output_type": "stream",
          "text": [
            "[(5. , 3.3, 1.4, 0.2, b'Iris-setosa')\n",
            " (5. , 2. , 3.5, 1. , b'Iris-versicolor')\n",
            " (4.9, 3. , 1.4, 0.2, b'Iris-setosa') (4.4, 3. , 1.3, 0.2, b'Iris-setosa')\n",
            " (5. , 3.2, 1.2, 0.2, b'Iris-setosa') (4.8, 3.4, 1.9, 0.2, b'Iris-setosa')\n",
            " (4.7, 3.2, 1.3, 0.2, b'Iris-setosa')]\n"
          ]
        }
      ],
      "source": [
        "iris_2d = iris_1d[:30]\n",
        "iris_2d = iris_2d[iris_2d['f0'] <= 5.0]\n",
        "print(iris_2d)"
      ]
    },
    {
      "cell_type": "markdown",
      "metadata": {
        "id": "HW0TU00uuVt-"
      },
      "source": [
        "### 1.3.4 irids_1d data의 앞에서 15개의 data만 추출하여 첫 번째 요소와 네 번째 요소 간의 상관관계를 출력하시오."
      ]
    },
    {
      "cell_type": "code",
      "execution_count": 124,
      "metadata": {
        "id": "YUq4j3cYqfWZ"
      },
      "outputs": [
        {
          "name": "stdout",
          "output_type": "stream",
          "text": [
            "[[1.         0.79112507]\n",
            " [0.79112507 1.        ]]\n"
          ]
        }
      ],
      "source": [
        "cor = np.corrcoef(iris_1d[:15]['f0'], iris_1d[:15]['f3'])\n",
        "print(cor)"
      ]
    },
    {
      "cell_type": "markdown",
      "metadata": {
        "id": "E2nyt8FwvSe4"
      },
      "source": [
        "###1.3.5 iris_1d 데이터에서 각 종별로 개수가 몇 개인지 출력하시오."
      ]
    },
    {
      "cell_type": "code",
      "execution_count": 126,
      "metadata": {
        "id": "gwfehAqBwy2f"
      },
      "outputs": [
        {
          "name": "stdout",
          "output_type": "stream",
          "text": [
            "Counter({b'Iris-versicolor': 50, b'Iris-virginica': 50, b'Iris-setosa': 50})\n"
          ]
        }
      ],
      "source": [
        "from collections import Counter\n",
        "\n",
        "cnt = Counter(iris_1d['f4'])\n",
        "print(cnt)"
      ]
    },
    {
      "cell_type": "markdown",
      "metadata": {
        "id": "l0Mpd30cxP6D"
      },
      "source": [
        "###1.3.6 iris_1d 데이터 중 3번째 요소의 길이가 5.0 이상인 data의 index를 모두 출력하시오."
      ]
    },
    {
      "cell_type": "code",
      "execution_count": 138,
      "metadata": {
        "id": "jiSLD4t5xQAA"
      },
      "outputs": [
        {
          "name": "stdout",
          "output_type": "stream",
          "text": [
            "[  1  11  15  20  21  29  32  33  34  36  37  38  39  49  51  59  64  66\n",
            "  69  71  72  73  74  75  78  81  88  89  94  95  98  99 100 101 118 122\n",
            " 127 128 129 132 133 136 138 143 145 148]\n"
          ]
        }
      ],
      "source": [
        "iris_3d =  np.where(iris_1d['f2'] >= 5.0)[0]\n",
        "print(iris_3d)"
      ]
    },
    {
      "cell_type": "markdown",
      "metadata": {
        "id": "1iVtmorcxpEH"
      },
      "source": [
        "##1.4"
      ]
    },
    {
      "cell_type": "markdown",
      "metadata": {
        "id": "LqPCfC2Uxqh8"
      },
      "source": [
        "###1.4.1 0부터 1까지의 랜덤 숫자 100개로 이루어진 array를 하나 만들고 array의 평균, 분산, 표준편차, 중앙값을 출력하시오."
      ]
    },
    {
      "cell_type": "code",
      "execution_count": 141,
      "metadata": {
        "id": "zDZPHcKcyYWa"
      },
      "outputs": [
        {
          "name": "stdout",
          "output_type": "stream",
          "text": [
            "[0.35065639 0.56319068 0.29972987 0.51233415 0.67346693 0.15919373\n",
            " 0.05047767 0.33781589 0.10806377 0.17890281 0.8858271  0.36536497\n",
            " 0.21876935 0.75249617 0.10687958 0.74460324 0.46978529 0.59825567\n",
            " 0.14762019 0.18403482 0.64507213 0.04862801 0.24861251 0.54240852\n",
            " 0.22677334 0.38141153 0.92223279 0.92535687 0.56674992 0.53347088\n",
            " 0.01486002 0.97789926 0.5730289  0.791757   0.56155736 0.87733524\n",
            " 0.58419583 0.70884983 0.14853345 0.42845074 0.69389007 0.10461974\n",
            " 0.43960524 0.16620215 0.50697863 0.81903586 0.09010673 0.80006875\n",
            " 0.56512635 0.58934771 0.19810066 0.43611826 0.29590376 0.03755768\n",
            " 0.03068484 0.453105   0.74486408 0.55729541 0.3851136  0.1680728\n",
            " 0.83826132 0.5990518  0.78271482 0.84850918 0.60316298 0.78106062\n",
            " 0.61573688 0.02116519 0.75046461 0.17604213 0.45851421 0.51312271\n",
            " 0.48402089 0.84438579 0.17481389 0.01463488 0.84876407 0.74267458\n",
            " 0.45669754 0.41689841 0.11672951 0.33867913 0.09465904 0.71583087\n",
            " 0.0770854  0.20595026 0.57377623 0.29383156 0.65572674 0.80356835\n",
            " 0.3512135  0.09344038 0.81331608 0.78486672 0.39341911 0.86447919\n",
            " 0.38403077 0.25730289 0.82940192 0.7363827 ]\n"
          ]
        }
      ],
      "source": [
        "ra = np.array(np.random.rand(100))\n",
        "print(ra)"
      ]
    },
    {
      "cell_type": "code",
      "execution_count": 149,
      "metadata": {},
      "outputs": [
        {
          "name": "stdout",
          "output_type": "stream",
          "text": [
            "평균:0.46850836588891276\n",
            "분산:0.07459567350331853\n",
            "표준편차:0.2731220853452143\n",
            "중앙값:0.47690309186366014\n"
          ]
        }
      ],
      "source": [
        "m = np.mean(ra)\n",
        "v = np.var(ra)\n",
        "sd = np.std(ra)\n",
        "med = np.median(ra)\n",
        "\n",
        "print(f\"평균:{m}\\n분산:{v}\\n표준편차:{sd}\\n중앙값:{med}\")"
      ]
    },
    {
      "cell_type": "markdown",
      "metadata": {
        "id": "tm7n2QVUymf5"
      },
      "source": [
        "###1.4.2 iris_2d 데이터의 첫 번째 열과 3번째 열의 값들 간의 상관계수를 출력하시오. (iris_2d 변수의 내용을 수정하지 마시오.)"
      ]
    },
    {
      "cell_type": "code",
      "execution_count": 16,
      "metadata": {
        "id": "CUAuDxZjyoDD"
      },
      "outputs": [],
      "source": [
        "# 해당 셀을 실행만 하되 수정하지 마세요.\n",
        "url = 'https://archive.ics.uci.edu/ml/machine-learning-databases/iris/iris.data'\n",
        "iris_2d = np.genfromtxt(url, delimiter=',', dtype='float', usecols=[0,1,2,3])"
      ]
    },
    {
      "cell_type": "code",
      "execution_count": 18,
      "metadata": {
        "id": "pwxg8JYGudF7"
      },
      "outputs": [
        {
          "name": "stdout",
          "output_type": "stream",
          "text": [
            "[[1.         0.81795363]\n",
            " [0.81795363 1.        ]]\n"
          ]
        }
      ],
      "source": [
        "cor = np.corrcoef(iris_1d['f0'], iris_1d['f3'])\n",
        "\n",
        "print(cor)"
      ]
    },
    {
      "cell_type": "markdown",
      "metadata": {
        "id": "6LmSick9u1lZ"
      },
      "source": [
        "###1.4.3 0부터 10까지의 랜덤한 정수 100개로 이루어진 array를 하나 만들고 가장 빈도수가 많은 숫자를 출력하시오. (만약 빈도수가 같은 숫자가 있다면 모두 출력하시오.)"
      ]
    },
    {
      "cell_type": "code",
      "execution_count": 177,
      "metadata": {},
      "outputs": [
        {
          "name": "stdout",
          "output_type": "stream",
          "text": [
            "가장 빈도수가 많은 숫자: 2\n"
          ]
        }
      ],
      "source": [
        "ra2 = np.array(np.random.randint(0, 11, size=100))\n",
        "\n",
        "unique, counts = np.unique(ra2, return_counts=True)\n",
        "most = np.max(counts)\n",
        "num = unique[counts == most]\n",
        "\n",
        "print(\"가장 빈도수가 많은 숫자:\", num[0])"
      ]
    },
    {
      "cell_type": "markdown",
      "metadata": {
        "id": "0ZK6nBvhvkbe"
      },
      "source": [
        "### 1.4.4 numpy의 내장 함수를 이용해 현재 시간을 출력하시오. (출력 형식은 자유이고 연,월,일,시,분,초를 모두 출력해야함)"
      ]
    },
    {
      "cell_type": "code",
      "execution_count": 187,
      "metadata": {
        "id": "z2lFpGmCwCxo"
      },
      "outputs": [
        {
          "name": "stdout",
          "output_type": "stream",
          "text": [
            "2024-09-19 16:14:55\n"
          ]
        }
      ],
      "source": [
        "time = np.datetime64('now').astype(object)\n",
        "\n",
        "print(time)"
      ]
    },
    {
      "cell_type": "markdown",
      "metadata": {
        "id": "SXD38EHVwDDJ"
      },
      "source": [
        "### 1.4.5 numpy의 내장 함수를 이용해 2024년 9월 1일부터 2024년 9월 20일까지의 날짜들 중 홀수일로만 이루어진 array를 하나 만들고 출력하시오."
      ]
    },
    {
      "cell_type": "code",
      "execution_count": null,
      "metadata": {
        "id": "Y5vn4z2HwViT"
      },
      "outputs": [],
      "source": [
        "# 예시 - 2018년 2월 1일부터 2018년 2월 23일까지\n",
        "\n",
        "# ['2018-02-01' '2018-02-03' '2018-02-05' '2018-02-07' '2018-02-09'\n",
        "#  '2018-02-11' '2018-02-13' '2018-02-15' '2018-02-17' '2018-02-19'\n",
        "#  '2018-02-21' '2018-02-23']"
      ]
    },
    {
      "cell_type": "code",
      "execution_count": 191,
      "metadata": {
        "id": "cHiWgcN_wnfE"
      },
      "outputs": [
        {
          "name": "stdout",
          "output_type": "stream",
          "text": [
            "['2024-09-01' '2024-09-03' '2024-09-05' '2024-09-07' '2024-09-09'\n",
            " '2024-09-11' '2024-09-13' '2024-09-15' '2024-09-17' '2024-09-19']\n"
          ]
        }
      ],
      "source": [
        "ta = np.arange('2024-09-01', '2024-09-21', dtype='datetime64[D]')[np.arange(1, 21) % 2 == 1]\n",
        "\n",
        "print(ta)"
      ]
    },
    {
      "cell_type": "markdown",
      "metadata": {
        "id": "DmCz1Xk5wsdR"
      },
      "source": [
        "# 2. Pandas"
      ]
    },
    {
      "cell_type": "markdown",
      "metadata": {
        "id": "qneBbHkYw6mu"
      },
      "source": [
        "## 2.1 Pandas 알아보기"
      ]
    },
    {
      "cell_type": "markdown",
      "metadata": {
        "id": "6tLKPpAQw-NK"
      },
      "source": [
        "### 2.1.1 Pandas에 대한 간단한 설명을 적어주세요."
      ]
    },
    {
      "cell_type": "markdown",
      "metadata": {
        "id": "d5mbaeBqxAzo"
      },
      "source": [
        "파이썬에서 데이터를 처리하고, 분석하는 데 사용되는 라이브러리 "
      ]
    },
    {
      "cell_type": "markdown",
      "metadata": {
        "id": "tkMRj-gZxMPE"
      },
      "source": [
        "### 2.1.2 본인의 Pandas version을 출력해주세요."
      ]
    },
    {
      "cell_type": "code",
      "execution_count": 192,
      "metadata": {},
      "outputs": [
        {
          "name": "stdout",
          "output_type": "stream",
          "text": [
            "2.2.0\n"
          ]
        }
      ],
      "source": [
        "print(pd.__version__)"
      ]
    },
    {
      "cell_type": "markdown",
      "metadata": {
        "id": "wCxBkq_7xTeY"
      },
      "source": [
        "## 2.2 pandas 자료구조"
      ]
    },
    {
      "cell_type": "markdown",
      "metadata": {
        "id": "pXpq3hRxf-zE"
      },
      "source": [
        "### 2.2.1 pandas의 series와 numpy array의 차이점을 쓰시오."
      ]
    },
    {
      "cell_type": "markdown",
      "metadata": {
        "id": "77kTWPfpgOd8"
      },
      "source": [
        "numpy array는 다차원 데이터 구조를 가질 수 있지만, series는 1차원 데이터 구조만 가질 수 있다.\n",
        "\\\n",
        "numpy array는 정수 인덱스만 지원하지만, series는 사용자가 정의한 인덱스를 사용할 수 있다. "
      ]
    },
    {
      "cell_type": "markdown",
      "metadata": {
        "id": "avbVMmFwxWIL"
      },
      "source": [
        "### 2.2.2  알파벳  a-z로 이루어진 series를 하나 만들고 출력하시오."
      ]
    },
    {
      "cell_type": "code",
      "execution_count": 197,
      "metadata": {
        "id": "B-0d-YLexXvx"
      },
      "outputs": [
        {
          "name": "stdout",
          "output_type": "stream",
          "text": [
            "0     a\n",
            "1     b\n",
            "2     c\n",
            "3     d\n",
            "4     e\n",
            "5     f\n",
            "6     g\n",
            "7     h\n",
            "8     i\n",
            "9     j\n",
            "10    k\n",
            "11    l\n",
            "12    m\n",
            "13    n\n",
            "14    o\n",
            "15    p\n",
            "16    q\n",
            "17    r\n",
            "18    s\n",
            "19    t\n",
            "20    u\n",
            "21    v\n",
            "22    w\n",
            "23    x\n",
            "24    y\n",
            "25    z\n",
            "dtype: object\n"
          ]
        }
      ],
      "source": [
        "ser = pd.Series(list('abcdefghijklmnopqrstuvwxyz'))\n",
        "print(ser)"
      ]
    },
    {
      "cell_type": "markdown",
      "metadata": {
        "id": "HRPyX-lNeUV2"
      },
      "source": [
        "### 2.2.3 list1 = [2,4,6,8,10], list2 = [3,6,9,12]일 때 각 리스트를 series1, series2로 바꾼 뒤 series1과 series2를 출력하시오."
      ]
    },
    {
      "cell_type": "code",
      "execution_count": 203,
      "metadata": {
        "id": "qU3gFS6je4Jn"
      },
      "outputs": [
        {
          "name": "stdout",
          "output_type": "stream",
          "text": [
            "0     2\n",
            "1     4\n",
            "2     6\n",
            "3     8\n",
            "4    10\n",
            "dtype: int64\n",
            "0     3\n",
            "1     6\n",
            "2     9\n",
            "3    12\n",
            "dtype: int64\n"
          ]
        }
      ],
      "source": [
        "series1 = pd.Series([2, 4, 6, 8, 10])\n",
        "series2 = pd.Series([3, 6, 9, 12])\n",
        "\n",
        "print(series1)\n",
        "print(series2)"
      ]
    },
    {
      "cell_type": "markdown",
      "metadata": {
        "id": "tpuTwDSLfKw1"
      },
      "source": [
        "### 2.2.4 1부터 5까지의 정수로 이루어진 series와 6부터 10까지의 정수로 이루어진 series를 만들어 각각을 열(column)로 가지는 dataframe을 만들고 출력하시오. (2개의 열을 가지는 dataframe 출력)"
      ]
    },
    {
      "cell_type": "code",
      "execution_count": null,
      "metadata": {
        "id": "w-iXG2bafyBP"
      },
      "outputs": [],
      "source": [
        "# 예시\n",
        "#   0 1\n",
        "# 0 1 6\n",
        "# 1 2 7\n",
        "# 2 3 8\n",
        "# 3 4 9\n",
        "# 4 5 10"
      ]
    },
    {
      "cell_type": "code",
      "execution_count": 205,
      "metadata": {
        "id": "OsaoR9rVhYsT"
      },
      "outputs": [
        {
          "name": "stdout",
          "output_type": "stream",
          "text": [
            "   0   1\n",
            "0  1   6\n",
            "1  2   7\n",
            "2  3   8\n",
            "3  4   9\n",
            "4  5  10\n"
          ]
        }
      ],
      "source": [
        "s1 = pd.Series([1,2,3,4,5])\n",
        "s2 = pd.Series([6,7,8,9,10])\n",
        "\n",
        "df = pd.DataFrame({'0': s1, '1': s2})\n",
        "\n",
        "print(df)"
      ]
    },
    {
      "cell_type": "markdown",
      "metadata": {
        "id": "R4dMpq7OgSq-"
      },
      "source": [
        "### 2.2.5 1-3 정수, 4-6 정수, 7-9 정수, 10-12 정수로 이루어진 series를 만들어 각각을 행(row)으로 가지는 dataframe을 만들고 출력하시오. (4개의 행을 가지는 dataframe 출력)"
      ]
    },
    {
      "cell_type": "code",
      "execution_count": null,
      "metadata": {
        "id": "jpUuHIL9g9Mk"
      },
      "outputs": [],
      "source": [
        "# 예시\n",
        "#    0  1  2\n",
        "# 0  1  2  3\n",
        "# 1  4  5  6\n",
        "# 2  7  8  9\n",
        "# 3 10 11 12"
      ]
    },
    {
      "cell_type": "code",
      "execution_count": 206,
      "metadata": {
        "id": "70j2xBz6hpTC"
      },
      "outputs": [
        {
          "name": "stdout",
          "output_type": "stream",
          "text": [
            "    0   1   2\n",
            "0   1   2   3\n",
            "1   4   5   6\n",
            "2   7   8   9\n",
            "3  10  11  12\n"
          ]
        }
      ],
      "source": [
        "s1 = pd.Series([1,2,3])\n",
        "s2 = pd.Series([4,5,6])\n",
        "s3 = pd.Series([7,8,9])\n",
        "s4 = pd.Series([10,11,12])\n",
        "\n",
        "df2 = pd.DataFrame([s1,s2,s3,s4])\n",
        "\n",
        "print(df2)"
      ]
    },
    {
      "cell_type": "markdown",
      "metadata": {
        "id": "kaz1giaAhpvq"
      },
      "source": [
        "### 2.2.6 2.2.5에서 만든 dataframe의 index를 ['one','two','three','four']으로 바꾸고 출력하시오."
      ]
    },
    {
      "cell_type": "code",
      "execution_count": 207,
      "metadata": {
        "id": "cL83fe5Mh9AA"
      },
      "outputs": [
        {
          "name": "stdout",
          "output_type": "stream",
          "text": [
            "        0   1   2\n",
            "one     1   2   3\n",
            "two     4   5   6\n",
            "three   7   8   9\n",
            "four   10  11  12\n"
          ]
        }
      ],
      "source": [
        "df2.index = ['one', 'two', 'three', 'four']\n",
        "\n",
        "print(df2)"
      ]
    },
    {
      "cell_type": "markdown",
      "metadata": {
        "id": "G9nM6mQ8h9T3"
      },
      "source": [
        "### 2.2.7\n",
        "*  [1, 2, 3, 4, 5, 6, 7, 8, 9, 10]\n",
        "*  [10, 9, 8, 7, 6, 5, 4, 3, 2, 1]\n",
        "\n",
        "위 두 리스트를 series로 변환하고 ***원소별로 더한 값을 새로운 series로 만들어*** 출력하시오. (진한 글씨로 나타낸 부분은 한 줄로 작성)\n",
        "\n"
      ]
    },
    {
      "cell_type": "code",
      "execution_count": null,
      "metadata": {
        "id": "w4wWWipmiPVq"
      },
      "outputs": [],
      "source": [
        "# 실행하지 마시오.\n",
        "s1 = [1,2,3]\n",
        "s2 = [3,2,1]"
      ]
    },
    {
      "cell_type": "code",
      "execution_count": 209,
      "metadata": {
        "id": "cXW9DzbljgPQ"
      },
      "outputs": [
        {
          "name": "stdout",
          "output_type": "stream",
          "text": [
            "0    11\n",
            "1    11\n",
            "2    11\n",
            "3    11\n",
            "4    11\n",
            "5    11\n",
            "6    11\n",
            "7    11\n",
            "8    11\n",
            "9    11\n",
            "dtype: int64\n"
          ]
        }
      ],
      "source": [
        "se1 = pd.Series([1, 2, 3, 4, 5, 6, 7, 8, 9, 10])\n",
        "se2 = pd.Series([10, 9, 8, 7, 6, 5, 4, 3, 2, 1])\n",
        "\n",
        "se3 = se1 + se2\n",
        "\n",
        "print(se3)"
      ]
    },
    {
      "cell_type": "markdown",
      "metadata": {
        "id": "VJHFNzuliwXy"
      },
      "source": [
        "### 2.2.8 numpy의 함수를 이용하여 아래와 같은 출력을 만드시오."
      ]
    },
    {
      "cell_type": "code",
      "execution_count": null,
      "metadata": {
        "id": "tjzgOTrljrUb"
      },
      "outputs": [],
      "source": [
        "# 예시\n",
        "# 2000-01-01     1.0\n",
        "# 2000-01-03    10.0\n",
        "# 2000-01-05     3.0\n",
        "# 2000-01-07     NaN"
      ]
    },
    {
      "cell_type": "code",
      "execution_count": 21,
      "metadata": {
        "id": "FJLTh-tkkKSd"
      },
      "outputs": [
        {
          "name": "stdout",
          "output_type": "stream",
          "text": [
            "2000-01-01     1.0\n",
            "2000-01-03     10.0\n",
            "2000-01-05     3.0\n",
            "2000-01-07     nan\n"
          ]
        }
      ],
      "source": [
        "d = np.array(['2000-01-01', '2000-01-03', '2000-01-05', '2000-01-07'], dtype='datetime64[D]')\n",
        "v = np.array([1.0, 10.0, 3.0, np.nan])\n",
        "\n",
        "res = zip(d, v)\n",
        "\n",
        "for d, v in res:\n",
        "    print(f\"{d}     {v}\")"
      ]
    },
    {
      "cell_type": "markdown",
      "metadata": {
        "id": "bPe0FrnYk3l5"
      },
      "source": [
        "## 2.3"
      ]
    },
    {
      "cell_type": "markdown",
      "metadata": {
        "id": "NUGmuVVBkKp-"
      },
      "source": [
        "### 2.3.1 아래 path에 해당하는 경로의 csv 파일을 읽고 그 내용을 cars93 이라는 변수로 저장한 뒤 출력하시오."
      ]
    },
    {
      "cell_type": "markdown",
      "metadata": {
        "id": "rXAdW_aSlpCU"
      },
      "source": [
        "**cars93 변수의 내용을 변경하지 마시오.**"
      ]
    },
    {
      "cell_type": "code",
      "execution_count": 220,
      "metadata": {
        "id": "-Qdi-VHgkVfQ"
      },
      "outputs": [],
      "source": [
        "# 해당 셀을 실행하되 수정하지 마세요.\n",
        "path = 'https://raw.githubusercontent.com/selva86/datasets/master/Cars93_miss.csv'"
      ]
    },
    {
      "cell_type": "code",
      "execution_count": 221,
      "metadata": {
        "id": "JSofka2vky26"
      },
      "outputs": [
        {
          "name": "stdout",
          "output_type": "stream",
          "text": [
            "   Manufacturer    Model     Type  Min.Price  Price  Max.Price  MPG.city  \\\n",
            "0         Acura  Integra    Small       12.9   15.9       18.8      25.0   \n",
            "1           NaN   Legend  Midsize       29.2   33.9       38.7      18.0   \n",
            "2          Audi       90  Compact       25.9   29.1       32.3      20.0   \n",
            "3          Audi      100  Midsize        NaN   37.7       44.6      19.0   \n",
            "4           BMW     535i  Midsize        NaN   30.0        NaN      22.0   \n",
            "..          ...      ...      ...        ...    ...        ...       ...   \n",
            "88   Volkswagen  Eurovan      Van       16.6   19.7       22.7      17.0   \n",
            "89   Volkswagen   Passat  Compact       17.6   20.0       22.4      21.0   \n",
            "90   Volkswagen  Corrado   Sporty       22.9   23.3       23.7      18.0   \n",
            "91        Volvo      240  Compact       21.8   22.7       23.5      21.0   \n",
            "92          NaN      850  Midsize       24.8   26.7       28.5      20.0   \n",
            "\n",
            "    MPG.highway             AirBags DriveTrain  ... Passengers  Length  \\\n",
            "0          31.0                 NaN      Front  ...        5.0   177.0   \n",
            "1          25.0  Driver & Passenger      Front  ...        5.0   195.0   \n",
            "2          26.0         Driver only      Front  ...        5.0   180.0   \n",
            "3          26.0  Driver & Passenger        NaN  ...        6.0   193.0   \n",
            "4          30.0                 NaN       Rear  ...        4.0   186.0   \n",
            "..          ...                 ...        ...  ...        ...     ...   \n",
            "88         21.0                 NaN      Front  ...        7.0   187.0   \n",
            "89         30.0                 NaN      Front  ...        5.0   180.0   \n",
            "90         25.0                 NaN      Front  ...        4.0   159.0   \n",
            "91         28.0         Driver only       Rear  ...        5.0   190.0   \n",
            "92         28.0  Driver & Passenger      Front  ...        5.0   184.0   \n",
            "\n",
            "    Wheelbase  Width  Turn.circle Rear.seat.room  Luggage.room  Weight  \\\n",
            "0       102.0   68.0         37.0           26.5           NaN  2705.0   \n",
            "1       115.0   71.0         38.0           30.0          15.0  3560.0   \n",
            "2       102.0   67.0         37.0           28.0          14.0  3375.0   \n",
            "3       106.0    NaN         37.0           31.0          17.0  3405.0   \n",
            "4       109.0   69.0         39.0           27.0          13.0  3640.0   \n",
            "..        ...    ...          ...            ...           ...     ...   \n",
            "88      115.0   72.0         38.0           34.0           NaN  3960.0   \n",
            "89      103.0   67.0         35.0           31.5          14.0  2985.0   \n",
            "90       97.0   66.0         36.0           26.0          15.0  2810.0   \n",
            "91      104.0   67.0         37.0           29.5          14.0  2985.0   \n",
            "92      105.0   69.0         38.0           30.0          15.0  3245.0   \n",
            "\n",
            "     Origin                Make  \n",
            "0   non-USA       Acura Integra  \n",
            "1   non-USA        Acura Legend  \n",
            "2   non-USA             Audi 90  \n",
            "3   non-USA            Audi 100  \n",
            "4   non-USA            BMW 535i  \n",
            "..      ...                 ...  \n",
            "88      NaN  Volkswagen Eurovan  \n",
            "89  non-USA   Volkswagen Passat  \n",
            "90  non-USA  Volkswagen Corrado  \n",
            "91  non-USA           Volvo 240  \n",
            "92  non-USA           Volvo 850  \n",
            "\n",
            "[93 rows x 27 columns]\n"
          ]
        }
      ],
      "source": [
        "cars93 = pd.read_csv(path)\n",
        "\n",
        "print(cars93)"
      ]
    },
    {
      "cell_type": "markdown",
      "metadata": {
        "id": "164qXzTnk1qn"
      },
      "source": [
        "### 2.3.2 위에서 cars93 데이터의 요약을 출력하시오."
      ]
    },
    {
      "cell_type": "code",
      "execution_count": 223,
      "metadata": {
        "id": "NVCdRdHulDkx"
      },
      "outputs": [
        {
          "data": {
            "text/html": [
              "<div>\n",
              "<style scoped>\n",
              "    .dataframe tbody tr th:only-of-type {\n",
              "        vertical-align: middle;\n",
              "    }\n",
              "\n",
              "    .dataframe tbody tr th {\n",
              "        vertical-align: top;\n",
              "    }\n",
              "\n",
              "    .dataframe thead th {\n",
              "        text-align: right;\n",
              "    }\n",
              "</style>\n",
              "<table border=\"1\" class=\"dataframe\">\n",
              "  <thead>\n",
              "    <tr style=\"text-align: right;\">\n",
              "      <th></th>\n",
              "      <th>Manufacturer</th>\n",
              "      <th>Model</th>\n",
              "      <th>Type</th>\n",
              "      <th>Min.Price</th>\n",
              "      <th>Price</th>\n",
              "      <th>Max.Price</th>\n",
              "      <th>MPG.city</th>\n",
              "      <th>MPG.highway</th>\n",
              "      <th>AirBags</th>\n",
              "      <th>DriveTrain</th>\n",
              "      <th>...</th>\n",
              "      <th>Passengers</th>\n",
              "      <th>Length</th>\n",
              "      <th>Wheelbase</th>\n",
              "      <th>Width</th>\n",
              "      <th>Turn.circle</th>\n",
              "      <th>Rear.seat.room</th>\n",
              "      <th>Luggage.room</th>\n",
              "      <th>Weight</th>\n",
              "      <th>Origin</th>\n",
              "      <th>Make</th>\n",
              "    </tr>\n",
              "  </thead>\n",
              "  <tbody>\n",
              "    <tr>\n",
              "      <th>count</th>\n",
              "      <td>89</td>\n",
              "      <td>92</td>\n",
              "      <td>90</td>\n",
              "      <td>86.000000</td>\n",
              "      <td>91.000000</td>\n",
              "      <td>88.000000</td>\n",
              "      <td>84.000000</td>\n",
              "      <td>91.000000</td>\n",
              "      <td>55</td>\n",
              "      <td>86</td>\n",
              "      <td>...</td>\n",
              "      <td>91.000000</td>\n",
              "      <td>89.000000</td>\n",
              "      <td>92.000000</td>\n",
              "      <td>87.000000</td>\n",
              "      <td>88.000000</td>\n",
              "      <td>89.000000</td>\n",
              "      <td>74.000000</td>\n",
              "      <td>86.000000</td>\n",
              "      <td>88</td>\n",
              "      <td>90</td>\n",
              "    </tr>\n",
              "    <tr>\n",
              "      <th>unique</th>\n",
              "      <td>31</td>\n",
              "      <td>92</td>\n",
              "      <td>6</td>\n",
              "      <td>NaN</td>\n",
              "      <td>NaN</td>\n",
              "      <td>NaN</td>\n",
              "      <td>NaN</td>\n",
              "      <td>NaN</td>\n",
              "      <td>2</td>\n",
              "      <td>3</td>\n",
              "      <td>...</td>\n",
              "      <td>NaN</td>\n",
              "      <td>NaN</td>\n",
              "      <td>NaN</td>\n",
              "      <td>NaN</td>\n",
              "      <td>NaN</td>\n",
              "      <td>NaN</td>\n",
              "      <td>NaN</td>\n",
              "      <td>NaN</td>\n",
              "      <td>2</td>\n",
              "      <td>90</td>\n",
              "    </tr>\n",
              "    <tr>\n",
              "      <th>top</th>\n",
              "      <td>Ford</td>\n",
              "      <td>Integra</td>\n",
              "      <td>Midsize</td>\n",
              "      <td>NaN</td>\n",
              "      <td>NaN</td>\n",
              "      <td>NaN</td>\n",
              "      <td>NaN</td>\n",
              "      <td>NaN</td>\n",
              "      <td>Driver only</td>\n",
              "      <td>Front</td>\n",
              "      <td>...</td>\n",
              "      <td>NaN</td>\n",
              "      <td>NaN</td>\n",
              "      <td>NaN</td>\n",
              "      <td>NaN</td>\n",
              "      <td>NaN</td>\n",
              "      <td>NaN</td>\n",
              "      <td>NaN</td>\n",
              "      <td>NaN</td>\n",
              "      <td>USA</td>\n",
              "      <td>Acura Integra</td>\n",
              "    </tr>\n",
              "    <tr>\n",
              "      <th>freq</th>\n",
              "      <td>8</td>\n",
              "      <td>1</td>\n",
              "      <td>22</td>\n",
              "      <td>NaN</td>\n",
              "      <td>NaN</td>\n",
              "      <td>NaN</td>\n",
              "      <td>NaN</td>\n",
              "      <td>NaN</td>\n",
              "      <td>39</td>\n",
              "      <td>61</td>\n",
              "      <td>...</td>\n",
              "      <td>NaN</td>\n",
              "      <td>NaN</td>\n",
              "      <td>NaN</td>\n",
              "      <td>NaN</td>\n",
              "      <td>NaN</td>\n",
              "      <td>NaN</td>\n",
              "      <td>NaN</td>\n",
              "      <td>NaN</td>\n",
              "      <td>46</td>\n",
              "      <td>1</td>\n",
              "    </tr>\n",
              "    <tr>\n",
              "      <th>mean</th>\n",
              "      <td>NaN</td>\n",
              "      <td>NaN</td>\n",
              "      <td>NaN</td>\n",
              "      <td>17.118605</td>\n",
              "      <td>19.616484</td>\n",
              "      <td>21.459091</td>\n",
              "      <td>22.404762</td>\n",
              "      <td>29.065934</td>\n",
              "      <td>NaN</td>\n",
              "      <td>NaN</td>\n",
              "      <td>...</td>\n",
              "      <td>5.076923</td>\n",
              "      <td>182.865169</td>\n",
              "      <td>103.956522</td>\n",
              "      <td>69.448276</td>\n",
              "      <td>38.954545</td>\n",
              "      <td>27.853933</td>\n",
              "      <td>13.986486</td>\n",
              "      <td>3104.593023</td>\n",
              "      <td>NaN</td>\n",
              "      <td>NaN</td>\n",
              "    </tr>\n",
              "    <tr>\n",
              "      <th>std</th>\n",
              "      <td>NaN</td>\n",
              "      <td>NaN</td>\n",
              "      <td>NaN</td>\n",
              "      <td>8.828290</td>\n",
              "      <td>9.724280</td>\n",
              "      <td>10.696563</td>\n",
              "      <td>5.841520</td>\n",
              "      <td>5.370293</td>\n",
              "      <td>NaN</td>\n",
              "      <td>NaN</td>\n",
              "      <td>...</td>\n",
              "      <td>1.045953</td>\n",
              "      <td>14.792651</td>\n",
              "      <td>6.856317</td>\n",
              "      <td>3.778023</td>\n",
              "      <td>3.304157</td>\n",
              "      <td>3.018129</td>\n",
              "      <td>3.120824</td>\n",
              "      <td>600.129993</td>\n",
              "      <td>NaN</td>\n",
              "      <td>NaN</td>\n",
              "    </tr>\n",
              "    <tr>\n",
              "      <th>min</th>\n",
              "      <td>NaN</td>\n",
              "      <td>NaN</td>\n",
              "      <td>NaN</td>\n",
              "      <td>6.700000</td>\n",
              "      <td>7.400000</td>\n",
              "      <td>7.900000</td>\n",
              "      <td>15.000000</td>\n",
              "      <td>20.000000</td>\n",
              "      <td>NaN</td>\n",
              "      <td>NaN</td>\n",
              "      <td>...</td>\n",
              "      <td>2.000000</td>\n",
              "      <td>141.000000</td>\n",
              "      <td>90.000000</td>\n",
              "      <td>60.000000</td>\n",
              "      <td>32.000000</td>\n",
              "      <td>19.000000</td>\n",
              "      <td>6.000000</td>\n",
              "      <td>1695.000000</td>\n",
              "      <td>NaN</td>\n",
              "      <td>NaN</td>\n",
              "    </tr>\n",
              "    <tr>\n",
              "      <th>25%</th>\n",
              "      <td>NaN</td>\n",
              "      <td>NaN</td>\n",
              "      <td>NaN</td>\n",
              "      <td>10.825000</td>\n",
              "      <td>12.350000</td>\n",
              "      <td>14.575000</td>\n",
              "      <td>18.000000</td>\n",
              "      <td>26.000000</td>\n",
              "      <td>NaN</td>\n",
              "      <td>NaN</td>\n",
              "      <td>...</td>\n",
              "      <td>4.000000</td>\n",
              "      <td>174.000000</td>\n",
              "      <td>98.000000</td>\n",
              "      <td>67.000000</td>\n",
              "      <td>36.000000</td>\n",
              "      <td>26.000000</td>\n",
              "      <td>12.000000</td>\n",
              "      <td>2647.500000</td>\n",
              "      <td>NaN</td>\n",
              "      <td>NaN</td>\n",
              "    </tr>\n",
              "    <tr>\n",
              "      <th>50%</th>\n",
              "      <td>NaN</td>\n",
              "      <td>NaN</td>\n",
              "      <td>NaN</td>\n",
              "      <td>14.600000</td>\n",
              "      <td>17.700000</td>\n",
              "      <td>19.150000</td>\n",
              "      <td>21.000000</td>\n",
              "      <td>28.000000</td>\n",
              "      <td>NaN</td>\n",
              "      <td>NaN</td>\n",
              "      <td>...</td>\n",
              "      <td>5.000000</td>\n",
              "      <td>181.000000</td>\n",
              "      <td>103.000000</td>\n",
              "      <td>69.000000</td>\n",
              "      <td>39.000000</td>\n",
              "      <td>27.500000</td>\n",
              "      <td>14.000000</td>\n",
              "      <td>3085.000000</td>\n",
              "      <td>NaN</td>\n",
              "      <td>NaN</td>\n",
              "    </tr>\n",
              "    <tr>\n",
              "      <th>75%</th>\n",
              "      <td>NaN</td>\n",
              "      <td>NaN</td>\n",
              "      <td>NaN</td>\n",
              "      <td>20.250000</td>\n",
              "      <td>23.500000</td>\n",
              "      <td>24.825000</td>\n",
              "      <td>25.000000</td>\n",
              "      <td>31.000000</td>\n",
              "      <td>NaN</td>\n",
              "      <td>NaN</td>\n",
              "      <td>...</td>\n",
              "      <td>6.000000</td>\n",
              "      <td>192.000000</td>\n",
              "      <td>110.000000</td>\n",
              "      <td>72.000000</td>\n",
              "      <td>42.000000</td>\n",
              "      <td>30.000000</td>\n",
              "      <td>16.000000</td>\n",
              "      <td>3567.500000</td>\n",
              "      <td>NaN</td>\n",
              "      <td>NaN</td>\n",
              "    </tr>\n",
              "    <tr>\n",
              "      <th>max</th>\n",
              "      <td>NaN</td>\n",
              "      <td>NaN</td>\n",
              "      <td>NaN</td>\n",
              "      <td>45.400000</td>\n",
              "      <td>61.900000</td>\n",
              "      <td>80.000000</td>\n",
              "      <td>46.000000</td>\n",
              "      <td>50.000000</td>\n",
              "      <td>NaN</td>\n",
              "      <td>NaN</td>\n",
              "      <td>...</td>\n",
              "      <td>8.000000</td>\n",
              "      <td>219.000000</td>\n",
              "      <td>119.000000</td>\n",
              "      <td>78.000000</td>\n",
              "      <td>45.000000</td>\n",
              "      <td>36.000000</td>\n",
              "      <td>22.000000</td>\n",
              "      <td>4105.000000</td>\n",
              "      <td>NaN</td>\n",
              "      <td>NaN</td>\n",
              "    </tr>\n",
              "  </tbody>\n",
              "</table>\n",
              "<p>11 rows × 27 columns</p>\n",
              "</div>"
            ],
            "text/plain": [
              "       Manufacturer    Model     Type  Min.Price      Price  Max.Price  \\\n",
              "count            89       92       90  86.000000  91.000000  88.000000   \n",
              "unique           31       92        6        NaN        NaN        NaN   \n",
              "top            Ford  Integra  Midsize        NaN        NaN        NaN   \n",
              "freq              8        1       22        NaN        NaN        NaN   \n",
              "mean            NaN      NaN      NaN  17.118605  19.616484  21.459091   \n",
              "std             NaN      NaN      NaN   8.828290   9.724280  10.696563   \n",
              "min             NaN      NaN      NaN   6.700000   7.400000   7.900000   \n",
              "25%             NaN      NaN      NaN  10.825000  12.350000  14.575000   \n",
              "50%             NaN      NaN      NaN  14.600000  17.700000  19.150000   \n",
              "75%             NaN      NaN      NaN  20.250000  23.500000  24.825000   \n",
              "max             NaN      NaN      NaN  45.400000  61.900000  80.000000   \n",
              "\n",
              "         MPG.city  MPG.highway      AirBags DriveTrain  ... Passengers  \\\n",
              "count   84.000000    91.000000           55         86  ...  91.000000   \n",
              "unique        NaN          NaN            2          3  ...        NaN   \n",
              "top           NaN          NaN  Driver only      Front  ...        NaN   \n",
              "freq          NaN          NaN           39         61  ...        NaN   \n",
              "mean    22.404762    29.065934          NaN        NaN  ...   5.076923   \n",
              "std      5.841520     5.370293          NaN        NaN  ...   1.045953   \n",
              "min     15.000000    20.000000          NaN        NaN  ...   2.000000   \n",
              "25%     18.000000    26.000000          NaN        NaN  ...   4.000000   \n",
              "50%     21.000000    28.000000          NaN        NaN  ...   5.000000   \n",
              "75%     25.000000    31.000000          NaN        NaN  ...   6.000000   \n",
              "max     46.000000    50.000000          NaN        NaN  ...   8.000000   \n",
              "\n",
              "            Length   Wheelbase      Width  Turn.circle Rear.seat.room  \\\n",
              "count    89.000000   92.000000  87.000000    88.000000      89.000000   \n",
              "unique         NaN         NaN        NaN          NaN            NaN   \n",
              "top            NaN         NaN        NaN          NaN            NaN   \n",
              "freq           NaN         NaN        NaN          NaN            NaN   \n",
              "mean    182.865169  103.956522  69.448276    38.954545      27.853933   \n",
              "std      14.792651    6.856317   3.778023     3.304157       3.018129   \n",
              "min     141.000000   90.000000  60.000000    32.000000      19.000000   \n",
              "25%     174.000000   98.000000  67.000000    36.000000      26.000000   \n",
              "50%     181.000000  103.000000  69.000000    39.000000      27.500000   \n",
              "75%     192.000000  110.000000  72.000000    42.000000      30.000000   \n",
              "max     219.000000  119.000000  78.000000    45.000000      36.000000   \n",
              "\n",
              "        Luggage.room       Weight  Origin           Make  \n",
              "count      74.000000    86.000000      88             90  \n",
              "unique           NaN          NaN       2             90  \n",
              "top              NaN          NaN     USA  Acura Integra  \n",
              "freq             NaN          NaN      46              1  \n",
              "mean       13.986486  3104.593023     NaN            NaN  \n",
              "std         3.120824   600.129993     NaN            NaN  \n",
              "min         6.000000  1695.000000     NaN            NaN  \n",
              "25%        12.000000  2647.500000     NaN            NaN  \n",
              "50%        14.000000  3085.000000     NaN            NaN  \n",
              "75%        16.000000  3567.500000     NaN            NaN  \n",
              "max        22.000000  4105.000000     NaN            NaN  \n",
              "\n",
              "[11 rows x 27 columns]"
            ]
          },
          "execution_count": 223,
          "metadata": {},
          "output_type": "execute_result"
        }
      ],
      "source": [
        "cars93.describe(include='all')"
      ]
    },
    {
      "cell_type": "markdown",
      "metadata": {
        "id": "HAr9zWIUlD9U"
      },
      "source": [
        "### 2.3.3 cars93에서 price가 가장 높은 제품의 manufacturer을 출력하시오."
      ]
    },
    {
      "cell_type": "code",
      "execution_count": 227,
      "metadata": {
        "id": "NZzvFXUhmCrK"
      },
      "outputs": [
        {
          "name": "stdout",
          "output_type": "stream",
          "text": [
            "Mercedes-Benz\n"
          ]
        }
      ],
      "source": [
        "manu = cars93.loc[cars93['Price'].idxmax(), 'Manufacturer']\n",
        "print(manu)"
      ]
    },
    {
      "cell_type": "markdown",
      "metadata": {
        "id": "BvLtRyUymCX0"
      },
      "source": [
        "### 2.3.4 cars93에서 'Type'열의 이름을 'CarType'으로 바꾸고 Renamed라는 이름의 변수에 저장한 뒤 출력하시오."
      ]
    },
    {
      "cell_type": "code",
      "execution_count": 231,
      "metadata": {
        "id": "GjnChGMQmfk8"
      },
      "outputs": [
        {
          "name": "stdout",
          "output_type": "stream",
          "text": [
            "   Manufacturer    Model  CarType  Min.Price  Price  Max.Price  MPG.city  \\\n",
            "0         Acura  Integra    Small       12.9   15.9       18.8      25.0   \n",
            "1           NaN   Legend  Midsize       29.2   33.9       38.7      18.0   \n",
            "2          Audi       90  Compact       25.9   29.1       32.3      20.0   \n",
            "3          Audi      100  Midsize        NaN   37.7       44.6      19.0   \n",
            "4           BMW     535i  Midsize        NaN   30.0        NaN      22.0   \n",
            "..          ...      ...      ...        ...    ...        ...       ...   \n",
            "88   Volkswagen  Eurovan      Van       16.6   19.7       22.7      17.0   \n",
            "89   Volkswagen   Passat  Compact       17.6   20.0       22.4      21.0   \n",
            "90   Volkswagen  Corrado   Sporty       22.9   23.3       23.7      18.0   \n",
            "91        Volvo      240  Compact       21.8   22.7       23.5      21.0   \n",
            "92          NaN      850  Midsize       24.8   26.7       28.5      20.0   \n",
            "\n",
            "    MPG.highway             AirBags DriveTrain  ... Passengers  Length  \\\n",
            "0          31.0                 NaN      Front  ...        5.0   177.0   \n",
            "1          25.0  Driver & Passenger      Front  ...        5.0   195.0   \n",
            "2          26.0         Driver only      Front  ...        5.0   180.0   \n",
            "3          26.0  Driver & Passenger        NaN  ...        6.0   193.0   \n",
            "4          30.0                 NaN       Rear  ...        4.0   186.0   \n",
            "..          ...                 ...        ...  ...        ...     ...   \n",
            "88         21.0                 NaN      Front  ...        7.0   187.0   \n",
            "89         30.0                 NaN      Front  ...        5.0   180.0   \n",
            "90         25.0                 NaN      Front  ...        4.0   159.0   \n",
            "91         28.0         Driver only       Rear  ...        5.0   190.0   \n",
            "92         28.0  Driver & Passenger      Front  ...        5.0   184.0   \n",
            "\n",
            "    Wheelbase  Width  Turn.circle Rear.seat.room  Luggage.room  Weight  \\\n",
            "0       102.0   68.0         37.0           26.5           NaN  2705.0   \n",
            "1       115.0   71.0         38.0           30.0          15.0  3560.0   \n",
            "2       102.0   67.0         37.0           28.0          14.0  3375.0   \n",
            "3       106.0    NaN         37.0           31.0          17.0  3405.0   \n",
            "4       109.0   69.0         39.0           27.0          13.0  3640.0   \n",
            "..        ...    ...          ...            ...           ...     ...   \n",
            "88      115.0   72.0         38.0           34.0           NaN  3960.0   \n",
            "89      103.0   67.0         35.0           31.5          14.0  2985.0   \n",
            "90       97.0   66.0         36.0           26.0          15.0  2810.0   \n",
            "91      104.0   67.0         37.0           29.5          14.0  2985.0   \n",
            "92      105.0   69.0         38.0           30.0          15.0  3245.0   \n",
            "\n",
            "     Origin                Make  \n",
            "0   non-USA       Acura Integra  \n",
            "1   non-USA        Acura Legend  \n",
            "2   non-USA             Audi 90  \n",
            "3   non-USA            Audi 100  \n",
            "4   non-USA            BMW 535i  \n",
            "..      ...                 ...  \n",
            "88      NaN  Volkswagen Eurovan  \n",
            "89  non-USA   Volkswagen Passat  \n",
            "90  non-USA  Volkswagen Corrado  \n",
            "91  non-USA           Volvo 240  \n",
            "92  non-USA           Volvo 850  \n",
            "\n",
            "[93 rows x 27 columns]\n"
          ]
        }
      ],
      "source": [
        "Renamed = cars93.rename(columns={'Type':'CarType'})\n",
        "print(Renamed)"
      ]
    },
    {
      "cell_type": "markdown",
      "metadata": {
        "id": "26wKgIIamgBf"
      },
      "source": [
        "### 2.3.5 Renamed의 모든 열의 내용중 '.'을 '_'으로 바꾼뒤 Renamed를 출력하시오. (반복문 외의 다른 방법을 사용하시오)\n",
        "\n",
        "**예시**\n",
        "\n",
        "* Min.Price -> Min_Price\n",
        "* MPG.city -> MPG_city"
      ]
    },
    {
      "cell_type": "code",
      "execution_count": 233,
      "metadata": {
        "id": "enP9rsgSnWt8"
      },
      "outputs": [
        {
          "name": "stdout",
          "output_type": "stream",
          "text": [
            "Index(['Manufacturer', 'Model', 'CarType', 'Min_Price', 'Price', 'Max_Price',\n",
            "       'MPG_city', 'MPG_highway', 'AirBags', 'DriveTrain', 'Cylinders',\n",
            "       'EngineSize', 'Horsepower', 'RPM', 'Rev_per_mile', 'Man_trans_avail',\n",
            "       'Fuel_tank_capacity', 'Passengers', 'Length', 'Wheelbase', 'Width',\n",
            "       'Turn_circle', 'Rear_seat_room', 'Luggage_room', 'Weight', 'Origin',\n",
            "       'Make'],\n",
            "      dtype='object')\n"
          ]
        }
      ],
      "source": [
        "Renamed = Renamed.columns.str.replace('.', '_')\n",
        "print(Renamed)"
      ]
    },
    {
      "cell_type": "markdown",
      "metadata": {
        "id": "yV_qYcL2nXSL"
      },
      "source": [
        "### 2.3.6 아래 missing_path는 결측치가 데이터로 해당 경로의 csv 파일을 열어 결측치를 확인하고 그 개수를 출력하시오."
      ]
    },
    {
      "cell_type": "code",
      "execution_count": 234,
      "metadata": {
        "id": "NJOCfjLOoJ5X"
      },
      "outputs": [],
      "source": [
        "# 해당 셀을 실행하되 수정하지 마세요.\n",
        "missing_path = 'https://raw.githubusercontent.com/selva86/datasets/master/Cars93_miss.csv'"
      ]
    },
    {
      "cell_type": "code",
      "execution_count": 236,
      "metadata": {
        "id": "i0Nu9efBoQwI"
      },
      "outputs": [
        {
          "name": "stdout",
          "output_type": "stream",
          "text": [
            "Manufacturer           4\n",
            "Model                  1\n",
            "Type                   3\n",
            "Min.Price              7\n",
            "Price                  2\n",
            "Max.Price              5\n",
            "MPG.city               9\n",
            "MPG.highway            2\n",
            "AirBags               38\n",
            "DriveTrain             7\n",
            "Cylinders              5\n",
            "EngineSize             2\n",
            "Horsepower             7\n",
            "RPM                    3\n",
            "Rev.per.mile           6\n",
            "Man.trans.avail        5\n",
            "Fuel.tank.capacity     8\n",
            "Passengers             2\n",
            "Length                 4\n",
            "Wheelbase              1\n",
            "Width                  6\n",
            "Turn.circle            5\n",
            "Rear.seat.room         4\n",
            "Luggage.room          19\n",
            "Weight                 7\n",
            "Origin                 5\n",
            "Make                   3\n",
            "dtype: int64\n"
          ]
        }
      ],
      "source": [
        "miss = pd.read_csv(missing_path)\n",
        "miss_val = cars93.isnull().sum()\n",
        "print(miss_val)"
      ]
    },
    {
      "cell_type": "markdown",
      "metadata": {
        "id": "wcNYBAomoRIM"
      },
      "source": [
        "### 2.3.7 위의 데이터 중 결측치가 가장 많은 열을 출력하시오."
      ]
    },
    {
      "cell_type": "code",
      "execution_count": 237,
      "metadata": {
        "id": "x9J0CIsEom3I"
      },
      "outputs": [
        {
          "name": "stdout",
          "output_type": "stream",
          "text": [
            "AirBags\n"
          ]
        }
      ],
      "source": [
        "most_col = miss_val.idxmax()\n",
        "\n",
        "print(most_col)"
      ]
    },
    {
      "cell_type": "markdown",
      "metadata": {
        "id": "mKZbeCLSonXw"
      },
      "source": [
        "### 2.3.8 정수 1부터 20까지로 이루어진 series를 만들고 4x5 크기의 dataframe으로 변형한 뒤 출력하시오. 그리고 해당 dataframe의 2,3번째 열만 출력하시오."
      ]
    },
    {
      "cell_type": "code",
      "execution_count": 243,
      "metadata": {
        "id": "Aau8l9_IpPuc"
      },
      "outputs": [
        {
          "name": "stdout",
          "output_type": "stream",
          "text": [
            "    a   b   c   d   e\n",
            "0   1   2   3   4   5\n",
            "1   6   7   8   9  10\n",
            "2  11  12  13  14  15\n",
            "3  16  17  18  19  20\n",
            "\n",
            "    b   c\n",
            "0   2   3\n",
            "1   7   8\n",
            "2  12  13\n",
            "3  17  18\n"
          ]
        }
      ],
      "source": [
        "ser = pd.Series(np.arange(1, 21))\n",
        "\n",
        "dfm = pd.DataFrame(ser.values.reshape(4,5), columns=[\"a\", \"b\",\"c\",\"d\",\"e\"])\n",
        "\n",
        "print(dfm)\n",
        "print(\"\")\n",
        "print(dfm.iloc[:, [1, 2]])"
      ]
    },
    {
      "cell_type": "markdown",
      "metadata": {
        "id": "ktfWWNlmpNhp"
      },
      "source": [
        "### 2.3.9 문제 2.3.8에서 만든 dataframe의 열을 알파벳 순으로('a','b','c',...) 열 이름을 변경하고 a열과 c열만 출력하시오."
      ]
    },
    {
      "cell_type": "code",
      "execution_count": 244,
      "metadata": {
        "id": "55Mc0AO-p1jZ"
      },
      "outputs": [
        {
          "name": "stdout",
          "output_type": "stream",
          "text": [
            "    a   c\n",
            "0   1   3\n",
            "1   6   8\n",
            "2  11  13\n",
            "3  16  18\n"
          ]
        }
      ],
      "source": [
        "print(dfm[['a', 'c']])"
      ]
    },
    {
      "cell_type": "markdown",
      "metadata": {
        "id": "e60H7kj2lYU1"
      },
      "source": [
        "# 3. Matplotlib"
      ]
    },
    {
      "cell_type": "markdown",
      "metadata": {
        "id": "R2FtupgVqK4W"
      },
      "source": [
        "## 3.1 Matplotlib 알아보기"
      ]
    },
    {
      "cell_type": "markdown",
      "metadata": {
        "id": "4UXv03CrqX9I"
      },
      "source": [
        "###3.1.1 matplotlib의 pyplot libraby에 대한 간단한 설명을 적어주세요."
      ]
    },
    {
      "cell_type": "markdown",
      "metadata": {},
      "source": [
        "데이터 시각화에 사용되는 라이브러리 "
      ]
    },
    {
      "cell_type": "markdown",
      "metadata": {
        "id": "yc7uMExiqHFA"
      },
      "source": [
        "### 3.1.2 본인의 matplotlib.pyplot의 version을 출력하시오."
      ]
    },
    {
      "cell_type": "code",
      "execution_count": 249,
      "metadata": {
        "id": "uwyuyZ62mdpB"
      },
      "outputs": [
        {
          "name": "stdout",
          "output_type": "stream",
          "text": [
            "3.8.3\n"
          ]
        }
      ],
      "source": [
        "import matplotlib\n",
        "print(matplotlib.__version__)"
      ]
    },
    {
      "cell_type": "markdown",
      "metadata": {
        "id": "sOctvUCKoFYu"
      },
      "source": [
        "## 3.2"
      ]
    },
    {
      "cell_type": "markdown",
      "metadata": {
        "id": "sa158IqHmeUJ"
      },
      "source": [
        "### 3.2.1 아래의 조건에 맞추어 주어진 데이터 X,Y의 값에 대한 꺽은선 그래프를 그리시오.\n",
        "\n",
        "1. x,y축의 이름을 붙이시오.\n",
        "2. 그래프의 제목은 'Line'이라고 붙이시오.\n",
        "3. 그래프의 선 색을 빨간색으로 하시오.\n",
        "4. x축의 눈금은 5단위로 표시하시오."
      ]
    },
    {
      "cell_type": "code",
      "execution_count": 250,
      "metadata": {},
      "outputs": [],
      "source": [
        "import matplotlib.pyplot as plt"
      ]
    },
    {
      "cell_type": "code",
      "execution_count": 251,
      "metadata": {
        "id": "XUAtW4R0m4x_"
      },
      "outputs": [],
      "source": [
        "# 해당 셀을 실행하되 수정하지 마시오.\n",
        "X = range(1, 50)\n",
        "Y = [value * 3 for value in X]"
      ]
    },
    {
      "cell_type": "code",
      "execution_count": 255,
      "metadata": {
        "id": "-AjfqGQ4m7L3"
      },
      "outputs": [
        {
          "data": {
            "text/plain": [
              "[<matplotlib.lines.Line2D at 0x20b23b15e10>]"
            ]
          },
          "execution_count": 255,
          "metadata": {},
          "output_type": "execute_result"
        },
        {
          "data": {
            "image/png": "[encoded data removed]",
            "text/plain": [
              "<Figure size 640x480 with 1 Axes>"
            ]
          },
          "metadata": {},
          "output_type": "display_data"
        }
      ],
      "source": [
        "plt.xlabel('X')\n",
        "plt.ylabel('Y')\n",
        "plt.title('Line')\n",
        "plt.xticks([5, 10, 15, 20, 25, 30, 35, 40, 45, 50])\n",
        "\n",
        "plt.plot(X, Y, color='red') "
      ]
    },
    {
      "cell_type": "markdown",
      "metadata": {
        "id": "AQhGUHMMoC52"
      },
      "source": [
        "### 3.2.2 아래의 조건에 맞추어 주어진 데이터에 대한 꺽은선 그래프를 그리시오.\n",
        "\n",
        "1. 첫 번째 그래프의 선 색은 빨강, 두 번째 선 색은 초록으로 하시오.\n",
        "2. 그래프의 제목은 'Two Lines'로 하시오.\n",
        "3. 선의 굵기를 4로 통일하시오.\n",
        "4. 각 선의 색에 따라 빨강 색은 'line1', 파랑 색은 'line2'임을 나타내는 표시를 그래프에 넣으시오.\n",
        "5. 첫 번째 그래프의 점은 삼각형, 두 번째 그래프의 점은 원형으로 그리시오."
      ]
    },
    {
      "cell_type": "code",
      "execution_count": 256,
      "metadata": {
        "id": "4rBJyK3-oW8A"
      },
      "outputs": [],
      "source": [
        "# 해당 셀의 내용을 수정하지 마시오.\n",
        "# line 1 points\n",
        "x1 = [10,20,30]\n",
        "y1 = [20,40,10]\n",
        "\n",
        "# line 2 points\n",
        "x2 = [10,20,30]\n",
        "y2 = [40,10,30]"
      ]
    },
    {
      "cell_type": "code",
      "execution_count": 259,
      "metadata": {
        "id": "8Fp0uM5aofYG"
      },
      "outputs": [
        {
          "data": {
            "text/plain": [
              "<matplotlib.legend.Legend at 0x20b28a75850>"
            ]
          },
          "execution_count": 259,
          "metadata": {},
          "output_type": "execute_result"
        },
        {
          "data": {
            "image/png": "[encoded data removed]",
            "text/plain": [
              "<Figure size 640x480 with 1 Axes>"
            ]
          },
          "metadata": {},
          "output_type": "display_data"
        }
      ],
      "source": [
        "plt.plot(x1, y1, color='red', linewidth=4, marker='^', label='line1') \n",
        "plt.plot(x2, y2, color='blue', linewidth=4, marker='o', label='line2') \n",
        "\n",
        "plt.title('Two Lines')  \n",
        "plt.xlabel('X')  \n",
        "plt.ylabel('Y')  \n",
        "plt.legend()"
      ]
    },
    {
      "cell_type": "markdown",
      "metadata": {
        "id": "fZabRSyfpLY9"
      },
      "source": [
        "### 3.2.3 주어진 데이터에서 x는 프로그래밍 언어, popularity는 프로그래밍의 선호도이다. 프로그래밍 언어에 따른 선호도에 대한 막대그래프를 아래 조건에 맞추어 그리시오.\n",
        "\n",
        "1. X축의 이름은 'Programming Language'로 하시오.\n",
        "2. Y축의 이름은 'Popularity'로 하시오.\n",
        "3. 격자 무늬를 넣으시오.\n",
        "4. 그래프의 제목은 'Popularity of programming language'로 하시오.\n",
        "5. X축의 눈금을 표시하시오. -> ???\n",
        "6. 막대그래프는 중간맞춤으로 그리시오. -> ???"
      ]
    },
    {
      "cell_type": "code",
      "execution_count": 260,
      "metadata": {
        "id": "2OC0AVntpiqq"
      },
      "outputs": [],
      "source": [
        "# 해당 셀을 실행하되 수정하지 마시오.\n",
        "x = ['Java', 'Python', 'PHP', 'JavaScript', 'C#', 'C++']\n",
        "popularity = [22.2, 17.6, 8.8, 8, 7.7, 6.7]"
      ]
    },
    {
      "cell_type": "code",
      "execution_count": 276,
      "metadata": {
        "id": "_m5Unnlguswl"
      },
      "outputs": [
        {
          "data": {
            "text/plain": [
              "([0, 1, 2, 3, 4, 5],\n",
              " [Text(0, 0, 'Java'),\n",
              "  Text(1, 0, 'Python'),\n",
              "  Text(2, 0, 'PHP'),\n",
              "  Text(3, 0, 'JavaScript'),\n",
              "  Text(4, 0, 'C#'),\n",
              "  Text(5, 0, 'C++')])"
            ]
          },
          "execution_count": 276,
          "metadata": {},
          "output_type": "execute_result"
        },
        {
          "data": {
            "image/png": "[encoded data removed]",
            "text/plain": [
              "<Figure size 640x480 with 1 Axes>"
            ]
          },
          "metadata": {},
          "output_type": "display_data"
        }
      ],
      "source": [
        "plt.bar(x, popularity, align='center')\n",
        "\n",
        "plt.title('Two Lines')  \n",
        "plt.xlabel('Programming Language')  \n",
        "plt.ylabel('Popularity')  \n",
        "plt.grid()\n",
        "plt.xticks()"
      ]
    },
    {
      "cell_type": "markdown",
      "metadata": {
        "id": "zInWl631r9F5"
      },
      "source": [
        "### 3.2.4 아래 조건에 맞추어 주어진 두 데이터에 대한 꺽은선 그래프 두 개를 한 번에 그리시오.\n",
        "\n",
        "1. data1의 그래프는 왼쪽에 data2의 그래프는 오른쪽에 그리시오.\n",
        "2. data1의 그래프는 실선, data2의 그래프는 점선으로 그리시오.\n",
        "3. 각각의 그래프의 최댓값에 화살표 표시를 넣고 'maximum'임을 표시하시오.\n",
        "4. 각 그래프 별로 'data1', 'data2'라는 제목을 붙이시오.\n"
      ]
    },
    {
      "cell_type": "code",
      "execution_count": 277,
      "metadata": {
        "id": "zJ0UQcjfusHy"
      },
      "outputs": [],
      "source": [
        "# 해당 셀을 실행하되 수정하지 마시오.\n",
        "# data1\n",
        "x1 = [i for i in range(10)]\n",
        "y1 = [i*i+3 for i in x1]\n",
        "\n",
        "# data2\n",
        "x2 = [i for i in range(-5,6)]\n",
        "y2 = [(-1)*i*i+25 for i in x2]"
      ]
    },
    {
      "cell_type": "code",
      "execution_count": 319,
      "metadata": {
        "id": "BtfbYSIbvwC4"
      },
      "outputs": [
        {
          "data": {
            "text/plain": [
              "Text(1, 28, 'maximum')"
            ]
          },
          "execution_count": 319,
          "metadata": {},
          "output_type": "execute_result"
        },
        {
          "data": {
            "image/png": "[encoded data removed]",
            "text/plain": [
              "<Figure size 1400x800 with 2 Axes>"
            ]
          },
          "metadata": {},
          "output_type": "display_data"
        }
      ],
      "source": [
        "fig, ax = plt.subplots(1, 2, figsize=(14, 8)) \n",
        "\n",
        "ax[0].plot(x1, y1, color='red', linestyle='-') \n",
        "ax[0].set_title('data1')\n",
        "\n",
        "ax[1].plot(x2, y2, color='blue', linestyle='--') \n",
        "ax[1].set_title('data2')\n",
        "\n",
        "max1 = y1.index(max(y1)) \n",
        "ax[0].annotate('maximum', xy=(x1[max1], y1[max1]), \n",
        "               xytext=(x1[max1], y1[max1]+9),\n",
        "               arrowprops=dict(arrowstyle='->'),\n",
        "               fontsize=15)\n",
        "\n",
        "max2 = y2.index(max(y2))  \n",
        "ax[1].annotate('maximum', xy=(x2[max2], y2[max2]),\n",
        "               xytext=(x2[max2]+1, y2[max2]+3),\n",
        "               arrowprops=dict(arrowstyle='->'),\n",
        "               fontsize=15)"
      ]
    }
  ],
  "metadata": {
    "colab": {
      "provenance": [],
      "toc_visible": true
    },
    "kernelspec": {
      "display_name": "Python 3",
      "name": "python3"
    },
    "language_info": {
      "codemirror_mode": {
        "name": "ipython",
        "version": 3
      },
      "file_extension": ".py",
      "mimetype": "text/x-python",
      "name": "python",
      "nbconvert_exporter": "python",
      "pygments_lexer": "ipython3",
      "version": "3.11.8"
    }
  },
  "nbformat": 4,
  "nbformat_minor": 0
}
