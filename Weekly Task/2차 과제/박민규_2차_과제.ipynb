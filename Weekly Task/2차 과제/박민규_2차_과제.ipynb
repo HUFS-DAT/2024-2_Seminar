{
  "nbformat": 4,
  "nbformat_minor": 0,
  "metadata": {
    "colab": {
      "provenance": [],
      "toc_visible": true
    },
    "kernelspec": {
      "name": "python3",
      "display_name": "Python 3"
    },
    "language_info": {
      "name": "python"
    }
  },
  "cells": [
    {
      "cell_type": "markdown",
      "source": [
        "# 0. Importing Modules"
      ],
      "metadata": {
        "id": "fTTwiBy0h0cy"
      }
    },
    {
      "cell_type": "markdown",
      "source": [
        "코드의 기본은 해당 코드를 작성할 때 필요한 module들을 가져오는 것부터 시작됩니다."
      ],
      "metadata": {
        "id": "bpLCYHx1h5GD"
      }
    },
    {
      "cell_type": "code",
      "source": [
        "# 과제를 시작하기 전 이 셀을 무조건 실행하세요.\n",
        "import pandas as pd\n",
        "import numpy as np\n",
        "import matplotlib.pyplot as plt\n",
        "import datetime as DT\n",
        "from matplotlib.dates import date2num\n",
        "\n",
        "# 아래에 필요한 것들을 추가로 작성해주세요."
      ],
      "metadata": {
        "id": "nl5GVtbYiDJe"
      },
      "execution_count": 3,
      "outputs": []
    },
    {
      "cell_type": "markdown",
      "source": [
        "# 1.Numpy"
      ],
      "metadata": {
        "id": "QznyryyEhs0I"
      }
    },
    {
      "cell_type": "markdown",
      "source": [
        "## 1.1 Numpy 알아보기"
      ],
      "metadata": {
        "id": "nWzUmN4Bhvtr"
      }
    },
    {
      "cell_type": "markdown",
      "source": [
        "### 1.1.1 numpy에 대한 간단한 설명을 적어주세요."
      ],
      "metadata": {
        "id": "fgL8h1jSi2Bj"
      }
    },
    {
      "cell_type": "markdown",
      "source": [
        "NumPy는 Numerical Python의 약자로, Python에서 과학적 계산을 위한 핵심 라이브러리입니다. NumPy는 고성능 다차원 배열 객체와 이러한 배열에서 작동하는 도구를 제공합니다.\n",
        "\n",
        "NumPy는 다음과 같은 기능을 제공합니다.\n",
        "\n",
        "강력한 N차원 배열 객체\n",
        "브로드캐스팅 기능\n",
        "C/C++ 및 Fortran 코드와 통합 도구\n",
        "유용한 선형 대수, 푸리에 변환 및 난수 기능\n",
        "NumPy는 데이터 분석, 머신 러닝, 과학 컴퓨팅 등 다양한 분야에서 널리 사용됩니다."
      ],
      "metadata": {
        "id": "y2FZEMQzi8pr"
      }
    },
    {
      "cell_type": "markdown",
      "source": [
        "### 1.1.2 본인의 numpy version을 출력해주세요"
      ],
      "metadata": {
        "id": "ZCEMeFZyiwKw"
      }
    },
    {
      "cell_type": "code",
      "execution_count": 4,
      "metadata": {
        "id": "2UOkCiUdg9EQ",
        "colab": {
          "base_uri": "https://localhost:8080/",
          "height": 36
        },
        "outputId": "a500c076-41ce-49dd-fdde-17a94a3ccda4"
      },
      "outputs": [
        {
          "output_type": "execute_result",
          "data": {
            "text/plain": [
              "'1.26.4'"
            ],
            "application/vnd.google.colaboratory.intrinsic+json": {
              "type": "string"
            }
          },
          "metadata": {},
          "execution_count": 4
        }
      ],
      "source": [
        "np.__version__"
      ]
    },
    {
      "cell_type": "markdown",
      "source": [
        "##1.2 numpy array\n",
        "* 1.2의 문제들은 모두 코드 한 줄로 적어야 합니다.\n",
        "* '#이곳에 작성'을 지우고 코드를 적어주세요."
      ],
      "metadata": {
        "id": "Gu48TLh0jJU0"
      }
    },
    {
      "cell_type": "markdown",
      "source": [
        "###1.2.1 숫자 0부터 9까지 숫자로 이루어진 numpy array를 하나 만드시오."
      ],
      "metadata": {
        "id": "MzIW4_JGjbM-"
      }
    },
    {
      "cell_type": "code",
      "source": [
        "arr = np.arange(0,10)\n",
        "print(arr)"
      ],
      "metadata": {
        "id": "ceneOKE5i_0Z",
        "colab": {
          "base_uri": "https://localhost:8080/"
        },
        "outputId": "0ad51b89-cccc-4d51-d311-d7891208ec97"
      },
      "execution_count": 5,
      "outputs": [
        {
          "output_type": "stream",
          "name": "stdout",
          "text": [
            "[0 1 2 3 4 5 6 7 8 9]\n"
          ]
        }
      ]
    },
    {
      "cell_type": "markdown",
      "source": [
        "###1.2.2 위의 문제에서 만든 arr의 요소 중 홀수인 수를 모두 10으로 변경하시오."
      ],
      "metadata": {
        "id": "z-D_BIbjkOdB"
      }
    },
    {
      "cell_type": "code",
      "source": [
        "no_odd = np.where(arr % 2 == 1, 10, arr)\n",
        "print(no_odd)"
      ],
      "metadata": {
        "id": "VN4leFfZkkHw",
        "colab": {
          "base_uri": "https://localhost:8080/"
        },
        "outputId": "0619533c-b4ec-485d-ffcd-c48d48fb00d8"
      },
      "execution_count": 6,
      "outputs": [
        {
          "output_type": "stream",
          "name": "stdout",
          "text": [
            "[ 0 10  2 10  4 10  6 10  8 10]\n"
          ]
        }
      ]
    },
    {
      "cell_type": "markdown",
      "source": [
        "###1.2.3 위의 문제에서 만든 arr는 1차원 배열입니다. 이 배열을 2차원 배열로 변경하시오.\n",
        "array([0,1,2,3,4,5,6,7,8,9]) -> array([[0,1,2,3,4],[5,6,7,8,9]])"
      ],
      "metadata": {
        "id": "41TP4Ym1lC13"
      }
    },
    {
      "cell_type": "code",
      "source": [
        "arr_2d = np.reshape(arr, (2,5))\n",
        "print(arr_2d)"
      ],
      "metadata": {
        "id": "02SCthcAlOsy",
        "colab": {
          "base_uri": "https://localhost:8080/"
        },
        "outputId": "c76824d7-893e-4544-a6f2-048015705101"
      },
      "execution_count": 7,
      "outputs": [
        {
          "output_type": "stream",
          "name": "stdout",
          "text": [
            "[[0 1 2 3 4]\n",
            " [5 6 7 8 9]]\n"
          ]
        }
      ]
    },
    {
      "cell_type": "markdown",
      "source": [
        "###1.2.4 True로 이루어진 3x3 numpy array를 만드시오."
      ],
      "metadata": {
        "id": "woxgg4M3j1S1"
      }
    },
    {
      "cell_type": "code",
      "source": [
        "true_mat = np.full((3,3), True, dtype=bool)\n",
        "print(true_mat)"
      ],
      "metadata": {
        "id": "zs5KGgm7j-xS",
        "colab": {
          "base_uri": "https://localhost:8080/"
        },
        "outputId": "9a55cba2-26f0-4dce-ade2-81decf7c7bcc"
      },
      "execution_count": 8,
      "outputs": [
        {
          "output_type": "stream",
          "name": "stdout",
          "text": [
            "[[ True  True  True]\n",
            " [ True  True  True]\n",
            " [ True  True  True]]\n"
          ]
        }
      ]
    },
    {
      "cell_type": "markdown",
      "source": [
        "###1.2.5 숫자 0부터 8까지로 이루어진 3x3 numpy array를 만드시오."
      ],
      "metadata": {
        "id": "W9ytRnhhmmzX"
      }
    },
    {
      "cell_type": "code",
      "source": [
        "mat = np.arange(0,9).reshape(3,3)\n",
        "print(mat)"
      ],
      "metadata": {
        "id": "8x1DZQjYm7GR",
        "colab": {
          "base_uri": "https://localhost:8080/"
        },
        "outputId": "a34556d4-9c62-430a-f2dd-70318cb389a4"
      },
      "execution_count": 9,
      "outputs": [
        {
          "output_type": "stream",
          "name": "stdout",
          "text": [
            "[[0 1 2]\n",
            " [3 4 5]\n",
            " [6 7 8]]\n"
          ]
        }
      ]
    },
    {
      "cell_type": "markdown",
      "source": [
        "###1.2.6 숫자 5부터 10까지의 난수로 이루어진 array를 만드시오."
      ],
      "metadata": {
        "id": "-Mi_2yCNn0AA"
      }
    },
    {
      "cell_type": "code",
      "source": [
        "rand_arr = np.random.randint(5,11, size=5)\n",
        "print(rand_arr)"
      ],
      "metadata": {
        "id": "rQ9SKYmgoNID",
        "colab": {
          "base_uri": "https://localhost:8080/"
        },
        "outputId": "92b0c597-bd2b-4519-e65b-9e158783a9fb"
      },
      "execution_count": 10,
      "outputs": [
        {
          "output_type": "stream",
          "name": "stdout",
          "text": [
            "[ 9 10  6  8  8]\n"
          ]
        }
      ]
    },
    {
      "cell_type": "markdown",
      "source": [
        "###1.2.7 위의 1.2.5번 문제에서 만든 mat의 모든 행들을 역으로 작성하세요.\n",
        "array([0,1,2],[3,4,5],[6,7,8]]) -> array([2,1,0],[5,4,3],[8,7,6]])"
      ],
      "metadata": {
        "id": "yjJQzG2bnFMA"
      }
    },
    {
      "cell_type": "code",
      "source": [
        "reverse_mat = np.flip(mat, axis=1)\n",
        "print(reverse_mat)"
      ],
      "metadata": {
        "id": "AO1H_YbWwVmX",
        "colab": {
          "base_uri": "https://localhost:8080/"
        },
        "outputId": "1f3aaec9-2198-41fe-fb00-7d0b96c5a091"
      },
      "execution_count": 11,
      "outputs": [
        {
          "output_type": "stream",
          "name": "stdout",
          "text": [
            "[[2 1 0]\n",
            " [5 4 3]\n",
            " [8 7 6]]\n"
          ]
        }
      ]
    },
    {
      "cell_type": "markdown",
      "source": [
        "## 1.3 numpy를 이용한 data 처리"
      ],
      "metadata": {
        "id": "LmryYJz3mDMR"
      }
    },
    {
      "cell_type": "markdown",
      "source": [
        "###1.3.1 iris_1d는 꽃잎 길이와 종에 대한 data입니다. 해당 데이터의 앞에서 10개의 data만 출력하시오.\n",
        "* iris_1d 변수의 내용을 변경하지 마시오."
      ],
      "metadata": {
        "id": "hfC_DiJ-nuzZ"
      }
    },
    {
      "cell_type": "code",
      "source": [
        "# 해당 셀을 실행하되 수정하지 마세요.\n",
        "url = 'https://archive.ics.uci.edu/ml/machine-learning-databases/iris/iris.data'\n",
        "iris_1d = np.genfromtxt(url, delimiter=',', dtype=None)\n",
        "np.random.seed(10)\n",
        "np.random.shuffle(iris_1d)\n",
        "iris_1d"
      ],
      "metadata": {
        "id": "weTAz59uqUjY",
        "colab": {
          "base_uri": "https://localhost:8080/"
        },
        "outputId": "2e831d00-34dc-41ce-f2f1-1d1ab2345732"
      },
      "execution_count": 12,
      "outputs": [
        {
          "output_type": "stream",
          "name": "stderr",
          "text": [
            "<ipython-input-12-e6a34f2d108b>:3: VisibleDeprecationWarning: Reading unicode strings without specifying the encoding argument is deprecated. Set the encoding, use None for the system default.\n",
            "  iris_1d = np.genfromtxt(url, delimiter=',', dtype=None)\n"
          ]
        },
        {
          "output_type": "execute_result",
          "data": {
            "text/plain": [
              "array([(6.3, 2.3, 4.4, 1.3, b'Iris-versicolor'),\n",
              "       (6.4, 2.7, 5.3, 1.9, b'Iris-virginica'),\n",
              "       (5.4, 3.7, 1.5, 0.2, b'Iris-setosa'),\n",
              "       (6.1, 3. , 4.6, 1.4, b'Iris-versicolor'),\n",
              "       (5. , 3.3, 1.4, 0.2, b'Iris-setosa'),\n",
              "       (5. , 2. , 3.5, 1. , b'Iris-versicolor'),\n",
              "       (6.3, 2.5, 4.9, 1.5, b'Iris-versicolor'),\n",
              "       (5.8, 2.7, 4.1, 1. , b'Iris-versicolor'),\n",
              "       (5.1, 3.4, 1.5, 0.2, b'Iris-setosa'),\n",
              "       (5.7, 2.8, 4.5, 1.3, b'Iris-versicolor'),\n",
              "       (5.6, 3. , 4.5, 1.5, b'Iris-versicolor'),\n",
              "       (5.8, 2.7, 5.1, 1.9, b'Iris-virginica'),\n",
              "       (5.5, 2.3, 4. , 1.3, b'Iris-versicolor'),\n",
              "       (4.9, 3. , 1.4, 0.2, b'Iris-setosa'),\n",
              "       (5.1, 3.8, 1.5, 0.3, b'Iris-setosa'),\n",
              "       (6.8, 3. , 5.5, 2.1, b'Iris-virginica'),\n",
              "       (6. , 3.4, 4.5, 1.6, b'Iris-versicolor'),\n",
              "       (4.4, 3. , 1.3, 0.2, b'Iris-setosa'),\n",
              "       (5.1, 3.7, 1.5, 0.4, b'Iris-setosa'),\n",
              "       (5. , 3.2, 1.2, 0.2, b'Iris-setosa'),\n",
              "       (7.1, 3. , 5.9, 2.1, b'Iris-virginica'),\n",
              "       (6.4, 2.8, 5.6, 2.2, b'Iris-virginica'),\n",
              "       (6.2, 2.8, 4.8, 1.8, b'Iris-virginica'),\n",
              "       (4.8, 3.4, 1.9, 0.2, b'Iris-setosa'),\n",
              "       (5.9, 3. , 4.2, 1.5, b'Iris-versicolor'),\n",
              "       (4.7, 3.2, 1.3, 0.2, b'Iris-setosa'),\n",
              "       (5.7, 3. , 4.2, 1.2, b'Iris-versicolor'),\n",
              "       (5.5, 2.6, 4.4, 1.2, b'Iris-versicolor'),\n",
              "       (6.8, 2.8, 4.8, 1.4, b'Iris-versicolor'),\n",
              "       (7.7, 3.8, 6.7, 2.2, b'Iris-virginica'),\n",
              "       (6.6, 2.9, 4.6, 1.3, b'Iris-versicolor'),\n",
              "       (6.2, 2.9, 4.3, 1.3, b'Iris-versicolor'),\n",
              "       (7.2, 3. , 5.8, 1.6, b'Iris-virginica'),\n",
              "       (5.8, 2.8, 5.1, 2.4, b'Iris-virginica'),\n",
              "       (6.3, 2.5, 5. , 1.9, b'Iris-virginica'),\n",
              "       (4.6, 3.2, 1.4, 0.2, b'Iris-setosa'),\n",
              "       (6.7, 3.3, 5.7, 2.1, b'Iris-virginica'),\n",
              "       (6.9, 3.2, 5.7, 2.3, b'Iris-virginica'),\n",
              "       (7.7, 2.6, 6.9, 2.3, b'Iris-virginica'),\n",
              "       (6.9, 3.1, 5.1, 2.3, b'Iris-virginica'),\n",
              "       (5. , 3.4, 1.6, 0.4, b'Iris-setosa'),\n",
              "       (5. , 3.5, 1.6, 0.6, b'Iris-setosa'),\n",
              "       (5.2, 2.7, 3.9, 1.4, b'Iris-versicolor'),\n",
              "       (4.5, 2.3, 1.3, 0.3, b'Iris-setosa'),\n",
              "       (6.3, 3.3, 4.7, 1.6, b'Iris-versicolor'),\n",
              "       (5.2, 4.1, 1.5, 0.1, b'Iris-setosa'),\n",
              "       (6.9, 3.1, 4.9, 1.5, b'Iris-versicolor'),\n",
              "       (5.9, 3.2, 4.8, 1.8, b'Iris-versicolor'),\n",
              "       (5.6, 2.8, 4.9, 2. , b'Iris-virginica'),\n",
              "       (6.7, 3.3, 5.7, 2.5, b'Iris-virginica'),\n",
              "       (6.2, 2.2, 4.5, 1.5, b'Iris-versicolor'),\n",
              "       (7.2, 3.6, 6.1, 2.5, b'Iris-virginica'),\n",
              "       (5.5, 2.4, 3.7, 1. , b'Iris-versicolor'),\n",
              "       (6. , 2.9, 4.5, 1.5, b'Iris-versicolor'),\n",
              "       (6.4, 3.2, 4.5, 1.5, b'Iris-versicolor'),\n",
              "       (5.8, 4. , 1.2, 0.2, b'Iris-setosa'),\n",
              "       (5.3, 3.7, 1.5, 0.2, b'Iris-setosa'),\n",
              "       (6.1, 2.9, 4.7, 1.4, b'Iris-versicolor'),\n",
              "       (5.4, 3.4, 1.7, 0.2, b'Iris-setosa'),\n",
              "       (6.4, 3.1, 5.5, 1.8, b'Iris-virginica'),\n",
              "       (4.7, 3.2, 1.6, 0.2, b'Iris-setosa'),\n",
              "       (4.6, 3.1, 1.5, 0.2, b'Iris-setosa'),\n",
              "       (4.9, 2.5, 4.5, 1.7, b'Iris-virginica'),\n",
              "       (5.1, 2.5, 3. , 1.1, b'Iris-versicolor'),\n",
              "       (6.7, 3.1, 5.6, 2.4, b'Iris-virginica'),\n",
              "       (4.9, 3.1, 1.5, 0.1, b'Iris-setosa'),\n",
              "       (6.9, 3.1, 5.4, 2.1, b'Iris-virginica'),\n",
              "       (4.8, 3. , 1.4, 0.3, b'Iris-setosa'),\n",
              "       (5.8, 2.7, 3.9, 1.2, b'Iris-versicolor'),\n",
              "       (6. , 2.7, 5.1, 1.6, b'Iris-versicolor'),\n",
              "       (4.4, 3.2, 1.3, 0.2, b'Iris-setosa'),\n",
              "       (6.8, 3.2, 5.9, 2.3, b'Iris-virginica'),\n",
              "       (7.9, 3.8, 6.4, 2. , b'Iris-virginica'),\n",
              "       (6.5, 3. , 5.5, 1.8, b'Iris-virginica'),\n",
              "       (7.6, 3. , 6.6, 2.1, b'Iris-virginica'),\n",
              "       (6.3, 2.8, 5.1, 1.5, b'Iris-virginica'),\n",
              "       (4.6, 3.4, 1.4, 0.3, b'Iris-setosa'),\n",
              "       (5.7, 2.6, 3.5, 1. , b'Iris-versicolor'),\n",
              "       (6.7, 2.5, 5.8, 1.8, b'Iris-virginica'),\n",
              "       (5.7, 2.8, 4.1, 1.3, b'Iris-versicolor'),\n",
              "       (4.9, 3.1, 1.5, 0.1, b'Iris-setosa'),\n",
              "       (6.4, 2.8, 5.6, 2.1, b'Iris-virginica'),\n",
              "       (7. , 3.2, 4.7, 1.4, b'Iris-versicolor'),\n",
              "       (5.7, 2.9, 4.2, 1.3, b'Iris-versicolor'),\n",
              "       (5. , 3.6, 1.4, 0.2, b'Iris-setosa'),\n",
              "       (5.4, 3.9, 1.7, 0.4, b'Iris-setosa'),\n",
              "       (5.1, 3.8, 1.9, 0.4, b'Iris-setosa'),\n",
              "       (5.4, 3. , 4.5, 1.5, b'Iris-versicolor'),\n",
              "       (7.4, 2.8, 6.1, 1.9, b'Iris-virginica'),\n",
              "       (6.3, 2.9, 5.6, 1.8, b'Iris-virginica'),\n",
              "       (6.6, 3. , 4.4, 1.4, b'Iris-versicolor'),\n",
              "       (5. , 3.4, 1.5, 0.2, b'Iris-setosa'),\n",
              "       (5.1, 3.8, 1.6, 0.2, b'Iris-setosa'),\n",
              "       (5.1, 3.5, 1.4, 0.3, b'Iris-setosa'),\n",
              "       (6.5, 3. , 5.8, 2.2, b'Iris-virginica'),\n",
              "       (5.8, 2.7, 5.1, 1.9, b'Iris-virginica'),\n",
              "       (6.1, 2.8, 4. , 1.3, b'Iris-versicolor'),\n",
              "       (5.5, 2.4, 3.8, 1.1, b'Iris-versicolor'),\n",
              "       (6.5, 3.2, 5.1, 2. , b'Iris-virginica'),\n",
              "       (6.5, 3. , 5.2, 2. , b'Iris-virginica'),\n",
              "       (5.9, 3. , 5.1, 1.8, b'Iris-virginica'),\n",
              "       (6.1, 2.6, 5.6, 1.4, b'Iris-virginica'),\n",
              "       (6.4, 2.9, 4.3, 1.3, b'Iris-versicolor'),\n",
              "       (5.2, 3.4, 1.4, 0.2, b'Iris-setosa'),\n",
              "       (4.8, 3.4, 1.6, 0.2, b'Iris-setosa'),\n",
              "       (5.6, 2.7, 4.2, 1.3, b'Iris-versicolor'),\n",
              "       (5.1, 3.3, 1.7, 0.5, b'Iris-setosa'),\n",
              "       (4.6, 3.6, 1. , 0.2, b'Iris-setosa'),\n",
              "       (6.1, 3. , 4.9, 1.8, b'Iris-virginica'),\n",
              "       (5. , 2.3, 3.3, 1. , b'Iris-versicolor'),\n",
              "       (5.7, 3.8, 1.7, 0.3, b'Iris-setosa'),\n",
              "       (5.2, 3.5, 1.5, 0.2, b'Iris-setosa'),\n",
              "       (5.5, 3.5, 1.3, 0.2, b'Iris-setosa'),\n",
              "       (4.9, 2.4, 3.3, 1. , b'Iris-versicolor'),\n",
              "       (5.4, 3.4, 1.5, 0.4, b'Iris-setosa'),\n",
              "       (6.7, 3.1, 4.4, 1.4, b'Iris-versicolor'),\n",
              "       (4.8, 3. , 1.4, 0.1, b'Iris-setosa'),\n",
              "       (5.5, 2.5, 4. , 1.3, b'Iris-versicolor'),\n",
              "       (6. , 2.2, 5. , 1.5, b'Iris-virginica'),\n",
              "       (4.8, 3.1, 1.6, 0.2, b'Iris-setosa'),\n",
              "       (6.7, 3.1, 4.7, 1.5, b'Iris-versicolor'),\n",
              "       (5.8, 2.6, 4. , 1.2, b'Iris-versicolor'),\n",
              "       (6.2, 3.4, 5.4, 2.3, b'Iris-virginica'),\n",
              "       (5. , 3. , 1.6, 0.2, b'Iris-setosa'),\n",
              "       (6. , 3. , 4.8, 1.8, b'Iris-virginica'),\n",
              "       (4.3, 3. , 1.1, 0.1, b'Iris-setosa'),\n",
              "       (5.6, 2.5, 3.9, 1.1, b'Iris-versicolor'),\n",
              "       (6.7, 3. , 5. , 1.7, b'Iris-versicolor'),\n",
              "       (7.7, 3. , 6.1, 2.3, b'Iris-virginica'),\n",
              "       (6.3, 3.4, 5.6, 2.4, b'Iris-virginica'),\n",
              "       (5.5, 4.2, 1.4, 0.2, b'Iris-setosa'),\n",
              "       (6. , 2.2, 4. , 1. , b'Iris-versicolor'),\n",
              "       (7.7, 2.8, 6.7, 2. , b'Iris-virginica'),\n",
              "       (7.3, 2.9, 6.3, 1.8, b'Iris-virginica'),\n",
              "       (5.6, 3. , 4.1, 1.3, b'Iris-versicolor'),\n",
              "       (6.5, 2.8, 4.6, 1.5, b'Iris-versicolor'),\n",
              "       (6.3, 3.3, 6. , 2.5, b'Iris-virginica'),\n",
              "       (5.4, 3.9, 1.3, 0.4, b'Iris-setosa'),\n",
              "       (6.4, 3.2, 5.3, 2.3, b'Iris-virginica'),\n",
              "       (5. , 3.5, 1.3, 0.3, b'Iris-setosa'),\n",
              "       (5.1, 3.5, 1.4, 0.2, b'Iris-setosa'),\n",
              "       (6.1, 2.8, 4.7, 1.2, b'Iris-versicolor'),\n",
              "       (4.4, 2.9, 1.4, 0.2, b'Iris-setosa'),\n",
              "       (6.7, 3. , 5.2, 2.3, b'Iris-virginica'),\n",
              "       (6.3, 2.7, 4.9, 1.8, b'Iris-virginica'),\n",
              "       (5.7, 2.5, 5. , 2. , b'Iris-virginica'),\n",
              "       (5.6, 2.9, 3.6, 1.3, b'Iris-versicolor'),\n",
              "       (5.7, 4.4, 1.5, 0.4, b'Iris-setosa'),\n",
              "       (7.2, 3.2, 6. , 1.8, b'Iris-virginica'),\n",
              "       (4.9, 3.1, 1.5, 0.1, b'Iris-setosa')],\n",
              "      dtype=[('f0', '<f8'), ('f1', '<f8'), ('f2', '<f8'), ('f3', '<f8'), ('f4', 'S15')])"
            ]
          },
          "metadata": {},
          "execution_count": 12
        }
      ]
    },
    {
      "cell_type": "code",
      "source": [
        "print(iris_1d[:10])"
      ],
      "metadata": {
        "id": "63BiG_4drHDc",
        "colab": {
          "base_uri": "https://localhost:8080/"
        },
        "outputId": "9d680310-274e-4503-c1e8-60624e1f74a1"
      },
      "execution_count": 13,
      "outputs": [
        {
          "output_type": "stream",
          "name": "stdout",
          "text": [
            "[(6.3, 2.3, 4.4, 1.3, b'Iris-versicolor')\n",
            " (6.4, 2.7, 5.3, 1.9, b'Iris-virginica')\n",
            " (5.4, 3.7, 1.5, 0.2, b'Iris-setosa')\n",
            " (6.1, 3. , 4.6, 1.4, b'Iris-versicolor')\n",
            " (5. , 3.3, 1.4, 0.2, b'Iris-setosa')\n",
            " (5. , 2. , 3.5, 1. , b'Iris-versicolor')\n",
            " (6.3, 2.5, 4.9, 1.5, b'Iris-versicolor')\n",
            " (5.8, 2.7, 4.1, 1. , b'Iris-versicolor')\n",
            " (5.1, 3.4, 1.5, 0.2, b'Iris-setosa')\n",
            " (5.7, 2.8, 4.5, 1.3, b'Iris-versicolor')]\n"
          ]
        }
      ]
    },
    {
      "cell_type": "markdown",
      "source": [
        "###1.3.2 iris data는 4개의 숫자 데이터(꽃잎의 길이)와 1개의 문자 데이터(꽃의 종)로 이루어져 있습니다. 위 문제에서의 iris10 데이터의 종 정보만 출력하시오.\n"
      ],
      "metadata": {
        "id": "QTLaq2qYrQGV"
      }
    },
    {
      "cell_type": "code",
      "source": [
        "print(np.vectorize(lambda x: x[4])(iris_1d))"
      ],
      "metadata": {
        "id": "FysATKCQrtTT",
        "colab": {
          "base_uri": "https://localhost:8080/"
        },
        "outputId": "5817e053-2dfb-4fde-c123-8cd6abe77db1"
      },
      "execution_count": 14,
      "outputs": [
        {
          "output_type": "stream",
          "name": "stdout",
          "text": [
            "[b'Iris-versicolor' b'Iris-virginica' b'Iris-setosa' b'Iris-versicolor'\n",
            " b'Iris-setosa' b'Iris-versicolor' b'Iris-versicolor' b'Iris-versicolor'\n",
            " b'Iris-setosa' b'Iris-versicolor' b'Iris-versicolor' b'Iris-virginica'\n",
            " b'Iris-versicolor' b'Iris-setosa' b'Iris-setosa' b'Iris-virginica'\n",
            " b'Iris-versicolor' b'Iris-setosa' b'Iris-setosa' b'Iris-setosa'\n",
            " b'Iris-virginica' b'Iris-virginica' b'Iris-virginica' b'Iris-setosa'\n",
            " b'Iris-versicolor' b'Iris-setosa' b'Iris-versicolor' b'Iris-versicolor'\n",
            " b'Iris-versicolor' b'Iris-virginica' b'Iris-versicolor'\n",
            " b'Iris-versicolor' b'Iris-virginica' b'Iris-virginica' b'Iris-virginica'\n",
            " b'Iris-setosa' b'Iris-virginica' b'Iris-virginica' b'Iris-virginica'\n",
            " b'Iris-virginica' b'Iris-setosa' b'Iris-setosa' b'Iris-versicolor'\n",
            " b'Iris-setosa' b'Iris-versicolor' b'Iris-setosa' b'Iris-versicolor'\n",
            " b'Iris-versicolor' b'Iris-virginica' b'Iris-virginica' b'Iris-versicolor'\n",
            " b'Iris-virginica' b'Iris-versicolor' b'Iris-versicolor'\n",
            " b'Iris-versicolor' b'Iris-setosa' b'Iris-setosa' b'Iris-versicolor'\n",
            " b'Iris-setosa' b'Iris-virginica' b'Iris-setosa' b'Iris-setosa'\n",
            " b'Iris-virginica' b'Iris-versicolor' b'Iris-virginica' b'Iris-setosa'\n",
            " b'Iris-virginica' b'Iris-setosa' b'Iris-versicolor' b'Iris-versicolor'\n",
            " b'Iris-setosa' b'Iris-virginica' b'Iris-virginica' b'Iris-virginica'\n",
            " b'Iris-virginica' b'Iris-virginica' b'Iris-setosa' b'Iris-versicolor'\n",
            " b'Iris-virginica' b'Iris-versicolor' b'Iris-setosa' b'Iris-virginica'\n",
            " b'Iris-versicolor' b'Iris-versicolor' b'Iris-setosa' b'Iris-setosa'\n",
            " b'Iris-setosa' b'Iris-versicolor' b'Iris-virginica' b'Iris-virginica'\n",
            " b'Iris-versicolor' b'Iris-setosa' b'Iris-setosa' b'Iris-setosa'\n",
            " b'Iris-virginica' b'Iris-virginica' b'Iris-versicolor' b'Iris-versicolor'\n",
            " b'Iris-virginica' b'Iris-virginica' b'Iris-virginica' b'Iris-virginica'\n",
            " b'Iris-versicolor' b'Iris-setosa' b'Iris-setosa' b'Iris-versicolor'\n",
            " b'Iris-setosa' b'Iris-setosa' b'Iris-virginica' b'Iris-versicolor'\n",
            " b'Iris-setosa' b'Iris-setosa' b'Iris-setosa' b'Iris-versicolor'\n",
            " b'Iris-setosa' b'Iris-versicolor' b'Iris-setosa' b'Iris-versicolor'\n",
            " b'Iris-virginica' b'Iris-setosa' b'Iris-versicolor' b'Iris-versicolor'\n",
            " b'Iris-virginica' b'Iris-setosa' b'Iris-virginica' b'Iris-setosa'\n",
            " b'Iris-versicolor' b'Iris-versicolor' b'Iris-virginica' b'Iris-virginica'\n",
            " b'Iris-setosa' b'Iris-versicolor' b'Iris-virginica' b'Iris-virginica'\n",
            " b'Iris-versicolor' b'Iris-versicolor' b'Iris-virginica' b'Iris-setosa'\n",
            " b'Iris-virginica' b'Iris-setosa' b'Iris-setosa' b'Iris-versicolor'\n",
            " b'Iris-setosa' b'Iris-virginica' b'Iris-virginica' b'Iris-virginica'\n",
            " b'Iris-versicolor' b'Iris-setosa' b'Iris-virginica' b'Iris-setosa']\n"
          ]
        }
      ]
    },
    {
      "cell_type": "markdown",
      "source": [
        "### 1.3.3 iris_1d data의 앞에서 30개의 data만 추출하여 첫 번째 요소의 길이가 5.0 이하인 것만 출력하시오."
      ],
      "metadata": {
        "id": "HapBJ6hprt1J"
      }
    },
    {
      "cell_type": "code",
      "source": [
        "[x for x in iris_1d[:30] if x[0]<=5.0]"
      ],
      "metadata": {
        "id": "MjOFNMzPnbDG",
        "colab": {
          "base_uri": "https://localhost:8080/"
        },
        "outputId": "584aa8c3-fc07-4e96-a003-dacd23b657ea"
      },
      "execution_count": 21,
      "outputs": [
        {
          "output_type": "execute_result",
          "data": {
            "text/plain": [
              "[(5., 3.3, 1.4, 0.2, b'Iris-setosa'),\n",
              " (5., 2., 3.5, 1., b'Iris-versicolor'),\n",
              " (4.9, 3., 1.4, 0.2, b'Iris-setosa'),\n",
              " (4.4, 3., 1.3, 0.2, b'Iris-setosa'),\n",
              " (5., 3.2, 1.2, 0.2, b'Iris-setosa'),\n",
              " (4.8, 3.4, 1.9, 0.2, b'Iris-setosa'),\n",
              " (4.7, 3.2, 1.3, 0.2, b'Iris-setosa')]"
            ]
          },
          "metadata": {},
          "execution_count": 21
        }
      ]
    },
    {
      "cell_type": "markdown",
      "source": [
        "### 1.3.4 irids_1d data의 앞에서 15개의 data만 추출하여 첫 번째 요소와 네 번째 요소 간의 상관관계를 출력하시오."
      ],
      "metadata": {
        "id": "HW0TU00uuVt-"
      }
    },
    {
      "cell_type": "code",
      "source": [
        "np.corrcoef(np.vectorize(lambda x: x[0])(iris_1d[:15]), np.vectorize(lambda x: x[3])(iris_1d[:15]))"
      ],
      "metadata": {
        "id": "YUq4j3cYqfWZ",
        "colab": {
          "base_uri": "https://localhost:8080/"
        },
        "outputId": "ac0d47cc-a1a1-45a1-da3d-8ff4b991f6ef"
      },
      "execution_count": 23,
      "outputs": [
        {
          "output_type": "execute_result",
          "data": {
            "text/plain": [
              "array([[1.        , 0.79112507],\n",
              "       [0.79112507, 1.        ]])"
            ]
          },
          "metadata": {},
          "execution_count": 23
        }
      ]
    },
    {
      "cell_type": "markdown",
      "source": [
        "###1.3.5 iris_1d 데이터에서 각 종별로 개수가 몇 개인지 출력하시오."
      ],
      "metadata": {
        "id": "E2nyt8FwvSe4"
      }
    },
    {
      "cell_type": "code",
      "source": [
        "print(dict(zip(*np.unique([x[4] for x in iris_1d], return_counts=True))))\n",
        "#ndarray를 바로 리스트 컴프리헨션 가능"
      ],
      "metadata": {
        "id": "gwfehAqBwy2f",
        "colab": {
          "base_uri": "https://localhost:8080/"
        },
        "outputId": "e5886e87-3fa6-41d8-d95d-3f14f583cf3f"
      },
      "execution_count": 36,
      "outputs": [
        {
          "output_type": "stream",
          "name": "stdout",
          "text": [
            "{b'Iris-setosa': 50, b'Iris-versicolor': 50, b'Iris-virginica': 50}\n"
          ]
        }
      ]
    },
    {
      "cell_type": "markdown",
      "source": [
        "###1.3.6 iris_1d 데이터 중 3번째 요소의 길이가 5.0 이상인 data의 index를 모두 출력하시오."
      ],
      "metadata": {
        "id": "l0Mpd30cxP6D"
      }
    },
    {
      "cell_type": "code",
      "source": [
        "[x for x in range(len(iris_1d)) if iris_1d[x][2]>=5.0]"
      ],
      "metadata": {
        "id": "jiSLD4t5xQAA",
        "colab": {
          "base_uri": "https://localhost:8080/"
        },
        "outputId": "da6cd997-af3c-49ef-9f9a-d9b1e5265102"
      },
      "execution_count": 52,
      "outputs": [
        {
          "output_type": "execute_result",
          "data": {
            "text/plain": [
              "[1,\n",
              " 11,\n",
              " 15,\n",
              " 20,\n",
              " 21,\n",
              " 29,\n",
              " 32,\n",
              " 33,\n",
              " 34,\n",
              " 36,\n",
              " 37,\n",
              " 38,\n",
              " 39,\n",
              " 49,\n",
              " 51,\n",
              " 59,\n",
              " 64,\n",
              " 66,\n",
              " 69,\n",
              " 71,\n",
              " 72,\n",
              " 73,\n",
              " 74,\n",
              " 75,\n",
              " 78,\n",
              " 81,\n",
              " 88,\n",
              " 89,\n",
              " 94,\n",
              " 95,\n",
              " 98,\n",
              " 99,\n",
              " 100,\n",
              " 101,\n",
              " 118,\n",
              " 122,\n",
              " 127,\n",
              " 128,\n",
              " 129,\n",
              " 132,\n",
              " 133,\n",
              " 136,\n",
              " 138,\n",
              " 143,\n",
              " 145,\n",
              " 148]"
            ]
          },
          "metadata": {},
          "execution_count": 52
        }
      ]
    },
    {
      "cell_type": "markdown",
      "source": [
        "##1.4"
      ],
      "metadata": {
        "id": "1iVtmorcxpEH"
      }
    },
    {
      "cell_type": "markdown",
      "source": [
        "###1.4.1 0부터 1까지의 랜덤 숫자 100개로 이루어진 array를 하나 만들고 array의 평균, 분산, 표준편차, 중앙값을 출력하시오."
      ],
      "metadata": {
        "id": "LqPCfC2Uxqh8"
      }
    },
    {
      "cell_type": "code",
      "source": [
        "rand_arr = np.random.rand(100)\n",
        "np.mean(rand_arr), np.var(rand_arr), np.std(rand_arr)"
      ],
      "metadata": {
        "id": "zDZPHcKcyYWa",
        "colab": {
          "base_uri": "https://localhost:8080/"
        },
        "outputId": "e706aa26-a25b-4a08-e0ad-8032fbf0211f"
      },
      "execution_count": 54,
      "outputs": [
        {
          "output_type": "execute_result",
          "data": {
            "text/plain": [
              "(0.5117811298531997, 0.08881686697340291, 0.29802158809959206)"
            ]
          },
          "metadata": {},
          "execution_count": 54
        }
      ]
    },
    {
      "cell_type": "markdown",
      "source": [
        "###1.4.2 iris_2d 데이터의 첫 번째 열과 3번째 열의 값들 간의 상관계수를 출력하시오. (iris_2d 변수의 내용을 수정하지 마시오.)"
      ],
      "metadata": {
        "id": "tm7n2QVUymf5"
      }
    },
    {
      "cell_type": "code",
      "source": [
        "# 해당 셀을 실행만 하되 수정하지 마세요.\n",
        "url = 'https://archive.ics.uci.edu/ml/machine-learning-databases/iris/iris.data'\n",
        "iris_2d = np.genfromtxt(url, delimiter=',', dtype='float', usecols=[0,1,2,3])"
      ],
      "metadata": {
        "id": "CUAuDxZjyoDD"
      },
      "execution_count": 55,
      "outputs": []
    },
    {
      "cell_type": "code",
      "source": [
        "np.corrcoef(iris_2d[:,0], iris_2d[:,2])"
      ],
      "metadata": {
        "id": "pwxg8JYGudF7",
        "colab": {
          "base_uri": "https://localhost:8080/"
        },
        "outputId": "373da405-d202-47ac-e5a2-07f3aedbea6d"
      },
      "execution_count": 59,
      "outputs": [
        {
          "output_type": "execute_result",
          "data": {
            "text/plain": [
              "array([[1.        , 0.87175416],\n",
              "       [0.87175416, 1.        ]])"
            ]
          },
          "metadata": {},
          "execution_count": 59
        }
      ]
    },
    {
      "cell_type": "markdown",
      "source": [
        "###1.4.3 0부터 10까지의 랜덤한 정수 100개로 이루어진 array를 하나 만들고 가장 빈도수가 많은 숫자를 출력하시오. (만약 빈도수가 같은 숫자가 있다면 모두 출력하시오.)"
      ],
      "metadata": {
        "id": "6LmSick9u1lZ"
      }
    },
    {
      "cell_type": "code",
      "source": [
        "counts = np.bincount(np.random.randint(0, 11, 100))\n",
        "print(counts)\n",
        "print(np.where(counts==np.max(counts))[0])"
      ],
      "metadata": {
        "id": "AIgdPattvkE5",
        "colab": {
          "base_uri": "https://localhost:8080/"
        },
        "outputId": "de834b14-2b31-459e-a443-21f1225e703b"
      },
      "execution_count": 77,
      "outputs": [
        {
          "output_type": "stream",
          "name": "stdout",
          "text": [
            "[18  9  7 10  7  6  8  7  6 16  6]\n",
            "[0]\n"
          ]
        }
      ]
    },
    {
      "cell_type": "markdown",
      "source": [
        "### 1.4.4 numpy의 내장 함수를 이용해 현재 시간을 출력하시오. (출력 형식은 자유이고 연,월,일,시,분,초를 모두 출력해야함)"
      ],
      "metadata": {
        "id": "0ZK6nBvhvkbe"
      }
    },
    {
      "cell_type": "code",
      "source": [
        "print(np.datetime64('now', 's'))"
      ],
      "metadata": {
        "id": "z2lFpGmCwCxo",
        "colab": {
          "base_uri": "https://localhost:8080/"
        },
        "outputId": "d929a78f-ec57-4a52-cbc1-65166eb48521"
      },
      "execution_count": 79,
      "outputs": [
        {
          "output_type": "stream",
          "name": "stdout",
          "text": [
            "2024-09-24T13:33:01\n"
          ]
        }
      ]
    },
    {
      "cell_type": "markdown",
      "source": [
        "### 1.4.5 numpy의 내장 함수를 이용해 2024년 9월 1일부터 2024년 9월 20일까지의 날짜들 중 홀수일로만 이루어진 array를 하나 만들고 출력하시오."
      ],
      "metadata": {
        "id": "SXD38EHVwDDJ"
      }
    },
    {
      "cell_type": "code",
      "source": [
        "# 예시 - 2018년 2월 1일부터 2018년 2월 23일까지\n",
        "\n",
        "# ['2018-02-01' '2018-02-03' '2018-02-05' '2018-02-07' '2018-02-09'\n",
        "#  '2018-02-11' '2018-02-13' '2018-02-15' '2018-02-17' '2018-02-19'\n",
        "#  '2018-02-21' '2018-02-23']"
      ],
      "metadata": {
        "id": "Y5vn4z2HwViT"
      },
      "execution_count": null,
      "outputs": []
    },
    {
      "cell_type": "code",
      "source": [
        "dates=np.arange('2024-09-01', '2024-09-21', dtype='datetime64[D]')\n",
        "days = np.datetime_as_string(dates)\n",
        "print(dates[[int(day[-2:]) % 2 != 0 for day in days]])\n"
      ],
      "metadata": {
        "id": "cHiWgcN_wnfE",
        "colab": {
          "base_uri": "https://localhost:8080/"
        },
        "outputId": "84a1f5ae-e723-4bf9-ca1b-42c61916f177"
      },
      "execution_count": 99,
      "outputs": [
        {
          "output_type": "stream",
          "name": "stdout",
          "text": [
            "['2024-09-01' '2024-09-03' '2024-09-05' '2024-09-07' '2024-09-09'\n",
            " '2024-09-11' '2024-09-13' '2024-09-15' '2024-09-17' '2024-09-19']\n"
          ]
        }
      ]
    },
    {
      "cell_type": "markdown",
      "source": [
        "# 2. Pandas"
      ],
      "metadata": {
        "id": "DmCz1Xk5wsdR"
      }
    },
    {
      "cell_type": "markdown",
      "source": [
        "## 2.1 Pandas 알아보기"
      ],
      "metadata": {
        "id": "qneBbHkYw6mu"
      }
    },
    {
      "cell_type": "markdown",
      "source": [
        "### 2.1.1 Pandas에 대한 간단한 설명을 적어주세요."
      ],
      "metadata": {
        "id": "6tLKPpAQw-NK"
      }
    },
    {
      "cell_type": "markdown",
      "source": [
        "numpy에 label과 index를 추가하여 dataframe으로 다룰 수 있게하는 라이브러리"
      ],
      "metadata": {
        "id": "d5mbaeBqxAzo"
      }
    },
    {
      "cell_type": "markdown",
      "source": [
        "### 2.1.2 본인의 Pandas version을 출력해주세요."
      ],
      "metadata": {
        "id": "tkMRj-gZxMPE"
      }
    },
    {
      "cell_type": "code",
      "source": [
        "pd.__version__"
      ],
      "metadata": {
        "colab": {
          "base_uri": "https://localhost:8080/",
          "height": 36
        },
        "id": "-Ntwhqs1Tz8f",
        "outputId": "84115995-25fb-4e22-9d93-3779fee8419a"
      },
      "execution_count": 101,
      "outputs": [
        {
          "output_type": "execute_result",
          "data": {
            "text/plain": [
              "'2.1.4'"
            ],
            "application/vnd.google.colaboratory.intrinsic+json": {
              "type": "string"
            }
          },
          "metadata": {},
          "execution_count": 101
        }
      ]
    },
    {
      "cell_type": "markdown",
      "source": [
        "## 2.2 pandas 자료구조"
      ],
      "metadata": {
        "id": "wCxBkq_7xTeY"
      }
    },
    {
      "cell_type": "markdown",
      "source": [
        "### 2.2.1 pandas의 series와 numpy array의 차이점을 쓰시오."
      ],
      "metadata": {
        "id": "pXpq3hRxf-zE"
      }
    },
    {
      "cell_type": "markdown",
      "source": [
        "series는 numpy array에 명시된 index가 추가된 개념입니다"
      ],
      "metadata": {
        "id": "77kTWPfpgOd8"
      }
    },
    {
      "cell_type": "markdown",
      "source": [
        "### 2.2.2  알파벳  a-z로 이루어진 series를 하나 만들고 출력하시오."
      ],
      "metadata": {
        "id": "avbVMmFwxWIL"
      }
    },
    {
      "cell_type": "code",
      "source": [
        "pd.Series([chr(i) for i in range(ord('a'), ord('z') + 1)])"
      ],
      "metadata": {
        "id": "B-0d-YLexXvx",
        "colab": {
          "base_uri": "https://localhost:8080/",
          "height": 899
        },
        "outputId": "bc290087-0bd4-4970-cc01-231148ffb875"
      },
      "execution_count": 104,
      "outputs": [
        {
          "output_type": "execute_result",
          "data": {
            "text/plain": [
              "0     a\n",
              "1     b\n",
              "2     c\n",
              "3     d\n",
              "4     e\n",
              "5     f\n",
              "6     g\n",
              "7     h\n",
              "8     i\n",
              "9     j\n",
              "10    k\n",
              "11    l\n",
              "12    m\n",
              "13    n\n",
              "14    o\n",
              "15    p\n",
              "16    q\n",
              "17    r\n",
              "18    s\n",
              "19    t\n",
              "20    u\n",
              "21    v\n",
              "22    w\n",
              "23    x\n",
              "24    y\n",
              "25    z\n",
              "dtype: object"
            ],
            "text/html": [
              "<div>\n",
              "<style scoped>\n",
              "    .dataframe tbody tr th:only-of-type {\n",
              "        vertical-align: middle;\n",
              "    }\n",
              "\n",
              "    .dataframe tbody tr th {\n",
              "        vertical-align: top;\n",
              "    }\n",
              "\n",
              "    .dataframe thead th {\n",
              "        text-align: right;\n",
              "    }\n",
              "</style>\n",
              "<table border=\"1\" class=\"dataframe\">\n",
              "  <thead>\n",
              "    <tr style=\"text-align: right;\">\n",
              "      <th></th>\n",
              "      <th>0</th>\n",
              "    </tr>\n",
              "  </thead>\n",
              "  <tbody>\n",
              "    <tr>\n",
              "      <th>0</th>\n",
              "      <td>a</td>\n",
              "    </tr>\n",
              "    <tr>\n",
              "      <th>1</th>\n",
              "      <td>b</td>\n",
              "    </tr>\n",
              "    <tr>\n",
              "      <th>2</th>\n",
              "      <td>c</td>\n",
              "    </tr>\n",
              "    <tr>\n",
              "      <th>3</th>\n",
              "      <td>d</td>\n",
              "    </tr>\n",
              "    <tr>\n",
              "      <th>4</th>\n",
              "      <td>e</td>\n",
              "    </tr>\n",
              "    <tr>\n",
              "      <th>5</th>\n",
              "      <td>f</td>\n",
              "    </tr>\n",
              "    <tr>\n",
              "      <th>6</th>\n",
              "      <td>g</td>\n",
              "    </tr>\n",
              "    <tr>\n",
              "      <th>7</th>\n",
              "      <td>h</td>\n",
              "    </tr>\n",
              "    <tr>\n",
              "      <th>8</th>\n",
              "      <td>i</td>\n",
              "    </tr>\n",
              "    <tr>\n",
              "      <th>9</th>\n",
              "      <td>j</td>\n",
              "    </tr>\n",
              "    <tr>\n",
              "      <th>10</th>\n",
              "      <td>k</td>\n",
              "    </tr>\n",
              "    <tr>\n",
              "      <th>11</th>\n",
              "      <td>l</td>\n",
              "    </tr>\n",
              "    <tr>\n",
              "      <th>12</th>\n",
              "      <td>m</td>\n",
              "    </tr>\n",
              "    <tr>\n",
              "      <th>13</th>\n",
              "      <td>n</td>\n",
              "    </tr>\n",
              "    <tr>\n",
              "      <th>14</th>\n",
              "      <td>o</td>\n",
              "    </tr>\n",
              "    <tr>\n",
              "      <th>15</th>\n",
              "      <td>p</td>\n",
              "    </tr>\n",
              "    <tr>\n",
              "      <th>16</th>\n",
              "      <td>q</td>\n",
              "    </tr>\n",
              "    <tr>\n",
              "      <th>17</th>\n",
              "      <td>r</td>\n",
              "    </tr>\n",
              "    <tr>\n",
              "      <th>18</th>\n",
              "      <td>s</td>\n",
              "    </tr>\n",
              "    <tr>\n",
              "      <th>19</th>\n",
              "      <td>t</td>\n",
              "    </tr>\n",
              "    <tr>\n",
              "      <th>20</th>\n",
              "      <td>u</td>\n",
              "    </tr>\n",
              "    <tr>\n",
              "      <th>21</th>\n",
              "      <td>v</td>\n",
              "    </tr>\n",
              "    <tr>\n",
              "      <th>22</th>\n",
              "      <td>w</td>\n",
              "    </tr>\n",
              "    <tr>\n",
              "      <th>23</th>\n",
              "      <td>x</td>\n",
              "    </tr>\n",
              "    <tr>\n",
              "      <th>24</th>\n",
              "      <td>y</td>\n",
              "    </tr>\n",
              "    <tr>\n",
              "      <th>25</th>\n",
              "      <td>z</td>\n",
              "    </tr>\n",
              "  </tbody>\n",
              "</table>\n",
              "</div><br><label><b>dtype:</b> object</label>"
            ]
          },
          "metadata": {},
          "execution_count": 104
        }
      ]
    },
    {
      "cell_type": "markdown",
      "source": [
        "### 2.2.3 list1 = [2,4,6,8,10], list2 = [3,6,9,12]일 때 각 리스트를 series1, series2로 바꾼 뒤 series1과 series2를 출력하시오."
      ],
      "metadata": {
        "id": "HRPyX-lNeUV2"
      }
    },
    {
      "cell_type": "code",
      "source": [
        "series1 = pd.Series([2,4,6,8,10])\n",
        "series2 = pd.Series([3,6,9,12])\n",
        "print(series1)\n",
        "print(series2)"
      ],
      "metadata": {
        "id": "qU3gFS6je4Jn",
        "colab": {
          "base_uri": "https://localhost:8080/"
        },
        "outputId": "3a15271d-9f7b-469a-85cf-03959eadb718"
      },
      "execution_count": 105,
      "outputs": [
        {
          "output_type": "stream",
          "name": "stdout",
          "text": [
            "0     2\n",
            "1     4\n",
            "2     6\n",
            "3     8\n",
            "4    10\n",
            "dtype: int64\n",
            "0     3\n",
            "1     6\n",
            "2     9\n",
            "3    12\n",
            "dtype: int64\n"
          ]
        }
      ]
    },
    {
      "cell_type": "markdown",
      "source": [
        "### 2.2.4 1부터 5까지의 정수로 이루어진 series와 6부터 10까지의 정수로 이루어진 series를 만들어 각각을 열(column)로 가지는 dataframe을 만들고 출력하시오. (2개의 열을 가지는 dataframe 출력)"
      ],
      "metadata": {
        "id": "tpuTwDSLfKw1"
      }
    },
    {
      "cell_type": "code",
      "source": [
        "# 예시\n",
        "#   0 1\n",
        "# 0 1 6\n",
        "# 1 2 7\n",
        "# 2 3 8\n",
        "# 3 4 9\n",
        "# 4 5 10"
      ],
      "metadata": {
        "id": "w-iXG2bafyBP"
      },
      "execution_count": null,
      "outputs": []
    },
    {
      "cell_type": "code",
      "source": [
        "print(pd.DataFrame({0:pd.Series([1,2,3,4,5]),1: pd.Series([6,7,8,9,10])}))"
      ],
      "metadata": {
        "id": "OsaoR9rVhYsT",
        "colab": {
          "base_uri": "https://localhost:8080/"
        },
        "outputId": "c6bb2015-7c01-47b8-d98b-fba6109e867e"
      },
      "execution_count": 119,
      "outputs": [
        {
          "output_type": "stream",
          "name": "stdout",
          "text": [
            "   0   1\n",
            "0  1   6\n",
            "1  2   7\n",
            "2  3   8\n",
            "3  4   9\n",
            "4  5  10\n"
          ]
        }
      ]
    },
    {
      "cell_type": "markdown",
      "source": [
        "### 2.2.5 1-3 정수, 4-6 정수, 7-9 정수, 10-12 정수로 이루어진 series를 만들어 각각을 행(row)으로 가지는 dataframe을 만들고 출력하시오. (4개의 행을 가지는 dataframe 출력)"
      ],
      "metadata": {
        "id": "R4dMpq7OgSq-"
      }
    },
    {
      "cell_type": "code",
      "source": [
        "# 예시\n",
        "#    0  1  2\n",
        "# 0  1  2  3\n",
        "# 1  4  5  6\n",
        "# 2  7  8  9\n",
        "# 3 10 11 12"
      ],
      "metadata": {
        "id": "jpUuHIL9g9Mk"
      },
      "execution_count": null,
      "outputs": []
    },
    {
      "cell_type": "code",
      "source": [
        "df=pd.DataFrame([pd.Series([1,2,3]),pd.Series([4,5,6]),pd.Series([7,8,9]),pd.Series([10,11,12])])\n",
        "print(df)"
      ],
      "metadata": {
        "id": "70j2xBz6hpTC",
        "colab": {
          "base_uri": "https://localhost:8080/"
        },
        "outputId": "0b268a4f-07f8-4d61-e761-025b9c9b67da"
      },
      "execution_count": 121,
      "outputs": [
        {
          "output_type": "stream",
          "name": "stdout",
          "text": [
            "    0   1   2\n",
            "0   1   2   3\n",
            "1   4   5   6\n",
            "2   7   8   9\n",
            "3  10  11  12\n"
          ]
        }
      ]
    },
    {
      "cell_type": "markdown",
      "source": [
        "### 2.2.6 2.2.5에서 만든 dataframe의 index를 ['one','two','three','four']으로 바꾸고 출력하시오."
      ],
      "metadata": {
        "id": "kaz1giaAhpvq"
      }
    },
    {
      "cell_type": "code",
      "source": [
        "df.index=['one','two','three','four']\n",
        "print(df)"
      ],
      "metadata": {
        "colab": {
          "base_uri": "https://localhost:8080/"
        },
        "id": "knPD087TZqA1",
        "outputId": "8b487b1d-d8ae-4dbf-c300-6b800aa65e48"
      },
      "execution_count": 122,
      "outputs": [
        {
          "output_type": "stream",
          "name": "stdout",
          "text": [
            "        0   1   2\n",
            "one     1   2   3\n",
            "two     4   5   6\n",
            "three   7   8   9\n",
            "four   10  11  12\n"
          ]
        }
      ]
    },
    {
      "cell_type": "markdown",
      "source": [
        "### 2.2.7\n",
        "*  [1, 2, 3, 4, 5, 6, 7, 8, 9, 10]\n",
        "*  [10, 9, 8, 7, 6, 5, 4, 3, 2, 1]\n",
        "\n",
        "위 두 리스트를 series로 변환하고 ***원소별로 더한 값을 새로운 series로 만들어*** 출력하시오. (진한 글씨로 나타낸 부분은 한 줄로 작성)\n",
        "\n"
      ],
      "metadata": {
        "id": "G9nM6mQ8h9T3"
      }
    },
    {
      "cell_type": "code",
      "source": [
        "# 실행하지 마시오.\n",
        "s1 = [1,2,3]\n",
        "s2 = [3,2,1]"
      ],
      "metadata": {
        "id": "w4wWWipmiPVq"
      },
      "execution_count": null,
      "outputs": []
    },
    {
      "cell_type": "code",
      "source": [
        "s1=pd.Series([1, 2, 3, 4, 5, 6, 7, 8, 9, 10])\n",
        "s2=pd.Series([10, 9, 8, 7, 6, 5, 4, 3, 2, 1])\n",
        "print(s1+s2)"
      ],
      "metadata": {
        "id": "cXW9DzbljgPQ",
        "colab": {
          "base_uri": "https://localhost:8080/"
        },
        "outputId": "651bc95d-496e-45a8-bb38-d8eba4156c1e"
      },
      "execution_count": 123,
      "outputs": [
        {
          "output_type": "stream",
          "name": "stdout",
          "text": [
            "0    11\n",
            "1    11\n",
            "2    11\n",
            "3    11\n",
            "4    11\n",
            "5    11\n",
            "6    11\n",
            "7    11\n",
            "8    11\n",
            "9    11\n",
            "dtype: int64\n"
          ]
        }
      ]
    },
    {
      "cell_type": "markdown",
      "source": [
        "### 2.2.8 numpy의 함수를 이용하여 아래와 같은 출력을 만드시오."
      ],
      "metadata": {
        "id": "VJHFNzuliwXy"
      }
    },
    {
      "cell_type": "code",
      "source": [
        "# 예시\n",
        "# 2000-01-01     1.0\n",
        "# 2000-01-03    10.0\n",
        "# 2000-01-05     3.0\n",
        "# 2000-01-07     NaN"
      ],
      "metadata": {
        "id": "tjzgOTrljrUb"
      },
      "execution_count": null,
      "outputs": []
    },
    {
      "cell_type": "code",
      "source": [
        "dates=np.arange('2000-01-01', '2000-01-08', dtype='datetime64[D]')\n",
        "days = np.datetime_as_string(dates)\n",
        "pd.Series([1.0,10.0,3.0,np.NaN],index=dates[[int(day[-2:]) % 2 != 0 for day in days]])\n"
      ],
      "metadata": {
        "id": "FJLTh-tkkKSd",
        "colab": {
          "base_uri": "https://localhost:8080/",
          "height": 210
        },
        "outputId": "913a057f-2959-462f-e051-fbfb42ecd911"
      },
      "execution_count": 131,
      "outputs": [
        {
          "output_type": "execute_result",
          "data": {
            "text/plain": [
              "2000-01-01     1.0\n",
              "2000-01-03    10.0\n",
              "2000-01-05     3.0\n",
              "2000-01-07     NaN\n",
              "dtype: float64"
            ],
            "text/html": [
              "<div>\n",
              "<style scoped>\n",
              "    .dataframe tbody tr th:only-of-type {\n",
              "        vertical-align: middle;\n",
              "    }\n",
              "\n",
              "    .dataframe tbody tr th {\n",
              "        vertical-align: top;\n",
              "    }\n",
              "\n",
              "    .dataframe thead th {\n",
              "        text-align: right;\n",
              "    }\n",
              "</style>\n",
              "<table border=\"1\" class=\"dataframe\">\n",
              "  <thead>\n",
              "    <tr style=\"text-align: right;\">\n",
              "      <th></th>\n",
              "      <th>0</th>\n",
              "    </tr>\n",
              "  </thead>\n",
              "  <tbody>\n",
              "    <tr>\n",
              "      <th>2000-01-01</th>\n",
              "      <td>1.0</td>\n",
              "    </tr>\n",
              "    <tr>\n",
              "      <th>2000-01-03</th>\n",
              "      <td>10.0</td>\n",
              "    </tr>\n",
              "    <tr>\n",
              "      <th>2000-01-05</th>\n",
              "      <td>3.0</td>\n",
              "    </tr>\n",
              "    <tr>\n",
              "      <th>2000-01-07</th>\n",
              "      <td>NaN</td>\n",
              "    </tr>\n",
              "  </tbody>\n",
              "</table>\n",
              "</div><br><label><b>dtype:</b> float64</label>"
            ]
          },
          "metadata": {},
          "execution_count": 131
        }
      ]
    },
    {
      "cell_type": "markdown",
      "source": [
        "## 2.3"
      ],
      "metadata": {
        "id": "bPe0FrnYk3l5"
      }
    },
    {
      "cell_type": "markdown",
      "source": [
        "### 2.3.1 아래 path에 해당하는 경로의 csv 파일을 읽고 그 내용을 cars93 이라는 변수로 저장한 뒤 출력하시오."
      ],
      "metadata": {
        "id": "NUGmuVVBkKp-"
      }
    },
    {
      "cell_type": "markdown",
      "source": [
        "**cars93 변수의 내용을 변경하지 마시오.**"
      ],
      "metadata": {
        "id": "rXAdW_aSlpCU"
      }
    },
    {
      "cell_type": "code",
      "source": [
        "# 해당 셀을 실행하되 수정하지 마세요.\n",
        "path = 'https://raw.githubusercontent.com/selva86/datasets/master/Cars93_miss.csv'"
      ],
      "metadata": {
        "id": "-Qdi-VHgkVfQ"
      },
      "execution_count": 132,
      "outputs": []
    },
    {
      "cell_type": "code",
      "source": [
        "cars93 = pd.read_csv(path)\n",
        "print(cars93)"
      ],
      "metadata": {
        "id": "JSofka2vky26",
        "colab": {
          "base_uri": "https://localhost:8080/"
        },
        "outputId": "38e1598e-d24b-48f1-f505-a367c0bb391f"
      },
      "execution_count": 133,
      "outputs": [
        {
          "output_type": "stream",
          "name": "stdout",
          "text": [
            "   Manufacturer    Model     Type  Min.Price  Price  Max.Price  MPG.city  \\\n",
            "0         Acura  Integra    Small       12.9   15.9       18.8      25.0   \n",
            "1           NaN   Legend  Midsize       29.2   33.9       38.7      18.0   \n",
            "2          Audi       90  Compact       25.9   29.1       32.3      20.0   \n",
            "3          Audi      100  Midsize        NaN   37.7       44.6      19.0   \n",
            "4           BMW     535i  Midsize        NaN   30.0        NaN      22.0   \n",
            "..          ...      ...      ...        ...    ...        ...       ...   \n",
            "88   Volkswagen  Eurovan      Van       16.6   19.7       22.7      17.0   \n",
            "89   Volkswagen   Passat  Compact       17.6   20.0       22.4      21.0   \n",
            "90   Volkswagen  Corrado   Sporty       22.9   23.3       23.7      18.0   \n",
            "91        Volvo      240  Compact       21.8   22.7       23.5      21.0   \n",
            "92          NaN      850  Midsize       24.8   26.7       28.5      20.0   \n",
            "\n",
            "    MPG.highway             AirBags DriveTrain  ... Passengers  Length  \\\n",
            "0          31.0                 NaN      Front  ...        5.0   177.0   \n",
            "1          25.0  Driver & Passenger      Front  ...        5.0   195.0   \n",
            "2          26.0         Driver only      Front  ...        5.0   180.0   \n",
            "3          26.0  Driver & Passenger        NaN  ...        6.0   193.0   \n",
            "4          30.0                 NaN       Rear  ...        4.0   186.0   \n",
            "..          ...                 ...        ...  ...        ...     ...   \n",
            "88         21.0                 NaN      Front  ...        7.0   187.0   \n",
            "89         30.0                 NaN      Front  ...        5.0   180.0   \n",
            "90         25.0                 NaN      Front  ...        4.0   159.0   \n",
            "91         28.0         Driver only       Rear  ...        5.0   190.0   \n",
            "92         28.0  Driver & Passenger      Front  ...        5.0   184.0   \n",
            "\n",
            "    Wheelbase  Width  Turn.circle Rear.seat.room  Luggage.room  Weight  \\\n",
            "0       102.0   68.0         37.0           26.5           NaN  2705.0   \n",
            "1       115.0   71.0         38.0           30.0          15.0  3560.0   \n",
            "2       102.0   67.0         37.0           28.0          14.0  3375.0   \n",
            "3       106.0    NaN         37.0           31.0          17.0  3405.0   \n",
            "4       109.0   69.0         39.0           27.0          13.0  3640.0   \n",
            "..        ...    ...          ...            ...           ...     ...   \n",
            "88      115.0   72.0         38.0           34.0           NaN  3960.0   \n",
            "89      103.0   67.0         35.0           31.5          14.0  2985.0   \n",
            "90       97.0   66.0         36.0           26.0          15.0  2810.0   \n",
            "91      104.0   67.0         37.0           29.5          14.0  2985.0   \n",
            "92      105.0   69.0         38.0           30.0          15.0  3245.0   \n",
            "\n",
            "     Origin                Make  \n",
            "0   non-USA       Acura Integra  \n",
            "1   non-USA        Acura Legend  \n",
            "2   non-USA             Audi 90  \n",
            "3   non-USA            Audi 100  \n",
            "4   non-USA            BMW 535i  \n",
            "..      ...                 ...  \n",
            "88      NaN  Volkswagen Eurovan  \n",
            "89  non-USA   Volkswagen Passat  \n",
            "90  non-USA  Volkswagen Corrado  \n",
            "91  non-USA           Volvo 240  \n",
            "92  non-USA           Volvo 850  \n",
            "\n",
            "[93 rows x 27 columns]\n"
          ]
        }
      ]
    },
    {
      "cell_type": "markdown",
      "source": [
        "### 2.3.2 위에서 cars93 데이터의 요약을 출력하시오."
      ],
      "metadata": {
        "id": "164qXzTnk1qn"
      }
    },
    {
      "cell_type": "code",
      "source": [
        "cars93.info()"
      ],
      "metadata": {
        "id": "NVCdRdHulDkx",
        "colab": {
          "base_uri": "https://localhost:8080/"
        },
        "outputId": "28b0e95e-ea2d-4df8-dbbd-032a6c17677e"
      },
      "execution_count": 135,
      "outputs": [
        {
          "output_type": "stream",
          "name": "stdout",
          "text": [
            "<class 'pandas.core.frame.DataFrame'>\n",
            "RangeIndex: 93 entries, 0 to 92\n",
            "Data columns (total 27 columns):\n",
            " #   Column              Non-Null Count  Dtype  \n",
            "---  ------              --------------  -----  \n",
            " 0   Manufacturer        89 non-null     object \n",
            " 1   Model               92 non-null     object \n",
            " 2   Type                90 non-null     object \n",
            " 3   Min.Price           86 non-null     float64\n",
            " 4   Price               91 non-null     float64\n",
            " 5   Max.Price           88 non-null     float64\n",
            " 6   MPG.city            84 non-null     float64\n",
            " 7   MPG.highway         91 non-null     float64\n",
            " 8   AirBags             55 non-null     object \n",
            " 9   DriveTrain          86 non-null     object \n",
            " 10  Cylinders           88 non-null     object \n",
            " 11  EngineSize          91 non-null     float64\n",
            " 12  Horsepower          86 non-null     float64\n",
            " 13  RPM                 90 non-null     float64\n",
            " 14  Rev.per.mile        87 non-null     float64\n",
            " 15  Man.trans.avail     88 non-null     object \n",
            " 16  Fuel.tank.capacity  85 non-null     float64\n",
            " 17  Passengers          91 non-null     float64\n",
            " 18  Length              89 non-null     float64\n",
            " 19  Wheelbase           92 non-null     float64\n",
            " 20  Width               87 non-null     float64\n",
            " 21  Turn.circle         88 non-null     float64\n",
            " 22  Rear.seat.room      89 non-null     float64\n",
            " 23  Luggage.room        74 non-null     float64\n",
            " 24  Weight              86 non-null     float64\n",
            " 25  Origin              88 non-null     object \n",
            " 26  Make                90 non-null     object \n",
            "dtypes: float64(18), object(9)\n",
            "memory usage: 19.7+ KB\n"
          ]
        }
      ]
    },
    {
      "cell_type": "markdown",
      "source": [
        "### 2.3.3 cars93에서 price가 가장 높은 제품의 manufacturer을 출력하시오."
      ],
      "metadata": {
        "id": "HAr9zWIUlD9U"
      }
    },
    {
      "cell_type": "code",
      "source": [
        "print(cars93.loc[cars93['Price'].idxmax()]['Manufacturer'])"
      ],
      "metadata": {
        "id": "NZzvFXUhmCrK",
        "colab": {
          "base_uri": "https://localhost:8080/"
        },
        "outputId": "3a0b3aa4-dda6-4493-da99-e002e5091195"
      },
      "execution_count": 137,
      "outputs": [
        {
          "output_type": "stream",
          "name": "stdout",
          "text": [
            "Mercedes-Benz\n"
          ]
        }
      ]
    },
    {
      "cell_type": "markdown",
      "source": [
        "### 2.3.4 cars93에서 'Type'열의 이름을 'CarType'으로 바꾸고 Renamed라는 이름의 변수에 저장한 뒤 출력하시오."
      ],
      "metadata": {
        "id": "BvLtRyUymCX0"
      }
    },
    {
      "cell_type": "code",
      "source": [
        "Renamed = cars93.rename(columns={'Type':'CarType'})\n",
        "print(Renamed)"
      ],
      "metadata": {
        "id": "GjnChGMQmfk8",
        "colab": {
          "base_uri": "https://localhost:8080/"
        },
        "outputId": "e6b488b2-11cd-4239-e474-9ae88a25d1c8"
      },
      "execution_count": 138,
      "outputs": [
        {
          "output_type": "stream",
          "name": "stdout",
          "text": [
            "   Manufacturer    Model  CarType  Min.Price  Price  Max.Price  MPG.city  \\\n",
            "0         Acura  Integra    Small       12.9   15.9       18.8      25.0   \n",
            "1           NaN   Legend  Midsize       29.2   33.9       38.7      18.0   \n",
            "2          Audi       90  Compact       25.9   29.1       32.3      20.0   \n",
            "3          Audi      100  Midsize        NaN   37.7       44.6      19.0   \n",
            "4           BMW     535i  Midsize        NaN   30.0        NaN      22.0   \n",
            "..          ...      ...      ...        ...    ...        ...       ...   \n",
            "88   Volkswagen  Eurovan      Van       16.6   19.7       22.7      17.0   \n",
            "89   Volkswagen   Passat  Compact       17.6   20.0       22.4      21.0   \n",
            "90   Volkswagen  Corrado   Sporty       22.9   23.3       23.7      18.0   \n",
            "91        Volvo      240  Compact       21.8   22.7       23.5      21.0   \n",
            "92          NaN      850  Midsize       24.8   26.7       28.5      20.0   \n",
            "\n",
            "    MPG.highway             AirBags DriveTrain  ... Passengers  Length  \\\n",
            "0          31.0                 NaN      Front  ...        5.0   177.0   \n",
            "1          25.0  Driver & Passenger      Front  ...        5.0   195.0   \n",
            "2          26.0         Driver only      Front  ...        5.0   180.0   \n",
            "3          26.0  Driver & Passenger        NaN  ...        6.0   193.0   \n",
            "4          30.0                 NaN       Rear  ...        4.0   186.0   \n",
            "..          ...                 ...        ...  ...        ...     ...   \n",
            "88         21.0                 NaN      Front  ...        7.0   187.0   \n",
            "89         30.0                 NaN      Front  ...        5.0   180.0   \n",
            "90         25.0                 NaN      Front  ...        4.0   159.0   \n",
            "91         28.0         Driver only       Rear  ...        5.0   190.0   \n",
            "92         28.0  Driver & Passenger      Front  ...        5.0   184.0   \n",
            "\n",
            "    Wheelbase  Width  Turn.circle Rear.seat.room  Luggage.room  Weight  \\\n",
            "0       102.0   68.0         37.0           26.5           NaN  2705.0   \n",
            "1       115.0   71.0         38.0           30.0          15.0  3560.0   \n",
            "2       102.0   67.0         37.0           28.0          14.0  3375.0   \n",
            "3       106.0    NaN         37.0           31.0          17.0  3405.0   \n",
            "4       109.0   69.0         39.0           27.0          13.0  3640.0   \n",
            "..        ...    ...          ...            ...           ...     ...   \n",
            "88      115.0   72.0         38.0           34.0           NaN  3960.0   \n",
            "89      103.0   67.0         35.0           31.5          14.0  2985.0   \n",
            "90       97.0   66.0         36.0           26.0          15.0  2810.0   \n",
            "91      104.0   67.0         37.0           29.5          14.0  2985.0   \n",
            "92      105.0   69.0         38.0           30.0          15.0  3245.0   \n",
            "\n",
            "     Origin                Make  \n",
            "0   non-USA       Acura Integra  \n",
            "1   non-USA        Acura Legend  \n",
            "2   non-USA             Audi 90  \n",
            "3   non-USA            Audi 100  \n",
            "4   non-USA            BMW 535i  \n",
            "..      ...                 ...  \n",
            "88      NaN  Volkswagen Eurovan  \n",
            "89  non-USA   Volkswagen Passat  \n",
            "90  non-USA  Volkswagen Corrado  \n",
            "91  non-USA           Volvo 240  \n",
            "92  non-USA           Volvo 850  \n",
            "\n",
            "[93 rows x 27 columns]\n"
          ]
        }
      ]
    },
    {
      "cell_type": "markdown",
      "source": [
        "### 2.3.5 Renamed의 모든 열의 내용중 '.'을 '_'으로 바꾼뒤 Renamed를 출력하시오. (반복문 외의 다른 방법을 사용하시오)\n",
        "\n",
        "**예시**\n",
        "\n",
        "* Min.Price -> Min_Price\n",
        "* MPG.city -> MPG_city"
      ],
      "metadata": {
        "id": "26wKgIIamgBf"
      }
    },
    {
      "cell_type": "code",
      "source": [
        "Renamed.columns = Renamed.columns.str.replace('.', '_')\n",
        "print(Renamed)"
      ],
      "metadata": {
        "id": "enP9rsgSnWt8",
        "colab": {
          "base_uri": "https://localhost:8080/"
        },
        "outputId": "ef66a661-08f1-4f1c-c407-2cbd4dbe2681"
      },
      "execution_count": 139,
      "outputs": [
        {
          "output_type": "stream",
          "name": "stdout",
          "text": [
            "   Manufacturer    Model  CarType  Min_Price  Price  Max_Price  MPG_city  \\\n",
            "0         Acura  Integra    Small       12.9   15.9       18.8      25.0   \n",
            "1           NaN   Legend  Midsize       29.2   33.9       38.7      18.0   \n",
            "2          Audi       90  Compact       25.9   29.1       32.3      20.0   \n",
            "3          Audi      100  Midsize        NaN   37.7       44.6      19.0   \n",
            "4           BMW     535i  Midsize        NaN   30.0        NaN      22.0   \n",
            "..          ...      ...      ...        ...    ...        ...       ...   \n",
            "88   Volkswagen  Eurovan      Van       16.6   19.7       22.7      17.0   \n",
            "89   Volkswagen   Passat  Compact       17.6   20.0       22.4      21.0   \n",
            "90   Volkswagen  Corrado   Sporty       22.9   23.3       23.7      18.0   \n",
            "91        Volvo      240  Compact       21.8   22.7       23.5      21.0   \n",
            "92          NaN      850  Midsize       24.8   26.7       28.5      20.0   \n",
            "\n",
            "    MPG_highway             AirBags DriveTrain  ... Passengers  Length  \\\n",
            "0          31.0                 NaN      Front  ...        5.0   177.0   \n",
            "1          25.0  Driver & Passenger      Front  ...        5.0   195.0   \n",
            "2          26.0         Driver only      Front  ...        5.0   180.0   \n",
            "3          26.0  Driver & Passenger        NaN  ...        6.0   193.0   \n",
            "4          30.0                 NaN       Rear  ...        4.0   186.0   \n",
            "..          ...                 ...        ...  ...        ...     ...   \n",
            "88         21.0                 NaN      Front  ...        7.0   187.0   \n",
            "89         30.0                 NaN      Front  ...        5.0   180.0   \n",
            "90         25.0                 NaN      Front  ...        4.0   159.0   \n",
            "91         28.0         Driver only       Rear  ...        5.0   190.0   \n",
            "92         28.0  Driver & Passenger      Front  ...        5.0   184.0   \n",
            "\n",
            "    Wheelbase  Width  Turn_circle Rear_seat_room  Luggage_room  Weight  \\\n",
            "0       102.0   68.0         37.0           26.5           NaN  2705.0   \n",
            "1       115.0   71.0         38.0           30.0          15.0  3560.0   \n",
            "2       102.0   67.0         37.0           28.0          14.0  3375.0   \n",
            "3       106.0    NaN         37.0           31.0          17.0  3405.0   \n",
            "4       109.0   69.0         39.0           27.0          13.0  3640.0   \n",
            "..        ...    ...          ...            ...           ...     ...   \n",
            "88      115.0   72.0         38.0           34.0           NaN  3960.0   \n",
            "89      103.0   67.0         35.0           31.5          14.0  2985.0   \n",
            "90       97.0   66.0         36.0           26.0          15.0  2810.0   \n",
            "91      104.0   67.0         37.0           29.5          14.0  2985.0   \n",
            "92      105.0   69.0         38.0           30.0          15.0  3245.0   \n",
            "\n",
            "     Origin                Make  \n",
            "0   non-USA       Acura Integra  \n",
            "1   non-USA        Acura Legend  \n",
            "2   non-USA             Audi 90  \n",
            "3   non-USA            Audi 100  \n",
            "4   non-USA            BMW 535i  \n",
            "..      ...                 ...  \n",
            "88      NaN  Volkswagen Eurovan  \n",
            "89  non-USA   Volkswagen Passat  \n",
            "90  non-USA  Volkswagen Corrado  \n",
            "91  non-USA           Volvo 240  \n",
            "92  non-USA           Volvo 850  \n",
            "\n",
            "[93 rows x 27 columns]\n"
          ]
        }
      ]
    },
    {
      "cell_type": "markdown",
      "source": [
        "### 2.3.6 아래 missing_path는 결측치가 데이터로 해당 경로의 csv 파일을 열어 결측치를 확인하고 그 개수를 출력하시오."
      ],
      "metadata": {
        "id": "yV_qYcL2nXSL"
      }
    },
    {
      "cell_type": "code",
      "source": [
        "# 해당 셀을 실행하되 수정하지 마세요.\n",
        "missing_path = 'https://raw.githubusercontent.com/selva86/datasets/master/Cars93_miss.csv'"
      ],
      "metadata": {
        "id": "NJOCfjLOoJ5X"
      },
      "execution_count": 140,
      "outputs": []
    },
    {
      "cell_type": "code",
      "source": [
        "missing_df = pd.read_csv(missing_path)\n",
        "missing_df.isnull().sum()"
      ],
      "metadata": {
        "id": "i0Nu9efBoQwI",
        "colab": {
          "base_uri": "https://localhost:8080/",
          "height": 931
        },
        "outputId": "eb9d75cb-3bb5-4b80-e8ea-d4b666fc76b8"
      },
      "execution_count": 141,
      "outputs": [
        {
          "output_type": "execute_result",
          "data": {
            "text/plain": [
              "Manufacturer           4\n",
              "Model                  1\n",
              "Type                   3\n",
              "Min.Price              7\n",
              "Price                  2\n",
              "Max.Price              5\n",
              "MPG.city               9\n",
              "MPG.highway            2\n",
              "AirBags               38\n",
              "DriveTrain             7\n",
              "Cylinders              5\n",
              "EngineSize             2\n",
              "Horsepower             7\n",
              "RPM                    3\n",
              "Rev.per.mile           6\n",
              "Man.trans.avail        5\n",
              "Fuel.tank.capacity     8\n",
              "Passengers             2\n",
              "Length                 4\n",
              "Wheelbase              1\n",
              "Width                  6\n",
              "Turn.circle            5\n",
              "Rear.seat.room         4\n",
              "Luggage.room          19\n",
              "Weight                 7\n",
              "Origin                 5\n",
              "Make                   3\n",
              "dtype: int64"
            ],
            "text/html": [
              "<div>\n",
              "<style scoped>\n",
              "    .dataframe tbody tr th:only-of-type {\n",
              "        vertical-align: middle;\n",
              "    }\n",
              "\n",
              "    .dataframe tbody tr th {\n",
              "        vertical-align: top;\n",
              "    }\n",
              "\n",
              "    .dataframe thead th {\n",
              "        text-align: right;\n",
              "    }\n",
              "</style>\n",
              "<table border=\"1\" class=\"dataframe\">\n",
              "  <thead>\n",
              "    <tr style=\"text-align: right;\">\n",
              "      <th></th>\n",
              "      <th>0</th>\n",
              "    </tr>\n",
              "  </thead>\n",
              "  <tbody>\n",
              "    <tr>\n",
              "      <th>Manufacturer</th>\n",
              "      <td>4</td>\n",
              "    </tr>\n",
              "    <tr>\n",
              "      <th>Model</th>\n",
              "      <td>1</td>\n",
              "    </tr>\n",
              "    <tr>\n",
              "      <th>Type</th>\n",
              "      <td>3</td>\n",
              "    </tr>\n",
              "    <tr>\n",
              "      <th>Min.Price</th>\n",
              "      <td>7</td>\n",
              "    </tr>\n",
              "    <tr>\n",
              "      <th>Price</th>\n",
              "      <td>2</td>\n",
              "    </tr>\n",
              "    <tr>\n",
              "      <th>Max.Price</th>\n",
              "      <td>5</td>\n",
              "    </tr>\n",
              "    <tr>\n",
              "      <th>MPG.city</th>\n",
              "      <td>9</td>\n",
              "    </tr>\n",
              "    <tr>\n",
              "      <th>MPG.highway</th>\n",
              "      <td>2</td>\n",
              "    </tr>\n",
              "    <tr>\n",
              "      <th>AirBags</th>\n",
              "      <td>38</td>\n",
              "    </tr>\n",
              "    <tr>\n",
              "      <th>DriveTrain</th>\n",
              "      <td>7</td>\n",
              "    </tr>\n",
              "    <tr>\n",
              "      <th>Cylinders</th>\n",
              "      <td>5</td>\n",
              "    </tr>\n",
              "    <tr>\n",
              "      <th>EngineSize</th>\n",
              "      <td>2</td>\n",
              "    </tr>\n",
              "    <tr>\n",
              "      <th>Horsepower</th>\n",
              "      <td>7</td>\n",
              "    </tr>\n",
              "    <tr>\n",
              "      <th>RPM</th>\n",
              "      <td>3</td>\n",
              "    </tr>\n",
              "    <tr>\n",
              "      <th>Rev.per.mile</th>\n",
              "      <td>6</td>\n",
              "    </tr>\n",
              "    <tr>\n",
              "      <th>Man.trans.avail</th>\n",
              "      <td>5</td>\n",
              "    </tr>\n",
              "    <tr>\n",
              "      <th>Fuel.tank.capacity</th>\n",
              "      <td>8</td>\n",
              "    </tr>\n",
              "    <tr>\n",
              "      <th>Passengers</th>\n",
              "      <td>2</td>\n",
              "    </tr>\n",
              "    <tr>\n",
              "      <th>Length</th>\n",
              "      <td>4</td>\n",
              "    </tr>\n",
              "    <tr>\n",
              "      <th>Wheelbase</th>\n",
              "      <td>1</td>\n",
              "    </tr>\n",
              "    <tr>\n",
              "      <th>Width</th>\n",
              "      <td>6</td>\n",
              "    </tr>\n",
              "    <tr>\n",
              "      <th>Turn.circle</th>\n",
              "      <td>5</td>\n",
              "    </tr>\n",
              "    <tr>\n",
              "      <th>Rear.seat.room</th>\n",
              "      <td>4</td>\n",
              "    </tr>\n",
              "    <tr>\n",
              "      <th>Luggage.room</th>\n",
              "      <td>19</td>\n",
              "    </tr>\n",
              "    <tr>\n",
              "      <th>Weight</th>\n",
              "      <td>7</td>\n",
              "    </tr>\n",
              "    <tr>\n",
              "      <th>Origin</th>\n",
              "      <td>5</td>\n",
              "    </tr>\n",
              "    <tr>\n",
              "      <th>Make</th>\n",
              "      <td>3</td>\n",
              "    </tr>\n",
              "  </tbody>\n",
              "</table>\n",
              "</div><br><label><b>dtype:</b> int64</label>"
            ]
          },
          "metadata": {},
          "execution_count": 141
        }
      ]
    },
    {
      "cell_type": "markdown",
      "source": [
        "### 2.3.7 위의 데이터 중 결측치가 가장 많은 열을 출력하시오."
      ],
      "metadata": {
        "id": "wcNYBAomoRIM"
      }
    },
    {
      "cell_type": "code",
      "source": [
        "print(missing_df[missing_df.isnull().sum().idxmax()])"
      ],
      "metadata": {
        "id": "x9J0CIsEom3I",
        "colab": {
          "base_uri": "https://localhost:8080/"
        },
        "outputId": "eabee330-f25c-44b5-e27e-d10b8dff9107"
      },
      "execution_count": 144,
      "outputs": [
        {
          "output_type": "stream",
          "name": "stdout",
          "text": [
            "0                    NaN\n",
            "1     Driver & Passenger\n",
            "2            Driver only\n",
            "3     Driver & Passenger\n",
            "4                    NaN\n",
            "             ...        \n",
            "88                   NaN\n",
            "89                   NaN\n",
            "90                   NaN\n",
            "91           Driver only\n",
            "92    Driver & Passenger\n",
            "Name: AirBags, Length: 93, dtype: object\n"
          ]
        }
      ]
    },
    {
      "cell_type": "markdown",
      "source": [
        "### 2.3.8 정수 1부터 20까지로 이루어진 series를 만들고 4x5 크기의 dataframe으로 변형한 뒤 출력하시오. 그리고 해당 dataframe의 2,3번째 열만 출력하시오."
      ],
      "metadata": {
        "id": "mKZbeCLSonXw"
      }
    },
    {
      "cell_type": "code",
      "source": [
        "df_int=pd.DataFrame(pd.Series(range(1,21)).values.reshape(4,5))\n",
        "print(df_int)\n",
        "print(df_int.iloc[:,1:3])"
      ],
      "metadata": {
        "id": "Aau8l9_IpPuc",
        "colab": {
          "base_uri": "https://localhost:8080/"
        },
        "outputId": "db1e6307-4801-427d-edc4-378d9fae942c"
      },
      "execution_count": 151,
      "outputs": [
        {
          "output_type": "stream",
          "name": "stdout",
          "text": [
            "    0   1   2   3   4\n",
            "0   1   2   3   4   5\n",
            "1   6   7   8   9  10\n",
            "2  11  12  13  14  15\n",
            "3  16  17  18  19  20\n",
            "    1   2\n",
            "0   2   3\n",
            "1   7   8\n",
            "2  12  13\n",
            "3  17  18\n"
          ]
        }
      ]
    },
    {
      "cell_type": "markdown",
      "source": [
        "### 2.3.9 문제 2.3.8에서 만든 dataframe의 열을 알파벳 순으로('a','b','c',...) 열 이름을 변경하고 a열과 c열만 출력하시오."
      ],
      "metadata": {
        "id": "ktfWWNlmpNhp"
      }
    },
    {
      "cell_type": "code",
      "source": [
        "df_int.columns=list('abcde')\n",
        "print(df_int[['a','c']])"
      ],
      "metadata": {
        "id": "55Mc0AO-p1jZ",
        "colab": {
          "base_uri": "https://localhost:8080/"
        },
        "outputId": "6452fc81-6a41-4ca6-b5a1-9cceac93136c"
      },
      "execution_count": 152,
      "outputs": [
        {
          "output_type": "stream",
          "name": "stdout",
          "text": [
            "    a   c\n",
            "0   1   3\n",
            "1   6   8\n",
            "2  11  13\n",
            "3  16  18\n"
          ]
        }
      ]
    },
    {
      "cell_type": "markdown",
      "source": [
        "# 3. Matplotlib"
      ],
      "metadata": {
        "id": "e60H7kj2lYU1"
      }
    },
    {
      "cell_type": "markdown",
      "source": [
        "## 3.1 Matplotlib 알아보기"
      ],
      "metadata": {
        "id": "R2FtupgVqK4W"
      }
    },
    {
      "cell_type": "markdown",
      "source": [
        "###3.1.1 matplotlib의 pyplot libraby에 대한 간단한 설명을 적어주세요."
      ],
      "metadata": {
        "id": "4UXv03CrqX9I"
      }
    },
    {
      "cell_type": "markdown",
      "source": [
        "강력한 시각화 도구\n",
        "Python에서 그래프를 그리기 위한함수들을 모아 놓은 라이브러리이다.\n",
        "선그래프 막대그래프 히스토그램등을 만들 수 있고, 그래프의 제목, 축레이블, 범례등을 추가할 수 있다."
      ],
      "metadata": {
        "id": "A7eRXeWrqXcT"
      }
    },
    {
      "cell_type": "markdown",
      "source": [
        "### 3.1.2 본인의 matplotlib.pyplot의 version을 출력하시오."
      ],
      "metadata": {
        "id": "yc7uMExiqHFA"
      }
    },
    {
      "cell_type": "code",
      "source": [
        "import matplotlib.pyplot as plt\n",
        "matplotlib.__version__"
      ],
      "metadata": {
        "id": "uwyuyZ62mdpB",
        "colab": {
          "base_uri": "https://localhost:8080/",
          "height": 36
        },
        "outputId": "0cb346d5-fe4f-46bb-be92-8766fe748e6d"
      },
      "execution_count": 159,
      "outputs": [
        {
          "output_type": "execute_result",
          "data": {
            "text/plain": [
              "'3.7.1'"
            ],
            "application/vnd.google.colaboratory.intrinsic+json": {
              "type": "string"
            }
          },
          "metadata": {},
          "execution_count": 159
        }
      ]
    },
    {
      "cell_type": "markdown",
      "source": [
        "## 3.2"
      ],
      "metadata": {
        "id": "sOctvUCKoFYu"
      }
    },
    {
      "cell_type": "markdown",
      "source": [
        "### 3.2.1 아래의 조건에 맞추어 주어진 데이터 X,Y의 값에 대한 꺽은선 그래프를 그리시오.\n",
        "\n",
        "1. x,y축의 이름을 붙이시오.\n",
        "2. 그래프의 제목은 'Line'이라고 붙이시오.\n",
        "3. 그래프의 선 색을 빨간색으로 하시오.\n",
        "4. x축의 눈금은 5단위로 표시하시오."
      ],
      "metadata": {
        "id": "sa158IqHmeUJ"
      }
    },
    {
      "cell_type": "code",
      "source": [
        "# 해당 셀을 실행하되 수정하지 마시오.\n",
        "X = range(1, 50)\n",
        "Y = [value * 3 for value in X]"
      ],
      "metadata": {
        "id": "XUAtW4R0m4x_"
      },
      "execution_count": 156,
      "outputs": []
    },
    {
      "cell_type": "code",
      "source": [
        "# 그래프\n",
        "plt.plot(X, Y, color='red')\n",
        "\n",
        "# x, y축의 이름 설정\n",
        "plt.xlabel('X')\n",
        "plt.ylabel('Y')\n",
        "\n",
        "# 그래프 제목 설정\n",
        "plt.title('Line')\n",
        "\n",
        "# x축 눈금 설정 (5단위)\n",
        "plt.xticks(range(0, 51, 5))\n",
        "\n",
        "# 그래프 출력\n",
        "plt.show()"
      ],
      "metadata": {
        "id": "-AjfqGQ4m7L3",
        "colab": {
          "base_uri": "https://localhost:8080/",
          "height": 472
        },
        "outputId": "70232d5e-3198-4c71-8980-7d311095055d"
      },
      "execution_count": 161,
      "outputs": [
        {
          "output_type": "display_data",
          "data": {
            "text/plain": [
              "<Figure size 640x480 with 1 Axes>"
            ],
            "image/png": "[encoded data removed]"
          },
          "metadata": {}
        }
      ]
    },
    {
      "cell_type": "markdown",
      "source": [
        "### 3.2.2 아래의 조건에 맞추어 주어진 데이터에 대한 꺽은선 그래프를 그리시오.\n",
        "\n",
        "1. 첫 번째 그래프의 선 색은 빨강, 두 번째 선 색은 초록으로 하시오.\n",
        "2. 그래프의 제목은 'Two Lines'로 하시오.\n",
        "3. 선의 굵기를 4로 통일하시오.\n",
        "4. 각 선의 색에 따라 빨강 색은 'line1', 파랑 색은 'line2'임을 나타내는 표시를 그래프에 넣으시오.\n",
        "5. 첫 번째 그래프의 점은 삼각형, 두 번째 그래프의 점은 원형으로 그리시오."
      ],
      "metadata": {
        "id": "AQhGUHMMoC52"
      }
    },
    {
      "cell_type": "code",
      "source": [
        "# 해당 셀의 내용을 수정하지 마시오.\n",
        "# line 1 points\n",
        "x1 = [10,20,30]\n",
        "y1 = [20,40,10]\n",
        "\n",
        "# line 2 points\n",
        "x2 = [10,20,30]\n",
        "y2 = [40,10,30]"
      ],
      "metadata": {
        "id": "4rBJyK3-oW8A"
      },
      "execution_count": 163,
      "outputs": []
    },
    {
      "cell_type": "code",
      "source": [
        "# 그래프\n",
        "plt.plot(x1, y1, color='red', linewidth=4, marker='^', label='line1')\n",
        "plt.plot(x2, y2, color='green', linewidth=4, marker='o', label='line2')\n",
        "\n",
        "# 그래프 제목 설정\n",
        "plt.title('Two Lines')\n",
        "\n",
        "# 범례 추가\n",
        "plt.legend()\n",
        "\n",
        "# 그래프 출력\n",
        "plt.show()"
      ],
      "metadata": {
        "id": "8Fp0uM5aofYG",
        "colab": {
          "base_uri": "https://localhost:8080/",
          "height": 452
        },
        "outputId": "447318fc-e8fb-4320-d169-05de4b2b5522"
      },
      "execution_count": 165,
      "outputs": [
        {
          "output_type": "display_data",
          "data": {
            "text/plain": [
              "<Figure size 640x480 with 1 Axes>"
            ],
            "image/png": "[encoded data removed]"
          },
          "metadata": {}
        }
      ]
    },
    {
      "cell_type": "markdown",
      "source": [
        "### 3.2.3 주어진 데이터에서 x는 프로그래밍 언어, popularity는 프로그래밍의 선호도이다. 프로그래밍 언어에 따른 선호도에 대한 막대그래프를 아래 조건에 맞추어 그리시오.\n",
        "\n",
        "1. X축의 이름은 'Programming Language'로 하시오.\n",
        "2. Y축의 이름은 'Popularity'로 하시오.\n",
        "3. 격자 무늬를 넣으시오.\n",
        "4. 그래프의 제목은 'Popularity of programming language'로 하시오.\n",
        "5. X축의 눈금을 표시하시오.\n",
        "6. 막대그래프는 중간맞춤으로 그리시오."
      ],
      "metadata": {
        "id": "fZabRSyfpLY9"
      }
    },
    {
      "cell_type": "code",
      "source": [
        "# 해당 셀을 실행하되 수정하지 마시오.\n",
        "x = ['Java', 'Python', 'PHP', 'JavaScript', 'C#', 'C++']\n",
        "popularity = [22.2, 17.6, 8.8, 8, 7.7, 6.7]"
      ],
      "metadata": {
        "id": "2OC0AVntpiqq"
      },
      "execution_count": 167,
      "outputs": []
    },
    {
      "cell_type": "code",
      "source": [
        "# X축 위치 중간 맞춤\n",
        "x_pos = np.arange(len(x))\n",
        "\n",
        "# 막대그래프 그리기\n",
        "plt.bar(x_pos, popularity, align='center')\n",
        "\n",
        "# X, Y 축 이름 설정\n",
        "plt.xlabel('Programming Language')\n",
        "plt.ylabel('Popularity')\n",
        "\n",
        "# 그래프 제목 설정\n",
        "plt.title('Popularity of programming language')\n",
        "\n",
        "# X축 눈금 설정\n",
        "plt.xticks(x_pos, x)\n",
        "\n",
        "# 그래프 출력\n",
        "plt.show()"
      ],
      "metadata": {
        "id": "_m5Unnlguswl",
        "colab": {
          "base_uri": "https://localhost:8080/",
          "height": 472
        },
        "outputId": "efacf130-6a59-4bcb-840f-e846afbe4ff6"
      },
      "execution_count": 169,
      "outputs": [
        {
          "output_type": "display_data",
          "data": {
            "text/plain": [
              "<Figure size 640x480 with 1 Axes>"
            ],
            "image/png": "[encoded data removed]"
          },
          "metadata": {}
        }
      ]
    },
    {
      "cell_type": "markdown",
      "source": [
        "### 3.2.4 아래 조건에 맞추어 주어진 두 데이터에 대한 꺽은선 그래프 두 개를 한 번에 그리시오.\n",
        "\n",
        "1. data1의 그래프는 왼쪽에 data2의 그래프는 오른쪽에 그리시오.\n",
        "2. data1의 그래프는 실선, data2의 그래프는 점선으로 그리시오.\n",
        "3. 각각의 그래프의 최댓값에 화살표 표시를 넣고 'maximum'임을 표시하시오.\n",
        "4. 각 그래프 별로 'data1', 'data2'라는 제목을 붙이시오.\n"
      ],
      "metadata": {
        "id": "zInWl631r9F5"
      }
    },
    {
      "cell_type": "code",
      "source": [
        "# 해당 셀을 실행하되 수정하지 마시오.\n",
        "# data1\n",
        "x1 = [i for i in range(10)]\n",
        "y1 = [i*i+3 for i in x1]\n",
        "\n",
        "# data2\n",
        "x2 = [i for i in range(-5,6)]\n",
        "y2 = [(-1)*i*i+25 for i in x2]"
      ],
      "metadata": {
        "id": "zJ0UQcjfusHy"
      },
      "execution_count": null,
      "outputs": []
    },
    {
      "cell_type": "code",
      "source": [
        "# 서브플롯 설정\n",
        "fig, (ax1, ax2) = plt.subplots(1, 2, figsize=(12, 5))\n",
        "\n",
        "# data1 그래프\n",
        "ax1.plot(x1, y1, linestyle='-', color='blue')  # 실선\n",
        "ax1.set_title('data1')\n",
        "ax1.set_xlabel('X1')\n",
        "ax1.set_ylabel('Y1')\n",
        "\n",
        "# data1의 최대값 표시\n",
        "max_index1 = np.argmax(y1)\n",
        "max_value1 = y1[max_index1]\n",
        "ax1.annotate('maximum', xy=(x1[max_index1], max_value1),\n",
        "             xytext=(x1[max_index1] + 1, max_value1 + 10),\n",
        "             arrowprops=dict(facecolor='black', shrink=0.05))\n",
        "\n",
        "# data2 그래프\n",
        "ax2.plot(x2, y2, linestyle=':', color='green')  # 점선\n",
        "ax2.set_title('data2')\n",
        "ax2.set_xlabel('X2')\n",
        "ax2.set_ylabel('Y2')\n",
        "\n",
        "# data2의 최대값 표시\n",
        "max_index2 = np.argmax(y2)\n",
        "max_value2 = y2[max_index2]\n",
        "ax2.annotate('maximum', xy=(x2[max_index2], max_value2),\n",
        "             xytext=(x2[max_index2] + 1, max_value2 - 10),\n",
        "             arrowprops=dict(facecolor='black', shrink=0.05))\n",
        "\n",
        "# 그래프 간격 조정\n",
        "plt.tight_layout()\n",
        "\n",
        "# 그래프 출력\n",
        "plt.show()\n"
      ],
      "metadata": {
        "id": "BtfbYSIbvwC4",
        "colab": {
          "base_uri": "https://localhost:8080/",
          "height": 411
        },
        "outputId": "b50b02d1-bded-4106-88a3-eb040ce1608e"
      },
      "execution_count": 170,
      "outputs": [
        {
          "output_type": "display_data",
          "data": {
            "text/plain": [
              "<Figure size 1200x500 with 2 Axes>"
            ],
            "image/png": "[encoded data removed]"
          },
          "metadata": {}
        }
      ]
    },
    {
      "cell_type": "code",
      "source": [],
      "metadata": {
        "id": "NJbzOi4Oi4NI"
      },
      "execution_count": null,
      "outputs": []
    }
  ]
}