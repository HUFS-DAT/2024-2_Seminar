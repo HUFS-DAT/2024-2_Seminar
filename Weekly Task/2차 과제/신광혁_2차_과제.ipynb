{
  "nbformat": 4,
  "nbformat_minor": 0,
  "metadata": {
    "colab": {
      "provenance": [],
      "toc_visible": true
    },
    "kernelspec": {
      "name": "python3",
      "display_name": "Python 3"
    },
    "language_info": {
      "name": "python"
    }
  },
  "cells": [
    {
      "cell_type": "markdown",
      "source": [
        "# 0. Importing Modules"
      ],
      "metadata": {
        "id": "fTTwiBy0h0cy"
      }
    },
    {
      "cell_type": "markdown",
      "source": [
        "코드의 기본은 해당 코드를 작성할 때 필요한 module들을 가져오는 것부터 시작됩니다."
      ],
      "metadata": {
        "id": "bpLCYHx1h5GD"
      }
    },
    {
      "cell_type": "code",
      "source": [
        "# 과제를 시작하기 전 이 셀을 무조건 실행하세요.\n",
        "import pandas as pd\n",
        "import numpy as np\n",
        "import matplotlib.pyplot as plt\n",
        "import datetime as DT\n",
        "from matplotlib.dates import date2num\n",
        "# import matplotlib.dates import date2num 을 바꿈\n",
        "\n",
        "# 아래에 필요한 것들을 추가로 작성해주세요.\n",
        "import seaborn as sns\n",
        "import statistics\n"
      ],
      "metadata": {
        "id": "nl5GVtbYiDJe"
      },
      "execution_count": 82,
      "outputs": []
    },
    {
      "cell_type": "markdown",
      "source": [
        "# 1.Numpy"
      ],
      "metadata": {
        "id": "QznyryyEhs0I"
      }
    },
    {
      "cell_type": "markdown",
      "source": [
        "## 1.1 Numpy 알아보기"
      ],
      "metadata": {
        "id": "nWzUmN4Bhvtr"
      }
    },
    {
      "cell_type": "markdown",
      "source": [
        "### 1.1.1 numpy에 대한 간단한 설명을 적어주세요."
      ],
      "metadata": {
        "id": "fgL8h1jSi2Bj"
      }
    },
    {
      "cell_type": "markdown",
      "source": [
        "다차원 배열을 쉽게 처리하고 효율적으로 사용할 수 있도록 지원하는 파이썬의 패키지"
      ],
      "metadata": {
        "id": "y2FZEMQzi8pr"
      }
    },
    {
      "cell_type": "markdown",
      "source": [
        "### 1.1.2 본인의 numpy version을 출력해주세요"
      ],
      "metadata": {
        "id": "ZCEMeFZyiwKw"
      }
    },
    {
      "cell_type": "code",
      "execution_count": 2,
      "metadata": {
        "id": "2UOkCiUdg9EQ",
        "colab": {
          "base_uri": "https://localhost:8080/"
        },
        "outputId": "34e71cc8-34ef-4e77-aa06-aa1f2a4d38c3"
      },
      "outputs": [
        {
          "output_type": "stream",
          "name": "stdout",
          "text": [
            "1.26.4\n"
          ]
        }
      ],
      "source": [
        "print(np.__version__)"
      ]
    },
    {
      "cell_type": "markdown",
      "source": [
        "##1.2 numpy array\n",
        "* 1.2의 문제들은 모두 코드 한 줄로 적어야 합니다.\n",
        "* '#이곳에 작성'을 지우고 코드를 적어주세요."
      ],
      "metadata": {
        "id": "Gu48TLh0jJU0"
      }
    },
    {
      "cell_type": "markdown",
      "source": [
        "###1.2.1 숫자 0부터 9까지 숫자로 이루어진 numpy array를 하나 만드시오."
      ],
      "metadata": {
        "id": "MzIW4_JGjbM-"
      }
    },
    {
      "cell_type": "code",
      "source": [
        "arr = np.array([0,1,2,3,4,5,6,7,8,9])\n",
        "print(arr)"
      ],
      "metadata": {
        "id": "ceneOKE5i_0Z",
        "colab": {
          "base_uri": "https://localhost:8080/"
        },
        "outputId": "4a2d74d0-78fe-405e-ba2e-46377f7b41cf"
      },
      "execution_count": 3,
      "outputs": [
        {
          "output_type": "stream",
          "name": "stdout",
          "text": [
            "[0 1 2 3 4 5 6 7 8 9]\n"
          ]
        }
      ]
    },
    {
      "cell_type": "markdown",
      "source": [
        "###1.2.2 위의 문제에서 만든 arr의 요소 중 홀수인 수를 모두 10으로 변경하시오."
      ],
      "metadata": {
        "id": "z-D_BIbjkOdB"
      }
    },
    {
      "cell_type": "code",
      "source": [
        "no_odd = np.where(arr%2 == 1, 10, arr)\n",
        "print(no_odd)"
      ],
      "metadata": {
        "id": "VN4leFfZkkHw",
        "colab": {
          "base_uri": "https://localhost:8080/"
        },
        "outputId": "886edb3b-98a1-497d-ebf4-af2437783176"
      },
      "execution_count": 4,
      "outputs": [
        {
          "output_type": "stream",
          "name": "stdout",
          "text": [
            "[ 0 10  2 10  4 10  6 10  8 10]\n"
          ]
        }
      ]
    },
    {
      "cell_type": "markdown",
      "source": [
        "###1.2.3 위의 문제에서 만든 arr는 1차원 배열입니다. 이 배열을 2차원 배열로 변경하시오.\n",
        "array([0,1,2,3,4,5,6,7,8,9]) -> array([[0,1,2,3,4],[5,6,7,8,9]])"
      ],
      "metadata": {
        "id": "41TP4Ym1lC13"
      }
    },
    {
      "cell_type": "code",
      "source": [
        "arr_2d = np.reshape(arr,(2,5))\n",
        "print(arr_2d)"
      ],
      "metadata": {
        "id": "02SCthcAlOsy",
        "colab": {
          "base_uri": "https://localhost:8080/"
        },
        "outputId": "afb2c296-4861-4477-ce00-661663191482"
      },
      "execution_count": 5,
      "outputs": [
        {
          "output_type": "stream",
          "name": "stdout",
          "text": [
            "[[0 1 2 3 4]\n",
            " [5 6 7 8 9]]\n"
          ]
        }
      ]
    },
    {
      "cell_type": "markdown",
      "source": [
        "###1.2.4 True로 이루어진 3x3 numpy array를 만드시오."
      ],
      "metadata": {
        "id": "woxgg4M3j1S1"
      }
    },
    {
      "cell_type": "code",
      "source": [
        "true_mat = np.array([[True,True,True],[True,True,True],[True,True,True]])\n",
        "print(true_mat)"
      ],
      "metadata": {
        "id": "zs5KGgm7j-xS",
        "colab": {
          "base_uri": "https://localhost:8080/"
        },
        "outputId": "851ac43e-6ef5-446f-dd77-87de8ac0c76d"
      },
      "execution_count": 6,
      "outputs": [
        {
          "output_type": "stream",
          "name": "stdout",
          "text": [
            "[[ True  True  True]\n",
            " [ True  True  True]\n",
            " [ True  True  True]]\n"
          ]
        }
      ]
    },
    {
      "cell_type": "markdown",
      "source": [
        "###1.2.5 숫자 0부터 8까지로 이루어진 3x3 numpy array를 만드시오."
      ],
      "metadata": {
        "id": "W9ytRnhhmmzX"
      }
    },
    {
      "cell_type": "code",
      "source": [
        "mat = np.array([[0,1,2],[3,4,5],[6,7,8]])\n",
        "print(mat)"
      ],
      "metadata": {
        "id": "8x1DZQjYm7GR",
        "colab": {
          "base_uri": "https://localhost:8080/"
        },
        "outputId": "8379295c-5a93-45da-9913-6ef09a6115fc"
      },
      "execution_count": 7,
      "outputs": [
        {
          "output_type": "stream",
          "name": "stdout",
          "text": [
            "[[0 1 2]\n",
            " [3 4 5]\n",
            " [6 7 8]]\n"
          ]
        }
      ]
    },
    {
      "cell_type": "markdown",
      "source": [
        "###1.2.6 숫자 5부터 10까지의 난수로 이루어진 array를 만드시오."
      ],
      "metadata": {
        "id": "-Mi_2yCNn0AA"
      }
    },
    {
      "cell_type": "code",
      "source": [
        "rand_arr = np.random.randint(5,11,size=5) #시작은 주어진 그대로 쓰고 끝은 n+1으로 설정, size(행,열)\n",
        "print(rand_arr)"
      ],
      "metadata": {
        "id": "rQ9SKYmgoNID",
        "colab": {
          "base_uri": "https://localhost:8080/"
        },
        "outputId": "1acfa5a7-e17b-4a88-a7b3-5e59bf4d175e"
      },
      "execution_count": 8,
      "outputs": [
        {
          "output_type": "stream",
          "name": "stdout",
          "text": [
            "[10 10  8 10  9]\n"
          ]
        }
      ]
    },
    {
      "cell_type": "markdown",
      "source": [
        "###1.2.7 위의 1.2.5번 문제에서 만든 mat의 모든 행들을 역으로 작성하세요.\n",
        "array([0,1,2],[3,4,5],[6,7,8]]) -> array([2,1,0],[5,4,3],[8,7,6]])"
      ],
      "metadata": {
        "id": "yjJQzG2bnFMA"
      }
    },
    {
      "cell_type": "code",
      "source": [
        "reverse_mat = np.flip(mat)\n",
        "print(reverse_mat)"
      ],
      "metadata": {
        "id": "AO1H_YbWwVmX",
        "colab": {
          "base_uri": "https://localhost:8080/"
        },
        "outputId": "338a1981-64de-4f20-9b11-b94dbb40b2a9"
      },
      "execution_count": 9,
      "outputs": [
        {
          "output_type": "stream",
          "name": "stdout",
          "text": [
            "[[8 7 6]\n",
            " [5 4 3]\n",
            " [2 1 0]]\n"
          ]
        }
      ]
    },
    {
      "cell_type": "markdown",
      "source": [
        "## 1.3 numpy를 이용한 data 처리"
      ],
      "metadata": {
        "id": "LmryYJz3mDMR"
      }
    },
    {
      "cell_type": "markdown",
      "source": [
        "###1.3.1 iris_1d는 꽃잎 길이와 종에 대한 data입니다. 해당 데이터의 앞에서 10개의 data만 출력하시오.\n",
        "* iris_1d 변수의 내용을 변경하지 마시오."
      ],
      "metadata": {
        "id": "hfC_DiJ-nuzZ"
      }
    },
    {
      "cell_type": "code",
      "source": [
        "# 해당 셀을 실행하되 수정하지 마세요.\n",
        "url = 'https://archive.ics.uci.edu/ml/machine-learning-databases/iris/iris.data'\n",
        "iris_1d = np.genfromtxt(url, delimiter=',', dtype=None)\n",
        "np.random.seed(10)\n",
        "np.random.shuffle(iris_1d)\n",
        "iris_1d"
      ],
      "metadata": {
        "id": "weTAz59uqUjY",
        "collapsed": true,
        "colab": {
          "base_uri": "https://localhost:8080/"
        },
        "outputId": "ffb21037-44f0-4f35-e302-127f65050e3a"
      },
      "execution_count": 10,
      "outputs": [
        {
          "output_type": "stream",
          "name": "stderr",
          "text": [
            "<ipython-input-10-e6a34f2d108b>:3: VisibleDeprecationWarning: Reading unicode strings without specifying the encoding argument is deprecated. Set the encoding, use None for the system default.\n",
            "  iris_1d = np.genfromtxt(url, delimiter=',', dtype=None)\n"
          ]
        },
        {
          "output_type": "execute_result",
          "data": {
            "text/plain": [
              "array([(6.3, 2.3, 4.4, 1.3, b'Iris-versicolor'),\n",
              "       (6.4, 2.7, 5.3, 1.9, b'Iris-virginica'),\n",
              "       (5.4, 3.7, 1.5, 0.2, b'Iris-setosa'),\n",
              "       (6.1, 3. , 4.6, 1.4, b'Iris-versicolor'),\n",
              "       (5. , 3.3, 1.4, 0.2, b'Iris-setosa'),\n",
              "       (5. , 2. , 3.5, 1. , b'Iris-versicolor'),\n",
              "       (6.3, 2.5, 4.9, 1.5, b'Iris-versicolor'),\n",
              "       (5.8, 2.7, 4.1, 1. , b'Iris-versicolor'),\n",
              "       (5.1, 3.4, 1.5, 0.2, b'Iris-setosa'),\n",
              "       (5.7, 2.8, 4.5, 1.3, b'Iris-versicolor'),\n",
              "       (5.6, 3. , 4.5, 1.5, b'Iris-versicolor'),\n",
              "       (5.8, 2.7, 5.1, 1.9, b'Iris-virginica'),\n",
              "       (5.5, 2.3, 4. , 1.3, b'Iris-versicolor'),\n",
              "       (4.9, 3. , 1.4, 0.2, b'Iris-setosa'),\n",
              "       (5.1, 3.8, 1.5, 0.3, b'Iris-setosa'),\n",
              "       (6.8, 3. , 5.5, 2.1, b'Iris-virginica'),\n",
              "       (6. , 3.4, 4.5, 1.6, b'Iris-versicolor'),\n",
              "       (4.4, 3. , 1.3, 0.2, b'Iris-setosa'),\n",
              "       (5.1, 3.7, 1.5, 0.4, b'Iris-setosa'),\n",
              "       (5. , 3.2, 1.2, 0.2, b'Iris-setosa'),\n",
              "       (7.1, 3. , 5.9, 2.1, b'Iris-virginica'),\n",
              "       (6.4, 2.8, 5.6, 2.2, b'Iris-virginica'),\n",
              "       (6.2, 2.8, 4.8, 1.8, b'Iris-virginica'),\n",
              "       (4.8, 3.4, 1.9, 0.2, b'Iris-setosa'),\n",
              "       (5.9, 3. , 4.2, 1.5, b'Iris-versicolor'),\n",
              "       (4.7, 3.2, 1.3, 0.2, b'Iris-setosa'),\n",
              "       (5.7, 3. , 4.2, 1.2, b'Iris-versicolor'),\n",
              "       (5.5, 2.6, 4.4, 1.2, b'Iris-versicolor'),\n",
              "       (6.8, 2.8, 4.8, 1.4, b'Iris-versicolor'),\n",
              "       (7.7, 3.8, 6.7, 2.2, b'Iris-virginica'),\n",
              "       (6.6, 2.9, 4.6, 1.3, b'Iris-versicolor'),\n",
              "       (6.2, 2.9, 4.3, 1.3, b'Iris-versicolor'),\n",
              "       (7.2, 3. , 5.8, 1.6, b'Iris-virginica'),\n",
              "       (5.8, 2.8, 5.1, 2.4, b'Iris-virginica'),\n",
              "       (6.3, 2.5, 5. , 1.9, b'Iris-virginica'),\n",
              "       (4.6, 3.2, 1.4, 0.2, b'Iris-setosa'),\n",
              "       (6.7, 3.3, 5.7, 2.1, b'Iris-virginica'),\n",
              "       (6.9, 3.2, 5.7, 2.3, b'Iris-virginica'),\n",
              "       (7.7, 2.6, 6.9, 2.3, b'Iris-virginica'),\n",
              "       (6.9, 3.1, 5.1, 2.3, b'Iris-virginica'),\n",
              "       (5. , 3.4, 1.6, 0.4, b'Iris-setosa'),\n",
              "       (5. , 3.5, 1.6, 0.6, b'Iris-setosa'),\n",
              "       (5.2, 2.7, 3.9, 1.4, b'Iris-versicolor'),\n",
              "       (4.5, 2.3, 1.3, 0.3, b'Iris-setosa'),\n",
              "       (6.3, 3.3, 4.7, 1.6, b'Iris-versicolor'),\n",
              "       (5.2, 4.1, 1.5, 0.1, b'Iris-setosa'),\n",
              "       (6.9, 3.1, 4.9, 1.5, b'Iris-versicolor'),\n",
              "       (5.9, 3.2, 4.8, 1.8, b'Iris-versicolor'),\n",
              "       (5.6, 2.8, 4.9, 2. , b'Iris-virginica'),\n",
              "       (6.7, 3.3, 5.7, 2.5, b'Iris-virginica'),\n",
              "       (6.2, 2.2, 4.5, 1.5, b'Iris-versicolor'),\n",
              "       (7.2, 3.6, 6.1, 2.5, b'Iris-virginica'),\n",
              "       (5.5, 2.4, 3.7, 1. , b'Iris-versicolor'),\n",
              "       (6. , 2.9, 4.5, 1.5, b'Iris-versicolor'),\n",
              "       (6.4, 3.2, 4.5, 1.5, b'Iris-versicolor'),\n",
              "       (5.8, 4. , 1.2, 0.2, b'Iris-setosa'),\n",
              "       (5.3, 3.7, 1.5, 0.2, b'Iris-setosa'),\n",
              "       (6.1, 2.9, 4.7, 1.4, b'Iris-versicolor'),\n",
              "       (5.4, 3.4, 1.7, 0.2, b'Iris-setosa'),\n",
              "       (6.4, 3.1, 5.5, 1.8, b'Iris-virginica'),\n",
              "       (4.7, 3.2, 1.6, 0.2, b'Iris-setosa'),\n",
              "       (4.6, 3.1, 1.5, 0.2, b'Iris-setosa'),\n",
              "       (4.9, 2.5, 4.5, 1.7, b'Iris-virginica'),\n",
              "       (5.1, 2.5, 3. , 1.1, b'Iris-versicolor'),\n",
              "       (6.7, 3.1, 5.6, 2.4, b'Iris-virginica'),\n",
              "       (4.9, 3.1, 1.5, 0.1, b'Iris-setosa'),\n",
              "       (6.9, 3.1, 5.4, 2.1, b'Iris-virginica'),\n",
              "       (4.8, 3. , 1.4, 0.3, b'Iris-setosa'),\n",
              "       (5.8, 2.7, 3.9, 1.2, b'Iris-versicolor'),\n",
              "       (6. , 2.7, 5.1, 1.6, b'Iris-versicolor'),\n",
              "       (4.4, 3.2, 1.3, 0.2, b'Iris-setosa'),\n",
              "       (6.8, 3.2, 5.9, 2.3, b'Iris-virginica'),\n",
              "       (7.9, 3.8, 6.4, 2. , b'Iris-virginica'),\n",
              "       (6.5, 3. , 5.5, 1.8, b'Iris-virginica'),\n",
              "       (7.6, 3. , 6.6, 2.1, b'Iris-virginica'),\n",
              "       (6.3, 2.8, 5.1, 1.5, b'Iris-virginica'),\n",
              "       (4.6, 3.4, 1.4, 0.3, b'Iris-setosa'),\n",
              "       (5.7, 2.6, 3.5, 1. , b'Iris-versicolor'),\n",
              "       (6.7, 2.5, 5.8, 1.8, b'Iris-virginica'),\n",
              "       (5.7, 2.8, 4.1, 1.3, b'Iris-versicolor'),\n",
              "       (4.9, 3.1, 1.5, 0.1, b'Iris-setosa'),\n",
              "       (6.4, 2.8, 5.6, 2.1, b'Iris-virginica'),\n",
              "       (7. , 3.2, 4.7, 1.4, b'Iris-versicolor'),\n",
              "       (5.7, 2.9, 4.2, 1.3, b'Iris-versicolor'),\n",
              "       (5. , 3.6, 1.4, 0.2, b'Iris-setosa'),\n",
              "       (5.4, 3.9, 1.7, 0.4, b'Iris-setosa'),\n",
              "       (5.1, 3.8, 1.9, 0.4, b'Iris-setosa'),\n",
              "       (5.4, 3. , 4.5, 1.5, b'Iris-versicolor'),\n",
              "       (7.4, 2.8, 6.1, 1.9, b'Iris-virginica'),\n",
              "       (6.3, 2.9, 5.6, 1.8, b'Iris-virginica'),\n",
              "       (6.6, 3. , 4.4, 1.4, b'Iris-versicolor'),\n",
              "       (5. , 3.4, 1.5, 0.2, b'Iris-setosa'),\n",
              "       (5.1, 3.8, 1.6, 0.2, b'Iris-setosa'),\n",
              "       (5.1, 3.5, 1.4, 0.3, b'Iris-setosa'),\n",
              "       (6.5, 3. , 5.8, 2.2, b'Iris-virginica'),\n",
              "       (5.8, 2.7, 5.1, 1.9, b'Iris-virginica'),\n",
              "       (6.1, 2.8, 4. , 1.3, b'Iris-versicolor'),\n",
              "       (5.5, 2.4, 3.8, 1.1, b'Iris-versicolor'),\n",
              "       (6.5, 3.2, 5.1, 2. , b'Iris-virginica'),\n",
              "       (6.5, 3. , 5.2, 2. , b'Iris-virginica'),\n",
              "       (5.9, 3. , 5.1, 1.8, b'Iris-virginica'),\n",
              "       (6.1, 2.6, 5.6, 1.4, b'Iris-virginica'),\n",
              "       (6.4, 2.9, 4.3, 1.3, b'Iris-versicolor'),\n",
              "       (5.2, 3.4, 1.4, 0.2, b'Iris-setosa'),\n",
              "       (4.8, 3.4, 1.6, 0.2, b'Iris-setosa'),\n",
              "       (5.6, 2.7, 4.2, 1.3, b'Iris-versicolor'),\n",
              "       (5.1, 3.3, 1.7, 0.5, b'Iris-setosa'),\n",
              "       (4.6, 3.6, 1. , 0.2, b'Iris-setosa'),\n",
              "       (6.1, 3. , 4.9, 1.8, b'Iris-virginica'),\n",
              "       (5. , 2.3, 3.3, 1. , b'Iris-versicolor'),\n",
              "       (5.7, 3.8, 1.7, 0.3, b'Iris-setosa'),\n",
              "       (5.2, 3.5, 1.5, 0.2, b'Iris-setosa'),\n",
              "       (5.5, 3.5, 1.3, 0.2, b'Iris-setosa'),\n",
              "       (4.9, 2.4, 3.3, 1. , b'Iris-versicolor'),\n",
              "       (5.4, 3.4, 1.5, 0.4, b'Iris-setosa'),\n",
              "       (6.7, 3.1, 4.4, 1.4, b'Iris-versicolor'),\n",
              "       (4.8, 3. , 1.4, 0.1, b'Iris-setosa'),\n",
              "       (5.5, 2.5, 4. , 1.3, b'Iris-versicolor'),\n",
              "       (6. , 2.2, 5. , 1.5, b'Iris-virginica'),\n",
              "       (4.8, 3.1, 1.6, 0.2, b'Iris-setosa'),\n",
              "       (6.7, 3.1, 4.7, 1.5, b'Iris-versicolor'),\n",
              "       (5.8, 2.6, 4. , 1.2, b'Iris-versicolor'),\n",
              "       (6.2, 3.4, 5.4, 2.3, b'Iris-virginica'),\n",
              "       (5. , 3. , 1.6, 0.2, b'Iris-setosa'),\n",
              "       (6. , 3. , 4.8, 1.8, b'Iris-virginica'),\n",
              "       (4.3, 3. , 1.1, 0.1, b'Iris-setosa'),\n",
              "       (5.6, 2.5, 3.9, 1.1, b'Iris-versicolor'),\n",
              "       (6.7, 3. , 5. , 1.7, b'Iris-versicolor'),\n",
              "       (7.7, 3. , 6.1, 2.3, b'Iris-virginica'),\n",
              "       (6.3, 3.4, 5.6, 2.4, b'Iris-virginica'),\n",
              "       (5.5, 4.2, 1.4, 0.2, b'Iris-setosa'),\n",
              "       (6. , 2.2, 4. , 1. , b'Iris-versicolor'),\n",
              "       (7.7, 2.8, 6.7, 2. , b'Iris-virginica'),\n",
              "       (7.3, 2.9, 6.3, 1.8, b'Iris-virginica'),\n",
              "       (5.6, 3. , 4.1, 1.3, b'Iris-versicolor'),\n",
              "       (6.5, 2.8, 4.6, 1.5, b'Iris-versicolor'),\n",
              "       (6.3, 3.3, 6. , 2.5, b'Iris-virginica'),\n",
              "       (5.4, 3.9, 1.3, 0.4, b'Iris-setosa'),\n",
              "       (6.4, 3.2, 5.3, 2.3, b'Iris-virginica'),\n",
              "       (5. , 3.5, 1.3, 0.3, b'Iris-setosa'),\n",
              "       (5.1, 3.5, 1.4, 0.2, b'Iris-setosa'),\n",
              "       (6.1, 2.8, 4.7, 1.2, b'Iris-versicolor'),\n",
              "       (4.4, 2.9, 1.4, 0.2, b'Iris-setosa'),\n",
              "       (6.7, 3. , 5.2, 2.3, b'Iris-virginica'),\n",
              "       (6.3, 2.7, 4.9, 1.8, b'Iris-virginica'),\n",
              "       (5.7, 2.5, 5. , 2. , b'Iris-virginica'),\n",
              "       (5.6, 2.9, 3.6, 1.3, b'Iris-versicolor'),\n",
              "       (5.7, 4.4, 1.5, 0.4, b'Iris-setosa'),\n",
              "       (7.2, 3.2, 6. , 1.8, b'Iris-virginica'),\n",
              "       (4.9, 3.1, 1.5, 0.1, b'Iris-setosa')],\n",
              "      dtype=[('f0', '<f8'), ('f1', '<f8'), ('f2', '<f8'), ('f3', '<f8'), ('f4', 'S15')])"
            ]
          },
          "metadata": {},
          "execution_count": 10
        }
      ]
    },
    {
      "cell_type": "code",
      "source": [
        "print(iris_1d[:10])"
      ],
      "metadata": {
        "id": "63BiG_4drHDc",
        "colab": {
          "base_uri": "https://localhost:8080/"
        },
        "outputId": "4378c589-613f-4fda-d39a-e7d6dde773dd"
      },
      "execution_count": 11,
      "outputs": [
        {
          "output_type": "stream",
          "name": "stdout",
          "text": [
            "[(6.3, 2.3, 4.4, 1.3, b'Iris-versicolor')\n",
            " (6.4, 2.7, 5.3, 1.9, b'Iris-virginica')\n",
            " (5.4, 3.7, 1.5, 0.2, b'Iris-setosa')\n",
            " (6.1, 3. , 4.6, 1.4, b'Iris-versicolor')\n",
            " (5. , 3.3, 1.4, 0.2, b'Iris-setosa')\n",
            " (5. , 2. , 3.5, 1. , b'Iris-versicolor')\n",
            " (6.3, 2.5, 4.9, 1.5, b'Iris-versicolor')\n",
            " (5.8, 2.7, 4.1, 1. , b'Iris-versicolor')\n",
            " (5.1, 3.4, 1.5, 0.2, b'Iris-setosa')\n",
            " (5.7, 2.8, 4.5, 1.3, b'Iris-versicolor')]\n"
          ]
        }
      ]
    },
    {
      "cell_type": "markdown",
      "source": [
        "###1.3.2 iris data는 4개의 숫자 데이터(꽃잎의 길이)와 1개의 문자 데이터(꽃의 종)로 이루어져 있습니다. 위 문제에서의 iris10 데이터의 종 정보만 출력하시오.\n"
      ],
      "metadata": {
        "id": "QTLaq2qYrQGV"
      }
    },
    {
      "cell_type": "code",
      "source": [
        "print(iris_1d[:10]['f4'])"
      ],
      "metadata": {
        "id": "FysATKCQrtTT",
        "colab": {
          "base_uri": "https://localhost:8080/"
        },
        "outputId": "45d26549-77e3-4a28-eb5b-bbe85d320569"
      },
      "execution_count": 12,
      "outputs": [
        {
          "output_type": "stream",
          "name": "stdout",
          "text": [
            "[b'Iris-versicolor' b'Iris-virginica' b'Iris-setosa' b'Iris-versicolor'\n",
            " b'Iris-setosa' b'Iris-versicolor' b'Iris-versicolor' b'Iris-versicolor'\n",
            " b'Iris-setosa' b'Iris-versicolor']\n"
          ]
        }
      ]
    },
    {
      "cell_type": "markdown",
      "source": [
        "### 1.3.3 iris_1d data의 앞에서 30개의 data만 추출하여 첫 번째 요소의 길이가 5.0 이하인 것만 출력하시오."
      ],
      "metadata": {
        "id": "HapBJ6hprt1J"
      }
    },
    {
      "cell_type": "code",
      "source": [
        "iris_1d_30 = iris_1d[:30]\n",
        "print(iris_1d_30[iris_1d_30['f0'] <= 5.0])"
      ],
      "metadata": {
        "id": "MjOFNMzPnbDG",
        "colab": {
          "base_uri": "https://localhost:8080/"
        },
        "outputId": "5bcd52d5-5d02-4d84-b234-6770f0c4d2f4"
      },
      "execution_count": 13,
      "outputs": [
        {
          "output_type": "stream",
          "name": "stdout",
          "text": [
            "[(5. , 3.3, 1.4, 0.2, b'Iris-setosa')\n",
            " (5. , 2. , 3.5, 1. , b'Iris-versicolor')\n",
            " (4.9, 3. , 1.4, 0.2, b'Iris-setosa') (4.4, 3. , 1.3, 0.2, b'Iris-setosa')\n",
            " (5. , 3.2, 1.2, 0.2, b'Iris-setosa') (4.8, 3.4, 1.9, 0.2, b'Iris-setosa')\n",
            " (4.7, 3.2, 1.3, 0.2, b'Iris-setosa')]\n"
          ]
        }
      ]
    },
    {
      "cell_type": "markdown",
      "source": [
        "### 1.3.4 irids_1d data의 앞에서 15개의 data만 추출하여 첫 번째 요소와 네 번째 요소 간의 상관관계를 출력하시오."
      ],
      "metadata": {
        "id": "HW0TU00uuVt-"
      }
    },
    {
      "cell_type": "code",
      "source": [
        "iris_1d_15 = iris_1d[:15]\n",
        "print(np.corrcoef(iris_1d_15['f0'],iris_1d_15['f3']))\n",
        "\n",
        "#상관계수 np.corrcoef(x,y)"
      ],
      "metadata": {
        "id": "YUq4j3cYqfWZ",
        "colab": {
          "base_uri": "https://localhost:8080/"
        },
        "outputId": "3ba1392b-7c2f-4250-e6be-f551445d2a33"
      },
      "execution_count": 14,
      "outputs": [
        {
          "output_type": "stream",
          "name": "stdout",
          "text": [
            "[[1.         0.79112507]\n",
            " [0.79112507 1.        ]]\n"
          ]
        }
      ]
    },
    {
      "cell_type": "markdown",
      "source": [
        "###1.3.5 iris_1d 데이터에서 각 종별로 개수가 몇 개인지 출력하시오."
      ],
      "metadata": {
        "id": "E2nyt8FwvSe4"
      }
    },
    {
      "cell_type": "code",
      "source": [
        "iris_id_sp = iris_1d['f4']\n",
        "print(np.unique(iris_id_sp, return_counts=True))"
      ],
      "metadata": {
        "id": "gwfehAqBwy2f",
        "colab": {
          "base_uri": "https://localhost:8080/"
        },
        "outputId": "d726fc1b-f1c2-4c2c-f9c1-75a9da130942"
      },
      "execution_count": 15,
      "outputs": [
        {
          "output_type": "stream",
          "name": "stdout",
          "text": [
            "(array([b'Iris-setosa', b'Iris-versicolor', b'Iris-virginica'],\n",
            "      dtype='|S15'), array([50, 50, 50]))\n"
          ]
        }
      ]
    },
    {
      "cell_type": "markdown",
      "source": [
        "###1.3.6 iris_1d 데이터 중 3번째 요소의 길이가 5.0 이상인 data의 index를 모두 출력하시오."
      ],
      "metadata": {
        "id": "l0Mpd30cxP6D"
      }
    },
    {
      "cell_type": "code",
      "source": [
        "print(iris_1d[iris_1d['f2']>=5.0])"
      ],
      "metadata": {
        "id": "jiSLD4t5xQAA",
        "colab": {
          "base_uri": "https://localhost:8080/"
        },
        "outputId": "cae37737-6885-4464-f2b0-edeeceb5497d"
      },
      "execution_count": 16,
      "outputs": [
        {
          "output_type": "stream",
          "name": "stdout",
          "text": [
            "[(6.4, 2.7, 5.3, 1.9, b'Iris-virginica')\n",
            " (5.8, 2.7, 5.1, 1.9, b'Iris-virginica')\n",
            " (6.8, 3. , 5.5, 2.1, b'Iris-virginica')\n",
            " (7.1, 3. , 5.9, 2.1, b'Iris-virginica')\n",
            " (6.4, 2.8, 5.6, 2.2, b'Iris-virginica')\n",
            " (7.7, 3.8, 6.7, 2.2, b'Iris-virginica')\n",
            " (7.2, 3. , 5.8, 1.6, b'Iris-virginica')\n",
            " (5.8, 2.8, 5.1, 2.4, b'Iris-virginica')\n",
            " (6.3, 2.5, 5. , 1.9, b'Iris-virginica')\n",
            " (6.7, 3.3, 5.7, 2.1, b'Iris-virginica')\n",
            " (6.9, 3.2, 5.7, 2.3, b'Iris-virginica')\n",
            " (7.7, 2.6, 6.9, 2.3, b'Iris-virginica')\n",
            " (6.9, 3.1, 5.1, 2.3, b'Iris-virginica')\n",
            " (6.7, 3.3, 5.7, 2.5, b'Iris-virginica')\n",
            " (7.2, 3.6, 6.1, 2.5, b'Iris-virginica')\n",
            " (6.4, 3.1, 5.5, 1.8, b'Iris-virginica')\n",
            " (6.7, 3.1, 5.6, 2.4, b'Iris-virginica')\n",
            " (6.9, 3.1, 5.4, 2.1, b'Iris-virginica')\n",
            " (6. , 2.7, 5.1, 1.6, b'Iris-versicolor')\n",
            " (6.8, 3.2, 5.9, 2.3, b'Iris-virginica')\n",
            " (7.9, 3.8, 6.4, 2. , b'Iris-virginica')\n",
            " (6.5, 3. , 5.5, 1.8, b'Iris-virginica')\n",
            " (7.6, 3. , 6.6, 2.1, b'Iris-virginica')\n",
            " (6.3, 2.8, 5.1, 1.5, b'Iris-virginica')\n",
            " (6.7, 2.5, 5.8, 1.8, b'Iris-virginica')\n",
            " (6.4, 2.8, 5.6, 2.1, b'Iris-virginica')\n",
            " (7.4, 2.8, 6.1, 1.9, b'Iris-virginica')\n",
            " (6.3, 2.9, 5.6, 1.8, b'Iris-virginica')\n",
            " (6.5, 3. , 5.8, 2.2, b'Iris-virginica')\n",
            " (5.8, 2.7, 5.1, 1.9, b'Iris-virginica')\n",
            " (6.5, 3.2, 5.1, 2. , b'Iris-virginica')\n",
            " (6.5, 3. , 5.2, 2. , b'Iris-virginica')\n",
            " (5.9, 3. , 5.1, 1.8, b'Iris-virginica')\n",
            " (6.1, 2.6, 5.6, 1.4, b'Iris-virginica')\n",
            " (6. , 2.2, 5. , 1.5, b'Iris-virginica')\n",
            " (6.2, 3.4, 5.4, 2.3, b'Iris-virginica')\n",
            " (6.7, 3. , 5. , 1.7, b'Iris-versicolor')\n",
            " (7.7, 3. , 6.1, 2.3, b'Iris-virginica')\n",
            " (6.3, 3.4, 5.6, 2.4, b'Iris-virginica')\n",
            " (7.7, 2.8, 6.7, 2. , b'Iris-virginica')\n",
            " (7.3, 2.9, 6.3, 1.8, b'Iris-virginica')\n",
            " (6.3, 3.3, 6. , 2.5, b'Iris-virginica')\n",
            " (6.4, 3.2, 5.3, 2.3, b'Iris-virginica')\n",
            " (6.7, 3. , 5.2, 2.3, b'Iris-virginica')\n",
            " (5.7, 2.5, 5. , 2. , b'Iris-virginica')\n",
            " (7.2, 3.2, 6. , 1.8, b'Iris-virginica')]\n"
          ]
        }
      ]
    },
    {
      "cell_type": "markdown",
      "source": [
        "##1.4"
      ],
      "metadata": {
        "id": "1iVtmorcxpEH"
      }
    },
    {
      "cell_type": "markdown",
      "source": [
        "###1.4.1 0부터 1까지의 랜덤 숫자 100개로 이루어진 array를 하나 만들고 array의 평균, 분산, 표준편차, 중앙값을 출력하시오."
      ],
      "metadata": {
        "id": "LqPCfC2Uxqh8"
      }
    },
    {
      "cell_type": "code",
      "source": [
        "array_random =np.random.rand(100)\n",
        "print(np.mean(array_random))\n",
        "print(np.var(array_random))\n",
        "print(np.std(array_random))\n",
        "print(np.median(array_random))"
      ],
      "metadata": {
        "id": "zDZPHcKcyYWa",
        "colab": {
          "base_uri": "https://localhost:8080/"
        },
        "outputId": "960a220f-3211-4246-fcc3-ab75e784d068"
      },
      "execution_count": 17,
      "outputs": [
        {
          "output_type": "stream",
          "name": "stdout",
          "text": [
            "0.4590816835851307\n",
            "0.07448607746258942\n",
            "0.27292137597225585\n",
            "0.46414974983888374\n"
          ]
        }
      ]
    },
    {
      "cell_type": "markdown",
      "source": [
        "###1.4.2 iris_2d 데이터의 첫 번째 열과 3번째 열의 값들 간의 상관계수를 출력하시오. (iris_2d 변수의 내용을 수정하지 마시오.)"
      ],
      "metadata": {
        "id": "tm7n2QVUymf5"
      }
    },
    {
      "cell_type": "code",
      "source": [
        "# 해당 셀을 실행만 하되 수정하지 마세요.\n",
        "url = 'https://archive.ics.uci.edu/ml/machine-learning-databases/iris/iris.data'\n",
        "iris_2d = np.genfromtxt(url, delimiter=',', dtype='float', usecols=[0,1,2,3])"
      ],
      "metadata": {
        "id": "CUAuDxZjyoDD"
      },
      "execution_count": 18,
      "outputs": []
    },
    {
      "cell_type": "code",
      "source": [
        "np.corrcoef(iris_2d[0],iris_2d[2])"
      ],
      "metadata": {
        "id": "pwxg8JYGudF7",
        "colab": {
          "base_uri": "https://localhost:8080/"
        },
        "outputId": "52e1a03e-3604-4138-f9dd-2658132166fb"
      },
      "execution_count": 19,
      "outputs": [
        {
          "output_type": "execute_result",
          "data": {
            "text/plain": [
              "array([[1.        , 0.99997391],\n",
              "       [0.99997391, 1.        ]])"
            ]
          },
          "metadata": {},
          "execution_count": 19
        }
      ]
    },
    {
      "cell_type": "markdown",
      "source": [
        "###1.4.3 0부터 10까지의 랜덤한 정수 100개로 이루어진 array를 하나 만들고 가장 빈도수가 많은 숫자를 출력하시오. (만약 빈도수가 같은 숫자가 있다면 모두 출력하시오.)"
      ],
      "metadata": {
        "id": "6LmSick9u1lZ"
      }
    },
    {
      "cell_type": "code",
      "source": [
        "r1_arr = np.random.randint(0,11,size=100)\n",
        "mode_r1_arr = statistics.mode(r1_arr)\n",
        "print(mode_r1_arr)"
      ],
      "metadata": {
        "id": "AIgdPattvkE5",
        "colab": {
          "base_uri": "https://localhost:8080/"
        },
        "outputId": "22167a06-4b5a-465b-ec5e-9a8db1560be4"
      },
      "execution_count": 20,
      "outputs": [
        {
          "output_type": "stream",
          "name": "stdout",
          "text": [
            "10\n"
          ]
        }
      ]
    },
    {
      "cell_type": "markdown",
      "source": [
        "### 1.4.4 numpy의 내장 함수를 이용해 현재 시간을 출력하시오. (출력 형식은 자유이고 연,월,일,시,분,초를 모두 출력해야함)"
      ],
      "metadata": {
        "id": "0ZK6nBvhvkbe"
      }
    },
    {
      "cell_type": "code",
      "source": [
        "from datetime import datetime\n",
        "import pytz\n",
        "timezone = pytz.timezone('Asia/Seoul')\n",
        "current_time = datetime.now(timezone)\n",
        "print('현재 시간:', current_time.strftime('%Y-%m-%d %H:%M:%S'))"
      ],
      "metadata": {
        "id": "z2lFpGmCwCxo",
        "colab": {
          "base_uri": "https://localhost:8080/"
        },
        "outputId": "7f247749-8582-485c-fc31-6dc86247806b"
      },
      "execution_count": null,
      "outputs": [
        {
          "output_type": "stream",
          "name": "stdout",
          "text": [
            "현재 시간: 2024-09-24 17:45:56\n"
          ]
        }
      ]
    },
    {
      "cell_type": "markdown",
      "source": [
        "### 1.4.5 numpy의 내장 함수를 이용해 2024년 9월 1일부터 2024년 9월 20일까지의 날짜들 중 홀수일로만 이루어진 array를 하나 만들고 출력하시오."
      ],
      "metadata": {
        "id": "SXD38EHVwDDJ"
      }
    },
    {
      "cell_type": "code",
      "source": [
        "# 예시 - 2018년 2월 1일부터 2018년 2월 23일까지\n",
        "\n",
        "# ['2018-02-01' '2018-02-03' '2018-02-05' '2018-02-07' '2018-02-09'\n",
        "#  '2018-02-11' '2018-02-13' '2018-02-15' '2018-02-17' '2018-02-19'\n",
        "#  '2018-02-21' '2018-02-23']"
      ],
      "metadata": {
        "id": "Y5vn4z2HwViT"
      },
      "execution_count": null,
      "outputs": []
    },
    {
      "cell_type": "code",
      "source": [
        "array_odd = np.arange('2024-09-01', '2024-09-21', dtype='datetime64[D]')\n",
        "array_odd = array_odd[array_odd % 2 == 1]\n",
        "print(array_odd)"
      ],
      "metadata": {
        "id": "cHiWgcN_wnfE",
        "colab": {
          "base_uri": "https://localhost:8080/",
          "height": 184
        },
        "outputId": "d2e79bf6-e8e0-4c52-e9e5-f5b03f007a5d"
      },
      "execution_count": 51,
      "outputs": [
        {
          "output_type": "error",
          "ename": "UFuncTypeError",
          "evalue": "ufunc 'remainder' cannot use operands with types dtype('<M8[D]') and dtype('int64')",
          "traceback": [
            "\u001b[0;31m---------------------------------------------------------------------------\u001b[0m",
            "\u001b[0;31mUFuncTypeError\u001b[0m                            Traceback (most recent call last)",
            "\u001b[0;32m<ipython-input-51-2225ed116cf4>\u001b[0m in \u001b[0;36m<cell line: 2>\u001b[0;34m()\u001b[0m\n\u001b[1;32m      1\u001b[0m \u001b[0marray_odd\u001b[0m \u001b[0;34m=\u001b[0m \u001b[0mnp\u001b[0m\u001b[0;34m.\u001b[0m\u001b[0marange\u001b[0m\u001b[0;34m(\u001b[0m\u001b[0;34m'2024-09-01'\u001b[0m\u001b[0;34m,\u001b[0m \u001b[0;34m'2024-09-21'\u001b[0m\u001b[0;34m,\u001b[0m \u001b[0mdtype\u001b[0m\u001b[0;34m=\u001b[0m\u001b[0;34m'datetime64[D]'\u001b[0m\u001b[0;34m)\u001b[0m\u001b[0;34m\u001b[0m\u001b[0;34m\u001b[0m\u001b[0m\n\u001b[0;32m----> 2\u001b[0;31m \u001b[0marray_odd\u001b[0m \u001b[0;34m=\u001b[0m \u001b[0marray_odd\u001b[0m\u001b[0;34m[\u001b[0m\u001b[0marray_odd\u001b[0m \u001b[0;34m%\u001b[0m \u001b[0;36m2\u001b[0m \u001b[0;34m==\u001b[0m \u001b[0;36m1\u001b[0m\u001b[0;34m]\u001b[0m\u001b[0;34m\u001b[0m\u001b[0;34m\u001b[0m\u001b[0m\n\u001b[0m\u001b[1;32m      3\u001b[0m \u001b[0mprint\u001b[0m\u001b[0;34m(\u001b[0m\u001b[0marray_odd\u001b[0m\u001b[0;34m)\u001b[0m\u001b[0;34m\u001b[0m\u001b[0;34m\u001b[0m\u001b[0m\n",
            "\u001b[0;31mUFuncTypeError\u001b[0m: ufunc 'remainder' cannot use operands with types dtype('<M8[D]') and dtype('int64')"
          ]
        }
      ]
    },
    {
      "cell_type": "markdown",
      "source": [
        "# 2. Pandas"
      ],
      "metadata": {
        "id": "DmCz1Xk5wsdR"
      }
    },
    {
      "cell_type": "markdown",
      "source": [
        "## 2.1 Pandas 알아보기"
      ],
      "metadata": {
        "id": "qneBbHkYw6mu"
      }
    },
    {
      "cell_type": "markdown",
      "source": [
        "### 2.1.1 Pandas에 대한 간단한 설명을 적어주세요."
      ],
      "metadata": {
        "id": "6tLKPpAQw-NK"
      }
    },
    {
      "cell_type": "markdown",
      "source": [
        "데이터의 전처리나 분석 단계에서 유용하게 사용할 수 있는 도구를 갖고 있는 라이브러리"
      ],
      "metadata": {
        "id": "d5mbaeBqxAzo"
      }
    },
    {
      "cell_type": "markdown",
      "source": [
        "### 2.1.2 본인의 Pandas version을 출력해주세요."
      ],
      "metadata": {
        "id": "tkMRj-gZxMPE"
      }
    },
    {
      "cell_type": "code",
      "source": [
        "pd.__version__"
      ],
      "metadata": {
        "colab": {
          "base_uri": "https://localhost:8080/",
          "height": 35
        },
        "id": "zrZonimVh6KN",
        "outputId": "8c35b815-2f7d-4d9a-8d1c-c1778ec15d0e"
      },
      "execution_count": 23,
      "outputs": [
        {
          "output_type": "execute_result",
          "data": {
            "text/plain": [
              "'2.1.4'"
            ],
            "application/vnd.google.colaboratory.intrinsic+json": {
              "type": "string"
            }
          },
          "metadata": {},
          "execution_count": 23
        }
      ]
    },
    {
      "cell_type": "markdown",
      "source": [
        "## 2.2 pandas 자료구조"
      ],
      "metadata": {
        "id": "wCxBkq_7xTeY"
      }
    },
    {
      "cell_type": "markdown",
      "source": [
        "### 2.2.1 pandas의 series와 numpy array의 차이점을 쓰시오."
      ],
      "metadata": {
        "id": "pXpq3hRxf-zE"
      }
    },
    {
      "cell_type": "markdown",
      "source": [
        "pandas의 series를 생성하면 자동으로 label이 붙는다 numpy array는 아님\n",
        "\n",
        "numpy는 주로 다차원 배월을 제공, 동일한 데이터 타입을 가진 요소들로 구성되는데 series는 각 열이 다른 데이터 타입을 가질 수 있다"
      ],
      "metadata": {
        "id": "77kTWPfpgOd8"
      }
    },
    {
      "cell_type": "markdown",
      "source": [
        "### 2.2.2  알파벳  a-z로 이루어진 series를 하나 만들고 출력하시오."
      ],
      "metadata": {
        "id": "avbVMmFwxWIL"
      }
    },
    {
      "cell_type": "code",
      "source": [
        "series = pd.Series(list('abcdefghijklmnopqrstuvwxyz'))\n",
        "print(series)"
      ],
      "metadata": {
        "id": "B-0d-YLexXvx",
        "colab": {
          "base_uri": "https://localhost:8080/"
        },
        "outputId": "39479917-23cc-4c06-b00b-c001465a5af8"
      },
      "execution_count": 24,
      "outputs": [
        {
          "output_type": "stream",
          "name": "stdout",
          "text": [
            "0     a\n",
            "1     b\n",
            "2     c\n",
            "3     d\n",
            "4     e\n",
            "5     f\n",
            "6     g\n",
            "7     h\n",
            "8     i\n",
            "9     j\n",
            "10    k\n",
            "11    l\n",
            "12    m\n",
            "13    n\n",
            "14    o\n",
            "15    p\n",
            "16    q\n",
            "17    r\n",
            "18    s\n",
            "19    t\n",
            "20    u\n",
            "21    v\n",
            "22    w\n",
            "23    x\n",
            "24    y\n",
            "25    z\n",
            "dtype: object\n"
          ]
        }
      ]
    },
    {
      "cell_type": "markdown",
      "source": [
        "### 2.2.3 list1 = [2,4,6,8,10], list2 = [3,6,9,12]일 때 각 리스트를 series1, series2로 바꾼 뒤 series1과 series2를 출력하시오."
      ],
      "metadata": {
        "id": "HRPyX-lNeUV2"
      }
    },
    {
      "cell_type": "code",
      "source": [
        "series1 = pd.Series([2,4,6,8,10])\n",
        "series2 = pd.Series([3,6,9,12])\n",
        "print(series1)\n",
        "print(series2)"
      ],
      "metadata": {
        "id": "qU3gFS6je4Jn",
        "colab": {
          "base_uri": "https://localhost:8080/"
        },
        "outputId": "6f971264-a95d-40b0-8539-6f0013dd3f60"
      },
      "execution_count": 25,
      "outputs": [
        {
          "output_type": "stream",
          "name": "stdout",
          "text": [
            "0     2\n",
            "1     4\n",
            "2     6\n",
            "3     8\n",
            "4    10\n",
            "dtype: int64\n",
            "0     3\n",
            "1     6\n",
            "2     9\n",
            "3    12\n",
            "dtype: int64\n"
          ]
        }
      ]
    },
    {
      "cell_type": "markdown",
      "source": [
        "### 2.2.4 1부터 5까지의 정수로 이루어진 series와 6부터 10까지의 정수로 이루어진 series를 만들어 각각을 열(column)로 가지는 dataframe을 만들고 출력하시오. (2개의 열을 가지는 dataframe 출력)"
      ],
      "metadata": {
        "id": "tpuTwDSLfKw1"
      }
    },
    {
      "cell_type": "code",
      "source": [
        "# 예시\n",
        "#   0 1\n",
        "# 0 1 6\n",
        "# 1 2 7\n",
        "# 2 3 8\n",
        "# 3 4 9\n",
        "# 4 5 10"
      ],
      "metadata": {
        "id": "w-iXG2bafyBP"
      },
      "execution_count": null,
      "outputs": []
    },
    {
      "cell_type": "code",
      "source": [
        "seres11 = pd.Series([1,2,3,4,5])\n",
        "sere22 = pd.Series([6,7,8,9,10])\n",
        "\n",
        "df = pd.DataFrame({'0':seres11,'1':sere22})\n",
        "print(df)"
      ],
      "metadata": {
        "id": "OsaoR9rVhYsT",
        "colab": {
          "base_uri": "https://localhost:8080/"
        },
        "outputId": "787f7278-9623-4756-e9b9-41c277dcd8b6"
      },
      "execution_count": 32,
      "outputs": [
        {
          "output_type": "stream",
          "name": "stdout",
          "text": [
            "   0   1\n",
            "0  1   6\n",
            "1  2   7\n",
            "2  3   8\n",
            "3  4   9\n",
            "4  5  10\n"
          ]
        }
      ]
    },
    {
      "cell_type": "markdown",
      "source": [
        "\n",
        "### 2.2.5 1-3 정수, 4-6 정수, 7-9 정수, 10-12 정수로 이루어진 series를 만들어 각각을 행(row)으로 가지는 dataframe을 만들고 출력하시오. (4개의 행을 가지는 dataframe 출력)"
      ],
      "metadata": {
        "id": "R4dMpq7OgSq-"
      }
    },
    {
      "cell_type": "code",
      "source": [
        "# 예시\n",
        "#    0  1  2\n",
        "# 0  1  2  3\n",
        "# 1  4  5  6\n",
        "# 2  7  8  9\n",
        "# 3 10 11 12"
      ],
      "metadata": {
        "id": "jpUuHIL9g9Mk"
      },
      "execution_count": null,
      "outputs": []
    },
    {
      "cell_type": "code",
      "source": [
        "seres33 = pd.Series([1,2,3])\n",
        "sere44 = pd.Series([4,5,6])\n",
        "sere55 = pd.Series([7,8,9])\n",
        "sere66 = pd.Series([10,11,12])\n",
        "\n",
        "df1 = pd.DataFrame([seres33,sere44,sere55,sere66])\n",
        "print(df1)"
      ],
      "metadata": {
        "id": "70j2xBz6hpTC",
        "colab": {
          "base_uri": "https://localhost:8080/"
        },
        "outputId": "447c4d4a-2adb-4f4a-d61a-20c0fe74b2ed"
      },
      "execution_count": 35,
      "outputs": [
        {
          "output_type": "stream",
          "name": "stdout",
          "text": [
            "    0   1   2\n",
            "0   1   2   3\n",
            "1   4   5   6\n",
            "2   7   8   9\n",
            "3  10  11  12\n"
          ]
        }
      ]
    },
    {
      "cell_type": "markdown",
      "source": [
        "### 2.2.6 2.2.5에서 만든 dataframe의 index를 ['one','two','three','four']으로 바꾸고 출력하시오."
      ],
      "metadata": {
        "id": "kaz1giaAhpvq"
      }
    },
    {
      "cell_type": "code",
      "source": [
        "df1 = df1.rename(index={0:'one',1:'two',2:'three',3:'four'})\n",
        "print(df1)"
      ],
      "metadata": {
        "id": "cL83fe5Mh9AA",
        "colab": {
          "base_uri": "https://localhost:8080/"
        },
        "outputId": "bcca2c37-388f-47b8-8eb3-52fa194975f9"
      },
      "execution_count": 36,
      "outputs": [
        {
          "output_type": "stream",
          "name": "stdout",
          "text": [
            "        0   1   2\n",
            "one     1   2   3\n",
            "two     4   5   6\n",
            "three   7   8   9\n",
            "four   10  11  12\n"
          ]
        }
      ]
    },
    {
      "cell_type": "markdown",
      "source": [
        "### 2.2.7\n",
        "*  [1, 2, 3, 4, 5, 6, 7, 8, 9, 10]\n",
        "*  [10, 9, 8, 7, 6, 5, 4, 3, 2, 1]\n",
        "\n",
        "위 두 리스트를 series로 변환하고 ***원소별로 더한 값을 새로운 series로 만들어*** 출력하시오. (진한 글씨로 나타낸 부분은 한 줄로 작성)\n",
        "\n"
      ],
      "metadata": {
        "id": "G9nM6mQ8h9T3"
      }
    },
    {
      "cell_type": "code",
      "source": [
        "# 실행하지 마시오.\n",
        "s1 = [1,2,3]\n",
        "s2 = [3,2,1]"
      ],
      "metadata": {
        "id": "w4wWWipmiPVq"
      },
      "execution_count": null,
      "outputs": []
    },
    {
      "cell_type": "code",
      "source": [
        "series111 = pd.Series([1,2,3,4,5,6,7,8,9,10])\n",
        "series222 = pd.Series([10,9,8,7,6,5,4,3,2,1])\n",
        "series333 = series111 + series222\n",
        "print(series333)"
      ],
      "metadata": {
        "id": "cXW9DzbljgPQ",
        "colab": {
          "base_uri": "https://localhost:8080/"
        },
        "outputId": "be89864a-4a17-4ca0-8847-6b6270ca233c"
      },
      "execution_count": 37,
      "outputs": [
        {
          "output_type": "stream",
          "name": "stdout",
          "text": [
            "0    11\n",
            "1    11\n",
            "2    11\n",
            "3    11\n",
            "4    11\n",
            "5    11\n",
            "6    11\n",
            "7    11\n",
            "8    11\n",
            "9    11\n",
            "dtype: int64\n"
          ]
        }
      ]
    },
    {
      "cell_type": "markdown",
      "source": [
        "### 2.2.8 numpy의 함수를 이용하여 아래와 같은 출력을 만드시오."
      ],
      "metadata": {
        "id": "VJHFNzuliwXy"
      }
    },
    {
      "cell_type": "code",
      "source": [
        "# 예시\n",
        "# 2000-01-01     1.0\n",
        "# 2000-01-03    10.0\n",
        "# 2000-01-05     3.0\n",
        "# 2000-01-07     NaN"
      ],
      "metadata": {
        "id": "tjzgOTrljrUb"
      },
      "execution_count": null,
      "outputs": []
    },
    {
      "cell_type": "code",
      "source": [
        "data1 = np.array([['2000-01-01', '1.0'],['2000-01-03', '10.0'],['2000-01-05', '3.0'],['2000-01-07','NaN']])\n",
        "print(data1)"
      ],
      "metadata": {
        "id": "FJLTh-tkkKSd",
        "colab": {
          "base_uri": "https://localhost:8080/"
        },
        "outputId": "611550fb-73bc-47a1-c7b3-122c71d31f9e"
      },
      "execution_count": 42,
      "outputs": [
        {
          "output_type": "stream",
          "name": "stdout",
          "text": [
            "[['2000-01-01' '1.0']\n",
            " ['2000-01-03' '10.0']\n",
            " ['2000-01-05' '3.0']\n",
            " ['2000-01-07' 'NaN']]\n"
          ]
        }
      ]
    },
    {
      "cell_type": "markdown",
      "source": [
        "## 2.3"
      ],
      "metadata": {
        "id": "bPe0FrnYk3l5"
      }
    },
    {
      "cell_type": "markdown",
      "source": [
        "### 2.3.1 아래 path에 해당하는 경로의 csv 파일을 읽고 그 내용을 cars93 이라는 변수로 저장한 뒤 출력하시오."
      ],
      "metadata": {
        "id": "NUGmuVVBkKp-"
      }
    },
    {
      "cell_type": "markdown",
      "source": [
        "**cars93 변수의 내용을 변경하지 마시오.**"
      ],
      "metadata": {
        "id": "rXAdW_aSlpCU"
      }
    },
    {
      "cell_type": "code",
      "source": [
        "# 해당 셀을 실행하되 수정하지 마세요.\n",
        "path = 'https://raw.githubusercontent.com/selva86/datasets/master/Cars93_miss.csv'"
      ],
      "metadata": {
        "id": "-Qdi-VHgkVfQ"
      },
      "execution_count": 43,
      "outputs": []
    },
    {
      "cell_type": "code",
      "source": [
        "cars93 = pd.read_csv(path)\n",
        "print(cars93)"
      ],
      "metadata": {
        "id": "JSofka2vky26",
        "colab": {
          "base_uri": "https://localhost:8080/"
        },
        "outputId": "c000b6da-3055-4fb9-8092-627c32d6248f"
      },
      "execution_count": 44,
      "outputs": [
        {
          "output_type": "stream",
          "name": "stdout",
          "text": [
            "   Manufacturer    Model     Type  Min.Price  Price  Max.Price  MPG.city  \\\n",
            "0         Acura  Integra    Small       12.9   15.9       18.8      25.0   \n",
            "1           NaN   Legend  Midsize       29.2   33.9       38.7      18.0   \n",
            "2          Audi       90  Compact       25.9   29.1       32.3      20.0   \n",
            "3          Audi      100  Midsize        NaN   37.7       44.6      19.0   \n",
            "4           BMW     535i  Midsize        NaN   30.0        NaN      22.0   \n",
            "..          ...      ...      ...        ...    ...        ...       ...   \n",
            "88   Volkswagen  Eurovan      Van       16.6   19.7       22.7      17.0   \n",
            "89   Volkswagen   Passat  Compact       17.6   20.0       22.4      21.0   \n",
            "90   Volkswagen  Corrado   Sporty       22.9   23.3       23.7      18.0   \n",
            "91        Volvo      240  Compact       21.8   22.7       23.5      21.0   \n",
            "92          NaN      850  Midsize       24.8   26.7       28.5      20.0   \n",
            "\n",
            "    MPG.highway             AirBags DriveTrain  ... Passengers  Length  \\\n",
            "0          31.0                 NaN      Front  ...        5.0   177.0   \n",
            "1          25.0  Driver & Passenger      Front  ...        5.0   195.0   \n",
            "2          26.0         Driver only      Front  ...        5.0   180.0   \n",
            "3          26.0  Driver & Passenger        NaN  ...        6.0   193.0   \n",
            "4          30.0                 NaN       Rear  ...        4.0   186.0   \n",
            "..          ...                 ...        ...  ...        ...     ...   \n",
            "88         21.0                 NaN      Front  ...        7.0   187.0   \n",
            "89         30.0                 NaN      Front  ...        5.0   180.0   \n",
            "90         25.0                 NaN      Front  ...        4.0   159.0   \n",
            "91         28.0         Driver only       Rear  ...        5.0   190.0   \n",
            "92         28.0  Driver & Passenger      Front  ...        5.0   184.0   \n",
            "\n",
            "    Wheelbase  Width  Turn.circle Rear.seat.room  Luggage.room  Weight  \\\n",
            "0       102.0   68.0         37.0           26.5           NaN  2705.0   \n",
            "1       115.0   71.0         38.0           30.0          15.0  3560.0   \n",
            "2       102.0   67.0         37.0           28.0          14.0  3375.0   \n",
            "3       106.0    NaN         37.0           31.0          17.0  3405.0   \n",
            "4       109.0   69.0         39.0           27.0          13.0  3640.0   \n",
            "..        ...    ...          ...            ...           ...     ...   \n",
            "88      115.0   72.0         38.0           34.0           NaN  3960.0   \n",
            "89      103.0   67.0         35.0           31.5          14.0  2985.0   \n",
            "90       97.0   66.0         36.0           26.0          15.0  2810.0   \n",
            "91      104.0   67.0         37.0           29.5          14.0  2985.0   \n",
            "92      105.0   69.0         38.0           30.0          15.0  3245.0   \n",
            "\n",
            "     Origin                Make  \n",
            "0   non-USA       Acura Integra  \n",
            "1   non-USA        Acura Legend  \n",
            "2   non-USA             Audi 90  \n",
            "3   non-USA            Audi 100  \n",
            "4   non-USA            BMW 535i  \n",
            "..      ...                 ...  \n",
            "88      NaN  Volkswagen Eurovan  \n",
            "89  non-USA   Volkswagen Passat  \n",
            "90  non-USA  Volkswagen Corrado  \n",
            "91  non-USA           Volvo 240  \n",
            "92  non-USA           Volvo 850  \n",
            "\n",
            "[93 rows x 27 columns]\n"
          ]
        }
      ]
    },
    {
      "cell_type": "markdown",
      "source": [
        "### 2.3.2 위에서 cars93 데이터의 요약을 출력하시오."
      ],
      "metadata": {
        "id": "164qXzTnk1qn"
      }
    },
    {
      "cell_type": "code",
      "source": [
        "cars93.info()"
      ],
      "metadata": {
        "id": "NVCdRdHulDkx",
        "colab": {
          "base_uri": "https://localhost:8080/"
        },
        "outputId": "21fada48-ccb4-4c3d-d481-60008cf1b3a5"
      },
      "execution_count": 45,
      "outputs": [
        {
          "output_type": "stream",
          "name": "stdout",
          "text": [
            "<class 'pandas.core.frame.DataFrame'>\n",
            "RangeIndex: 93 entries, 0 to 92\n",
            "Data columns (total 27 columns):\n",
            " #   Column              Non-Null Count  Dtype  \n",
            "---  ------              --------------  -----  \n",
            " 0   Manufacturer        89 non-null     object \n",
            " 1   Model               92 non-null     object \n",
            " 2   Type                90 non-null     object \n",
            " 3   Min.Price           86 non-null     float64\n",
            " 4   Price               91 non-null     float64\n",
            " 5   Max.Price           88 non-null     float64\n",
            " 6   MPG.city            84 non-null     float64\n",
            " 7   MPG.highway         91 non-null     float64\n",
            " 8   AirBags             55 non-null     object \n",
            " 9   DriveTrain          86 non-null     object \n",
            " 10  Cylinders           88 non-null     object \n",
            " 11  EngineSize          91 non-null     float64\n",
            " 12  Horsepower          86 non-null     float64\n",
            " 13  RPM                 90 non-null     float64\n",
            " 14  Rev.per.mile        87 non-null     float64\n",
            " 15  Man.trans.avail     88 non-null     object \n",
            " 16  Fuel.tank.capacity  85 non-null     float64\n",
            " 17  Passengers          91 non-null     float64\n",
            " 18  Length              89 non-null     float64\n",
            " 19  Wheelbase           92 non-null     float64\n",
            " 20  Width               87 non-null     float64\n",
            " 21  Turn.circle         88 non-null     float64\n",
            " 22  Rear.seat.room      89 non-null     float64\n",
            " 23  Luggage.room        74 non-null     float64\n",
            " 24  Weight              86 non-null     float64\n",
            " 25  Origin              88 non-null     object \n",
            " 26  Make                90 non-null     object \n",
            "dtypes: float64(18), object(9)\n",
            "memory usage: 19.7+ KB\n"
          ]
        }
      ]
    },
    {
      "cell_type": "markdown",
      "source": [
        "### 2.3.3 cars93에서 price가 가장 높은 제품의 manufacturer을 출력하시오."
      ],
      "metadata": {
        "id": "HAr9zWIUlD9U"
      }
    },
    {
      "cell_type": "code",
      "source": [
        "print(cars93[cars93['Price'] == cars93['Price'].max()]['Manufacturer'])"
      ],
      "metadata": {
        "id": "NZzvFXUhmCrK",
        "colab": {
          "base_uri": "https://localhost:8080/"
        },
        "outputId": "402f8a02-23ba-4c1f-f223-ab365444a310"
      },
      "execution_count": 47,
      "outputs": [
        {
          "output_type": "stream",
          "name": "stdout",
          "text": [
            "58    Mercedes-Benz\n",
            "Name: Manufacturer, dtype: object\n"
          ]
        }
      ]
    },
    {
      "cell_type": "markdown",
      "source": [
        "### 2.3.4 cars93에서 'Type'열의 이름을 'CarType'으로 바꾸고 Renamed라는 이름의 변수에 저장한 뒤 출력하시오."
      ],
      "metadata": {
        "id": "BvLtRyUymCX0"
      }
    },
    {
      "cell_type": "code",
      "source": [
        "Renamed = cars93.rename(columns={'Type':'CarType'})\n",
        "print(Renamed)"
      ],
      "metadata": {
        "id": "GjnChGMQmfk8",
        "colab": {
          "base_uri": "https://localhost:8080/"
        },
        "outputId": "f1368533-2fd1-4021-b50a-f1088fa70359"
      },
      "execution_count": 50,
      "outputs": [
        {
          "output_type": "stream",
          "name": "stdout",
          "text": [
            "   Manufacturer    Model  CarType  Min.Price  Price  Max.Price  MPG.city  \\\n",
            "0         Acura  Integra    Small       12.9   15.9       18.8      25.0   \n",
            "1           NaN   Legend  Midsize       29.2   33.9       38.7      18.0   \n",
            "2          Audi       90  Compact       25.9   29.1       32.3      20.0   \n",
            "3          Audi      100  Midsize        NaN   37.7       44.6      19.0   \n",
            "4           BMW     535i  Midsize        NaN   30.0        NaN      22.0   \n",
            "..          ...      ...      ...        ...    ...        ...       ...   \n",
            "88   Volkswagen  Eurovan      Van       16.6   19.7       22.7      17.0   \n",
            "89   Volkswagen   Passat  Compact       17.6   20.0       22.4      21.0   \n",
            "90   Volkswagen  Corrado   Sporty       22.9   23.3       23.7      18.0   \n",
            "91        Volvo      240  Compact       21.8   22.7       23.5      21.0   \n",
            "92          NaN      850  Midsize       24.8   26.7       28.5      20.0   \n",
            "\n",
            "    MPG.highway             AirBags DriveTrain  ... Passengers  Length  \\\n",
            "0          31.0                 NaN      Front  ...        5.0   177.0   \n",
            "1          25.0  Driver & Passenger      Front  ...        5.0   195.0   \n",
            "2          26.0         Driver only      Front  ...        5.0   180.0   \n",
            "3          26.0  Driver & Passenger        NaN  ...        6.0   193.0   \n",
            "4          30.0                 NaN       Rear  ...        4.0   186.0   \n",
            "..          ...                 ...        ...  ...        ...     ...   \n",
            "88         21.0                 NaN      Front  ...        7.0   187.0   \n",
            "89         30.0                 NaN      Front  ...        5.0   180.0   \n",
            "90         25.0                 NaN      Front  ...        4.0   159.0   \n",
            "91         28.0         Driver only       Rear  ...        5.0   190.0   \n",
            "92         28.0  Driver & Passenger      Front  ...        5.0   184.0   \n",
            "\n",
            "    Wheelbase  Width  Turn.circle Rear.seat.room  Luggage.room  Weight  \\\n",
            "0       102.0   68.0         37.0           26.5           NaN  2705.0   \n",
            "1       115.0   71.0         38.0           30.0          15.0  3560.0   \n",
            "2       102.0   67.0         37.0           28.0          14.0  3375.0   \n",
            "3       106.0    NaN         37.0           31.0          17.0  3405.0   \n",
            "4       109.0   69.0         39.0           27.0          13.0  3640.0   \n",
            "..        ...    ...          ...            ...           ...     ...   \n",
            "88      115.0   72.0         38.0           34.0           NaN  3960.0   \n",
            "89      103.0   67.0         35.0           31.5          14.0  2985.0   \n",
            "90       97.0   66.0         36.0           26.0          15.0  2810.0   \n",
            "91      104.0   67.0         37.0           29.5          14.0  2985.0   \n",
            "92      105.0   69.0         38.0           30.0          15.0  3245.0   \n",
            "\n",
            "     Origin                Make  \n",
            "0   non-USA       Acura Integra  \n",
            "1   non-USA        Acura Legend  \n",
            "2   non-USA             Audi 90  \n",
            "3   non-USA            Audi 100  \n",
            "4   non-USA            BMW 535i  \n",
            "..      ...                 ...  \n",
            "88      NaN  Volkswagen Eurovan  \n",
            "89  non-USA   Volkswagen Passat  \n",
            "90  non-USA  Volkswagen Corrado  \n",
            "91  non-USA           Volvo 240  \n",
            "92  non-USA           Volvo 850  \n",
            "\n",
            "[93 rows x 27 columns]\n"
          ]
        }
      ]
    },
    {
      "cell_type": "markdown",
      "source": [
        "### 2.3.5 Renamed의 모든 열의 내용중 '.'을 '_'으로 바꾼뒤 Renamed를 출력하시오. (반복문 외의 다른 방법을 사용하시오)\n",
        "\n",
        "**예시**\n",
        "\n",
        "* Min.Price -> Min_Price\n",
        "* MPG.city -> MPG_city"
      ],
      "metadata": {
        "id": "26wKgIIamgBf"
      }
    },
    {
      "cell_type": "code",
      "source": [
        "Renamed = cars93.rename(columns={'.':'_'})\n",
        "print(Renamed)"
      ],
      "metadata": {
        "id": "enP9rsgSnWt8",
        "colab": {
          "base_uri": "https://localhost:8080/"
        },
        "outputId": "61aa41b7-8f96-4185-ba9f-678dc3f1edfc"
      },
      "execution_count": 52,
      "outputs": [
        {
          "output_type": "stream",
          "name": "stdout",
          "text": [
            "   Manufacturer    Model     Type  Min.Price  Price  Max.Price  MPG.city  \\\n",
            "0         Acura  Integra    Small       12.9   15.9       18.8      25.0   \n",
            "1           NaN   Legend  Midsize       29.2   33.9       38.7      18.0   \n",
            "2          Audi       90  Compact       25.9   29.1       32.3      20.0   \n",
            "3          Audi      100  Midsize        NaN   37.7       44.6      19.0   \n",
            "4           BMW     535i  Midsize        NaN   30.0        NaN      22.0   \n",
            "..          ...      ...      ...        ...    ...        ...       ...   \n",
            "88   Volkswagen  Eurovan      Van       16.6   19.7       22.7      17.0   \n",
            "89   Volkswagen   Passat  Compact       17.6   20.0       22.4      21.0   \n",
            "90   Volkswagen  Corrado   Sporty       22.9   23.3       23.7      18.0   \n",
            "91        Volvo      240  Compact       21.8   22.7       23.5      21.0   \n",
            "92          NaN      850  Midsize       24.8   26.7       28.5      20.0   \n",
            "\n",
            "    MPG.highway             AirBags DriveTrain  ... Passengers  Length  \\\n",
            "0          31.0                 NaN      Front  ...        5.0   177.0   \n",
            "1          25.0  Driver & Passenger      Front  ...        5.0   195.0   \n",
            "2          26.0         Driver only      Front  ...        5.0   180.0   \n",
            "3          26.0  Driver & Passenger        NaN  ...        6.0   193.0   \n",
            "4          30.0                 NaN       Rear  ...        4.0   186.0   \n",
            "..          ...                 ...        ...  ...        ...     ...   \n",
            "88         21.0                 NaN      Front  ...        7.0   187.0   \n",
            "89         30.0                 NaN      Front  ...        5.0   180.0   \n",
            "90         25.0                 NaN      Front  ...        4.0   159.0   \n",
            "91         28.0         Driver only       Rear  ...        5.0   190.0   \n",
            "92         28.0  Driver & Passenger      Front  ...        5.0   184.0   \n",
            "\n",
            "    Wheelbase  Width  Turn.circle Rear.seat.room  Luggage.room  Weight  \\\n",
            "0       102.0   68.0         37.0           26.5           NaN  2705.0   \n",
            "1       115.0   71.0         38.0           30.0          15.0  3560.0   \n",
            "2       102.0   67.0         37.0           28.0          14.0  3375.0   \n",
            "3       106.0    NaN         37.0           31.0          17.0  3405.0   \n",
            "4       109.0   69.0         39.0           27.0          13.0  3640.0   \n",
            "..        ...    ...          ...            ...           ...     ...   \n",
            "88      115.0   72.0         38.0           34.0           NaN  3960.0   \n",
            "89      103.0   67.0         35.0           31.5          14.0  2985.0   \n",
            "90       97.0   66.0         36.0           26.0          15.0  2810.0   \n",
            "91      104.0   67.0         37.0           29.5          14.0  2985.0   \n",
            "92      105.0   69.0         38.0           30.0          15.0  3245.0   \n",
            "\n",
            "     Origin                Make  \n",
            "0   non-USA       Acura Integra  \n",
            "1   non-USA        Acura Legend  \n",
            "2   non-USA             Audi 90  \n",
            "3   non-USA            Audi 100  \n",
            "4   non-USA            BMW 535i  \n",
            "..      ...                 ...  \n",
            "88      NaN  Volkswagen Eurovan  \n",
            "89  non-USA   Volkswagen Passat  \n",
            "90  non-USA  Volkswagen Corrado  \n",
            "91  non-USA           Volvo 240  \n",
            "92  non-USA           Volvo 850  \n",
            "\n",
            "[93 rows x 27 columns]\n"
          ]
        }
      ]
    },
    {
      "cell_type": "markdown",
      "source": [
        "### 2.3.6 아래 missing_path는 결측치가 데이터로 해당 경로의 csv 파일을 열어 결측치를 확인하고 그 개수를 출력하시오."
      ],
      "metadata": {
        "id": "yV_qYcL2nXSL"
      }
    },
    {
      "cell_type": "code",
      "source": [
        "# 해당 셀을 실행하되 수정하지 마세요.\n",
        "missing_path = 'https://raw.githubusercontent.com/selva86/datasets/master/Cars93_miss.csv'"
      ],
      "metadata": {
        "id": "NJOCfjLOoJ5X"
      },
      "execution_count": 53,
      "outputs": []
    },
    {
      "cell_type": "code",
      "source": [
        "miss_path = pd.read_csv(missing_path)\n",
        "\n",
        "miss_path.isnull().sum()"
      ],
      "metadata": {
        "id": "i0Nu9efBoQwI",
        "colab": {
          "base_uri": "https://localhost:8080/",
          "height": 931
        },
        "outputId": "9b8106eb-033b-45eb-a8cc-1fe5700cc27a"
      },
      "execution_count": 57,
      "outputs": [
        {
          "output_type": "execute_result",
          "data": {
            "text/plain": [
              "Manufacturer           4\n",
              "Model                  1\n",
              "Type                   3\n",
              "Min.Price              7\n",
              "Price                  2\n",
              "Max.Price              5\n",
              "MPG.city               9\n",
              "MPG.highway            2\n",
              "AirBags               38\n",
              "DriveTrain             7\n",
              "Cylinders              5\n",
              "EngineSize             2\n",
              "Horsepower             7\n",
              "RPM                    3\n",
              "Rev.per.mile           6\n",
              "Man.trans.avail        5\n",
              "Fuel.tank.capacity     8\n",
              "Passengers             2\n",
              "Length                 4\n",
              "Wheelbase              1\n",
              "Width                  6\n",
              "Turn.circle            5\n",
              "Rear.seat.room         4\n",
              "Luggage.room          19\n",
              "Weight                 7\n",
              "Origin                 5\n",
              "Make                   3\n",
              "dtype: int64"
            ],
            "text/html": [
              "<div>\n",
              "<style scoped>\n",
              "    .dataframe tbody tr th:only-of-type {\n",
              "        vertical-align: middle;\n",
              "    }\n",
              "\n",
              "    .dataframe tbody tr th {\n",
              "        vertical-align: top;\n",
              "    }\n",
              "\n",
              "    .dataframe thead th {\n",
              "        text-align: right;\n",
              "    }\n",
              "</style>\n",
              "<table border=\"1\" class=\"dataframe\">\n",
              "  <thead>\n",
              "    <tr style=\"text-align: right;\">\n",
              "      <th></th>\n",
              "      <th>0</th>\n",
              "    </tr>\n",
              "  </thead>\n",
              "  <tbody>\n",
              "    <tr>\n",
              "      <th>Manufacturer</th>\n",
              "      <td>4</td>\n",
              "    </tr>\n",
              "    <tr>\n",
              "      <th>Model</th>\n",
              "      <td>1</td>\n",
              "    </tr>\n",
              "    <tr>\n",
              "      <th>Type</th>\n",
              "      <td>3</td>\n",
              "    </tr>\n",
              "    <tr>\n",
              "      <th>Min.Price</th>\n",
              "      <td>7</td>\n",
              "    </tr>\n",
              "    <tr>\n",
              "      <th>Price</th>\n",
              "      <td>2</td>\n",
              "    </tr>\n",
              "    <tr>\n",
              "      <th>Max.Price</th>\n",
              "      <td>5</td>\n",
              "    </tr>\n",
              "    <tr>\n",
              "      <th>MPG.city</th>\n",
              "      <td>9</td>\n",
              "    </tr>\n",
              "    <tr>\n",
              "      <th>MPG.highway</th>\n",
              "      <td>2</td>\n",
              "    </tr>\n",
              "    <tr>\n",
              "      <th>AirBags</th>\n",
              "      <td>38</td>\n",
              "    </tr>\n",
              "    <tr>\n",
              "      <th>DriveTrain</th>\n",
              "      <td>7</td>\n",
              "    </tr>\n",
              "    <tr>\n",
              "      <th>Cylinders</th>\n",
              "      <td>5</td>\n",
              "    </tr>\n",
              "    <tr>\n",
              "      <th>EngineSize</th>\n",
              "      <td>2</td>\n",
              "    </tr>\n",
              "    <tr>\n",
              "      <th>Horsepower</th>\n",
              "      <td>7</td>\n",
              "    </tr>\n",
              "    <tr>\n",
              "      <th>RPM</th>\n",
              "      <td>3</td>\n",
              "    </tr>\n",
              "    <tr>\n",
              "      <th>Rev.per.mile</th>\n",
              "      <td>6</td>\n",
              "    </tr>\n",
              "    <tr>\n",
              "      <th>Man.trans.avail</th>\n",
              "      <td>5</td>\n",
              "    </tr>\n",
              "    <tr>\n",
              "      <th>Fuel.tank.capacity</th>\n",
              "      <td>8</td>\n",
              "    </tr>\n",
              "    <tr>\n",
              "      <th>Passengers</th>\n",
              "      <td>2</td>\n",
              "    </tr>\n",
              "    <tr>\n",
              "      <th>Length</th>\n",
              "      <td>4</td>\n",
              "    </tr>\n",
              "    <tr>\n",
              "      <th>Wheelbase</th>\n",
              "      <td>1</td>\n",
              "    </tr>\n",
              "    <tr>\n",
              "      <th>Width</th>\n",
              "      <td>6</td>\n",
              "    </tr>\n",
              "    <tr>\n",
              "      <th>Turn.circle</th>\n",
              "      <td>5</td>\n",
              "    </tr>\n",
              "    <tr>\n",
              "      <th>Rear.seat.room</th>\n",
              "      <td>4</td>\n",
              "    </tr>\n",
              "    <tr>\n",
              "      <th>Luggage.room</th>\n",
              "      <td>19</td>\n",
              "    </tr>\n",
              "    <tr>\n",
              "      <th>Weight</th>\n",
              "      <td>7</td>\n",
              "    </tr>\n",
              "    <tr>\n",
              "      <th>Origin</th>\n",
              "      <td>5</td>\n",
              "    </tr>\n",
              "    <tr>\n",
              "      <th>Make</th>\n",
              "      <td>3</td>\n",
              "    </tr>\n",
              "  </tbody>\n",
              "</table>\n",
              "</div><br><label><b>dtype:</b> int64</label>"
            ]
          },
          "metadata": {},
          "execution_count": 57
        }
      ]
    },
    {
      "cell_type": "markdown",
      "source": [
        "### 2.3.7 위의 데이터 중 결측치가 가장 많은 열을 출력하시오."
      ],
      "metadata": {
        "id": "wcNYBAomoRIM"
      }
    },
    {
      "cell_type": "code",
      "source": [
        "print(miss_path.isnull().sum().idxmax())"
      ],
      "metadata": {
        "id": "x9J0CIsEom3I",
        "colab": {
          "base_uri": "https://localhost:8080/"
        },
        "outputId": "7c723de8-61a4-4245-c94c-6a90c5887754"
      },
      "execution_count": 59,
      "outputs": [
        {
          "output_type": "stream",
          "name": "stdout",
          "text": [
            "AirBags\n"
          ]
        }
      ]
    },
    {
      "cell_type": "markdown",
      "source": [
        "### 2.3.8 정수 1부터 20까지로 이루어진 series를 만들고 4x5 크기의 dataframe으로 변형한 뒤 출력하시오. 그리고 해당 dataframe의 2,3번째 열만 출력하시오."
      ],
      "metadata": {
        "id": "mKZbeCLSonXw"
      }
    },
    {
      "cell_type": "code",
      "source": [
        "series_20 = pd.Series(range(1,21))\n",
        "df_20 = pd.DataFrame(series_20.values.reshape(4,5))\n",
        "print(df_20)\n",
        "print(df_20[[1,2]])"
      ],
      "metadata": {
        "id": "Aau8l9_IpPuc",
        "colab": {
          "base_uri": "https://localhost:8080/"
        },
        "outputId": "bcc65912-17ee-4a3a-b64c-1f16ec04baba"
      },
      "execution_count": 62,
      "outputs": [
        {
          "output_type": "stream",
          "name": "stdout",
          "text": [
            "    0   1   2   3   4\n",
            "0   1   2   3   4   5\n",
            "1   6   7   8   9  10\n",
            "2  11  12  13  14  15\n",
            "3  16  17  18  19  20\n",
            "    1   2\n",
            "0   2   3\n",
            "1   7   8\n",
            "2  12  13\n",
            "3  17  18\n"
          ]
        }
      ]
    },
    {
      "cell_type": "markdown",
      "source": [
        "### 2.3.9 문제 2.3.8에서 만든 dataframe의 열을 알파벳 순으로('a','b','c',...) 열 이름을 변경하고 a열과 c열만 출력하시오."
      ],
      "metadata": {
        "id": "ktfWWNlmpNhp"
      }
    },
    {
      "cell_type": "code",
      "source": [
        "df_20.columns = ['a', 'b', 'c','d','e']\n",
        "print(df_20[['a','c']])"
      ],
      "metadata": {
        "id": "55Mc0AO-p1jZ",
        "colab": {
          "base_uri": "https://localhost:8080/"
        },
        "outputId": "f1929904-4977-4647-9e7d-83d33bc18372"
      },
      "execution_count": 73,
      "outputs": [
        {
          "output_type": "stream",
          "name": "stdout",
          "text": [
            "    a   c\n",
            "0   1   3\n",
            "1   6   8\n",
            "2  11  13\n",
            "3  16  18\n"
          ]
        }
      ]
    },
    {
      "cell_type": "markdown",
      "source": [
        "# 3. Matplotlib"
      ],
      "metadata": {
        "id": "e60H7kj2lYU1"
      }
    },
    {
      "cell_type": "markdown",
      "source": [
        "## 3.1 Matplotlib 알아보기"
      ],
      "metadata": {
        "id": "R2FtupgVqK4W"
      }
    },
    {
      "cell_type": "markdown",
      "source": [
        "###3.1.1 matplotlib의 pyplot libraby에 대한 간단한 설명을 적어주세요."
      ],
      "metadata": {
        "id": "4UXv03CrqX9I"
      }
    },
    {
      "cell_type": "code",
      "source": [
        "#파이썬에서 데이터를 시각화해주는 라이브러리이다."
      ],
      "metadata": {
        "id": "A7eRXeWrqXcT"
      },
      "execution_count": 86,
      "outputs": []
    },
    {
      "cell_type": "markdown",
      "source": [
        "### 3.1.2 본인의 matplotlib.pyplot의 version을 출력하시오."
      ],
      "metadata": {
        "id": "yc7uMExiqHFA"
      }
    },
    {
      "cell_type": "code",
      "source": [
        "matplotlib.__version__"
      ],
      "metadata": {
        "id": "uwyuyZ62mdpB",
        "colab": {
          "base_uri": "https://localhost:8080/",
          "height": 35
        },
        "outputId": "83a2218a-f7f8-4447-9c70-7175b2b3e777"
      },
      "execution_count": 83,
      "outputs": [
        {
          "output_type": "execute_result",
          "data": {
            "text/plain": [
              "'3.7.1'"
            ],
            "application/vnd.google.colaboratory.intrinsic+json": {
              "type": "string"
            }
          },
          "metadata": {},
          "execution_count": 83
        }
      ]
    },
    {
      "cell_type": "markdown",
      "source": [
        "## 3.2"
      ],
      "metadata": {
        "id": "sOctvUCKoFYu"
      }
    },
    {
      "cell_type": "markdown",
      "source": [
        "### 3.2.1 아래의 조건에 맞추어 주어진 데이터 X,Y의 값에 대한 꺽은선 그래프를 그리시오.\n",
        "\n",
        "1. x,y축의 이름을 붙이시오.\n",
        "2. 그래프의 제목은 'Line'이라고 붙이시오.\n",
        "3. 그래프의 선 색을 빨간색으로 하시오.\n",
        "4. x축의 눈금은 5단위로 표시하시오."
      ],
      "metadata": {
        "id": "sa158IqHmeUJ"
      }
    },
    {
      "cell_type": "code",
      "source": [
        "# 해당 셀을 실행하되 수정하지 마시오.\n",
        "X = range(1, 50)\n",
        "Y = [value * 3 for value in X]"
      ],
      "metadata": {
        "id": "XUAtW4R0m4x_"
      },
      "execution_count": 84,
      "outputs": []
    },
    {
      "cell_type": "code",
      "source": [
        "plt.plot(X,Y,color='red')\n",
        "plt.xlabel('X')\n",
        "plt.ylabel('Y')\n",
        "plt.title('Line')\n",
        "plt.xticks(np.arange(0,51,5))\n",
        "plt.show()"
      ],
      "metadata": {
        "id": "-AjfqGQ4m7L3",
        "colab": {
          "base_uri": "https://localhost:8080/",
          "height": 472
        },
        "outputId": "8a32b0a2-64cf-45d7-fa51-c32b8adb83b2"
      },
      "execution_count": 88,
      "outputs": [
        {
          "output_type": "display_data",
          "data": {
            "text/plain": [
              "<Figure size 640x480 with 1 Axes>"
            ],
            "image/png": "[encoded data removed]"
          },
          "metadata": {}
        }
      ]
    },
    {
      "cell_type": "markdown",
      "source": [
        "### 3.2.2 아래의 조건에 맞추어 주어진 데이터에 대한 꺽은선 그래프를 그리시오.\n",
        "\n",
        "1. 첫 번째 그래프의 선 색은 빨강, 두 번째 선 색은 초록으로 하시오.\n",
        "2. 그래프의 제목은 'Two Lines'로 하시오.\n",
        "3. 선의 굵기를 4로 통일하시오.\n",
        "4. 각 선의 색에 따라 빨강 색은 'line1', 파랑 색은 'line2'임을 나타내는 표시를 그래프에 넣으시오.\n",
        "5. 첫 번째 그래프의 점은 삼각형, 두 번째 그래프의 점은 원형으로 그리시오."
      ],
      "metadata": {
        "id": "AQhGUHMMoC52"
      }
    },
    {
      "cell_type": "code",
      "source": [
        "# 해당 셀의 내용을 수정하지 마시오.\n",
        "# line 1 points\n",
        "x1 = [10,20,30]\n",
        "y1 = [20,40,10]\n",
        "\n",
        "# line 2 points\n",
        "x2 = [10,20,30]\n",
        "y2 = [40,10,30]"
      ],
      "metadata": {
        "id": "4rBJyK3-oW8A"
      },
      "execution_count": 89,
      "outputs": []
    },
    {
      "cell_type": "code",
      "source": [
        "plt.plot(x1,y1, color='red',linewidth=4, marker='^')\n",
        "plt.plot(x2,y2, color='green',linewidth=4, marker='o')\n",
        "plt.title('Two Lines')\n",
        "plt.show()"
      ],
      "metadata": {
        "id": "8Fp0uM5aofYG",
        "colab": {
          "base_uri": "https://localhost:8080/",
          "height": 452
        },
        "outputId": "6472e6ce-7c0c-497b-88cd-df4d952607b4"
      },
      "execution_count": 97,
      "outputs": [
        {
          "output_type": "display_data",
          "data": {
            "text/plain": [
              "<Figure size 640x480 with 1 Axes>"
            ],
            "image/png": "[encoded data removed]"
          },
          "metadata": {}
        }
      ]
    },
    {
      "cell_type": "markdown",
      "source": [
        "### 3.2.3 주어진 데이터에서 x는 프로그래밍 언어, popularity는 프로그래밍의 선호도이다. 프로그래밍 언어에 따른 선호도에 대한 막대그래프를 아래 조건에 맞추어 그리시오.\n",
        "\n",
        "1. X축의 이름은 'Programming Language'로 하시오.\n",
        "2. Y축의 이름은 'Popularity'로 하시오.\n",
        "3. 격자 무늬를 넣으시오.\n",
        "4. 그래프의 제목은 'Popularity of programming language'로 하시오.\n",
        "5. X축의 눈금을 표시하시오.\n",
        "6. 막대그래프는 중간맞춤으로 그리시오."
      ],
      "metadata": {
        "id": "fZabRSyfpLY9"
      }
    },
    {
      "cell_type": "code",
      "source": [
        "# 해당 셀을 실행하되 수정하지 마시오.\n",
        "x = ['Java', 'Python', 'PHP', 'JavaScript', 'C#', 'C++']\n",
        "popularity = [22.2, 17.6, 8.8, 8, 7.7, 6.7]"
      ],
      "metadata": {
        "id": "2OC0AVntpiqq"
      },
      "execution_count": 95,
      "outputs": []
    },
    {
      "cell_type": "code",
      "source": [
        "plt.bar(x, popularity)\n",
        "plt.xlabel('Programming Language')\n",
        "plt.ylabel('Popularity')\n",
        "plt.grid(True)\n",
        "plt.title('Popularity of programming language')\n",
        "plt.xticks(x)\n",
        "plt.show()\n",
        "\n",
        "# 막대그래프 중간맞춤으로 그리라는 말이 이해가 안갑니다. 그래프가 가운데 오게 만들라는 건가요?"
      ],
      "metadata": {
        "id": "_m5Unnlguswl",
        "colab": {
          "base_uri": "https://localhost:8080/",
          "height": 477
        },
        "outputId": "647daaca-a27e-4b64-fd63-d9190c84d0b7"
      },
      "execution_count": 106,
      "outputs": [
        {
          "output_type": "display_data",
          "data": {
            "text/plain": [
              "<Figure size 640x480 with 1 Axes>"
            ],
            "image/png": "[encoded data removed]"
          },
          "metadata": {}
        }
      ]
    },
    {
      "cell_type": "markdown",
      "source": [
        "### 3.2.4 아래 조건에 맞추어 주어진 두 데이터에 대한 꺽은선 그래프 두 개를 한 번에 그리시오.\n",
        "\n",
        "1. data1의 그래프는 왼쪽에 data2의 그래프는 오른쪽에 그리시오.\n",
        "2. data1의 그래프는 실선, data2의 그래프는 점선으로 그리시오.\n",
        "3. 각각의 그래프의 최댓값에 화살표 표시를 넣고 'maximum'임을 표시하시오.\n",
        "4. 각 그래프 별로 'data1', 'data2'라는 제목을 붙이시오.\n"
      ],
      "metadata": {
        "id": "zInWl631r9F5"
      }
    },
    {
      "cell_type": "code",
      "source": [
        "# 해당 셀을 실행하되 수정하지 마시오.\n",
        "# data1\n",
        "x1 = [i for i in range(10)]\n",
        "y1 = [i*i+3 for i in x1]\n",
        "\n",
        "# data2\n",
        "x2 = [i for i in range(-5,6)]\n",
        "y2 = [(-1)*i*i+25 for i in x2]"
      ],
      "metadata": {
        "id": "zJ0UQcjfusHy"
      },
      "execution_count": 104,
      "outputs": []
    },
    {
      "cell_type": "code",
      "source": [
        "plt.subplot(1,2,1)\n",
        "plt.plot(x1,y1,color='blue',linestyle='-')\n",
        "plt.text(max(x1),max(y1),'maximum')\n",
        "plt.title('data1')\n",
        "\n",
        "\n",
        "plt.subplot(1,2,2)\n",
        "plt.plot(x2,y2,color='red',linestyle=':')\n",
        "plt.text(max(x2),max(y2),'maximum')\n",
        "plt.title('data2')\n",
        "\n",
        "# 화살표표시는 arrow(x,y,dx,dy[,widht])로 한다는데 자세히는 모르겠습니다"
      ],
      "metadata": {
        "id": "BtfbYSIbvwC4",
        "colab": {
          "base_uri": "https://localhost:8080/",
          "height": 471
        },
        "outputId": "d023a244-4fb5-45d2-ebcf-5861b723185d"
      },
      "execution_count": 127,
      "outputs": [
        {
          "output_type": "execute_result",
          "data": {
            "text/plain": [
              "Text(0.5, 1.0, 'data2')"
            ]
          },
          "metadata": {},
          "execution_count": 127
        },
        {
          "output_type": "display_data",
          "data": {
            "text/plain": [
              "<Figure size 640x480 with 2 Axes>"
            ],
            "image/png": "[encoded data removed]"
          },
          "metadata": {}
        }
      ]
    },
    {
      "cell_type": "code",
      "source": [],
      "metadata": {
        "id": "veM0whVU9M6N"
      },
      "execution_count": null,
      "outputs": []
    }
  ]
}