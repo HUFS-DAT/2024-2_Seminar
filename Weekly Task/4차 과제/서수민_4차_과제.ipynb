{
 "cells": [
  {
   "cell_type": "markdown",
   "id": "542b2302",
   "metadata": {},
   "source": [
    "## N차 과제 - Time Series Analysis_주가예측\n",
    "\n",
    "- 주제: 시계열 모델을 주가 데이터에 대한 시계열 예측 및 분석\n",
    "- 데이터: 주식 데이터(크롤링 or 라이브러리로 데이터 불러오기)\n",
    "- 사용 라이브러리: yfinance, datareader, statsmodels, matplotlib etc."
   ]
  },
  {
   "cell_type": "code",
   "execution_count": 2,
   "id": "504fadaf",
   "metadata": {},
   "outputs": [
    {
     "name": "stdout",
     "output_type": "stream",
     "text": [
      "Requirement already satisfied: yfinance in c:\\users\\lg\\appdata\\local\\programs\\python\\python36-32\\lib\\site-packages (0.1.87)\n",
      "Requirement already satisfied: pandas>=0.24.0 in c:\\users\\lg\\appdata\\local\\programs\\python\\python36-32\\lib\\site-packages (from yfinance) (1.1.5)\n",
      "Requirement already satisfied: numpy>=1.15 in c:\\users\\lg\\appdata\\local\\programs\\python\\python36-32\\lib\\site-packages (from yfinance) (1.19.5)\n",
      "Requirement already satisfied: requests>=2.26 in c:\\users\\lg\\appdata\\local\\programs\\python\\python36-32\\lib\\site-packages (from yfinance) (2.27.1)\n",
      "Requirement already satisfied: appdirs>=1.4.4 in c:\\users\\lg\\appdata\\local\\programs\\python\\python36-32\\lib\\site-packages (from yfinance) (1.4.4)\n",
      "Requirement already satisfied: multitasking>=0.0.7 in c:\\users\\lg\\appdata\\local\\programs\\python\\python36-32\\lib\\site-packages (from yfinance) (0.0.11)\n",
      "Requirement already satisfied: lxml>=4.5.1 in c:\\users\\lg\\appdata\\local\\programs\\python\\python36-32\\lib\\site-packages (from yfinance) (5.3.0)\n",
      "Requirement already satisfied: pytz>=2017.2 in c:\\users\\lg\\appdata\\local\\programs\\python\\python36-32\\lib\\site-packages (from pandas>=0.24.0->yfinance) (2024.1)\n",
      "Requirement already satisfied: python-dateutil>=2.7.3 in c:\\users\\lg\\appdata\\local\\programs\\python\\python36-32\\lib\\site-packages (from pandas>=0.24.0->yfinance) (2.9.0.post0)\n",
      "Requirement already satisfied: urllib3<1.27,>=1.21.1 in c:\\users\\lg\\appdata\\local\\programs\\python\\python36-32\\lib\\site-packages (from requests>=2.26->yfinance) (1.26.20)\n",
      "Requirement already satisfied: certifi>=2017.4.17 in c:\\users\\lg\\appdata\\local\\programs\\python\\python36-32\\lib\\site-packages (from requests>=2.26->yfinance) (2024.8.30)\n",
      "Requirement already satisfied: charset-normalizer~=2.0.0 in c:\\users\\lg\\appdata\\local\\programs\\python\\python36-32\\lib\\site-packages (from requests>=2.26->yfinance) (2.0.12)\n",
      "Requirement already satisfied: idna<4,>=2.5 in c:\\users\\lg\\appdata\\local\\programs\\python\\python36-32\\lib\\site-packages (from requests>=2.26->yfinance) (3.10)\n",
      "Requirement already satisfied: six>=1.5 in c:\\users\\lg\\appdata\\local\\programs\\python\\python36-32\\lib\\site-packages (from python-dateutil>=2.7.3->pandas>=0.24.0->yfinance) (1.16.0)\n"
     ]
    }
   ],
   "source": [
    "!pip install yfinance\n",
    "import pandas as pd\n",
    "import yfinance as yf\n",
    "import datetime\n",
    "import matplotlib.pyplot as plt\n",
    "from statsmodels.tsa.stattools import adfuller\n",
    "from statsmodels.graphics.tsaplots import plot_acf, plot_pacf\n",
    "from statsmodels.tsa.seasonal import seasonal_decompose"
   ]
  },
  {
   "cell_type": "code",
   "execution_count": 4,
   "id": "c2a35d35",
   "metadata": {},
   "outputs": [],
   "source": [
    "df = pd.read_csv('C:/Users/LG/Documents/카카오톡 받은 파일/sam_stock.csv')"
   ]
  },
  {
   "cell_type": "code",
   "execution_count": 5,
   "id": "85cfe690",
   "metadata": {},
   "outputs": [
    {
     "data": {
      "text/html": [
       "<div>\n",
       "<style scoped>\n",
       "    .dataframe tbody tr th:only-of-type {\n",
       "        vertical-align: middle;\n",
       "    }\n",
       "\n",
       "    .dataframe tbody tr th {\n",
       "        vertical-align: top;\n",
       "    }\n",
       "\n",
       "    .dataframe thead th {\n",
       "        text-align: right;\n",
       "    }\n",
       "</style>\n",
       "<table border=\"1\" class=\"dataframe\">\n",
       "  <thead>\n",
       "    <tr style=\"text-align: right;\">\n",
       "      <th></th>\n",
       "      <th>Date</th>\n",
       "      <th>Open</th>\n",
       "      <th>High</th>\n",
       "      <th>Low</th>\n",
       "      <th>Close</th>\n",
       "      <th>Adj Close</th>\n",
       "      <th>Volume</th>\n",
       "    </tr>\n",
       "  </thead>\n",
       "  <tbody>\n",
       "    <tr>\n",
       "      <th>0</th>\n",
       "      <td>2021-10-01</td>\n",
       "      <td>73900.0</td>\n",
       "      <td>74000.0</td>\n",
       "      <td>72900.0</td>\n",
       "      <td>73200.0</td>\n",
       "      <td>69039.710938</td>\n",
       "      <td>15803395</td>\n",
       "    </tr>\n",
       "    <tr>\n",
       "      <th>1</th>\n",
       "      <td>2021-10-05</td>\n",
       "      <td>73000.0</td>\n",
       "      <td>73000.0</td>\n",
       "      <td>71400.0</td>\n",
       "      <td>72200.0</td>\n",
       "      <td>68096.539062</td>\n",
       "      <td>24013921</td>\n",
       "    </tr>\n",
       "    <tr>\n",
       "      <th>2</th>\n",
       "      <td>2021-10-06</td>\n",
       "      <td>72600.0</td>\n",
       "      <td>72800.0</td>\n",
       "      <td>71200.0</td>\n",
       "      <td>71300.0</td>\n",
       "      <td>67247.687500</td>\n",
       "      <td>18956962</td>\n",
       "    </tr>\n",
       "    <tr>\n",
       "      <th>3</th>\n",
       "      <td>2021-10-07</td>\n",
       "      <td>71600.0</td>\n",
       "      <td>72100.0</td>\n",
       "      <td>71300.0</td>\n",
       "      <td>71600.0</td>\n",
       "      <td>67530.648438</td>\n",
       "      <td>13683532</td>\n",
       "    </tr>\n",
       "    <tr>\n",
       "      <th>4</th>\n",
       "      <td>2021-10-08</td>\n",
       "      <td>72300.0</td>\n",
       "      <td>72400.0</td>\n",
       "      <td>71500.0</td>\n",
       "      <td>71500.0</td>\n",
       "      <td>67436.320312</td>\n",
       "      <td>14043287</td>\n",
       "    </tr>\n",
       "    <tr>\n",
       "      <th>...</th>\n",
       "      <td>...</td>\n",
       "      <td>...</td>\n",
       "      <td>...</td>\n",
       "      <td>...</td>\n",
       "      <td>...</td>\n",
       "      <td>...</td>\n",
       "      <td>...</td>\n",
       "    </tr>\n",
       "    <tr>\n",
       "      <th>732</th>\n",
       "      <td>2024-09-26</td>\n",
       "      <td>63900.0</td>\n",
       "      <td>64900.0</td>\n",
       "      <td>63700.0</td>\n",
       "      <td>64700.0</td>\n",
       "      <td>64700.000000</td>\n",
       "      <td>37566015</td>\n",
       "    </tr>\n",
       "    <tr>\n",
       "      <th>733</th>\n",
       "      <td>2024-09-27</td>\n",
       "      <td>64700.0</td>\n",
       "      <td>65400.0</td>\n",
       "      <td>64200.0</td>\n",
       "      <td>64200.0</td>\n",
       "      <td>64200.000000</td>\n",
       "      <td>28433030</td>\n",
       "    </tr>\n",
       "    <tr>\n",
       "      <th>734</th>\n",
       "      <td>2024-09-30</td>\n",
       "      <td>64200.0</td>\n",
       "      <td>64300.0</td>\n",
       "      <td>61500.0</td>\n",
       "      <td>61500.0</td>\n",
       "      <td>61500.000000</td>\n",
       "      <td>32694163</td>\n",
       "    </tr>\n",
       "    <tr>\n",
       "      <th>735</th>\n",
       "      <td>2024-10-02</td>\n",
       "      <td>60500.0</td>\n",
       "      <td>61900.0</td>\n",
       "      <td>59900.0</td>\n",
       "      <td>61300.0</td>\n",
       "      <td>61300.000000</td>\n",
       "      <td>28473536</td>\n",
       "    </tr>\n",
       "    <tr>\n",
       "      <th>736</th>\n",
       "      <td>2024-10-04</td>\n",
       "      <td>61000.0</td>\n",
       "      <td>61700.0</td>\n",
       "      <td>60500.0</td>\n",
       "      <td>60600.0</td>\n",
       "      <td>60600.000000</td>\n",
       "      <td>24247578</td>\n",
       "    </tr>\n",
       "  </tbody>\n",
       "</table>\n",
       "<p>737 rows × 7 columns</p>\n",
       "</div>"
      ],
      "text/plain": [
       "           Date     Open     High      Low    Close     Adj Close    Volume\n",
       "0    2021-10-01  73900.0  74000.0  72900.0  73200.0  69039.710938  15803395\n",
       "1    2021-10-05  73000.0  73000.0  71400.0  72200.0  68096.539062  24013921\n",
       "2    2021-10-06  72600.0  72800.0  71200.0  71300.0  67247.687500  18956962\n",
       "3    2021-10-07  71600.0  72100.0  71300.0  71600.0  67530.648438  13683532\n",
       "4    2021-10-08  72300.0  72400.0  71500.0  71500.0  67436.320312  14043287\n",
       "..          ...      ...      ...      ...      ...           ...       ...\n",
       "732  2024-09-26  63900.0  64900.0  63700.0  64700.0  64700.000000  37566015\n",
       "733  2024-09-27  64700.0  65400.0  64200.0  64200.0  64200.000000  28433030\n",
       "734  2024-09-30  64200.0  64300.0  61500.0  61500.0  61500.000000  32694163\n",
       "735  2024-10-02  60500.0  61900.0  59900.0  61300.0  61300.000000  28473536\n",
       "736  2024-10-04  61000.0  61700.0  60500.0  60600.0  60600.000000  24247578\n",
       "\n",
       "[737 rows x 7 columns]"
      ]
     },
     "execution_count": 5,
     "metadata": {},
     "output_type": "execute_result"
    }
   ],
   "source": [
    "df"
   ]
  },
  {
   "cell_type": "markdown",
   "id": "547764cb",
   "metadata": {},
   "source": [
    "### 1. EDA 및 전처리"
   ]
  },
  {
   "cell_type": "markdown",
   "id": "d9d66178",
   "metadata": {},
   "source": [
    "1.1 분석을 위해 사용할 특정 주식(1개)의 데이터를 불러오거나 크롤링하여 가져오세요(**최소 3년 이상의 데이터 추출 권고**)."
   ]
  },
  {
   "cell_type": "code",
   "execution_count": null,
   "id": "17d26c54",
   "metadata": {},
   "outputs": [],
   "source": [
    "!pip install --upgrade pandas"
   ]
  },
  {
   "cell_type": "markdown",
   "id": "bcc31d78",
   "metadata": {},
   "source": [
    "1.2 결측치가 있는지 확인하고 있다면 제거해주세요."
   ]
  },
  {
   "cell_type": "code",
   "execution_count": 7,
   "id": "3400d2c8",
   "metadata": {},
   "outputs": [
    {
     "name": "stdout",
     "output_type": "stream",
     "text": [
      "Date         0\n",
      "Open         0\n",
      "High         0\n",
      "Low          0\n",
      "Close        0\n",
      "Adj Close    0\n",
      "Volume       0\n",
      "dtype: int64\n"
     ]
    }
   ],
   "source": [
    "print(df.isnull().sum())"
   ]
  },
  {
   "cell_type": "markdown",
   "id": "b593a75a",
   "metadata": {},
   "source": [
    "1.3 일자를 인덱스로 설정하고 시간 순서대로 정렬하세요."
   ]
  },
  {
   "cell_type": "code",
   "execution_count": 9,
   "id": "5bdbb750",
   "metadata": {},
   "outputs": [
    {
     "name": "stdout",
     "output_type": "stream",
     "text": [
      "                                     Date     Open     High      Low    Close  \\\n",
      "1970-01-01 00:00:00.000000000  2021-10-01  73900.0  74000.0  72900.0  73200.0   \n",
      "1970-01-01 00:00:00.000000001  2021-10-05  73000.0  73000.0  71400.0  72200.0   \n",
      "1970-01-01 00:00:00.000000002  2021-10-06  72600.0  72800.0  71200.0  71300.0   \n",
      "1970-01-01 00:00:00.000000003  2021-10-07  71600.0  72100.0  71300.0  71600.0   \n",
      "1970-01-01 00:00:00.000000004  2021-10-08  72300.0  72400.0  71500.0  71500.0   \n",
      "\n",
      "                                  Adj Close    Volume  \n",
      "1970-01-01 00:00:00.000000000  69039.710938  15803395  \n",
      "1970-01-01 00:00:00.000000001  68096.539062  24013921  \n",
      "1970-01-01 00:00:00.000000002  67247.687500  18956962  \n",
      "1970-01-01 00:00:00.000000003  67530.648438  13683532  \n",
      "1970-01-01 00:00:00.000000004  67436.320312  14043287  \n"
     ]
    }
   ],
   "source": [
    "# 인덱스를 'Date'로 설정\n",
    "df.index = pd.to_datetime(df.index)\n",
    "\n",
    "# 시간 순서대로 정렬\n",
    "sam = df.sort_index()\n",
    "\n",
    "# 결과 확인\n",
    "print(df.head())"
   ]
  },
  {
   "cell_type": "markdown",
   "id": "4fa85720",
   "metadata": {},
   "source": [
    "1.4 수정종가(adj close)와 거래량(volume)을 시각화하세요."
   ]
  },
  {
   "cell_type": "code",
   "execution_count": 10,
   "id": "7b436d8e",
   "metadata": {
    "scrolled": true
   },
   "outputs": [
    {
     "data": {
      "image/png": "[encoded data removed]",
      "text/plain": [
       "<Figure size 1008x720 with 2 Axes>"
      ]
     },
     "metadata": {
      "needs_background": "light"
     },
     "output_type": "display_data"
    }
   ],
   "source": [
    "# 시각화 설정\n",
    "plt.figure(figsize=(14, 10))\n",
    "\n",
    "# 수정 종가 시각화\n",
    "plt.subplot(2, 1, 1)\n",
    "plt.plot(df['Adj Close'], color='blue', label='Adj Close')\n",
    "plt.title('Samsung Electronics (005930.KS) - Adjusted Close Price')\n",
    "plt.xlabel('Date')\n",
    "plt.ylabel('Adjusted Close Price (KRW)')\n",
    "plt.legend()\n",
    "plt.grid()\n",
    "\n",
    "# 거래량 시각화\n",
    "plt.subplot(2, 1, 2)\n",
    "plt.bar(df.index, df['Volume'], color='orange', label='Volume')\n",
    "plt.title('Samsung Electronics (005930.KS) - Volume')\n",
    "plt.xlabel('Date')\n",
    "plt.ylabel('Volume')\n",
    "plt.legend()\n",
    "plt.grid()\n",
    "\n",
    "# 레이아웃 조정\n",
    "plt.tight_layout()\n",
    "plt.show()"
   ]
  },
  {
   "cell_type": "markdown",
   "id": "a4a046ef",
   "metadata": {},
   "source": [
    "1.5 위 시각화 과정을 통해 알 수 있는 내용에 대해 작성하세요."
   ]
  },
  {
   "cell_type": "code",
   "execution_count": null,
   "id": "001267a0",
   "metadata": {},
   "outputs": [],
   "source": [
    "#삼성전자의 주식은2022년 9월부터 2024년 9월까지 수정 종가가 우상향하고 있다.\n",
    "#그러다가 2024년 9월을 기점으로 하향률을 보이고 있다.\n",
    "\n",
    "#거래량은 2024년 1월이 가장 높으며  1월을 기점으로 거래량이 상승하고 있다."
   ]
  },
  {
   "cell_type": "markdown",
   "id": "9d436ae4",
   "metadata": {},
   "source": [
    "### 2. 추세 및 정상성 검정"
   ]
  },
  {
   "cell_type": "markdown",
   "id": "3e6828db",
   "metadata": {},
   "source": [
    "2.1 시계열 데이터의 정상성을 검증하도록 하겠습니다. 시계열 데이터 말하는 정상성(stationarity)이 무엇인지 왜 해야 하며 비정상성의 해결 방법에는 무엇이 있는지 작성하세요."
   ]
  },
  {
   "cell_type": "code",
   "execution_count": null,
   "id": "dddcca95",
   "metadata": {},
   "outputs": [],
   "source": [
    "#정상성(stationarity)은 시계열 데이터의 통계적 특성이 시간에 따라 일정하다는 것을 의미. \n",
    "#시계열의 평균, 분산, 공분산이 시간에 따라 변화하지 않는 특성을 말한다.\n",
    "\n",
    "#정상성을 검증해야 하는 이유는 예측과 분석을 해야 하기 때문이다.\n",
    "\n",
    "#비정상성의 해결방법에는 차분, 로그변환, 제곱근변환, 트렌드 제거, 계절 조정, 결합변환이 있다"
   ]
  },
  {
   "cell_type": "markdown",
   "id": "a90a6664",
   "metadata": {},
   "source": [
    "2.2 먼저 ADF Test를 수행하겠습니다. statsmodels의 adfuller 라이브러리를 import 한 후 수정 종가에 대한 검정을 수행하고 결과를 출력하세요(p-value 포함).\n",
    "\n",
    "ADF Test란? - https://hongl.tistory.com/98"
   ]
  },
  {
   "cell_type": "code",
   "execution_count": 11,
   "id": "20d20138",
   "metadata": {},
   "outputs": [
    {
     "name": "stdout",
     "output_type": "stream",
     "text": [
      "ADF Statistic: -1.5807204454231136\n",
      "p-value: 0.49327061136011974\n",
      "Critical Values:\n",
      "   1%: -3.439290485895927\n",
      "   5%: -2.8654856985173414\n",
      "   10%: -2.568871126669587\n"
     ]
    }
   ],
   "source": [
    "# ADF 검정 수행\n",
    "result = adfuller(df['Adj Close'])\n",
    "\n",
    "# 결과 출력\n",
    "print('ADF Statistic:', result[0])\n",
    "print('p-value:', result[1])\n",
    "print('Critical Values:')\n",
    "for key, value in result[4].items():\n",
    "    print(f'   {key}: {value}')"
   ]
  },
  {
   "cell_type": "markdown",
   "id": "8786bf98",
   "metadata": {},
   "source": [
    "2.3 ADF Test 결과를 해석하세요."
   ]
  },
  {
   "cell_type": "code",
   "execution_count": null,
   "id": "95cb5da5",
   "metadata": {},
   "outputs": [],
   "source": [
    "# ADF 통계량은 -1.5791로, 이 값은 주어진 임계값과 비교할 때, 시계열이 비정상적일 가능성을 나타낸다.\n",
    "\n",
    "# p-value가 0.4941로, 일반적으로 사용되는 유의 수준인 0.05보다 훨씬 크다. 이는 귀무가설(H0, 즉 \"시계열이 비정상적이다\")을 기각할 수 없음을 의미한다. 즉, 시계열 데이터가 비정상적이라는 가정을 받아들여야 한다.\n",
    "# Critical Values:\n",
    "# 주어진 임계값들과 ADF 통계량을 비교해보면:\n",
    "#1% 수준의 임계값: -3.4393, 5% 수준의 임계값: -2.8655, 10% 수준의 임계값: -2.5689\n",
    "# ADF 통계량인 -1.5791은 모든 임계값보다 크므로, 이 시계열 데이터가 정상적이지 않음을 확인할 수 있다."
   ]
  },
  {
   "cell_type": "markdown",
   "id": "868497a6",
   "metadata": {},
   "source": [
    "2.4 ACF 그래프와 PACF 그래프를 그려보도록 하겠습니다. 먼저 ACF와 PACF 각각이 어떻게 다른지 설명하세요."
   ]
  },
  {
   "cell_type": "code",
   "execution_count": null,
   "id": "8c71362a",
   "metadata": {},
   "outputs": [],
   "source": [
    "#ACF: 전체적인 상관 관계를 보여줌. 과거 시점의 모든 영향을 다 포함하여 상관을 측정.\n",
    "##또한 시차(lag)에 따라 시계열 데이터의 자기 상관을 측정. 즉, 시차가 커질수록 데이터가 얼마나 과거의 값과 연관이 있는지 보여줌.\n",
    "#PACF: 직접적인 상관 관계만을 보여줌. 중간에 다른 시점의 영향을 제거한 순수한 상관 측정."
   ]
  },
  {
   "cell_type": "markdown",
   "id": "3afb357d",
   "metadata": {},
   "source": [
    "2.5 statsmodels의 plot_acf, plot_pacf 라이브러리를 import하고 Adj close값에 대한 ACF, PACF 그래프를 출력하세요."
   ]
  },
  {
   "cell_type": "code",
   "execution_count": 12,
   "id": "205264b8",
   "metadata": {},
   "outputs": [
    {
     "data": {
      "image/png": "[encoded data removed]",
      "text/plain": [
       "<Figure size 432x288 with 2 Axes>"
      ]
     },
     "metadata": {
      "needs_background": "light"
     },
     "output_type": "display_data"
    }
   ],
   "source": [
    "# ACF 그래프\n",
    "plt.subplot(1, 2, 1)\n",
    "plot_acf(df['Adj Close'], ax=plt.gca(), lags=40)\n",
    "plt.title('ACF of Adj Close')\n",
    "\n",
    "# PACF 그래프\n",
    "plt.subplot(1, 2, 2)\n",
    "plot_pacf(df['Adj Close'], ax=plt.gca(), lags=40)\n",
    "plt.title('PACF of Adj Close')\n",
    "\n",
    "plt.tight_layout()\n",
    "plt.show()"
   ]
  },
  {
   "cell_type": "markdown",
   "id": "82e4aa3d",
   "metadata": {},
   "source": [
    "2.6 결과를 해석하세요."
   ]
  },
  {
   "cell_type": "code",
   "execution_count": null,
   "id": "06524c8c",
   "metadata": {},
   "outputs": [],
   "source": [
    "#ACF그래프는 시차가 커질수록 우하향 곡선을 이루고 있다. ACF가 천천히 감소하면 데이터가 비정상적일 가능성이 있고 ACF가 빠르게 감소하면 데이터가 정상적일 수 있다.\n",
    "#PACF그래프는 첫번째 값이 높게 나타난다. 이는 현재시점이 1단계 이전의 시점과 강한 상관이 있음을 의미한다.\n",
    "##그후 값이 빠르게 감소하므로, 그 시차 이후의 상관이 크지 않다는 것을 나타낸다. 이는 AR(자기회귀)모델이 적합할 수 있음을 나타낸다."
   ]
  },
  {
   "cell_type": "markdown",
   "id": "c5618203",
   "metadata": {},
   "source": [
    "2.7 마지막으로 계절성이 있는지 여부를 확인하겠습니다. statsmodels의 seasonal_decompose 라이브러리를 import하고 plot을 출력하세요."
   ]
  },
  {
   "cell_type": "code",
   "execution_count": 15,
   "id": "1d30acae",
   "metadata": {},
   "outputs": [
    {
     "data": {
      "image/png": "[encoded data removed]",
      "text/plain": [
       "<Figure size 432x288 with 4 Axes>"
      ]
     },
     "metadata": {
      "needs_background": "light"
     },
     "output_type": "display_data"
    }
   ],
   "source": [
    "from statsmodels.tsa.seasonal import seasonal_decompose\n",
    "import matplotlib.pyplot as plt\n",
    "\n",
    "df['Date'] = pd.to_datetime(df['Date'])  # 날짜 형식 변환\n",
    "df.set_index('Date', inplace=True)  # 인덱스를 날짜로 설정\n",
    "\n",
    "# 데이터의 시계열 분해 (연속적인 일간 데이터로 리샘플링 후 수행)\n",
    "df_resampled = df['Adj Close'].resample('D').interpolate()\n",
    "\n",
    "# 시계열 분해 (추세, 계절성, 잔차)\n",
    "result = seasonal_decompose(df_resampled, model='additive', period=30)\n",
    "\n",
    "# 시계열 분해 결과 시각화\n",
    "result.plot()\n",
    "plt.show()"
   ]
  },
  {
   "cell_type": "markdown",
   "id": "1624b155",
   "metadata": {},
   "source": [
    "2.8 위 결과를 해석하세요."
   ]
  },
  {
   "cell_type": "code",
   "execution_count": null,
   "id": "e5d4d05c",
   "metadata": {},
   "outputs": [],
   "source": [
    "#1.추세 : 2022년9월을 기점으로 시간이 지남에 따라 데이터가 상승한다. 이는 장기적으로\n",
    "#이는 장기적으로 일정한 방향으로 변화하고 있다는 것을 의미한다. 상승추세가 뚜렷하므로\n",
    "#주식가격이 장기적으로 오르고 있다.\n",
    "\n",
    "#2.잔차 : 추세와 계절성을 제거한 후 남은 부분으로, 주로 설명되지 않은 불규칙적인 변동을 나타낸다.\n",
    "#그래프를 보면 잔차가 큰 변동을 보이므로, 데이터에 비정상적인 변동이 많다는 것을 의미한다.\n",
    "\n",
    "#3.계절성 : 일정한 패턴이 반복되는지 여부를 통해, 주가나 가격의 계절적 요인에 대한 통찰을 얻을 수 있다.\n",
    "#그래프를 보면 일정 주기마다 반복되는 패턴을 보인다. 따라서 일정한 주기로 발생하는 계절성이 있다는 것을 의미한다."
   ]
  },
  {
   "cell_type": "markdown",
   "id": "5e6d5710",
   "metadata": {},
   "source": [
    "2.9 위에서 진행한 검정 과정 및 시각화 결과를 종합해봤을 때 현 데이터는 비정상성임을 알 수 있습니다. 따라서 차분을 통해 이를 해결하도록 하겠습니다. 먼저 차분이 어떤 것인지에 대해 설명하세요."
   ]
  },
  {
   "cell_type": "code",
   "execution_count": null,
   "id": "77d23947",
   "metadata": {},
   "outputs": [],
   "source": [
    "#차분(differencing)은 시계열 데이터의 비정상성을 해결하기 위해 사용되는 기법. 비정상성은 데이터의 평균, 분산, 공분산 등이 시간에 따라 변하는 경우를 의미함. \n",
    "#차분은 이러한 비정상성을 줄이거나 없애기 위해 데이터의 특정 시점과 이전 시점의 차이를 계산하는 방법이다.\n",
    "#차분의 장점:\n",
    "#-비정상성 제거-> 차분을 통해 시계열 데이터의 평균과 분산을 안정화시킬 수 있다.\n",
    "#-모델링 용이-> 비정상성을 제거한 데이터는 ARIMA(자기회귀 적분 이동 평균)와 같은 통계 모델링 기법을 적용하기에 더 적합하다."
   ]
  },
  {
   "cell_type": "markdown",
   "id": "98e75039",
   "metadata": {},
   "source": [
    "2.10 1차 차분을 진행하도록 하겠습니다. diff() 함수를 활용해 1차 차분을 진행한 후 ADF Test를 수행하여 정상성 여부를 확인하세요."
   ]
  },
  {
   "cell_type": "code",
   "execution_count": 16,
   "id": "e3a9f803",
   "metadata": {},
   "outputs": [
    {
     "name": "stdout",
     "output_type": "stream",
     "text": [
      "ADF Statistic: -21.003861131707435\n",
      "p-value: 0.0\n",
      "Critical Values:\n",
      "   1%: -3.439290485895927\n",
      "   5%: -2.8654856985173414\n",
      "   10%: -2.568871126669587\n"
     ]
    }
   ],
   "source": [
    "# 1차 차분 진행\n",
    "sam_diff = sam['Adj Close'].diff().dropna()\n",
    "\n",
    "# 1차 차분 데이터에 대해 ADF Test 수행\n",
    "adf_result_diff = adfuller(sam_diff)\n",
    "\n",
    "# ADF Test 결과 출력\n",
    "adf_statistic_diff = adf_result_diff[0]\n",
    "p_value_diff = adf_result_diff[1]\n",
    "critical_values_diff = adf_result_diff[4]\n",
    "\n",
    "# 결과 출력\n",
    "print(f\"ADF Statistic: {adf_statistic_diff}\")\n",
    "print(f\"p-value: {p_value_diff}\")\n",
    "print(\"Critical Values:\")\n",
    "for key, value in critical_values_diff.items():\n",
    "    print(f\"   {key}: {value}\")"
   ]
  },
  {
   "cell_type": "markdown",
   "id": "d751779c",
   "metadata": {},
   "source": [
    "2.11 추가로 위에서 그려보았던 plot들을 다시 그려보면서 비교를 통해 정상성 여부를 확인해보도록 하겠습니다. ACF PACF plot, 계절성 분해 plot을 그려보세요."
   ]
  },
  {
   "cell_type": "code",
   "execution_count": 19,
   "id": "402e9bb2",
   "metadata": {
    "scrolled": true
   },
   "outputs": [
    {
     "name": "stdout",
     "output_type": "stream",
     "text": [
      "원본 데이터 (Adj Close):\n",
      "1970-01-01 00:00:00.000000000    69039.710938\n",
      "1970-01-01 00:00:00.000000001    68096.539062\n",
      "1970-01-01 00:00:00.000000002    67247.687500\n",
      "1970-01-01 00:00:00.000000003    67530.648438\n",
      "1970-01-01 00:00:00.000000004    67436.320312\n",
      "                                     ...     \n",
      "1970-01-01 00:00:00.000000732    64700.000000\n",
      "1970-01-01 00:00:00.000000733    64200.000000\n",
      "1970-01-01 00:00:00.000000734    61500.000000\n",
      "1970-01-01 00:00:00.000000735    61300.000000\n",
      "1970-01-01 00:00:00.000000736    60600.000000\n",
      "Name: Adj Close, Length: 737, dtype: float64\n",
      "\n",
      "리샘플링 후 데이터:\n",
      "1970-01-01    67207.110165\n",
      "Freq: D, Name: Adj Close, dtype: float64\n",
      "\n",
      "NaN 값 개수: 0\n",
      "리샘플링 후 데이터 길이: 1\n",
      "\n",
      "차분 후 데이터:\n",
      "Series([], Freq: D, Name: Adj Close, dtype: float64)\n",
      "차분 후 데이터가 충분하지 않아 시계열 분해가 불가능합니다.\n"
     ]
    }
   ],
   "source": [
    "from statsmodels.tsa.seasonal import seasonal_decompose\n",
    "import matplotlib.pyplot as plt\n",
    "\n",
    "# 1. 데이터 확인 (Adj Close 값 확인)\n",
    "print(\"원본 데이터 (Adj Close):\")\n",
    "print(sam['Adj Close'])\n",
    "\n",
    "# 2. 리샘플링 후 NaN 값 확인 및 데이터 길이 출력\n",
    "sam_daily = sam['Adj Close'].resample('D').mean().interpolate()  # 일별 리샘플링 후 NaN 보간\n",
    "print(\"\\n리샘플링 후 데이터:\")\n",
    "print(sam_daily)\n",
    "print(\"\\nNaN 값 개수:\", sam_daily.isna().sum())  # NaN 값이 있는지 확인\n",
    "print(\"리샘플링 후 데이터 길이:\", len(sam_daily))\n",
    "\n",
    "# 3. 차분 후 데이터 확인\n",
    "sam_diff = sam_daily.diff().dropna()\n",
    "print(\"\\n차분 후 데이터:\")\n",
    "print(sam_diff)\n",
    "\n",
    "# 4. 시계열 분해 (데이터가 충분하지 않을 경우 주기를 조정)\n",
    "if len(sam_diff) >= 60:  # 최소한 60개 이상의 데이터가 필요\n",
    "    result_diff = seasonal_decompose(sam_diff, model='additive', period=30)  # 주기를 30으로 설정\n",
    "    \n",
    "    # 5. 시계열 분해 결과 시각화\n",
    "    result_diff.plot()\n",
    "    plt.show()\n",
    "else:\n",
    "    print(\"차분 후 데이터가 충분하지 않아 시계열 분해가 불가능합니다.\")\n"
   ]
  },
  {
   "cell_type": "markdown",
   "id": "597ae665",
   "metadata": {},
   "source": [
    "### 3. 예측"
   ]
  },
  {
   "cell_type": "markdown",
   "id": "1adc37ce",
   "metadata": {},
   "source": [
    "3.1 데이터의 정상성을 확인했으니 본격적으로 예측 및 분석을 진행해보도록 하겠습니다.\n",
    "\n",
    "아래 코드는 예시이므로 예시에서 사용된 모델이 아닌 다른 모델(ex. ARIMAX, ARCH/GARCH, LSTM, Transformer, DLinear etc.)를 사용하고 애플이 아닌 다른 주식을 사용해 예측 및 분석을 진행해주세요(**위에서 진행한 과정 역시 모두 예시이므로 새로운 주식에 대한 전처리 및 정상성 검정을 새로 진행해야 함**)."
   ]
  },
  {
   "cell_type": "code",
   "execution_count": 21,
   "id": "ebf1e000",
   "metadata": {},
   "outputs": [],
   "source": [
    "from statsmodels.tsa.arima.model import ARIMA"
   ]
  },
  {
   "cell_type": "code",
   "execution_count": 26,
   "id": "7497a7d4",
   "metadata": {},
   "outputs": [
    {
     "name": "stdout",
     "output_type": "stream",
     "text": [
      "               Adj Close  Adj Close Differenced\n",
      "Date                                           \n",
      "2021-10-05  68096.539062            -235.792969\n",
      "2021-10-06  67247.687500            -848.851562\n",
      "2021-10-07  67530.648438             282.960938\n",
      "2021-10-08  67436.320312             -94.328125\n",
      "2021-10-12  65078.406250            -589.478516\n",
      "...                  ...                    ...\n",
      "2024-09-26  64700.000000            2500.000000\n",
      "2024-09-27  64200.000000            -500.000000\n",
      "2024-09-30  61500.000000            -900.000000\n",
      "2024-10-02  61300.000000            -100.000000\n",
      "2024-10-04  60600.000000            -350.000000\n",
      "\n",
      "[736 rows x 2 columns]\n"
     ]
    }
   ],
   "source": [
    "import pandas as pd\n",
    "\n",
    "# 1. 데이터 불러오기\n",
    "sam = pd.read_csv('C:/Users/LG/Documents/카카오톡 받은 파일/sam_stock.csv', parse_dates=['Date'], index_col='Date')\n",
    "\n",
    "# 2. 리샘플링 후 NaN 값 처리\n",
    "sam_daily = sam['Adj Close'].resample('D').mean().interpolate()\n",
    "\n",
    "# 3. 차분을 계산하여 새로운 컬럼에 저장\n",
    "sam['Adj Close Differenced'] = sam_daily.diff()\n",
    "\n",
    "# 4. 결과 확인\n",
    "print(sam[['Adj Close', 'Adj Close Differenced']].dropna())  # NaN 제거 후 출력\n"
   ]
  },
  {
   "cell_type": "code",
   "execution_count": 28,
   "id": "5c7c7323",
   "metadata": {
    "scrolled": true
   },
   "outputs": [
    {
     "name": "stderr",
     "output_type": "stream",
     "text": [
      "c:\\users\\lg\\appdata\\local\\programs\\python\\python36-32\\lib\\site-packages\\statsmodels\\tsa\\base\\tsa_model.py:583: ValueWarning: A date index has been provided, but it has no associated frequency information and so will be ignored when e.g. forecasting.\n",
      "  ' ignored when e.g. forecasting.', ValueWarning)\n",
      "c:\\users\\lg\\appdata\\local\\programs\\python\\python36-32\\lib\\site-packages\\statsmodels\\tsa\\base\\tsa_model.py:583: ValueWarning: A date index has been provided, but it has no associated frequency information and so will be ignored when e.g. forecasting.\n",
      "  ' ignored when e.g. forecasting.', ValueWarning)\n",
      "c:\\users\\lg\\appdata\\local\\programs\\python\\python36-32\\lib\\site-packages\\statsmodels\\tsa\\base\\tsa_model.py:583: ValueWarning: A date index has been provided, but it has no associated frequency information and so will be ignored when e.g. forecasting.\n",
      "  ' ignored when e.g. forecasting.', ValueWarning)\n"
     ]
    },
    {
     "name": "stdout",
     "output_type": "stream",
     "text": [
      "                               SARIMAX Results                                \n",
      "==============================================================================\n",
      "Dep. Variable:         Adj Close_diff   No. Observations:                  736\n",
      "Model:                 ARIMA(3, 0, 0)   Log Likelihood               -6056.675\n",
      "Date:                Tue, 08 Oct 2024   AIC                          12123.350\n",
      "Time:                        21:05:41   BIC                          12146.356\n",
      "Sample:                             0   HQIC                         12132.223\n",
      "                                - 736                                         \n",
      "Covariance Type:                  opg                                         \n",
      "==============================================================================\n",
      "                 coef    std err          z      P>|z|      [0.025      0.975]\n",
      "------------------------------------------------------------------------------\n",
      "const         -2.3372     32.689     -0.071      0.943     -66.407      61.732\n",
      "ar.L1          0.0129      0.032      0.399      0.690      -0.050       0.076\n",
      "ar.L2         -0.0662      0.037     -1.795      0.073      -0.139       0.006\n",
      "ar.L3          0.0053      0.033      0.161      0.872      -0.059       0.070\n",
      "sigma2       8.25e+05   3.01e+04     27.446      0.000    7.66e+05    8.84e+05\n",
      "===================================================================================\n",
      "Ljung-Box (L1) (Q):                   0.00   Jarque-Bera (JB):               190.35\n",
      "Prob(Q):                              0.99   Prob(JB):                         0.00\n",
      "Heteroskedasticity (H):               2.34   Skew:                             0.38\n",
      "Prob(H) (two-sided):                  0.00   Kurtosis:                         5.37\n",
      "===================================================================================\n",
      "\n",
      "Warnings:\n",
      "[1] Covariance matrix calculated using the outer product of gradients (complex-step).\n"
     ]
    }
   ],
   "source": [
    "from statsmodels.tsa.arima.model import ARIMA\n",
    "\n",
    "# 1. 데이터 불러오기 및 차분 계산\n",
    "sam = pd.read_csv('C:/Users/LG/Documents/카카오톡 받은 파일/sam_stock.csv', parse_dates=['Date'], index_col='Date')\n",
    "sam_daily = sam['Adj Close'].resample('D').mean().interpolate()  # 일별 리샘플링 후 NaN 값 처리\n",
    "sam['Adj Close_diff'] = sam_daily.diff().dropna()  # 차분 계산 후 NaN 값 제거\n",
    "\n",
    "# 2. ARIMA 모델 적용 (차분 값이므로 d=0)\n",
    "model = ARIMA(sam['Adj Close_diff'].dropna(), order=(3, 0, 0))  # p=3, d=0, q=0 설정\n",
    "model_fit = model.fit()\n",
    "\n",
    "# 3. 모델 요약 출력\n",
    "print(model_fit.summary())\n"
   ]
  },
  {
   "cell_type": "code",
   "execution_count": 30,
   "id": "1e3e110e",
   "metadata": {},
   "outputs": [
    {
     "name": "stderr",
     "output_type": "stream",
     "text": [
      "c:\\users\\lg\\appdata\\local\\programs\\python\\python36-32\\lib\\site-packages\\statsmodels\\tsa\\base\\tsa_model.py:379: ValueWarning: No supported index is available. Prediction results will be given with an integer index beginning at `start`.\n",
      "  ValueWarning)\n"
     ]
    },
    {
     "data": {
      "image/png": "[encoded data removed]",
      "text/plain": [
       "<Figure size 720x360 with 1 Axes>"
      ]
     },
     "metadata": {
      "needs_background": "light"
     },
     "output_type": "display_data"
    }
   ],
   "source": [
    "import matplotlib.pyplot as plt\n",
    "\n",
    "# 예측 수행 (50일)\n",
    "forecast_result = model_fit.get_forecast(steps=50)\n",
    "forecast = forecast_result.predicted_mean\n",
    "conf_int = forecast_result.conf_int()\n",
    "\n",
    "# 예측 결과 시각화\n",
    "plt.figure(figsize=(10, 5))\n",
    "plt.plot(sam.index, sam['Adj Close_diff'], label='Actual Price', color='blue')  # 'data'를 'sam'으로 수정\n",
    "plt.plot(pd.date_range(start=sam.index[-1], periods=51, freq='B')[1:], forecast, label='Predicted Price', color='red')\n",
    "plt.fill_between(pd.date_range(start=sam.index[-1], periods=51, freq='B')[1:], conf_int.iloc[:, 0], conf_int.iloc[:, 1], color='pink', alpha=0.3)\n",
    "plt.axvline(x=sam.index[-1], color='black', linestyle='--', label='Prediction Start')\n",
    "plt.title('Actual vs Predicted Stock Prices using ARIMA')\n",
    "plt.xlabel('Date')\n",
    "plt.ylabel('Price')\n",
    "plt.legend()\n",
    "plt.show()\n"
   ]
  },
  {
   "cell_type": "code",
   "execution_count": null,
   "id": "3944c580",
   "metadata": {
    "scrolled": true
   },
   "outputs": [],
   "source": [
    "import yfinance as yf\n",
    "\n",
    "# 사용할 주식의 심볼 정의\n",
    "ticker = 'AAPL'  # 예: 애플 주식\n",
    "\n",
    "# 실제 데이터 가져오기\n",
    "actual_data_last_50 = yf.download(ticker, start='2024-01-01', end='2024-03-01')\n",
    "actual_last_50 = actual_data_last_50[['Close']]\n",
    "\n",
    "print(actual_last_50)  # 실제 데이터 출력"
   ]
  },
  {
   "cell_type": "code",
   "execution_count": null,
   "id": "222ec978",
   "metadata": {},
   "outputs": [],
   "source": [
    "#실제 데이터와 비교 시각화\n",
    "plt.figure(figsize=(10, 5))\n",
    "plt.plot(actual_last_50.index, actual_last_50['Close'], label='Actual Price (Last 50 Days)', color='green')\n",
    "plt.plot(pd.date_range(start=data.index[-1], periods=51, freq='B')[1:], forecast, label='Predicted Price (Last 50 Days)', color='red')\n",
    "plt.fill_between(pd.date_range(start=df.index[-1], periods=51, freq='B')[1:], conf_int.iloc[:, 0], conf_int.iloc[:, 1], color='pink', alpha=0.3)\n",
    "plt.title('Comparison of Actual and Predicted Prices for the Last 50 Days using ARIMA')\n",
    "plt.xlabel('Date')\n",
    "plt.ylabel('Price')\n",
    "plt.legend()\n",
    "plt.show()"
   ]
  },
  {
   "cell_type": "markdown",
   "id": "0fca235e",
   "metadata": {},
   "source": [
    "ARIMA에서는 성능이 왠지는 모르겠으나 잘 안 나와서 이정도만 하고 넘어가겠습니다. 밑에서 진행할 Prophet 모형의 경우 예측이 제대로 진행되어 추세를 예측하고자 단기적 예측이라 할 수 있는 50일이 아닌 향후 200일을 예측하였습니다."
   ]
  },
  {
   "cell_type": "markdown",
   "id": "ff14e7a6",
   "metadata": {},
   "source": [
    "### Prophet"
   ]
  },
  {
   "cell_type": "markdown",
   "id": "c4eef7f7",
   "metadata": {},
   "source": [
    "Prophet 모델이란?\n",
    "https://wikidocs.net/233162"
   ]
  },
  {
   "cell_type": "code",
   "execution_count": null,
   "id": "d220513c",
   "metadata": {},
   "outputs": [],
   "source": [
    "from prophet import Prophet"
   ]
  },
  {
   "cell_type": "code",
   "execution_count": null,
   "id": "13c171ca",
   "metadata": {},
   "outputs": [],
   "source": [
    "###Prophet의 경우 ARIMA와 검정 및 전처리 과정이 약간 달라 새로 진행하였으며 보다 정확한 추세 예측을 위해 200일까지 예측하였습니다.###\n",
    "\n",
    "\n",
    "ticker = 'AAPL'\n",
    "data = yf.download(ticker, start='2019-01-01', end='2024-01-01')\n",
    "\n",
    "df = data.reset_index()[['Date', 'Close']]\n",
    "df.columns = ['ds', 'y']  #Prophet에서는 날짜 컬럼을 'ds', 값 컬럼을 'y'로 설정해야 함"
   ]
  },
  {
   "cell_type": "code",
   "execution_count": null,
   "id": "dea36b7c",
   "metadata": {},
   "outputs": [],
   "source": [
    "#모델 설정(파라미터는 따로 설정하지 않고 진행했으나 보다 정확한 예측을 위해 수정하는 것도 좋음)\n",
    "model = Prophet()\n",
    "model.fit(df)"
   ]
  },
  {
   "cell_type": "code",
   "execution_count": null,
   "id": "f608a8f2",
   "metadata": {},
   "outputs": [],
   "source": [
    "#200일간의 예측 진행\n",
    "future = model.make_future_dataframe(periods=200)\n",
    "forecast = model.predict(future)"
   ]
  },
  {
   "cell_type": "code",
   "execution_count": null,
   "id": "0209b3e7",
   "metadata": {},
   "outputs": [],
   "source": [
    "# 예측 결과 시각화\n",
    "fig1 = model.plot(forecast)\n",
    "plt.title('Apple Stock Price Prediction')\n",
    "plt.xlabel('Date')\n",
    "plt.ylabel('Price')\n",
    "plt.show()"
   ]
  },
  {
   "cell_type": "code",
   "execution_count": null,
   "id": "3206d7e3",
   "metadata": {},
   "outputs": [],
   "source": [
    "#트렌드 및 주기성 시각화\n",
    "fig2 = model.plot_components(forecast)\n",
    "plt.show()"
   ]
  },
  {
   "cell_type": "code",
   "execution_count": null,
   "id": "1a200bba",
   "metadata": {},
   "outputs": [],
   "source": [
    "#마지막 200일의 실제 주가 데이터 가져오기\n",
    "actual_data_last_50 = yf.download(ticker, start='2024-01-01', end='2024-08-01')\n",
    "actual_last_50 = actual_data_last_50.reset_index()[['Date', 'Close']]\n",
    "actual_last_50.columns = ['ds', 'y']"
   ]
  },
  {
   "cell_type": "code",
   "execution_count": null,
   "id": "fa091de8",
   "metadata": {},
   "outputs": [],
   "source": [
    "#실제 값과 비교 시각화\n",
    "plt.figure(figsize=(10, 5))\n",
    "plt.plot(df['ds'], df['y'], label='Actual Price (2019-2024)', color='blue')\n",
    "\n",
    "plt.plot(forecast['ds'][len(df):], forecast['yhat'][len(df):], label='Predicted Price', color='red') ##전체 예측값 중 200일 이후 것만 사용\n",
    "plt.axvline(x=df['ds'].iloc[-1], color='black', linestyle='--', label='Prediction Start')\n",
    "plt.plot(actual_last_50['ds'], actual_last_50['y'], label='Actual Price(200days)', color='green')\n",
    "plt.title('Actual vs Predicted Apple Stock Prices')\n",
    "plt.xlabel('Date')\n",
    "plt.ylabel('Price')\n",
    "plt.legend()\n",
    "plt.show()\n"
   ]
  },
  {
   "cell_type": "markdown",
   "id": "26b5ecdf",
   "metadata": {},
   "source": [
    "예시에서는 전통적 시계열 모형인 ARIMA 보다 최신 기법인 Prophet이 보다 좋은 성능을 보였습니다. \n",
    "\n",
    "사실 ARIMA로도 좋은 예측을 진행할 수는 있으나 조금 간단하게 진행하였으며(죄송합니다..시간관계상 ㅠ) SARIMA, ARIMAX와 같이 발전된 모형을 사용하는 것도 방법입니다. \n",
    "\n",
    "예시보다 좋은 예측을 진행하여 주시길 바라며 단순히 시각화하는 것을 넘어서 ***RMSE***나 ***MAE***와 같은 성능지표를 활용해 정량적 평가를 진행해주시면 좋을 것 같습니다."
   ]
  },
  {
   "cell_type": "code",
   "execution_count": null,
   "id": "f0ad7d4a",
   "metadata": {},
   "outputs": [],
   "source": []
  },
  {
   "cell_type": "code",
   "execution_count": null,
   "id": "adaf905d",
   "metadata": {},
   "outputs": [],
   "source": []
  },
  {
   "cell_type": "code",
   "execution_count": null,
   "id": "55e4aabf",
   "metadata": {},
   "outputs": [],
   "source": []
  },
  {
   "cell_type": "code",
   "execution_count": null,
   "id": "5175c4a1",
   "metadata": {},
   "outputs": [],
   "source": []
  },
  {
   "cell_type": "code",
   "execution_count": null,
   "id": "0c149287",
   "metadata": {},
   "outputs": [],
   "source": []
  }
 ],
 "metadata": {
  "kernelspec": {
   "display_name": "Python 3",
   "language": "python",
   "name": "python3"
  },
  "language_info": {
   "codemirror_mode": {
    "name": "ipython",
    "version": 3
   },
   "file_extension": ".py",
   "mimetype": "text/x-python",
   "name": "python",
   "nbconvert_exporter": "python",
   "pygments_lexer": "ipython3",
   "version": "3.6.8"
  }
 },
 "nbformat": 4,
 "nbformat_minor": 5
}
