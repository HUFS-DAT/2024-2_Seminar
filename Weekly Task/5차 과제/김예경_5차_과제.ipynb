{
  "nbformat": 4,
  "nbformat_minor": 0,
  "metadata": {
    "colab": {
      "provenance": []
    },
    "kernelspec": {
      "name": "python3",
      "display_name": "Python 3"
    },
    "language_info": {
      "name": "python"
    }
  },
  "cells": [
    {
      "cell_type": "markdown",
      "source": [
        "이번 주차 과제는 간단한 이미지 데이터를 활용해 크기가 큰 데이터의 차원 축소를 진행하고 데이터의 라벨에 따라 클러스터링을 진행하는 과제입니다."
      ],
      "metadata": {
        "id": "-15WlI3nYkj9"
      }
    },
    {
      "cell_type": "markdown",
      "source": [
        "###필요한 모듈을 가져오세요."
      ],
      "metadata": {
        "id": "ShhHQ1vKZ4Pq"
      }
    },
    {
      "cell_type": "code",
      "source": [
        "import pandas as pd\n",
        "import numpy as np\n",
        "import matplotlib.pyplot as plt\n",
        "import zipfile\n",
        "import torch\n",
        "import torchvision.transforms as transforms\n",
        "from PIL import Image\n",
        "import cv2"
      ],
      "metadata": {
        "id": "ESZ6KgYPZ6cx"
      },
      "execution_count": 29,
      "outputs": []
    },
    {
      "cell_type": "markdown",
      "source": [
        "# Image data 가져오기\n",
        "https://www.kaggle.com/datasets/zalando-research/fashionmnist/data\n",
        "\n",
        "###위 링크의 fashion mnist 데이터의 train dataset과 test dataset을 가져오세요.\n",
        "(데이터의 용량이 크니 직접 다운로드 하지 말고 코드를 이용해 가져오도록 해보세요.)"
      ],
      "metadata": {
        "id": "BoFZSdXiYdE3"
      }
    },
    {
      "cell_type": "code",
      "source": [
        "from google.colab import drive\n",
        "drive.mount('/content/drive')"
      ],
      "metadata": {
        "colab": {
          "base_uri": "https://localhost:8080/"
        },
        "id": "jHrovqeDJFb5",
        "outputId": "9f70fe8f-6a87-409d-d412-343cb2415fb9"
      },
      "execution_count": 30,
      "outputs": [
        {
          "output_type": "stream",
          "name": "stdout",
          "text": [
            "Drive already mounted at /content/drive; to attempt to forcibly remount, call drive.mount(\"/content/drive\", force_remount=True).\n"
          ]
        }
      ]
    },
    {
      "cell_type": "code",
      "execution_count": 31,
      "metadata": {
        "id": "TFSDQfGrYSls"
      },
      "outputs": [],
      "source": [
        "import zipfile\n",
        "\n",
        "# 압축 파일 경로\n",
        "zip_path1 = '/content/drive/MyDrive/DAT/fashion-mnist_train.csv.zip'\n",
        "zip_path2 = '/content/drive/MyDrive/DAT/fashion-mnist_test.csv.zip'\n",
        "# 압축 해제 경로\n",
        "extract_path = '/content/drive/MyDrive/DAT/'\n",
        "\n",
        "# train\n",
        "with zipfile.ZipFile(zip_path1, 'r') as zip_ref:\n",
        "    zip_ref.extractall(extract_path)\n",
        "# test\n",
        "with zipfile.ZipFile(zip_path2, 'r') as zip_ref:\n",
        "    zip_ref.extractall(extract_path)"
      ]
    },
    {
      "cell_type": "code",
      "source": [
        "train_df = pd.read_csv('/content/drive/MyDrive/DAT/fashion-mnist_train.csv')\n",
        "test_df = pd.read_csv('/content/drive/MyDrive/DAT/fashion-mnist_test.csv')"
      ],
      "metadata": {
        "id": "l-UeKH9ELME1"
      },
      "execution_count": 32,
      "outputs": []
    },
    {
      "cell_type": "markdown",
      "source": [
        "###데이터에 대한 정보들을 보여주세요.\n",
        "(필수: 요약, 모양, 크기, 결측치 여부 등)"
      ],
      "metadata": {
        "id": "vlj3YLp0ZOFq"
      }
    },
    {
      "cell_type": "code",
      "source": [
        "# 요약\n",
        "print('[train데이터 요약]')\n",
        "print(train_df.info())\n",
        "print('\\n[test데이터 요약]')\n",
        "print(test_df.info())"
      ],
      "metadata": {
        "id": "LYFeoZOuZfVL",
        "colab": {
          "base_uri": "https://localhost:8080/"
        },
        "outputId": "67a2c602-143c-4610-aaa6-462d388a9bd7"
      },
      "execution_count": 33,
      "outputs": [
        {
          "output_type": "stream",
          "name": "stdout",
          "text": [
            "[train데이터 요약]\n",
            "<class 'pandas.core.frame.DataFrame'>\n",
            "RangeIndex: 60000 entries, 0 to 59999\n",
            "Columns: 785 entries, label to pixel784\n",
            "dtypes: int64(785)\n",
            "memory usage: 359.3 MB\n",
            "None\n",
            "\n",
            "[test데이터 요약]\n",
            "<class 'pandas.core.frame.DataFrame'>\n",
            "RangeIndex: 10000 entries, 0 to 9999\n",
            "Columns: 785 entries, label to pixel784\n",
            "dtypes: int64(785)\n",
            "memory usage: 59.9 MB\n",
            "None\n"
          ]
        }
      ]
    },
    {
      "cell_type": "code",
      "source": [
        "# 모양\n",
        "print('[train데이터 모양]')\n",
        "print(train_df.shape)\n",
        "print('\\n[test데이터 모양]')\n",
        "print(test_df.shape)"
      ],
      "metadata": {
        "colab": {
          "base_uri": "https://localhost:8080/"
        },
        "id": "H27C2MT7LolD",
        "outputId": "313470cc-f589-4f8a-da4a-3615e5cc9543"
      },
      "execution_count": 34,
      "outputs": [
        {
          "output_type": "stream",
          "name": "stdout",
          "text": [
            "[train데이터 모양]\n",
            "(60000, 785)\n",
            "\n",
            "[test데이터 모양]\n",
            "(10000, 785)\n"
          ]
        }
      ]
    },
    {
      "cell_type": "code",
      "source": [
        "# 크기 (전체 요소 개수)\n",
        "print('[train데이터 크기]')\n",
        "print(train_df.size)\n",
        "print('\\n[test데이터 크기]')\n",
        "print(test_df.size)"
      ],
      "metadata": {
        "id": "Lee92REBaJfv",
        "colab": {
          "base_uri": "https://localhost:8080/"
        },
        "outputId": "502e6446-db25-44ee-beaa-d4570aabc80d"
      },
      "execution_count": 35,
      "outputs": [
        {
          "output_type": "stream",
          "name": "stdout",
          "text": [
            "[train데이터 크기]\n",
            "47100000\n",
            "\n",
            "[test데이터 크기]\n",
            "7850000\n"
          ]
        }
      ]
    },
    {
      "cell_type": "code",
      "source": [
        "# 결측치 여부\n",
        "print('[train데이터 결측치 여부]')\n",
        "print(train_df.isnull().sum())      #컬럼별 결측치 개수\n",
        "print('\\n[test데이터 결측치 여부]')\n",
        "print(test_df.isnull().sum())"
      ],
      "metadata": {
        "colab": {
          "base_uri": "https://localhost:8080/"
        },
        "id": "LDgROn31MRws",
        "outputId": "a6f54ae4-411f-4407-cc8b-5581388c1e5a"
      },
      "execution_count": 36,
      "outputs": [
        {
          "output_type": "stream",
          "name": "stdout",
          "text": [
            "[train데이터 결측치 여부]\n",
            "label       0\n",
            "pixel1      0\n",
            "pixel2      0\n",
            "pixel3      0\n",
            "pixel4      0\n",
            "           ..\n",
            "pixel780    0\n",
            "pixel781    0\n",
            "pixel782    0\n",
            "pixel783    0\n",
            "pixel784    0\n",
            "Length: 785, dtype: int64\n",
            "\n",
            "[test데이터 결측치 여부]\n",
            "label       0\n",
            "pixel1      0\n",
            "pixel2      0\n",
            "pixel3      0\n",
            "pixel4      0\n",
            "           ..\n",
            "pixel780    0\n",
            "pixel781    0\n",
            "pixel782    0\n",
            "pixel783    0\n",
            "pixel784    0\n",
            "Length: 785, dtype: int64\n"
          ]
        }
      ]
    },
    {
      "cell_type": "markdown",
      "source": [
        "### Data중 첫 번째 이미지를 보여주세요."
      ],
      "metadata": {
        "id": "756WyhW1ZgRK"
      }
    },
    {
      "cell_type": "code",
      "source": [
        "train_df.head(1)"
      ],
      "metadata": {
        "colab": {
          "base_uri": "https://localhost:8080/",
          "height": 130
        },
        "id": "l5A2m1mxMPxr",
        "outputId": "55372293-c6ae-463b-9d54-c7b66596283a"
      },
      "execution_count": 37,
      "outputs": [
        {
          "output_type": "execute_result",
          "data": {
            "text/plain": [
              "   label  pixel1  pixel2  pixel3  pixel4  pixel5  pixel6  pixel7  pixel8  \\\n",
              "0      2       0       0       0       0       0       0       0       0   \n",
              "\n",
              "   pixel9  ...  pixel775  pixel776  pixel777  pixel778  pixel779  pixel780  \\\n",
              "0       0  ...         0         0         0         0         0         0   \n",
              "\n",
              "   pixel781  pixel782  pixel783  pixel784  \n",
              "0         0         0         0         0  \n",
              "\n",
              "[1 rows x 785 columns]"
            ],
            "text/html": [
              "\n",
              "  <div id=\"df-b094d5c4-d8c1-47c7-a475-f94f5d9577d1\" class=\"colab-df-container\">\n",
              "    <div>\n",
              "<style scoped>\n",
              "    .dataframe tbody tr th:only-of-type {\n",
              "        vertical-align: middle;\n",
              "    }\n",
              "\n",
              "    .dataframe tbody tr th {\n",
              "        vertical-align: top;\n",
              "    }\n",
              "\n",
              "    .dataframe thead th {\n",
              "        text-align: right;\n",
              "    }\n",
              "</style>\n",
              "<table border=\"1\" class=\"dataframe\">\n",
              "  <thead>\n",
              "    <tr style=\"text-align: right;\">\n",
              "      <th></th>\n",
              "      <th>label</th>\n",
              "      <th>pixel1</th>\n",
              "      <th>pixel2</th>\n",
              "      <th>pixel3</th>\n",
              "      <th>pixel4</th>\n",
              "      <th>pixel5</th>\n",
              "      <th>pixel6</th>\n",
              "      <th>pixel7</th>\n",
              "      <th>pixel8</th>\n",
              "      <th>pixel9</th>\n",
              "      <th>...</th>\n",
              "      <th>pixel775</th>\n",
              "      <th>pixel776</th>\n",
              "      <th>pixel777</th>\n",
              "      <th>pixel778</th>\n",
              "      <th>pixel779</th>\n",
              "      <th>pixel780</th>\n",
              "      <th>pixel781</th>\n",
              "      <th>pixel782</th>\n",
              "      <th>pixel783</th>\n",
              "      <th>pixel784</th>\n",
              "    </tr>\n",
              "  </thead>\n",
              "  <tbody>\n",
              "    <tr>\n",
              "      <th>0</th>\n",
              "      <td>2</td>\n",
              "      <td>0</td>\n",
              "      <td>0</td>\n",
              "      <td>0</td>\n",
              "      <td>0</td>\n",
              "      <td>0</td>\n",
              "      <td>0</td>\n",
              "      <td>0</td>\n",
              "      <td>0</td>\n",
              "      <td>0</td>\n",
              "      <td>...</td>\n",
              "      <td>0</td>\n",
              "      <td>0</td>\n",
              "      <td>0</td>\n",
              "      <td>0</td>\n",
              "      <td>0</td>\n",
              "      <td>0</td>\n",
              "      <td>0</td>\n",
              "      <td>0</td>\n",
              "      <td>0</td>\n",
              "      <td>0</td>\n",
              "    </tr>\n",
              "  </tbody>\n",
              "</table>\n",
              "<p>1 rows × 785 columns</p>\n",
              "</div>\n",
              "    <div class=\"colab-df-buttons\">\n",
              "\n",
              "  <div class=\"colab-df-container\">\n",
              "    <button class=\"colab-df-convert\" onclick=\"convertToInteractive('df-b094d5c4-d8c1-47c7-a475-f94f5d9577d1')\"\n",
              "            title=\"Convert this dataframe to an interactive table.\"\n",
              "            style=\"display:none;\">\n",
              "\n",
              "  <svg xmlns=\"http://www.w3.org/2000/svg\" height=\"24px\" viewBox=\"0 -960 960 960\">\n",
              "    <path d=\"M120-120v-720h720v720H120Zm60-500h600v-160H180v160Zm220 220h160v-160H400v160Zm0 220h160v-160H400v160ZM180-400h160v-160H180v160Zm440 0h160v-160H620v160ZM180-180h160v-160H180v160Zm440 0h160v-160H620v160Z\"/>\n",
              "  </svg>\n",
              "    </button>\n",
              "\n",
              "  <style>\n",
              "    .colab-df-container {\n",
              "      display:flex;\n",
              "      gap: 12px;\n",
              "    }\n",
              "\n",
              "    .colab-df-convert {\n",
              "      background-color: #E8F0FE;\n",
              "      border: none;\n",
              "      border-radius: 50%;\n",
              "      cursor: pointer;\n",
              "      display: none;\n",
              "      fill: #1967D2;\n",
              "      height: 32px;\n",
              "      padding: 0 0 0 0;\n",
              "      width: 32px;\n",
              "    }\n",
              "\n",
              "    .colab-df-convert:hover {\n",
              "      background-color: #E2EBFA;\n",
              "      box-shadow: 0px 1px 2px rgba(60, 64, 67, 0.3), 0px 1px 3px 1px rgba(60, 64, 67, 0.15);\n",
              "      fill: #174EA6;\n",
              "    }\n",
              "\n",
              "    .colab-df-buttons div {\n",
              "      margin-bottom: 4px;\n",
              "    }\n",
              "\n",
              "    [theme=dark] .colab-df-convert {\n",
              "      background-color: #3B4455;\n",
              "      fill: #D2E3FC;\n",
              "    }\n",
              "\n",
              "    [theme=dark] .colab-df-convert:hover {\n",
              "      background-color: #434B5C;\n",
              "      box-shadow: 0px 1px 3px 1px rgba(0, 0, 0, 0.15);\n",
              "      filter: drop-shadow(0px 1px 2px rgba(0, 0, 0, 0.3));\n",
              "      fill: #FFFFFF;\n",
              "    }\n",
              "  </style>\n",
              "\n",
              "    <script>\n",
              "      const buttonEl =\n",
              "        document.querySelector('#df-b094d5c4-d8c1-47c7-a475-f94f5d9577d1 button.colab-df-convert');\n",
              "      buttonEl.style.display =\n",
              "        google.colab.kernel.accessAllowed ? 'block' : 'none';\n",
              "\n",
              "      async function convertToInteractive(key) {\n",
              "        const element = document.querySelector('#df-b094d5c4-d8c1-47c7-a475-f94f5d9577d1');\n",
              "        const dataTable =\n",
              "          await google.colab.kernel.invokeFunction('convertToInteractive',\n",
              "                                                    [key], {});\n",
              "        if (!dataTable) return;\n",
              "\n",
              "        const docLinkHtml = 'Like what you see? Visit the ' +\n",
              "          '<a target=\"_blank\" href=https://colab.research.google.com/notebooks/data_table.ipynb>data table notebook</a>'\n",
              "          + ' to learn more about interactive tables.';\n",
              "        element.innerHTML = '';\n",
              "        dataTable['output_type'] = 'display_data';\n",
              "        await google.colab.output.renderOutput(dataTable, element);\n",
              "        const docLink = document.createElement('div');\n",
              "        docLink.innerHTML = docLinkHtml;\n",
              "        element.appendChild(docLink);\n",
              "      }\n",
              "    </script>\n",
              "  </div>\n",
              "\n",
              "\n",
              "    </div>\n",
              "  </div>\n"
            ],
            "application/vnd.google.colaboratory.intrinsic+json": {
              "type": "dataframe",
              "variable_name": "train_df"
            }
          },
          "metadata": {},
          "execution_count": 37
        }
      ]
    },
    {
      "cell_type": "code",
      "source": [
        "pixel_count = train_df.shape[1] - 1  # 레이블 제외한 픽셀 개수\n",
        "\n",
        "# 이미지 크기 추정\n",
        "image_size = int(pixel_count ** 0.5)\n",
        "print(f\"이미지 크기: {image_size}x{image_size}\")\n",
        "\n",
        "# 픽셀 개수가 1024이면 32*32\n",
        "#             784이면 28*28"
      ],
      "metadata": {
        "colab": {
          "base_uri": "https://localhost:8080/"
        },
        "id": "2RINvEKFObK6",
        "outputId": "68fcd7ee-fbba-4534-a018-2fbf40cb78ef"
      },
      "execution_count": 38,
      "outputs": [
        {
          "output_type": "stream",
          "name": "stdout",
          "text": [
            "이미지 크기: 28x28\n"
          ]
        }
      ]
    },
    {
      "cell_type": "code",
      "source": [
        "# 레이블을 제외한 픽셀 데이터만 추출\n",
        "first_img = train_df.iloc[0,1:].values\n",
        "\n",
        "# 픽셀 데이터를 배열(28*28)로 변환\n",
        "img_array = first_img.reshape(28, 28)\n",
        "\n",
        "plt.imshow(img_array, cmap='gray')\n",
        "plt.axis('off')\n",
        "plt.show()"
      ],
      "metadata": {
        "colab": {
          "base_uri": "https://localhost:8080/",
          "height": 406
        },
        "id": "fhUYqr-gNmo0",
        "outputId": "c3773cbb-3046-4502-cc59-8692dde45a6f"
      },
      "execution_count": 39,
      "outputs": [
        {
          "output_type": "display_data",
          "data": {
            "text/plain": [
              "<Figure size 640x480 with 1 Axes>"
            ],
            "image/png": "[encoded data removed]"
          },
          "metadata": {}
        }
      ]
    },
    {
      "cell_type": "markdown",
      "source": [
        "# 이미지 전처리"
      ],
      "metadata": {
        "id": "AP57A114aLMw"
      }
    },
    {
      "cell_type": "markdown",
      "source": [
        "### 이미지 데이터를 머신러닝에 이용하기 편한 형태로 바꾸어 합니다.\n",
        "(torch model 사용 - tensor 형태로 바꾸기 등)"
      ],
      "metadata": {
        "id": "4zlBjqeBa3Wr"
      }
    },
    {
      "cell_type": "code",
      "source": [
        "import torch\n",
        "from torchvision import transforms\n",
        "from torch.utils.data import DataLoader, TensorDataset\n",
        "\n",
        "# 레이블과 픽셀 데이터 분리\n",
        "\n",
        "# 레이블은 정수형 텐서로 변환\n",
        "train_labels = torch.tensor(train_df.iloc[:, 0].values, dtype=torch.long)\n",
        "test_labels = torch.tensor(test_df.iloc[:, 0].values, dtype=torch.long)\n",
        "\n",
        "# 이미지 데이터는 실수형 텐서로 변환\n",
        "train_pixels = torch.tensor(train_df.iloc[:, 1:].values, dtype=torch.float32)\n",
        "test_pixels = torch.tensor(test_df.iloc[:, 1:].values, dtype=torch.float32)"
      ],
      "metadata": {
        "id": "NmwJq5lgaKdH"
      },
      "execution_count": 40,
      "outputs": []
    },
    {
      "cell_type": "markdown",
      "source": [
        "데이터를 텐서로 변환하면\n",
        "- PyTorch 모델에 데이터를 직접 입력 가능\n",
        "- DataLoader에 사용 가능 (배치 형태, 셔플, 증강 등)\n",
        "- 속도 향상 등"
      ],
      "metadata": {
        "id": "nSSfnw9EREka"
      }
    },
    {
      "cell_type": "markdown",
      "source": [
        "### 이미지 데이터는 픽셀 값이 0 - 255로 이루어져 있습니다. 이 값을 0 - 1까지의 값으로 normalize 해주세요."
      ],
      "metadata": {
        "id": "3SsW999JbC8x"
      }
    },
    {
      "cell_type": "code",
      "source": [
        "# 이미지 데이터 정규화 (0 - 255 사이 값을 0 - 1로 변환)\n",
        "train_pixels = train_pixels / 255.0\n",
        "\n",
        "# 이미지 데이터를 28x28 크기의 2D 텐서로 변환\n",
        "train_pixels = train_pixels.view(-1, 1, 28, 28)  # (배치 크기, 채널, 높이, 너비) 형태로 변환\n",
        "\n",
        "print(f\"정규화된 이미지 텐서 크기: {train_pixels.shape}\")  # torch.Size([배치크기, 채널, 높이, 너비])\n",
        "print(f\"정규화된 첫 번째 이미지 데이터:\\n{train_pixels[0]}\")"
      ],
      "metadata": {
        "id": "1fIrEfrCbKBa",
        "colab": {
          "base_uri": "https://localhost:8080/"
        },
        "outputId": "5a7ba888-9fc9-4be5-b411-a8e981e9f856"
      },
      "execution_count": 41,
      "outputs": [
        {
          "output_type": "stream",
          "name": "stdout",
          "text": [
            "정규화된 이미지 텐서 크기: torch.Size([60000, 1, 28, 28])\n",
            "정규화된 첫 번째 이미지 데이터:\n",
            "tensor([[[0.0000, 0.0000, 0.0000, 0.0000, 0.0000, 0.0000, 0.0000, 0.0000,\n",
            "          0.0000, 0.0000, 0.0000, 0.0000, 0.0000, 0.0000, 0.0000, 0.0000,\n",
            "          0.0000, 0.0000, 0.0000, 0.0000, 0.0000, 0.0000, 0.0000, 0.0000,\n",
            "          0.0000, 0.0000, 0.0000, 0.0000],\n",
            "         [0.0000, 0.0000, 0.0000, 0.0000, 0.0000, 0.0000, 0.0000, 0.0000,\n",
            "          0.0000, 0.0000, 0.0000, 0.0000, 0.0000, 0.0000, 0.0000, 0.0000,\n",
            "          0.0000, 0.0000, 0.0000, 0.0000, 0.0000, 0.0000, 0.0000, 0.0000,\n",
            "          0.0000, 0.0000, 0.0000, 0.0000],\n",
            "         [0.0000, 0.0000, 0.0000, 0.0000, 0.0000, 0.0000, 0.0000, 0.0000,\n",
            "          0.0000, 0.0000, 0.0000, 0.0000, 0.0000, 0.0000, 0.0000, 0.0000,\n",
            "          0.0000, 0.0000, 0.0000, 0.0000, 0.0000, 0.0000, 0.0000, 0.0000,\n",
            "          0.0000, 0.0000, 0.0000, 0.0000],\n",
            "         [0.0000, 0.0000, 0.0000, 0.0000, 0.0157, 0.0000, 0.0000, 0.0000,\n",
            "          0.0000, 0.0000, 0.2431, 0.2392, 0.0824, 0.1137, 0.0902, 0.2000,\n",
            "          0.5333, 0.2392, 0.0000, 0.0000, 0.0000, 0.0000, 0.0000, 0.0000,\n",
            "          0.0000, 0.0000, 0.0000, 0.0000],\n",
            "         [0.0000, 0.0000, 0.0000, 0.0000, 0.0000, 0.0000, 0.0000, 0.3451,\n",
            "          0.7882, 0.8941, 0.8824, 1.0000, 0.4510, 0.2431, 0.5373, 1.0000,\n",
            "          0.9216, 0.8706, 1.0000, 0.5294, 0.0000, 0.0000, 0.0000, 0.0000,\n",
            "          0.0000, 0.0000, 0.0000, 0.0000],\n",
            "         [0.0000, 0.0000, 0.0000, 0.0000, 0.0000, 0.1843, 0.9882, 0.9176,\n",
            "          0.9333, 0.8784, 0.8431, 0.8431, 0.8980, 0.4235, 0.7059, 0.8118,\n",
            "          0.8392, 0.8784, 0.9059, 0.9765, 0.9961, 0.1765, 0.0000, 0.0000,\n",
            "          0.0000, 0.0000, 0.0000, 0.0000],\n",
            "         [0.0000, 0.0000, 0.0039, 0.0000, 0.0000, 0.8392, 0.8706, 0.8235,\n",
            "          0.8353, 0.8784, 0.8824, 0.8510, 0.8627, 0.9961, 0.9137, 0.8588,\n",
            "          0.8667, 0.8510, 0.8745, 0.8667, 0.9412, 0.9961, 0.0000, 0.0000,\n",
            "          0.0039, 0.0000, 0.0000, 0.0000],\n",
            "         [0.0039, 0.0000, 0.0000, 0.0000, 0.5020, 0.9294, 0.8118, 0.8784,\n",
            "          0.8784, 0.8118, 0.8471, 0.8392, 0.8235, 0.8157, 0.8275, 0.8667,\n",
            "          0.8157, 0.8588, 0.8353, 0.8863, 0.8275, 0.9294, 0.5882, 0.0000,\n",
            "          0.0000, 0.0000, 0.0000, 0.0000],\n",
            "         [0.0000, 0.0078, 0.0000, 0.0000, 0.9294, 0.8706, 0.8431, 0.8118,\n",
            "          0.8235, 0.8314, 0.8353, 0.8078, 0.8392, 0.8353, 0.8392, 0.8353,\n",
            "          0.8235, 0.8431, 0.8392, 0.8078, 0.7804, 0.8549, 1.0000, 0.0510,\n",
            "          0.0000, 0.0078, 0.0000, 0.0000],\n",
            "         [0.0000, 0.0157, 0.0000, 0.3333, 0.8941, 0.8235, 0.8549, 0.7843,\n",
            "          0.8275, 0.8157, 0.7961, 0.8431, 0.8235, 0.8196, 0.8196, 0.8235,\n",
            "          0.8353, 0.8275, 0.8235, 0.8510, 0.8078, 0.8353, 0.9059, 0.6863,\n",
            "          0.0000, 0.0000, 0.0000, 0.0000],\n",
            "         [0.0000, 0.0000, 0.0000, 0.8510, 0.8784, 0.8431, 0.8078, 0.8039,\n",
            "          0.8000, 0.8510, 0.9020, 0.8706, 0.8431, 0.8784, 0.9137, 0.8941,\n",
            "          0.9098, 0.8941, 0.8784, 0.8118, 0.8314, 0.8431, 0.8353, 0.8980,\n",
            "          0.1216, 0.0000, 0.0157, 0.0000],\n",
            "         [0.0039, 0.0000, 0.0824, 0.8824, 0.8314, 0.8314, 0.7961, 0.8275,\n",
            "          0.8824, 0.7569, 0.5451, 0.5333, 0.7647, 0.5765, 0.6118, 0.5451,\n",
            "          0.5020, 0.6353, 0.7725, 0.8745, 0.8118, 0.8627, 0.8353, 0.9098,\n",
            "          0.6941, 0.0000, 0.0000, 0.0000],\n",
            "         [0.0000, 0.0000, 0.4824, 0.8863, 0.8118, 0.8275, 0.8196, 0.8039,\n",
            "          0.8941, 0.6196, 0.3529, 0.4039, 0.7294, 0.5412, 0.3922, 0.4745,\n",
            "          0.5765, 0.6196, 0.7176, 0.8863, 0.8157, 0.8392, 0.8196, 0.8471,\n",
            "          1.0000, 0.0510, 0.0000, 0.0039],\n",
            "         [0.0000, 0.0000, 0.8863, 0.8588, 0.7922, 0.8157, 0.8078, 0.8039,\n",
            "          0.8471, 0.7216, 0.6118, 0.5882, 0.7569, 0.6667, 0.6431, 0.6588,\n",
            "          0.7373, 0.7294, 0.7843, 0.8588, 0.8471, 0.8353, 0.8353, 0.8275,\n",
            "          0.9137, 0.5804, 0.0000, 0.0000],\n",
            "         [0.0000, 0.1765, 0.8902, 0.8000, 0.8392, 0.8275, 0.8549, 0.8706,\n",
            "          0.8667, 0.9020, 0.8980, 0.8667, 0.8353, 0.8784, 0.9137, 0.8863,\n",
            "          0.8627, 0.8588, 0.8667, 0.8784, 0.8745, 0.8510, 0.8235, 0.8549,\n",
            "          0.8353, 0.9961, 0.0000, 0.0000],\n",
            "         [0.0000, 0.6157, 0.8863, 0.7961, 0.8118, 0.8275, 0.8196, 0.8431,\n",
            "          0.8039, 0.7765, 0.8118, 0.8157, 0.7882, 0.7882, 0.7725, 0.7961,\n",
            "          0.8039, 0.8235, 0.8118, 0.8353, 0.8392, 0.8392, 0.8392, 0.8353,\n",
            "          0.8157, 0.9176, 0.4196, 0.0000],\n",
            "         [0.0000, 0.9216, 0.8353, 0.8000, 0.8275, 0.8235, 0.8196, 0.8353,\n",
            "          0.7922, 0.7725, 0.8000, 0.8431, 0.8510, 0.8353, 0.8314, 0.8235,\n",
            "          0.8078, 0.8314, 0.7961, 0.8275, 0.8549, 0.8431, 0.8392, 0.8157,\n",
            "          0.8196, 0.8706, 0.9020, 0.0000],\n",
            "         [0.2039, 1.0000, 0.8118, 0.7843, 0.8157, 0.8353, 0.8235, 0.8235,\n",
            "          0.8157, 0.8118, 0.7922, 0.7882, 0.8196, 0.8471, 0.8471, 0.8471,\n",
            "          0.8471, 0.8392, 0.8314, 0.8039, 0.8431, 0.7882, 0.8941, 0.8157,\n",
            "          0.8392, 0.8314, 0.8549, 0.0980],\n",
            "         [0.4627, 0.8510, 0.7882, 0.8078, 0.8157, 0.8353, 0.8157, 0.8039,\n",
            "          0.8078, 0.8235, 0.8275, 0.7922, 0.7804, 0.8118, 0.8157, 0.8196,\n",
            "          0.8235, 0.8118, 0.8235, 0.8235, 0.9608, 0.5451, 0.4667, 1.0000,\n",
            "          0.7922, 0.7961, 0.9255, 0.4471],\n",
            "         [0.6706, 0.9333, 0.8314, 0.7961, 0.8627, 0.8471, 0.8510, 0.8196,\n",
            "          0.8118, 0.8039, 0.8235, 0.8275, 0.8078, 0.8000, 0.8078, 0.8196,\n",
            "          0.8275, 0.8431, 0.8235, 0.8078, 0.8667, 0.9490, 0.0000, 0.8784,\n",
            "          0.9176, 0.9020, 0.7098, 0.1020],\n",
            "         [0.1529, 0.5686, 0.7882, 1.0000, 0.6157, 0.4510, 0.9804, 0.7843,\n",
            "          0.8118, 0.8078, 0.8118, 0.8353, 0.8471, 0.8078, 0.8039, 0.8078,\n",
            "          0.8118, 0.8078, 0.8431, 0.8118, 0.8667, 0.9333, 0.0000, 0.0000,\n",
            "          0.7373, 0.3333, 0.0000, 0.0000],\n",
            "         [0.0000, 0.0000, 0.0000, 0.1216, 0.0000, 0.5059, 0.9922, 0.7451,\n",
            "          0.8118, 0.8157, 0.8157, 0.8157, 0.8196, 0.8275, 0.8275, 0.8196,\n",
            "          0.8196, 0.8196, 0.8314, 0.7882, 0.8863, 0.6471, 0.0000, 0.0000,\n",
            "          0.0000, 0.0000, 0.0000, 0.0000],\n",
            "         [0.0078, 0.0000, 0.0000, 0.0000, 0.0000, 0.3490, 0.9961, 0.7804,\n",
            "          0.7804, 0.7529, 0.7686, 0.7765, 0.7804, 0.7882, 0.7922, 0.7961,\n",
            "          0.8000, 0.7961, 0.7961, 0.7843, 0.8706, 0.6078, 0.0000, 0.0118,\n",
            "          0.0118, 0.0118, 0.0078, 0.0000],\n",
            "         [0.0000, 0.0000, 0.0039, 0.0196, 0.0000, 0.0000, 1.0000, 0.8549,\n",
            "          0.8863, 0.9098, 0.8941, 0.8784, 0.8706, 0.8627, 0.8588, 0.8588,\n",
            "          0.8510, 0.8667, 0.8627, 0.8314, 0.9255, 0.3725, 0.0000, 0.0078,\n",
            "          0.0000, 0.0000, 0.0000, 0.0000],\n",
            "         [0.0000, 0.0000, 0.0000, 0.0000, 0.0000, 0.0000, 0.6078, 0.7608,\n",
            "          0.6588, 0.6667, 0.6706, 0.6784, 0.6784, 0.7020, 0.6941, 0.6863,\n",
            "          0.6745, 0.6706, 0.6549, 0.6314, 0.7059, 0.0000, 0.0000, 0.0039,\n",
            "          0.0000, 0.0039, 0.0000, 0.0000],\n",
            "         [0.0000, 0.0000, 0.0000, 0.0000, 0.0000, 0.0000, 0.0000, 0.0000,\n",
            "          0.0000, 0.0000, 0.0000, 0.0000, 0.0000, 0.0000, 0.0000, 0.0000,\n",
            "          0.0000, 0.0000, 0.0000, 0.0000, 0.0000, 0.0000, 0.0000, 0.0000,\n",
            "          0.0000, 0.0000, 0.0000, 0.0000],\n",
            "         [0.0000, 0.0000, 0.0000, 0.0000, 0.0000, 0.0000, 0.0000, 0.0000,\n",
            "          0.0000, 0.0000, 0.0000, 0.0000, 0.0000, 0.0000, 0.0000, 0.0000,\n",
            "          0.0000, 0.0000, 0.0000, 0.0000, 0.0000, 0.0000, 0.0000, 0.0000,\n",
            "          0.0000, 0.0000, 0.0000, 0.0000],\n",
            "         [0.0000, 0.0000, 0.0000, 0.0000, 0.0000, 0.0000, 0.0000, 0.0000,\n",
            "          0.0000, 0.0000, 0.0000, 0.0000, 0.0000, 0.0000, 0.0000, 0.0000,\n",
            "          0.0000, 0.0000, 0.0000, 0.0000, 0.0000, 0.0000, 0.0000, 0.0000,\n",
            "          0.0000, 0.0000, 0.0000, 0.0000]]])\n"
          ]
        }
      ]
    },
    {
      "cell_type": "markdown",
      "source": [
        "### 추가적인 이미지 전처리를 진행해주세요.\n",
        "(차원을 수정하는 것은 뒤의 문제에서 진행할 것이므로 여기에서 하지 마세요.)"
      ],
      "metadata": {
        "id": "PezsmRgWbdPg"
      }
    },
    {
      "cell_type": "code",
      "source": [
        "# 디노이징으로 노이즈 제거\n",
        "import torch\n",
        "import torchvision.transforms as transforms\n",
        "from PIL import Image, ImageFilter\n",
        "\n",
        "# Gaussian Blur 필터를 적용할 수 있는 함수 정의\n",
        "def denoise_image_tensor(image_tensor):\n",
        "    # PyTorch 텐서를 PIL 이미지로 변환 (채널, 높이, 너비 순서를 높이, 너비, 채널로 변환)\n",
        "    pil_image = transforms.ToPILImage()(image_tensor.squeeze(0))  # (1, 28, 28) -> (28, 28)\n",
        "\n",
        "    # Gaussian Blur 필터 적용\n",
        "    denoised_image = pil_image.filter(ImageFilter.GaussianBlur(radius=1))\n",
        "\n",
        "    # PIL 이미지를 다시 텐서로 변환\n",
        "    denoised_tensor = transforms.ToTensor()(denoised_image).unsqueeze(0)  # (28, 28) -> (1, 28, 28)\n",
        "    return denoised_tensor\n",
        "\n",
        "# 모든 이미지에 필터 적용\n",
        "denoised_train_pixels = torch.stack([denoise_image_tensor(img) for img in train_pixels])\n",
        "\n",
        "print(f\"데노이징된 이미지 텐서 크기: {denoised_train_pixels.shape}\")\n",
        "print(f\"데노이징된 첫 번째 이미지 데이터:\\n{denoised_train_pixels[0]}\")\n"
      ],
      "metadata": {
        "id": "MpU6ZzPLbkD1",
        "colab": {
          "base_uri": "https://localhost:8080/"
        },
        "outputId": "b74b8422-9843-4814-9204-573285350375"
      },
      "execution_count": 42,
      "outputs": [
        {
          "output_type": "stream",
          "name": "stdout",
          "text": [
            "데노이징된 이미지 텐서 크기: torch.Size([60000, 1, 1, 28, 28])\n",
            "데노이징된 첫 번째 이미지 데이터:\n",
            "tensor([[[[0.0000, 0.0000, 0.0000, 0.0000, 0.0000, 0.0000, 0.0000, 0.0000,\n",
            "           0.0000, 0.0000, 0.0000, 0.0000, 0.0000, 0.0000, 0.0000, 0.0000,\n",
            "           0.0000, 0.0000, 0.0000, 0.0000, 0.0000, 0.0000, 0.0000, 0.0000,\n",
            "           0.0000, 0.0000, 0.0000, 0.0000],\n",
            "          [0.0000, 0.0000, 0.0000, 0.0000, 0.0000, 0.0000, 0.0000, 0.0000,\n",
            "           0.0039, 0.0078, 0.0118, 0.0118, 0.0118, 0.0078, 0.0118, 0.0157,\n",
            "           0.0196, 0.0196, 0.0078, 0.0039, 0.0000, 0.0000, 0.0000, 0.0000,\n",
            "           0.0000, 0.0000, 0.0000, 0.0000],\n",
            "          [0.0000, 0.0000, 0.0000, 0.0000, 0.0000, 0.0039, 0.0118, 0.0275,\n",
            "           0.0471, 0.0667, 0.0902, 0.0902, 0.0667, 0.0549, 0.0706, 0.1059,\n",
            "           0.1294, 0.1098, 0.0706, 0.0353, 0.0118, 0.0039, 0.0000, 0.0000,\n",
            "           0.0000, 0.0000, 0.0000, 0.0000],\n",
            "          [0.0000, 0.0000, 0.0000, 0.0039, 0.0078, 0.0275, 0.0706, 0.1412,\n",
            "           0.2196, 0.2784, 0.3216, 0.3098, 0.2353, 0.1922, 0.2431, 0.3412,\n",
            "           0.3961, 0.3608, 0.2745, 0.1804, 0.0902, 0.0275, 0.0078, 0.0000,\n",
            "           0.0000, 0.0000, 0.0000, 0.0000],\n",
            "          [0.0000, 0.0000, 0.0000, 0.0078, 0.0431, 0.1294, 0.2667, 0.4118,\n",
            "           0.5412, 0.6157, 0.6471, 0.6157, 0.4941, 0.4196, 0.4941, 0.6275,\n",
            "           0.6941, 0.6784, 0.6118, 0.4784, 0.2980, 0.1373, 0.0431, 0.0078,\n",
            "           0.0000, 0.0000, 0.0000, 0.0000],\n",
            "          [0.0000, 0.0000, 0.0000, 0.0235, 0.1294, 0.3373, 0.5569, 0.6980,\n",
            "           0.7804, 0.8118, 0.8196, 0.7922, 0.7098, 0.6431, 0.6902, 0.7804,\n",
            "           0.8275, 0.8314, 0.8196, 0.7529, 0.5961, 0.3608, 0.1412, 0.0314,\n",
            "           0.0000, 0.0000, 0.0000, 0.0000],\n",
            "          [0.0000, 0.0000, 0.0118, 0.0784, 0.2745, 0.5529, 0.7451, 0.8235,\n",
            "           0.8471, 0.8510, 0.8510, 0.8431, 0.8196, 0.8000, 0.8157, 0.8392,\n",
            "           0.8471, 0.8588, 0.8627, 0.8549, 0.7882, 0.5922, 0.3020, 0.0902,\n",
            "           0.0157, 0.0000, 0.0000, 0.0000],\n",
            "          [0.0039, 0.0039, 0.0353, 0.1686, 0.4471, 0.7059, 0.8157, 0.8431,\n",
            "           0.8431, 0.8392, 0.8392, 0.8353, 0.8353, 0.8392, 0.8431, 0.8471,\n",
            "           0.8431, 0.8431, 0.8510, 0.8549, 0.8353, 0.7373, 0.4863, 0.1961,\n",
            "           0.0431, 0.0039, 0.0000, 0.0000],\n",
            "          [0.0000, 0.0118, 0.0745, 0.2824, 0.5961, 0.7843, 0.8275, 0.8314,\n",
            "           0.8275, 0.8275, 0.8275, 0.8275, 0.8314, 0.8314, 0.8353, 0.8392,\n",
            "           0.8353, 0.8353, 0.8392, 0.8353, 0.8314, 0.8000, 0.6392, 0.3373,\n",
            "           0.1098, 0.0196, 0.0000, 0.0000],\n",
            "          [0.0078, 0.0314, 0.1490, 0.4118, 0.6941, 0.8118, 0.8275, 0.8196,\n",
            "           0.8157, 0.8196, 0.8196, 0.8196, 0.8275, 0.8275, 0.8275, 0.8275,\n",
            "           0.8275, 0.8353, 0.8353, 0.8314, 0.8275, 0.8235, 0.7451, 0.5020,\n",
            "           0.2118, 0.0510, 0.0039, 0.0000],\n",
            "          [0.0039, 0.0549, 0.2353, 0.5451, 0.7647, 0.8235, 0.8196, 0.8157,\n",
            "           0.8118, 0.7961, 0.7725, 0.7686, 0.7843, 0.7843, 0.7765, 0.7765,\n",
            "           0.7765, 0.7961, 0.8196, 0.8275, 0.8314, 0.8353, 0.8000, 0.6431,\n",
            "           0.3490, 0.1137, 0.0196, 0.0039],\n",
            "          [0.0118, 0.0941, 0.3294, 0.6353, 0.7961, 0.8235, 0.8196, 0.8196,\n",
            "           0.8000, 0.7373, 0.6627, 0.6549, 0.6941, 0.6784, 0.6549, 0.6471,\n",
            "           0.6706, 0.7176, 0.7804, 0.8196, 0.8353, 0.8392, 0.8275, 0.7490,\n",
            "           0.5098, 0.2118, 0.0510, 0.0039],\n",
            "          [0.0314, 0.1686, 0.4549, 0.7098, 0.8078, 0.8196, 0.8157, 0.8157,\n",
            "           0.7922, 0.6980, 0.6000, 0.5961, 0.6471, 0.6314, 0.6000, 0.5961,\n",
            "           0.6392, 0.6941, 0.7647, 0.8196, 0.8353, 0.8353, 0.8353, 0.8039,\n",
            "           0.6471, 0.3333, 0.1020, 0.0157],\n",
            "          [0.0667, 0.2549, 0.5725, 0.7647, 0.8157, 0.8196, 0.8196, 0.8235,\n",
            "           0.8078, 0.7412, 0.6745, 0.6667, 0.6980, 0.6941, 0.6784, 0.6824,\n",
            "           0.7137, 0.7490, 0.7922, 0.8314, 0.8431, 0.8353, 0.8353, 0.8275,\n",
            "           0.7412, 0.4824, 0.1882, 0.0431],\n",
            "          [0.1333, 0.3608, 0.6588, 0.7922, 0.8196, 0.8235, 0.8275, 0.8353,\n",
            "           0.8275, 0.8039, 0.7843, 0.7765, 0.7804, 0.7843, 0.7843, 0.7843,\n",
            "           0.7922, 0.8078, 0.8275, 0.8431, 0.8471, 0.8431, 0.8392, 0.8353,\n",
            "           0.7961, 0.6157, 0.3020, 0.0980],\n",
            "          [0.2275, 0.4902, 0.7294, 0.8078, 0.8157, 0.8235, 0.8275, 0.8275,\n",
            "           0.8196, 0.8118, 0.8118, 0.8157, 0.8118, 0.8157, 0.8157, 0.8157,\n",
            "           0.8157, 0.8235, 0.8275, 0.8353, 0.8431, 0.8431, 0.8392, 0.8314,\n",
            "           0.8196, 0.7098, 0.4392, 0.1882],\n",
            "          [0.3412, 0.6039, 0.7765, 0.8118, 0.8157, 0.8235, 0.8235, 0.8196,\n",
            "           0.8078, 0.8039, 0.8039, 0.8157, 0.8196, 0.8235, 0.8275, 0.8235,\n",
            "           0.8196, 0.8235, 0.8196, 0.8275, 0.8353, 0.8275, 0.8275, 0.8275,\n",
            "           0.8275, 0.7686, 0.5647, 0.2941],\n",
            "          [0.4667, 0.6824, 0.7961, 0.8078, 0.8118, 0.8235, 0.8235, 0.8157,\n",
            "           0.8078, 0.8078, 0.8039, 0.8078, 0.8157, 0.8235, 0.8314, 0.8314,\n",
            "           0.8275, 0.8275, 0.8235, 0.8275, 0.8196, 0.7843, 0.7765, 0.8118,\n",
            "           0.8275, 0.7922, 0.6392, 0.3922],\n",
            "          [0.5686, 0.7176, 0.8000, 0.8039, 0.8078, 0.8157, 0.8196, 0.8157,\n",
            "           0.8078, 0.8118, 0.8118, 0.8078, 0.8078, 0.8118, 0.8196, 0.8235,\n",
            "           0.8235, 0.8235, 0.8275, 0.8314, 0.8078, 0.7176, 0.6627, 0.7412,\n",
            "           0.8039, 0.7725, 0.6353, 0.4314],\n",
            "          [0.5490, 0.6706, 0.7529, 0.7686, 0.7608, 0.7725, 0.8118, 0.8157,\n",
            "           0.8118, 0.8118, 0.8157, 0.8157, 0.8078, 0.8078, 0.8118, 0.8157,\n",
            "           0.8235, 0.8235, 0.8235, 0.8314, 0.8078, 0.6667, 0.5098, 0.5765,\n",
            "           0.6745, 0.6392, 0.4824, 0.3020],\n",
            "          [0.3412, 0.4510, 0.5529, 0.5922, 0.5882, 0.6588, 0.7804, 0.8157,\n",
            "           0.8078, 0.8078, 0.8157, 0.8157, 0.8157, 0.8157, 0.8118, 0.8118,\n",
            "           0.8157, 0.8196, 0.8235, 0.8235, 0.7922, 0.6118, 0.3529, 0.3216,\n",
            "           0.4039, 0.3647, 0.2314, 0.1216],\n",
            "          [0.1216, 0.1725, 0.2392, 0.2784, 0.3333, 0.5216, 0.7451, 0.8078,\n",
            "           0.8039, 0.8039, 0.8078, 0.8118, 0.8157, 0.8157, 0.8157, 0.8118,\n",
            "           0.8157, 0.8157, 0.8157, 0.8118, 0.7608, 0.5412, 0.2431, 0.1255,\n",
            "           0.1412, 0.1255, 0.0627, 0.0275],\n",
            "          [0.0235, 0.0353, 0.0510, 0.0784, 0.1647, 0.4078, 0.6980, 0.8000,\n",
            "           0.8039, 0.8000, 0.8000, 0.8039, 0.8039, 0.8078, 0.8078, 0.8078,\n",
            "           0.8078, 0.8078, 0.8039, 0.7922, 0.7176, 0.4706, 0.1843, 0.0510,\n",
            "           0.0275, 0.0275, 0.0078, 0.0039],\n",
            "          [0.0000, 0.0039, 0.0078, 0.0157, 0.0784, 0.2902, 0.5961, 0.7333,\n",
            "           0.7569, 0.7529, 0.7490, 0.7490, 0.7490, 0.7490, 0.7490, 0.7490,\n",
            "           0.7451, 0.7451, 0.7412, 0.7176, 0.6196, 0.3686, 0.1255, 0.0275,\n",
            "           0.0039, 0.0039, 0.0000, 0.0000],\n",
            "          [0.0000, 0.0000, 0.0000, 0.0039, 0.0353, 0.1686, 0.3882, 0.5098,\n",
            "           0.5333, 0.5294, 0.5294, 0.5294, 0.5294, 0.5294, 0.5294, 0.5294,\n",
            "           0.5255, 0.5216, 0.5176, 0.4941, 0.4039, 0.2118, 0.0627, 0.0078,\n",
            "           0.0000, 0.0039, 0.0000, 0.0000],\n",
            "          [0.0000, 0.0000, 0.0000, 0.0000, 0.0118, 0.0627, 0.1490, 0.2000,\n",
            "           0.2118, 0.2118, 0.2118, 0.2118, 0.2118, 0.2118, 0.2118, 0.2118,\n",
            "           0.2078, 0.2078, 0.2039, 0.1961, 0.1529, 0.0745, 0.0157, 0.0000,\n",
            "           0.0000, 0.0000, 0.0000, 0.0000],\n",
            "          [0.0000, 0.0000, 0.0000, 0.0000, 0.0000, 0.0118, 0.0275, 0.0392,\n",
            "           0.0431, 0.0431, 0.0431, 0.0431, 0.0431, 0.0431, 0.0431, 0.0431,\n",
            "           0.0431, 0.0431, 0.0392, 0.0353, 0.0275, 0.0118, 0.0000, 0.0000,\n",
            "           0.0000, 0.0000, 0.0000, 0.0000],\n",
            "          [0.0000, 0.0000, 0.0000, 0.0000, 0.0000, 0.0000, 0.0000, 0.0039,\n",
            "           0.0039, 0.0039, 0.0039, 0.0039, 0.0039, 0.0039, 0.0039, 0.0039,\n",
            "           0.0039, 0.0039, 0.0039, 0.0039, 0.0000, 0.0000, 0.0000, 0.0000,\n",
            "           0.0000, 0.0000, 0.0000, 0.0000]]]])\n"
          ]
        }
      ]
    },
    {
      "cell_type": "markdown",
      "source": [
        "# 차원 축소\n",
        "차원 축소란 고차원 데이터를 효율적으로 처리하기 위한 기법입니다.\n",
        "### 그 중 대표적인 PCA와 t-sne에 대한 내용을 비교하여 아래에 적어주세요."
      ],
      "metadata": {
        "id": "vyUi1AjXbkoa"
      }
    },
    {
      "cell_type": "markdown",
      "source": [
        "PCA (Principal Component Analysis)\n",
        "- 선형 차원 축소 기법으로, 속도가 빠르고 모델에 데이터를 입력하기 전 데이터의 주요 패턴을 선형적으로 요약할 때 사용\n",
        "\n",
        "\n",
        "t-sne (t-distributed Stochastic Neighbor Embedding)\n",
        "- 비선형 차원 축소 기법으로, 데이터의 군집(클러스터) 시각화에 적합하다. 느리지만 고차원 데이터의 복잡한 패턴을 저차원에서 명확히 볼 수 있음."
      ],
      "metadata": {
        "id": "9ML5wJe4b2LK"
      }
    },
    {
      "cell_type": "markdown",
      "source": [
        "## PCA"
      ],
      "metadata": {
        "id": "8xTtabYzeRJU"
      }
    },
    {
      "cell_type": "markdown",
      "source": [
        "### 현재 데이터는 28*28로 784차원을 가지고 있습니다. PCA를 이용하여 데이터들을 가장 잘 설명하는 50개의 변수만으로 데이터를 변환하시오."
      ],
      "metadata": {
        "id": "vs6RBhtkb6tu"
      }
    },
    {
      "cell_type": "code",
      "source": [
        "from sklearn.decomposition import PCA\n",
        "\n",
        "# 이미지 데이터를 (샘플 수, 784) 형태의 배열로 변환\n",
        "train_pixels_flat = train_pixels.view(train_pixels.size(0), -1).numpy()  # (샘플 수, 784)\n",
        "test_pixels_flat = test_pixels.view(test_pixels.size(0), -1).numpy()    # (샘플 수, 784)\n",
        "\n",
        "# PCA 모델 생성 및 50차원으로 변환\n",
        "pca = PCA(n_components=50)\n",
        "train_pixels_pca = pca.fit_transform(train_pixels_flat)\n",
        "test_pixels_pca = pca.transform(test_pixels_flat)\n",
        "\n",
        "# PCA 결과를 다시 텐서로 변환\n",
        "train_pixels_pca_tensor = torch.tensor(train_pixels_pca, dtype=torch.float32)\n",
        "test_pixels_pca_tensor = torch.tensor(test_pixels_pca, dtype=torch.float32)\n",
        "\n",
        "print(f\"원본 train 데이터 차원: {train_pixels.shape}\")  # (샘플 수, 1, 28, 28)\n",
        "print(f\"PCA 변환 후 train 데이터 차원: {train_pixels_pca_tensor.shape}\")  # (샘플 수, 50)\n",
        "print(f\"원본 test 데이터 차원: {test_pixels.shape}\")  # (샘플 수, 1, 28, 28)\n",
        "print(f\"PCA 변환 후 test 데이터 차원: {test_pixels_pca_tensor.shape}\")  # (샘플 수, 50)"
      ],
      "metadata": {
        "id": "4Zj0xKm4b1WG",
        "colab": {
          "base_uri": "https://localhost:8080/"
        },
        "outputId": "3e0de845-41ee-46d7-890a-0e2db95d40d8"
      },
      "execution_count": 48,
      "outputs": [
        {
          "output_type": "stream",
          "name": "stdout",
          "text": [
            "원본 train 데이터 차원: torch.Size([60000, 1, 28, 28])\n",
            "PCA 변환 후 train 데이터 차원: torch.Size([60000, 50])\n",
            "원본 test 데이터 차원: torch.Size([10000, 784])\n",
            "PCA 변환 후 test 데이터 차원: torch.Size([10000, 50])\n"
          ]
        }
      ]
    },
    {
      "cell_type": "markdown",
      "source": [
        "### PCA 이후 데이터들의 설명된 분산 비율 (explained variance ratio)를 출력하세요."
      ],
      "metadata": {
        "id": "UuSt3fwYcUnE"
      }
    },
    {
      "cell_type": "code",
      "source": [
        "from sklearn.decomposition import PCA\n",
        "\n"
      ],
      "metadata": {
        "id": "p4kxdwqEcz5_"
      },
      "execution_count": null,
      "outputs": []
    },
    {
      "cell_type": "markdown",
      "source": [
        "### PCA를 시행하면 데이터가 수정되므로 원본 데이터와 차이가 생기게 됩니다. 이때 이 차이를 재구성 오차(Reconstruction Error)라고 합니다. 재구성 오차를 mse(오차제곱합) 방식으로 구하시오."
      ],
      "metadata": {
        "id": "ZmYiUuiec_7n"
      }
    },
    {
      "cell_type": "code",
      "source": [],
      "metadata": {
        "id": "zus6Aa1XdVum"
      },
      "execution_count": null,
      "outputs": []
    },
    {
      "cell_type": "markdown",
      "source": [
        "### 이번에는 PCA를 통해 원본 데이터를 30차원으로 줄이고, explained variance ratio와 reconstructon error를 구하시오."
      ],
      "metadata": {
        "id": "ywT8cpNsdWPn"
      }
    },
    {
      "cell_type": "code",
      "source": [],
      "metadata": {
        "id": "v8MvNhDLdxV7"
      },
      "execution_count": null,
      "outputs": []
    },
    {
      "cell_type": "markdown",
      "source": [
        "### 데이터를 30차원으로 줄인 결과와 50차원으로 줄인 결과에는 어떤 차이가 있습니까?"
      ],
      "metadata": {
        "id": "S7xeUj-tdycW"
      }
    },
    {
      "cell_type": "markdown",
      "source": [],
      "metadata": {
        "id": "mhwYvvI-d3G6"
      }
    },
    {
      "cell_type": "markdown",
      "source": [
        "### 마지막으로 원본 데이터를 2차원으로 줄이고, explained variance ratio와 reconstruction error를 구하시오."
      ],
      "metadata": {
        "id": "U4-QjLDNd31v"
      }
    },
    {
      "cell_type": "code",
      "source": [],
      "metadata": {
        "id": "C0_INnL6d2oS"
      },
      "execution_count": null,
      "outputs": []
    },
    {
      "cell_type": "markdown",
      "source": [
        "### 2차원으로 축소한 데이터를 시각화하여 보여주세요. 대신 데이터의 label에 따라 색상을 다르게 해주세요."
      ],
      "metadata": {
        "id": "8J1dMVnDeAbl"
      }
    },
    {
      "cell_type": "code",
      "source": [],
      "metadata": {
        "id": "UeegGdPZeK-W"
      },
      "execution_count": null,
      "outputs": []
    },
    {
      "cell_type": "markdown",
      "source": [
        "## T-SNE"
      ],
      "metadata": {
        "id": "F3eYEgGOeLq6"
      }
    },
    {
      "cell_type": "markdown",
      "source": [
        "### 앞서 pca를 통해 50차원으로 줄인 데이터를 t-sne를 통해 시각화 하세요."
      ],
      "metadata": {
        "id": "9HiO6ttNeb5k"
      }
    },
    {
      "cell_type": "code",
      "source": [],
      "metadata": {
        "id": "Qg1YFEpgeUb7"
      },
      "execution_count": null,
      "outputs": []
    },
    {
      "cell_type": "markdown",
      "source": [
        "### 앞서 pca를 통해 30차원으로 줄인 데이터를 t-sne를 통해 시각화 하세요."
      ],
      "metadata": {
        "id": "TvUjeH3Aem2Q"
      }
    },
    {
      "cell_type": "code",
      "source": [],
      "metadata": {
        "id": "58-_xgOmeqqv"
      },
      "execution_count": null,
      "outputs": []
    },
    {
      "cell_type": "markdown",
      "source": [
        "## 군집화"
      ],
      "metadata": {
        "id": "m4lUrsO0e2MG"
      }
    },
    {
      "cell_type": "markdown",
      "source": [
        "### PCA를 통해 50차원으로 줄인 데이터를 DBSCAN을 이용하여 군집화 하시오."
      ],
      "metadata": {
        "id": "E1U5H0P_e4t6"
      }
    },
    {
      "cell_type": "code",
      "source": [],
      "metadata": {
        "id": "CAwXqJDSe4HO"
      },
      "execution_count": null,
      "outputs": []
    },
    {
      "cell_type": "markdown",
      "source": [
        "### k-means를 통해 50차원으로 줄인 데이터를 군집화 하시오.(군집의 개수는 10개로 하시오.)"
      ],
      "metadata": {
        "id": "1grdXAN1gABa"
      }
    },
    {
      "cell_type": "code",
      "source": [],
      "metadata": {
        "id": "r6R8VSE7gQvi"
      },
      "execution_count": null,
      "outputs": []
    },
    {
      "cell_type": "markdown",
      "source": [
        "### 엘보우 메소드를 이용하여 k-means에서 가장 적절한 군집의 개수를 구하시오."
      ],
      "metadata": {
        "id": "-PDxcqNrgRLn"
      }
    },
    {
      "cell_type": "code",
      "source": [],
      "metadata": {
        "id": "1IGQb4JkgY_y"
      },
      "execution_count": null,
      "outputs": []
    },
    {
      "cell_type": "markdown",
      "source": [
        "### k-means 최적의 군집 개수로 다시 군집화 하여 시각화 하시오."
      ],
      "metadata": {
        "id": "RGLULMHfg3oc"
      }
    },
    {
      "cell_type": "code",
      "source": [],
      "metadata": {
        "id": "6FfcSG7sg9FK"
      },
      "execution_count": null,
      "outputs": []
    },
    {
      "cell_type": "markdown",
      "source": [
        "### 다른 추가적인 군집화 기법을 2가지 이상 사용하여 pca 50 데이터를 시각화 하시오."
      ],
      "metadata": {
        "id": "45OlhPQ5ftie"
      }
    },
    {
      "cell_type": "code",
      "source": [],
      "metadata": {
        "id": "peN_Mj7ifzWO"
      },
      "execution_count": null,
      "outputs": []
    },
    {
      "cell_type": "markdown",
      "source": [
        "## 군집화 결과 비교"
      ],
      "metadata": {
        "id": "enm9PXeZf0BT"
      }
    },
    {
      "cell_type": "markdown",
      "source": [
        "### 앞선 모든 군집화 모델의 결과를 실루엣 점수(Silhouette score)를 이용하여 성능을 비교하시오."
      ],
      "metadata": {
        "id": "lGP_YsStgre_"
      }
    },
    {
      "cell_type": "code",
      "source": [],
      "metadata": {
        "id": "Guxl_X-Fgo01"
      },
      "execution_count": null,
      "outputs": []
    },
    {
      "cell_type": "markdown",
      "source": [
        "### 실루엣 점수를 통해 군집화 모델의 성능에 대한 간단한 해석을 적으세요."
      ],
      "metadata": {
        "id": "zUFgDq2fhC-W"
      }
    },
    {
      "cell_type": "markdown",
      "source": [
        "\n",
        "(더블클릭해서 이곳에 작성)"
      ],
      "metadata": {
        "id": "LbT8pjhshJ7F"
      }
    }
  ]
}