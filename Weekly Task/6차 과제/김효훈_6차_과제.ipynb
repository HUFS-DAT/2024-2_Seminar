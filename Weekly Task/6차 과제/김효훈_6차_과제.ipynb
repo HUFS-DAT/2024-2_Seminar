{
 "cells": [
  {
   "cell_type": "code",
   "execution_count": 4,
   "id": "544ad7b8-b991-41fc-8071-a8ee6945a4d8",
   "metadata": {},
   "outputs": [],
   "source": [
    "import pandas as pd\n",
    "import numpy as np\n",
    "import matplotlib.pyplot as plt\n",
    "import seaborn as sns\n",
    "from sklearn.model_selection import train_test_split\n",
    "from sklearn.preprocessing import StandardScaler"
   ]
  },
  {
   "cell_type": "code",
   "execution_count": 17,
   "id": "6a05f9e0-7df0-44dc-842c-058a77bcc832",
   "metadata": {},
   "outputs": [],
   "source": [
    "# 한글 폰트 오류 해결\n",
    "from matplotlib import font_manager, rc\n",
    "font_path = \"C:/Windows/Fonts/malgun.ttf\"\n",
    "font_name = font_manager.FontProperties(fname = font_path).get_name()\n",
    "rc(\"font\", family = font_name)"
   ]
  },
  {
   "cell_type": "markdown",
   "id": "baaa41cb-c130-4ecf-8c46-f386934c145d",
   "metadata": {},
   "source": [
    "# 데이터 불러오기 및 데이터 이해하기"
   ]
  },
  {
   "cell_type": "markdown",
   "id": "4e468fbf-78db-4935-a948-84ca6bbf5040",
   "metadata": {},
   "source": [
    "- 데이터 분석 목표를 정하기 전, 데이터에 대한 사전 지식 및 이해가 필요하다고 판단"
   ]
  },
  {
   "cell_type": "code",
   "execution_count": 5,
   "id": "ddbd50a2-4976-49a2-883e-1faabb193be6",
   "metadata": {},
   "outputs": [
    {
     "data": {
      "text/html": [
       "<div>\n",
       "<style scoped>\n",
       "    .dataframe tbody tr th:only-of-type {\n",
       "        vertical-align: middle;\n",
       "    }\n",
       "\n",
       "    .dataframe tbody tr th {\n",
       "        vertical-align: top;\n",
       "    }\n",
       "\n",
       "    .dataframe thead th {\n",
       "        text-align: right;\n",
       "    }\n",
       "</style>\n",
       "<table border=\"1\" class=\"dataframe\">\n",
       "  <thead>\n",
       "    <tr style=\"text-align: right;\">\n",
       "      <th></th>\n",
       "      <th>Submission ID</th>\n",
       "      <th>Respondent ID</th>\n",
       "      <th>Submitted at</th>\n",
       "      <th>What is your age?</th>\n",
       "      <th>What is your ZIP code?</th>\n",
       "      <th>How many cups of coffee do you typically drink per day?</th>\n",
       "      <th>Where do you typically drink coffee?</th>\n",
       "      <th>Where do you typically drink coffee? (At home)</th>\n",
       "      <th>Where do you typically drink coffee? (At the office)</th>\n",
       "      <th>Where do you typically drink coffee? (On the go)</th>\n",
       "      <th>...</th>\n",
       "      <th>Gender</th>\n",
       "      <th>Gender (please specify)</th>\n",
       "      <th>Marital Status</th>\n",
       "      <th>Household Income</th>\n",
       "      <th>Education Level</th>\n",
       "      <th>Ethnicity/Race</th>\n",
       "      <th>Ethnicity/Race (please specify)</th>\n",
       "      <th>Employment Status</th>\n",
       "      <th>Number of Children</th>\n",
       "      <th>Political Affiliation</th>\n",
       "    </tr>\n",
       "  </thead>\n",
       "  <tbody>\n",
       "    <tr>\n",
       "      <th>0</th>\n",
       "      <td>gMR29l</td>\n",
       "      <td>vDzkBA</td>\n",
       "      <td>9/11/23 20:50</td>\n",
       "      <td>18-24 years old</td>\n",
       "      <td>NaN</td>\n",
       "      <td>NaN</td>\n",
       "      <td>NaN</td>\n",
       "      <td>NaN</td>\n",
       "      <td>NaN</td>\n",
       "      <td>NaN</td>\n",
       "      <td>...</td>\n",
       "      <td>NaN</td>\n",
       "      <td>NaN</td>\n",
       "      <td>NaN</td>\n",
       "      <td>NaN</td>\n",
       "      <td>NaN</td>\n",
       "      <td>NaN</td>\n",
       "      <td>NaN</td>\n",
       "      <td>NaN</td>\n",
       "      <td>NaN</td>\n",
       "      <td>NaN</td>\n",
       "    </tr>\n",
       "    <tr>\n",
       "      <th>1</th>\n",
       "      <td>BkPN0e</td>\n",
       "      <td>9Z4VME</td>\n",
       "      <td>9/11/23 20:52</td>\n",
       "      <td>25-34 years old</td>\n",
       "      <td>NaN</td>\n",
       "      <td>NaN</td>\n",
       "      <td>NaN</td>\n",
       "      <td>NaN</td>\n",
       "      <td>NaN</td>\n",
       "      <td>NaN</td>\n",
       "      <td>...</td>\n",
       "      <td>NaN</td>\n",
       "      <td>NaN</td>\n",
       "      <td>NaN</td>\n",
       "      <td>NaN</td>\n",
       "      <td>NaN</td>\n",
       "      <td>NaN</td>\n",
       "      <td>NaN</td>\n",
       "      <td>NaN</td>\n",
       "      <td>NaN</td>\n",
       "      <td>NaN</td>\n",
       "    </tr>\n",
       "    <tr>\n",
       "      <th>2</th>\n",
       "      <td>W5G8jj</td>\n",
       "      <td>XoNLQj</td>\n",
       "      <td>9/12/23 1:33</td>\n",
       "      <td>25-34 years old</td>\n",
       "      <td>NaN</td>\n",
       "      <td>NaN</td>\n",
       "      <td>NaN</td>\n",
       "      <td>NaN</td>\n",
       "      <td>NaN</td>\n",
       "      <td>NaN</td>\n",
       "      <td>...</td>\n",
       "      <td>NaN</td>\n",
       "      <td>NaN</td>\n",
       "      <td>NaN</td>\n",
       "      <td>NaN</td>\n",
       "      <td>NaN</td>\n",
       "      <td>NaN</td>\n",
       "      <td>NaN</td>\n",
       "      <td>NaN</td>\n",
       "      <td>NaN</td>\n",
       "      <td>NaN</td>\n",
       "    </tr>\n",
       "    <tr>\n",
       "      <th>3</th>\n",
       "      <td>4xWgGr</td>\n",
       "      <td>Gp7gde</td>\n",
       "      <td>9/12/23 12:58</td>\n",
       "      <td>35-44 years old</td>\n",
       "      <td>NaN</td>\n",
       "      <td>NaN</td>\n",
       "      <td>NaN</td>\n",
       "      <td>NaN</td>\n",
       "      <td>NaN</td>\n",
       "      <td>NaN</td>\n",
       "      <td>...</td>\n",
       "      <td>NaN</td>\n",
       "      <td>NaN</td>\n",
       "      <td>NaN</td>\n",
       "      <td>NaN</td>\n",
       "      <td>NaN</td>\n",
       "      <td>NaN</td>\n",
       "      <td>NaN</td>\n",
       "      <td>NaN</td>\n",
       "      <td>NaN</td>\n",
       "      <td>NaN</td>\n",
       "    </tr>\n",
       "    <tr>\n",
       "      <th>4</th>\n",
       "      <td>QD27Q8</td>\n",
       "      <td>Bp9ogQ</td>\n",
       "      <td>9/12/23 15:24</td>\n",
       "      <td>25-34 years old</td>\n",
       "      <td>NaN</td>\n",
       "      <td>NaN</td>\n",
       "      <td>NaN</td>\n",
       "      <td>NaN</td>\n",
       "      <td>NaN</td>\n",
       "      <td>NaN</td>\n",
       "      <td>...</td>\n",
       "      <td>NaN</td>\n",
       "      <td>NaN</td>\n",
       "      <td>NaN</td>\n",
       "      <td>NaN</td>\n",
       "      <td>NaN</td>\n",
       "      <td>NaN</td>\n",
       "      <td>NaN</td>\n",
       "      <td>NaN</td>\n",
       "      <td>NaN</td>\n",
       "      <td>NaN</td>\n",
       "    </tr>\n",
       "  </tbody>\n",
       "</table>\n",
       "<p>5 rows × 118 columns</p>\n",
       "</div>"
      ],
      "text/plain": [
       "  Submission ID Respondent ID   Submitted at What is your age?  \\\n",
       "0        gMR29l        vDzkBA  9/11/23 20:50   18-24 years old   \n",
       "1        BkPN0e        9Z4VME  9/11/23 20:52   25-34 years old   \n",
       "2        W5G8jj        XoNLQj   9/12/23 1:33   25-34 years old   \n",
       "3        4xWgGr        Gp7gde  9/12/23 12:58   35-44 years old   \n",
       "4        QD27Q8        Bp9ogQ  9/12/23 15:24   25-34 years old   \n",
       "\n",
       "  What is your ZIP code?  \\\n",
       "0                    NaN   \n",
       "1                    NaN   \n",
       "2                    NaN   \n",
       "3                    NaN   \n",
       "4                    NaN   \n",
       "\n",
       "  How many cups of coffee do you typically drink per day?  \\\n",
       "0                                                NaN        \n",
       "1                                                NaN        \n",
       "2                                                NaN        \n",
       "3                                                NaN        \n",
       "4                                                NaN        \n",
       "\n",
       "  Where do you typically drink coffee?  \\\n",
       "0                                  NaN   \n",
       "1                                  NaN   \n",
       "2                                  NaN   \n",
       "3                                  NaN   \n",
       "4                                  NaN   \n",
       "\n",
       "  Where do you typically drink coffee? (At home)  \\\n",
       "0                                            NaN   \n",
       "1                                            NaN   \n",
       "2                                            NaN   \n",
       "3                                            NaN   \n",
       "4                                            NaN   \n",
       "\n",
       "  Where do you typically drink coffee? (At the office)  \\\n",
       "0                                                NaN     \n",
       "1                                                NaN     \n",
       "2                                                NaN     \n",
       "3                                                NaN     \n",
       "4                                                NaN     \n",
       "\n",
       "  Where do you typically drink coffee? (On the go)  ... Gender  \\\n",
       "0                                              NaN  ...    NaN   \n",
       "1                                              NaN  ...    NaN   \n",
       "2                                              NaN  ...    NaN   \n",
       "3                                              NaN  ...    NaN   \n",
       "4                                              NaN  ...    NaN   \n",
       "\n",
       "  Gender (please specify) Marital Status Household Income Education Level  \\\n",
       "0                     NaN            NaN              NaN             NaN   \n",
       "1                     NaN            NaN              NaN             NaN   \n",
       "2                     NaN            NaN              NaN             NaN   \n",
       "3                     NaN            NaN              NaN             NaN   \n",
       "4                     NaN            NaN              NaN             NaN   \n",
       "\n",
       "  Ethnicity/Race Ethnicity/Race (please specify) Employment Status  \\\n",
       "0            NaN                             NaN               NaN   \n",
       "1            NaN                             NaN               NaN   \n",
       "2            NaN                             NaN               NaN   \n",
       "3            NaN                             NaN               NaN   \n",
       "4            NaN                             NaN               NaN   \n",
       "\n",
       "  Number of Children Political Affiliation  \n",
       "0                NaN                   NaN  \n",
       "1                NaN                   NaN  \n",
       "2                NaN                   NaN  \n",
       "3                NaN                   NaN  \n",
       "4                NaN                   NaN  \n",
       "\n",
       "[5 rows x 118 columns]"
      ]
     },
     "execution_count": 5,
     "metadata": {},
     "output_type": "execute_result"
    }
   ],
   "source": [
    "df = pd.read_csv(\"./data/coffee.csv\")\n",
    "df.head()"
   ]
  },
  {
   "cell_type": "code",
   "execution_count": 9,
   "id": "ad14cd2c-c70d-41e5-9cc4-146ad1d9386e",
   "metadata": {},
   "outputs": [],
   "source": [
    "pd.set_option(\"display.max_rows\", 120)"
   ]
  },
  {
   "cell_type": "code",
   "execution_count": 10,
   "id": "4de30d64-bbc9-42cb-b912-fe9cc85c426d",
   "metadata": {},
   "outputs": [
    {
     "data": {
      "text/plain": [
       "Submission ID                                                                                          0\n",
       "Respondent ID                                                                                          0\n",
       "Submitted at                                                                                           0\n",
       "What is your age?                                                                                     31\n",
       "What is your ZIP code?                                                                                78\n",
       "How many cups of coffee do you typically drink per day?                                               93\n",
       "Where do you typically drink coffee?                                                                  70\n",
       "Where do you typically drink coffee? (At home)                                                        67\n",
       "Where do you typically drink coffee? (At the office)                                                  67\n",
       "Where do you typically drink coffee? (On the go)                                                      67\n",
       "Where do you typically drink coffee? (At a cafe)                                                      67\n",
       "Where do you typically drink coffee? (None of these)                                                  67\n",
       "How do you brew coffee at home?                                                                      385\n",
       "How do you brew coffee at home? (Pour over)                                                          381\n",
       "How do you brew coffee at home? (French press)                                                       381\n",
       "How do you brew coffee at home? (Espresso)                                                           381\n",
       "How do you brew coffee at home? (Coffee brewing machine (e.g. Mr. Coffee))                           381\n",
       "How do you brew coffee at home? (Pod/capsule machine (e.g. Keurig/Nespresso))                        381\n",
       "How do you brew coffee at home? (Instant coffee)                                                     381\n",
       "How do you brew coffee at home? (Bean-to-cup machine)                                                381\n",
       "How do you brew coffee at home? (Cold brew)                                                          381\n",
       "How do you brew coffee at home? (Coffee extract (e.g. Cometeer))                                     381\n",
       "How do you brew coffee at home? (Other)                                                              381\n",
       "How else do you brew coffee at home?                                                                3364\n",
       "On the go, where do you typically purchase coffee?                                                  3332\n",
       "On the go, where do you typically purchase coffee? (National chain (e.g. Starbucks, Dunkin))        3319\n",
       "On the go, where do you typically purchase coffee? (Local cafe)                                     3319\n",
       "On the go, where do you typically purchase coffee? (Drive-thru)                                     3319\n",
       "On the go, where do you typically purchase coffee? (Specialty coffee shop)                          3319\n",
       "On the go, where do you typically purchase coffee? (Deli or supermarket)                            3319\n",
       "On the go, where do you typically purchase coffee? (Other)                                          3319\n",
       "Where else do you purchase coffee?                                                                  4011\n",
       "What is your favorite coffee drink?                                                                   62\n",
       "Please specify what your favorite coffee drink is                                                   3927\n",
       "Do you usually add anything to your coffee?                                                           83\n",
       "Do you usually add anything to your coffee? (No - just black)                                         82\n",
       "Do you usually add anything to your coffee? (Milk, dairy alternative, or coffee creamer)              82\n",
       "Do you usually add anything to your coffee? (Sugar or sweetener)                                      82\n",
       "Do you usually add anything to your coffee? (Flavor syrup)                                            82\n",
       "Do you usually add anything to your coffee? (Other)                                                   82\n",
       "What else do you add to your coffee?                                                                3994\n",
       "What kind of dairy do you add?                                                                      2356\n",
       "What kind of dairy do you add? (Whole milk)                                                         2343\n",
       "What kind of dairy do you add? (Skim milk)                                                          2343\n",
       "What kind of dairy do you add? (Half and half)                                                      2343\n",
       "What kind of dairy do you add? (Coffee creamer)                                                     2343\n",
       "What kind of dairy do you add? (Flavored coffee creamer)                                            2343\n",
       "What kind of dairy do you add? (Oat milk)                                                           2343\n",
       "What kind of dairy do you add? (Almond milk)                                                        2343\n",
       "What kind of dairy do you add? (Soy milk)                                                           2343\n",
       "What kind of dairy do you add? (Other)                                                              2343\n",
       "What kind of sugar or sweetener do you add?                                                         3530\n",
       "What kind of sugar or sweetener do you add? (Granulated Sugar)                                      3525\n",
       "What kind of sugar or sweetener do you add? (Artificial Sweeteners (e.g., Splenda))                 3525\n",
       "What kind of sugar or sweetener do you add? (Honey)                                                 3525\n",
       "What kind of sugar or sweetener do you add? (Maple Syrup)                                           3525\n",
       "What kind of sugar or sweetener do you add? (Stevia)                                                3525\n",
       "What kind of sugar or sweetener do you add? (Agave Nectar)                                          3525\n",
       "What kind of sugar or sweetener do you add? (Brown Sugar)                                           3525\n",
       "What kind of sugar or sweetener do you add? (Raw Sugar (Turbinado))                                 3525\n",
       "What kind of flavorings do you add?                                                                 4042\n",
       "What kind of flavorings do you add? (Vanilla Syrup)                                                 4042\n",
       "What kind of flavorings do you add? (Caramel Syrup)                                                 4042\n",
       "What kind of flavorings do you add? (Hazelnut Syrup)                                                4042\n",
       "What kind of flavorings do you add? (Cinnamon (Ground or Stick))                                    4042\n",
       "What kind of flavorings do you add? (Peppermint Syrup)                                              4042\n",
       "What kind of flavorings do you add? (Other)                                                         4042\n",
       "What other flavoring do you use?                                                                    4042\n",
       "Before today's tasting, which of the following best described what kind of coffee you like?           84\n",
       "How strong do you like your coffee?                                                                  126\n",
       "What roast level of coffee do you prefer?                                                            102\n",
       "How much caffeine do you like in your coffee?                                                        125\n",
       "Lastly, how would you rate your own coffee expertise?                                                104\n",
       "Coffee A - Bitterness                                                                                244\n",
       "Coffee A - Acidity                                                                                   263\n",
       "Coffee A - Personal Preference                                                                       253\n",
       "Coffee A - Notes                                                                                    1464\n",
       "Coffee B - Bitterness                                                                                262\n",
       "Coffee B - Acidity                                                                                   275\n",
       "Coffee B - Personal Preference                                                                       269\n",
       "Coffee B - Notes                                                                                    1588\n",
       "Coffee C - Bitterness                                                                                278\n",
       "Coffee C - Acidity                                                                                   291\n",
       "Coffee C - Personal Preference                                                                       276\n",
       "Coffee C - Notes                                                                                    1660\n",
       "Coffee D - Bitterness                                                                                275\n",
       "Coffee D - Acidity                                                                                   277\n",
       "Coffee D - Personal Preference                                                                       278\n",
       "Coffee D - Notes                                                                                    1454\n",
       "Between Coffee A, Coffee B, and Coffee C which did you prefer?                                       270\n",
       "Between Coffee A and Coffee D, which did you prefer?                                                 281\n",
       "Lastly, what was your favorite overall coffee?                                                       272\n",
       "Do you work from home or in person?                                                                  518\n",
       "In total, much money do you typically spend on coffee in a month?                                    531\n",
       "Why do you drink coffee?                                                                             474\n",
       "Why do you drink coffee? (It tastes good)                                                            472\n",
       "Why do you drink coffee? (I need the caffeine)                                                       472\n",
       "Why do you drink coffee? (I need the ritual)                                                         472\n",
       "Why do you drink coffee? (It makes me go to the bathroom)                                            472\n",
       "Why do you drink coffee? (Other)                                                                     472\n",
       "Other reason for drinking coffee                                                                    3875\n",
       "Do you like the taste of coffee?                                                                     479\n",
       "Do you know where your coffee comes from?                                                            483\n",
       "What is the most you've ever paid for a cup of coffee?                                               515\n",
       "What is the most you'd ever be willing to pay for a cup of coffee?                                   532\n",
       "Do you feel like you’re getting good value for your money when you buy coffee at a cafe?             542\n",
       "Approximately how much have you spent on coffee equipment in the past 5 years?                       536\n",
       "Do you feel like you’re getting good value for your money with regards to your coffee equipment?     548\n",
       "Gender                                                                                               519\n",
       "Gender (please specify)                                                                             4030\n",
       "Marital Status                                                                                       554\n",
       "Household Income                                                                                     749\n",
       "Education Level                                                                                      604\n",
       "Ethnicity/Race                                                                                       624\n",
       "Ethnicity/Race (please specify)                                                                     3937\n",
       "Employment Status                                                                                    623\n",
       "Number of Children                                                                                  3186\n",
       "Political Affiliation                                                                                753\n",
       "dtype: int64"
      ]
     },
     "execution_count": 10,
     "metadata": {},
     "output_type": "execute_result"
    }
   ],
   "source": [
    "df.isnull().sum()"
   ]
  },
  {
   "cell_type": "markdown",
   "id": "50384861-56db-4d01-a759-740062a4adef",
   "metadata": {},
   "source": [
    "- 총 118개의 컬럼이 있음\n",
    "  - Boolean : 52개\n",
    "  - String : 44개\n",
    "  - Interger : 13개\n",
    "  - Other : 9개"
   ]
  },
  {
   "cell_type": "markdown",
   "id": "9e492ed7-5aa7-4a25-b59e-8e5e7e0dda80",
   "metadata": {},
   "source": [
    "# 분석 목표 설정하기"
   ]
  },
  {
   "cell_type": "markdown",
   "id": "8af8e0b0-3366-4532-aa39-e9ff6ef061bc",
   "metadata": {},
   "source": [
    "- 나이, 성별 및 소득 수준에 따른 선호하는 커피에 대한 관계 조사하기"
   ]
  },
  {
   "cell_type": "markdown",
   "id": "32206559-eb59-4067-8c14-123738c75b2a",
   "metadata": {},
   "source": [
    "# EDA"
   ]
  },
  {
   "cell_type": "markdown",
   "id": "346c2137-2e77-4566-83c5-6d27386ef70b",
   "metadata": {},
   "source": [
    "## 사용할 컬럼 확인하기"
   ]
  },
  {
   "cell_type": "code",
   "execution_count": 12,
   "id": "d3315f5f-6b07-4a96-b198-709da65bef61",
   "metadata": {},
   "outputs": [
    {
     "data": {
      "text/plain": [
       "What is your age?\n",
       "25-34 years old    1986\n",
       "35-44 years old     960\n",
       "18-24 years old     461\n",
       "45-54 years old     302\n",
       "55-64 years old     187\n",
       ">65 years old        95\n",
       "<18 years old        20\n",
       "Name: count, dtype: int64"
      ]
     },
     "execution_count": 12,
     "metadata": {},
     "output_type": "execute_result"
    }
   ],
   "source": [
    "# 나이대별 확인하기\n",
    "df[\"What is your age?\"].value_counts()"
   ]
  },
  {
   "cell_type": "markdown",
   "id": "84aa46c4-5e9f-4fcf-bb96-5dc04765ef58",
   "metadata": {},
   "source": [
    "- 총 4011명 중에서 약 74% 정도가 25~44세에 해당함을 알 수 있음\n",
    "  - 나머지 나이를 다 합쳐도 약 26%정도\n",
    "- 만약 커피를 한다면 이 나이대를 타게팅으로 하는게 좋아보임\n",
    "  - 즉, 이 74%의 핵심 고객층들이 어떠한 커피를 좋아하는지 아는게 중요함"
   ]
  },
  {
   "cell_type": "code",
   "execution_count": 16,
   "id": "425c5e98-aeb6-45e1-87dc-68172b4f2ccb",
   "metadata": {},
   "outputs": [
    {
     "name": "stdout",
     "output_type": "stream",
     "text": [
      "What is your favorite coffee drink?\n",
      "Pourover                            1084\n",
      "Latte                                680\n",
      "Regular drip coffee                  442\n",
      "Cappuccino                           341\n",
      "Espresso                             330\n",
      "Cortado                              312\n",
      "Americano                            249\n",
      "Iced coffee                          156\n",
      "Mocha                                118\n",
      "Other                                114\n",
      "Cold brew                            109\n",
      "Blended drink (e.g. Frappuccino)      45\n",
      "Name: count, dtype: int64\n"
     ]
    }
   ],
   "source": [
    "prefer_coffee = df[\"What is your favorite coffee drink?\"].value_counts()\n",
    "print(prefer_coffee)2"
   ]
  },
  {
   "cell_type": "code",
   "execution_count": 30,
   "id": "b04cb051-e2c3-4d11-a1e4-7da972c9d016",
   "metadata": {},
   "outputs": [
    {
     "data": {
      "text/plain": [
       "Gender\n",
       "Male                      2524\n",
       "Female                     853\n",
       "Non-binary                 103\n",
       "Prefer not to say           33\n",
       "Other (please specify)      10\n",
       "Name: count, dtype: int64"
      ]
     },
     "execution_count": 30,
     "metadata": {},
     "output_type": "execute_result"
    }
   ],
   "source": [
    "# 성별 확인하기\n",
    "df[\"Gender\"].value_counts()"
   ]
  },
  {
   "cell_type": "code",
   "execution_count": 31,
   "id": "8325a409-d01c-468c-8b4a-c03ff4720b9a",
   "metadata": {},
   "outputs": [
    {
     "data": {
      "text/plain": [
       "Household Income\n",
       "$150,000 or more       1336\n",
       "$100,000 - $149,999     803\n",
       "$75,000 - $99,999       427\n",
       "$50,000 - $74,999       323\n",
       "$25,000 - $49,999       260\n",
       "Under $25,000           144\n",
       "Name: count, dtype: int64"
      ]
     },
     "execution_count": 31,
     "metadata": {},
     "output_type": "execute_result"
    }
   ],
   "source": [
    "# 소득수준 확인하기\n",
    "df[\"Household Income\"].value_counts()"
   ]
  },
  {
   "cell_type": "markdown",
   "id": "5ea8afc5-83b6-4592-849d-ce82878cfd7b",
   "metadata": {},
   "source": [
    "## 결측치 드랍 및 새롭게 데이터프레임 만들기"
   ]
  },
  {
   "cell_type": "code",
   "execution_count": 36,
   "id": "d77feeb7-ffe2-43c2-ba80-80963b2fa48b",
   "metadata": {},
   "outputs": [],
   "source": [
    "# 결측치 드랍하기\n",
    "df= df.dropna(subset = [\"What is your age?\", \"What is your favorite coffee drink?\", \"Gender\", \"Household Income\"])"
   ]
  },
  {
   "cell_type": "code",
   "execution_count": 39,
   "id": "b440dc29-0f23-460c-a380-903007279db0",
   "metadata": {},
   "outputs": [],
   "source": [
    "# 사용할 컬럼들만 모아서 새롭게 데이터프레임 만들기\n",
    "df_selected = df[[\"What is your age?\", \"What is your favorite coffee drink?\", \"Gender\", \"Household Income\"]]"
   ]
  },
  {
   "cell_type": "code",
   "execution_count": 43,
   "id": "ae2f30de-6059-4baf-abf8-fc4876cc07e3",
   "metadata": {},
   "outputs": [
    {
     "data": {
      "text/html": [
       "<div>\n",
       "<style scoped>\n",
       "    .dataframe tbody tr th:only-of-type {\n",
       "        vertical-align: middle;\n",
       "    }\n",
       "\n",
       "    .dataframe tbody tr th {\n",
       "        vertical-align: top;\n",
       "    }\n",
       "\n",
       "    .dataframe thead th {\n",
       "        text-align: right;\n",
       "    }\n",
       "</style>\n",
       "<table border=\"1\" class=\"dataframe\">\n",
       "  <thead>\n",
       "    <tr style=\"text-align: right;\">\n",
       "      <th></th>\n",
       "      <th>What is your age?</th>\n",
       "      <th>What is your favorite coffee drink?</th>\n",
       "      <th>Gender</th>\n",
       "      <th>Household Income</th>\n",
       "    </tr>\n",
       "  </thead>\n",
       "  <tbody>\n",
       "    <tr>\n",
       "      <th>15</th>\n",
       "      <td>&lt;18 years old</td>\n",
       "      <td>Pourover</td>\n",
       "      <td>Other (please specify)</td>\n",
       "      <td>Under $25,000</td>\n",
       "    </tr>\n",
       "    <tr>\n",
       "      <th>17</th>\n",
       "      <td>25-34 years old</td>\n",
       "      <td>Regular drip coffee</td>\n",
       "      <td>Female</td>\n",
       "      <td>$150,000 or more</td>\n",
       "    </tr>\n",
       "    <tr>\n",
       "      <th>34</th>\n",
       "      <td>45-54 years old</td>\n",
       "      <td>Regular drip coffee</td>\n",
       "      <td>Male</td>\n",
       "      <td>$100,000 - $149,999</td>\n",
       "    </tr>\n",
       "    <tr>\n",
       "      <th>41</th>\n",
       "      <td>25-34 years old</td>\n",
       "      <td>Pourover</td>\n",
       "      <td>Male</td>\n",
       "      <td>Under $25,000</td>\n",
       "    </tr>\n",
       "    <tr>\n",
       "      <th>42</th>\n",
       "      <td>35-44 years old</td>\n",
       "      <td>Iced coffee</td>\n",
       "      <td>Male</td>\n",
       "      <td>$75,000 - $99,999</td>\n",
       "    </tr>\n",
       "  </tbody>\n",
       "</table>\n",
       "</div>"
      ],
      "text/plain": [
       "   What is your age? What is your favorite coffee drink?  \\\n",
       "15     <18 years old                            Pourover   \n",
       "17   25-34 years old                 Regular drip coffee   \n",
       "34   45-54 years old                 Regular drip coffee   \n",
       "41   25-34 years old                            Pourover   \n",
       "42   35-44 years old                         Iced coffee   \n",
       "\n",
       "                    Gender     Household Income  \n",
       "15  Other (please specify)        Under $25,000  \n",
       "17                  Female     $150,000 or more  \n",
       "34                    Male  $100,000 - $149,999  \n",
       "41                    Male        Under $25,000  \n",
       "42                    Male    $75,000 - $99,999  "
      ]
     },
     "execution_count": 43,
     "metadata": {},
     "output_type": "execute_result"
    }
   ],
   "source": [
    "df_selected.head()"
   ]
  },
  {
   "cell_type": "code",
   "execution_count": 53,
   "id": "a3a27992-7d40-4f11-afaf-eedf6c8d12df",
   "metadata": {},
   "outputs": [],
   "source": [
    "# Power BI에 사용할 SCV파일로 저장하기\n",
    "df_selected.to_csv(\"coffee_data.csv\", index = False)"
   ]
  },
  {
   "cell_type": "markdown",
   "id": "eae84028-c15a-47db-bec2-e8eaba645a11",
   "metadata": {},
   "source": [
    "- Pourover는 '핸드'드립 커피(=사람이 직접 붓는)\n",
    "- Regular drip coffee는 커피 머신을 사용"
   ]
  },
  {
   "cell_type": "markdown",
   "id": "4c6f5c60-1474-4169-89e5-1abe76cd5375",
   "metadata": {},
   "source": [
    "# Power BI를 활용한 시각화 및 데이터 해석"
   ]
  },
  {
   "cell_type": "markdown",
   "id": "e3c90942-1f23-4292-955d-512acf7df2b3",
   "metadata": {},
   "source": [
    "<img src = \"./image/coffee_percentage.png\">"
   ]
  },
  {
   "cell_type": "markdown",
   "id": "3ccc6a19-6fb5-49f8-be73-f9c400bd9bbc",
   "metadata": {},
   "source": [
    "<img src = \"./image/coffee_man.png\" >"
   ]
  },
  {
   "cell_type": "markdown",
   "id": "c178916a-3f99-4b75-9a8d-2eb13bc9cf5d",
   "metadata": {},
   "source": [
    "- 약 72%의 성별이 남성임을 통해 각 그래프 마다 남성의 비중이 매우 높음을 알 수 있음\n",
    "- 2번째 사진은 남성에 해당하는 나머지 컬럼의 비율임"
   ]
  },
  {
   "cell_type": "markdown",
   "id": "c4356953-5d17-44ad-a3d7-5e2f8d22c633",
   "metadata": {},
   "source": [
    "<img src = \"./image/tree_coffee_man.png\">"
   ]
  },
  {
   "cell_type": "markdown",
   "id": "91b3479b-b46a-423f-a6ef-09f9f2f36170",
   "metadata": {},
   "source": [
    "- 이 트리형식 그래프를 통해 Pourover(핸드드립 커피)는 대부분 남성이 먹음을 알 수 있음\n",
    "  - 게다가 그들의 소득 수준은 연봉 약 2억원이 50% 이상임"
   ]
  },
  {
   "cell_type": "markdown",
   "id": "c2509839-956a-4ce8-b81c-ccbf25be4632",
   "metadata": {},
   "source": [
    "<img src = \"./image/tree_coffee_women.png\">"
   ]
  },
  {
   "cell_type": "markdown",
   "id": "a33c7954-09ce-4a78-97c5-296c60708015",
   "metadata": {},
   "source": [
    "- 72%가 남성임에도 불구하고 라떼의 경우는 남녀의 비율이 거의 동일함\n",
    "  - 즉, 커피는 라떼류가 성별 무관하게 가장 잘 나가는 메뉴임을 확인할 수 있음"
   ]
  },
  {
   "cell_type": "code",
   "execution_count": null,
   "id": "75711df7-ccd8-46ef-898d-912d8568d53b",
   "metadata": {},
   "outputs": [],
   "source": []
  },
  {
   "cell_type": "code",
   "execution_count": null,
   "id": "eb67148b-2ee7-43ef-b973-ae9d3f71fbba",
   "metadata": {},
   "outputs": [],
   "source": []
  },
  {
   "cell_type": "code",
   "execution_count": null,
   "id": "f84c45a1-50e2-40f4-9c56-e26a544ce55c",
   "metadata": {},
   "outputs": [],
   "source": []
  },
  {
   "cell_type": "code",
   "execution_count": null,
   "id": "8d028f84-2294-4d48-8f92-d8aad9596886",
   "metadata": {},
   "outputs": [],
   "source": []
  }
 ],
 "metadata": {
  "kernelspec": {
   "display_name": "Python 3 (ipykernel)",
   "language": "python",
   "name": "python3"
  },
  "language_info": {
   "codemirror_mode": {
    "name": "ipython",
    "version": 3
   },
   "file_extension": ".py",
   "mimetype": "text/x-python",
   "name": "python",
   "nbconvert_exporter": "python",
   "pygments_lexer": "ipython3",
   "version": "3.11.7"
  }
 },
 "nbformat": 4,
 "nbformat_minor": 5
}
