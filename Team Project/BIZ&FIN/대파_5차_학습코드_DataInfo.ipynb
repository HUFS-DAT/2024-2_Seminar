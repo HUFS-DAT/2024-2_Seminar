{
 "cells": [
  {
   "cell_type": "markdown",
   "metadata": {},
   "source": [
    "# BIZ 프로젝트 : 부실기업 예측"
   ]
  },
  {
   "cell_type": "markdown",
   "metadata": {},
   "source": [
    "## Step1 : 데이터 불러오기"
   ]
  },
  {
   "cell_type": "markdown",
   "metadata": {},
   "source": [
    "외부감사를 받아야 하는 법인을 의미하는 외부감사기업을 대상으로    \n",
    "20-24년의 기간의 재무비율 115개 항목에 대해서 ValueSearch를 이용하여 데이터를 수집하였다.  "
   ]
  },
  {
   "cell_type": "markdown",
   "metadata": {},
   "source": [
    "https://www.nicevse.com/vse/main.html"
   ]
  },
  {
   "cell_type": "markdown",
   "metadata": {},
   "source": [
    "### 필요라이브러리 불러오기"
   ]
  },
  {
   "cell_type": "code",
   "execution_count": 16,
   "metadata": {},
   "outputs": [],
   "source": [
    "import pandas as pd\n",
    "import numpy as np"
   ]
  },
  {
   "cell_type": "markdown",
   "metadata": {},
   "source": [
    "### 데이터 불러오기"
   ]
  },
  {
   "cell_type": "code",
   "execution_count": 17,
   "metadata": {},
   "outputs": [],
   "source": [
    "# # Excel 파일 읽기\n",
    "# data = pd.read_excel(\"../../project/data/financial_data.xlsx\", header=1, sheet_name='Sheet1')\n",
    "\n",
    "# # CSV 파일로 저장\n",
    "# data.to_csv(\"../../project/data/financial_data.csv\", index=False, encoding='utf-8-sig')"
   ]
  },
  {
   "cell_type": "markdown",
   "metadata": {},
   "source": [
    "xlsx 파일로 불러오는 경우 오랜시간이 걸려 csv 파일로 변환하여 사용"
   ]
  },
  {
   "cell_type": "code",
   "execution_count": 18,
   "metadata": {},
   "outputs": [],
   "source": [
    "RANDOM_STATE = 110\n",
    "\n",
    "data = pd.read_csv(\"../../project/data/financial_data.csv\", encoding='utf-8-sig', low_memory=False)"
   ]
  },
  {
   "cell_type": "code",
   "execution_count": 19,
   "metadata": {},
   "outputs": [
    {
     "data": {
      "text/plain": [
       "39861"
      ]
     },
     "execution_count": 19,
     "metadata": {},
     "output_type": "execute_result"
    }
   ],
   "source": [
    "len(data)"
   ]
  },
  {
   "cell_type": "markdown",
   "metadata": {},
   "source": [
    "외부감사기업으로 약 4만개의 기업의 데이터를 확보하였다."
   ]
  },
  {
   "cell_type": "code",
   "execution_count": 20,
   "metadata": {},
   "outputs": [
    {
     "data": {
      "text/plain": [
       "Index(['업체코드', '종목코드', '종목명', '_0', '_0.1', '_0.2', '_0.3', '_0.4',\n",
       "       '2020/Annual\\n191000.<성장성에 관한 지표>', '2021/Annual\\n191000.<성장성에 관한 지표>',\n",
       "       ...\n",
       "       '2020/Annual\\n196050.조세공과(구성비)', '2021/Annual\\n196050.조세공과(구성비)',\n",
       "       '2022/Annual\\n196050.조세공과(구성비)', '2023/Annual\\n196050.조세공과(구성비)',\n",
       "       '2024/Annual\\n196050.조세공과(구성비)', '2020/Annual\\n196060.감가상각비(구성비)',\n",
       "       '2021/Annual\\n196060.감가상각비(구성비)', '2022/Annual\\n196060.감가상각비(구성비)',\n",
       "       '2023/Annual\\n196060.감가상각비(구성비)', '2024/Annual\\n196060.감가상각비(구성비)'],\n",
       "      dtype='object', length=578)"
      ]
     },
     "execution_count": 20,
     "metadata": {},
     "output_type": "execute_result"
    }
   ],
   "source": [
    "data.columns"
   ]
  },
  {
   "cell_type": "code",
   "execution_count": 21,
   "metadata": {},
   "outputs": [
    {
     "name": "stdout",
     "output_type": "stream",
     "text": [
      "'_0' 변수의 고유 값: [nan]\n",
      "'_0.1' 변수의 고유 값: [nan]\n",
      "'_0.2' 변수의 고유 값: [nan]\n",
      "'_0.3' 변수의 고유 값: [nan]\n",
      "'_0.4' 변수의 고유 값: [nan]\n"
     ]
    }
   ],
   "source": [
    "# 확인할 변수 목록\n",
    "variables_to_check = ['_0', '_0.1', '_0.2', '_0.3', '_0.4']\n",
    "\n",
    "# 각 변수의 고유 값 확인\n",
    "for column in variables_to_check:\n",
    "    if column in data.columns:\n",
    "        unique_values = data[column].unique()\n",
    "        print(f\"'{column}' 변수의 고유 값: {unique_values}\")\n",
    "    else:\n",
    "        print(f\"'{column}' 변수는 데이터프레임에 존재하지 않습니다.\")"
   ]
  },
  {
   "cell_type": "code",
   "execution_count": 22,
   "metadata": {},
   "outputs": [],
   "source": [
    "# 드랍할 변수 목록\n",
    "variables_to_drop = ['_0', '_0.1', '_0.2', '_0.3', '_0.4']\n",
    "\n",
    "# 변수 드랍\n",
    "data = data.drop(columns=variables_to_drop)"
   ]
  },
  {
   "cell_type": "markdown",
   "metadata": {},
   "source": [
    "데이터를 수집하는 과정에서 불필요하다고 생각이 들은 변수들에 대해서 결측값을 확인하였고    \n",
    "['_0', '_0.1', '_0.2', '_0.3', '_0.4'] 5개의 변수 모두 결측으로 존재하여 제거해 주었다.  "
   ]
  },
  {
   "cell_type": "code",
   "execution_count": 23,
   "metadata": {},
   "outputs": [
    {
     "data": {
      "text/plain": [
       "Index(['업체코드', '종목코드', '종목명', '2020/Annual\\n191000.<성장성에 관한 지표>',\n",
       "       '2021/Annual\\n191000.<성장성에 관한 지표>', '2022/Annual\\n191000.<성장성에 관한 지표>',\n",
       "       '2023/Annual\\n191000.<성장성에 관한 지표>', '2024/Annual\\n191000.<성장성에 관한 지표>',\n",
       "       '2020/Annual\\n191010.총자산증가율', '2021/Annual\\n191010.총자산증가율',\n",
       "       ...\n",
       "       '2020/Annual\\n196050.조세공과(구성비)', '2021/Annual\\n196050.조세공과(구성비)',\n",
       "       '2022/Annual\\n196050.조세공과(구성비)', '2023/Annual\\n196050.조세공과(구성비)',\n",
       "       '2024/Annual\\n196050.조세공과(구성비)', '2020/Annual\\n196060.감가상각비(구성비)',\n",
       "       '2021/Annual\\n196060.감가상각비(구성비)', '2022/Annual\\n196060.감가상각비(구성비)',\n",
       "       '2023/Annual\\n196060.감가상각비(구성비)', '2024/Annual\\n196060.감가상각비(구성비)'],\n",
       "      dtype='object', length=573)"
      ]
     },
     "execution_count": 23,
     "metadata": {},
     "output_type": "execute_result"
    }
   ],
   "source": [
    "data.columns"
   ]
  },
  {
   "cell_type": "markdown",
   "metadata": {},
   "source": [
    "기업의 인덱스와 관련된 변수 ['업체코드', '종목코드', '종목명']를 제외하면 변수는 총 570개  \n",
    "570 -> 5(연도) * 114(재무비율) 으로 재무비율 변수로 총 114개  "
   ]
  },
  {
   "cell_type": "code",
   "execution_count": 24,
   "metadata": {},
   "outputs": [
    {
     "name": "stdout",
     "output_type": "stream",
     "text": [
      "Index(['업체코드', '종목코드', '종목명', '2020/<성장성에 관한 지표>', '2021/<성장성에 관한 지표>',\n",
      "       '2022/<성장성에 관한 지표>', '2023/<성장성에 관한 지표>', '2024/<성장성에 관한 지표>',\n",
      "       '2020/총자산증가율', '2021/총자산증가율',\n",
      "       ...\n",
      "       '2020/조세공과(구성비)', '2021/조세공과(구성비)', '2022/조세공과(구성비)', '2023/조세공과(구성비)',\n",
      "       '2024/조세공과(구성비)', '2020/감가상각비(구성비)', '2021/감가상각비(구성비)',\n",
      "       '2022/감가상각비(구성비)', '2023/감가상각비(구성비)', '2024/감가상각비(구성비)'],\n",
      "      dtype='object', length=573)\n"
     ]
    }
   ],
   "source": [
    "# 열 이름 변환 함수\n",
    "def transform_column_name(col_name):\n",
    "    if col_name in ['업체코드', '종목코드', '종목명']:\n",
    "        return col_name\n",
    "    parts = col_name.split('\\n')\n",
    "    if len(parts) == 2:\n",
    "        year, desc = parts\n",
    "        desc = desc.split('.')[1]  # 변수 키워드 부분만 추출\n",
    "        return f\"{year.split('/')[0]}/{desc}\"\n",
    "    return col_name\n",
    "\n",
    "# 열 이름 변환 적용\n",
    "data.columns = [transform_column_name(col) for col in data.columns]\n",
    "\n",
    "# 변환된 열 이름 출력\n",
    "print(data.columns)"
   ]
  },
  {
   "cell_type": "markdown",
   "metadata": {},
   "source": [
    "변수명의 주요 키워드만을 이용하여 새로운 변수명으로 변환   \n",
    "ex) 2020/Annual\\n196050.조세공과(구성비) -> 2020/조세공과(구성비)   "
   ]
  },
  {
   "cell_type": "code",
   "execution_count": 25,
   "metadata": {},
   "outputs": [
    {
     "name": "stdout",
     "output_type": "stream",
     "text": [
      "중복되는 열 이름이 없습니다.\n"
     ]
    }
   ],
   "source": [
    "# 열 이름 중복 확인 함수\n",
    "def check_duplicate_columns(df):\n",
    "    duplicates = df.columns[df.columns.duplicated()]\n",
    "    if len(duplicates) > 0:\n",
    "        print(\"중복되는 열 이름:\", duplicates)\n",
    "    else:\n",
    "        print(\"중복되는 열 이름이 없습니다.\")\n",
    "\n",
    "# 중복 확인 함수 호출\n",
    "check_duplicate_columns(data)"
   ]
  },
  {
   "cell_type": "markdown",
   "metadata": {},
   "source": [
    "변환된 변수명간에 중복되는 경우를 확인하였고 없음을 확인하였다."
   ]
  },
  {
   "cell_type": "markdown",
   "metadata": {},
   "source": [
    "다음으로 재무비율 변수들중에서 모든행의 값이 결측인 경우 제거"
   ]
  },
  {
   "cell_type": "code",
   "execution_count": 26,
   "metadata": {},
   "outputs": [
    {
     "name": "stdout",
     "output_type": "stream",
     "text": [
      "값이 하나도 없는 열:\n",
      "Index(['2020/<성장성에 관한 지표>', '2021/<성장성에 관한 지표>', '2022/<성장성에 관한 지표>',\n",
      "       '2023/<성장성에 관한 지표>', '2024/<성장성에 관한 지표>', '2020/<손익의 관계비율>',\n",
      "       '2021/<손익의 관계비율>', '2022/<손익의 관계비율>', '2023/<손익의 관계비율>',\n",
      "       '2024/<손익의 관계비율>', '2020/<자산자본의 관계비율>', '2021/<자산자본의 관계비율>',\n",
      "       '2022/<자산자본의 관계비율>', '2023/<자산자본의 관계비율>', '2024/<자산자본의 관계비율>',\n",
      "       '2020/<자산자본의 회전율>', '2021/<자산자본의 회전율>', '2022/<자산자본의 회전율>',\n",
      "       '2023/<자산자본의 회전율>', '2024/<자산자본의 회전율>', '2020/<생산성에 관한지표>',\n",
      "       '2021/<생산성에 관한지표>', '2022/<생산성에 관한지표>', '2023/<생산성에 관한지표>',\n",
      "       '2024/<생산성에 관한지표>', '2020/<부가가치의 구성>', '2021/<부가가치의 구성>',\n",
      "       '2022/<부가가치의 구성>', '2023/<부가가치의 구성>', '2024/<부가가치의 구성>'],\n",
      "      dtype='object')\n",
      "\n",
      "드롭된 후 데이터프레임의 열 수: 543\n",
      "\n",
      "값이 하나도 없는 변수 목록:\n",
      "<성장성에 관한 지표>\n",
      "<손익의 관계비율>\n",
      "<자산자본의 관계비율>\n",
      "<자산자본의 회전율>\n",
      "<생산성에 관한지표>\n",
      "<부가가치의 구성>\n"
     ]
    }
   ],
   "source": [
    "import pandas as pd\n",
    "\n",
    "# 값이 하나도 없는 열 확인\n",
    "empty_cols = data.columns[data.isnull().all()]\n",
    "\n",
    "# 값이 하나도 없는 열 출력\n",
    "print(\"값이 하나도 없는 열:\")\n",
    "print(empty_cols)\n",
    "\n",
    "# 값이 하나도 없는 열 드롭\n",
    "data = data.drop(columns=empty_cols)\n",
    "\n",
    "# 드롭된 후 데이터프레임 확인\n",
    "print(f\"\\n드롭된 후 데이터프레임의 열 수: {data.shape[1]}\")\n",
    "\n",
    "# empty_cols의 열 이름에서 / 뒤에 있는 이름만 추출하여 중복 없이 출력\n",
    "unique_names = set()\n",
    "print(\"\\n값이 하나도 없는 변수 목록:\")\n",
    "for col in empty_cols:\n",
    "    if '/' in col:\n",
    "        name = col.split('/')[-1]\n",
    "    else:\n",
    "        name = col\n",
    "    if name not in unique_names:\n",
    "        unique_names.add(name)\n",
    "        print(name)"
   ]
  },
  {
   "cell_type": "markdown",
   "metadata": {},
   "source": [
    "<성장성에 관한 지표>, <손익의 관계비율>, <자산자본의 관계비율> ,   \n",
    "<자산자본의 회전율> , <생산성에 관한지표>, <부가가치의 구성>    \n",
    "6가지 재무비율에 대해서 제거-> 30개(= 5(연도) * 6(재무비율))의 변수 제거    "
   ]
  },
  {
   "cell_type": "markdown",
   "metadata": {},
   "source": [
    "분석하는 현재 연도는 2024년으로 재무비율의 값이 발표가 아직 안된경우를 고려하여  \n",
    "20~23년도 기준으로 고려하였고 해당 기간동안 모든변수의 값이 결측으로 존재하는 경우를 확인하여  \n",
    "이후 예측에 있어 불필요한 데이터에 대해서 제거하고자 하였습니다."
   ]
  },
  {
   "cell_type": "code",
   "execution_count": 27,
   "metadata": {},
   "outputs": [
    {
     "name": "stdout",
     "output_type": "stream",
     "text": [
      "\n",
      "['2020', '2021', '2022', '2023'] 기간 동안 모든 변수가 결측치인 행의 수: 1222\n",
      "\n",
      "모든 변수가 결측치인 행의 종목명 값들:\n",
      "['(주)신한은행' '(주)우리은행' '메리츠화재해상보험(주)' ... '한화모멘텀(주)'\n",
      " '이지스제420호전문투자형사모부동산투자회사' '(주)태영에이엠씨대부']\n"
     ]
    }
   ],
   "source": [
    "# 특정단어를 포함하는 열 이름 필터링\n",
    "keywords = ['2020', '2021', '2022', '2023']\n",
    "filter_cols = [col for keyword in keywords for col in data.filter(like=keyword).columns]\n",
    "\n",
    "# 모든 변수가 결측치인 행 확인\n",
    "missing_all = data[filter_cols].isnull().all(axis=1)\n",
    "\n",
    "# 결측치인 행의 수\n",
    "num_missing_all = missing_all.sum()\n",
    "print(f\"\\n{keywords} 기간 동안 모든 변수가 결측치인 행의 수: {num_missing_all}\")\n",
    "\n",
    "# 결측치인 행의 업체코드 리스트 추출 -> 이후 행을 제거할 때 사용\n",
    "missing_companies = data.loc[missing_all, '업체코드'].tolist()\n",
    "# print(\"\\n모든 변수가 결측치인 행의 업체코드 리스트:\")\n",
    "# print(missing_companies)\n",
    "\n",
    "# 해당하는 행의 종목명 값들 출력 -> 종목명을 통해 어떤 종목인지 확인용도\n",
    "missing_items = data.loc[missing_all, '종목명'].unique()\n",
    "\n",
    "# 모든 값을 출력하도록 설정\n",
    "# np.set_printoptions(threshold=np.inf)\n",
    "\n",
    "print(\"\\n모든 변수가 결측치인 행의 종목명 값들:\")\n",
    "print(missing_items)"
   ]
  },
  {
   "cell_type": "markdown",
   "metadata": {},
   "source": [
    "해당하는 기업의 경우 금융업에 해당하는 기업으로 금융업 관련 기업을 제거함으로서  \n",
    "향후 부실기업에 예측에 유의미함을 위해 제거하였다.  "
   ]
  },
  {
   "cell_type": "code",
   "execution_count": 28,
   "metadata": {},
   "outputs": [
    {
     "name": "stdout",
     "output_type": "stream",
     "text": [
      "\n",
      "제거하기 전 데이터프레임의 행 수: 39861\n",
      "\n",
      "제거하는 행 수: 1222\n",
      "\n",
      "제거된 후 데이터프레임의 행 수: 38639\n"
     ]
    }
   ],
   "source": [
    "# 제거된 후 데이터프레임 확인\n",
    "print(f\"\\n제거하기 전 데이터프레임의 행 수: {len(data)}\")\n",
    "\n",
    "# 해당하는 기업들을 제거 -> 업체코드를 기준으로 제거\n",
    "data = data[~data['업체코드'].isin(missing_companies)]\n",
    "\n",
    "print(f\"\\n제거하는 행 수: {num_missing_all}\")\n",
    "\n",
    "# 제거된 후 데이터프레임 확인\n",
    "print(f\"\\n제거된 후 데이터프레임의 행 수: {len(data)}\")"
   ]
  },
  {
   "cell_type": "markdown",
   "metadata": {},
   "source": [
    "기업의 갯수 38639개"
   ]
  },
  {
   "cell_type": "code",
   "execution_count": 29,
   "metadata": {},
   "outputs": [
    {
     "name": "stdout",
     "output_type": "stream",
     "text": [
      "108\n"
     ]
    }
   ],
   "source": [
    "# 특정단어를 포함하는 열 이름 필터링\n",
    "keyword = '2021'\n",
    "filter_col = data.filter(like=keyword).columns\n",
    "\n",
    "# print(f\"< {keyword} 포함 변수 >\")\n",
    "# for col in filter_col:\n",
    "#     print(col)\n",
    "\n",
    "print(len(filter_col))   "
   ]
  },
  {
   "cell_type": "markdown",
   "metadata": {},
   "source": [
    "연도구분없이 순수 재무비율의 종류만 108개  "
   ]
  },
  {
   "cell_type": "markdown",
   "metadata": {},
   "source": [
    "### 데이터 저장"
   ]
  },
  {
   "cell_type": "code",
   "execution_count": 30,
   "metadata": {},
   "outputs": [],
   "source": [
    "# CSV 파일로 저장\n",
    "data.to_csv(\"../../project/data/clean_financial_data.csv\", index=False, encoding='utf-8-sig')"
   ]
  },
  {
   "cell_type": "markdown",
   "metadata": {},
   "source": [
    "."
   ]
  }
 ],
 "metadata": {
  "kernelspec": {
   "display_name": "Python 3",
   "language": "python",
   "name": "python3"
  },
  "language_info": {
   "codemirror_mode": {
    "name": "ipython",
    "version": 3
   },
   "file_extension": ".py",
   "mimetype": "text/x-python",
   "name": "python",
   "nbconvert_exporter": "python",
   "pygments_lexer": "ipython3",
   "version": "3.7.8"
  }
 },
 "nbformat": 4,
 "nbformat_minor": 2
}
