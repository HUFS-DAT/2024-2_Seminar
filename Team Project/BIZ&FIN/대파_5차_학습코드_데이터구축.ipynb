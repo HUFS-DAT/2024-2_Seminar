{
 "cells": [
  {
   "cell_type": "markdown",
   "metadata": {},
   "source": [
    "### BIZ 프로젝트"
   ]
  },
  {
   "cell_type": "code",
   "execution_count": 10,
   "metadata": {},
   "outputs": [
    {
     "name": "stdout",
     "output_type": "stream",
     "text": [
      "Collecting openpyxl\n",
      "  Downloading openpyxl-3.1.5-py2.py3-none-any.whl (250 kB)\n",
      "                                              0.0/250.9 kB ? eta -:--:--\n",
      "     -----------------------------------    235.5/250.9 kB 7.3 MB/s eta 0:00:01\n",
      "     -------------------------------------- 250.9/250.9 kB 3.9 MB/s eta 0:00:00\n",
      "Collecting et-xmlfile (from openpyxl)\n",
      "  Downloading et_xmlfile-2.0.0-py3-none-any.whl (18 kB)\n",
      "Installing collected packages: et-xmlfile, openpyxl\n",
      "Successfully installed et-xmlfile-2.0.0 openpyxl-3.1.5\n",
      "Note: you may need to restart the kernel to use updated packages.\n"
     ]
    },
    {
     "name": "stderr",
     "output_type": "stream",
     "text": [
      "\n",
      "[notice] A new release of pip is available: 23.1.2 -> 24.3.1\n",
      "[notice] To update, run: python.exe -m pip install --upgrade pip\n"
     ]
    }
   ],
   "source": [
    "pip install openpyxl"
   ]
  },
  {
   "cell_type": "code",
   "execution_count": 5,
   "metadata": {},
   "outputs": [],
   "source": [
    "import pandas as pd\n"
   ]
  },
  {
   "cell_type": "code",
   "execution_count": 29,
   "metadata": {},
   "outputs": [],
   "source": [
    "import pandas as pd\n",
    "\n",
    "RANDOM_STATE = 110\n",
    "\n",
    "# Excel 파일 읽기\n",
    "data = pd.read_excel(\"../../project/data_31.xlsx\", header=1, sheet_name='Sheet1')"
   ]
  },
  {
   "cell_type": "code",
   "execution_count": 30,
   "metadata": {},
   "outputs": [
    {
     "data": {
      "text/plain": [
       "Index(['업체코드', '종목코드', '종목명', '_0', '_0.1', '_0.2', '_0.3',\n",
       "       '2020/Annual\\n191000.<성장성에 관한 지표>', '2021/Annual\\n191000.<성장성에 관한 지표>',\n",
       "       '2022/Annual\\n191000.<성장성에 관한 지표>',\n",
       "       ...\n",
       "       '2020/Annual\\n192120.매출액영업이익율', '2021/Annual\\n192120.매출액영업이익율',\n",
       "       '2022/Annual\\n192120.매출액영업이익율', '2023/Annual\\n192120.매출액영업이익율',\n",
       "       '2020/Annual\\n192130.수지비율', '2021/Annual\\n192130.수지비율',\n",
       "       '2022/Annual\\n192130.수지비율', '2023/Annual\\n192130.수지비율',\n",
       "       '2020/Annual\\n192140.매출원가율', '2021/Annual\\n192140.매출원가율'],\n",
       "      dtype='object', length=117)"
      ]
     },
     "execution_count": 30,
     "metadata": {},
     "output_type": "execute_result"
    }
   ],
   "source": [
    "data.columns"
   ]
  },
  {
   "cell_type": "code",
   "execution_count": 31,
   "metadata": {},
   "outputs": [
    {
     "data": {
      "text/html": [
       "<div>\n",
       "<style scoped>\n",
       "    .dataframe tbody tr th:only-of-type {\n",
       "        vertical-align: middle;\n",
       "    }\n",
       "\n",
       "    .dataframe tbody tr th {\n",
       "        vertical-align: top;\n",
       "    }\n",
       "\n",
       "    .dataframe thead th {\n",
       "        text-align: right;\n",
       "    }\n",
       "</style>\n",
       "<table border=\"1\" class=\"dataframe\">\n",
       "  <thead>\n",
       "    <tr style=\"text-align: right;\">\n",
       "      <th></th>\n",
       "      <th>업체코드</th>\n",
       "      <th>종목코드</th>\n",
       "      <th>종목명</th>\n",
       "      <th>_0</th>\n",
       "      <th>_0.1</th>\n",
       "      <th>_0.2</th>\n",
       "      <th>_0.3</th>\n",
       "      <th>2020/Annual/&lt;성장성에 관한 지표&gt;</th>\n",
       "      <th>2021/Annual/&lt;성장성에 관한 지표&gt;</th>\n",
       "      <th>2022/Annual/&lt;성장성에 관한 지표&gt;</th>\n",
       "      <th>...</th>\n",
       "      <th>2020/Annual/매출액영업이익율</th>\n",
       "      <th>2021/Annual/매출액영업이익율</th>\n",
       "      <th>2022/Annual/매출액영업이익율</th>\n",
       "      <th>2023/Annual/매출액영업이익율</th>\n",
       "      <th>2020/Annual/수지비율</th>\n",
       "      <th>2021/Annual/수지비율</th>\n",
       "      <th>2022/Annual/수지비율</th>\n",
       "      <th>2023/Annual/수지비율</th>\n",
       "      <th>2020/Annual/매출원가율</th>\n",
       "      <th>2021/Annual/매출원가율</th>\n",
       "    </tr>\n",
       "  </thead>\n",
       "  <tbody>\n",
       "    <tr>\n",
       "      <th>0</th>\n",
       "      <td>N840130</td>\n",
       "      <td>A000010</td>\n",
       "      <td>(주)신한은행</td>\n",
       "      <td>NaN</td>\n",
       "      <td>NaN</td>\n",
       "      <td>NaN</td>\n",
       "      <td>NaN</td>\n",
       "      <td>NaN</td>\n",
       "      <td>NaN</td>\n",
       "      <td>NaN</td>\n",
       "      <td>...</td>\n",
       "      <td>NaN</td>\n",
       "      <td>NaN</td>\n",
       "      <td>NaN</td>\n",
       "      <td>NaN</td>\n",
       "      <td>NaN</td>\n",
       "      <td>NaN</td>\n",
       "      <td>NaN</td>\n",
       "      <td>NaN</td>\n",
       "      <td>NaN</td>\n",
       "      <td>NaN</td>\n",
       "    </tr>\n",
       "    <tr>\n",
       "      <th>1</th>\n",
       "      <td>N350605</td>\n",
       "      <td>A000020</td>\n",
       "      <td>동화약품</td>\n",
       "      <td>NaN</td>\n",
       "      <td>NaN</td>\n",
       "      <td>NaN</td>\n",
       "      <td>NaN</td>\n",
       "      <td>NaN</td>\n",
       "      <td>NaN</td>\n",
       "      <td>NaN</td>\n",
       "      <td>...</td>\n",
       "      <td>8.35</td>\n",
       "      <td>6.89</td>\n",
       "      <td>8.41</td>\n",
       "      <td>5.09</td>\n",
       "      <td>88.07</td>\n",
       "      <td>92.24</td>\n",
       "      <td>93.45</td>\n",
       "      <td>90.22</td>\n",
       "      <td>49.42</td>\n",
       "      <td>50.59</td>\n",
       "    </tr>\n",
       "    <tr>\n",
       "      <th>2</th>\n",
       "      <td>N840149</td>\n",
       "      <td>A000030</td>\n",
       "      <td>(주)우리은행</td>\n",
       "      <td>NaN</td>\n",
       "      <td>NaN</td>\n",
       "      <td>NaN</td>\n",
       "      <td>NaN</td>\n",
       "      <td>NaN</td>\n",
       "      <td>NaN</td>\n",
       "      <td>NaN</td>\n",
       "      <td>...</td>\n",
       "      <td>NaN</td>\n",
       "      <td>NaN</td>\n",
       "      <td>NaN</td>\n",
       "      <td>NaN</td>\n",
       "      <td>NaN</td>\n",
       "      <td>NaN</td>\n",
       "      <td>NaN</td>\n",
       "      <td>NaN</td>\n",
       "      <td>NaN</td>\n",
       "      <td>NaN</td>\n",
       "    </tr>\n",
       "    <tr>\n",
       "      <th>3</th>\n",
       "      <td>N320498</td>\n",
       "      <td>A000040</td>\n",
       "      <td>KR모터스</td>\n",
       "      <td>NaN</td>\n",
       "      <td>NaN</td>\n",
       "      <td>NaN</td>\n",
       "      <td>NaN</td>\n",
       "      <td>NaN</td>\n",
       "      <td>NaN</td>\n",
       "      <td>NaN</td>\n",
       "      <td>...</td>\n",
       "      <td>-8.03</td>\n",
       "      <td>-5.51</td>\n",
       "      <td>-31.70</td>\n",
       "      <td>-41.98</td>\n",
       "      <td>152.79</td>\n",
       "      <td>138.53</td>\n",
       "      <td>150.78</td>\n",
       "      <td>156.91</td>\n",
       "      <td>88.18</td>\n",
       "      <td>82.61</td>\n",
       "    </tr>\n",
       "    <tr>\n",
       "      <th>4</th>\n",
       "      <td>N320684</td>\n",
       "      <td>A000050</td>\n",
       "      <td>경방</td>\n",
       "      <td>NaN</td>\n",
       "      <td>NaN</td>\n",
       "      <td>NaN</td>\n",
       "      <td>NaN</td>\n",
       "      <td>NaN</td>\n",
       "      <td>NaN</td>\n",
       "      <td>NaN</td>\n",
       "      <td>...</td>\n",
       "      <td>11.22</td>\n",
       "      <td>10.55</td>\n",
       "      <td>13.68</td>\n",
       "      <td>13.21</td>\n",
       "      <td>89.65</td>\n",
       "      <td>89.13</td>\n",
       "      <td>101.71</td>\n",
       "      <td>97.94</td>\n",
       "      <td>57.47</td>\n",
       "      <td>60.68</td>\n",
       "    </tr>\n",
       "  </tbody>\n",
       "</table>\n",
       "<p>5 rows × 117 columns</p>\n",
       "</div>"
      ],
      "text/plain": [
       "      업체코드     종목코드      종목명  _0  _0.1  _0.2  _0.3  2020/Annual/<성장성에 관한 지표>  \\\n",
       "0  N840130  A000010  (주)신한은행 NaN   NaN   NaN   NaN                       NaN   \n",
       "1  N350605  A000020     동화약품 NaN   NaN   NaN   NaN                       NaN   \n",
       "2  N840149  A000030  (주)우리은행 NaN   NaN   NaN   NaN                       NaN   \n",
       "3  N320498  A000040    KR모터스 NaN   NaN   NaN   NaN                       NaN   \n",
       "4  N320684  A000050       경방 NaN   NaN   NaN   NaN                       NaN   \n",
       "\n",
       "   2021/Annual/<성장성에 관한 지표>  2022/Annual/<성장성에 관한 지표>  ...  \\\n",
       "0                       NaN                       NaN  ...   \n",
       "1                       NaN                       NaN  ...   \n",
       "2                       NaN                       NaN  ...   \n",
       "3                       NaN                       NaN  ...   \n",
       "4                       NaN                       NaN  ...   \n",
       "\n",
       "   2020/Annual/매출액영업이익율  2021/Annual/매출액영업이익율  2022/Annual/매출액영업이익율  \\\n",
       "0                   NaN                   NaN                   NaN   \n",
       "1                  8.35                  6.89                  8.41   \n",
       "2                   NaN                   NaN                   NaN   \n",
       "3                 -8.03                 -5.51                -31.70   \n",
       "4                 11.22                 10.55                 13.68   \n",
       "\n",
       "   2023/Annual/매출액영업이익율  2020/Annual/수지비율  2021/Annual/수지비율  2022/Annual/수지비율  \\\n",
       "0                   NaN               NaN               NaN               NaN   \n",
       "1                  5.09             88.07             92.24             93.45   \n",
       "2                   NaN               NaN               NaN               NaN   \n",
       "3                -41.98            152.79            138.53            150.78   \n",
       "4                 13.21             89.65             89.13            101.71   \n",
       "\n",
       "   2023/Annual/수지비율  2020/Annual/매출원가율  2021/Annual/매출원가율  \n",
       "0               NaN                NaN                NaN  \n",
       "1             90.22              49.42              50.59  \n",
       "2               NaN                NaN                NaN  \n",
       "3            156.91              88.18              82.61  \n",
       "4             97.94              57.47              60.68  \n",
       "\n",
       "[5 rows x 117 columns]"
      ]
     },
     "execution_count": 31,
     "metadata": {},
     "output_type": "execute_result"
    }
   ],
   "source": [
    "import pandas as pd\n",
    "\n",
    "# 열 이름 변환 함수\n",
    "def transform_column_name(col_name):\n",
    "    parts = col_name.split('\\n')\n",
    "    if len(parts) == 2:\n",
    "        year, desc = parts\n",
    "        desc = desc.split('.')[1]  # 변수 설명 부분만 추출\n",
    "        return f\"{year}/{desc}\"\n",
    "    return col_name\n",
    "\n",
    "# 열 이름 변환 적용\n",
    "data.columns = [transform_column_name(col) for col in data.columns]\n",
    "\n",
    "data.head()"
   ]
  },
  {
   "cell_type": "code",
   "execution_count": 32,
   "metadata": {},
   "outputs": [
    {
     "data": {
      "text/plain": [
       "Index(['업체코드', '종목코드', '종목명', '_0', '_0.1', '_0.2', '_0.3',\n",
       "       '2020/Annual/<성장성에 관한 지표>', '2021/Annual/<성장성에 관한 지표>',\n",
       "       '2022/Annual/<성장성에 관한 지표>',\n",
       "       ...\n",
       "       '2020/Annual/매출액영업이익율', '2021/Annual/매출액영업이익율', '2022/Annual/매출액영업이익율',\n",
       "       '2023/Annual/매출액영업이익율', '2020/Annual/수지비율', '2021/Annual/수지비율',\n",
       "       '2022/Annual/수지비율', '2023/Annual/수지비율', '2020/Annual/매출원가율',\n",
       "       '2021/Annual/매출원가율'],\n",
       "      dtype='object', length=117)"
      ]
     },
     "execution_count": 32,
     "metadata": {},
     "output_type": "execute_result"
    }
   ],
   "source": [
    "data.columns"
   ]
  },
  {
   "cell_type": "code",
   "execution_count": 33,
   "metadata": {},
   "outputs": [
    {
     "data": {
      "text/plain": [
       "종목명\n",
       "(주)유원            8\n",
       "(주)화인            6\n",
       "(주)삼원            6\n",
       "(주)삼우            6\n",
       "(주)동남            5\n",
       "                ..\n",
       "(주)하이텍알씨디코리아     1\n",
       "농업회사법인조은식품(주)    1\n",
       "(주)은민씨엔씨         1\n",
       "(주)대영베이스         1\n",
       "(주)엘림글로벌         1\n",
       "Name: count, Length: 38798, dtype: int64"
      ]
     },
     "execution_count": 33,
     "metadata": {},
     "output_type": "execute_result"
    }
   ],
   "source": [
    "data['종목명'].value_counts()"
   ]
  },
  {
   "cell_type": "code",
   "execution_count": 35,
   "metadata": {},
   "outputs": [],
   "source": [
    "data.drop_duplicates(subset=['종목명'], keep='first', inplace=True)"
   ]
  },
  {
   "cell_type": "code",
   "execution_count": 36,
   "metadata": {},
   "outputs": [
    {
     "data": {
      "text/plain": [
       "종목명\n",
       "(주)신한은행         1\n",
       "(주)포트디자인랩       1\n",
       "(주)영신하우징        1\n",
       "(주)아이브이신라       1\n",
       "농업회사법인(주)무의     1\n",
       "               ..\n",
       "제트에프렘페더샤시(주)    1\n",
       "(주)마창대교         1\n",
       "(주)삼희종합건설       1\n",
       "(주)포럼씨앤디        1\n",
       "(주)엘림글로벌        1\n",
       "Name: count, Length: 38798, dtype: int64"
      ]
     },
     "execution_count": 36,
     "metadata": {},
     "output_type": "execute_result"
    }
   ],
   "source": [
    "data['종목명'].value_counts()"
   ]
  }
 ],
 "metadata": {
  "kernelspec": {
   "display_name": "Python 3",
   "language": "python",
   "name": "python3"
  },
  "language_info": {
   "codemirror_mode": {
    "name": "ipython",
    "version": 3
   },
   "file_extension": ".py",
   "mimetype": "text/x-python",
   "name": "python",
   "nbconvert_exporter": "python",
   "pygments_lexer": "ipython3",
   "version": "3.11.4"
  }
 },
 "nbformat": 4,
 "nbformat_minor": 2
}
