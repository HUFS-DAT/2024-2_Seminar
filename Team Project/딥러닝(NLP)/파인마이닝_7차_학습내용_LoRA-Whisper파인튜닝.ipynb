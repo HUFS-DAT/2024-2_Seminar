{
 "cells": [
  {
   "cell_type": "code",
   "execution_count": 20,
   "id": "7b54a4b6-8048-4a8e-a8bd-b5a64b6008c1",
   "metadata": {},
   "outputs": [],
   "source": [
    "import os\n",
    "from datasets import Dataset, concatenate_datasets\n",
    "from transformers import WhisperProcessor, WhisperForConditionalGeneration\n",
    "from peft import LoraConfig, get_peft_model\n",
    "from torch.utils.data import DataLoader\n",
    "import torch\n",
    "from torch.nn.utils.rnn import pad_sequence"
   ]
  },
  {
   "cell_type": "code",
   "execution_count": 2,
   "id": "128c83a8-3c37-4ffc-bb01-705aaf57ba27",
   "metadata": {},
   "outputs": [],
   "source": [
    "# 디바이스 설정\n",
    "device = \"cuda\" if torch.cuda.is_available() else \"cpu\""
   ]
  },
  {
   "cell_type": "code",
   "execution_count": 3,
   "id": "ff664ff0-088b-4678-8b46-7164b68d9877",
   "metadata": {},
   "outputs": [
    {
     "name": "stdout",
     "output_type": "stream",
     "text": [
      "CUDA 사용 가능 여부: True\n"
     ]
    }
   ],
   "source": [
    "print(\"CUDA 사용 가능 여부:\", torch.cuda.is_available())"
   ]
  },
  {
   "cell_type": "markdown",
   "id": "d630c1f5-5254-4328-a294-3655a88db6aa",
   "metadata": {},
   "source": [
    "## 데이터 로드"
   ]
  },
  {
   "cell_type": "markdown",
   "id": "e79678d1-0a83-42ab-a0cf-77deadb1ba6c",
   "metadata": {},
   "source": [
    "r\"C:\\Users\\MATH-3\\Downloads\\엔엘핑\\train_data\""
   ]
  },
  {
   "cell_type": "markdown",
   "id": "8a166c26-ea71-4ee2-bc63-128cb25fc8e6",
   "metadata": {},
   "source": [
    "## LoRA 설정 및 모델 준비"
   ]
  },
  {
   "cell_type": "markdown",
   "id": "ecea6176-184e-4d09-93d3-26de3496a8b3",
   "metadata": {},
   "source": [
    "## 파인튜닝"
   ]
  },
  {
   "cell_type": "code",
   "execution_count": 34,
   "id": "57c14044-2bf8-4e1a-aae2-bdb3a9f5e103",
   "metadata": {},
   "outputs": [
    {
     "name": "stdout",
     "output_type": "stream",
     "text": [
      "데이터 로드 중...\n"
     ]
    },
    {
     "name": "stderr",
     "output_type": "stream",
     "text": [
      "데이터 로드 중: 100%|██████████████████████████████████████████████████████████████████| 38/38 [00:00<00:00, 39.23it/s]\n"
     ]
    },
    {
     "name": "stdout",
     "output_type": "stream",
     "text": [
      "데이터셋 크기(필터링 전): 49276\n",
      "샘플 데이터 확인: {'indices': 16256, 'start_time': None, 'end_time': None, 'input_features': None, 'labels': None}\n"
     ]
    },
    {
     "name": "stderr",
     "output_type": "stream",
     "text": [
      "Filter: 100%|█████████████████████████████████████████████████████████████| 49276/49276 [21:29<00:00, 38.21 examples/s]"
     ]
    },
    {
     "name": "stdout",
     "output_type": "stream",
     "text": [
      "데이터셋 크기(필터링 후): 16764\n"
     ]
    },
    {
     "name": "stderr",
     "output_type": "stream",
     "text": [
      "\n"
     ]
    }
   ],
   "source": [
    "import os\n",
    "from datasets import Dataset, concatenate_datasets\n",
    "from transformers import WhisperProcessor, WhisperForConditionalGeneration\n",
    "from peft import LoraConfig, get_peft_model\n",
    "from torch.utils.data import DataLoader\n",
    "import torch\n",
    "from tqdm import tqdm\n",
    "\n",
    "# 설정\n",
    "train_data_dir = r\"C:\\Users\\MATH-3\\Downloads\\엔엘핑\\train_data\"\n",
    "model_name = \"openai/whisper-base\"\n",
    "device = torch.device(\"cuda\" if torch.cuda.is_available() else \"cpu\")\n",
    "\n",
    "# 데이터 로드 및 결합\n",
    "def load_arrow_files(directory):\n",
    "    dataset_list = []\n",
    "    for file in tqdm(os.listdir(directory), desc=\"데이터 로드 중\"):\n",
    "        if file.endswith(\".arrow\"):\n",
    "            file_path = os.path.join(directory, file)\n",
    "            try:\n",
    "                dataset = Dataset.from_file(file_path)\n",
    "                dataset_list.append(dataset)\n",
    "            except Exception as e:\n",
    "                print(f\"파일 로드 실패: {file_path}, 오류: {e}\")\n",
    "    if dataset_list:\n",
    "        return concatenate_datasets(dataset_list)\n",
    "    else:\n",
    "        raise ValueError(\"유효한 데이터셋 파일이 없습니다.\")\n",
    "\n",
    "print(\"데이터 로드 중...\")\n",
    "train_dataset = load_arrow_files(train_data_dir)\n",
    "\n",
    "# 필터링 전에 데이터셋 내용 확인\n",
    "print(f\"데이터셋 크기(필터링 전): {len(train_dataset)}\")\n",
    "print(f\"샘플 데이터 확인: {train_dataset[0]}\")  # 첫 번째 샘플 확인\n",
    "\n",
    "# None 값 필터링\n",
    "train_dataset = train_dataset.filter(lambda x: x[\"input_features\"] is not None and x[\"labels\"] is not None)\n",
    "\n",
    "# 필터링 후 데이터셋 크기 확인\n",
    "print(f\"데이터셋 크기(필터링 후): {len(train_dataset)}\")\n",
    "if len(train_dataset) == 0:\n",
    "    raise ValueError(\"필터링 결과 데이터셋이 비어 있습니다. 데이터를 확인하세요.\")\n"
   ]
  },
  {
   "cell_type": "code",
   "execution_count": 35,
   "id": "04b1925b-2b3d-4a69-8be6-2d3706ba9c18",
   "metadata": {},
   "outputs": [
    {
     "name": "stdout",
     "output_type": "stream",
     "text": [
      "모델 준비 중...\n",
      "모델 학습 시작...\n",
      "\n",
      "Epoch 1 시작...\n"
     ]
    },
    {
     "name": "stderr",
     "output_type": "stream",
     "text": [
      "Epoch 1 진행 중: 100%|████████████████████████████████████████████████| 2096/2096 [39:15<00:00,  1.12s/it, Loss=1.5715]\n"
     ]
    },
    {
     "name": "stdout",
     "output_type": "stream",
     "text": [
      "Epoch 1 완료, 평균 Loss: 1.9961\n",
      "\n",
      "Epoch 2 시작...\n"
     ]
    },
    {
     "name": "stderr",
     "output_type": "stream",
     "text": [
      "Epoch 2 진행 중: 100%|████████████████████████████████████████████████| 2096/2096 [31:27<00:00,  1.11it/s, Loss=1.7544]\n"
     ]
    },
    {
     "name": "stdout",
     "output_type": "stream",
     "text": [
      "Epoch 2 완료, 평균 Loss: 1.8435\n",
      "\n",
      "Epoch 3 시작...\n"
     ]
    },
    {
     "name": "stderr",
     "output_type": "stream",
     "text": [
      "Epoch 3 진행 중: 100%|████████████████████████████████████████████████| 2096/2096 [31:12<00:00,  1.12it/s, Loss=1.0675]\n"
     ]
    },
    {
     "name": "stdout",
     "output_type": "stream",
     "text": [
      "Epoch 3 완료, 평균 Loss: 1.8115\n",
      "모델 저장 완료: lora_whisper_model\n"
     ]
    }
   ],
   "source": [
    "from torch.nn.utils.rnn import pad_sequence\n",
    "\n",
    "# Whisper 모델 및 프로세서 준비\n",
    "processor = WhisperProcessor.from_pretrained(model_name)\n",
    "\n",
    "# LoRA 설정\n",
    "lora_config = LoraConfig(\n",
    "    r=8,\n",
    "    lora_alpha=32,\n",
    "    lora_dropout=0.1,\n",
    "    target_modules=[\"q_proj\", \"v_proj\"],\n",
    "    #task_type=\"SEQ_2_SEQ_LM\"\n",
    ")\n",
    "\n",
    "# Whisper 모델 로드 및 LoRA 적용\n",
    "print(\"모델 준비 중...\")\n",
    "model = WhisperForConditionalGeneration.from_pretrained(model_name)\n",
    "model = get_peft_model(model, lora_config)  # LoRA 적용\n",
    "model.to(device)\n",
    "\n",
    "# DataLoader 생성\n",
    "MAX_LABEL_LENGTH = 60  # 고정된 최대 길이\n",
    "\n",
    "def collate_fn(batch):\n",
    "    input_features = [torch.tensor(item[\"input_features\"]) for item in batch]\n",
    "    labels = [torch.tensor(item[\"labels\"]) for item in batch]\n",
    "\n",
    "    # 입력 데이터 패딩\n",
    "    input_features = pad_sequence(input_features, batch_first=True, padding_value=0.0)\n",
    "\n",
    "    # 라벨 패딩 - 고정된 MAX_LABEL_LENGTH 적용\n",
    "    labels = pad_sequence(\n",
    "        labels,\n",
    "        batch_first=True,\n",
    "        padding_value=processor.tokenizer.pad_token_id\n",
    "    )\n",
    "\n",
    "    # 라벨 길이를 고정된 MAX_LABEL_LENGTH로 자르거나 패딩\n",
    "    if labels.shape[1] < MAX_LABEL_LENGTH:\n",
    "        padding = torch.full(\n",
    "            (labels.shape[0], MAX_LABEL_LENGTH - labels.shape[1]),\n",
    "            processor.tokenizer.pad_token_id,\n",
    "        )\n",
    "        labels = torch.cat([labels, padding], dim=1)\n",
    "    else:\n",
    "        labels = labels[:, :MAX_LABEL_LENGTH]\n",
    "\n",
    "    return {\"input_features\": input_features, \"labels\": labels}\n",
    "\n",
    "\n",
    "train_dataloader = DataLoader(train_dataset, batch_size=8, collate_fn=collate_fn, shuffle=True)\n",
    "\n",
    "# 모델 학습 설정\n",
    "optimizer = torch.optim.AdamW(model.parameters(), lr=5e-5)\n",
    "model.train()\n",
    "\n",
    "# 모델 학습 루프\n",
    "print(\"모델 학습 시작...\")\n",
    "for epoch in range(3):\n",
    "    print(f\"\\nEpoch {epoch + 1} 시작...\")\n",
    "    epoch_loss = 0\n",
    "\n",
    "    with tqdm(train_dataloader, desc=f\"Epoch {epoch + 1} 진행 중\", leave=True, dynamic_ncols=True) as progress_bar:\n",
    "        for batch in progress_bar:\n",
    "            # 배치 데이터 추출\n",
    "            input_features = batch[\"input_features\"].to(device)\n",
    "            labels = batch[\"labels\"].to(device)\n",
    "\n",
    "            # Whisper 모델 호출\n",
    "            outputs = model(input_features=input_features, labels=labels)\n",
    "            loss = outputs.loss\n",
    "            loss.backward()\n",
    "            optimizer.step()\n",
    "            optimizer.zero_grad()\n",
    "\n",
    "            epoch_loss += loss.item()\n",
    "            progress_bar.set_postfix({\"Loss\": f\"{loss.item():.4f}\"})  # Loss 표시\n",
    "\n",
    "    avg_loss = epoch_loss / len(train_dataloader)\n",
    "    print(f\"Epoch {epoch + 1} 완료, 평균 Loss: {avg_loss:.4f}\")\n",
    "\n",
    "# 모델 저장\n",
    "output_dir = \"lora_whisper_model\"\n",
    "model.save_pretrained(output_dir)\n",
    "processor.save_pretrained(output_dir)\n",
    "\n",
    "print(f\"모델 저장 완료: {output_dir}\")\n"
   ]
  },
  {
   "cell_type": "code",
   "execution_count": 33,
   "id": "aaa65426-de1d-4561-8fe1-2424c2bddf97",
   "metadata": {},
   "outputs": [
    {
     "name": "stdout",
     "output_type": "stream",
     "text": [
      "모델 준비 중...\n",
      "모델 학습 시작...\n",
      "Epoch 1 시작...\n"
     ]
    },
    {
     "name": "stderr",
     "output_type": "stream",
     "text": [
      "Epoch 1 진행 중:   0%|                                                                        | 0/2032 [00:00<?, ?it/s]Passing a tuple of `past_key_values` is deprecated and will be removed in Transformers v4.43.0. You should pass an instance of `EncoderDecoderCache` instead, e.g. `past_key_values=EncoderDecoderCache.from_legacy_cache(past_key_values)`.\n"
     ]
    },
    {
     "name": "stdout",
     "output_type": "stream",
     "text": [
      "Input features shape: torch.Size([8, 80, 3000])\n",
      "Labels shape: torch.Size([8, 60])\n"
     ]
    },
    {
     "name": "stderr",
     "output_type": "stream",
     "text": [
      "Epoch 1 진행 중:   0%|                                                                | 1/2032 [00:01<47:56,  1.42s/it]"
     ]
    },
    {
     "name": "stdout",
     "output_type": "stream",
     "text": [
      "Input features shape: torch.Size([8, 80, 3000])\n",
      "Labels shape: torch.Size([8, 60])\n"
     ]
    },
    {
     "name": "stderr",
     "output_type": "stream",
     "text": [
      "Epoch 1 진행 중:   0%|                                                                | 2/2032 [00:02<37:54,  1.12s/it]"
     ]
    },
    {
     "name": "stdout",
     "output_type": "stream",
     "text": [
      "Input features shape: torch.Size([8, 80, 3000])\n",
      "Labels shape: torch.Size([8, 60])\n"
     ]
    },
    {
     "name": "stderr",
     "output_type": "stream",
     "text": [
      "Epoch 1 진행 중:   0%|                                                                | 3/2032 [00:03<34:38,  1.02s/it]"
     ]
    },
    {
     "name": "stdout",
     "output_type": "stream",
     "text": [
      "Input features shape: torch.Size([8, 80, 3000])\n",
      "Labels shape: torch.Size([8, 60])\n"
     ]
    },
    {
     "name": "stderr",
     "output_type": "stream",
     "text": [
      "Epoch 1 진행 중:   0%|▏                                                               | 4/2032 [00:04<34:19,  1.02s/it]"
     ]
    },
    {
     "name": "stdout",
     "output_type": "stream",
     "text": [
      "Input features shape: torch.Size([8, 80, 3000])\n",
      "Labels shape: torch.Size([8, 60])\n"
     ]
    },
    {
     "name": "stderr",
     "output_type": "stream",
     "text": [
      "Epoch 1 진행 중:   0%|▏                                                               | 5/2032 [00:05<36:11,  1.07s/it]"
     ]
    },
    {
     "name": "stdout",
     "output_type": "stream",
     "text": [
      "Input features shape: torch.Size([8, 80, 3000])\n",
      "Labels shape: torch.Size([8, 60])\n"
     ]
    },
    {
     "name": "stderr",
     "output_type": "stream",
     "text": [
      "Epoch 1 진행 중:   0%|▏                                                               | 6/2032 [00:06<39:07,  1.16s/it]"
     ]
    },
    {
     "name": "stdout",
     "output_type": "stream",
     "text": [
      "Input features shape: torch.Size([8, 80, 3000])\n",
      "Labels shape: torch.Size([8, 60])\n"
     ]
    },
    {
     "name": "stderr",
     "output_type": "stream",
     "text": [
      "Epoch 1 진행 중:   0%|▏                                                               | 7/2032 [00:07<40:01,  1.19s/it]"
     ]
    },
    {
     "name": "stdout",
     "output_type": "stream",
     "text": [
      "Input features shape: torch.Size([8, 80, 3000])\n",
      "Labels shape: torch.Size([8, 60])\n"
     ]
    },
    {
     "name": "stderr",
     "output_type": "stream",
     "text": [
      "Epoch 1 진행 중:   0%|▎                                                               | 8/2032 [00:09<38:15,  1.13s/it]"
     ]
    },
    {
     "name": "stdout",
     "output_type": "stream",
     "text": [
      "Input features shape: torch.Size([8, 80, 3000])\n",
      "Labels shape: torch.Size([8, 60])\n"
     ]
    },
    {
     "name": "stderr",
     "output_type": "stream",
     "text": [
      "Epoch 1 진행 중:   0%|▎                                                               | 9/2032 [00:09<35:51,  1.06s/it]"
     ]
    },
    {
     "name": "stdout",
     "output_type": "stream",
     "text": [
      "Input features shape: torch.Size([8, 80, 3000])\n",
      "Labels shape: torch.Size([8, 60])\n"
     ]
    },
    {
     "name": "stderr",
     "output_type": "stream",
     "text": [
      "Epoch 1 진행 중:   0%|▎                                                              | 10/2032 [00:10<34:35,  1.03s/it]"
     ]
    },
    {
     "name": "stdout",
     "output_type": "stream",
     "text": [
      "Input features shape: torch.Size([8, 80, 3000])\n",
      "Labels shape: torch.Size([8, 60])\n"
     ]
    },
    {
     "name": "stderr",
     "output_type": "stream",
     "text": [
      "Epoch 1 진행 중:   1%|▎                                                              | 11/2032 [00:12<35:57,  1.07s/it]"
     ]
    },
    {
     "name": "stdout",
     "output_type": "stream",
     "text": [
      "Input features shape: torch.Size([8, 80, 3000])\n",
      "Labels shape: torch.Size([8, 60])\n"
     ]
    },
    {
     "name": "stderr",
     "output_type": "stream",
     "text": [
      "Epoch 1 진행 중:   1%|▎                                                              | 12/2032 [00:13<38:39,  1.15s/it]"
     ]
    },
    {
     "name": "stdout",
     "output_type": "stream",
     "text": [
      "Input features shape: torch.Size([8, 80, 3000])\n",
      "Labels shape: torch.Size([8, 60])\n"
     ]
    },
    {
     "name": "stderr",
     "output_type": "stream",
     "text": [
      "Epoch 1 진행 중:   1%|▍                                                              | 13/2032 [00:14<40:02,  1.19s/it]"
     ]
    },
    {
     "name": "stdout",
     "output_type": "stream",
     "text": [
      "Input features shape: torch.Size([8, 80, 3000])\n",
      "Labels shape: torch.Size([8, 60])\n"
     ]
    },
    {
     "name": "stderr",
     "output_type": "stream",
     "text": [
      "Epoch 1 진행 중:   1%|▍                                                              | 14/2032 [00:15<39:13,  1.17s/it]"
     ]
    },
    {
     "name": "stdout",
     "output_type": "stream",
     "text": [
      "Input features shape: torch.Size([8, 80, 3000])\n",
      "Labels shape: torch.Size([8, 60])\n"
     ]
    },
    {
     "name": "stderr",
     "output_type": "stream",
     "text": [
      "Epoch 1 진행 중:   1%|▍                                                              | 15/2032 [00:16<36:40,  1.09s/it]"
     ]
    },
    {
     "name": "stdout",
     "output_type": "stream",
     "text": [
      "Input features shape: torch.Size([8, 80, 3000])\n",
      "Labels shape: torch.Size([8, 60])\n"
     ]
    },
    {
     "name": "stderr",
     "output_type": "stream",
     "text": [
      "Epoch 1 진행 중:   1%|▍                                                              | 16/2032 [00:17<34:52,  1.04s/it]"
     ]
    },
    {
     "name": "stdout",
     "output_type": "stream",
     "text": [
      "Input features shape: torch.Size([8, 80, 3000])\n",
      "Labels shape: torch.Size([8, 60])\n"
     ]
    },
    {
     "name": "stderr",
     "output_type": "stream",
     "text": [
      "Epoch 1 진행 중:   1%|▌                                                              | 17/2032 [00:18<35:13,  1.05s/it]"
     ]
    },
    {
     "name": "stdout",
     "output_type": "stream",
     "text": [
      "Input features shape: torch.Size([8, 80, 3000])\n",
      "Labels shape: torch.Size([8, 60])\n"
     ]
    },
    {
     "name": "stderr",
     "output_type": "stream",
     "text": [
      "Epoch 1 진행 중:   1%|▌                                                              | 18/2032 [00:19<37:59,  1.13s/it]"
     ]
    },
    {
     "name": "stdout",
     "output_type": "stream",
     "text": [
      "Input features shape: torch.Size([8, 80, 3000])\n",
      "Labels shape: torch.Size([8, 60])\n"
     ]
    },
    {
     "name": "stderr",
     "output_type": "stream",
     "text": [
      "Epoch 1 진행 중:   1%|▌                                                              | 19/2032 [00:21<39:45,  1.19s/it]"
     ]
    },
    {
     "name": "stdout",
     "output_type": "stream",
     "text": [
      "Input features shape: torch.Size([8, 80, 3000])\n",
      "Labels shape: torch.Size([8, 60])\n"
     ]
    },
    {
     "name": "stderr",
     "output_type": "stream",
     "text": [
      "Epoch 1 진행 중:   1%|▌                                                              | 20/2032 [00:22<39:28,  1.18s/it]"
     ]
    },
    {
     "name": "stdout",
     "output_type": "stream",
     "text": [
      "Input features shape: torch.Size([8, 80, 3000])\n",
      "Labels shape: torch.Size([8, 60])\n"
     ]
    },
    {
     "name": "stderr",
     "output_type": "stream",
     "text": [
      "Epoch 1 진행 중:   1%|▋                                                              | 21/2032 [00:23<37:27,  1.12s/it]"
     ]
    },
    {
     "name": "stdout",
     "output_type": "stream",
     "text": [
      "Input features shape: torch.Size([8, 80, 3000])\n",
      "Labels shape: torch.Size([8, 60])\n"
     ]
    },
    {
     "name": "stderr",
     "output_type": "stream",
     "text": [
      "Epoch 1 진행 중:   1%|▋                                                              | 22/2032 [00:24<35:14,  1.05s/it]"
     ]
    },
    {
     "name": "stdout",
     "output_type": "stream",
     "text": [
      "Input features shape: torch.Size([8, 80, 3000])\n",
      "Labels shape: torch.Size([8, 60])\n"
     ]
    },
    {
     "name": "stderr",
     "output_type": "stream",
     "text": [
      "Epoch 1 진행 중:   1%|▋                                                              | 23/2032 [00:25<34:42,  1.04s/it]"
     ]
    },
    {
     "name": "stdout",
     "output_type": "stream",
     "text": [
      "Input features shape: torch.Size([8, 80, 3000])\n",
      "Labels shape: torch.Size([8, 60])\n"
     ]
    },
    {
     "name": "stderr",
     "output_type": "stream",
     "text": [
      "Epoch 1 진행 중:   1%|▋                                                              | 24/2032 [00:26<37:02,  1.11s/it]"
     ]
    },
    {
     "name": "stdout",
     "output_type": "stream",
     "text": [
      "Input features shape: torch.Size([8, 80, 3000])\n",
      "Labels shape: torch.Size([8, 60])\n"
     ]
    },
    {
     "name": "stderr",
     "output_type": "stream",
     "text": [
      "Epoch 1 진행 중:   1%|▊                                                              | 25/2032 [00:27<39:02,  1.17s/it]"
     ]
    },
    {
     "name": "stdout",
     "output_type": "stream",
     "text": [
      "Input features shape: torch.Size([8, 80, 3000])\n",
      "Labels shape: torch.Size([8, 60])\n"
     ]
    },
    {
     "name": "stderr",
     "output_type": "stream",
     "text": [
      "Epoch 1 진행 중:   1%|▊                                                              | 26/2032 [00:29<39:13,  1.17s/it]"
     ]
    },
    {
     "name": "stdout",
     "output_type": "stream",
     "text": [
      "Input features shape: torch.Size([8, 80, 3000])\n",
      "Labels shape: torch.Size([8, 60])\n"
     ]
    },
    {
     "name": "stderr",
     "output_type": "stream",
     "text": [
      "Epoch 1 진행 중:   1%|▊                                                              | 27/2032 [00:30<37:33,  1.12s/it]"
     ]
    },
    {
     "name": "stdout",
     "output_type": "stream",
     "text": [
      "Input features shape: torch.Size([8, 80, 3000])\n",
      "Labels shape: torch.Size([8, 60])\n"
     ]
    },
    {
     "name": "stderr",
     "output_type": "stream",
     "text": [
      "Epoch 1 진행 중:   1%|▊                                                              | 28/2032 [00:31<35:19,  1.06s/it]"
     ]
    },
    {
     "name": "stdout",
     "output_type": "stream",
     "text": [
      "Input features shape: torch.Size([8, 80, 3000])\n",
      "Labels shape: torch.Size([8, 60])\n"
     ]
    },
    {
     "name": "stderr",
     "output_type": "stream",
     "text": [
      "Epoch 1 진행 중:   1%|▉                                                              | 29/2032 [00:31<34:29,  1.03s/it]"
     ]
    },
    {
     "name": "stdout",
     "output_type": "stream",
     "text": [
      "Input features shape: torch.Size([8, 80, 3000])\n",
      "Labels shape: torch.Size([8, 60])\n"
     ]
    },
    {
     "name": "stderr",
     "output_type": "stream",
     "text": [
      "Epoch 1 진행 중:   1%|▉                                                              | 30/2032 [00:33<36:35,  1.10s/it]"
     ]
    },
    {
     "name": "stdout",
     "output_type": "stream",
     "text": [
      "Input features shape: torch.Size([8, 80, 3000])\n",
      "Labels shape: torch.Size([8, 60])\n"
     ]
    },
    {
     "name": "stderr",
     "output_type": "stream",
     "text": [
      "Epoch 1 진행 중:   2%|▉                                                              | 31/2032 [00:34<38:42,  1.16s/it]"
     ]
    },
    {
     "name": "stdout",
     "output_type": "stream",
     "text": [
      "Input features shape: torch.Size([8, 80, 3000])\n",
      "Labels shape: torch.Size([8, 60])\n"
     ]
    },
    {
     "name": "stderr",
     "output_type": "stream",
     "text": [
      "Epoch 1 진행 중:   2%|▉                                                              | 32/2032 [00:35<39:29,  1.18s/it]"
     ]
    },
    {
     "name": "stdout",
     "output_type": "stream",
     "text": [
      "Input features shape: torch.Size([8, 80, 3000])\n",
      "Labels shape: torch.Size([8, 60])\n"
     ]
    },
    {
     "name": "stderr",
     "output_type": "stream",
     "text": [
      "Epoch 1 진행 중:   2%|█                                                              | 33/2032 [00:36<37:12,  1.12s/it]"
     ]
    },
    {
     "name": "stdout",
     "output_type": "stream",
     "text": [
      "Input features shape: torch.Size([8, 80, 3000])\n",
      "Labels shape: torch.Size([8, 60])\n"
     ]
    },
    {
     "name": "stderr",
     "output_type": "stream",
     "text": [
      "Epoch 1 진행 중:   2%|█                                                              | 34/2032 [00:37<35:09,  1.06s/it]"
     ]
    },
    {
     "name": "stdout",
     "output_type": "stream",
     "text": [
      "Input features shape: torch.Size([8, 80, 3000])\n",
      "Labels shape: torch.Size([8, 60])\n"
     ]
    },
    {
     "name": "stderr",
     "output_type": "stream",
     "text": [
      "Epoch 1 진행 중:   2%|█                                                              | 35/2032 [00:38<33:37,  1.01s/it]"
     ]
    },
    {
     "name": "stdout",
     "output_type": "stream",
     "text": [
      "Input features shape: torch.Size([8, 80, 3000])\n",
      "Labels shape: torch.Size([8, 60])\n"
     ]
    },
    {
     "name": "stderr",
     "output_type": "stream",
     "text": [
      "Epoch 1 진행 중:   2%|█                                                              | 36/2032 [00:39<34:57,  1.05s/it]"
     ]
    },
    {
     "name": "stdout",
     "output_type": "stream",
     "text": [
      "Input features shape: torch.Size([8, 80, 3000])\n",
      "Labels shape: torch.Size([8, 60])\n"
     ]
    },
    {
     "name": "stderr",
     "output_type": "stream",
     "text": [
      "Epoch 1 진행 중:   2%|█▏                                                             | 37/2032 [00:41<37:38,  1.13s/it]"
     ]
    },
    {
     "name": "stdout",
     "output_type": "stream",
     "text": [
      "Input features shape: torch.Size([8, 80, 3000])\n",
      "Labels shape: torch.Size([8, 60])\n"
     ]
    },
    {
     "name": "stderr",
     "output_type": "stream",
     "text": [
      "Epoch 1 진행 중:   2%|█▏                                                             | 38/2032 [00:42<39:04,  1.18s/it]"
     ]
    },
    {
     "name": "stdout",
     "output_type": "stream",
     "text": [
      "Input features shape: torch.Size([8, 80, 3000])\n",
      "Labels shape: torch.Size([8, 60])\n"
     ]
    },
    {
     "name": "stderr",
     "output_type": "stream",
     "text": [
      "Epoch 1 진행 중:   2%|█▏                                                             | 39/2032 [00:43<38:20,  1.15s/it]"
     ]
    },
    {
     "name": "stdout",
     "output_type": "stream",
     "text": [
      "Input features shape: torch.Size([8, 80, 3000])\n",
      "Labels shape: torch.Size([8, 60])\n"
     ]
    },
    {
     "name": "stderr",
     "output_type": "stream",
     "text": [
      "Epoch 1 진행 중:   2%|█▏                                                             | 40/2032 [00:44<35:54,  1.08s/it]"
     ]
    },
    {
     "name": "stdout",
     "output_type": "stream",
     "text": [
      "Input features shape: torch.Size([8, 80, 3000])\n",
      "Labels shape: torch.Size([8, 60])\n"
     ]
    },
    {
     "name": "stderr",
     "output_type": "stream",
     "text": [
      "Epoch 1 진행 중:   2%|█▎                                                             | 41/2032 [00:45<34:04,  1.03s/it]"
     ]
    },
    {
     "name": "stdout",
     "output_type": "stream",
     "text": [
      "Input features shape: torch.Size([8, 80, 3000])\n",
      "Labels shape: torch.Size([8, 60])\n"
     ]
    },
    {
     "name": "stderr",
     "output_type": "stream",
     "text": [
      "Epoch 1 진행 중:   2%|█▎                                                             | 42/2032 [00:46<34:49,  1.05s/it]"
     ]
    },
    {
     "name": "stdout",
     "output_type": "stream",
     "text": [
      "Input features shape: torch.Size([8, 80, 3000])\n",
      "Labels shape: torch.Size([8, 60])\n"
     ]
    },
    {
     "name": "stderr",
     "output_type": "stream",
     "text": [
      "Epoch 1 진행 중:   2%|█▎                                                             | 43/2032 [00:47<37:09,  1.12s/it]"
     ]
    },
    {
     "name": "stdout",
     "output_type": "stream",
     "text": [
      "Input features shape: torch.Size([8, 80, 3000])\n",
      "Labels shape: torch.Size([8, 60])\n"
     ]
    },
    {
     "name": "stderr",
     "output_type": "stream",
     "text": [
      "Epoch 1 진행 중:   2%|█▎                                                             | 44/2032 [00:48<39:02,  1.18s/it]"
     ]
    },
    {
     "name": "stdout",
     "output_type": "stream",
     "text": [
      "Input features shape: torch.Size([8, 80, 3000])\n",
      "Labels shape: torch.Size([8, 60])\n"
     ]
    },
    {
     "name": "stderr",
     "output_type": "stream",
     "text": [
      "Epoch 1 진행 중:   2%|█▍                                                             | 45/2032 [00:50<39:15,  1.19s/it]"
     ]
    },
    {
     "name": "stdout",
     "output_type": "stream",
     "text": [
      "Input features shape: torch.Size([8, 80, 3000])\n",
      "Labels shape: torch.Size([8, 60])\n"
     ]
    },
    {
     "name": "stderr",
     "output_type": "stream",
     "text": [
      "Epoch 1 진행 중:   2%|█▍                                                             | 46/2032 [00:51<37:50,  1.14s/it]"
     ]
    },
    {
     "name": "stdout",
     "output_type": "stream",
     "text": [
      "Input features shape: torch.Size([8, 80, 3000])\n",
      "Labels shape: torch.Size([8, 60])\n"
     ]
    },
    {
     "name": "stderr",
     "output_type": "stream",
     "text": [
      "Epoch 1 진행 중:   2%|█▍                                                             | 47/2032 [00:52<35:36,  1.08s/it]"
     ]
    },
    {
     "name": "stdout",
     "output_type": "stream",
     "text": [
      "Input features shape: torch.Size([8, 80, 3000])\n",
      "Labels shape: torch.Size([8, 60])\n"
     ]
    },
    {
     "name": "stderr",
     "output_type": "stream",
     "text": [
      "Epoch 1 진행 중:   2%|█▍                                                             | 48/2032 [00:52<33:55,  1.03s/it]"
     ]
    },
    {
     "name": "stdout",
     "output_type": "stream",
     "text": [
      "Input features shape: torch.Size([8, 80, 3000])\n",
      "Labels shape: torch.Size([8, 60])\n"
     ]
    },
    {
     "name": "stderr",
     "output_type": "stream",
     "text": [
      "Epoch 1 진행 중:   2%|█▌                                                             | 49/2032 [00:54<34:42,  1.05s/it]"
     ]
    },
    {
     "name": "stdout",
     "output_type": "stream",
     "text": [
      "Input features shape: torch.Size([8, 80, 3000])\n",
      "Labels shape: torch.Size([8, 60])\n"
     ]
    },
    {
     "name": "stderr",
     "output_type": "stream",
     "text": [
      "Epoch 1 진행 중:   2%|█▌                                                             | 50/2032 [00:55<37:23,  1.13s/it]"
     ]
    },
    {
     "name": "stdout",
     "output_type": "stream",
     "text": [
      "Input features shape: torch.Size([8, 80, 3000])\n",
      "Labels shape: torch.Size([8, 60])\n"
     ]
    },
    {
     "name": "stderr",
     "output_type": "stream",
     "text": [
      "Epoch 1 진행 중:   3%|█▌                                                             | 51/2032 [00:56<39:10,  1.19s/it]"
     ]
    },
    {
     "name": "stdout",
     "output_type": "stream",
     "text": [
      "Input features shape: torch.Size([8, 80, 3000])\n",
      "Labels shape: torch.Size([8, 60])\n"
     ]
    },
    {
     "name": "stderr",
     "output_type": "stream",
     "text": [
      "Epoch 1 진행 중:   3%|█▌                                                             | 52/2032 [00:57<38:23,  1.16s/it]"
     ]
    },
    {
     "name": "stdout",
     "output_type": "stream",
     "text": [
      "Input features shape: torch.Size([8, 80, 3000])\n",
      "Labels shape: torch.Size([8, 60])\n"
     ]
    },
    {
     "name": "stderr",
     "output_type": "stream",
     "text": [
      "Epoch 1 진행 중:   3%|█▋                                                             | 53/2032 [00:58<36:18,  1.10s/it]"
     ]
    },
    {
     "name": "stdout",
     "output_type": "stream",
     "text": [
      "Input features shape: torch.Size([8, 80, 3000])\n",
      "Labels shape: torch.Size([8, 60])\n"
     ]
    },
    {
     "name": "stderr",
     "output_type": "stream",
     "text": [
      "Epoch 1 진행 중:   3%|█▋                                                             | 54/2032 [00:59<34:20,  1.04s/it]"
     ]
    },
    {
     "name": "stdout",
     "output_type": "stream",
     "text": [
      "Input features shape: torch.Size([8, 80, 3000])\n",
      "Labels shape: torch.Size([8, 60])\n"
     ]
    },
    {
     "name": "stderr",
     "output_type": "stream",
     "text": [
      "Epoch 1 진행 중:   3%|█▋                                                             | 55/2032 [01:00<33:10,  1.01s/it]"
     ]
    },
    {
     "name": "stdout",
     "output_type": "stream",
     "text": [
      "Input features shape: torch.Size([8, 80, 3000])\n",
      "Labels shape: torch.Size([8, 60])\n"
     ]
    },
    {
     "name": "stderr",
     "output_type": "stream",
     "text": [
      "Epoch 1 진행 중:   3%|█▋                                                             | 56/2032 [01:01<34:36,  1.05s/it]"
     ]
    },
    {
     "name": "stdout",
     "output_type": "stream",
     "text": [
      "Input features shape: torch.Size([8, 80, 3000])\n",
      "Labels shape: torch.Size([8, 60])\n"
     ]
    },
    {
     "name": "stderr",
     "output_type": "stream",
     "text": [
      "Epoch 1 진행 중:   3%|█▊                                                             | 57/2032 [01:03<37:00,  1.12s/it]"
     ]
    },
    {
     "name": "stdout",
     "output_type": "stream",
     "text": [
      "Input features shape: torch.Size([8, 80, 3000])\n",
      "Labels shape: torch.Size([8, 60])\n"
     ]
    },
    {
     "name": "stderr",
     "output_type": "stream",
     "text": [
      "Epoch 1 진행 중:   3%|█▊                                                             | 58/2032 [01:04<38:28,  1.17s/it]"
     ]
    },
    {
     "name": "stdout",
     "output_type": "stream",
     "text": [
      "Input features shape: torch.Size([8, 80, 3000])\n",
      "Labels shape: torch.Size([8, 60])\n"
     ]
    },
    {
     "name": "stderr",
     "output_type": "stream",
     "text": [
      "Epoch 1 진행 중:   3%|█▊                                                             | 59/2032 [01:05<38:03,  1.16s/it]"
     ]
    },
    {
     "name": "stdout",
     "output_type": "stream",
     "text": [
      "Input features shape: torch.Size([8, 80, 3000])\n",
      "Labels shape: torch.Size([8, 60])\n"
     ]
    },
    {
     "name": "stderr",
     "output_type": "stream",
     "text": [
      "Epoch 1 진행 중:   3%|█▊                                                             | 60/2032 [01:06<35:39,  1.08s/it]"
     ]
    },
    {
     "name": "stdout",
     "output_type": "stream",
     "text": [
      "Input features shape: torch.Size([8, 80, 3000])\n",
      "Labels shape: torch.Size([8, 60])\n"
     ]
    },
    {
     "name": "stderr",
     "output_type": "stream",
     "text": [
      "Epoch 1 진행 중:   3%|█▉                                                             | 61/2032 [01:07<33:58,  1.03s/it]"
     ]
    },
    {
     "name": "stdout",
     "output_type": "stream",
     "text": [
      "Input features shape: torch.Size([8, 80, 3000])\n",
      "Labels shape: torch.Size([8, 60])\n"
     ]
    },
    {
     "name": "stderr",
     "output_type": "stream",
     "text": [
      "Epoch 1 진행 중:   3%|█▉                                                             | 62/2032 [01:08<33:52,  1.03s/it]"
     ]
    },
    {
     "name": "stdout",
     "output_type": "stream",
     "text": [
      "Input features shape: torch.Size([8, 80, 3000])\n",
      "Labels shape: torch.Size([8, 60])\n"
     ]
    },
    {
     "name": "stderr",
     "output_type": "stream",
     "text": [
      "Epoch 1 진행 중:   3%|█▉                                                             | 63/2032 [01:09<36:19,  1.11s/it]"
     ]
    },
    {
     "name": "stdout",
     "output_type": "stream",
     "text": [
      "Input features shape: torch.Size([8, 80, 3000])\n",
      "Labels shape: torch.Size([8, 60])\n"
     ]
    },
    {
     "name": "stderr",
     "output_type": "stream",
     "text": [
      "Epoch 1 진행 중:   3%|█▉                                                             | 64/2032 [01:10<38:03,  1.16s/it]"
     ]
    },
    {
     "name": "stdout",
     "output_type": "stream",
     "text": [
      "Input features shape: torch.Size([8, 80, 3000])\n",
      "Labels shape: torch.Size([8, 60])\n"
     ]
    },
    {
     "name": "stderr",
     "output_type": "stream",
     "text": [
      "Epoch 1 진행 중:   3%|██                                                             | 65/2032 [01:12<38:43,  1.18s/it]"
     ]
    },
    {
     "name": "stdout",
     "output_type": "stream",
     "text": [
      "Input features shape: torch.Size([8, 80, 3000])\n",
      "Labels shape: torch.Size([8, 60])\n"
     ]
    },
    {
     "name": "stderr",
     "output_type": "stream",
     "text": [
      "Epoch 1 진행 중:   3%|██                                                             | 66/2032 [01:13<37:16,  1.14s/it]"
     ]
    },
    {
     "name": "stdout",
     "output_type": "stream",
     "text": [
      "Input features shape: torch.Size([8, 80, 3000])\n",
      "Labels shape: torch.Size([8, 60])\n"
     ]
    },
    {
     "name": "stderr",
     "output_type": "stream",
     "text": [
      "Epoch 1 진행 중:   3%|██                                                             | 67/2032 [01:14<34:51,  1.06s/it]"
     ]
    },
    {
     "name": "stdout",
     "output_type": "stream",
     "text": [
      "Input features shape: torch.Size([8, 80, 3000])\n",
      "Labels shape: torch.Size([8, 60])\n"
     ]
    },
    {
     "name": "stderr",
     "output_type": "stream",
     "text": [
      "Epoch 1 진행 중:   3%|██                                                             | 68/2032 [01:14<33:23,  1.02s/it]"
     ]
    },
    {
     "name": "stdout",
     "output_type": "stream",
     "text": [
      "Input features shape: torch.Size([8, 80, 3000])\n",
      "Labels shape: torch.Size([8, 60])\n"
     ]
    },
    {
     "name": "stderr",
     "output_type": "stream",
     "text": [
      "Epoch 1 진행 중:   3%|██▏                                                            | 69/2032 [01:16<34:11,  1.05s/it]"
     ]
    },
    {
     "name": "stdout",
     "output_type": "stream",
     "text": [
      "Input features shape: torch.Size([8, 80, 3000])\n",
      "Labels shape: torch.Size([8, 60])\n"
     ]
    },
    {
     "name": "stderr",
     "output_type": "stream",
     "text": [
      "Epoch 1 진행 중:   3%|██▏                                                            | 70/2032 [01:17<36:23,  1.11s/it]"
     ]
    },
    {
     "name": "stdout",
     "output_type": "stream",
     "text": [
      "Input features shape: torch.Size([8, 80, 3000])\n",
      "Labels shape: torch.Size([8, 60])\n"
     ]
    },
    {
     "name": "stderr",
     "output_type": "stream",
     "text": [
      "Epoch 1 진행 중:   3%|██▏                                                            | 71/2032 [01:18<38:11,  1.17s/it]"
     ]
    },
    {
     "name": "stdout",
     "output_type": "stream",
     "text": [
      "Input features shape: torch.Size([8, 80, 3000])\n",
      "Labels shape: torch.Size([8, 60])\n"
     ]
    },
    {
     "name": "stderr",
     "output_type": "stream",
     "text": [
      "Epoch 1 진행 중:   4%|██▏                                                            | 72/2032 [01:19<38:22,  1.17s/it]"
     ]
    },
    {
     "name": "stdout",
     "output_type": "stream",
     "text": [
      "Input features shape: torch.Size([8, 80, 3000])\n",
      "Labels shape: torch.Size([8, 60])\n"
     ]
    },
    {
     "name": "stderr",
     "output_type": "stream",
     "text": [
      "Epoch 1 진행 중:   4%|██▎                                                            | 73/2032 [01:20<36:49,  1.13s/it]"
     ]
    },
    {
     "name": "stdout",
     "output_type": "stream",
     "text": [
      "Input features shape: torch.Size([8, 80, 3000])\n",
      "Labels shape: torch.Size([8, 60])\n"
     ]
    },
    {
     "name": "stderr",
     "output_type": "stream",
     "text": [
      "Epoch 1 진행 중:   4%|██▎                                                            | 74/2032 [01:21<34:36,  1.06s/it]"
     ]
    },
    {
     "name": "stdout",
     "output_type": "stream",
     "text": [
      "Input features shape: torch.Size([8, 80, 3000])\n",
      "Labels shape: torch.Size([8, 60])\n"
     ]
    },
    {
     "name": "stderr",
     "output_type": "stream",
     "text": [
      "Epoch 1 진행 중:   4%|██▎                                                            | 75/2032 [01:22<32:50,  1.01s/it]"
     ]
    },
    {
     "name": "stdout",
     "output_type": "stream",
     "text": [
      "Input features shape: torch.Size([8, 80, 3000])\n",
      "Labels shape: torch.Size([8, 60])\n"
     ]
    },
    {
     "name": "stderr",
     "output_type": "stream",
     "text": [
      "Epoch 1 진행 중:   4%|██▎                                                            | 76/2032 [01:23<33:53,  1.04s/it]"
     ]
    },
    {
     "name": "stdout",
     "output_type": "stream",
     "text": [
      "Input features shape: torch.Size([8, 80, 3000])\n",
      "Labels shape: torch.Size([8, 60])\n"
     ]
    },
    {
     "name": "stderr",
     "output_type": "stream",
     "text": [
      "Epoch 1 진행 중:   4%|██▍                                                            | 77/2032 [01:25<35:56,  1.10s/it]"
     ]
    },
    {
     "name": "stdout",
     "output_type": "stream",
     "text": [
      "Input features shape: torch.Size([8, 80, 3000])\n",
      "Labels shape: torch.Size([8, 60])\n"
     ]
    },
    {
     "name": "stderr",
     "output_type": "stream",
     "text": [
      "Epoch 1 진행 중:   4%|██▍                                                            | 78/2032 [01:26<37:49,  1.16s/it]"
     ]
    },
    {
     "name": "stdout",
     "output_type": "stream",
     "text": [
      "Input features shape: torch.Size([8, 80, 3000])\n",
      "Labels shape: torch.Size([8, 60])\n"
     ]
    },
    {
     "name": "stderr",
     "output_type": "stream",
     "text": [
      "Epoch 1 진행 중:   4%|██▍                                                            | 79/2032 [01:27<38:01,  1.17s/it]"
     ]
    },
    {
     "name": "stdout",
     "output_type": "stream",
     "text": [
      "Input features shape: torch.Size([8, 80, 3000])\n",
      "Labels shape: torch.Size([8, 60])\n"
     ]
    },
    {
     "name": "stderr",
     "output_type": "stream",
     "text": [
      "Epoch 1 진행 중:   4%|██▍                                                            | 80/2032 [01:28<36:28,  1.12s/it]"
     ]
    },
    {
     "name": "stdout",
     "output_type": "stream",
     "text": [
      "Input features shape: torch.Size([8, 80, 3000])\n",
      "Labels shape: torch.Size([8, 60])\n"
     ]
    },
    {
     "name": "stderr",
     "output_type": "stream",
     "text": [
      "Epoch 1 진행 중:   4%|██▌                                                            | 81/2032 [01:29<34:30,  1.06s/it]"
     ]
    },
    {
     "name": "stdout",
     "output_type": "stream",
     "text": [
      "Input features shape: torch.Size([8, 80, 3000])\n",
      "Labels shape: torch.Size([8, 60])\n"
     ]
    },
    {
     "name": "stderr",
     "output_type": "stream",
     "text": [
      "Epoch 1 진행 중:   4%|██▌                                                            | 82/2032 [01:30<34:01,  1.05s/it]"
     ]
    },
    {
     "name": "stdout",
     "output_type": "stream",
     "text": [
      "Input features shape: torch.Size([8, 80, 3000])\n",
      "Labels shape: torch.Size([8, 60])\n"
     ]
    },
    {
     "name": "stderr",
     "output_type": "stream",
     "text": [
      "Epoch 1 진행 중:   4%|██▌                                                            | 83/2032 [01:31<36:31,  1.12s/it]"
     ]
    },
    {
     "name": "stdout",
     "output_type": "stream",
     "text": [
      "Input features shape: torch.Size([8, 80, 3000])\n",
      "Labels shape: torch.Size([8, 60])\n"
     ]
    },
    {
     "name": "stderr",
     "output_type": "stream",
     "text": [
      "Epoch 1 진행 중:   4%|██▌                                                            | 84/2032 [01:33<38:20,  1.18s/it]"
     ]
    },
    {
     "name": "stdout",
     "output_type": "stream",
     "text": [
      "Input features shape: torch.Size([8, 80, 3000])\n",
      "Labels shape: torch.Size([8, 60])\n"
     ]
    },
    {
     "name": "stderr",
     "output_type": "stream",
     "text": [
      "Epoch 1 진행 중:   4%|██▋                                                            | 85/2032 [01:34<38:24,  1.18s/it]"
     ]
    },
    {
     "name": "stdout",
     "output_type": "stream",
     "text": [
      "Input features shape: torch.Size([8, 80, 3000])\n",
      "Labels shape: torch.Size([8, 60])\n"
     ]
    },
    {
     "name": "stderr",
     "output_type": "stream",
     "text": [
      "Epoch 1 진행 중:   4%|██▋                                                            | 86/2032 [01:35<36:29,  1.13s/it]"
     ]
    },
    {
     "name": "stdout",
     "output_type": "stream",
     "text": [
      "Input features shape: torch.Size([8, 80, 3000])\n",
      "Labels shape: torch.Size([8, 60])\n"
     ]
    },
    {
     "name": "stderr",
     "output_type": "stream",
     "text": [
      "Epoch 1 진행 중:   4%|██▋                                                            | 87/2032 [01:36<34:21,  1.06s/it]"
     ]
    },
    {
     "name": "stdout",
     "output_type": "stream",
     "text": [
      "Input features shape: torch.Size([8, 80, 3000])\n",
      "Labels shape: torch.Size([8, 60])\n"
     ]
    },
    {
     "name": "stderr",
     "output_type": "stream",
     "text": [
      "Epoch 1 진행 중:   4%|██▋                                                            | 88/2032 [01:37<33:14,  1.03s/it]"
     ]
    },
    {
     "name": "stdout",
     "output_type": "stream",
     "text": [
      "Input features shape: torch.Size([8, 80, 3000])\n",
      "Labels shape: torch.Size([8, 60])\n"
     ]
    },
    {
     "name": "stderr",
     "output_type": "stream",
     "text": [
      "Epoch 1 진행 중:   4%|██▊                                                            | 89/2032 [01:38<34:39,  1.07s/it]"
     ]
    },
    {
     "name": "stdout",
     "output_type": "stream",
     "text": [
      "Input features shape: torch.Size([8, 80, 3000])\n",
      "Labels shape: torch.Size([8, 60])\n"
     ]
    },
    {
     "name": "stderr",
     "output_type": "stream",
     "text": [
      "Epoch 1 진행 중:   4%|██▊                                                            | 90/2032 [01:39<36:44,  1.14s/it]"
     ]
    },
    {
     "name": "stdout",
     "output_type": "stream",
     "text": [
      "Input features shape: torch.Size([8, 80, 3000])\n",
      "Labels shape: torch.Size([8, 60])\n"
     ]
    },
    {
     "name": "stderr",
     "output_type": "stream",
     "text": [
      "Epoch 1 진행 중:   4%|██▊                                                            | 91/2032 [01:40<38:30,  1.19s/it]"
     ]
    },
    {
     "name": "stdout",
     "output_type": "stream",
     "text": [
      "Input features shape: torch.Size([8, 80, 3000])\n",
      "Labels shape: torch.Size([8, 60])\n"
     ]
    },
    {
     "name": "stderr",
     "output_type": "stream",
     "text": [
      "Epoch 1 진행 중:   5%|██▊                                                            | 92/2032 [01:42<38:00,  1.18s/it]"
     ]
    },
    {
     "name": "stdout",
     "output_type": "stream",
     "text": [
      "Input features shape: torch.Size([8, 80, 3000])\n",
      "Labels shape: torch.Size([8, 60])\n"
     ]
    },
    {
     "name": "stderr",
     "output_type": "stream",
     "text": [
      "Epoch 1 진행 중:   5%|██▉                                                            | 93/2032 [01:42<35:36,  1.10s/it]"
     ]
    },
    {
     "name": "stdout",
     "output_type": "stream",
     "text": [
      "Input features shape: torch.Size([8, 80, 3000])\n",
      "Labels shape: torch.Size([8, 60])\n"
     ]
    },
    {
     "name": "stderr",
     "output_type": "stream",
     "text": [
      "Epoch 1 진행 중:   5%|██▉                                                            | 94/2032 [01:43<33:39,  1.04s/it]"
     ]
    },
    {
     "name": "stdout",
     "output_type": "stream",
     "text": [
      "Input features shape: torch.Size([8, 80, 3000])\n",
      "Labels shape: torch.Size([8, 60])\n"
     ]
    },
    {
     "name": "stderr",
     "output_type": "stream",
     "text": [
      "Epoch 1 진행 중:   5%|██▉                                                            | 95/2032 [01:44<33:21,  1.03s/it]"
     ]
    },
    {
     "name": "stdout",
     "output_type": "stream",
     "text": [
      "Input features shape: torch.Size([8, 80, 3000])\n",
      "Labels shape: torch.Size([8, 60])\n"
     ]
    },
    {
     "name": "stderr",
     "output_type": "stream",
     "text": [
      "Epoch 1 진행 중:   5%|██▉                                                            | 96/2032 [01:46<35:17,  1.09s/it]"
     ]
    },
    {
     "name": "stdout",
     "output_type": "stream",
     "text": [
      "Input features shape: torch.Size([8, 80, 3000])\n",
      "Labels shape: torch.Size([8, 60])\n"
     ]
    },
    {
     "name": "stderr",
     "output_type": "stream",
     "text": [
      "Epoch 1 진행 중:   5%|███                                                            | 97/2032 [01:47<37:20,  1.16s/it]"
     ]
    },
    {
     "name": "stdout",
     "output_type": "stream",
     "text": [
      "Input features shape: torch.Size([8, 80, 3000])\n",
      "Labels shape: torch.Size([8, 60])\n"
     ]
    },
    {
     "name": "stderr",
     "output_type": "stream",
     "text": [
      "Epoch 1 진행 중:   5%|███                                                            | 98/2032 [01:48<38:42,  1.20s/it]"
     ]
    },
    {
     "name": "stdout",
     "output_type": "stream",
     "text": [
      "Input features shape: torch.Size([8, 80, 3000])\n",
      "Labels shape: torch.Size([8, 60])\n"
     ]
    },
    {
     "name": "stderr",
     "output_type": "stream",
     "text": [
      "Epoch 1 진행 중:   5%|███                                                            | 99/2032 [01:49<38:42,  1.20s/it]"
     ]
    },
    {
     "name": "stdout",
     "output_type": "stream",
     "text": [
      "Input features shape: torch.Size([8, 80, 3000])\n",
      "Labels shape: torch.Size([8, 60])\n"
     ]
    },
    {
     "name": "stderr",
     "output_type": "stream",
     "text": [
      "Epoch 1 진행 중:   5%|███                                                           | 100/2032 [01:50<36:45,  1.14s/it]"
     ]
    },
    {
     "name": "stdout",
     "output_type": "stream",
     "text": [
      "Input features shape: torch.Size([8, 80, 3000])\n",
      "Labels shape: torch.Size([8, 60])\n"
     ]
    },
    {
     "name": "stderr",
     "output_type": "stream",
     "text": [
      "Epoch 1 진행 중:   5%|███                                                           | 101/2032 [01:51<34:18,  1.07s/it]"
     ]
    },
    {
     "name": "stdout",
     "output_type": "stream",
     "text": [
      "Input features shape: torch.Size([8, 80, 3000])\n",
      "Labels shape: torch.Size([8, 60])\n"
     ]
    },
    {
     "name": "stderr",
     "output_type": "stream",
     "text": [
      "Epoch 1 진행 중:   5%|███                                                           | 102/2032 [01:52<33:01,  1.03s/it]"
     ]
    },
    {
     "name": "stdout",
     "output_type": "stream",
     "text": [
      "Input features shape: torch.Size([8, 80, 3000])\n",
      "Labels shape: torch.Size([8, 60])\n"
     ]
    },
    {
     "name": "stderr",
     "output_type": "stream",
     "text": [
      "Epoch 1 진행 중:   5%|███▏                                                          | 103/2032 [01:53<34:16,  1.07s/it]"
     ]
    },
    {
     "name": "stdout",
     "output_type": "stream",
     "text": [
      "Input features shape: torch.Size([8, 80, 3000])\n",
      "Labels shape: torch.Size([8, 60])\n"
     ]
    },
    {
     "name": "stderr",
     "output_type": "stream",
     "text": [
      "Epoch 1 진행 중:   5%|███▏                                                          | 104/2032 [01:55<36:39,  1.14s/it]"
     ]
    },
    {
     "name": "stdout",
     "output_type": "stream",
     "text": [
      "Input features shape: torch.Size([8, 80, 3000])\n",
      "Labels shape: torch.Size([8, 60])\n"
     ]
    },
    {
     "name": "stderr",
     "output_type": "stream",
     "text": [
      "Epoch 1 진행 중:   5%|███▏                                                          | 105/2032 [01:56<38:04,  1.19s/it]"
     ]
    },
    {
     "name": "stdout",
     "output_type": "stream",
     "text": [
      "Input features shape: torch.Size([8, 80, 3000])\n",
      "Labels shape: torch.Size([8, 60])\n"
     ]
    },
    {
     "name": "stderr",
     "output_type": "stream",
     "text": [
      "Epoch 1 진행 중:   5%|███▏                                                          | 106/2032 [01:57<36:49,  1.15s/it]"
     ]
    },
    {
     "name": "stdout",
     "output_type": "stream",
     "text": [
      "Input features shape: torch.Size([8, 80, 3000])\n",
      "Labels shape: torch.Size([8, 60])\n"
     ]
    },
    {
     "name": "stderr",
     "output_type": "stream",
     "text": [
      "Epoch 1 진행 중:   5%|███▎                                                          | 107/2032 [01:58<34:23,  1.07s/it]"
     ]
    },
    {
     "name": "stdout",
     "output_type": "stream",
     "text": [
      "Input features shape: torch.Size([8, 80, 3000])\n",
      "Labels shape: torch.Size([8, 60])\n"
     ]
    },
    {
     "name": "stderr",
     "output_type": "stream",
     "text": [
      "Epoch 1 진행 중:   5%|███▎                                                          | 108/2032 [01:59<32:41,  1.02s/it]"
     ]
    },
    {
     "name": "stdout",
     "output_type": "stream",
     "text": [
      "Input features shape: torch.Size([8, 80, 3000])\n",
      "Labels shape: torch.Size([8, 60])\n"
     ]
    },
    {
     "name": "stderr",
     "output_type": "stream",
     "text": [
      "Epoch 1 진행 중:   5%|███▎                                                          | 109/2032 [02:00<33:01,  1.03s/it]"
     ]
    },
    {
     "name": "stdout",
     "output_type": "stream",
     "text": [
      "Input features shape: torch.Size([8, 80, 3000])\n",
      "Labels shape: torch.Size([8, 60])\n"
     ]
    },
    {
     "name": "stderr",
     "output_type": "stream",
     "text": [
      "Epoch 1 진행 중:   5%|███▎                                                          | 110/2032 [02:01<34:32,  1.08s/it]"
     ]
    },
    {
     "name": "stdout",
     "output_type": "stream",
     "text": [
      "Input features shape: torch.Size([8, 80, 3000])\n",
      "Labels shape: torch.Size([8, 60])\n"
     ]
    },
    {
     "name": "stderr",
     "output_type": "stream",
     "text": [
      "Epoch 1 진행 중:   5%|███▍                                                          | 111/2032 [02:02<36:38,  1.14s/it]"
     ]
    },
    {
     "name": "stdout",
     "output_type": "stream",
     "text": [
      "Input features shape: torch.Size([8, 80, 3000])\n",
      "Labels shape: torch.Size([8, 60])\n"
     ]
    },
    {
     "name": "stderr",
     "output_type": "stream",
     "text": [
      "Epoch 1 진행 중:   6%|███▍                                                          | 112/2032 [02:04<37:37,  1.18s/it]"
     ]
    },
    {
     "name": "stdout",
     "output_type": "stream",
     "text": [
      "Input features shape: torch.Size([8, 80, 3000])\n",
      "Labels shape: torch.Size([8, 60])\n"
     ]
    },
    {
     "name": "stderr",
     "output_type": "stream",
     "text": [
      "Epoch 1 진행 중:   6%|███▍                                                          | 113/2032 [02:05<36:05,  1.13s/it]"
     ]
    },
    {
     "name": "stdout",
     "output_type": "stream",
     "text": [
      "Input features shape: torch.Size([8, 80, 3000])\n",
      "Labels shape: torch.Size([8, 60])\n"
     ]
    },
    {
     "name": "stderr",
     "output_type": "stream",
     "text": [
      "Epoch 1 진행 중:   6%|███▍                                                          | 114/2032 [02:06<33:46,  1.06s/it]"
     ]
    },
    {
     "name": "stdout",
     "output_type": "stream",
     "text": [
      "Input features shape: torch.Size([8, 80, 3000])\n",
      "Labels shape: torch.Size([8, 60])\n"
     ]
    },
    {
     "name": "stderr",
     "output_type": "stream",
     "text": [
      "Epoch 1 진행 중:   6%|███▌                                                          | 115/2032 [02:06<32:15,  1.01s/it]"
     ]
    },
    {
     "name": "stdout",
     "output_type": "stream",
     "text": [
      "Input features shape: torch.Size([8, 80, 3000])\n",
      "Labels shape: torch.Size([8, 60])\n"
     ]
    },
    {
     "name": "stderr",
     "output_type": "stream",
     "text": [
      "Epoch 1 진행 중:   6%|███▌                                                          | 116/2032 [02:08<32:53,  1.03s/it]"
     ]
    },
    {
     "name": "stdout",
     "output_type": "stream",
     "text": [
      "Input features shape: torch.Size([8, 80, 3000])\n",
      "Labels shape: torch.Size([8, 60])\n"
     ]
    },
    {
     "name": "stderr",
     "output_type": "stream",
     "text": [
      "Epoch 1 진행 중:   6%|███▌                                                          | 117/2032 [02:09<35:07,  1.10s/it]"
     ]
    },
    {
     "name": "stdout",
     "output_type": "stream",
     "text": [
      "Input features shape: torch.Size([8, 80, 3000])\n",
      "Labels shape: torch.Size([8, 60])\n"
     ]
    },
    {
     "name": "stderr",
     "output_type": "stream",
     "text": [
      "Epoch 1 진행 중:   6%|███▌                                                          | 118/2032 [02:10<37:11,  1.17s/it]"
     ]
    },
    {
     "name": "stdout",
     "output_type": "stream",
     "text": [
      "Input features shape: torch.Size([8, 80, 3000])\n",
      "Labels shape: torch.Size([8, 60])\n"
     ]
    },
    {
     "name": "stderr",
     "output_type": "stream",
     "text": [
      "Epoch 1 진행 중:   6%|███▋                                                          | 119/2032 [02:11<36:47,  1.15s/it]"
     ]
    },
    {
     "name": "stdout",
     "output_type": "stream",
     "text": [
      "Input features shape: torch.Size([8, 80, 3000])\n",
      "Labels shape: torch.Size([8, 60])\n"
     ]
    },
    {
     "name": "stderr",
     "output_type": "stream",
     "text": [
      "Epoch 1 진행 중:   6%|███▋                                                          | 120/2032 [02:12<34:19,  1.08s/it]"
     ]
    },
    {
     "name": "stdout",
     "output_type": "stream",
     "text": [
      "Input features shape: torch.Size([8, 80, 3000])\n",
      "Labels shape: torch.Size([8, 60])\n"
     ]
    },
    {
     "name": "stderr",
     "output_type": "stream",
     "text": [
      "Epoch 1 진행 중:   6%|███▋                                                          | 121/2032 [02:13<32:35,  1.02s/it]"
     ]
    },
    {
     "name": "stdout",
     "output_type": "stream",
     "text": [
      "Input features shape: torch.Size([8, 80, 3000])\n",
      "Labels shape: torch.Size([8, 60])\n"
     ]
    },
    {
     "name": "stderr",
     "output_type": "stream",
     "text": [
      "Epoch 1 진행 중:   6%|███▋                                                          | 122/2032 [02:14<32:58,  1.04s/it]"
     ]
    },
    {
     "name": "stdout",
     "output_type": "stream",
     "text": [
      "Input features shape: torch.Size([8, 80, 3000])\n",
      "Labels shape: torch.Size([8, 60])\n"
     ]
    },
    {
     "name": "stderr",
     "output_type": "stream",
     "text": [
      "Epoch 1 진행 중:   6%|███▊                                                          | 123/2032 [02:15<34:41,  1.09s/it]"
     ]
    },
    {
     "name": "stdout",
     "output_type": "stream",
     "text": [
      "Input features shape: torch.Size([8, 80, 3000])\n",
      "Labels shape: torch.Size([8, 60])\n"
     ]
    },
    {
     "name": "stderr",
     "output_type": "stream",
     "text": [
      "Epoch 1 진행 중:   6%|███▊                                                          | 124/2032 [02:17<36:38,  1.15s/it]"
     ]
    },
    {
     "name": "stdout",
     "output_type": "stream",
     "text": [
      "Input features shape: torch.Size([8, 80, 3000])\n",
      "Labels shape: torch.Size([8, 60])\n"
     ]
    },
    {
     "name": "stderr",
     "output_type": "stream",
     "text": [
      "Epoch 1 진행 중:   6%|███▊                                                          | 125/2032 [02:18<37:14,  1.17s/it]"
     ]
    },
    {
     "name": "stdout",
     "output_type": "stream",
     "text": [
      "Input features shape: torch.Size([8, 80, 3000])\n",
      "Labels shape: torch.Size([8, 60])\n"
     ]
    },
    {
     "name": "stderr",
     "output_type": "stream",
     "text": [
      "Epoch 1 진행 중:   6%|███▊                                                          | 126/2032 [02:19<36:18,  1.14s/it]"
     ]
    },
    {
     "name": "stdout",
     "output_type": "stream",
     "text": [
      "Input features shape: torch.Size([8, 80, 3000])\n",
      "Labels shape: torch.Size([8, 60])\n"
     ]
    },
    {
     "name": "stderr",
     "output_type": "stream",
     "text": [
      "Epoch 1 진행 중:   6%|███▉                                                          | 127/2032 [02:20<33:55,  1.07s/it]"
     ]
    },
    {
     "name": "stdout",
     "output_type": "stream",
     "text": [
      "Input features shape: torch.Size([8, 80, 3000])\n",
      "Labels shape: torch.Size([8, 60])\n"
     ]
    },
    {
     "name": "stderr",
     "output_type": "stream",
     "text": [
      "Epoch 1 진행 중:   6%|███▉                                                          | 128/2032 [02:21<32:09,  1.01s/it]"
     ]
    },
    {
     "name": "stdout",
     "output_type": "stream",
     "text": [
      "Input features shape: torch.Size([8, 80, 3000])\n",
      "Labels shape: torch.Size([8, 60])\n"
     ]
    },
    {
     "name": "stderr",
     "output_type": "stream",
     "text": [
      "Epoch 1 진행 중:   6%|███▉                                                          | 129/2032 [02:22<32:51,  1.04s/it]"
     ]
    },
    {
     "name": "stdout",
     "output_type": "stream",
     "text": [
      "Input features shape: torch.Size([8, 80, 3000])\n",
      "Labels shape: torch.Size([8, 60])\n"
     ]
    },
    {
     "name": "stderr",
     "output_type": "stream",
     "text": [
      "Epoch 1 진행 중:   6%|███▉                                                          | 130/2032 [02:23<34:54,  1.10s/it]"
     ]
    },
    {
     "name": "stdout",
     "output_type": "stream",
     "text": [
      "Input features shape: torch.Size([8, 80, 3000])\n",
      "Labels shape: torch.Size([8, 60])\n"
     ]
    },
    {
     "name": "stderr",
     "output_type": "stream",
     "text": [
      "Epoch 1 진행 중:   6%|███▉                                                          | 131/2032 [02:24<36:39,  1.16s/it]"
     ]
    },
    {
     "name": "stdout",
     "output_type": "stream",
     "text": [
      "Input features shape: torch.Size([8, 80, 3000])\n",
      "Labels shape: torch.Size([8, 60])\n"
     ]
    },
    {
     "name": "stderr",
     "output_type": "stream",
     "text": [
      "Epoch 1 진행 중:   6%|████                                                          | 132/2032 [02:26<37:22,  1.18s/it]"
     ]
    },
    {
     "name": "stdout",
     "output_type": "stream",
     "text": [
      "Input features shape: torch.Size([8, 80, 3000])\n",
      "Labels shape: torch.Size([8, 60])\n"
     ]
    },
    {
     "name": "stderr",
     "output_type": "stream",
     "text": [
      "Epoch 1 진행 중:   7%|████                                                          | 133/2032 [02:27<36:11,  1.14s/it]"
     ]
    },
    {
     "name": "stdout",
     "output_type": "stream",
     "text": [
      "Input features shape: torch.Size([8, 80, 3000])\n",
      "Labels shape: torch.Size([8, 60])\n"
     ]
    },
    {
     "name": "stderr",
     "output_type": "stream",
     "text": [
      "Epoch 1 진행 중:   7%|████                                                          | 134/2032 [02:27<33:48,  1.07s/it]"
     ]
    },
    {
     "name": "stdout",
     "output_type": "stream",
     "text": [
      "Input features shape: torch.Size([8, 80, 3000])\n",
      "Labels shape: torch.Size([8, 60])\n"
     ]
    },
    {
     "name": "stderr",
     "output_type": "stream",
     "text": [
      "Epoch 1 진행 중:   7%|████                                                          | 135/2032 [02:28<32:02,  1.01s/it]"
     ]
    },
    {
     "name": "stdout",
     "output_type": "stream",
     "text": [
      "Input features shape: torch.Size([8, 80, 3000])\n",
      "Labels shape: torch.Size([8, 60])\n"
     ]
    },
    {
     "name": "stderr",
     "output_type": "stream",
     "text": [
      "Epoch 1 진행 중:   7%|████▏                                                         | 136/2032 [02:29<33:01,  1.05s/it]"
     ]
    },
    {
     "name": "stdout",
     "output_type": "stream",
     "text": [
      "Input features shape: torch.Size([8, 80, 3000])\n",
      "Labels shape: torch.Size([8, 60])\n"
     ]
    },
    {
     "name": "stderr",
     "output_type": "stream",
     "text": [
      "Epoch 1 진행 중:   7%|████▏                                                         | 137/2032 [02:31<35:08,  1.11s/it]"
     ]
    },
    {
     "name": "stdout",
     "output_type": "stream",
     "text": [
      "Input features shape: torch.Size([8, 80, 3000])\n",
      "Labels shape: torch.Size([8, 60])\n"
     ]
    },
    {
     "name": "stderr",
     "output_type": "stream",
     "text": [
      "Epoch 1 진행 중:   7%|████▏                                                         | 138/2032 [02:32<37:04,  1.17s/it]"
     ]
    },
    {
     "name": "stdout",
     "output_type": "stream",
     "text": [
      "Input features shape: torch.Size([8, 80, 3000])\n",
      "Labels shape: torch.Size([8, 60])\n"
     ]
    },
    {
     "name": "stderr",
     "output_type": "stream",
     "text": [
      "Epoch 1 진행 중:   7%|████▏                                                         | 139/2032 [02:33<37:03,  1.17s/it]"
     ]
    },
    {
     "name": "stdout",
     "output_type": "stream",
     "text": [
      "Input features shape: torch.Size([8, 80, 3000])\n",
      "Labels shape: torch.Size([8, 60])\n"
     ]
    },
    {
     "name": "stderr",
     "output_type": "stream",
     "text": [
      "Epoch 1 진행 중:   7%|████▎                                                         | 140/2032 [02:34<35:50,  1.14s/it]"
     ]
    },
    {
     "name": "stdout",
     "output_type": "stream",
     "text": [
      "Input features shape: torch.Size([8, 80, 3000])\n",
      "Labels shape: torch.Size([8, 60])\n"
     ]
    },
    {
     "name": "stderr",
     "output_type": "stream",
     "text": [
      "Epoch 1 진행 중:   7%|████▎                                                         | 141/2032 [02:35<33:48,  1.07s/it]"
     ]
    },
    {
     "name": "stdout",
     "output_type": "stream",
     "text": [
      "Input features shape: torch.Size([8, 80, 3000])\n",
      "Labels shape: torch.Size([8, 60])\n"
     ]
    },
    {
     "name": "stderr",
     "output_type": "stream",
     "text": [
      "Epoch 1 진행 중:   7%|████▎                                                         | 142/2032 [02:36<32:19,  1.03s/it]"
     ]
    },
    {
     "name": "stdout",
     "output_type": "stream",
     "text": [
      "Input features shape: torch.Size([8, 80, 3000])\n",
      "Labels shape: torch.Size([8, 60])\n"
     ]
    },
    {
     "name": "stderr",
     "output_type": "stream",
     "text": [
      "Epoch 1 진행 중:   7%|████▎                                                         | 143/2032 [02:37<33:09,  1.05s/it]"
     ]
    },
    {
     "name": "stdout",
     "output_type": "stream",
     "text": [
      "Input features shape: torch.Size([8, 80, 3000])\n",
      "Labels shape: torch.Size([8, 60])\n"
     ]
    },
    {
     "name": "stderr",
     "output_type": "stream",
     "text": [
      "Epoch 1 진행 중:   7%|████▍                                                         | 144/2032 [02:39<35:37,  1.13s/it]"
     ]
    },
    {
     "name": "stdout",
     "output_type": "stream",
     "text": [
      "Input features shape: torch.Size([8, 80, 3000])\n",
      "Labels shape: torch.Size([8, 60])\n"
     ]
    },
    {
     "name": "stderr",
     "output_type": "stream",
     "text": [
      "Epoch 1 진행 중:   7%|████▍                                                         | 145/2032 [02:40<37:10,  1.18s/it]"
     ]
    },
    {
     "name": "stdout",
     "output_type": "stream",
     "text": [
      "Input features shape: torch.Size([8, 80, 3000])\n",
      "Labels shape: torch.Size([8, 60])\n"
     ]
    },
    {
     "name": "stderr",
     "output_type": "stream",
     "text": [
      "Epoch 1 진행 중:   7%|████▍                                                         | 146/2032 [02:41<36:40,  1.17s/it]"
     ]
    },
    {
     "name": "stdout",
     "output_type": "stream",
     "text": [
      "Input features shape: torch.Size([8, 80, 3000])\n",
      "Labels shape: torch.Size([8, 60])\n"
     ]
    },
    {
     "name": "stderr",
     "output_type": "stream",
     "text": [
      "Epoch 1 진행 중:   7%|████▍                                                         | 147/2032 [02:42<34:10,  1.09s/it]"
     ]
    },
    {
     "name": "stdout",
     "output_type": "stream",
     "text": [
      "Input features shape: torch.Size([8, 80, 3000])\n",
      "Labels shape: torch.Size([8, 60])\n"
     ]
    },
    {
     "name": "stderr",
     "output_type": "stream",
     "text": [
      "Epoch 1 진행 중:   7%|████▌                                                         | 148/2032 [02:43<32:30,  1.04s/it]"
     ]
    },
    {
     "name": "stdout",
     "output_type": "stream",
     "text": [
      "Input features shape: torch.Size([8, 80, 3000])\n",
      "Labels shape: torch.Size([8, 60])\n"
     ]
    },
    {
     "name": "stderr",
     "output_type": "stream",
     "text": [
      "Epoch 1 진행 중:   7%|████▌                                                         | 149/2032 [02:44<31:20,  1.00it/s]"
     ]
    },
    {
     "name": "stdout",
     "output_type": "stream",
     "text": [
      "Input features shape: torch.Size([8, 80, 3000])\n",
      "Labels shape: torch.Size([8, 60])\n"
     ]
    },
    {
     "name": "stderr",
     "output_type": "stream",
     "text": [
      "Epoch 1 진행 중:   7%|████▌                                                         | 150/2032 [02:45<32:23,  1.03s/it]"
     ]
    },
    {
     "name": "stdout",
     "output_type": "stream",
     "text": [
      "Input features shape: torch.Size([8, 80, 3000])\n",
      "Labels shape: torch.Size([8, 60])\n"
     ]
    },
    {
     "name": "stderr",
     "output_type": "stream",
     "text": [
      "Epoch 1 진행 중:   7%|████▌                                                         | 151/2032 [02:46<34:55,  1.11s/it]"
     ]
    },
    {
     "name": "stdout",
     "output_type": "stream",
     "text": [
      "Input features shape: torch.Size([8, 80, 3000])\n",
      "Labels shape: torch.Size([8, 60])\n"
     ]
    },
    {
     "name": "stderr",
     "output_type": "stream",
     "text": [
      "Epoch 1 진행 중:   7%|████▋                                                         | 152/2032 [02:47<36:32,  1.17s/it]"
     ]
    },
    {
     "name": "stdout",
     "output_type": "stream",
     "text": [
      "Input features shape: torch.Size([8, 80, 3000])\n",
      "Labels shape: torch.Size([8, 60])\n"
     ]
    },
    {
     "name": "stderr",
     "output_type": "stream",
     "text": [
      "Epoch 1 진행 중:   8%|████▋                                                         | 153/2032 [02:49<36:20,  1.16s/it]"
     ]
    },
    {
     "name": "stdout",
     "output_type": "stream",
     "text": [
      "Input features shape: torch.Size([8, 80, 3000])\n",
      "Labels shape: torch.Size([8, 60])\n"
     ]
    },
    {
     "name": "stderr",
     "output_type": "stream",
     "text": [
      "Epoch 1 진행 중:   8%|████▋                                                         | 154/2032 [02:50<34:18,  1.10s/it]"
     ]
    },
    {
     "name": "stdout",
     "output_type": "stream",
     "text": [
      "Input features shape: torch.Size([8, 80, 3000])\n",
      "Labels shape: torch.Size([8, 60])\n"
     ]
    },
    {
     "name": "stderr",
     "output_type": "stream",
     "text": [
      "Epoch 1 진행 중:   8%|████▋                                                         | 155/2032 [02:50<32:29,  1.04s/it]"
     ]
    },
    {
     "name": "stdout",
     "output_type": "stream",
     "text": [
      "Input features shape: torch.Size([8, 80, 3000])\n",
      "Labels shape: torch.Size([8, 60])\n"
     ]
    },
    {
     "name": "stderr",
     "output_type": "stream",
     "text": [
      "Epoch 1 진행 중:   8%|████▊                                                         | 156/2032 [02:51<31:45,  1.02s/it]"
     ]
    },
    {
     "name": "stdout",
     "output_type": "stream",
     "text": [
      "Input features shape: torch.Size([8, 80, 3000])\n",
      "Labels shape: torch.Size([8, 60])\n"
     ]
    },
    {
     "name": "stderr",
     "output_type": "stream",
     "text": [
      "Epoch 1 진행 중:   8%|████▊                                                         | 157/2032 [02:53<34:33,  1.11s/it]"
     ]
    },
    {
     "name": "stdout",
     "output_type": "stream",
     "text": [
      "Input features shape: torch.Size([8, 80, 3000])\n",
      "Labels shape: torch.Size([8, 60])\n"
     ]
    },
    {
     "name": "stderr",
     "output_type": "stream",
     "text": [
      "Epoch 1 진행 중:   8%|████▊                                                         | 158/2032 [02:54<36:41,  1.17s/it]"
     ]
    },
    {
     "name": "stdout",
     "output_type": "stream",
     "text": [
      "Input features shape: torch.Size([8, 80, 3000])\n",
      "Labels shape: torch.Size([8, 60])\n"
     ]
    },
    {
     "name": "stderr",
     "output_type": "stream",
     "text": [
      "Epoch 1 진행 중:   8%|████▊                                                         | 159/2032 [02:55<36:31,  1.17s/it]"
     ]
    },
    {
     "name": "stdout",
     "output_type": "stream",
     "text": [
      "Input features shape: torch.Size([8, 80, 3000])\n",
      "Labels shape: torch.Size([8, 60])\n"
     ]
    },
    {
     "name": "stderr",
     "output_type": "stream",
     "text": [
      "Epoch 1 진행 중:   8%|████▉                                                         | 160/2032 [02:56<35:16,  1.13s/it]"
     ]
    },
    {
     "name": "stdout",
     "output_type": "stream",
     "text": [
      "Input features shape: torch.Size([8, 80, 3000])\n",
      "Labels shape: torch.Size([8, 60])\n"
     ]
    },
    {
     "name": "stderr",
     "output_type": "stream",
     "text": [
      "Epoch 1 진행 중:   8%|████▉                                                         | 161/2032 [02:57<32:56,  1.06s/it]"
     ]
    },
    {
     "name": "stdout",
     "output_type": "stream",
     "text": [
      "Input features shape: torch.Size([8, 80, 3000])\n",
      "Labels shape: torch.Size([8, 60])\n"
     ]
    },
    {
     "name": "stderr",
     "output_type": "stream",
     "text": [
      "Epoch 1 진행 중:   8%|████▉                                                         | 162/2032 [02:58<31:35,  1.01s/it]"
     ]
    },
    {
     "name": "stdout",
     "output_type": "stream",
     "text": [
      "Input features shape: torch.Size([8, 80, 3000])\n",
      "Labels shape: torch.Size([8, 60])\n"
     ]
    },
    {
     "name": "stderr",
     "output_type": "stream",
     "text": [
      "Epoch 1 진행 중:   8%|████▉                                                         | 163/2032 [02:59<31:38,  1.02s/it]"
     ]
    },
    {
     "name": "stdout",
     "output_type": "stream",
     "text": [
      "Input features shape: torch.Size([8, 80, 3000])\n",
      "Labels shape: torch.Size([8, 60])\n"
     ]
    },
    {
     "name": "stderr",
     "output_type": "stream",
     "text": [
      "Epoch 1 진행 중:   8%|█████                                                         | 164/2032 [03:00<33:15,  1.07s/it]"
     ]
    },
    {
     "name": "stdout",
     "output_type": "stream",
     "text": [
      "Input features shape: torch.Size([8, 80, 3000])\n",
      "Labels shape: torch.Size([8, 60])\n"
     ]
    },
    {
     "name": "stderr",
     "output_type": "stream",
     "text": [
      "Epoch 1 진행 중:   8%|█████                                                         | 165/2032 [03:02<35:25,  1.14s/it]"
     ]
    },
    {
     "name": "stdout",
     "output_type": "stream",
     "text": [
      "Input features shape: torch.Size([8, 80, 3000])\n",
      "Labels shape: torch.Size([8, 60])\n"
     ]
    },
    {
     "name": "stderr",
     "output_type": "stream",
     "text": [
      "Epoch 1 진행 중:   8%|█████                                                         | 166/2032 [03:03<36:16,  1.17s/it]"
     ]
    },
    {
     "name": "stdout",
     "output_type": "stream",
     "text": [
      "Input features shape: torch.Size([8, 80, 3000])\n",
      "Labels shape: torch.Size([8, 60])\n"
     ]
    },
    {
     "name": "stderr",
     "output_type": "stream",
     "text": [
      "Epoch 1 진행 중:   8%|█████                                                         | 167/2032 [03:04<34:47,  1.12s/it]"
     ]
    },
    {
     "name": "stdout",
     "output_type": "stream",
     "text": [
      "Input features shape: torch.Size([8, 80, 3000])\n",
      "Labels shape: torch.Size([8, 60])\n"
     ]
    },
    {
     "name": "stderr",
     "output_type": "stream",
     "text": [
      "Epoch 1 진행 중:   8%|█████▏                                                        | 168/2032 [03:05<32:52,  1.06s/it]"
     ]
    },
    {
     "name": "stdout",
     "output_type": "stream",
     "text": [
      "Input features shape: torch.Size([8, 80, 3000])\n",
      "Labels shape: torch.Size([8, 60])\n"
     ]
    },
    {
     "name": "stderr",
     "output_type": "stream",
     "text": [
      "Epoch 1 진행 중:   8%|█████▏                                                        | 169/2032 [03:06<31:32,  1.02s/it]"
     ]
    },
    {
     "name": "stdout",
     "output_type": "stream",
     "text": [
      "Input features shape: torch.Size([8, 80, 3000])\n",
      "Labels shape: torch.Size([8, 60])\n"
     ]
    },
    {
     "name": "stderr",
     "output_type": "stream",
     "text": [
      "Epoch 1 진행 중:   8%|█████▏                                                        | 170/2032 [03:07<32:15,  1.04s/it]"
     ]
    },
    {
     "name": "stdout",
     "output_type": "stream",
     "text": [
      "Input features shape: torch.Size([8, 80, 3000])\n",
      "Labels shape: torch.Size([8, 60])\n"
     ]
    },
    {
     "name": "stderr",
     "output_type": "stream",
     "text": [
      "Epoch 1 진행 중:   8%|█████▏                                                        | 171/2032 [03:08<35:16,  1.14s/it]"
     ]
    },
    {
     "name": "stdout",
     "output_type": "stream",
     "text": [
      "Input features shape: torch.Size([8, 80, 3000])\n",
      "Labels shape: torch.Size([8, 60])\n"
     ]
    },
    {
     "name": "stderr",
     "output_type": "stream",
     "text": [
      "Epoch 1 진행 중:   8%|█████▏                                                        | 172/2032 [03:09<36:13,  1.17s/it]"
     ]
    },
    {
     "name": "stdout",
     "output_type": "stream",
     "text": [
      "Input features shape: torch.Size([8, 80, 3000])\n",
      "Labels shape: torch.Size([8, 60])\n"
     ]
    },
    {
     "name": "stderr",
     "output_type": "stream",
     "text": [
      "Epoch 1 진행 중:   9%|█████▎                                                        | 173/2032 [03:10<35:14,  1.14s/it]"
     ]
    },
    {
     "name": "stdout",
     "output_type": "stream",
     "text": [
      "Input features shape: torch.Size([8, 80, 3000])\n",
      "Labels shape: torch.Size([8, 60])\n"
     ]
    },
    {
     "name": "stderr",
     "output_type": "stream",
     "text": [
      "Epoch 1 진행 중:   9%|█████▎                                                        | 174/2032 [03:11<33:07,  1.07s/it]"
     ]
    },
    {
     "name": "stdout",
     "output_type": "stream",
     "text": [
      "Input features shape: torch.Size([8, 80, 3000])\n",
      "Labels shape: torch.Size([8, 60])\n"
     ]
    },
    {
     "name": "stderr",
     "output_type": "stream",
     "text": [
      "Epoch 1 진행 중:   9%|█████▎                                                        | 175/2032 [03:12<31:21,  1.01s/it]"
     ]
    },
    {
     "name": "stdout",
     "output_type": "stream",
     "text": [
      "Input features shape: torch.Size([8, 80, 3000])\n",
      "Labels shape: torch.Size([8, 60])\n"
     ]
    },
    {
     "name": "stderr",
     "output_type": "stream",
     "text": [
      "Epoch 1 진행 중:   9%|█████▎                                                        | 176/2032 [03:13<31:59,  1.03s/it]"
     ]
    },
    {
     "name": "stdout",
     "output_type": "stream",
     "text": [
      "Input features shape: torch.Size([8, 80, 3000])\n",
      "Labels shape: torch.Size([8, 60])\n"
     ]
    },
    {
     "name": "stderr",
     "output_type": "stream",
     "text": [
      "Epoch 1 진행 중:   9%|█████▍                                                        | 177/2032 [03:15<34:09,  1.10s/it]"
     ]
    },
    {
     "name": "stdout",
     "output_type": "stream",
     "text": [
      "Input features shape: torch.Size([8, 80, 3000])\n",
      "Labels shape: torch.Size([8, 60])\n"
     ]
    },
    {
     "name": "stderr",
     "output_type": "stream",
     "text": [
      "Epoch 1 진행 중:   9%|█████▍                                                        | 178/2032 [03:16<35:47,  1.16s/it]"
     ]
    },
    {
     "name": "stdout",
     "output_type": "stream",
     "text": [
      "Input features shape: torch.Size([8, 80, 3000])\n",
      "Labels shape: torch.Size([8, 60])\n"
     ]
    },
    {
     "name": "stderr",
     "output_type": "stream",
     "text": [
      "Epoch 1 진행 중:   9%|█████▍                                                        | 179/2032 [03:17<36:16,  1.17s/it]"
     ]
    },
    {
     "name": "stdout",
     "output_type": "stream",
     "text": [
      "Input features shape: torch.Size([8, 80, 3000])\n",
      "Labels shape: torch.Size([8, 60])\n"
     ]
    },
    {
     "name": "stderr",
     "output_type": "stream",
     "text": [
      "Epoch 1 진행 중:   9%|█████▍                                                        | 180/2032 [03:18<34:18,  1.11s/it]"
     ]
    },
    {
     "name": "stdout",
     "output_type": "stream",
     "text": [
      "Input features shape: torch.Size([8, 80, 3000])\n",
      "Labels shape: torch.Size([8, 60])\n"
     ]
    },
    {
     "name": "stderr",
     "output_type": "stream",
     "text": [
      "Epoch 1 진행 중:   9%|█████▌                                                        | 181/2032 [03:19<32:24,  1.05s/it]"
     ]
    },
    {
     "name": "stdout",
     "output_type": "stream",
     "text": [
      "Input features shape: torch.Size([8, 80, 3000])\n",
      "Labels shape: torch.Size([8, 60])\n"
     ]
    },
    {
     "name": "stderr",
     "output_type": "stream",
     "text": [
      "Epoch 1 진행 중:   9%|█████▌                                                        | 182/2032 [03:20<31:35,  1.02s/it]"
     ]
    },
    {
     "name": "stdout",
     "output_type": "stream",
     "text": [
      "Input features shape: torch.Size([8, 80, 3000])\n",
      "Labels shape: torch.Size([8, 60])\n"
     ]
    },
    {
     "name": "stderr",
     "output_type": "stream",
     "text": [
      "Epoch 1 진행 중:   9%|█████▌                                                        | 183/2032 [03:21<32:49,  1.07s/it]"
     ]
    },
    {
     "name": "stdout",
     "output_type": "stream",
     "text": [
      "Input features shape: torch.Size([8, 80, 3000])\n",
      "Labels shape: torch.Size([8, 60])\n"
     ]
    },
    {
     "name": "stderr",
     "output_type": "stream",
     "text": [
      "Epoch 1 진행 중:   9%|█████▌                                                        | 184/2032 [03:22<35:04,  1.14s/it]"
     ]
    },
    {
     "name": "stdout",
     "output_type": "stream",
     "text": [
      "Input features shape: torch.Size([8, 80, 3000])\n",
      "Labels shape: torch.Size([8, 60])\n"
     ]
    },
    {
     "name": "stderr",
     "output_type": "stream",
     "text": [
      "Epoch 1 진행 중:   9%|█████▋                                                        | 185/2032 [03:24<36:33,  1.19s/it]"
     ]
    },
    {
     "name": "stdout",
     "output_type": "stream",
     "text": [
      "Input features shape: torch.Size([8, 80, 3000])\n",
      "Labels shape: torch.Size([8, 60])\n"
     ]
    },
    {
     "name": "stderr",
     "output_type": "stream",
     "text": [
      "Epoch 1 진행 중:   9%|█████▋                                                        | 186/2032 [03:25<35:47,  1.16s/it]"
     ]
    },
    {
     "name": "stdout",
     "output_type": "stream",
     "text": [
      "Input features shape: torch.Size([8, 80, 3000])\n",
      "Labels shape: torch.Size([8, 60])\n"
     ]
    },
    {
     "name": "stderr",
     "output_type": "stream",
     "text": [
      "Epoch 1 진행 중:   9%|█████▋                                                        | 187/2032 [03:26<33:34,  1.09s/it]"
     ]
    },
    {
     "name": "stdout",
     "output_type": "stream",
     "text": [
      "Input features shape: torch.Size([8, 80, 3000])\n",
      "Labels shape: torch.Size([8, 60])\n"
     ]
    },
    {
     "name": "stderr",
     "output_type": "stream",
     "text": [
      "Epoch 1 진행 중:   9%|█████▋                                                        | 188/2032 [03:27<31:44,  1.03s/it]"
     ]
    },
    {
     "name": "stdout",
     "output_type": "stream",
     "text": [
      "Input features shape: torch.Size([8, 80, 3000])\n",
      "Labels shape: torch.Size([8, 60])\n"
     ]
    },
    {
     "name": "stderr",
     "output_type": "stream",
     "text": [
      "Epoch 1 진행 중:   9%|█████▊                                                        | 189/2032 [03:28<31:57,  1.04s/it]"
     ]
    },
    {
     "name": "stdout",
     "output_type": "stream",
     "text": [
      "Input features shape: torch.Size([8, 80, 3000])\n",
      "Labels shape: torch.Size([8, 60])\n"
     ]
    },
    {
     "name": "stderr",
     "output_type": "stream",
     "text": [
      "Epoch 1 진행 중:   9%|█████▊                                                        | 190/2032 [03:29<33:32,  1.09s/it]"
     ]
    },
    {
     "name": "stdout",
     "output_type": "stream",
     "text": [
      "Input features shape: torch.Size([8, 80, 3000])\n",
      "Labels shape: torch.Size([8, 60])\n"
     ]
    },
    {
     "name": "stderr",
     "output_type": "stream",
     "text": [
      "Epoch 1 진행 중:   9%|█████▊                                                        | 191/2032 [03:30<35:36,  1.16s/it]"
     ]
    },
    {
     "name": "stdout",
     "output_type": "stream",
     "text": [
      "Input features shape: torch.Size([8, 80, 3000])\n",
      "Labels shape: torch.Size([8, 60])\n"
     ]
    },
    {
     "name": "stderr",
     "output_type": "stream",
     "text": [
      "Epoch 1 진행 중:   9%|█████▊                                                        | 192/2032 [03:31<35:27,  1.16s/it]"
     ]
    },
    {
     "name": "stdout",
     "output_type": "stream",
     "text": [
      "Input features shape: torch.Size([8, 80, 3000])\n",
      "Labels shape: torch.Size([8, 60])\n"
     ]
    },
    {
     "name": "stderr",
     "output_type": "stream",
     "text": [
      "Epoch 1 진행 중:   9%|█████▉                                                        | 193/2032 [03:32<33:08,  1.08s/it]"
     ]
    },
    {
     "name": "stdout",
     "output_type": "stream",
     "text": [
      "Input features shape: torch.Size([8, 80, 3000])\n",
      "Labels shape: torch.Size([8, 60])\n"
     ]
    },
    {
     "name": "stderr",
     "output_type": "stream",
     "text": [
      "Epoch 1 진행 중:  10%|█████▉                                                        | 194/2032 [03:33<31:22,  1.02s/it]"
     ]
    },
    {
     "name": "stdout",
     "output_type": "stream",
     "text": [
      "Input features shape: torch.Size([8, 80, 3000])\n",
      "Labels shape: torch.Size([8, 60])\n"
     ]
    },
    {
     "name": "stderr",
     "output_type": "stream",
     "text": [
      "Epoch 1 진행 중:  10%|█████▉                                                        | 195/2032 [03:34<30:48,  1.01s/it]"
     ]
    },
    {
     "name": "stdout",
     "output_type": "stream",
     "text": [
      "Input features shape: torch.Size([8, 80, 3000])\n",
      "Labels shape: torch.Size([8, 60])\n"
     ]
    },
    {
     "name": "stderr",
     "output_type": "stream",
     "text": [
      "Epoch 1 진행 중:  10%|█████▉                                                        | 196/2032 [03:35<32:12,  1.05s/it]"
     ]
    },
    {
     "name": "stdout",
     "output_type": "stream",
     "text": [
      "Input features shape: torch.Size([8, 80, 3000])\n",
      "Labels shape: torch.Size([8, 60])\n"
     ]
    },
    {
     "name": "stderr",
     "output_type": "stream",
     "text": [
      "Epoch 1 진행 중:  10%|██████                                                        | 197/2032 [03:37<34:35,  1.13s/it]"
     ]
    },
    {
     "name": "stdout",
     "output_type": "stream",
     "text": [
      "Input features shape: torch.Size([8, 80, 3000])\n",
      "Labels shape: torch.Size([8, 60])\n"
     ]
    },
    {
     "name": "stderr",
     "output_type": "stream",
     "text": [
      "Epoch 1 진행 중:  10%|██████                                                        | 198/2032 [03:38<35:55,  1.18s/it]"
     ]
    },
    {
     "name": "stdout",
     "output_type": "stream",
     "text": [
      "Input features shape: torch.Size([8, 80, 3000])\n",
      "Labels shape: torch.Size([8, 60])\n"
     ]
    },
    {
     "name": "stderr",
     "output_type": "stream",
     "text": [
      "Epoch 1 진행 중:  10%|██████                                                        | 199/2032 [03:39<35:26,  1.16s/it]"
     ]
    },
    {
     "name": "stdout",
     "output_type": "stream",
     "text": [
      "Input features shape: torch.Size([8, 80, 3000])\n",
      "Labels shape: torch.Size([8, 60])\n"
     ]
    },
    {
     "name": "stderr",
     "output_type": "stream",
     "text": [
      "Epoch 1 진행 중:  10%|██████                                                        | 200/2032 [03:40<33:10,  1.09s/it]"
     ]
    },
    {
     "name": "stdout",
     "output_type": "stream",
     "text": [
      "Input features shape: torch.Size([8, 80, 3000])\n",
      "Labels shape: torch.Size([8, 60])\n"
     ]
    },
    {
     "name": "stderr",
     "output_type": "stream",
     "text": [
      "Epoch 1 진행 중:  10%|██████▏                                                       | 201/2032 [03:41<31:21,  1.03s/it]"
     ]
    },
    {
     "name": "stdout",
     "output_type": "stream",
     "text": [
      "Input features shape: torch.Size([8, 80, 3000])\n",
      "Labels shape: torch.Size([8, 60])\n"
     ]
    },
    {
     "name": "stderr",
     "output_type": "stream",
     "text": [
      "Epoch 1 진행 중:  10%|██████▏                                                       | 202/2032 [03:42<31:28,  1.03s/it]"
     ]
    },
    {
     "name": "stdout",
     "output_type": "stream",
     "text": [
      "Input features shape: torch.Size([8, 80, 3000])\n",
      "Labels shape: torch.Size([8, 60])\n"
     ]
    },
    {
     "name": "stderr",
     "output_type": "stream",
     "text": [
      "Epoch 1 진행 중:  10%|██████▏                                                       | 203/2032 [03:43<33:11,  1.09s/it]"
     ]
    },
    {
     "name": "stdout",
     "output_type": "stream",
     "text": [
      "Input features shape: torch.Size([8, 80, 3000])\n",
      "Labels shape: torch.Size([8, 60])\n"
     ]
    },
    {
     "name": "stderr",
     "output_type": "stream",
     "text": [
      "Epoch 1 진행 중:  10%|██████▏                                                       | 204/2032 [03:44<35:04,  1.15s/it]"
     ]
    },
    {
     "name": "stdout",
     "output_type": "stream",
     "text": [
      "Input features shape: torch.Size([8, 80, 3000])\n",
      "Labels shape: torch.Size([8, 60])\n"
     ]
    },
    {
     "name": "stderr",
     "output_type": "stream",
     "text": [
      "Epoch 1 진행 중:  10%|██████▎                                                       | 205/2032 [03:46<35:37,  1.17s/it]"
     ]
    },
    {
     "name": "stdout",
     "output_type": "stream",
     "text": [
      "Input features shape: torch.Size([8, 80, 3000])\n",
      "Labels shape: torch.Size([8, 60])\n"
     ]
    },
    {
     "name": "stderr",
     "output_type": "stream",
     "text": [
      "Epoch 1 진행 중:  10%|██████▎                                                       | 206/2032 [03:47<33:46,  1.11s/it]"
     ]
    },
    {
     "name": "stdout",
     "output_type": "stream",
     "text": [
      "Input features shape: torch.Size([8, 80, 3000])\n",
      "Labels shape: torch.Size([8, 60])\n"
     ]
    },
    {
     "name": "stderr",
     "output_type": "stream",
     "text": [
      "Epoch 1 진행 중:  10%|██████▎                                                       | 207/2032 [03:47<31:46,  1.04s/it]"
     ]
    },
    {
     "name": "stdout",
     "output_type": "stream",
     "text": [
      "Input features shape: torch.Size([8, 80, 3000])\n",
      "Labels shape: torch.Size([8, 60])\n"
     ]
    },
    {
     "name": "stderr",
     "output_type": "stream",
     "text": [
      "Epoch 1 진행 중:  10%|██████▎                                                       | 208/2032 [03:48<30:50,  1.01s/it]"
     ]
    },
    {
     "name": "stdout",
     "output_type": "stream",
     "text": [
      "Input features shape: torch.Size([8, 80, 3000])\n",
      "Labels shape: torch.Size([8, 60])\n"
     ]
    },
    {
     "name": "stderr",
     "output_type": "stream",
     "text": [
      "Epoch 1 진행 중:  10%|██████▍                                                       | 209/2032 [03:50<32:17,  1.06s/it]"
     ]
    },
    {
     "name": "stdout",
     "output_type": "stream",
     "text": [
      "Input features shape: torch.Size([8, 80, 3000])\n",
      "Labels shape: torch.Size([8, 60])\n"
     ]
    },
    {
     "name": "stderr",
     "output_type": "stream",
     "text": [
      "Epoch 1 진행 중:  10%|██████▍                                                       | 210/2032 [03:51<34:32,  1.14s/it]"
     ]
    },
    {
     "name": "stdout",
     "output_type": "stream",
     "text": [
      "Input features shape: torch.Size([8, 80, 3000])\n",
      "Labels shape: torch.Size([8, 60])\n"
     ]
    },
    {
     "name": "stderr",
     "output_type": "stream",
     "text": [
      "Epoch 1 진행 중:  10%|██████▍                                                       | 211/2032 [03:52<35:27,  1.17s/it]"
     ]
    },
    {
     "name": "stdout",
     "output_type": "stream",
     "text": [
      "Input features shape: torch.Size([8, 80, 3000])\n",
      "Labels shape: torch.Size([8, 60])\n"
     ]
    },
    {
     "name": "stderr",
     "output_type": "stream",
     "text": [
      "Epoch 1 진행 중:  10%|██████▍                                                       | 212/2032 [03:53<34:43,  1.14s/it]"
     ]
    },
    {
     "name": "stdout",
     "output_type": "stream",
     "text": [
      "Input features shape: torch.Size([8, 80, 3000])\n",
      "Labels shape: torch.Size([8, 60])\n"
     ]
    },
    {
     "name": "stderr",
     "output_type": "stream",
     "text": [
      "Epoch 1 진행 중:  10%|██████▍                                                       | 213/2032 [03:54<32:45,  1.08s/it]"
     ]
    },
    {
     "name": "stdout",
     "output_type": "stream",
     "text": [
      "Input features shape: torch.Size([8, 80, 3000])\n",
      "Labels shape: torch.Size([8, 60])\n"
     ]
    },
    {
     "name": "stderr",
     "output_type": "stream",
     "text": [
      "Epoch 1 진행 중:  11%|██████▌                                                       | 214/2032 [03:55<31:12,  1.03s/it]"
     ]
    },
    {
     "name": "stdout",
     "output_type": "stream",
     "text": [
      "Input features shape: torch.Size([8, 80, 3000])\n",
      "Labels shape: torch.Size([8, 60])\n"
     ]
    },
    {
     "name": "stderr",
     "output_type": "stream",
     "text": [
      "Epoch 1 진행 중:  11%|██████▌                                                       | 215/2032 [03:56<31:58,  1.06s/it]"
     ]
    },
    {
     "name": "stdout",
     "output_type": "stream",
     "text": [
      "Input features shape: torch.Size([8, 80, 3000])\n",
      "Labels shape: torch.Size([8, 60])\n"
     ]
    },
    {
     "name": "stderr",
     "output_type": "stream",
     "text": [
      "Epoch 1 진행 중:  11%|██████▌                                                       | 216/2032 [03:57<34:10,  1.13s/it]"
     ]
    },
    {
     "name": "stdout",
     "output_type": "stream",
     "text": [
      "Input features shape: torch.Size([8, 80, 3000])\n",
      "Labels shape: torch.Size([8, 60])\n"
     ]
    },
    {
     "name": "stderr",
     "output_type": "stream",
     "text": [
      "Epoch 1 진행 중:  11%|██████▌                                                       | 217/2032 [03:59<35:48,  1.18s/it]"
     ]
    },
    {
     "name": "stdout",
     "output_type": "stream",
     "text": [
      "Input features shape: torch.Size([8, 80, 3000])\n",
      "Labels shape: torch.Size([8, 60])\n"
     ]
    },
    {
     "name": "stderr",
     "output_type": "stream",
     "text": [
      "Epoch 1 진행 중:  11%|██████▋                                                       | 218/2032 [04:00<35:49,  1.19s/it]"
     ]
    },
    {
     "name": "stdout",
     "output_type": "stream",
     "text": [
      "Input features shape: torch.Size([8, 80, 3000])\n",
      "Labels shape: torch.Size([8, 60])\n"
     ]
    },
    {
     "name": "stderr",
     "output_type": "stream",
     "text": [
      "Epoch 1 진행 중:  11%|██████▋                                                       | 219/2032 [04:01<33:54,  1.12s/it]"
     ]
    },
    {
     "name": "stdout",
     "output_type": "stream",
     "text": [
      "Input features shape: torch.Size([8, 80, 3000])\n",
      "Labels shape: torch.Size([8, 60])\n"
     ]
    },
    {
     "name": "stderr",
     "output_type": "stream",
     "text": [
      "Epoch 1 진행 중:  11%|██████▋                                                       | 220/2032 [04:02<31:59,  1.06s/it]"
     ]
    },
    {
     "name": "stdout",
     "output_type": "stream",
     "text": [
      "Input features shape: torch.Size([8, 80, 3000])\n",
      "Labels shape: torch.Size([8, 60])\n"
     ]
    },
    {
     "name": "stderr",
     "output_type": "stream",
     "text": [
      "Epoch 1 진행 중:  11%|██████▋                                                       | 221/2032 [04:03<30:57,  1.03s/it]"
     ]
    },
    {
     "name": "stdout",
     "output_type": "stream",
     "text": [
      "Input features shape: torch.Size([8, 80, 3000])\n",
      "Labels shape: torch.Size([8, 60])\n"
     ]
    },
    {
     "name": "stderr",
     "output_type": "stream",
     "text": [
      "Epoch 1 진행 중:  11%|██████▊                                                       | 222/2032 [04:04<31:52,  1.06s/it]"
     ]
    },
    {
     "name": "stdout",
     "output_type": "stream",
     "text": [
      "Input features shape: torch.Size([8, 80, 3000])\n",
      "Labels shape: torch.Size([8, 60])\n"
     ]
    },
    {
     "name": "stderr",
     "output_type": "stream",
     "text": [
      "Epoch 1 진행 중:  11%|██████▊                                                       | 223/2032 [04:05<34:10,  1.13s/it]"
     ]
    },
    {
     "name": "stdout",
     "output_type": "stream",
     "text": [
      "Input features shape: torch.Size([8, 80, 3000])\n",
      "Labels shape: torch.Size([8, 60])\n"
     ]
    },
    {
     "name": "stderr",
     "output_type": "stream",
     "text": [
      "Epoch 1 진행 중:  11%|██████▊                                                       | 224/2032 [04:06<35:37,  1.18s/it]"
     ]
    },
    {
     "name": "stdout",
     "output_type": "stream",
     "text": [
      "Input features shape: torch.Size([8, 80, 3000])\n",
      "Labels shape: torch.Size([8, 60])\n"
     ]
    },
    {
     "name": "stderr",
     "output_type": "stream",
     "text": [
      "Epoch 1 진행 중:  11%|██████▊                                                       | 225/2032 [04:08<35:21,  1.17s/it]"
     ]
    },
    {
     "name": "stdout",
     "output_type": "stream",
     "text": [
      "Input features shape: torch.Size([8, 80, 3000])\n",
      "Labels shape: torch.Size([8, 60])\n"
     ]
    },
    {
     "name": "stderr",
     "output_type": "stream",
     "text": [
      "Epoch 1 진행 중:  11%|██████▉                                                       | 226/2032 [04:09<33:45,  1.12s/it]"
     ]
    },
    {
     "name": "stdout",
     "output_type": "stream",
     "text": [
      "Input features shape: torch.Size([8, 80, 3000])\n",
      "Labels shape: torch.Size([8, 60])\n"
     ]
    },
    {
     "name": "stderr",
     "output_type": "stream",
     "text": [
      "Epoch 1 진행 중:  11%|██████▉                                                       | 227/2032 [04:10<31:32,  1.05s/it]"
     ]
    },
    {
     "name": "stdout",
     "output_type": "stream",
     "text": [
      "Input features shape: torch.Size([8, 80, 3000])\n",
      "Labels shape: torch.Size([8, 60])\n"
     ]
    },
    {
     "name": "stderr",
     "output_type": "stream",
     "text": [
      "Epoch 1 진행 중:  11%|██████▉                                                       | 228/2032 [04:11<31:35,  1.05s/it]"
     ]
    },
    {
     "name": "stdout",
     "output_type": "stream",
     "text": [
      "Input features shape: torch.Size([8, 80, 3000])\n",
      "Labels shape: torch.Size([8, 60])\n"
     ]
    },
    {
     "name": "stderr",
     "output_type": "stream",
     "text": [
      "Epoch 1 진행 중:  11%|██████▉                                                       | 229/2032 [04:12<33:49,  1.13s/it]"
     ]
    },
    {
     "name": "stdout",
     "output_type": "stream",
     "text": [
      "Input features shape: torch.Size([8, 80, 3000])\n",
      "Labels shape: torch.Size([8, 60])\n"
     ]
    },
    {
     "name": "stderr",
     "output_type": "stream",
     "text": [
      "Epoch 1 진행 중:  11%|███████                                                       | 230/2032 [04:13<35:25,  1.18s/it]"
     ]
    },
    {
     "name": "stdout",
     "output_type": "stream",
     "text": [
      "Input features shape: torch.Size([8, 80, 3000])\n",
      "Labels shape: torch.Size([8, 60])\n"
     ]
    },
    {
     "name": "stderr",
     "output_type": "stream",
     "text": [
      "Epoch 1 진행 중:  11%|███████                                                       | 231/2032 [04:14<36:11,  1.21s/it]"
     ]
    },
    {
     "name": "stdout",
     "output_type": "stream",
     "text": [
      "Input features shape: torch.Size([8, 80, 3000])\n",
      "Labels shape: torch.Size([8, 60])\n"
     ]
    },
    {
     "name": "stderr",
     "output_type": "stream",
     "text": [
      "Epoch 1 진행 중:  11%|███████                                                       | 232/2032 [04:16<34:52,  1.16s/it]"
     ]
    },
    {
     "name": "stdout",
     "output_type": "stream",
     "text": [
      "Input features shape: torch.Size([8, 80, 3000])\n",
      "Labels shape: torch.Size([8, 60])\n"
     ]
    },
    {
     "name": "stderr",
     "output_type": "stream",
     "text": [
      "Epoch 1 진행 중:  11%|███████                                                       | 233/2032 [04:16<32:23,  1.08s/it]"
     ]
    },
    {
     "name": "stdout",
     "output_type": "stream",
     "text": [
      "Input features shape: torch.Size([8, 80, 3000])\n",
      "Labels shape: torch.Size([8, 60])\n"
     ]
    },
    {
     "name": "stderr",
     "output_type": "stream",
     "text": [
      "Epoch 1 진행 중:  12%|███████▏                                                      | 234/2032 [04:17<30:45,  1.03s/it]"
     ]
    },
    {
     "name": "stdout",
     "output_type": "stream",
     "text": [
      "Input features shape: torch.Size([8, 80, 3000])\n",
      "Labels shape: torch.Size([8, 60])\n"
     ]
    },
    {
     "name": "stderr",
     "output_type": "stream",
     "text": [
      "Epoch 1 진행 중:  12%|███████▏                                                      | 235/2032 [04:18<30:06,  1.01s/it]"
     ]
    },
    {
     "name": "stdout",
     "output_type": "stream",
     "text": [
      "Input features shape: torch.Size([8, 80, 3000])\n",
      "Labels shape: torch.Size([8, 60])\n"
     ]
    },
    {
     "name": "stderr",
     "output_type": "stream",
     "text": [
      "Epoch 1 진행 중:  12%|███████▏                                                      | 236/2032 [04:19<31:24,  1.05s/it]"
     ]
    },
    {
     "name": "stdout",
     "output_type": "stream",
     "text": [
      "Input features shape: torch.Size([8, 80, 3000])\n",
      "Labels shape: torch.Size([8, 60])\n"
     ]
    },
    {
     "name": "stderr",
     "output_type": "stream",
     "text": [
      "Epoch 1 진행 중:  12%|███████▏                                                      | 237/2032 [04:21<33:53,  1.13s/it]"
     ]
    },
    {
     "name": "stdout",
     "output_type": "stream",
     "text": [
      "Input features shape: torch.Size([8, 80, 3000])\n",
      "Labels shape: torch.Size([8, 60])\n"
     ]
    },
    {
     "name": "stderr",
     "output_type": "stream",
     "text": [
      "Epoch 1 진행 중:  12%|███████▎                                                      | 238/2032 [04:22<35:08,  1.18s/it]"
     ]
    },
    {
     "name": "stdout",
     "output_type": "stream",
     "text": [
      "Input features shape: torch.Size([8, 80, 3000])\n",
      "Labels shape: torch.Size([8, 60])\n"
     ]
    },
    {
     "name": "stderr",
     "output_type": "stream",
     "text": [
      "Epoch 1 진행 중:  12%|███████▎                                                      | 239/2032 [04:23<33:50,  1.13s/it]"
     ]
    },
    {
     "name": "stdout",
     "output_type": "stream",
     "text": [
      "Input features shape: torch.Size([8, 80, 3000])\n",
      "Labels shape: torch.Size([8, 60])\n"
     ]
    },
    {
     "name": "stderr",
     "output_type": "stream",
     "text": [
      "Epoch 1 진행 중:  12%|███████▎                                                      | 240/2032 [04:24<31:52,  1.07s/it]"
     ]
    },
    {
     "name": "stdout",
     "output_type": "stream",
     "text": [
      "Input features shape: torch.Size([8, 80, 3000])\n",
      "Labels shape: torch.Size([8, 60])\n"
     ]
    },
    {
     "name": "stderr",
     "output_type": "stream",
     "text": [
      "Epoch 1 진행 중:  12%|███████▎                                                      | 241/2032 [04:25<30:10,  1.01s/it]"
     ]
    },
    {
     "name": "stdout",
     "output_type": "stream",
     "text": [
      "Input features shape: torch.Size([8, 80, 3000])\n",
      "Labels shape: torch.Size([8, 60])\n"
     ]
    },
    {
     "name": "stderr",
     "output_type": "stream",
     "text": [
      "Epoch 1 진행 중:  12%|███████▍                                                      | 242/2032 [04:26<30:25,  1.02s/it]"
     ]
    },
    {
     "name": "stdout",
     "output_type": "stream",
     "text": [
      "Input features shape: torch.Size([8, 80, 3000])\n",
      "Labels shape: torch.Size([8, 60])\n"
     ]
    },
    {
     "name": "stderr",
     "output_type": "stream",
     "text": [
      "Epoch 1 진행 중:  12%|███████▍                                                      | 243/2032 [04:27<32:47,  1.10s/it]"
     ]
    },
    {
     "name": "stdout",
     "output_type": "stream",
     "text": [
      "Input features shape: torch.Size([8, 80, 3000])\n",
      "Labels shape: torch.Size([8, 60])\n"
     ]
    },
    {
     "name": "stderr",
     "output_type": "stream",
     "text": [
      "Epoch 1 진행 중:  12%|███████▍                                                      | 244/2032 [04:28<34:43,  1.17s/it]"
     ]
    },
    {
     "name": "stdout",
     "output_type": "stream",
     "text": [
      "Input features shape: torch.Size([8, 80, 3000])\n",
      "Labels shape: torch.Size([8, 60])\n"
     ]
    },
    {
     "name": "stderr",
     "output_type": "stream",
     "text": [
      "Epoch 1 진행 중:  12%|███████▍                                                      | 245/2032 [04:30<34:42,  1.17s/it]"
     ]
    },
    {
     "name": "stdout",
     "output_type": "stream",
     "text": [
      "Input features shape: torch.Size([8, 80, 3000])\n",
      "Labels shape: torch.Size([8, 60])\n"
     ]
    },
    {
     "name": "stderr",
     "output_type": "stream",
     "text": [
      "Epoch 1 진행 중:  12%|███████▌                                                      | 246/2032 [04:31<32:28,  1.09s/it]"
     ]
    },
    {
     "name": "stdout",
     "output_type": "stream",
     "text": [
      "Input features shape: torch.Size([8, 80, 3000])\n",
      "Labels shape: torch.Size([8, 60])\n"
     ]
    },
    {
     "name": "stderr",
     "output_type": "stream",
     "text": [
      "Epoch 1 진행 중:  12%|███████▌                                                      | 247/2032 [04:31<30:38,  1.03s/it]"
     ]
    },
    {
     "name": "stdout",
     "output_type": "stream",
     "text": [
      "Input features shape: torch.Size([8, 80, 3000])\n",
      "Labels shape: torch.Size([8, 60])\n"
     ]
    },
    {
     "name": "stderr",
     "output_type": "stream",
     "text": [
      "Epoch 1 진행 중:  12%|███████▌                                                      | 248/2032 [04:32<29:44,  1.00s/it]"
     ]
    },
    {
     "name": "stdout",
     "output_type": "stream",
     "text": [
      "Input features shape: torch.Size([8, 80, 3000])\n",
      "Labels shape: torch.Size([8, 60])\n"
     ]
    },
    {
     "name": "stderr",
     "output_type": "stream",
     "text": [
      "Epoch 1 진행 중:  12%|███████▌                                                      | 249/2032 [04:34<31:24,  1.06s/it]"
     ]
    },
    {
     "name": "stdout",
     "output_type": "stream",
     "text": [
      "Input features shape: torch.Size([8, 80, 3000])\n",
      "Labels shape: torch.Size([8, 60])\n"
     ]
    },
    {
     "name": "stderr",
     "output_type": "stream",
     "text": [
      "Epoch 1 진행 중:  12%|███████▋                                                      | 250/2032 [04:35<33:30,  1.13s/it]"
     ]
    },
    {
     "name": "stdout",
     "output_type": "stream",
     "text": [
      "Input features shape: torch.Size([8, 80, 3000])\n",
      "Labels shape: torch.Size([8, 60])\n"
     ]
    },
    {
     "name": "stderr",
     "output_type": "stream",
     "text": [
      "Epoch 1 진행 중:  12%|███████▋                                                      | 251/2032 [04:36<34:27,  1.16s/it]"
     ]
    },
    {
     "name": "stdout",
     "output_type": "stream",
     "text": [
      "Input features shape: torch.Size([8, 80, 3000])\n",
      "Labels shape: torch.Size([8, 60])\n"
     ]
    },
    {
     "name": "stderr",
     "output_type": "stream",
     "text": [
      "Epoch 1 진행 중:  12%|███████▋                                                      | 252/2032 [04:37<33:14,  1.12s/it]"
     ]
    },
    {
     "name": "stdout",
     "output_type": "stream",
     "text": [
      "Input features shape: torch.Size([8, 80, 3000])\n",
      "Labels shape: torch.Size([8, 60])\n"
     ]
    },
    {
     "name": "stderr",
     "output_type": "stream",
     "text": [
      "Epoch 1 진행 중:  12%|███████▋                                                      | 253/2032 [04:38<32:05,  1.08s/it]"
     ]
    },
    {
     "name": "stdout",
     "output_type": "stream",
     "text": [
      "Input features shape: torch.Size([8, 80, 3000])\n",
      "Labels shape: torch.Size([8, 60])\n"
     ]
    },
    {
     "name": "stderr",
     "output_type": "stream",
     "text": [
      "Epoch 1 진행 중:  12%|███████▊                                                      | 254/2032 [04:39<30:37,  1.03s/it]"
     ]
    },
    {
     "name": "stdout",
     "output_type": "stream",
     "text": [
      "Input features shape: torch.Size([8, 80, 3000])\n",
      "Labels shape: torch.Size([8, 60])\n"
     ]
    },
    {
     "name": "stderr",
     "output_type": "stream",
     "text": [
      "Epoch 1 진행 중:  13%|███████▊                                                      | 255/2032 [04:40<31:11,  1.05s/it]"
     ]
    },
    {
     "name": "stdout",
     "output_type": "stream",
     "text": [
      "Input features shape: torch.Size([8, 80, 3000])\n",
      "Labels shape: torch.Size([8, 60])\n"
     ]
    },
    {
     "name": "stderr",
     "output_type": "stream",
     "text": [
      "Epoch 1 진행 중:  13%|███████▊                                                      | 256/2032 [04:41<33:25,  1.13s/it]"
     ]
    },
    {
     "name": "stdout",
     "output_type": "stream",
     "text": [
      "Input features shape: torch.Size([8, 80, 3000])\n",
      "Labels shape: torch.Size([8, 60])\n"
     ]
    },
    {
     "name": "stderr",
     "output_type": "stream",
     "text": [
      "Epoch 1 진행 중:  13%|███████▊                                                      | 257/2032 [04:43<34:57,  1.18s/it]"
     ]
    },
    {
     "name": "stdout",
     "output_type": "stream",
     "text": [
      "Input features shape: torch.Size([8, 80, 3000])\n",
      "Labels shape: torch.Size([8, 60])\n"
     ]
    },
    {
     "name": "stderr",
     "output_type": "stream",
     "text": [
      "Epoch 1 진행 중:  13%|███████▊                                                      | 258/2032 [04:44<34:40,  1.17s/it]"
     ]
    },
    {
     "name": "stdout",
     "output_type": "stream",
     "text": [
      "Input features shape: torch.Size([8, 80, 3000])\n",
      "Labels shape: torch.Size([8, 60])\n"
     ]
    },
    {
     "name": "stderr",
     "output_type": "stream",
     "text": [
      "Epoch 1 진행 중:  13%|███████▉                                                      | 259/2032 [04:45<32:23,  1.10s/it]"
     ]
    },
    {
     "name": "stdout",
     "output_type": "stream",
     "text": [
      "Input features shape: torch.Size([8, 80, 3000])\n",
      "Labels shape: torch.Size([8, 60])\n"
     ]
    },
    {
     "name": "stderr",
     "output_type": "stream",
     "text": [
      "Epoch 1 진행 중:  13%|███████▉                                                      | 260/2032 [04:46<30:36,  1.04s/it]"
     ]
    },
    {
     "name": "stdout",
     "output_type": "stream",
     "text": [
      "Input features shape: torch.Size([8, 80, 3000])\n",
      "Labels shape: torch.Size([8, 60])\n"
     ]
    },
    {
     "name": "stderr",
     "output_type": "stream",
     "text": [
      "Epoch 1 진행 중:  13%|███████▉                                                      | 261/2032 [04:47<31:19,  1.06s/it]"
     ]
    },
    {
     "name": "stdout",
     "output_type": "stream",
     "text": [
      "Input features shape: torch.Size([8, 80, 3000])\n",
      "Labels shape: torch.Size([8, 60])\n"
     ]
    },
    {
     "name": "stderr",
     "output_type": "stream",
     "text": [
      "Epoch 1 진행 중:  13%|███████▉                                                      | 262/2032 [04:48<33:43,  1.14s/it]"
     ]
    },
    {
     "name": "stdout",
     "output_type": "stream",
     "text": [
      "Input features shape: torch.Size([8, 80, 3000])\n",
      "Labels shape: torch.Size([8, 60])\n"
     ]
    },
    {
     "name": "stderr",
     "output_type": "stream",
     "text": [
      "Epoch 1 진행 중:  13%|████████                                                      | 263/2032 [04:49<35:16,  1.20s/it]"
     ]
    },
    {
     "name": "stdout",
     "output_type": "stream",
     "text": [
      "Input features shape: torch.Size([8, 80, 3000])\n",
      "Labels shape: torch.Size([8, 60])\n"
     ]
    },
    {
     "name": "stderr",
     "output_type": "stream",
     "text": [
      "Epoch 1 진행 중:  13%|████████                                                      | 264/2032 [04:51<34:51,  1.18s/it]"
     ]
    },
    {
     "name": "stdout",
     "output_type": "stream",
     "text": [
      "Input features shape: torch.Size([8, 80, 3000])\n",
      "Labels shape: torch.Size([8, 60])\n"
     ]
    },
    {
     "name": "stderr",
     "output_type": "stream",
     "text": [
      "Epoch 1 진행 중:  13%|████████                                                      | 265/2032 [04:52<32:37,  1.11s/it]"
     ]
    },
    {
     "name": "stdout",
     "output_type": "stream",
     "text": [
      "Input features shape: torch.Size([8, 80, 3000])\n",
      "Labels shape: torch.Size([8, 60])\n"
     ]
    },
    {
     "name": "stderr",
     "output_type": "stream",
     "text": [
      "Epoch 1 진행 중:  13%|████████                                                      | 266/2032 [04:53<31:06,  1.06s/it]"
     ]
    },
    {
     "name": "stdout",
     "output_type": "stream",
     "text": [
      "Input features shape: torch.Size([8, 80, 3000])\n",
      "Labels shape: torch.Size([8, 60])\n"
     ]
    },
    {
     "name": "stderr",
     "output_type": "stream",
     "text": [
      "Epoch 1 진행 중:  13%|████████▏                                                     | 267/2032 [04:54<31:08,  1.06s/it]"
     ]
    },
    {
     "name": "stdout",
     "output_type": "stream",
     "text": [
      "Input features shape: torch.Size([8, 80, 3000])\n",
      "Labels shape: torch.Size([8, 60])\n"
     ]
    },
    {
     "name": "stderr",
     "output_type": "stream",
     "text": [
      "Epoch 1 진행 중:  13%|████████▏                                                     | 268/2032 [04:55<32:50,  1.12s/it]"
     ]
    },
    {
     "name": "stdout",
     "output_type": "stream",
     "text": [
      "Input features shape: torch.Size([8, 80, 3000])\n",
      "Labels shape: torch.Size([8, 60])\n"
     ]
    },
    {
     "name": "stderr",
     "output_type": "stream",
     "text": [
      "Epoch 1 진행 중:  13%|████████▏                                                     | 269/2032 [04:56<34:24,  1.17s/it]"
     ]
    },
    {
     "name": "stdout",
     "output_type": "stream",
     "text": [
      "Input features shape: torch.Size([8, 80, 3000])\n",
      "Labels shape: torch.Size([8, 60])\n"
     ]
    },
    {
     "name": "stderr",
     "output_type": "stream",
     "text": [
      "Epoch 1 진행 중:  13%|████████▏                                                     | 270/2032 [04:57<34:45,  1.18s/it]"
     ]
    },
    {
     "name": "stdout",
     "output_type": "stream",
     "text": [
      "Input features shape: torch.Size([8, 80, 3000])\n",
      "Labels shape: torch.Size([8, 60])\n"
     ]
    },
    {
     "name": "stderr",
     "output_type": "stream",
     "text": [
      "Epoch 1 진행 중:  13%|████████▎                                                     | 271/2032 [04:58<32:54,  1.12s/it]"
     ]
    },
    {
     "name": "stdout",
     "output_type": "stream",
     "text": [
      "Input features shape: torch.Size([8, 80, 3000])\n",
      "Labels shape: torch.Size([8, 60])\n"
     ]
    },
    {
     "name": "stderr",
     "output_type": "stream",
     "text": [
      "Epoch 1 진행 중:  13%|████████▎                                                     | 272/2032 [04:59<31:13,  1.06s/it]"
     ]
    },
    {
     "name": "stdout",
     "output_type": "stream",
     "text": [
      "Input features shape: torch.Size([8, 80, 3000])\n",
      "Labels shape: torch.Size([8, 60])\n"
     ]
    },
    {
     "name": "stderr",
     "output_type": "stream",
     "text": [
      "Epoch 1 진행 중:  13%|████████▎                                                     | 273/2032 [05:00<30:20,  1.04s/it]"
     ]
    },
    {
     "name": "stdout",
     "output_type": "stream",
     "text": [
      "Input features shape: torch.Size([8, 80, 3000])\n",
      "Labels shape: torch.Size([8, 60])\n"
     ]
    },
    {
     "name": "stderr",
     "output_type": "stream",
     "text": [
      "Epoch 1 진행 중:  13%|████████▎                                                     | 274/2032 [05:01<32:01,  1.09s/it]"
     ]
    },
    {
     "name": "stdout",
     "output_type": "stream",
     "text": [
      "Input features shape: torch.Size([8, 80, 3000])\n",
      "Labels shape: torch.Size([8, 60])\n"
     ]
    },
    {
     "name": "stderr",
     "output_type": "stream",
     "text": [
      "Epoch 1 진행 중:  14%|████████▍                                                     | 275/2032 [05:03<33:52,  1.16s/it]"
     ]
    },
    {
     "name": "stdout",
     "output_type": "stream",
     "text": [
      "Input features shape: torch.Size([8, 80, 3000])\n",
      "Labels shape: torch.Size([8, 60])\n"
     ]
    },
    {
     "name": "stderr",
     "output_type": "stream",
     "text": [
      "Epoch 1 진행 중:  14%|████████▍                                                     | 276/2032 [05:04<34:38,  1.18s/it]"
     ]
    },
    {
     "name": "stdout",
     "output_type": "stream",
     "text": [
      "Input features shape: torch.Size([8, 80, 3000])\n",
      "Labels shape: torch.Size([8, 60])\n"
     ]
    },
    {
     "name": "stderr",
     "output_type": "stream",
     "text": [
      "Epoch 1 진행 중:  14%|████████▍                                                     | 277/2032 [05:05<33:19,  1.14s/it]"
     ]
    },
    {
     "name": "stdout",
     "output_type": "stream",
     "text": [
      "Input features shape: torch.Size([8, 80, 3000])\n",
      "Labels shape: torch.Size([8, 60])\n"
     ]
    },
    {
     "name": "stderr",
     "output_type": "stream",
     "text": [
      "Epoch 1 진행 중:  14%|████████▍                                                     | 278/2032 [05:06<31:40,  1.08s/it]"
     ]
    },
    {
     "name": "stdout",
     "output_type": "stream",
     "text": [
      "Input features shape: torch.Size([8, 80, 3000])\n",
      "Labels shape: torch.Size([8, 60])\n"
     ]
    },
    {
     "name": "stderr",
     "output_type": "stream",
     "text": [
      "Epoch 1 진행 중:  14%|████████▌                                                     | 279/2032 [05:07<30:22,  1.04s/it]"
     ]
    },
    {
     "name": "stdout",
     "output_type": "stream",
     "text": [
      "Input features shape: torch.Size([8, 80, 3000])\n",
      "Labels shape: torch.Size([8, 60])\n"
     ]
    },
    {
     "name": "stderr",
     "output_type": "stream",
     "text": [
      "Epoch 1 진행 중:  14%|████████▌                                                     | 280/2032 [05:08<31:57,  1.09s/it]"
     ]
    },
    {
     "name": "stdout",
     "output_type": "stream",
     "text": [
      "Input features shape: torch.Size([8, 80, 3000])\n",
      "Labels shape: torch.Size([8, 60])\n"
     ]
    },
    {
     "name": "stderr",
     "output_type": "stream",
     "text": [
      "Epoch 1 진행 중:  14%|████████▌                                                     | 281/2032 [05:10<32:14,  1.10s/it]\n"
     ]
    },
    {
     "ename": "KeyboardInterrupt",
     "evalue": "",
     "output_type": "error",
     "traceback": [
      "\u001b[1;31m---------------------------------------------------------------------------\u001b[0m",
      "\u001b[1;31mKeyboardInterrupt\u001b[0m                         Traceback (most recent call last)",
      "Cell \u001b[1;32mIn[33], line 63\u001b[0m\n\u001b[0;32m     61\u001b[0m \u001b[38;5;28mprint\u001b[39m(\u001b[38;5;124mf\u001b[39m\u001b[38;5;124m\"\u001b[39m\u001b[38;5;124mEpoch \u001b[39m\u001b[38;5;132;01m{\u001b[39;00mepoch\u001b[38;5;250m \u001b[39m\u001b[38;5;241m+\u001b[39m\u001b[38;5;250m \u001b[39m\u001b[38;5;241m1\u001b[39m\u001b[38;5;132;01m}\u001b[39;00m\u001b[38;5;124m 시작...\u001b[39m\u001b[38;5;124m\"\u001b[39m)\n\u001b[0;32m     62\u001b[0m epoch_loss \u001b[38;5;241m=\u001b[39m \u001b[38;5;241m0\u001b[39m\n\u001b[1;32m---> 63\u001b[0m \u001b[38;5;28;01mfor\u001b[39;00m batch \u001b[38;5;129;01min\u001b[39;00m tqdm(train_dataloader, desc\u001b[38;5;241m=\u001b[39m\u001b[38;5;124mf\u001b[39m\u001b[38;5;124m\"\u001b[39m\u001b[38;5;124mEpoch \u001b[39m\u001b[38;5;132;01m{\u001b[39;00mepoch\u001b[38;5;250m \u001b[39m\u001b[38;5;241m+\u001b[39m\u001b[38;5;250m \u001b[39m\u001b[38;5;241m1\u001b[39m\u001b[38;5;132;01m}\u001b[39;00m\u001b[38;5;124m 진행 중\u001b[39m\u001b[38;5;124m\"\u001b[39m):\n\u001b[0;32m     64\u001b[0m     \u001b[38;5;66;03m# 배치 데이터 추출\u001b[39;00m\n\u001b[0;32m     65\u001b[0m     input_features \u001b[38;5;241m=\u001b[39m batch[\u001b[38;5;124m\"\u001b[39m\u001b[38;5;124minput_features\u001b[39m\u001b[38;5;124m\"\u001b[39m]\u001b[38;5;241m.\u001b[39mto(device)\n\u001b[0;32m     66\u001b[0m     labels \u001b[38;5;241m=\u001b[39m batch[\u001b[38;5;124m\"\u001b[39m\u001b[38;5;124mlabels\u001b[39m\u001b[38;5;124m\"\u001b[39m]\u001b[38;5;241m.\u001b[39mto(device)\n",
      "File \u001b[1;32m~\\AppData\\Local\\Programs\\Python\\Python310\\lib\\site-packages\\tqdm\\std.py:1181\u001b[0m, in \u001b[0;36mtqdm.__iter__\u001b[1;34m(self)\u001b[0m\n\u001b[0;32m   1178\u001b[0m time \u001b[38;5;241m=\u001b[39m \u001b[38;5;28mself\u001b[39m\u001b[38;5;241m.\u001b[39m_time\n\u001b[0;32m   1180\u001b[0m \u001b[38;5;28;01mtry\u001b[39;00m:\n\u001b[1;32m-> 1181\u001b[0m     \u001b[38;5;28;01mfor\u001b[39;00m obj \u001b[38;5;129;01min\u001b[39;00m iterable:\n\u001b[0;32m   1182\u001b[0m         \u001b[38;5;28;01myield\u001b[39;00m obj\n\u001b[0;32m   1183\u001b[0m         \u001b[38;5;66;03m# Update and possibly print the progressbar.\u001b[39;00m\n\u001b[0;32m   1184\u001b[0m         \u001b[38;5;66;03m# Note: does not call self.update(1) for speed optimisation.\u001b[39;00m\n",
      "File \u001b[1;32m~\\AppData\\Local\\Programs\\Python\\Python310\\lib\\site-packages\\torch\\utils\\data\\dataloader.py:701\u001b[0m, in \u001b[0;36m_BaseDataLoaderIter.__next__\u001b[1;34m(self)\u001b[0m\n\u001b[0;32m    698\u001b[0m \u001b[38;5;28;01mif\u001b[39;00m \u001b[38;5;28mself\u001b[39m\u001b[38;5;241m.\u001b[39m_sampler_iter \u001b[38;5;129;01mis\u001b[39;00m \u001b[38;5;28;01mNone\u001b[39;00m:\n\u001b[0;32m    699\u001b[0m     \u001b[38;5;66;03m# TODO(https://github.com/pytorch/pytorch/issues/76750)\u001b[39;00m\n\u001b[0;32m    700\u001b[0m     \u001b[38;5;28mself\u001b[39m\u001b[38;5;241m.\u001b[39m_reset()  \u001b[38;5;66;03m# type: ignore[call-arg]\u001b[39;00m\n\u001b[1;32m--> 701\u001b[0m data \u001b[38;5;241m=\u001b[39m \u001b[38;5;28;43mself\u001b[39;49m\u001b[38;5;241;43m.\u001b[39;49m\u001b[43m_next_data\u001b[49m\u001b[43m(\u001b[49m\u001b[43m)\u001b[49m\n\u001b[0;32m    702\u001b[0m \u001b[38;5;28mself\u001b[39m\u001b[38;5;241m.\u001b[39m_num_yielded \u001b[38;5;241m+\u001b[39m\u001b[38;5;241m=\u001b[39m \u001b[38;5;241m1\u001b[39m\n\u001b[0;32m    703\u001b[0m \u001b[38;5;28;01mif\u001b[39;00m (\n\u001b[0;32m    704\u001b[0m     \u001b[38;5;28mself\u001b[39m\u001b[38;5;241m.\u001b[39m_dataset_kind \u001b[38;5;241m==\u001b[39m _DatasetKind\u001b[38;5;241m.\u001b[39mIterable\n\u001b[0;32m    705\u001b[0m     \u001b[38;5;129;01mand\u001b[39;00m \u001b[38;5;28mself\u001b[39m\u001b[38;5;241m.\u001b[39m_IterableDataset_len_called \u001b[38;5;129;01mis\u001b[39;00m \u001b[38;5;129;01mnot\u001b[39;00m \u001b[38;5;28;01mNone\u001b[39;00m\n\u001b[0;32m    706\u001b[0m     \u001b[38;5;129;01mand\u001b[39;00m \u001b[38;5;28mself\u001b[39m\u001b[38;5;241m.\u001b[39m_num_yielded \u001b[38;5;241m>\u001b[39m \u001b[38;5;28mself\u001b[39m\u001b[38;5;241m.\u001b[39m_IterableDataset_len_called\n\u001b[0;32m    707\u001b[0m ):\n",
      "File \u001b[1;32m~\\AppData\\Local\\Programs\\Python\\Python310\\lib\\site-packages\\torch\\utils\\data\\dataloader.py:757\u001b[0m, in \u001b[0;36m_SingleProcessDataLoaderIter._next_data\u001b[1;34m(self)\u001b[0m\n\u001b[0;32m    755\u001b[0m \u001b[38;5;28;01mdef\u001b[39;00m \u001b[38;5;21m_next_data\u001b[39m(\u001b[38;5;28mself\u001b[39m):\n\u001b[0;32m    756\u001b[0m     index \u001b[38;5;241m=\u001b[39m \u001b[38;5;28mself\u001b[39m\u001b[38;5;241m.\u001b[39m_next_index()  \u001b[38;5;66;03m# may raise StopIteration\u001b[39;00m\n\u001b[1;32m--> 757\u001b[0m     data \u001b[38;5;241m=\u001b[39m \u001b[38;5;28;43mself\u001b[39;49m\u001b[38;5;241;43m.\u001b[39;49m\u001b[43m_dataset_fetcher\u001b[49m\u001b[38;5;241;43m.\u001b[39;49m\u001b[43mfetch\u001b[49m\u001b[43m(\u001b[49m\u001b[43mindex\u001b[49m\u001b[43m)\u001b[49m  \u001b[38;5;66;03m# may raise StopIteration\u001b[39;00m\n\u001b[0;32m    758\u001b[0m     \u001b[38;5;28;01mif\u001b[39;00m \u001b[38;5;28mself\u001b[39m\u001b[38;5;241m.\u001b[39m_pin_memory:\n\u001b[0;32m    759\u001b[0m         data \u001b[38;5;241m=\u001b[39m _utils\u001b[38;5;241m.\u001b[39mpin_memory\u001b[38;5;241m.\u001b[39mpin_memory(data, \u001b[38;5;28mself\u001b[39m\u001b[38;5;241m.\u001b[39m_pin_memory_device)\n",
      "File \u001b[1;32m~\\AppData\\Local\\Programs\\Python\\Python310\\lib\\site-packages\\torch\\utils\\data\\_utils\\fetch.py:55\u001b[0m, in \u001b[0;36m_MapDatasetFetcher.fetch\u001b[1;34m(self, possibly_batched_index)\u001b[0m\n\u001b[0;32m     53\u001b[0m \u001b[38;5;28;01melse\u001b[39;00m:\n\u001b[0;32m     54\u001b[0m     data \u001b[38;5;241m=\u001b[39m \u001b[38;5;28mself\u001b[39m\u001b[38;5;241m.\u001b[39mdataset[possibly_batched_index]\n\u001b[1;32m---> 55\u001b[0m \u001b[38;5;28;01mreturn\u001b[39;00m \u001b[38;5;28;43mself\u001b[39;49m\u001b[38;5;241;43m.\u001b[39;49m\u001b[43mcollate_fn\u001b[49m\u001b[43m(\u001b[49m\u001b[43mdata\u001b[49m\u001b[43m)\u001b[49m\n",
      "Cell \u001b[1;32mIn[33], line 26\u001b[0m, in \u001b[0;36mcollate_fn\u001b[1;34m(batch)\u001b[0m\n\u001b[0;32m     25\u001b[0m \u001b[38;5;28;01mdef\u001b[39;00m \u001b[38;5;21mcollate_fn\u001b[39m(batch):\n\u001b[1;32m---> 26\u001b[0m     input_features \u001b[38;5;241m=\u001b[39m [torch\u001b[38;5;241m.\u001b[39mtensor(item[\u001b[38;5;124m\"\u001b[39m\u001b[38;5;124minput_features\u001b[39m\u001b[38;5;124m\"\u001b[39m]) \u001b[38;5;28;01mfor\u001b[39;00m item \u001b[38;5;129;01min\u001b[39;00m batch]\n\u001b[0;32m     27\u001b[0m     labels \u001b[38;5;241m=\u001b[39m [torch\u001b[38;5;241m.\u001b[39mtensor(item[\u001b[38;5;124m\"\u001b[39m\u001b[38;5;124mlabels\u001b[39m\u001b[38;5;124m\"\u001b[39m]) \u001b[38;5;28;01mfor\u001b[39;00m item \u001b[38;5;129;01min\u001b[39;00m batch]\n\u001b[0;32m     29\u001b[0m     \u001b[38;5;66;03m# 입력 데이터 패딩\u001b[39;00m\n",
      "Cell \u001b[1;32mIn[33], line 26\u001b[0m, in \u001b[0;36m<listcomp>\u001b[1;34m(.0)\u001b[0m\n\u001b[0;32m     25\u001b[0m \u001b[38;5;28;01mdef\u001b[39;00m \u001b[38;5;21mcollate_fn\u001b[39m(batch):\n\u001b[1;32m---> 26\u001b[0m     input_features \u001b[38;5;241m=\u001b[39m [\u001b[43mtorch\u001b[49m\u001b[38;5;241;43m.\u001b[39;49m\u001b[43mtensor\u001b[49m\u001b[43m(\u001b[49m\u001b[43mitem\u001b[49m\u001b[43m[\u001b[49m\u001b[38;5;124;43m\"\u001b[39;49m\u001b[38;5;124;43minput_features\u001b[39;49m\u001b[38;5;124;43m\"\u001b[39;49m\u001b[43m]\u001b[49m\u001b[43m)\u001b[49m \u001b[38;5;28;01mfor\u001b[39;00m item \u001b[38;5;129;01min\u001b[39;00m batch]\n\u001b[0;32m     27\u001b[0m     labels \u001b[38;5;241m=\u001b[39m [torch\u001b[38;5;241m.\u001b[39mtensor(item[\u001b[38;5;124m\"\u001b[39m\u001b[38;5;124mlabels\u001b[39m\u001b[38;5;124m\"\u001b[39m]) \u001b[38;5;28;01mfor\u001b[39;00m item \u001b[38;5;129;01min\u001b[39;00m batch]\n\u001b[0;32m     29\u001b[0m     \u001b[38;5;66;03m# 입력 데이터 패딩\u001b[39;00m\n",
      "\u001b[1;31mKeyboardInterrupt\u001b[0m: "
     ]
    }
   ],
   "source": [
    "\"\"\"from torch.nn.utils.rnn import pad_sequence\n",
    "\n",
    "# Whisper 모델 및 프로세서 준비\n",
    "processor = WhisperProcessor.from_pretrained(model_name)\n",
    "\n",
    "# LoRA 설정\n",
    "lora_config = LoraConfig(\n",
    "    r=8,\n",
    "    lora_alpha=32,\n",
    "    lora_dropout=0.1,\n",
    "    target_modules=[\"q_proj\", \"v_proj\"],\n",
    "    #task_type=\"SEQ_2_SEQ_LM\"\n",
    ")\n",
    "\n",
    "# Whisper 모델 로드 및 LoRA 적용\n",
    "print(\"모델 준비 중...\")\n",
    "model = WhisperForConditionalGeneration.from_pretrained(model_name)\n",
    "model = get_peft_model(model, lora_config)  # LoRA 적용\n",
    "model.to(device)\n",
    "\n",
    "# DataLoader 생성\n",
    "# 고정된 최대 길이 설정 (예: 60)\n",
    "MAX_LABEL_LENGTH = 60\n",
    "\n",
    "def collate_fn(batch):\n",
    "    input_features = [torch.tensor(item[\"input_features\"]) for item in batch]\n",
    "    labels = [torch.tensor(item[\"labels\"]) for item in batch]\n",
    "\n",
    "    # 입력 데이터 패딩\n",
    "    input_features = pad_sequence(input_features, batch_first=True, padding_value=0.0)\n",
    "\n",
    "    # 라벨 패딩 - 고정된 MAX_LABEL_LENGTH 적용\n",
    "    labels = pad_sequence(\n",
    "        labels,\n",
    "        batch_first=True,\n",
    "        padding_value=processor.tokenizer.pad_token_id\n",
    "    )\n",
    "\n",
    "    # 라벨 길이를 고정된 MAX_LABEL_LENGTH로 자르거나 패딩\n",
    "    if labels.shape[1] < MAX_LABEL_LENGTH:\n",
    "        padding = torch.full(\n",
    "            (labels.shape[0], MAX_LABEL_LENGTH - labels.shape[1]),\n",
    "            processor.tokenizer.pad_token_id,\n",
    "        )\n",
    "        labels = torch.cat([labels, padding], dim=1)\n",
    "    else:\n",
    "        labels = labels[:, :MAX_LABEL_LENGTH]\n",
    "\n",
    "    return {\"input_features\": input_features, \"labels\": labels}\n",
    "\n",
    "\n",
    "train_dataloader = DataLoader(train_dataset, batch_size=8, collate_fn=collate_fn, shuffle=True)\n",
    "\n",
    "# 모델 학습 설정\n",
    "optimizer = torch.optim.AdamW(model.parameters(), lr=5e-5)\n",
    "model.train()\n",
    "\n",
    "# 모델 학습 루프\n",
    "print(\"모델 학습 시작...\")\n",
    "for epoch in range(3):\n",
    "    print(f\"Epoch {epoch + 1} 시작...\")\n",
    "    epoch_loss = 0\n",
    "    for batch in tqdm(train_dataloader, desc=f\"Epoch {epoch + 1} 진행 중\"):\n",
    "        # 배치 데이터 추출\n",
    "        input_features = batch[\"input_features\"].to(device)\n",
    "        labels = batch[\"labels\"].to(device)\n",
    "\n",
    "        # 디버깅: 입력 데이터 확인\n",
    "        print(f\"Input features shape: {input_features.shape}\")\n",
    "        print(f\"Labels shape: {labels.shape}\")\n",
    "\n",
    "        # Whisper 모델 호출\n",
    "        try:\n",
    "            outputs = model(input_features=input_features, labels=labels)\n",
    "            loss = outputs.loss\n",
    "            loss.backward()\n",
    "            optimizer.step()\n",
    "            optimizer.zero_grad()\n",
    "\n",
    "            epoch_loss += loss.item()\n",
    "        except TypeError as e:\n",
    "            print(f\"오류 발생: {e}\")\n",
    "            print(\"입력 데이터 확인 중...\")\n",
    "            print(f\"Input features: {input_features}\")\n",
    "            print(f\"Labels: {labels}\")\n",
    "            raise e\n",
    "\n",
    "    avg_loss = epoch_loss / len(train_dataloader)\n",
    "    print(f\"Epoch {epoch + 1} 완료, 평균 Loss: {avg_loss:.4f}\")\n",
    "\n",
    "\n",
    "# 모델 저장\n",
    "output_dir = \"lora_whisper_model\"\n",
    "model.save_pretrained(output_dir)\n",
    "processor.save_pretrained(output_dir)\n",
    "\n",
    "print(f\"모델 저장 완료: {output_dir}\")\n",
    "\"\"\""
   ]
  },
  {
   "cell_type": "code",
   "execution_count": null,
   "id": "ee02cad7-66ce-4e5a-8dfd-a9cbe9b5e4bf",
   "metadata": {},
   "outputs": [],
   "source": []
  },
  {
   "cell_type": "code",
   "execution_count": 31,
   "id": "a94af0df-660a-4258-b1f7-a6baa2b2d3aa",
   "metadata": {},
   "outputs": [
    {
     "name": "stdout",
     "output_type": "stream",
     "text": [
      "Input features shape: torch.Size([8, 80, 3000])\n",
      "Labels shape: torch.Size([8, 60])\n"
     ]
    }
   ],
   "source": [
    "# Whisper 모델 입력 확인 모델에 전달하는 input_features와 labels의 크기를 출력해 예상과 일치하는지 확인하세요\n",
    "print(f\"Input features shape: {batch['input_features'].shape}\")\n",
    "print(f\"Labels shape: {batch['labels'].shape}\")\n"
   ]
  },
  {
   "cell_type": "code",
   "execution_count": 27,
   "id": "bd244299-adbd-4d76-b09a-e1ad00681f63",
   "metadata": {},
   "outputs": [
    {
     "name": "stdout",
     "output_type": "stream",
     "text": [
      "Input features shape: torch.Size([8, 80, 3000])\n",
      "Labels shape: torch.Size([8, 60])\n"
     ]
    }
   ],
   "source": [
    "#학습 루프에서 데이터 확인: 학습 루프 내부에서 입력 데이터와 레이블의 크기가 모델에 맞게 처리되고 있는지 확인합니다.\n",
    "\n",
    "for batch in train_dataloader:\n",
    "    print(f\"Input features shape: {batch['input_features'].shape}\")\n",
    "    print(f\"Labels shape: {batch['labels'].shape}\")\n",
    "    break  # 첫 배치만 확인\n"
   ]
  },
  {
   "cell_type": "markdown",
   "id": "4f416303-bbb5-417d-8c2a-be21d73ce4dc",
   "metadata": {
    "jp-MarkdownHeadingCollapsed": true
   },
   "source": [
    "## 데이터 확인"
   ]
  },
  {
   "cell_type": "code",
   "execution_count": 27,
   "id": "5a0dab02-0ea9-471e-9995-164a884a2d84",
   "metadata": {},
   "outputs": [
    {
     "name": "stdout",
     "output_type": "stream",
     "text": [
      "cache-3b97b2893613e14f.arrow: 304 bytes\n",
      "cache-3ee629c5e9a0e2d9.arrow: 3721072 bytes\n",
      "data-00000-of-00033.arrow: 487961424 bytes\n",
      "data-00001-of-00033.arrow: 487958232 bytes\n",
      "data-00002-of-00033.arrow: 487958952 bytes\n",
      "data-00003-of-00033.arrow: 487962256 bytes\n",
      "data-00004-of-00033.arrow: 487962072 bytes\n",
      "data-00005-of-00033.arrow: 487959824 bytes\n",
      "data-00006-of-00033.arrow: 487961104 bytes\n",
      "data-00007-of-00033.arrow: 487959856 bytes\n",
      "data-00009-of-00033.arrow: 487959736 bytes\n",
      "data-00010-of-00033.arrow: 487960336 bytes\n",
      "data-00011-of-00033.arrow: 487959704 bytes\n",
      "data-00012-of-00033.arrow: 487957792 bytes\n",
      "data-00013-of-00033.arrow: 487959568 bytes\n",
      "data-00014-of-00033.arrow: 487962776 bytes\n",
      "data-00015-of-00033.arrow: 487957584 bytes\n",
      "data-00016-of-00033.arrow: 487959576 bytes\n",
      "data-00017-of-00033.arrow: 487959488 bytes\n",
      "data-00018-of-00033.arrow: 487957080 bytes\n",
      "data-00019-of-00033.arrow: 487959664 bytes\n",
      "data-00020-of-00033.arrow: 487959896 bytes\n",
      "data-00021-of-00033.arrow: 487959992 bytes\n",
      "data-00022-of-00033.arrow: 487962624 bytes\n",
      "data-00023-of-00033.arrow: 487960024 bytes\n",
      "data-00024-of-00033.arrow: 487959048 bytes\n",
      "data-00025-of-00033.arrow: 487961968 bytes\n",
      "data-00026-of-00033.arrow: 487961160 bytes\n",
      "data-00027-of-00033.arrow: 487959104 bytes\n",
      "data-00028-of-00033.arrow: 487957400 bytes\n",
      "data-00029-of-00033.arrow: 487958024 bytes\n",
      "data-00030-of-00033.arrow: 487957968 bytes\n",
      "data-00031-of-00033.arrow: 487958904 bytes\n",
      "data-00032-of-00033.arrow: 487960616 bytes\n",
      "dataset_info.json: 608 bytes\n",
      "state.json: 2243 bytes\n"
     ]
    }
   ],
   "source": [
    "import os\n",
    "\n",
    "directory = r\"C:\\Users\\MATH-3\\Downloads\\엔엘핑\\train_data\"\n",
    "for file in os.listdir(directory):\n",
    "    file_path = os.path.join(directory, file)\n",
    "    print(f\"{file}: {os.path.getsize(file_path)} bytes\")\n"
   ]
  },
  {
   "cell_type": "code",
   "execution_count": 32,
   "id": "03955d67-49a6-4baa-be27-419c20bfccbe",
   "metadata": {},
   "outputs": [
    {
     "name": "stderr",
     "output_type": "stream",
     "text": [
      "IOPub data rate exceeded.\n",
      "The Jupyter server will temporarily stop sending output\n",
      "to the client in order to avoid crashing it.\n",
      "To change this limit, set the config variable\n",
      "`--ServerApp.iopub_data_rate_limit`.\n",
      "\n",
      "Current values:\n",
      "ServerApp.iopub_data_rate_limit=1000000.0 (bytes/sec)\n",
      "ServerApp.rate_limit_window=3.0 (secs)\n",
      "\n"
     ]
    }
   ],
   "source": [
    "import os\n",
    "from datasets import Dataset\n",
    "\n",
    "# 폴더 경로 설정\n",
    "directory = r\"C:\\Users\\MATH-3\\Downloads\\엔엘핑\\train_data\"\n",
    "\n",
    "# 폴더 내 모든 .arrow 파일 확인\n",
    "for file_name in os.listdir(directory):\n",
    "    if file_name.endswith(\".arrow\"):\n",
    "        file_path = os.path.join(directory, file_name)\n",
    "        try:\n",
    "            dataset = Dataset.from_file(file_path)\n",
    "            print(f\"파일 로드 성공: {file_name}\")\n",
    "            print(f\"샘플 데이터: {dataset[0]}\")  # 첫 번째 샘플만 출력\n",
    "            print(f\"데이터셋 크기: {len(dataset)}\")\n",
    "        except Exception as e:\n",
    "            print(f\"파일 로드 실패: {file_name}, 오류: {e}\")\n"
   ]
  },
  {
   "cell_type": "code",
   "execution_count": null,
   "id": "d2d63e27-08cf-4159-b86f-a5910859ed98",
   "metadata": {},
   "outputs": [],
   "source": []
  }
 ],
 "metadata": {
  "kernelspec": {
   "display_name": "Python 3 (ipykernel)",
   "language": "python",
   "name": "python3"
  },
  "language_info": {
   "codemirror_mode": {
    "name": "ipython",
    "version": 3
   },
   "file_extension": ".py",
   "mimetype": "text/x-python",
   "name": "python",
   "nbconvert_exporter": "python",
   "pygments_lexer": "ipython3",
   "version": "3.10.11"
  }
 },
 "nbformat": 4,
 "nbformat_minor": 5
}
