{
  "nbformat": 4,
  "nbformat_minor": 0,
  "metadata": {
    "colab": {
      "provenance": []
    },
    "kernelspec": {
      "name": "python3",
      "display_name": "Python 3"
    },
    "language_info": {
      "name": "python"
    }
  },
  "cells": [
    {
      "cell_type": "code",
      "source": [
        "!pip install -q openai langchain langchain-openai"
      ],
      "metadata": {
        "id": "EBFyoFPb-_7c"
      },
      "execution_count": null,
      "outputs": []
    },
    {
      "cell_type": "code",
      "execution_count": null,
      "metadata": {
        "id": "Qhh9fyI8-d9v"
      },
      "outputs": [],
      "source": [
        "#API KEY 저장을 위한 os 라이브러리 호출\n",
        "import os\n",
        "\n",
        "#기본 LLM 로드를 위한 라이브러리 호출\n",
        "from langchain.llms import OpenAI\n",
        "\n",
        "#채팅 LLM 로드를 위한 라이브러리 호출\n",
        "from langchain.chat_models import ChatOpenAI"
      ]
    },
    {
      "cell_type": "code",
      "source": [
        "#OPENAI API키 저장\n",
        "os.environ[\"OPENAI_API_KEY\"] = 'YOUR_API_KEY'"
      ],
      "metadata": {
        "id": "9F6f494n-IWA"
      },
      "execution_count": null,
      "outputs": []
    },
    {
      "cell_type": "markdown",
      "source": [
        "-------"
      ],
      "metadata": {
        "id": "DczHm9qI994V"
      }
    },
    {
      "cell_type": "markdown",
      "source": [
        "#### Davinch-003 모델 설정하기"
      ],
      "metadata": {
        "id": "THkva8fB-C0f"
      }
    },
    {
      "cell_type": "code",
      "source": [
        "davinch3 = OpenAI(\n",
        "    model_name=\"text-davinci-003\",\n",
        "    max_tokens = 1000\n",
        ")"
      ],
      "metadata": {
        "id": "uqur0akRHi0u"
      },
      "execution_count": null,
      "outputs": []
    },
    {
      "cell_type": "markdown",
      "source": [
        "#### (1) 프롬프트 템플릿 맛보기"
      ],
      "metadata": {
        "id": "QhCfB_lQ-uqx"
      }
    },
    {
      "cell_type": "markdown",
      "source": [
        "프롬프트 템플릿은 크게 2가지가 존재합니다.\n",
        "1. Prompt Template\n",
        "2. Chat Prompt Template\n",
        "\n",
        "1번 Prompt Template은 일반적인 프롬프트 템플릿을 생성할때 활용합니다.\n",
        "\n",
        "2번 Chat Prompt Template은 채팅 LLM에 프롬프트를 전달하는 데에 활용할 수 있는 특화 프롬프트 템플릿입니다.\n",
        "\n"
      ],
      "metadata": {
        "id": "LrfEmGR5Ctbq"
      }
    },
    {
      "cell_type": "code",
      "source": [
        "from langchain.prompts import PromptTemplate, ChatPromptTemplate\n",
        "\n",
        "#프롬프트 템플릿을 통해 매개변수 삽입 가능한 문자열로 변환\n",
        "string_prompt = PromptTemplate.from_template(\"tell me a joke about {subject}\")\n",
        "\n",
        "#매개변수 삽입한 결과를 string_prompt_value에 할당\n",
        "string_prompt_value = string_prompt.format_prompt(subject=\"soccer\")\n",
        "\n",
        "#채팅LLM이 아닌 LLM과 대화할 때 필요한 프롬프트 = string prompt\n",
        "string_prompt_value"
      ],
      "metadata": {
        "id": "-bX3Wvsy-tyv",
        "colab": {
          "base_uri": "https://localhost:8080/"
        },
        "outputId": "5c46d917-f543-4749-ffeb-79eef2bbe1cf"
      },
      "execution_count": null,
      "outputs": [
        {
          "output_type": "execute_result",
          "data": {
            "text/plain": [
              "StringPromptValue(text='tell me a joke about soccer')"
            ]
          },
          "metadata": {},
          "execution_count": 6
        }
      ]
    },
    {
      "cell_type": "code",
      "source": [
        "#to_string() 함수를 통해 prompt template으로 생성한 문장 raw_text 반환 가능\n",
        "print(string_prompt_value.to_string())"
      ],
      "metadata": {
        "id": "6F3GCMX7-7j8",
        "colab": {
          "base_uri": "https://localhost:8080/"
        },
        "outputId": "457a2145-15b9-4a62-a106-19ecf9631350"
      },
      "execution_count": null,
      "outputs": [
        {
          "output_type": "stream",
          "name": "stdout",
          "text": [
            "tell me a joke about soccer\n"
          ]
        }
      ]
    },
    {
      "cell_type": "code",
      "source": [
        "chat_prompt = ChatPromptTemplate.from_template(\"tell me a joke about {subject}\")\n",
        "chat_prompt_value = chat_prompt.format_prompt(subject=\"soccer\")\n",
        "chat_prompt_value"
      ],
      "metadata": {
        "id": "vylmSAk2_dfk",
        "colab": {
          "base_uri": "https://localhost:8080/"
        },
        "outputId": "f794506b-3c49-41b6-f7b8-2be3df6766ee"
      },
      "execution_count": null,
      "outputs": [
        {
          "output_type": "execute_result",
          "data": {
            "text/plain": [
              "ChatPromptValue(messages=[HumanMessage(content='tell me a joke about soccer')])"
            ]
          },
          "metadata": {},
          "execution_count": 8
        }
      ]
    },
    {
      "cell_type": "code",
      "source": [
        "chat_prompt_value.to_string()"
      ],
      "metadata": {
        "id": "47q4Uy2y_bM8",
        "colab": {
          "base_uri": "https://localhost:8080/",
          "height": 35
        },
        "outputId": "bbd1724f-7d6b-4267-d581-4fcfcc6459aa"
      },
      "execution_count": null,
      "outputs": [
        {
          "output_type": "execute_result",
          "data": {
            "text/plain": [
              "'Human: tell me a joke about soccer'"
            ],
            "application/vnd.google.colaboratory.intrinsic+json": {
              "type": "string"
            }
          },
          "metadata": {},
          "execution_count": 9
        }
      ]
    },
    {
      "cell_type": "markdown",
      "source": [
        "#### (2) 프롬프트 템플릿 활용해보기"
      ],
      "metadata": {
        "id": "jVF-pxeUE4JI"
      }
    },
    {
      "cell_type": "markdown",
      "source": [
        "반복적인 프롬프트를 삽입해야하는 경우, Prompt Template를 통해 간편하게 LLM을 활용할 수 있습니다."
      ],
      "metadata": {
        "id": "RIoNBQ_HFNlm"
      }
    },
    {
      "cell_type": "markdown",
      "source": [
        "- GPT-3와 프롬프트 템플릿을 활용하여 대화해보기"
      ],
      "metadata": {
        "id": "25dmtYfJajHS"
      }
    },
    {
      "cell_type": "code",
      "source": [
        "from langchain.prompts.prompt import PromptTemplate\n",
        "\n",
        "template = \"\"\"\n",
        "너는 요리사야. 내가 가진 재료들을 갖고 만들 수 있는 요리를 추천하고, 그 요리의 레시피를 제시해줘.\n",
        "내가 가진 재료는 아래와 같아.\n",
        "\n",
        "<재료>\n",
        "{재료}\n",
        "\n",
        "\"\"\"\n",
        "prompt_template = PromptTemplate(\n",
        "    input_variables = ['재료'],\n",
        "    template = template\n",
        ")\n"
      ],
      "metadata": {
        "id": "p1urKI18_bxI"
      },
      "execution_count": null,
      "outputs": []
    },
    {
      "cell_type": "code",
      "source": [
        "print(prompt_template.format(재료 = '양파, 계란, 사과, 빵'))"
      ],
      "metadata": {
        "id": "lhBbXyEWGGE5",
        "colab": {
          "base_uri": "https://localhost:8080/"
        },
        "outputId": "9fb13a62-4956-448a-a510-d63a33624315"
      },
      "execution_count": null,
      "outputs": [
        {
          "output_type": "stream",
          "name": "stdout",
          "text": [
            "\n",
            "너는 요리사야. 내가 가진 재료들을 갖고 만들 수 있는 요리를 추천하고, 그 요리의 레시피를 제시해줘.\n",
            "내가 가진 재료는 아래와 같아.\n",
            "\n",
            "<재료>\n",
            "양파, 계란, 사과, 빵\n",
            "\n",
            "\n"
          ]
        }
      ]
    },
    {
      "cell_type": "code",
      "source": [
        "print(davinch3(\n",
        "    prompt_template.format(\n",
        "        재료 = '양파, 계란, 사과, 빵'\n",
        "    )\n",
        "))"
      ],
      "metadata": {
        "id": "nSxX_4auG4UM",
        "colab": {
          "base_uri": "https://localhost:8080/"
        },
        "outputId": "97601aa7-0272-4845-9132-b2c05b132acf"
      },
      "execution_count": null,
      "outputs": [
        {
          "output_type": "stream",
          "name": "stdout",
          "text": [
            "\n",
            "추천하는 요리는 아래와 같아.\n",
            "\n",
            "1. 양파 계란 볶음: 양파, 계란, 식용유, 소금 간장을 사용해서 만든 볶음\n",
            "\n",
            "레시피\n",
            "\n",
            "재료\n",
            "- 양파: 1개 (썰어서)\n",
            "- 계란: 2개 (두개로 쪼개서) \n",
            "- 식용유: 1큰술 \n",
            "- 소금: 약간 \n",
            "- 간장: 1큰술\n",
            "\n",
            "만드는 방법\n",
            "1. 양파를 썰어서 그릇에 담아 놓아. \n",
            "2. 계란을 두개로 쪼개서 그릇에 넣어줍니다.\n",
            "3. 식용유, 소금, 간장을 넣어줍니다.\n",
            "4. 모두 골고루 저어줍니다.\n",
            "5. 볶음팬에 양념을 넣고 중간 불로 내열합니다.\n",
            "6. 양파를 넣고 볶아줍니다.\n",
            "7. 계란을 넣고 볶아줍니다. \n",
            "8. 다 볶은 후 더 볶고 마무리합니다. \n",
            "\n",
            "2. 사과 빵 디저트: 사과와 빵을 사용해서 만든 디저트 \n",
            "\n",
            "레시피\n",
            "\n",
            "재료\n",
            "- 사과: 1개 (썰어서)\n",
            "- 빵: 1~2장 (썰어서) \n",
            "- 버터: 2큰술 \n",
            "- 설탕: 약간 \n",
            "\n",
            "만드는 방법\n",
            "1. 사과를 썰어서 그릇에 담아 놓아. \n",
            "2. 빵을 썰어서 그릇에 넣어줍니다.\n",
            "3. 버터를 넣고 설탕을 약간 넣어줍니다.\n",
            "4. 모두 골고루 저어줍니다.\n",
            "5. 그릇에 담고 디저트 용기에 담아줍니다. \n",
            "6.\n"
          ]
        }
      ]
    },
    {
      "cell_type": "markdown",
      "source": [
        "-  ChatGPT와 프롬프트 템플릿을 활용하여 대화해보기"
      ],
      "metadata": {
        "id": "Ea5k-T2KacpR"
      }
    },
    {
      "cell_type": "code",
      "source": [
        "from langchain.prompts import (\n",
        "    ChatPromptTemplate,\n",
        "    PromptTemplate,\n",
        "    SystemMessagePromptTemplate,\n",
        "    AIMessagePromptTemplate,\n",
        "    HumanMessagePromptTemplate,\n",
        ")\n",
        "from langchain.schema import (\n",
        "    AIMessage,\n",
        "    HumanMessage,\n",
        "    SystemMessage\n",
        ")"
      ],
      "metadata": {
        "id": "9yRP_2-aR9yr"
      },
      "execution_count": null,
      "outputs": []
    },
    {
      "cell_type": "code",
      "source": [
        "# ChatGPT 모델을 로드합니다.\n",
        "chatgpt = ChatOpenAI(temperature=0)\n",
        "\n",
        "#ChatGPT에게 역할을 부여합니다.(위에서 정의한 Template 사용)\n",
        "system_message_prompt = SystemMessagePromptTemplate.from_template(template)\n",
        "\n",
        "#사용자가 입력할 매개변수 template을 선언합니다.\n",
        "human_template = \"{재료}\"\n",
        "human_message_prompt = HumanMessagePromptTemplate.from_template(human_template)\n",
        "\n",
        "#ChatPromptTemplate에 system message와 human message 템플릿을 삽입합니다.\n",
        "chat_prompt = ChatPromptTemplate.from_messages([system_message_prompt, human_message_prompt])\n",
        "\n",
        "#ChatGPT API에 ChatPromptTemplate을 입력할 때, human message의 매개변수인 '재료'를 할당하여 전달합니다.\n",
        "#이와 같은 방식을 통해 ChatGPT는 ChatPromptTemplate의 구성요소인 system message와 human message를 전달받아, 대답 생성에 활용합니다.\n",
        "answer = chatgpt(chat_prompt.format_prompt(재료=\"양파, 계란, 사과, 빵\").to_messages())\n",
        "print(answer.content)"
      ],
      "metadata": {
        "id": "7jgLtLMPHKI2",
        "colab": {
          "base_uri": "https://localhost:8080/"
        },
        "outputId": "6af1104d-1d48-467e-f28b-3db7ce6deb6f"
      },
      "execution_count": null,
      "outputs": [
        {
          "output_type": "stream",
          "name": "stdout",
          "text": [
            "가지고 있는 재료로 만들 수 있는 요리 중 하나는 \"양파 계란말이\"입니다. 이 요리는 양파와 계란을 함께 볶아서 말아먹는 간단하면서도 맛있는 요리입니다. 아래는 양파 계란말이의 레시피입니다.\n",
            "\n",
            "[양파 계란말이 레시피]\n",
            "1. 양파를 깍두기 형태로 썰어줍니다.\n",
            "2. 팬에 식용유를 두르고 양파를 넣어 중간 불에서 볶아줍니다.\n",
            "3. 양파가 투명해질 때까지 볶은 후 계란을 풀어 넣어줍니다.\n",
            "4. 계란이 익을 때까지 저어가며 볶아줍니다.\n",
            "5. 양파와 계란이 잘 섞이고 익었으면 불을 끄고 소금과 후추로 간을 해줍니다.\n",
            "6. 빵과 함께 내놓고 맛있게 즐기면 됩니다.\n",
            "\n",
            "이렇게 양파 계란말이를 만들어보세요. 맛있게 드실 수 있을 거예요!\n"
          ]
        }
      ]
    },
    {
      "cell_type": "markdown",
      "source": [
        "###(3) Few-shot 예제를 통한 프롬프트 템플릿"
      ],
      "metadata": {
        "id": "LSEhdhkRazTL"
      }
    },
    {
      "cell_type": "markdown",
      "source": [
        "Few-shot이란, 딥러닝 모델이 결과물을 출력할 때 예시 결과물을 제시함으로써 원하는 결과물로 유도하는 방법론입니다.\n",
        "\n",
        "LLM 역시, Few-shot 예제를 제공하면 예제와 유사한 형태의 결과물을 출력합니다.\n",
        "\n",
        "내가 원하는 결과물의 형태가 특수하거나, 구조화된 답변을 원할 경우, 결과물의 예시를 수 개 제시함으로써 결과물의 품질을 향상시킬 수 있습니다."
      ],
      "metadata": {
        "id": "oXkGkd_Xa5o6"
      }
    },
    {
      "cell_type": "code",
      "source": [
        "from langchain.prompts.few_shot import FewShotPromptTemplate\n",
        "from langchain.prompts.prompt import PromptTemplate\n",
        "\n",
        "examples = [\n",
        "  {\n",
        "    \"question\": \"아이유로 삼행시 만들어줘\",\n",
        "    \"answer\":\n",
        "\"\"\"\n",
        "아: 아이유는\n",
        "이: 이런 강의를 들을 이\n",
        "유: 유가 없다.\n",
        "\"\"\"\n",
        "  },\n",
        "\n",
        "  {\n",
        "    \"question\": \"김민수로 삼행시 만들어줘\",\n",
        "    \"answer\":\n",
        "\"\"\"\n",
        "김: 김치는 맛있다\n",
        "민: 민달팽이도 좋아하는 김치!\n",
        "수: 수억을 줘도 김치는 내꺼!\n",
        "\"\"\"\n",
        "  }\n",
        "]"
      ],
      "metadata": {
        "id": "P71OBMpBVPY5"
      },
      "execution_count": null,
      "outputs": []
    },
    {
      "cell_type": "code",
      "source": [
        "example_prompt = PromptTemplate(input_variables=[\"question\", \"answer\"], template=\"Question: {question}\\n{answer}\")\n",
        "\n",
        "print(example_prompt.format(**examples[0]))"
      ],
      "metadata": {
        "id": "vYoqJvxlbbLi",
        "colab": {
          "base_uri": "https://localhost:8080/"
        },
        "outputId": "3d88b366-018b-48e9-dac8-5907e3c6e1ef"
      },
      "execution_count": null,
      "outputs": [
        {
          "output_type": "stream",
          "name": "stdout",
          "text": [
            "Question: 아이유로 삼행시 만들어줘\n",
            "\n",
            "아: 아이유는\n",
            "이: 이런 강의를 들을 이\n",
            "유: 유가 없다.\n",
            "\n"
          ]
        }
      ]
    },
    {
      "cell_type": "code",
      "source": [
        "prompt = FewShotPromptTemplate(\n",
        "    examples=examples,\n",
        "    example_prompt=example_prompt,\n",
        "    suffix=\"Question: {input}\",\n",
        "    input_variables=[\"input\"]\n",
        ")\n",
        "\n",
        "print(prompt.format(input=\"호날두로 삼행시 만들어줘\"))"
      ],
      "metadata": {
        "id": "Ip1L1Kvmbj6p",
        "colab": {
          "base_uri": "https://localhost:8080/"
        },
        "outputId": "e103bf9c-4227-4cd5-99c3-bc18de6c6d24"
      },
      "execution_count": null,
      "outputs": [
        {
          "output_type": "stream",
          "name": "stdout",
          "text": [
            "Question: 아이유로 삼행시 만들어줘\n",
            "\n",
            "아: 아이유는\n",
            "이: 이런 강의를 들을 이\n",
            "유: 유가 없다.\n",
            "\n",
            "\n",
            "Question: 김민수로 삼행시 만들어줘\n",
            "\n",
            "김: 김치는 맛있다\n",
            "민: 민달팽이도 좋아하는 김치!\n",
            "수: 수억을 줘도 김치는 내꺼!\n",
            "\n",
            "\n",
            "Question: 호날두로 삼행시 만들어줘\n"
          ]
        }
      ]
    },
    {
      "cell_type": "code",
      "source": [
        "print(davinch3.predict(\"호날두로 삼행시 만들어줘\"))"
      ],
      "metadata": {
        "id": "ombnB2752_XU",
        "colab": {
          "base_uri": "https://localhost:8080/"
        },
        "outputId": "70ff96a0-df5b-40ac-8f1c-933472361126"
      },
      "execution_count": null,
      "outputs": [
        {
          "output_type": "stream",
          "name": "stdout",
          "text": [
            "\n",
            "\n",
            "호날두 떠나면 혼자 늘 외로워\n",
            "내 앞에는 다른 누구도 없는데\n",
            "나는 가끔 슬플 때도 있어\n",
            "그때는 네가 언제나 곁에 있던 걸\n",
            "\n",
            "호날두 내 곁에 있던 기억이 나\n",
            "어제 이렇게 같이 웃었던 걸\n",
            "호날두 내게 넌 다시 오지 않을까\n",
            "널 기다려 할 땐 마음 너무 힘들어\n",
            "\n",
            "난 널 보고 싶어 널 보고 싶어\n",
            "사랑하는 너를 다시 만나고 싶어\n",
            "널 보면 마음이 흔들려 흔들려\n",
            "잊지 못할 추억이 떠오르네\n",
            "\n",
            "호날두 내 곁에 있던 기억이 나\n",
            "어제 이렇게 같이 웃었던 걸\n",
            "호날두 내게 넌 다시 오지 않을까\n",
            "널 기다려 할 땐 마음 너무 힘들어\n",
            "\n",
            "비가 오면 내 마음이 슬프게 변하네\n",
            "나의 가슴 속에 널 찾아가네\n",
            "난 널 보고 싶어 널 보고 싶어\n",
            "사랑하는 너를 다시 만나고 싶어\n",
            "\n",
            "난 널 보고 싶어 널 보고 싶어\n",
            "사랑하는 너를 다시 만나고 싶어\n",
            "널 보면 마음이 흔들려 흔들려\n",
            "잊지 못할 추억이 떠오르네\n",
            "\n",
            "내게 다시 너를 보내줘\n"
          ]
        }
      ]
    },
    {
      "cell_type": "code",
      "source": [
        "print(davinch3(\n",
        "    prompt.format(input=\"호날두로 삼행시 만들어줘\")\n",
        "))"
      ],
      "metadata": {
        "id": "kOwffrVsdADU",
        "colab": {
          "base_uri": "https://localhost:8080/"
        },
        "outputId": "398dc5aa-13a6-4ff1-f787-904186c3f9e3"
      },
      "execution_count": null,
      "outputs": [
        {
          "output_type": "stream",
          "name": "stdout",
          "text": [
            "\n",
            "\n",
            "호: 호주에서 왔어\n",
            "날: 날개가 펄럭이고\n",
            "두: 두근두근 마음이 뛰어대는 날\n"
          ]
        }
      ]
    },
    {
      "cell_type": "markdown",
      "source": [
        "### (4) Example Selector를 이용한 동적 Few-shot 러닝"
      ],
      "metadata": {
        "id": "9bzF-tKHiw3l"
      }
    },
    {
      "cell_type": "markdown",
      "source": [
        "Few-shot 예제를 동적으로 입력하고 싶은 경우, Example Selector를 활용할 수 있습니다.\n",
        "\n",
        "LLM이 여러 작업을 수행하도록 만들되 내가 원하는 범위의 대답을 출력하도록 하려면 사용자의 입력에 동적으로 반응해야 합니다.이와 동시에, 예제를 모두 학습시키는 것이 아니라 적절한 예시만 포함하도록 함으로써 입력 prompt의 길이를 제한하고, 이를 통해 오류가 발생하지 않도록 조절할 수 있습니다."
      ],
      "metadata": {
        "id": "SFriPzdEi-6l"
      }
    },
    {
      "cell_type": "code",
      "source": [
        "from langchain.prompts.example_selector import SemanticSimilarityExampleSelector\n",
        "from langchain.vectorstores import Chroma\n",
        "from langchain.embeddings import OpenAIEmbeddings\n",
        "from langchain.prompts import FewShotPromptTemplate, PromptTemplate\n",
        "\n",
        "example_prompt = PromptTemplate(\n",
        "    input_variables=[\"input\", \"output\"],\n",
        "    template=\"Input: {input}\\nOutput: {output}\",\n",
        ")\n",
        "\n",
        "# These are a lot of examples of a pretend task of creating antonyms.\n",
        "examples = [\n",
        "    {\"input\": \"행복\", \"output\": \"슬픔\"},\n",
        "    {\"input\": \"흥미\", \"output\": \"지루\"},\n",
        "    {\"input\": \"불안\", \"output\": \"안정\"},\n",
        "    {\"input\": \"긴 기차\", \"output\": \"짧은 기차\"},\n",
        "    {\"input\": \"큰 공\", \"output\": \"작은 공\"},\n",
        "]"
      ],
      "metadata": {
        "id": "ImuHUY24i7E8"
      },
      "execution_count": null,
      "outputs": []
    },
    {
      "cell_type": "code",
      "source": [
        "!pip install chromadb\n",
        "!pip install tiktoken"
      ],
      "metadata": {
        "id": "hZdsaKvSk2hv"
      },
      "execution_count": null,
      "outputs": []
    },
    {
      "cell_type": "code",
      "source": [
        "example_selector = SemanticSimilarityExampleSelector.from_examples(\n",
        "    # This is the list of examples available to select from.\n",
        "    examples,\n",
        "    # This is the embedding class used to produce embeddings which are used to measure semantic similarity.\n",
        "    OpenAIEmbeddings(),\n",
        "    # This is the VectorStore class that is used to store the embeddings and do a similarity search over.\n",
        "    Chroma,\n",
        "    # This is the number of examples to produce.\n",
        "    k=1\n",
        ")\n",
        "similar_prompt = FewShotPromptTemplate(\n",
        "    # We provide an ExampleSelector instead of examples.\n",
        "    example_selector=example_selector,\n",
        "    example_prompt=example_prompt,\n",
        "    prefix=\"주어진 입력에 대해 반대의 의미를 가진 단어를 출력해줘\",\n",
        "    suffix=\"Input: {단어}\\nOutput:\",\n",
        "    input_variables=[\"단어\"],\n",
        ")"
      ],
      "metadata": {
        "id": "7fR63b8OkkT8"
      },
      "execution_count": null,
      "outputs": []
    },
    {
      "cell_type": "code",
      "source": [
        "# Input is a feeling, so should select the happy/sad example\n",
        "print(similar_prompt.format(단어=\"무서운\"))"
      ],
      "metadata": {
        "id": "IBLqJJ1Glmim",
        "colab": {
          "base_uri": "https://localhost:8080/"
        },
        "outputId": "9d7f80e8-055c-42eb-e452-cb157d469908"
      },
      "execution_count": null,
      "outputs": [
        {
          "output_type": "stream",
          "name": "stdout",
          "text": [
            "주어진 입력에 대해 반대의 의미를 가진 단어를 출력해줘\n",
            "\n",
            "Input: 불안\n",
            "Output: 안정\n",
            "\n",
            "Input: 무서운\n",
            "Output:\n"
          ]
        }
      ]
    },
    {
      "cell_type": "code",
      "source": [
        "# Input is a feeling, so should select the happy/sad example\n",
        "print(similar_prompt.format(단어=\"큰 비행기\"))"
      ],
      "metadata": {
        "id": "4PMPa7oAk1P5",
        "colab": {
          "base_uri": "https://localhost:8080/"
        },
        "outputId": "9de03e2f-68c6-44fc-cb88-1d79a12d725e"
      },
      "execution_count": null,
      "outputs": [
        {
          "output_type": "stream",
          "name": "stdout",
          "text": [
            "주어진 입력에 대해 반대의 의미를 가진 단어를 출력해줘\n",
            "\n",
            "Input: 긴 기차\n",
            "Output: 짧은 기차\n",
            "\n",
            "Input: 큰 비행기\n",
            "Output:\n"
          ]
        }
      ]
    },
    {
      "cell_type": "code",
      "source": [
        "query = \"큰 비행기\"\n",
        "\n",
        "print(davinch3(\n",
        "    similar_prompt.format(단어=query)\n",
        "))"
      ],
      "metadata": {
        "id": "QVhHxGDIl9vO",
        "colab": {
          "base_uri": "https://localhost:8080/"
        },
        "outputId": "e6ecc76f-286d-49f9-e602-ac02f7c27420"
      },
      "execution_count": null,
      "outputs": [
        {
          "output_type": "stream",
          "name": "stdout",
          "text": [
            " 작은 비행기\n"
          ]
        }
      ]
    },
    {
      "cell_type": "markdown",
      "source": [
        "### (5) Output Parser를 활용한 출력값 조정"
      ],
      "metadata": {
        "id": "voHpTEbCtZbd"
      }
    },
    {
      "cell_type": "markdown",
      "source": [
        "LLM의 답변을 내가 원하는 형태로 고정하고 싶다면 OutputParser 함수를 활용할 수 있습니다. 리스트, JSON 형태 등 다양한 형식의 답변을 고정하여 출력할 수 있습니다."
      ],
      "metadata": {
        "id": "OeOagtrYtddg"
      }
    },
    {
      "cell_type": "code",
      "source": [
        "from langchain.output_parsers import CommaSeparatedListOutputParser\n",
        "from langchain.prompts import PromptTemplate, ChatPromptTemplate, HumanMessagePromptTemplate\n",
        "from langchain.llms import OpenAI\n",
        "from langchain.chat_models import ChatOpenAI"
      ],
      "metadata": {
        "id": "m3kZmxYPndZE"
      },
      "execution_count": null,
      "outputs": []
    },
    {
      "cell_type": "code",
      "source": [
        "output_parser = CommaSeparatedListOutputParser()"
      ],
      "metadata": {
        "id": "WCv9v_o2tpns"
      },
      "execution_count": null,
      "outputs": []
    },
    {
      "cell_type": "code",
      "source": [
        "format_instructions = output_parser.get_format_instructions()\n",
        "format_instructions"
      ],
      "metadata": {
        "id": "YszrHErKuGSr",
        "colab": {
          "base_uri": "https://localhost:8080/",
          "height": 35
        },
        "outputId": "d23e14ec-da84-43aa-ca48-d3040e9441c7"
      },
      "execution_count": null,
      "outputs": [
        {
          "output_type": "execute_result",
          "data": {
            "text/plain": [
              "'Your response should be a list of comma separated values, eg: `foo, bar, baz`'"
            ],
            "application/vnd.google.colaboratory.intrinsic+json": {
              "type": "string"
            }
          },
          "metadata": {},
          "execution_count": 30
        }
      ]
    },
    {
      "cell_type": "code",
      "source": [
        "prompt = PromptTemplate(\n",
        "    template=\"{주제} 5개를 추천해줘.\\n{format_instructions}\",\n",
        "    input_variables=[\"주제\"],\n",
        "    partial_variables={\"format_instructions\": format_instructions}\n",
        ")"
      ],
      "metadata": {
        "id": "9DwQ7cWptq5R"
      },
      "execution_count": null,
      "outputs": []
    },
    {
      "cell_type": "code",
      "source": [
        "model = OpenAI(temperature=0)"
      ],
      "metadata": {
        "id": "n2o_FERKtr7p"
      },
      "execution_count": null,
      "outputs": []
    },
    {
      "cell_type": "code",
      "source": [
        "_input = prompt.format(주제=\"영화\")\n",
        "output = model(_input)"
      ],
      "metadata": {
        "id": "JogXFdLrttG2"
      },
      "execution_count": null,
      "outputs": []
    },
    {
      "cell_type": "code",
      "source": [
        "output"
      ],
      "metadata": {
        "colab": {
          "base_uri": "https://localhost:8080/",
          "height": 35
        },
        "id": "Z0nSEvFhE4IS",
        "outputId": "b23a916e-70ce-4a5f-be43-7db395ddb50a"
      },
      "execution_count": null,
      "outputs": [
        {
          "output_type": "execute_result",
          "data": {
            "text/plain": [
              "'\\n\\n아이 스타일, 스타 워즈: 깨어난 포스, 엔드게임, 스파이더맨: 홈커밍, 엑스맨: 데이즈 오브 퓨처, 어벤져스: 엔드게임'"
            ],
            "application/vnd.google.colaboratory.intrinsic+json": {
              "type": "string"
            }
          },
          "metadata": {},
          "execution_count": 35
        }
      ]
    },
    {
      "cell_type": "code",
      "source": [
        "output_parser.parse(output)"
      ],
      "metadata": {
        "id": "YJSP5zCztuPZ",
        "colab": {
          "base_uri": "https://localhost:8080/"
        },
        "outputId": "389815d4-cdb6-4ef6-be09-3147f02172d7"
      },
      "execution_count": null,
      "outputs": [
        {
          "output_type": "execute_result",
          "data": {
            "text/plain": [
              "['아이 스타일',\n",
              " '스타 워즈: 깨어난 포스',\n",
              " '엔드게임',\n",
              " '스파이더맨: 홈커밍',\n",
              " '엑스맨: 데이즈 오브 퓨처',\n",
              " '어벤져스: 엔드게임']"
            ]
          },
          "metadata": {},
          "execution_count": 36
        }
      ]
    },
    {
      "cell_type": "code",
      "source": [],
      "metadata": {
        "id": "gnNOKXV3tvX5"
      },
      "execution_count": null,
      "outputs": []
    }
  ]
}