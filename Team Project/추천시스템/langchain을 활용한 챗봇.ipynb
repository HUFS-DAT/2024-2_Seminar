{
 "cells": [
  {
   "cell_type": "code",
   "execution_count": null,
   "metadata": {
    "colab": {
     "base_uri": "https://localhost:8080/"
    },
    "collapsed": true,
    "executionInfo": {
     "elapsed": 46104,
     "status": "ok",
     "timestamp": 1731900842472,
     "user": {
      "displayName": "김동영",
      "userId": "03879650360572713973"
     },
     "user_tz": -540
    },
    "id": "dAiIQGlHTueT",
    "outputId": "c520ad7c-9f3d-4922-87a1-ad8240ffc561"
   },
   "outputs": [
    {
     "name": "stdout",
     "output_type": "stream",
     "text": [
      "Requirement already satisfied: langchain in /usr/local/lib/python3.10/dist-packages (0.3.7)\n",
      "Requirement already satisfied: PyYAML>=5.3 in /usr/local/lib/python3.10/dist-packages (from langchain) (6.0.2)\n",
      "Requirement already satisfied: SQLAlchemy<3,>=1.4 in /usr/local/lib/python3.10/dist-packages (from langchain) (2.0.36)\n",
      "Requirement already satisfied: aiohttp<4.0.0,>=3.8.3 in /usr/local/lib/python3.10/dist-packages (from langchain) (3.10.10)\n",
      "Requirement already satisfied: async-timeout<5.0.0,>=4.0.0 in /usr/local/lib/python3.10/dist-packages (from langchain) (4.0.3)\n",
      "Requirement already satisfied: langchain-core<0.4.0,>=0.3.15 in /usr/local/lib/python3.10/dist-packages (from langchain) (0.3.17)\n",
      "Requirement already satisfied: langchain-text-splitters<0.4.0,>=0.3.0 in /usr/local/lib/python3.10/dist-packages (from langchain) (0.3.2)\n",
      "Requirement already satisfied: langsmith<0.2.0,>=0.1.17 in /usr/local/lib/python3.10/dist-packages (from langchain) (0.1.142)\n",
      "Requirement already satisfied: numpy<2,>=1 in /usr/local/lib/python3.10/dist-packages (from langchain) (1.26.4)\n",
      "Requirement already satisfied: pydantic<3.0.0,>=2.7.4 in /usr/local/lib/python3.10/dist-packages (from langchain) (2.9.2)\n",
      "Requirement already satisfied: requests<3,>=2 in /usr/local/lib/python3.10/dist-packages (from langchain) (2.32.3)\n",
      "Requirement already satisfied: tenacity!=8.4.0,<10,>=8.1.0 in /usr/local/lib/python3.10/dist-packages (from langchain) (9.0.0)\n",
      "Requirement already satisfied: aiohappyeyeballs>=2.3.0 in /usr/local/lib/python3.10/dist-packages (from aiohttp<4.0.0,>=3.8.3->langchain) (2.4.3)\n",
      "Requirement already satisfied: aiosignal>=1.1.2 in /usr/local/lib/python3.10/dist-packages (from aiohttp<4.0.0,>=3.8.3->langchain) (1.3.1)\n",
      "Requirement already satisfied: attrs>=17.3.0 in /usr/local/lib/python3.10/dist-packages (from aiohttp<4.0.0,>=3.8.3->langchain) (24.2.0)\n",
      "Requirement already satisfied: frozenlist>=1.1.1 in /usr/local/lib/python3.10/dist-packages (from aiohttp<4.0.0,>=3.8.3->langchain) (1.5.0)\n",
      "Requirement already satisfied: multidict<7.0,>=4.5 in /usr/local/lib/python3.10/dist-packages (from aiohttp<4.0.0,>=3.8.3->langchain) (6.1.0)\n",
      "Requirement already satisfied: yarl<2.0,>=1.12.0 in /usr/local/lib/python3.10/dist-packages (from aiohttp<4.0.0,>=3.8.3->langchain) (1.17.1)\n",
      "Requirement already satisfied: jsonpatch<2.0,>=1.33 in /usr/local/lib/python3.10/dist-packages (from langchain-core<0.4.0,>=0.3.15->langchain) (1.33)\n",
      "Requirement already satisfied: packaging<25,>=23.2 in /usr/local/lib/python3.10/dist-packages (from langchain-core<0.4.0,>=0.3.15->langchain) (24.2)\n",
      "Requirement already satisfied: typing-extensions>=4.7 in /usr/local/lib/python3.10/dist-packages (from langchain-core<0.4.0,>=0.3.15->langchain) (4.12.2)\n",
      "Requirement already satisfied: httpx<1,>=0.23.0 in /usr/local/lib/python3.10/dist-packages (from langsmith<0.2.0,>=0.1.17->langchain) (0.27.2)\n",
      "Requirement already satisfied: orjson<4.0.0,>=3.9.14 in /usr/local/lib/python3.10/dist-packages (from langsmith<0.2.0,>=0.1.17->langchain) (3.10.11)\n",
      "Requirement already satisfied: requests-toolbelt<2.0.0,>=1.0.0 in /usr/local/lib/python3.10/dist-packages (from langsmith<0.2.0,>=0.1.17->langchain) (1.0.0)\n",
      "Requirement already satisfied: annotated-types>=0.6.0 in /usr/local/lib/python3.10/dist-packages (from pydantic<3.0.0,>=2.7.4->langchain) (0.7.0)\n",
      "Requirement already satisfied: pydantic-core==2.23.4 in /usr/local/lib/python3.10/dist-packages (from pydantic<3.0.0,>=2.7.4->langchain) (2.23.4)\n",
      "Requirement already satisfied: charset-normalizer<4,>=2 in /usr/local/lib/python3.10/dist-packages (from requests<3,>=2->langchain) (3.4.0)\n",
      "Requirement already satisfied: idna<4,>=2.5 in /usr/local/lib/python3.10/dist-packages (from requests<3,>=2->langchain) (3.10)\n",
      "Requirement already satisfied: urllib3<3,>=1.21.1 in /usr/local/lib/python3.10/dist-packages (from requests<3,>=2->langchain) (2.2.3)\n",
      "Requirement already satisfied: certifi>=2017.4.17 in /usr/local/lib/python3.10/dist-packages (from requests<3,>=2->langchain) (2024.8.30)\n",
      "Requirement already satisfied: greenlet!=0.4.17 in /usr/local/lib/python3.10/dist-packages (from SQLAlchemy<3,>=1.4->langchain) (3.1.1)\n",
      "Requirement already satisfied: anyio in /usr/local/lib/python3.10/dist-packages (from httpx<1,>=0.23.0->langsmith<0.2.0,>=0.1.17->langchain) (3.7.1)\n",
      "Requirement already satisfied: httpcore==1.* in /usr/local/lib/python3.10/dist-packages (from httpx<1,>=0.23.0->langsmith<0.2.0,>=0.1.17->langchain) (1.0.6)\n",
      "Requirement already satisfied: sniffio in /usr/local/lib/python3.10/dist-packages (from httpx<1,>=0.23.0->langsmith<0.2.0,>=0.1.17->langchain) (1.3.1)\n",
      "Requirement already satisfied: h11<0.15,>=0.13 in /usr/local/lib/python3.10/dist-packages (from httpcore==1.*->httpx<1,>=0.23.0->langsmith<0.2.0,>=0.1.17->langchain) (0.14.0)\n",
      "Requirement already satisfied: jsonpointer>=1.9 in /usr/local/lib/python3.10/dist-packages (from jsonpatch<2.0,>=1.33->langchain-core<0.4.0,>=0.3.15->langchain) (3.0.0)\n",
      "Requirement already satisfied: propcache>=0.2.0 in /usr/local/lib/python3.10/dist-packages (from yarl<2.0,>=1.12.0->aiohttp<4.0.0,>=3.8.3->langchain) (0.2.0)\n",
      "Requirement already satisfied: exceptiongroup in /usr/local/lib/python3.10/dist-packages (from anyio->httpx<1,>=0.23.0->langsmith<0.2.0,>=0.1.17->langchain) (1.2.2)\n",
      "Requirement already satisfied: openai in /usr/local/lib/python3.10/dist-packages (1.54.4)\n",
      "Requirement already satisfied: anyio<5,>=3.5.0 in /usr/local/lib/python3.10/dist-packages (from openai) (3.7.1)\n",
      "Requirement already satisfied: distro<2,>=1.7.0 in /usr/local/lib/python3.10/dist-packages (from openai) (1.9.0)\n",
      "Requirement already satisfied: httpx<1,>=0.23.0 in /usr/local/lib/python3.10/dist-packages (from openai) (0.27.2)\n",
      "Requirement already satisfied: jiter<1,>=0.4.0 in /usr/local/lib/python3.10/dist-packages (from openai) (0.7.1)\n",
      "Requirement already satisfied: pydantic<3,>=1.9.0 in /usr/local/lib/python3.10/dist-packages (from openai) (2.9.2)\n",
      "Requirement already satisfied: sniffio in /usr/local/lib/python3.10/dist-packages (from openai) (1.3.1)\n",
      "Requirement already satisfied: tqdm>4 in /usr/local/lib/python3.10/dist-packages (from openai) (4.66.6)\n",
      "Requirement already satisfied: typing-extensions<5,>=4.11 in /usr/local/lib/python3.10/dist-packages (from openai) (4.12.2)\n",
      "Requirement already satisfied: idna>=2.8 in /usr/local/lib/python3.10/dist-packages (from anyio<5,>=3.5.0->openai) (3.10)\n",
      "Requirement already satisfied: exceptiongroup in /usr/local/lib/python3.10/dist-packages (from anyio<5,>=3.5.0->openai) (1.2.2)\n",
      "Requirement already satisfied: certifi in /usr/local/lib/python3.10/dist-packages (from httpx<1,>=0.23.0->openai) (2024.8.30)\n",
      "Requirement already satisfied: httpcore==1.* in /usr/local/lib/python3.10/dist-packages (from httpx<1,>=0.23.0->openai) (1.0.6)\n",
      "Requirement already satisfied: h11<0.15,>=0.13 in /usr/local/lib/python3.10/dist-packages (from httpcore==1.*->httpx<1,>=0.23.0->openai) (0.14.0)\n",
      "Requirement already satisfied: annotated-types>=0.6.0 in /usr/local/lib/python3.10/dist-packages (from pydantic<3,>=1.9.0->openai) (0.7.0)\n",
      "Requirement already satisfied: pydantic-core==2.23.4 in /usr/local/lib/python3.10/dist-packages (from pydantic<3,>=1.9.0->openai) (2.23.4)\n",
      "Collecting langchain-community\n",
      "  Downloading langchain_community-0.3.7-py3-none-any.whl.metadata (2.9 kB)\n",
      "Requirement already satisfied: PyYAML>=5.3 in /usr/local/lib/python3.10/dist-packages (from langchain-community) (6.0.2)\n",
      "Collecting SQLAlchemy<2.0.36,>=1.4 (from langchain-community)\n",
      "  Downloading SQLAlchemy-2.0.35-cp310-cp310-manylinux_2_17_x86_64.manylinux2014_x86_64.whl.metadata (9.6 kB)\n",
      "Requirement already satisfied: aiohttp<4.0.0,>=3.8.3 in /usr/local/lib/python3.10/dist-packages (from langchain-community) (3.10.10)\n",
      "Collecting dataclasses-json<0.7,>=0.5.7 (from langchain-community)\n",
      "  Downloading dataclasses_json-0.6.7-py3-none-any.whl.metadata (25 kB)\n",
      "Collecting httpx-sse<0.5.0,>=0.4.0 (from langchain-community)\n",
      "  Downloading httpx_sse-0.4.0-py3-none-any.whl.metadata (9.0 kB)\n",
      "Requirement already satisfied: langchain<0.4.0,>=0.3.7 in /usr/local/lib/python3.10/dist-packages (from langchain-community) (0.3.7)\n",
      "Requirement already satisfied: langchain-core<0.4.0,>=0.3.17 in /usr/local/lib/python3.10/dist-packages (from langchain-community) (0.3.17)\n",
      "Requirement already satisfied: langsmith<0.2.0,>=0.1.125 in /usr/local/lib/python3.10/dist-packages (from langchain-community) (0.1.142)\n",
      "Requirement already satisfied: numpy<2,>=1 in /usr/local/lib/python3.10/dist-packages (from langchain-community) (1.26.4)\n",
      "Collecting pydantic-settings<3.0.0,>=2.4.0 (from langchain-community)\n",
      "  Downloading pydantic_settings-2.6.1-py3-none-any.whl.metadata (3.5 kB)\n",
      "Requirement already satisfied: requests<3,>=2 in /usr/local/lib/python3.10/dist-packages (from langchain-community) (2.32.3)\n",
      "Requirement already satisfied: tenacity!=8.4.0,<10,>=8.1.0 in /usr/local/lib/python3.10/dist-packages (from langchain-community) (9.0.0)\n",
      "Requirement already satisfied: aiohappyeyeballs>=2.3.0 in /usr/local/lib/python3.10/dist-packages (from aiohttp<4.0.0,>=3.8.3->langchain-community) (2.4.3)\n",
      "Requirement already satisfied: aiosignal>=1.1.2 in /usr/local/lib/python3.10/dist-packages (from aiohttp<4.0.0,>=3.8.3->langchain-community) (1.3.1)\n",
      "Requirement already satisfied: attrs>=17.3.0 in /usr/local/lib/python3.10/dist-packages (from aiohttp<4.0.0,>=3.8.3->langchain-community) (24.2.0)\n",
      "Requirement already satisfied: frozenlist>=1.1.1 in /usr/local/lib/python3.10/dist-packages (from aiohttp<4.0.0,>=3.8.3->langchain-community) (1.5.0)\n",
      "Requirement already satisfied: multidict<7.0,>=4.5 in /usr/local/lib/python3.10/dist-packages (from aiohttp<4.0.0,>=3.8.3->langchain-community) (6.1.0)\n",
      "Requirement already satisfied: yarl<2.0,>=1.12.0 in /usr/local/lib/python3.10/dist-packages (from aiohttp<4.0.0,>=3.8.3->langchain-community) (1.17.1)\n",
      "Requirement already satisfied: async-timeout<5.0,>=4.0 in /usr/local/lib/python3.10/dist-packages (from aiohttp<4.0.0,>=3.8.3->langchain-community) (4.0.3)\n",
      "Collecting marshmallow<4.0.0,>=3.18.0 (from dataclasses-json<0.7,>=0.5.7->langchain-community)\n",
      "  Downloading marshmallow-3.23.1-py3-none-any.whl.metadata (7.5 kB)\n",
      "Collecting typing-inspect<1,>=0.4.0 (from dataclasses-json<0.7,>=0.5.7->langchain-community)\n",
      "  Downloading typing_inspect-0.9.0-py3-none-any.whl.metadata (1.5 kB)\n",
      "Requirement already satisfied: langchain-text-splitters<0.4.0,>=0.3.0 in /usr/local/lib/python3.10/dist-packages (from langchain<0.4.0,>=0.3.7->langchain-community) (0.3.2)\n",
      "Requirement already satisfied: pydantic<3.0.0,>=2.7.4 in /usr/local/lib/python3.10/dist-packages (from langchain<0.4.0,>=0.3.7->langchain-community) (2.9.2)\n",
      "Requirement already satisfied: jsonpatch<2.0,>=1.33 in /usr/local/lib/python3.10/dist-packages (from langchain-core<0.4.0,>=0.3.17->langchain-community) (1.33)\n",
      "Requirement already satisfied: packaging<25,>=23.2 in /usr/local/lib/python3.10/dist-packages (from langchain-core<0.4.0,>=0.3.17->langchain-community) (24.2)\n",
      "Requirement already satisfied: typing-extensions>=4.7 in /usr/local/lib/python3.10/dist-packages (from langchain-core<0.4.0,>=0.3.17->langchain-community) (4.12.2)\n",
      "Requirement already satisfied: httpx<1,>=0.23.0 in /usr/local/lib/python3.10/dist-packages (from langsmith<0.2.0,>=0.1.125->langchain-community) (0.27.2)\n",
      "Requirement already satisfied: orjson<4.0.0,>=3.9.14 in /usr/local/lib/python3.10/dist-packages (from langsmith<0.2.0,>=0.1.125->langchain-community) (3.10.11)\n",
      "Requirement already satisfied: requests-toolbelt<2.0.0,>=1.0.0 in /usr/local/lib/python3.10/dist-packages (from langsmith<0.2.0,>=0.1.125->langchain-community) (1.0.0)\n",
      "Collecting python-dotenv>=0.21.0 (from pydantic-settings<3.0.0,>=2.4.0->langchain-community)\n",
      "  Downloading python_dotenv-1.0.1-py3-none-any.whl.metadata (23 kB)\n",
      "Requirement already satisfied: charset-normalizer<4,>=2 in /usr/local/lib/python3.10/dist-packages (from requests<3,>=2->langchain-community) (3.4.0)\n",
      "Requirement already satisfied: idna<4,>=2.5 in /usr/local/lib/python3.10/dist-packages (from requests<3,>=2->langchain-community) (3.10)\n",
      "Requirement already satisfied: urllib3<3,>=1.21.1 in /usr/local/lib/python3.10/dist-packages (from requests<3,>=2->langchain-community) (2.2.3)\n",
      "Requirement already satisfied: certifi>=2017.4.17 in /usr/local/lib/python3.10/dist-packages (from requests<3,>=2->langchain-community) (2024.8.30)\n",
      "Requirement already satisfied: greenlet!=0.4.17 in /usr/local/lib/python3.10/dist-packages (from SQLAlchemy<2.0.36,>=1.4->langchain-community) (3.1.1)\n",
      "Requirement already satisfied: anyio in /usr/local/lib/python3.10/dist-packages (from httpx<1,>=0.23.0->langsmith<0.2.0,>=0.1.125->langchain-community) (3.7.1)\n",
      "Requirement already satisfied: httpcore==1.* in /usr/local/lib/python3.10/dist-packages (from httpx<1,>=0.23.0->langsmith<0.2.0,>=0.1.125->langchain-community) (1.0.6)\n",
      "Requirement already satisfied: sniffio in /usr/local/lib/python3.10/dist-packages (from httpx<1,>=0.23.0->langsmith<0.2.0,>=0.1.125->langchain-community) (1.3.1)\n",
      "Requirement already satisfied: h11<0.15,>=0.13 in /usr/local/lib/python3.10/dist-packages (from httpcore==1.*->httpx<1,>=0.23.0->langsmith<0.2.0,>=0.1.125->langchain-community) (0.14.0)\n",
      "Requirement already satisfied: jsonpointer>=1.9 in /usr/local/lib/python3.10/dist-packages (from jsonpatch<2.0,>=1.33->langchain-core<0.4.0,>=0.3.17->langchain-community) (3.0.0)\n",
      "Requirement already satisfied: annotated-types>=0.6.0 in /usr/local/lib/python3.10/dist-packages (from pydantic<3.0.0,>=2.7.4->langchain<0.4.0,>=0.3.7->langchain-community) (0.7.0)\n",
      "Requirement already satisfied: pydantic-core==2.23.4 in /usr/local/lib/python3.10/dist-packages (from pydantic<3.0.0,>=2.7.4->langchain<0.4.0,>=0.3.7->langchain-community) (2.23.4)\n",
      "Collecting mypy-extensions>=0.3.0 (from typing-inspect<1,>=0.4.0->dataclasses-json<0.7,>=0.5.7->langchain-community)\n",
      "  Downloading mypy_extensions-1.0.0-py3-none-any.whl.metadata (1.1 kB)\n",
      "Requirement already satisfied: propcache>=0.2.0 in /usr/local/lib/python3.10/dist-packages (from yarl<2.0,>=1.12.0->aiohttp<4.0.0,>=3.8.3->langchain-community) (0.2.0)\n",
      "Requirement already satisfied: exceptiongroup in /usr/local/lib/python3.10/dist-packages (from anyio->httpx<1,>=0.23.0->langsmith<0.2.0,>=0.1.125->langchain-community) (1.2.2)\n",
      "Downloading langchain_community-0.3.7-py3-none-any.whl (2.4 MB)\n",
      "\u001b[2K   \u001b[90m━━━━━━━━━━━━━━━━━━━━━━━━━━━━━━━━━━━━━━━━\u001b[0m \u001b[32m2.4/2.4 MB\u001b[0m \u001b[31m35.4 MB/s\u001b[0m eta \u001b[36m0:00:00\u001b[0m\n",
      "\u001b[?25hDownloading dataclasses_json-0.6.7-py3-none-any.whl (28 kB)\n",
      "Downloading httpx_sse-0.4.0-py3-none-any.whl (7.8 kB)\n",
      "Downloading pydantic_settings-2.6.1-py3-none-any.whl (28 kB)\n",
      "Downloading SQLAlchemy-2.0.35-cp310-cp310-manylinux_2_17_x86_64.manylinux2014_x86_64.whl (3.1 MB)\n",
      "\u001b[2K   \u001b[90m━━━━━━━━━━━━━━━━━━━━━━━━━━━━━━━━━━━━━━━━\u001b[0m \u001b[32m3.1/3.1 MB\u001b[0m \u001b[31m39.3 MB/s\u001b[0m eta \u001b[36m0:00:00\u001b[0m\n",
      "\u001b[?25hDownloading marshmallow-3.23.1-py3-none-any.whl (49 kB)\n",
      "\u001b[2K   \u001b[90m━━━━━━━━━━━━━━━━━━━━━━━━━━━━━━━━━━━━━━━━\u001b[0m \u001b[32m49.5/49.5 kB\u001b[0m \u001b[31m3.6 MB/s\u001b[0m eta \u001b[36m0:00:00\u001b[0m\n",
      "\u001b[?25hDownloading python_dotenv-1.0.1-py3-none-any.whl (19 kB)\n",
      "Downloading typing_inspect-0.9.0-py3-none-any.whl (8.8 kB)\n",
      "Downloading mypy_extensions-1.0.0-py3-none-any.whl (4.7 kB)\n",
      "Installing collected packages: SQLAlchemy, python-dotenv, mypy-extensions, marshmallow, httpx-sse, typing-inspect, pydantic-settings, dataclasses-json, langchain-community\n",
      "  Attempting uninstall: SQLAlchemy\n",
      "    Found existing installation: SQLAlchemy 2.0.36\n",
      "    Uninstalling SQLAlchemy-2.0.36:\n",
      "      Successfully uninstalled SQLAlchemy-2.0.36\n",
      "Successfully installed SQLAlchemy-2.0.35 dataclasses-json-0.6.7 httpx-sse-0.4.0 langchain-community-0.3.7 marshmallow-3.23.1 mypy-extensions-1.0.0 pydantic-settings-2.6.1 python-dotenv-1.0.1 typing-inspect-0.9.0\n",
      "Requirement already satisfied: langchain in /usr/local/lib/python3.10/dist-packages (0.3.7)\n",
      "Requirement already satisfied: openai in /usr/local/lib/python3.10/dist-packages (1.54.4)\n",
      "Requirement already satisfied: PyYAML>=5.3 in /usr/local/lib/python3.10/dist-packages (from langchain) (6.0.2)\n",
      "Requirement already satisfied: SQLAlchemy<3,>=1.4 in /usr/local/lib/python3.10/dist-packages (from langchain) (2.0.35)\n",
      "Requirement already satisfied: aiohttp<4.0.0,>=3.8.3 in /usr/local/lib/python3.10/dist-packages (from langchain) (3.10.10)\n",
      "Requirement already satisfied: async-timeout<5.0.0,>=4.0.0 in /usr/local/lib/python3.10/dist-packages (from langchain) (4.0.3)\n",
      "Requirement already satisfied: langchain-core<0.4.0,>=0.3.15 in /usr/local/lib/python3.10/dist-packages (from langchain) (0.3.17)\n",
      "Requirement already satisfied: langchain-text-splitters<0.4.0,>=0.3.0 in /usr/local/lib/python3.10/dist-packages (from langchain) (0.3.2)\n",
      "Requirement already satisfied: langsmith<0.2.0,>=0.1.17 in /usr/local/lib/python3.10/dist-packages (from langchain) (0.1.142)\n",
      "Requirement already satisfied: numpy<2,>=1 in /usr/local/lib/python3.10/dist-packages (from langchain) (1.26.4)\n",
      "Requirement already satisfied: pydantic<3.0.0,>=2.7.4 in /usr/local/lib/python3.10/dist-packages (from langchain) (2.9.2)\n",
      "Requirement already satisfied: requests<3,>=2 in /usr/local/lib/python3.10/dist-packages (from langchain) (2.32.3)\n",
      "Requirement already satisfied: tenacity!=8.4.0,<10,>=8.1.0 in /usr/local/lib/python3.10/dist-packages (from langchain) (9.0.0)\n",
      "Requirement already satisfied: anyio<5,>=3.5.0 in /usr/local/lib/python3.10/dist-packages (from openai) (3.7.1)\n",
      "Requirement already satisfied: distro<2,>=1.7.0 in /usr/local/lib/python3.10/dist-packages (from openai) (1.9.0)\n",
      "Requirement already satisfied: httpx<1,>=0.23.0 in /usr/local/lib/python3.10/dist-packages (from openai) (0.27.2)\n",
      "Requirement already satisfied: jiter<1,>=0.4.0 in /usr/local/lib/python3.10/dist-packages (from openai) (0.7.1)\n",
      "Requirement already satisfied: sniffio in /usr/local/lib/python3.10/dist-packages (from openai) (1.3.1)\n",
      "Requirement already satisfied: tqdm>4 in /usr/local/lib/python3.10/dist-packages (from openai) (4.66.6)\n",
      "Requirement already satisfied: typing-extensions<5,>=4.11 in /usr/local/lib/python3.10/dist-packages (from openai) (4.12.2)\n",
      "Requirement already satisfied: aiohappyeyeballs>=2.3.0 in /usr/local/lib/python3.10/dist-packages (from aiohttp<4.0.0,>=3.8.3->langchain) (2.4.3)\n",
      "Requirement already satisfied: aiosignal>=1.1.2 in /usr/local/lib/python3.10/dist-packages (from aiohttp<4.0.0,>=3.8.3->langchain) (1.3.1)\n",
      "Requirement already satisfied: attrs>=17.3.0 in /usr/local/lib/python3.10/dist-packages (from aiohttp<4.0.0,>=3.8.3->langchain) (24.2.0)\n",
      "Requirement already satisfied: frozenlist>=1.1.1 in /usr/local/lib/python3.10/dist-packages (from aiohttp<4.0.0,>=3.8.3->langchain) (1.5.0)\n",
      "Requirement already satisfied: multidict<7.0,>=4.5 in /usr/local/lib/python3.10/dist-packages (from aiohttp<4.0.0,>=3.8.3->langchain) (6.1.0)\n",
      "Requirement already satisfied: yarl<2.0,>=1.12.0 in /usr/local/lib/python3.10/dist-packages (from aiohttp<4.0.0,>=3.8.3->langchain) (1.17.1)\n",
      "Requirement already satisfied: idna>=2.8 in /usr/local/lib/python3.10/dist-packages (from anyio<5,>=3.5.0->openai) (3.10)\n",
      "Requirement already satisfied: exceptiongroup in /usr/local/lib/python3.10/dist-packages (from anyio<5,>=3.5.0->openai) (1.2.2)\n",
      "Requirement already satisfied: certifi in /usr/local/lib/python3.10/dist-packages (from httpx<1,>=0.23.0->openai) (2024.8.30)\n",
      "Requirement already satisfied: httpcore==1.* in /usr/local/lib/python3.10/dist-packages (from httpx<1,>=0.23.0->openai) (1.0.6)\n",
      "Requirement already satisfied: h11<0.15,>=0.13 in /usr/local/lib/python3.10/dist-packages (from httpcore==1.*->httpx<1,>=0.23.0->openai) (0.14.0)\n",
      "Requirement already satisfied: jsonpatch<2.0,>=1.33 in /usr/local/lib/python3.10/dist-packages (from langchain-core<0.4.0,>=0.3.15->langchain) (1.33)\n",
      "Requirement already satisfied: packaging<25,>=23.2 in /usr/local/lib/python3.10/dist-packages (from langchain-core<0.4.0,>=0.3.15->langchain) (24.2)\n",
      "Requirement already satisfied: orjson<4.0.0,>=3.9.14 in /usr/local/lib/python3.10/dist-packages (from langsmith<0.2.0,>=0.1.17->langchain) (3.10.11)\n",
      "Requirement already satisfied: requests-toolbelt<2.0.0,>=1.0.0 in /usr/local/lib/python3.10/dist-packages (from langsmith<0.2.0,>=0.1.17->langchain) (1.0.0)\n",
      "Requirement already satisfied: annotated-types>=0.6.0 in /usr/local/lib/python3.10/dist-packages (from pydantic<3.0.0,>=2.7.4->langchain) (0.7.0)\n",
      "Requirement already satisfied: pydantic-core==2.23.4 in /usr/local/lib/python3.10/dist-packages (from pydantic<3.0.0,>=2.7.4->langchain) (2.23.4)\n",
      "Requirement already satisfied: charset-normalizer<4,>=2 in /usr/local/lib/python3.10/dist-packages (from requests<3,>=2->langchain) (3.4.0)\n",
      "Requirement already satisfied: urllib3<3,>=1.21.1 in /usr/local/lib/python3.10/dist-packages (from requests<3,>=2->langchain) (2.2.3)\n",
      "Requirement already satisfied: greenlet!=0.4.17 in /usr/local/lib/python3.10/dist-packages (from SQLAlchemy<3,>=1.4->langchain) (3.1.1)\n",
      "Requirement already satisfied: jsonpointer>=1.9 in /usr/local/lib/python3.10/dist-packages (from jsonpatch<2.0,>=1.33->langchain-core<0.4.0,>=0.3.15->langchain) (3.0.0)\n",
      "Requirement already satisfied: propcache>=0.2.0 in /usr/local/lib/python3.10/dist-packages (from yarl<2.0,>=1.12.0->aiohttp<4.0.0,>=3.8.3->langchain) (0.2.0)\n",
      "Collecting langchain-openai\n",
      "  Downloading langchain_openai-0.2.8-py3-none-any.whl.metadata (2.6 kB)\n",
      "Requirement already satisfied: langchain in /usr/local/lib/python3.10/dist-packages (0.3.7)\n",
      "Requirement already satisfied: langchain-core<0.4.0,>=0.3.17 in /usr/local/lib/python3.10/dist-packages (from langchain-openai) (0.3.17)\n",
      "Requirement already satisfied: openai<2.0.0,>=1.54.0 in /usr/local/lib/python3.10/dist-packages (from langchain-openai) (1.54.4)\n",
      "Collecting tiktoken<1,>=0.7 (from langchain-openai)\n",
      "  Downloading tiktoken-0.8.0-cp310-cp310-manylinux_2_17_x86_64.manylinux2014_x86_64.whl.metadata (6.6 kB)\n",
      "Requirement already satisfied: PyYAML>=5.3 in /usr/local/lib/python3.10/dist-packages (from langchain) (6.0.2)\n",
      "Requirement already satisfied: SQLAlchemy<3,>=1.4 in /usr/local/lib/python3.10/dist-packages (from langchain) (2.0.35)\n",
      "Requirement already satisfied: aiohttp<4.0.0,>=3.8.3 in /usr/local/lib/python3.10/dist-packages (from langchain) (3.10.10)\n",
      "Requirement already satisfied: async-timeout<5.0.0,>=4.0.0 in /usr/local/lib/python3.10/dist-packages (from langchain) (4.0.3)\n",
      "Requirement already satisfied: langchain-text-splitters<0.4.0,>=0.3.0 in /usr/local/lib/python3.10/dist-packages (from langchain) (0.3.2)\n",
      "Requirement already satisfied: langsmith<0.2.0,>=0.1.17 in /usr/local/lib/python3.10/dist-packages (from langchain) (0.1.142)\n",
      "Requirement already satisfied: numpy<2,>=1 in /usr/local/lib/python3.10/dist-packages (from langchain) (1.26.4)\n",
      "Requirement already satisfied: pydantic<3.0.0,>=2.7.4 in /usr/local/lib/python3.10/dist-packages (from langchain) (2.9.2)\n",
      "Requirement already satisfied: requests<3,>=2 in /usr/local/lib/python3.10/dist-packages (from langchain) (2.32.3)\n",
      "Requirement already satisfied: tenacity!=8.4.0,<10,>=8.1.0 in /usr/local/lib/python3.10/dist-packages (from langchain) (9.0.0)\n",
      "Requirement already satisfied: aiohappyeyeballs>=2.3.0 in /usr/local/lib/python3.10/dist-packages (from aiohttp<4.0.0,>=3.8.3->langchain) (2.4.3)\n",
      "Requirement already satisfied: aiosignal>=1.1.2 in /usr/local/lib/python3.10/dist-packages (from aiohttp<4.0.0,>=3.8.3->langchain) (1.3.1)\n",
      "Requirement already satisfied: attrs>=17.3.0 in /usr/local/lib/python3.10/dist-packages (from aiohttp<4.0.0,>=3.8.3->langchain) (24.2.0)\n",
      "Requirement already satisfied: frozenlist>=1.1.1 in /usr/local/lib/python3.10/dist-packages (from aiohttp<4.0.0,>=3.8.3->langchain) (1.5.0)\n",
      "Requirement already satisfied: multidict<7.0,>=4.5 in /usr/local/lib/python3.10/dist-packages (from aiohttp<4.0.0,>=3.8.3->langchain) (6.1.0)\n",
      "Requirement already satisfied: yarl<2.0,>=1.12.0 in /usr/local/lib/python3.10/dist-packages (from aiohttp<4.0.0,>=3.8.3->langchain) (1.17.1)\n",
      "Requirement already satisfied: jsonpatch<2.0,>=1.33 in /usr/local/lib/python3.10/dist-packages (from langchain-core<0.4.0,>=0.3.17->langchain-openai) (1.33)\n",
      "Requirement already satisfied: packaging<25,>=23.2 in /usr/local/lib/python3.10/dist-packages (from langchain-core<0.4.0,>=0.3.17->langchain-openai) (24.2)\n",
      "Requirement already satisfied: typing-extensions>=4.7 in /usr/local/lib/python3.10/dist-packages (from langchain-core<0.4.0,>=0.3.17->langchain-openai) (4.12.2)\n",
      "Requirement already satisfied: httpx<1,>=0.23.0 in /usr/local/lib/python3.10/dist-packages (from langsmith<0.2.0,>=0.1.17->langchain) (0.27.2)\n",
      "Requirement already satisfied: orjson<4.0.0,>=3.9.14 in /usr/local/lib/python3.10/dist-packages (from langsmith<0.2.0,>=0.1.17->langchain) (3.10.11)\n",
      "Requirement already satisfied: requests-toolbelt<2.0.0,>=1.0.0 in /usr/local/lib/python3.10/dist-packages (from langsmith<0.2.0,>=0.1.17->langchain) (1.0.0)\n",
      "Requirement already satisfied: anyio<5,>=3.5.0 in /usr/local/lib/python3.10/dist-packages (from openai<2.0.0,>=1.54.0->langchain-openai) (3.7.1)\n",
      "Requirement already satisfied: distro<2,>=1.7.0 in /usr/local/lib/python3.10/dist-packages (from openai<2.0.0,>=1.54.0->langchain-openai) (1.9.0)\n",
      "Requirement already satisfied: jiter<1,>=0.4.0 in /usr/local/lib/python3.10/dist-packages (from openai<2.0.0,>=1.54.0->langchain-openai) (0.7.1)\n",
      "Requirement already satisfied: sniffio in /usr/local/lib/python3.10/dist-packages (from openai<2.0.0,>=1.54.0->langchain-openai) (1.3.1)\n",
      "Requirement already satisfied: tqdm>4 in /usr/local/lib/python3.10/dist-packages (from openai<2.0.0,>=1.54.0->langchain-openai) (4.66.6)\n",
      "Requirement already satisfied: annotated-types>=0.6.0 in /usr/local/lib/python3.10/dist-packages (from pydantic<3.0.0,>=2.7.4->langchain) (0.7.0)\n",
      "Requirement already satisfied: pydantic-core==2.23.4 in /usr/local/lib/python3.10/dist-packages (from pydantic<3.0.0,>=2.7.4->langchain) (2.23.4)\n",
      "Requirement already satisfied: charset-normalizer<4,>=2 in /usr/local/lib/python3.10/dist-packages (from requests<3,>=2->langchain) (3.4.0)\n",
      "Requirement already satisfied: idna<4,>=2.5 in /usr/local/lib/python3.10/dist-packages (from requests<3,>=2->langchain) (3.10)\n",
      "Requirement already satisfied: urllib3<3,>=1.21.1 in /usr/local/lib/python3.10/dist-packages (from requests<3,>=2->langchain) (2.2.3)\n",
      "Requirement already satisfied: certifi>=2017.4.17 in /usr/local/lib/python3.10/dist-packages (from requests<3,>=2->langchain) (2024.8.30)\n",
      "Requirement already satisfied: greenlet!=0.4.17 in /usr/local/lib/python3.10/dist-packages (from SQLAlchemy<3,>=1.4->langchain) (3.1.1)\n",
      "Requirement already satisfied: regex>=2022.1.18 in /usr/local/lib/python3.10/dist-packages (from tiktoken<1,>=0.7->langchain-openai) (2024.9.11)\n",
      "Requirement already satisfied: exceptiongroup in /usr/local/lib/python3.10/dist-packages (from anyio<5,>=3.5.0->openai<2.0.0,>=1.54.0->langchain-openai) (1.2.2)\n",
      "Requirement already satisfied: httpcore==1.* in /usr/local/lib/python3.10/dist-packages (from httpx<1,>=0.23.0->langsmith<0.2.0,>=0.1.17->langchain) (1.0.6)\n",
      "Requirement already satisfied: h11<0.15,>=0.13 in /usr/local/lib/python3.10/dist-packages (from httpcore==1.*->httpx<1,>=0.23.0->langsmith<0.2.0,>=0.1.17->langchain) (0.14.0)\n",
      "Requirement already satisfied: jsonpointer>=1.9 in /usr/local/lib/python3.10/dist-packages (from jsonpatch<2.0,>=1.33->langchain-core<0.4.0,>=0.3.17->langchain-openai) (3.0.0)\n",
      "Requirement already satisfied: propcache>=0.2.0 in /usr/local/lib/python3.10/dist-packages (from yarl<2.0,>=1.12.0->aiohttp<4.0.0,>=3.8.3->langchain) (0.2.0)\n",
      "Downloading langchain_openai-0.2.8-py3-none-any.whl (50 kB)\n",
      "\u001b[2K   \u001b[90m━━━━━━━━━━━━━━━━━━━━━━━━━━━━━━━━━━━━━━━━\u001b[0m \u001b[32m50.4/50.4 kB\u001b[0m \u001b[31m2.7 MB/s\u001b[0m eta \u001b[36m0:00:00\u001b[0m\n",
      "\u001b[?25hDownloading tiktoken-0.8.0-cp310-cp310-manylinux_2_17_x86_64.manylinux2014_x86_64.whl (1.2 MB)\n",
      "\u001b[2K   \u001b[90m━━━━━━━━━━━━━━━━━━━━━━━━━━━━━━━━━━━━━━━━\u001b[0m \u001b[32m1.2/1.2 MB\u001b[0m \u001b[31m20.5 MB/s\u001b[0m eta \u001b[36m0:00:00\u001b[0m\n",
      "\u001b[?25hInstalling collected packages: tiktoken, langchain-openai\n",
      "Successfully installed langchain-openai-0.2.8 tiktoken-0.8.0\n"
     ]
    }
   ],
   "source": [
    "# !pip install langchain\n",
    "# !pip install openai\n",
    "# !pip install langchain-community\n",
    "# !pip install langchain openai\n",
    "# !pip install langchain-openai langchain"
   ]
  },
  {
   "cell_type": "markdown",
   "metadata": {
    "id": "NwVeH_KTUcCr"
   },
   "source": [
    "sk-UIK5UUXPG74a_UjaXnE7EZ3U6Mp-wpjwaw5_EjRpOcT3BlbkFJWibGEhdh28Rf-2tOwWyRxvXwpnuDuPo6cYF0ze_IkA"
   ]
  },
  {
   "cell_type": "code",
   "execution_count": 6,
   "metadata": {
    "executionInfo": {
     "elapsed": 6743,
     "status": "ok",
     "timestamp": 1731900850067,
     "user": {
      "displayName": "김동영",
      "userId": "03879650360572713973"
     },
     "user_tz": -540
    },
    "id": "JA9m8_lBUkwe"
   },
   "outputs": [],
   "source": [
    "# 필요한 라이브러리 설치\n",
    "\n",
    "import json\n",
    "import os\n",
    "import openai\n",
    "import langchain_community\n",
    "from langchain.llms import OpenAI\n",
    "from langchain.chat_models import ChatOpenAI\n",
    "from langchain.schema import HumanMessage, SystemMessage, AIMessage\n",
    "from langchain.prompts import PromptTemplate\n",
    "from langchain.prompts.chat import ChatPromptTemplate\n",
    "from langchain_core.prompts import ChatPromptTemplate, FewShotChatMessagePromptTemplate\n",
    "from langchain_core.output_parsers import StrOutputParser\n",
    "\n",
    "\n",
    "# 모델과 체인 생성\n",
    "from langchain_openai import ChatOpenAI"
   ]
  },
  {
   "cell_type": "code",
   "execution_count": null,
   "metadata": {
    "executionInfo": {
     "elapsed": 4,
     "status": "ok",
     "timestamp": 1731900850067,
     "user": {
      "displayName": "김동영",
      "userId": "03879650360572713973"
     },
     "user_tz": -540
    },
    "id": "PYruBawIT-6K"
   },
   "outputs": [],
   "source": [
    "OPENAI_KEY = '.' # open api key 입력"
   ]
  },
  {
   "cell_type": "markdown",
   "metadata": {
    "id": "Wxorri15VGSk"
   },
   "source": [
    "## 연습"
   ]
  },
  {
   "cell_type": "code",
   "execution_count": null,
   "metadata": {
    "colab": {
     "base_uri": "https://localhost:8080/"
    },
    "executionInfo": {
     "elapsed": 1134,
     "status": "ok",
     "timestamp": 1731598877756,
     "user": {
      "displayName": "김동영",
      "userId": "03879650360572713973"
     },
     "user_tz": -540
    },
    "id": "Htd0XxmhUEfq",
    "outputId": "5455531a-1fdb-43dd-cdce-7d3a15e50292"
   },
   "outputs": [
    {
     "name": "stderr",
     "output_type": "stream",
     "text": [
      "<ipython-input-9-3f0772fc01e6>:1: LangChainDeprecationWarning: The class `OpenAI` was deprecated in LangChain 0.0.10 and will be removed in 1.0. An updated version of the class exists in the :class:`~langchain-openai package and should be used instead. To use it run `pip install -U :class:`~langchain-openai` and import as `from :class:`~langchain_openai import OpenAI``.\n",
      "  llm = OpenAI(openai_api_key=OPENAI_KEY, temperature=0.9)\n"
     ]
    }
   ],
   "source": [
    "llm = OpenAI(openai_api_key=OPENAI_KEY, temperature=0.9)"
   ]
  },
  {
   "cell_type": "code",
   "execution_count": null,
   "metadata": {
    "colab": {
     "base_uri": "https://localhost:8080/",
     "height": 92
    },
    "executionInfo": {
     "elapsed": 1771,
     "status": "ok",
     "timestamp": 1731598909249,
     "user": {
      "displayName": "김동영",
      "userId": "03879650360572713973"
     },
     "user_tz": -540
    },
    "id": "BzuatBk-UEdK",
    "outputId": "4f288a4e-bb7f-4c10-87d9-6d2de6153925"
   },
   "outputs": [
    {
     "name": "stderr",
     "output_type": "stream",
     "text": [
      "<ipython-input-11-9c1ace565bf8>:1: LangChainDeprecationWarning: The method `BaseLLM.predict` was deprecated in langchain-core 0.1.7 and will be removed in 1.0. Use :meth:`~invoke` instead.\n",
      "  llm.predict(\"안녕하세요\")\n"
     ]
    },
    {
     "data": {
      "application/vnd.google.colaboratory.intrinsic+json": {
       "type": "string"
      },
      "text/plain": [
       "', 이현호입니다.\\n안녕하세요! 반가워요. 저는 이현호라고 해요. 만나서 기쁩니다. '"
      ]
     },
     "execution_count": 11,
     "metadata": {},
     "output_type": "execute_result"
    }
   ],
   "source": [
    "llm.predict(\"안녕하세요\")"
   ]
  },
  {
   "cell_type": "code",
   "execution_count": null,
   "metadata": {
    "colab": {
     "base_uri": "https://localhost:8080/"
    },
    "executionInfo": {
     "elapsed": 310,
     "status": "ok",
     "timestamp": 1731598940681,
     "user": {
      "displayName": "김동영",
      "userId": "03879650360572713973"
     },
     "user_tz": -540
    },
    "id": "C6tSA6kcUEbC",
    "outputId": "84c005f5-e1b3-4c8f-87b4-aa889c7c59f8"
   },
   "outputs": [
    {
     "name": "stderr",
     "output_type": "stream",
     "text": [
      "<ipython-input-12-c4b0fcfc099e>:1: LangChainDeprecationWarning: The class `ChatOpenAI` was deprecated in LangChain 0.0.10 and will be removed in 1.0. An updated version of the class exists in the :class:`~langchain-openai package and should be used instead. To use it run `pip install -U :class:`~langchain-openai` and import as `from :class:`~langchain_openai import ChatOpenAI``.\n",
      "  chat_model = ChatOpenAI(openai_api_key=OPENAI_KEY, temperature=0.9)\n"
     ]
    }
   ],
   "source": [
    "chat_model = ChatOpenAI(openai_api_key=OPENAI_KEY, temperature=0.9)  # 기본모델: gpt-3.5-turbo"
   ]
  },
  {
   "cell_type": "code",
   "execution_count": null,
   "metadata": {
    "colab": {
     "base_uri": "https://localhost:8080/",
     "height": 92
    },
    "executionInfo": {
     "elapsed": 1003,
     "status": "ok",
     "timestamp": 1731598947510,
     "user": {
      "displayName": "김동영",
      "userId": "03879650360572713973"
     },
     "user_tz": -540
    },
    "id": "P7mnjWjIVvby",
    "outputId": "542976de-644c-435a-e7e6-7341c39d8822"
   },
   "outputs": [
    {
     "name": "stderr",
     "output_type": "stream",
     "text": [
      "<ipython-input-13-a3b6d98d3e94>:1: LangChainDeprecationWarning: The method `BaseChatModel.predict` was deprecated in langchain-core 0.1.7 and will be removed in 1.0. Use :meth:`~invoke` instead.\n",
      "  chat_model.predict(\"안녕하세요\")\n"
     ]
    },
    {
     "data": {
      "application/vnd.google.colaboratory.intrinsic+json": {
       "type": "string"
      },
      "text/plain": [
       "'안녕하세요! 무엇을 도와드릴까요?'"
      ]
     },
     "execution_count": 13,
     "metadata": {},
     "output_type": "execute_result"
    }
   ],
   "source": [
    "chat_model.predict(\"안녕하세요\")"
   ]
  },
  {
   "cell_type": "markdown",
   "metadata": {
    "id": "7FbwzwbDWTyZ"
   },
   "source": [
    "predict: string을 input으로 받아서 string을 return  \n",
    "predict_messages : message 리스트를 받아서 message 리스트를 return"
   ]
  },
  {
   "cell_type": "code",
   "execution_count": null,
   "metadata": {
    "colab": {
     "base_uri": "https://localhost:8080/",
     "height": 54
    },
    "executionInfo": {
     "elapsed": 2431,
     "status": "ok",
     "timestamp": 1731599165157,
     "user": {
      "displayName": "김동영",
      "userId": "03879650360572713973"
     },
     "user_tz": -540
    },
    "id": "gPvUQYpOWCgf",
    "outputId": "ad8974e1-8bd6-498b-f204-cc01098076e4"
   },
   "outputs": [
    {
     "data": {
      "application/vnd.google.colaboratory.intrinsic+json": {
       "type": "string"
      },
      "text/plain": [
       "'\\n\\n- 피트웍스(Fitworks)\\n- 움브라(Umbra)\\n- 슈베로(Shuvero)\\n- 레벨런(Levelrun)\\n- 활린(Halreene)\\n- 엑스트럼(Extrum)\\n- 에어피트(Airfit)\\n- 런런(Lunrun)\\n- 더스프린트(The Sprint)\\n- 스웨그(Swag)\\n- 러너스(Runners)\\n- 모브(Move)\\n- 피트콤(Pittcom)\\n- 울트라프린(Ultra Run)\\n- 러브(Love)'"
      ]
     },
     "execution_count": 16,
     "metadata": {},
     "output_type": "execute_result"
    }
   ],
   "source": [
    "text = '운동화를 만드는 회사의 좋은 이름은 무엇일까요?'\n",
    "llm.predict(text)"
   ]
  },
  {
   "cell_type": "code",
   "execution_count": null,
   "metadata": {
    "colab": {
     "base_uri": "https://localhost:8080/"
    },
    "executionInfo": {
     "elapsed": 2355,
     "status": "ok",
     "timestamp": 1731599580467,
     "user": {
      "displayName": "김동영",
      "userId": "03879650360572713973"
     },
     "user_tz": -540
    },
    "id": "MFzCz0i4WimI",
    "outputId": "b607a7ac-b00f-49e6-b42e-fe5596a8c5ac"
   },
   "outputs": [
    {
     "data": {
      "text/plain": [
       "AIMessage(content=\"\\n\\n오! 저는 이런 이름을 제안해볼 수 있어요.\\n1. 스텝워커 (Step Walker)\\n2. 런너스코프 (Runner'scope)\\n3. 운동신발러 (Sneaker Lab)\\n4. 플릿 (Fleet)\\n5. 발걸음 (Footstep)\\n6. 러브피트 (Love Fit)\\n7. 스트라이드 (Stride)\\n8. 무빙풋 (Moving Foot)\\n9. 워크메이트 (Workmate)\\n10. 액티브풋 (Active Foot)\", additional_kwargs={}, response_metadata={})"
      ]
     },
     "execution_count": 21,
     "metadata": {},
     "output_type": "execute_result"
    }
   ],
   "source": [
    "messages = [HumanMessage(content=text)]\n",
    "llm.predict_messages(messages)"
   ]
  },
  {
   "cell_type": "code",
   "execution_count": null,
   "metadata": {
    "colab": {
     "base_uri": "https://localhost:8080/",
     "height": 35
    },
    "executionInfo": {
     "elapsed": 2086,
     "status": "ok",
     "timestamp": 1731599082794,
     "user": {
      "displayName": "김동영",
      "userId": "03879650360572713973"
     },
     "user_tz": -540
    },
    "id": "A6NLVFOiWP7m",
    "outputId": "116b999f-b316-486f-9532-d94588730b0f"
   },
   "outputs": [
    {
     "data": {
      "application/vnd.google.colaboratory.intrinsic+json": {
       "type": "string"
      },
      "text/plain": [
       "'1. 피트스마트\\n2. 스포츠테크\\n3. 런앤핏\\n4. 에너지킥\\n5. 피트글로우\\n6. 엑티브토닝\\n7. 퍼포먼스피트\\n8. 스트라이드테크\\n9. 파워모션\\n10. 피트클라우드'"
      ]
     },
     "execution_count": 15,
     "metadata": {},
     "output_type": "execute_result"
    }
   ],
   "source": [
    "chat_model.predict(text)"
   ]
  },
  {
   "cell_type": "code",
   "execution_count": null,
   "metadata": {
    "colab": {
     "base_uri": "https://localhost:8080/"
    },
    "executionInfo": {
     "elapsed": 2656,
     "status": "ok",
     "timestamp": 1731599618507,
     "user": {
      "displayName": "김동영",
      "userId": "03879650360572713973"
     },
     "user_tz": -540
    },
    "id": "O15V2UH5WtP6",
    "outputId": "ae7eecbc-82b1-478f-e8e3-986e2c3f0b5a"
   },
   "outputs": [
    {
     "data": {
      "text/plain": [
       "AIMessage(content='1. 스포츠웨어킹\\n2. 피트네스플로우\\n3. 신발소닉\\n4. 런더스웨어\\n5. 운동화월드\\n6. 필라운더\\n7. 트레이닝힐\\n8. 토탈피트웨어\\n9. 운동신발라이즈\\n10. 스포츠피트웨어', additional_kwargs={}, response_metadata={'token_usage': {'completion_tokens': 128, 'prompt_tokens': 31, 'total_tokens': 159, 'completion_tokens_details': {'accepted_prediction_tokens': 0, 'audio_tokens': 0, 'reasoning_tokens': 0, 'rejected_prediction_tokens': 0}, 'prompt_tokens_details': {'audio_tokens': 0, 'cached_tokens': 0}}, 'model_name': 'gpt-3.5-turbo', 'system_fingerprint': None, 'finish_reason': 'stop', 'logprobs': None}, id='run-f4933f88-afae-4be9-81b9-28f31472785e-0')"
      ]
     },
     "execution_count": 22,
     "metadata": {},
     "output_type": "execute_result"
    }
   ],
   "source": [
    "messages = [HumanMessage(content=text)]\n",
    "chat_model.predict_messages(messages)"
   ]
  },
  {
   "cell_type": "markdown",
   "metadata": {
    "id": "13zWCpQsZHm_"
   },
   "source": [
    "Prompt templates"
   ]
  },
  {
   "cell_type": "code",
   "execution_count": null,
   "metadata": {
    "id": "eoeGZmRHZGMP"
   },
   "outputs": [],
   "source": [
    "templates = '당신은 도움이 되는 조수입니다. {}'\n",
    "human_templates = '{text}'\n",
    "\n",
    "chat_prompt = ChatPromptTemplate.from_messages([\n",
    "    ('system', templates),\n",
    "    ('human', human_templates)\n",
    "])\n",
    "\n",
    "chat_prompt.format_messages()"
   ]
  },
  {
   "cell_type": "code",
   "execution_count": null,
   "metadata": {
    "colab": {
     "base_uri": "https://localhost:8080/"
    },
    "executionInfo": {
     "elapsed": 298,
     "status": "ok",
     "timestamp": 1731600386366,
     "user": {
      "displayName": "김동영",
      "userId": "03879650360572713973"
     },
     "user_tz": -540
    },
    "id": "QiF_f7F-aelD",
    "outputId": "979595d3-6860-44fe-ae2b-c138bf705c54"
   },
   "outputs": [
    {
     "data": {
      "text/plain": [
       "[SystemMessage(content='이 시스템은 천문학 질문에 답변할 수 있습니다.', additional_kwargs={}, response_metadata={}),\n",
       " HumanMessage(content='태양계에서 가장 큰 행성은 무엇인가요?', additional_kwargs={}, response_metadata={})]"
      ]
     },
     "execution_count": 28,
     "metadata": {},
     "output_type": "execute_result"
    }
   ],
   "source": [
    "chat_prompt = ChatPromptTemplate.from_messages([\n",
    "    (\"system\", \"이 시스템은 천문학 질문에 답변할 수 있습니다.\"),\n",
    "    (\"user\", \"{user_input}\"),\n",
    "])\n",
    "\n",
    "messages = chat_prompt.format_messages(user_input=\"태양계에서 가장 큰 행성은 무엇인가요?\")\n",
    "messages"
   ]
  },
  {
   "cell_type": "markdown",
   "metadata": {
    "id": "skEbRKFPbpfy"
   },
   "source": [
    "chat_prompt, llm, StrOutputParser()를 순차적인 파이프라인으로 연결하여 구성된 chain을 사용합니다. invoke 메소드를 호출하면 사용자 입력을 받아 언어 모델에 전달하고, 모델의 응답을 처리하여 최종 문자열 결과를 반환하는 과정을 자동화하여 수행합니다."
   ]
  },
  {
   "cell_type": "code",
   "execution_count": null,
   "metadata": {
    "id": "5h3TIta4b2oN"
   },
   "outputs": [],
   "source": [
    "llm = ChatOpenAI(model=\"gpt-4o-mini\", openai_api_key=\"sk-UIK5UUXPG74a_UjaXnE7EZ3U6Mp-wpjwaw5_EjRpOcT3BlbkFJWibGEhdh28Rf-2tOwWyRxvXwpnuDuPo6cYF0ze_IkA\")"
   ]
  },
  {
   "cell_type": "code",
   "execution_count": null,
   "metadata": {
    "colab": {
     "base_uri": "https://localhost:8080/"
    },
    "executionInfo": {
     "elapsed": 7397,
     "status": "ok",
     "timestamp": 1731600735874,
     "user": {
      "displayName": "김동영",
      "userId": "03879650360572713973"
     },
     "user_tz": -540
    },
    "id": "ULF6dRKobjDU",
    "outputId": "27d81515-23ec-4568-e579-95ffe4002389"
   },
   "outputs": [
    {
     "name": "stdout",
     "output_type": "stream",
     "text": [
      "질문을 입력하세요: 태양계에서 가장 큰 행성은 무엇인가요?\n"
     ]
    }
   ],
   "source": [
    "chain = chat_prompt | llm | StrOutputParser()\n",
    "\n",
    "# 사용자로부터 입력 받기\n",
    "user_input = input(\"질문을 입력하세요: \")\n",
    "\n",
    "# chain.invoke 메서드 호출\n",
    "response = chain.invoke({\"user_input\": user_input})\n",
    "\n",
    "# 답변 생성\n",
    "print(response)"
   ]
  },
  {
   "cell_type": "markdown",
   "metadata": {
    "id": "e9W-13k_fOO5"
   },
   "source": [
    "## 채팅 모델에서 Few-shot 예제 사용하기"
   ]
  },
  {
   "cell_type": "markdown",
   "metadata": {
    "id": "X9UoR2cjfzlc"
   },
   "source": [
    "Few-shot 학습은 언어 모델에 몇 가지 예시를 제공하여 특정 작업을 수행하도록 유도하는 기법입니다. 이 방법은 모델의 성능을 크게 향상시킬 수 있습니다."
   ]
  },
  {
   "cell_type": "code",
   "execution_count": 4,
   "metadata": {
    "colab": {
     "base_uri": "https://localhost:8080/"
    },
    "executionInfo": {
     "elapsed": 4,
     "status": "ok",
     "timestamp": 1731900850067,
     "user": {
      "displayName": "김동영",
      "userId": "03879650360572713973"
     },
     "user_tz": -540
    },
    "id": "OQN7cWOYU_jr",
    "outputId": "7d657157-3ca8-4b16-da11-a5a49dec9887"
   },
   "outputs": [
    {
     "name": "stdout",
     "output_type": "stream",
     "text": [
      "1.54.4\n"
     ]
    }
   ],
   "source": [
    "print(openai.__version__)"
   ]
  },
  {
   "cell_type": "code",
   "execution_count": null,
   "metadata": {
    "colab": {
     "base_uri": "https://localhost:8080/"
    },
    "executionInfo": {
     "elapsed": 4993,
     "status": "ok",
     "timestamp": 1731900903969,
     "user": {
      "displayName": "김동영",
      "userId": "03879650360572713973"
     },
     "user_tz": -540
    },
    "id": "f40QGbcNfOAg",
    "outputId": "8c67867c-7c9d-471b-b85b-63366b44c0dd"
   },
   "outputs": [],
   "source": [
    "# 예제 정의\n",
    "additional_examples = [\n",
    "    {\"input\": \"매콤한 볶음밥이 먹고 싶어.\",\n",
    "     \"output\": \"김치 볶음밥을 추천드립니다. \\\n",
    "     요리재료: 밥 2공기, 잘 익은 김치 1컵, 돼지고기 또는 햄 100g, 대파 1대, 고춧가루 1큰술, 간장 1큰술, 식용유, 후추. \\\n",
    "     요리방법: 1. 팬에 식용유를 두르고 중불로 올립니다. 2. 대파를 송송 썰어 넣고 볶아 향을 내줍니다. 3. 돼지고기 또는 햄을 넣고 익을 때까지 볶습니다. 4. 잘 익은 김치를 넣고 함께 볶아줍니다. 5. 밥을 넣고 고루 섞어가며 볶습니다. 6. 고춧가루와 간장을 넣고 간을 맞춘 후, 후추로 마무리합니다. 7. 잘 섞은 후, 접시에 담아 맛있게 즐기세요!\"},\n",
    "\n",
    "    {\"input\": \"상큼한 음료가 필요해.\",\n",
    "     \"output\": \"레몬 에이드를 추천드립니다. \\\n",
    "     요리재료: 레몬 2개, 설탕 1/2컵, 물 4컵, 얼음, 민트 잎 (선택). \\\n",
    "     요리방법: 1. 레몬을 반으로 잘라 즙을 짭니다. 2. 큰 볼에 레몬즙과 설탕을 넣고 잘 섞어 설탕이 녹도록 합니다. 3. 물을 추가하고 잘 저어줍니다. 4. 컵에 얼음을 넣고 레몬 에이드를 부어줍니다. 5. 원한다면 민트 잎으로 장식하여 시원하게 즐기세요!\"},\n",
    "\n",
    "    {\"input\": \"영양가 있는 샐러드를 만들고 싶어.\",\n",
    "     \"output\": \"퀴노아 샐러드를 추천드립니다. \\\n",
    "     요리재료: 퀴노아 1컵, 오이 1개, 방울토마토 10개, 아보카도 1개, 레몬즙 2큰술, 올리브유 2큰술, 소금, 후추. \\\n",
    "     요리방법: 1. 퀴노아를 물에 씻고, 물 2컵과 함께 끓입니다. 끓기 시작하면 불을 줄이고 15분간 익힙니다. 2. 오이, 방울토마토, 아보카도를 잘 썰어줍니다. 3. 익힌 퀴노아를 식힌 후, 모든 재료를 큰 볼에 넣습니다. 4. 레몬즙, 올리브유, 소금, 후추로 드레싱을 만들어 뿌리고 잘 섞어줍니다. 5. 접시에 담아 신선하게 즐기세요!\"},\n",
    "\n",
    "    {\"input\": \"간단한 아침식사가 필요해.\",\n",
    "     \"output\": \"계란 토스트를 추천드립니다. \\\n",
    "     요리재료: 식빵 2장, 계란 2개, 우유 2큰술, 소금, 후추, 버터. \\\n",
    "     요리방법: 1. 볼에 계란, 우유, 소금, 후추를 넣고 잘 섞습니다. 2. 팬에 버터를 녹이고, 식빵을 한쪽 면만 살짝 구워줍니다. 3. 구운 면 위에 계란 혼합물을 붓고, 다른 식빵으로 덮습니다. 4. 양면이 노릇하게 익을 때까지 굽습니다. 5. 잘라서 접시에 담아 맛있게 즐기세요!\"},\n",
    "\n",
    "    {\"input\": \"밥 요리 중에서 매콤한 음식이 땡기네. 거기에 해산물이 들어간 음식이면 더 좋겠어.\",\n",
    "     \"output\": \"해물 볶음밥을 추천드립니다. \\\n",
    "    요리재료: 밥 2공기, 새우 100g, 오징어 100g, 조개 100g, 대파 1대, 고춧가루 1큰술, 간장 1큰술, 식용유, 후추, 참기름. \\\n",
    "    요리방법: 1. 팬에 식용유를 두르고 중불로 올립니다. 2. 대파를 송송 썰어 넣고 볶아 향을 내줍니다. 3. 해물을 넣고 익을 때까지 볶습니다. 4. 밥을 넣고 고루 섞어가며 볶습니다. 5. 고춧가루와 간장을 넣고 간을 맞춘 후, 후추로 마무리합니다. 6. 마지막에 참기름을 넣고 잘 섞은 후, 접시에 담아 맛있게 즐기세요!\"},\n",
    "\n",
    "    {\"input\": \"매운 음식이 너무 먹고싶어. 기왕이면 해산물이 들어간 음식은 아니였으면 좋겠어.\", \"output\": \"매운 닭고기 볶음밥을 추천드립니다. \\\n",
    "    요리재료: 밥 2공기, 닭가슴살 150g, 대파 1대, 고추장 1큰술, 고춧가루 1큰술, 간장 1큰술, 식용유, 후추. \\\n",
    "    요리방법: 1. 팬에 식용유를 두르고 중불로 올립니다. 2. 대파를 송송 썰어 넣고 볶아 향을 내줍니다. 3. 닭가슴살을 넣고 익을 때까지 볶습니다. 4. 밥을 넣고 고루 섞어가며 볶습니다. 5. 고추장, 고춧가루, 간장을 넣고 간을 맞춘 후, 후추로 마무리합니다. 6. 잘 섞은 후, 접시에 담아 맛있게 즐기세요!\"},\n",
    "\n",
    "    {\"input\": \"달콤한 디저트가 먹고 싶어.\", \"output\": \"초코칩 쿠키를 추천드립니다. \\\n",
    "    요리재료: 밀가루 1컵, 설탕 1/2컵, 버터 1/2컵, 달걀 1개, 소금 1/4작은술, 베이킹소다 1/2작은술, 초코칩 1컵. \\\n",
    "    요리방법: 1. 버터를 녹여 설탕과 섞어 부드럽게 합니다. 2. 달걀을 넣고 섞어줍니다. 3. 밀가루, 소금, 베이킹소다를 섞어 넣고 반죽합니다. 4. 초코칩을 넣고 잘 섞어 쿠키 모양으로 만들어 오븐에 구웁니다. 5. 구워진 쿠키를 꺼내 식힌 후, 맛있게 즐기세요!\"},\n",
    "    \n",
    "    {\"input\": \"야식으로 먹기에 좋은 간식을 만들어먹고 싶어. 참고로 나는 땅콩 알러지가 있어.\", \"output\": \"치즈볼을 추천드립니다. \\\n",
    "    요리재료: 모짜렐라 치즈 200g, 밀가루 1컵, 빵가루 1컵, 달걀 1개, 소금 1/2작은술, 후추 약간, 식용유 (튀김용). \\\n",
    "    요리방법: 1. 모짜렐라 치즈를 작은 공 모양으로 만듭니다. 2. 밀가루, 소금, 후추를 섞어 준비합니다. 3. 치즈볼을 밀가루에 굴린 후, 달걀에 담갔다가 빵가루에 굴립니다. 4. 팬에 식용유를 넉넉히 두르고 중불에서 치즈볼을 노릇하게 튀깁니다. 5. 튀겨진 치즈볼을 꺼내 기름을 빼고, 뜨겁게 즐기세요!\"},\n",
    "    \n",
    "    {\"input\": \"튀김요리는 건강해 좋지 않으니까 튀김 음식을 빼고 추천해줘\", \"output\": \"그렇다면 구운 고구마를 추천드립니다. \\\n",
    "    요리재료: 고구마 2~3개, 올리브 오일, 소금, 후추 (선택 사항) \\\n",
    "    조리 방법: 고구마를 깨끗이 씻고 껍질을 벗기지 않은 채로 적당한 크기로 자릅니다. 오븐을 200도로 예열합니다. 자른 고구마에 올리브 오일을 살짝 뿌리고, 소금과 후추로 간을 합니다. 오븐에 고구마를 넣고 25~30분 정도 구워줍니다. 중간에 한 번 뒤집어 주면 더욱 고르게 익습니다. 겉은 바삭하고 속은 부드러운 구운 고구마를 즐기세요! 고구마는 영양가가 높고, 간식으로 먹기에 좋습니다.\"}\n",
    "    \n",
    "]\n",
    "\n",
    "\n",
    "# 예제 프롬프트 템플릿 정의\n",
    "example_prompt = ChatPromptTemplate.from_messages(\n",
    "    [\n",
    "        (\"human\", \"{input}\"),\n",
    "        (\"ai\", \"{output}\"),\n",
    "    ]\n",
    ")\n",
    "\n",
    "# Few-shot 프롬프트 템플릿 생성\n",
    "few_shot_prompt = FewShotChatMessagePromptTemplate(\n",
    "    example_prompt=example_prompt,  # 예제 프롬프트로 위에서 정의한 예제 프롬프트를 사용\n",
    "    examples=additional_examples,  # 추가 예제로 위에서 정의한 예제들을 사용\n",
    ")\n",
    "\n",
    "# 최종 프롬프트 템플릿 생성\n",
    "final_prompt = ChatPromptTemplate.from_messages(\n",
    "    [\n",
    "        (\"system\", \"당신은 음식에 대한 깊은 지식과 풍부한 경험을 가진 요리 전문가입니다. \\\n",
    "        다양한 요리 기법, 재료의 특성, 조리법, 그리고 음식의 역사와 문화적 배경에 대해 잘 알고 있습니다. \\\n",
    "        사용자가 질문하는 내용에 대해 친절하고 상세하게 답변하며, 요리 팁, 레시피, 영양 정보, 그리고 음식과 관련된 다양한 주제에 대해 심도 있는 정보를 제공합니다. \\\n",
    "        사용자의 요구에 맞춰 맞춤형 조언을 제공하고, 요리에 대한 열정을 나누는 데 최선을 다합니다. \\\n",
    "        특히, 사용자의 개인적인 음식 취향을 깊이 이해하고 반영할 수 있는 능력을 갖추고 있습니다. \\\n",
    "        사용자가 싫어하는 재료, 알레르기, 선호하는 음식 스타일 등을 고려하여 최적의 레시피와 조리법을 제안합니다. \\\n",
    "        그리고 사용자가 요리를 할 때 필요한 도구, 장비, 식재료 구매처에 대한  정보도 제공합니다. \\\n",
    "        이러한 맞춤형 접근을 통해 사용자가 더욱 즐겁고 만족스러운 요리 경험을 할 수 있도록 돕습니다.\"),\n",
    "        few_shot_prompt,    # Few-shot 프롬프트로 위에서 정의한 few_shot_prompt 프롬프트를 사용\n",
    "        (\"human\", \"{input}\"),\n",
    "    ]\n",
    ")\n",
    "\n",
    "model = ChatOpenAI(model=\"gpt-4o-2024-08-06\", openai_api_key=\".\",temperature=0.5)\n",
    "chain = final_prompt | model\n",
    "\n",
    "# # 모델에 질문하기\n",
    "# result = chain.invoke({\"input\": \"따뜻한 국물 음식을 먹고싶은데 어떤 게 있을까?\"})\n",
    "# print(result.content)"
   ]
  },
  {
   "cell_type": "code",
   "execution_count": null,
   "metadata": {
    "colab": {
     "base_uri": "https://localhost:8080/",
     "height": 1000
    },
    "executionInfo": {
     "elapsed": 114604,
     "status": "error",
     "timestamp": 1731603778976,
     "user": {
      "displayName": "김동영",
      "userId": "03879650360572713973"
     },
     "user_tz": -540
    },
    "id": "5CF3Qcd0kXu4",
    "outputId": "a4fb8435-7573-40e0-af94-0260374dd006"
   },
   "outputs": [
    {
     "name": "stdout",
     "output_type": "stream",
     "text": [
      "해산물을 제외한 따뜻한 국물 음식으로 닭고기 우거지탕을 추천드립니다. 이 요리는 깊고 진한 맛을 제공하며, 영양가도 높습니다.\n",
      "\n",
      "요리재료:\n",
      "- 닭고기 (닭다리나 닭가슴살) 300g\n",
      "- 우거지 (시래기) 200g\n",
      "- 대파 1대\n",
      "- 마늘 3쪽\n",
      "- 고춧가루 1큰술\n",
      "- 된장 1큰술\n",
      "- 간장 1큰술\n",
      "- 소금, 후추\n",
      "- 참기름\n",
      "\n",
      "요리방법:\n",
      "1. 닭고기를 깨끗이 씻어 끓는 물에 살짝 데쳐 불순물을 제거합니다.\n",
      "2. 냄비에 물을 붓고 데친 닭고기를 넣어 중불에서 끓입니다.\n",
      "3. 닭고기가 익으면 꺼내어 식힌 후, 먹기 좋은 크기로 찢어줍니다.\n",
      "4. 우거지를 깨끗이 씻어 물기를 제거한 후, 먹기 좋은 크기로 자릅니다.\n",
      "5. 냄비에 참기름을 두르고 다진 마늘과 대파를 넣어 볶아 향을 냅니다.\n",
      "6. 고춧가루를 넣고 살짝 볶다가, 찢어놓은 닭고기와 우거지를 넣고 함께 볶습니다.\n",
      "7. 물을 추가하고 된장과 간장을 넣어 간을 맞춘 후, 중약불에서 20분 정도 끓입니다.\n",
      "8. 소금과 후추로 간을 맞추고 한 번 더 끓인 후, 그릇에 담아 따뜻하게 즐기세요!\n",
      "\n",
      "이 요리는 몸을 따뜻하게 해주고, 깊은 맛이 일품입니다.\n",
      "닭고기가 들어가지 않은 국물 요리로는 해물 순두부찌개를 추천드립니다. 이 찌개는 부드러운 순두부와 다양한 해산물이 어우러져 깊고 풍부한 맛을 자랑합니다.\n",
      "\n",
      "**해물 순두부찌개 레시피:**\n",
      "\n",
      "**재료:**\n",
      "- 순두부 1팩\n",
      "- 새우 100g\n",
      "- 바지락 100g\n",
      "- 오징어 50g (자른 것)\n",
      "- 양파 1/2개\n",
      "- 애호박 1/4개\n",
      "- 대파 1대\n",
      "- 다진 마늘 1큰술\n",
      "- 고춧가루 1큰술\n",
      "- 간장 1큰술\n",
      "- 참기름 1큰술\n",
      "- 물 2컵\n",
      "- 소금, 후추\n",
      "\n",
      "**조리방법:**\n",
      "1. 냄비에 참기름을 두르고 중불로 올립니다. 다진 마늘과 고춧가루를 넣고 볶아 향을 내줍니다.\n",
      "2. 양파와 애호박을 얇게 썰어 냄비에 넣고 함께 볶습니다.\n",
      "3. 해산물(새우, 바지락, 오징어)을 넣고 살짝 익을 때까지 볶습니다.\n",
      "4. 물을 붓고 끓여줍니다.\n",
      "5. 끓기 시작하면 순두부를 숟가락으로 떠서 넣고 간장으로 간을 맞춥니다.\n",
      "6. 대파를 송송 썰어 넣고 소금과 후추로 마무리합니다.\n",
      "7. 한소끔 더 끓인 후, 그릇에 담아 맛있게 즐기세요!\n",
      "\n",
      "이 찌개는 밥과 함께 먹으면 더욱 맛있습니다. 매콤하고 따뜻한 국물 요리를 원하신다면 해물 순두부찌개가 좋은 선택이 될 것입니다.\n",
      "그렇다면 소고기 무국을 추천드립니다. 이 국물 요리는 담백하고 깊은 맛이 있어 아침이나 점심에 잘 어울립니다.\n",
      "\n",
      "**요리재료:**\n",
      "- 소고기(양지머리 또는 사태) 200g\n",
      "- 무 1/3개\n",
      "- 대파 1대\n",
      "- 마늘 2쪽\n",
      "- 국간장 1큰술\n",
      "- 소금\n",
      "- 후추\n",
      "- 물 6컵\n",
      "- 참기름 1큰술\n",
      "\n",
      "**요리방법:**\n",
      "1. 소고기는 먹기 좋은 크기로 썰고, 무는 두께 1cm 정도로 나박썰기 합니다.\n",
      "2. 대파는 어슷썰고, 마늘은 다져줍니다.\n",
      "3. 냄비에 참기름을 두르고 중불로 올린 후, 소고기를 넣고 볶아줍니다.\n",
      "4. 소고기가 반쯤 익으면 무를 넣고 함께 볶습니다.\n",
      "5. 물을 붓고 끓기 시작하면 불을 줄여 20~30분 정도 끓입니다.\n",
      "6. 국간장, 소금, 후추로 간을 맞춥니다.\n",
      "7. 마지막으로 대파와 마늘을 넣고 한소끔 더 끓여줍니다.\n",
      "8. 그릇에 담아 따뜻하게 즐기세요!\n",
      "\n",
      "이렇게 만든 소고기 무국은 깊은 맛과 함께 속을 편안하게 해 줄 것입니다.\n",
      "디저트에 대해 더 궁금한 점이 있으신가요? 아니면 다른 요리에 대한 정보가 필요하신가요? 언제든지 알려주세요!\n",
      "프로그램을 종료합니다.\n"
     ]
    }
   ],
   "source": [
    "# # 사용자 입력을 반복적으로 받기 위한 루프\n",
    "# while True:\n",
    "#     user_input = input(\"질문을 입력하세요 (종료하려면 '종료' 입력): \")\n",
    "#     if user_input.lower() == 'exit':\n",
    "#         print(\"프로그램을 종료합니다.\")\n",
    "#         break\n",
    "#     result = chain.invoke({\"input\": user_input})\n",
    "#     print(result.content)"
   ]
  },
  {
   "cell_type": "code",
   "execution_count": 8,
   "metadata": {
    "colab": {
     "base_uri": "https://localhost:8080/"
    },
    "executionInfo": {
     "elapsed": 39525,
     "status": "ok",
     "timestamp": 1731604193430,
     "user": {
      "displayName": "김동영",
      "userId": "03879650360572713973"
     },
     "user_tz": -540
    },
    "id": "dfJUk1sEpb8C",
    "outputId": "53f0856f-7b17-438b-d4b3-2c8a45ad9759"
   },
   "outputs": [
    {
     "name": "stdout",
     "output_type": "stream",
     "text": [
      "야식으로 간편하면서도 건강하게 즐길 수 있는 간식으로는 과일 요거트 파르페를 추천드립니다. \n",
      "\n",
      "요리재료: 그릭 요거트 1컵, 좋아하는 과일 (예: 딸기, 바나나, 블루베리 등) 1컵, 그래놀라 1/2컵, 꿀 또는 메이플 시럽 (선택 사항).\n",
      "\n",
      "조리 방법:\n",
      "1. 컵이나 작은 유리잔에 그릭 요거트를 한 스푼 넣습니다.\n",
      "2. 그 위에 잘게 썬 과일을 올려줍니다.\n",
      "3. 그래놀라를 과일 위에 뿌려줍니다.\n",
      "4. 이 과정을 반복하여 층층이 쌓아줍니다.\n",
      "5. 마지막으로 꿀이나 메이플 시럽을 뿌려 달콤함을 더해줍니다.\n",
      "\n",
      "이 파르페는 신선한 과일과 요거트, 그래놀라의 조합으로 영양가가 높고, 가볍게 즐기기에 좋은 야식입니다.\n",
      "그렇다면 과일 요거트 볼을 추천드립니다. 이 간식은 상큼하고 가벼우면서도 영양가가 높습니다.\n",
      "\n",
      "요리재료:\n",
      "- 플레인 요거트 1컵\n",
      "- 꿀 또는 메이플 시럽 1큰술\n",
      "- 좋아하는 과일 (예: 딸기, 블루베리, 바나나, 키위 등) 적당량\n",
      "- 그래놀라 1/4컵\n",
      "- 견과류 (선택 사항, 땅콩 제외)\n",
      "\n",
      "조리 방법:\n",
      "1. 플레인 요거트에 꿀 또는 메이플 시럽을 넣고 잘 섞어줍니다.\n",
      "2. 컵이나 그릇에 요거트를 담습니다.\n",
      "3. 원하는 과일을 먹기 좋은 크기로 잘라 요거트 위에 올립니다.\n",
      "4. 그래놀라와 견과류를 뿌려줍니다.\n",
      "5. 모든 재료가 잘 어우러지도록 살짝 섞어준 후, 신선하게 즐기세요!\n",
      "\n",
      "이 간식은 당신이 좋아하는 과일과 재료를 자유롭게 조합할 수 있어, 매번 다른 맛을 즐길 수 있습니다.\n",
      "프로그램을 종료합니다.\n"
     ]
    }
   ],
   "source": [
    "# 대화 기록 파일 경로\n",
    "history_file = \"chat_history.json\"\n",
    "\n",
    "# 대화 기록을 불러오는 함수\n",
    "def load_chat_history():\n",
    "    if os.path.exists(history_file):\n",
    "        with open(history_file, \"r\", encoding=\"utf-8\") as file:\n",
    "            return json.load(file)\n",
    "    return []\n",
    "\n",
    "# 대화 기록을 저장하는 함수\n",
    "def save_chat_history(history):\n",
    "    with open(history_file, \"w\", encoding=\"utf-8\") as file:\n",
    "        json.dump(history, file, ensure_ascii=False, indent=4)      # 대화 기록 파일 경로\n",
    "\n",
    "# 대화 기록 초기화\n",
    "chat_history = load_chat_history()\n",
    "\n",
    "# 사용자 입력을 반복적으로 받기 위한 루프\n",
    "while True:\n",
    "    user_input = input(\"질문을 입력하세요 (종료하려면 '종료' 입력): \")\n",
    "    if user_input.lower() == '종료':\n",
    "        print(\"프로그램을 종료합니다.\")\n",
    "        break\n",
    "\n",
    "    # 챗봇 응답 생성\n",
    "    result = chain.invoke({\"input\": user_input})\n",
    "    print(result.content)\n",
    "\n",
    "    # 대화 기록에 추가\n",
    "    chat_history.append({\"input\": user_input, \"output\": result.content})\n",
    "\n",
    "    # 대화 기록 저장\n",
    "    save_chat_history(chat_history)\n",
    "    "
   ]
  }
 ],
 "metadata": {
  "colab": {
   "collapsed_sections": [
    "Wxorri15VGSk"
   ],
   "provenance": []
  },
  "kernelspec": {
   "display_name": "Python 3",
   "name": "python3"
  },
  "language_info": {
   "codemirror_mode": {
    "name": "ipython",
    "version": 3
   },
   "file_extension": ".py",
   "mimetype": "text/x-python",
   "name": "python",
   "nbconvert_exporter": "python",
   "pygments_lexer": "ipython3",
   "version": "3.12.0"
  }
 },
 "nbformat": 4,
 "nbformat_minor": 0
}
