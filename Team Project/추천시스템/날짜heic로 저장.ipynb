{
 "cells": [
  {
   "cell_type": "markdown",
   "id": "d84a2f0e-cafb-4a00-94e6-303894a4b02c",
   "metadata": {},
   "source": [
    "- './images/'  # 원본 파일이 있는 디렉토리   IMG_8282.HEIC \n",
    "- './re_images_heic/'  # 새 파일을 저장할 디렉토리  2024-09-21.HEIC\n",
    "- './re_images_jpg/' # jpg 변환 2024-09-21.jpg\n"
   ]
  },
  {
   "cell_type": "markdown",
   "id": "110d3c80-1480-4864-91aa-1d9b4cf3aeaa",
   "metadata": {},
   "source": [
    "## 이미지를 날짜.heic로 다시 저장"
   ]
  },
  {
   "cell_type": "code",
   "execution_count": 67,
   "id": "c01c106a-da62-454d-a0b8-00ef597f7249",
   "metadata": {},
   "outputs": [
    {
     "name": "stdout",
     "output_type": "stream",
     "text": [
      "Creation date of IMG_8282.HEIC: 2024-09-21\n",
      "Copied and renamed: IMG_8282.HEIC -> 2024-09-21.HEIC\n",
      "Creation date of IMG_3006.HEIC: 2024-07-14\n",
      "Copied and renamed: IMG_3006.HEIC -> 2024-07-14.HEIC\n",
      "Creation date of IMG_7971.HEIC: 2024-09-08\n",
      "Copied and renamed: IMG_7971.HEIC -> 2024-09-08.HEIC\n",
      "Creation date of IMG_2111.HEIC: 2024-04-20\n",
      "Copied and renamed: IMG_2111.HEIC -> 2024-04-20.HEIC\n",
      "Creation date of IMG_9792.HEIC: 2024-10-26\n",
      "Copied and renamed: IMG_9792.HEIC -> 2024-10-26.HEIC\n"
     ]
    }
   ],
   "source": [
    "import os\n",
    "import subprocess\n",
    "import shutil\n",
    "\n",
    "def get_creation_date(file_path):\n",
    "    # mdls 명령어를 실행하여 파일의 메타데이터를 가져옵니다.\n",
    "    try:\n",
    "        mdls_output = subprocess.check_output(['mdls', file_path]).decode('utf-8')\n",
    "        \n",
    "        # 'kMDItemFSCreationDate' 항목을 찾아서 생성일을 추출합니다.\n",
    "        for line in mdls_output.splitlines():\n",
    "            if 'kMDItemFSCreationDate' in line:\n",
    "                # 'kMDItemFSCreationDate'는 'date' 형식으로 제공되므로 이를 추출합니다.\n",
    "                creation_date = line.split('=')[1].strip().strip('\"')\n",
    "                # 날짜만 추출 (예: '2024-07-14 10:20:36 +0000' -> '2024-07-14')\n",
    "                date_only = creation_date.split(' ')[0]\n",
    "                return date_only\n",
    "    except subprocess.CalledProcessError as e:\n",
    "        print(f\"Error reading metadata for {file_path}: {e}\")\n",
    "    return None\n",
    "\n",
    "def rename_files_in_directory(source_directory, target_directory):\n",
    "    # target_directory가 존재하지 않으면 생성\n",
    "    if not os.path.exists(target_directory):\n",
    "        os.makedirs(target_directory)\n",
    "    \n",
    "    for filename in os.listdir(source_directory):\n",
    "        if filename.lower().endswith('.heic'):  # HEIC 파일만 처리\n",
    "            file_path = os.path.join(source_directory, filename)\n",
    "            creation_date = get_creation_date(file_path)\n",
    "            \n",
    "            print(f\"Creation date of {filename}: {creation_date}\")  # 추가된 부분\n",
    "            \n",
    "            if creation_date:\n",
    "                # 날짜를 이용해 새로운 파일명 생성 (yyyy-mm-dd 형식)\n",
    "                new_filename = f\"{creation_date}.HEIC\"\n",
    "                new_file_path = os.path.join(target_directory, new_filename)\n",
    "                \n",
    "                try:\n",
    "                    # 원본 파일을 그대로 두고 날짜로 복사\n",
    "                    shutil.copy(file_path, new_file_path)\n",
    "                    print(f\"Copied and renamed: {filename} -> {new_filename}\")\n",
    "                except Exception as e:\n",
    "                    print(f\"Error renaming {filename}: {e}\")\n",
    "\n",
    "# 사용 예시\n",
    "source_directory = './images/'  # 원본 파일이 있는 디렉토리\n",
    "target_directory = './re_images_heic/'  # 새 파일을 저장할 디렉토리\n",
    "rename_files_in_directory(source_directory, target_directory)\n"
   ]
  },
  {
   "cell_type": "code",
   "execution_count": null,
   "id": "36236727-8445-4ba1-a9a9-0880072929b1",
   "metadata": {},
   "outputs": [],
   "source": []
  }
 ],
 "metadata": {
  "kernelspec": {
   "display_name": "Python 3 (ipykernel)",
   "language": "python",
   "name": "python3"
  },
  "language_info": {
   "codemirror_mode": {
    "name": "ipython",
    "version": 3
   },
   "file_extension": ".py",
   "mimetype": "text/x-python",
   "name": "python",
   "nbconvert_exporter": "python",
   "pygments_lexer": "ipython3",
   "version": "3.11.5"
  }
 },
 "nbformat": 4,
 "nbformat_minor": 5
}
